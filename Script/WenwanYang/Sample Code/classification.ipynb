{
 "metadata": {
  "name": "",
  "signature": "sha256:d776465b7ebaaf02681b717416a0d72d42955942084a93ce39bab7fe90795d30"
 },
 "nbformat": 3,
 "nbformat_minor": 0,
 "worksheets": [
  {
   "cells": [
    {
     "cell_type": "code",
     "collapsed": false,
     "input": [
      "import os\n",
      "from collections import Counter\n",
      "try:\n",
      "    import xml.etree.cElementTree as ET\n",
      "except ImportError:\n",
      "    import xml.etree.ElementTree as ET\n",
      "import numpy as np\n",
      "from scipy import sparse\n",
      "import util\n",
      "%matplotlib inline\n",
      "\n",
      "\n",
      "import pandas as pd\n",
      "import operator\n",
      "from collections import Counter\n",
      "import matplotlib.pyplot as plt\n",
      "from matplotlib import rcParams"
     ],
     "language": "python",
     "metadata": {},
     "outputs": [],
     "prompt_number": 1
    },
    {
     "cell_type": "code",
     "collapsed": false,
     "input": [
      "def extract_feats(ffs, direc=\"train\", global_feat_dict=None):\n",
      "    \"\"\"\n",
      "    arguments:\n",
      "      ffs are a list of feature-functions.\n",
      "      direc is a directory containing xml files (expected to be train or test).\n",
      "      global_feat_dict is a dictionary mapping feature_names to column-numbers; it\n",
      "      should only be provided when extracting features from test data, so that \n",
      "      the columns of the test matrix align correctly.\n",
      "\n",
      "    returns: \n",
      "      a sparse design matrix, a dict mapping features to column-numbers,\n",
      "      a vector of target classes, and a list of system-call-history ids in order \n",
      "      of their rows in the design matrix.\n",
      "      \n",
      "      Note: the vector of target classes returned will contain the true indices of the\n",
      "      target classes on the training data, but will contain only -1's on the test\n",
      "      data\n",
      "    \"\"\"\n",
      "    fds = [] # list of feature dicts\n",
      "    classes = []\n",
      "    ids = [] \n",
      "    for datafile in os.listdir(direc):\n",
      "        # extract id and true class (if available) from filename\n",
      "        if datafile=='.DS_Store':\n",
      "            continue\n",
      "        id_str,clazz = datafile.split('.')[:2]\n",
      "     \n",
      "        ids.append(id_str)\n",
      "        # add target class if this is training data\n",
      "        try:\n",
      "            classes.append(util.malware_classes.index(clazz))\n",
      "        except ValueError:\n",
      "            # we should only fail to find the label in our list of malware classes\n",
      "            # if this is test data, which always has an \"X\" label\n",
      "            assert clazz == \"X\"\n",
      "            classes.append(-1)\n",
      "        rowfd = {}\n",
      "        # parse file as an xml document\n",
      "        tree = ET.parse(os.path.join(direc,datafile))\n",
      "        # accumulate features\n",
      "        [rowfd.update(ff(tree)) for ff in ffs]\n",
      "        fds.append(rowfd)\n",
      "        \n",
      "    X,feat_dict = make_design_mat(fds,global_feat_dict)\n",
      "    return X, feat_dict, np.array(classes), ids"
     ],
     "language": "python",
     "metadata": {},
     "outputs": [],
     "prompt_number": 2
    },
    {
     "cell_type": "code",
     "collapsed": false,
     "input": [
      "def make_design_mat(fds, global_feat_dict=None):\n",
      "    \"\"\"\n",
      "    arguments:\n",
      "      fds is a list of feature dicts (one for each row).\n",
      "      global_feat_dict is a dictionary mapping feature_names to column-numbers; it\n",
      "      should only be provided when extracting features from test data, so that \n",
      "      the columns of the test matrix align correctly.\n",
      "       \n",
      "    returns: \n",
      "        a sparse NxD design matrix, where N == len(fds) and D is the number of\n",
      "        the union of features defined in any of the fds \n",
      "    \"\"\"\n",
      "    if global_feat_dict is None:\n",
      "        all_feats = set()\n",
      "        [all_feats.update(fd.keys()) for fd in fds]\n",
      "        feat_dict = dict([(feat, i) for i, feat in enumerate(sorted(all_feats))])\n",
      "    else:\n",
      "        feat_dict = global_feat_dict\n",
      "        \n",
      "    cols = []\n",
      "    rows = []\n",
      "    data = []        \n",
      "    for i in xrange(len(fds)):\n",
      "        temp_cols = []\n",
      "        temp_data = []\n",
      "        for feat,val in fds[i].iteritems():\n",
      "            try:\n",
      "                # update temp_cols iff update temp_data\n",
      "                temp_cols.append(feat_dict[feat])\n",
      "                temp_data.append(val)\n",
      "            except KeyError as ex:\n",
      "                if global_feat_dict is not None:\n",
      "                    pass  # new feature in test data; nbd\n",
      "                else:\n",
      "                    raise ex\n",
      "\n",
      "        # all fd's features in the same row\n",
      "        k = len(temp_cols)\n",
      "        cols.extend(temp_cols)\n",
      "        data.extend(temp_data)\n",
      "        rows.extend([i]*k)\n",
      "\n",
      "    assert len(cols) == len(rows) and len(rows) == len(data)\n",
      "   \n",
      "\n",
      "    X = sparse.csr_matrix((np.array(data),\n",
      "                   (np.array(rows), np.array(cols))),\n",
      "                   shape=(len(fds), len(feat_dict)))\n",
      "    return X, feat_dict"
     ],
     "language": "python",
     "metadata": {},
     "outputs": [],
     "prompt_number": 3
    },
    {
     "cell_type": "code",
     "collapsed": false,
     "input": [
      "## Here are two example feature-functions. They each take an xml.etree.ElementTree object, \n",
      "# (i.e., the result of parsing an xml file) and returns a dictionary mapping \n",
      "# feature-names to numeric values.\n",
      "## TODO: modify these functions, and/or add new ones.\n",
      "def first_last_system_call_feats(tree):\n",
      "    \"\"\"\n",
      "    arguments:\n",
      "      tree is an xml.etree.ElementTree object\n",
      "    returns:\n",
      "      a dictionary mapping 'first_call-x' to 1 if x was the first system call\n",
      "      made, and 'last_call-y' to 1 if y was the last system call made. \n",
      "      (in other words, it returns a dictionary indicating what the first and \n",
      "      last system calls made by an executable were.)\n",
      "    \"\"\"\n",
      "    c = Counter()\n",
      "    in_all_section = False\n",
      "    first = True # is this the first system call\n",
      "    last_call = None # keep track of last call we've seen\n",
      "    for el in tree.iter():\n",
      "        # ignore everything outside the \"all_section\" element\n",
      "        if el.tag == \"all_section\" and not in_all_section:\n",
      "            in_all_section = True\n",
      "        elif el.tag == \"all_section\" and in_all_section:\n",
      "            in_all_section = False\n",
      "        elif in_all_section:\n",
      "            if first:\n",
      "                c[\"first_call-\"+el.tag] = 1\n",
      "                first = False\n",
      "            last_call = el.tag  # update last call seen\n",
      "            \n",
      "    # finally, mark last call seen\n",
      "    c[\"last_call-\"+last_call] = 1\n",
      "    print c\n",
      "    return c"
     ],
     "language": "python",
     "metadata": {},
     "outputs": [],
     "prompt_number": 4
    },
    {
     "cell_type": "code",
     "collapsed": false,
     "input": [
      "def system_call_count_feats(tree):\n",
      "    \"\"\"\n",
      "    arguments:\n",
      "      tree is an xml.etree.ElementTree object\n",
      "    returns:\n",
      "      a dictionary mapping 'num_system_calls' to the number of system_calls\n",
      "      made by an executable (summed over all processes)\n",
      "    \"\"\"\n",
      "    c = Counter()\n",
      "    in_all_section = False\n",
      "    for el in tree.iter():\n",
      "        # ignore everything outside the \"all_section\" element\n",
      "        if el.tag == \"all_section\" and not in_all_section:\n",
      "            in_all_section = True\n",
      "        elif el.tag == \"all_section\" and in_all_section:\n",
      "            in_all_section = False\n",
      "        elif in_all_section:\n",
      "            c['num_system_calls'] += 1\n",
      "    return c"
     ],
     "language": "python",
     "metadata": {},
     "outputs": [],
     "prompt_number": 5
    },
    {
     "cell_type": "code",
     "collapsed": false,
     "input": [
      "train_dir = \"train\"\n",
      "ffs = [first_last_system_call_feats, system_call_count_feats]\n",
      "X_train, global_feat_dict, t_train, train_ids = extract_feats(ffs, train_dir)\n"
     ],
     "language": "python",
     "metadata": {},
     "outputs": [
      {
       "output_type": "stream",
       "stream": "stdout",
       "text": [
        "Counter({'first_call-load_image': 1, 'last_call-thread': 1})\n",
        "Counter({'first_call-load_image': 1, 'last_call-sleep': 1})"
       ]
      },
      {
       "output_type": "stream",
       "stream": "stdout",
       "text": [
        "\n",
        "Counter({'first_call-load_image': 1, 'last_call-enum_window': 1})\n",
        "Counter({'first_call-load_image': 1, 'last_call-thread': 1})"
       ]
      },
      {
       "output_type": "stream",
       "stream": "stdout",
       "text": [
        "\n",
        "Counter({'first_call-load_image': 1, 'last_call-load_dll': 1})\n",
        "Counter({'first_call-load_image': 1, 'last_call-get_file_attributes': 1})\n",
        "Counter({'first_call-load_image': 1, 'last_call-kill_process': 1})\n",
        "Counter({'first_call-load_image': 1, 'last_call-thread': 1})\n",
        "Counter({'first_call-load_image': 1, 'last_call-kill_process': 1})"
       ]
      },
      {
       "output_type": "stream",
       "stream": "stdout",
       "text": [
        "\n",
        "Counter({'first_call-load_image': 1, 'last_call-kill_process': 1})\n",
        "Counter({'first_call-load_image': 1, 'last_call-kill_process': 1})\n",
        "Counter({'first_call-load_image': 1, 'last_call-kill_process': 1})\n",
        "Counter({'first_call-load_image': 1, 'last_call-enum_window': 1})\n",
        "Counter({'first_call-load_image': 1, 'last_call-thread': 1})"
       ]
      },
      {
       "output_type": "stream",
       "stream": "stdout",
       "text": [
        "\n",
        "Counter({'first_call-load_image': 1, 'last_call-thread': 1})\n",
        "Counter({'first_call-load_image': 1, 'last_call-kill_process': 1})"
       ]
      },
      {
       "output_type": "stream",
       "stream": "stdout",
       "text": [
        "\n",
        "Counter({'first_call-load_image': 1, 'last_call-kill_process': 1})\n",
        "Counter({'first_call-load_image': 1, 'last_call-thread': 1})\n",
        "Counter({'first_call-load_image': 1, 'last_call-kill_process': 1})\n",
        "Counter({'first_call-load_image': 1, 'last_call-process': 1})\n",
        "Counter({'first_call-load_image': 1, 'last_call-enum_window': 1})"
       ]
      },
      {
       "output_type": "stream",
       "stream": "stdout",
       "text": [
        "\n",
        "Counter({'first_call-load_image': 1, 'last_call-enum_window': 1})\n",
        "Counter({'first_call-load_image': 1, 'last_call-thread': 1})\n",
        "Counter({'first_call-load_image': 1, 'last_call-kill_process': 1})"
       ]
      },
      {
       "output_type": "stream",
       "stream": "stdout",
       "text": [
        "\n",
        "Counter({'first_call-load_image': 1, 'last_call-thread': 1})\n",
        "Counter({'first_call-load_image': 1, 'last_call-load_dll': 1})\n",
        "Counter({'first_call-load_image': 1, 'last_call-kill_process': 1})\n",
        "Counter({'first_call-load_image': 1, 'last_call-kill_process': 1})\n",
        "Counter({'first_call-load_image': 1, 'last_call-thread': 1})"
       ]
      },
      {
       "output_type": "stream",
       "stream": "stdout",
       "text": [
        "\n",
        "Counter({'first_call-load_image': 1, 'last_call-thread': 1})\n",
        "Counter({'first_call-load_image': 1, 'last_call-kill_process': 1})"
       ]
      },
      {
       "output_type": "stream",
       "stream": "stdout",
       "text": [
        "\n",
        "Counter({'last_call-create_window': 1, 'first_call-load_image': 1})\n",
        "Counter({'first_call-load_image': 1, 'last_call-thread': 1})"
       ]
      },
      {
       "output_type": "stream",
       "stream": "stdout",
       "text": [
        "\n",
        "Counter({'first_call-load_image': 1, 'last_call-thread': 1})\n",
        "Counter({'first_call-load_image': 1, 'last_call-enum_window': 1})\n",
        "Counter({'first_call-load_image': 1, 'last_call-enum_window': 1})\n",
        "Counter({'first_call-load_image': 1, 'last_call-load_dll': 1})\n",
        "Counter({'first_call-load_image': 1, 'last_call-kill_process': 1})\n",
        "Counter({'first_call-load_image': 1, 'last_call-enum_window': 1})\n",
        "Counter({'first_call-load_image': 1, 'last_call-kill_process': 1})\n",
        "Counter({'first_call-load_image': 1, 'last_call-thread': 1})"
       ]
      },
      {
       "output_type": "stream",
       "stream": "stdout",
       "text": [
        "\n",
        "Counter({'first_call-load_image': 1, 'last_call-kill_process': 1})\n",
        "Counter({'first_call-load_image': 1, 'last_call-thread': 1})"
       ]
      },
      {
       "output_type": "stream",
       "stream": "stdout",
       "text": [
        "\n",
        "Counter({'first_call-load_image': 1, 'last_call-enum_window': 1})\n",
        "Counter({'first_call-load_image': 1, 'last_call-enum_window': 1})\n",
        "Counter({'first_call-load_image': 1, 'last_call-kill_process': 1})\n",
        "Counter({'first_call-load_image': 1, 'last_call-process': 1})\n",
        "Counter({'first_call-load_image': 1, 'last_call-thread': 1})"
       ]
      },
      {
       "output_type": "stream",
       "stream": "stdout",
       "text": [
        "\n",
        "Counter({'first_call-load_image': 1, 'last_call-kill_process': 1})\n",
        "Counter({'first_call-load_image': 1, 'last_call-load_dll': 1})\n",
        "Counter({'first_call-load_image': 1, 'last_call-kill_process': 1})\n",
        "Counter({'first_call-load_image': 1, 'last_call-thread': 1})\n",
        "Counter({'first_call-load_image': 1, 'last_call-kill_process': 1})\n",
        "Counter({'first_call-load_image': 1, 'last_call-thread': 1})"
       ]
      },
      {
       "output_type": "stream",
       "stream": "stdout",
       "text": [
        "\n",
        "Counter({'first_call-load_image': 1, 'last_call-thread': 1})\n",
        "Counter({'first_call-load_image': 1, 'last_call-process': 1})"
       ]
      },
      {
       "output_type": "stream",
       "stream": "stdout",
       "text": [
        "\n",
        "Counter({'first_call-load_image': 1, 'last_call-enum_window': 1})\n",
        "Counter({'first_call-load_image': 1, 'last_call-enum_window': 1})\n",
        "Counter({'first_call-load_image': 1, 'last_call-enum_window': 1})"
       ]
      },
      {
       "output_type": "stream",
       "stream": "stdout",
       "text": [
        "\n",
        "Counter({'first_call-load_image': 1, 'last_call-kill_process': 1})\n",
        "Counter({'first_call-load_image': 1, 'last_call-load_dll': 1})\n",
        "Counter({'first_call-load_image': 1, 'last_call-thread': 1})\n",
        "Counter({'first_call-load_image': 1, 'last_call-thread': 1})"
       ]
      },
      {
       "output_type": "stream",
       "stream": "stdout",
       "text": [
        "\n",
        "Counter({'first_call-load_image': 1, 'last_call-kill_process': 1})\n",
        "Counter({'first_call-load_image': 1, 'last_call-kill_process': 1})"
       ]
      },
      {
       "output_type": "stream",
       "stream": "stdout",
       "text": [
        "\n",
        "Counter({'first_call-load_image': 1, 'last_call-kill_process': 1})\n",
        "Counter({'first_call-load_image': 1, 'last_call-kill_process': 1})\n",
        "Counter({'first_call-load_image': 1, 'last_call-enum_window': 1})\n",
        "Counter({'first_call-load_image': 1, 'last_call-thread': 1})\n",
        "Counter({'first_call-load_image': 1, 'last_call-thread': 1})\n",
        "Counter({'first_call-load_image': 1, 'last_call-thread': 1})"
       ]
      },
      {
       "output_type": "stream",
       "stream": "stdout",
       "text": [
        "\n",
        "Counter({'first_call-load_image': 1, 'last_call-kill_process': 1})\n",
        "Counter({'first_call-load_image': 1, 'last_call-enum_window': 1})\n",
        "Counter({'first_call-load_image': 1, 'last_call-kill_process': 1})\n",
        "Counter({'first_call-load_image': 1, 'last_call-kill_process': 1})\n",
        "Counter({'first_call-load_image': 1, 'last_call-kill_process': 1})\n",
        "Counter({'first_call-load_image': 1, 'last_call-load_dll': 1})"
       ]
      },
      {
       "output_type": "stream",
       "stream": "stdout",
       "text": [
        "\n",
        "Counter({'first_call-load_image': 1, 'last_call-thread': 1})\n",
        "Counter({'first_call-load_image': 1, 'last_call-kill_process': 1})\n",
        "Counter({'first_call-load_image': 1, 'last_call-enum_window': 1})"
       ]
      },
      {
       "output_type": "stream",
       "stream": "stdout",
       "text": [
        "\n",
        "Counter({'first_call-load_image': 1, 'last_call-thread': 1})\n",
        "Counter({'first_call-load_image': 1, 'last_call-kill_process': 1})\n",
        "Counter({'first_call-load_image': 1, 'last_call-enum_window': 1})\n",
        "Counter({'first_call-load_image': 1, 'last_call-thread': 1})"
       ]
      },
      {
       "output_type": "stream",
       "stream": "stdout",
       "text": [
        "\n",
        "Counter({'first_call-load_image': 1, 'last_call-kill_process': 1})\n",
        "Counter({'first_call-load_image': 1, 'last_call-enum_window': 1})\n",
        "Counter({'first_call-load_image': 1, 'last_call-thread': 1})\n",
        "Counter({'first_call-load_image': 1, 'last_call-thread': 1})\n",
        "Counter({'first_call-load_image': 1, 'last_call-kill_process': 1})\n",
        "Counter({'first_call-load_image': 1, 'last_call-query_value': 1})"
       ]
      },
      {
       "output_type": "stream",
       "stream": "stdout",
       "text": [
        "\n",
        "Counter({'first_call-load_image': 1, 'last_call-kill_process': 1})\n",
        "Counter({'first_call-load_image': 1, 'last_call-kill_process': 1})"
       ]
      },
      {
       "output_type": "stream",
       "stream": "stdout",
       "text": [
        "\n",
        "Counter({'first_call-load_image': 1, 'last_call-kill_process': 1})\n",
        "Counter({'first_call-load_image': 1, 'last_call-load_dll': 1})\n",
        "Counter({'first_call-load_image': 1, 'last_call-kill_process': 1})\n",
        "Counter({'first_call-load_image': 1, 'last_call-thread': 1})\n",
        "Counter({'first_call-load_image': 1, 'last_call-thread': 1})"
       ]
      },
      {
       "output_type": "stream",
       "stream": "stdout",
       "text": [
        "\n",
        "Counter({'first_call-load_image': 1, 'last_call-load_dll': 1})\n",
        "Counter({'first_call-load_image': 1, 'last_call-load_dll': 1})"
       ]
      },
      {
       "output_type": "stream",
       "stream": "stdout",
       "text": [
        "\n",
        "Counter({'first_call-load_image': 1, 'last_call-thread': 1})\n",
        "Counter({'first_call-load_image': 1, 'last_call-kill_process': 1})\n",
        "Counter({'first_call-load_image': 1, 'last_call-kill_process': 1})\n",
        "Counter({'first_call-load_image': 1, 'last_call-kill_process': 1})"
       ]
      },
      {
       "output_type": "stream",
       "stream": "stdout",
       "text": [
        "\n",
        "Counter({'first_call-load_image': 1, 'last_call-kill_process': 1})\n",
        "Counter({'first_call-load_image': 1, 'last_call-open_process': 1})\n",
        "Counter({'first_call-load_image': 1, 'last_call-thread': 1})"
       ]
      },
      {
       "output_type": "stream",
       "stream": "stdout",
       "text": [
        "\n",
        "Counter({'first_call-load_image': 1, 'last_call-load_dll': 1})\n",
        "Counter({'first_call-load_image': 1, 'last_call-kill_process': 1})\n",
        "Counter({'first_call-load_image': 1, 'last_call-kill_process': 1})\n",
        "Counter({'first_call-load_image': 1, 'last_call-thread': 1})"
       ]
      },
      {
       "output_type": "stream",
       "stream": "stdout",
       "text": [
        "\n",
        "Counter({'first_call-load_image': 1, 'last_call-kill_process': 1})\n",
        "Counter({'first_call-load_image': 1, 'last_call-thread': 1})\n",
        "Counter({'first_call-load_image': 1, 'last_call-thread': 1})\n",
        "Counter({'first_call-load_image': 1, 'last_call-kill_process': 1})\n",
        "Counter({'first_call-load_image': 1, 'last_call-thread': 1})\n",
        "Counter({'first_call-load_image': 1, 'last_call-kill_process': 1})"
       ]
      },
      {
       "output_type": "stream",
       "stream": "stdout",
       "text": [
        "\n",
        "Counter({'first_call-load_image': 1, 'last_call-thread': 1})\n",
        "Counter({'first_call-load_image': 1, 'last_call-kill_process': 1})\n",
        "Counter({'first_call-load_image': 1, 'last_call-thread': 1})\n",
        "Counter({'first_call-load_image': 1, 'last_call-get_system_directory': 1})\n",
        "Counter({'first_call-load_image': 1, 'last_call-kill_process': 1})\n",
        "Counter({'first_call-load_image': 1, 'last_call-enum_window': 1})\n",
        "Counter({'first_call-load_image': 1, 'last_call-enum_window': 1})\n",
        "Counter({'first_call-load_image': 1, 'last_call-thread': 1})"
       ]
      },
      {
       "output_type": "stream",
       "stream": "stdout",
       "text": [
        "\n",
        "Counter({'first_call-load_image': 1, 'last_call-thread': 1})\n",
        "Counter({'first_call-load_image': 1, 'last_call-enum_window': 1})\n",
        "Counter({'first_call-load_image': 1, 'last_call-kill_process': 1})"
       ]
      },
      {
       "output_type": "stream",
       "stream": "stdout",
       "text": [
        "\n",
        "Counter({'first_call-load_image': 1, 'last_call-get_system_directory': 1})\n",
        "Counter({'first_call-load_image': 1, 'last_call-kill_process': 1})\n",
        "Counter({'first_call-load_image': 1, 'last_call-thread': 1})\n",
        "Counter({'first_call-load_image': 1, 'last_call-kill_process': 1})\n",
        "Counter({'first_call-load_image': 1, 'last_call-enum_window': 1})"
       ]
      },
      {
       "output_type": "stream",
       "stream": "stdout",
       "text": [
        "\n",
        "Counter({'first_call-load_image': 1, 'last_call-kill_process': 1})\n",
        "Counter({'first_call-load_image': 1, 'last_call-thread': 1})"
       ]
      },
      {
       "output_type": "stream",
       "stream": "stdout",
       "text": [
        "\n",
        "Counter({'first_call-load_image': 1, 'last_call-load_dll': 1})\n",
        "Counter({'first_call-load_image': 1, 'last_call-thread': 1})"
       ]
      },
      {
       "output_type": "stream",
       "stream": "stdout",
       "text": [
        "\n",
        "Counter({'first_call-load_image': 1, 'last_call-kill_process': 1})\n",
        "Counter({'first_call-load_image': 1, 'last_call-thread': 1})\n",
        "Counter({'first_call-load_image': 1, 'last_call-thread': 1})\n",
        "Counter({'first_call-load_image': 1, 'last_call-enum_window': 1})\n",
        "Counter({'first_call-load_image': 1, 'last_call-kill_process': 1})\n",
        "Counter({'first_call-load_image': 1, 'last_call-thread': 1})"
       ]
      },
      {
       "output_type": "stream",
       "stream": "stdout",
       "text": [
        "\n",
        "Counter({'first_call-load_image': 1, 'last_call-thread': 1})\n",
        "Counter({'first_call-load_image': 1, 'last_call-enum_window': 1})"
       ]
      },
      {
       "output_type": "stream",
       "stream": "stdout",
       "text": [
        "\n",
        "Counter({'first_call-load_image': 1, 'last_call-enum_window': 1})\n",
        "Counter({'first_call-load_image': 1, 'last_call-thread': 1})\n",
        "Counter({'first_call-load_image': 1, 'last_call-enum_window': 1})\n",
        "Counter({'first_call-load_image': 1, 'last_call-check_for_debugger': 1})"
       ]
      },
      {
       "output_type": "stream",
       "stream": "stdout",
       "text": [
        "\n",
        "Counter({'first_call-load_image': 1, 'last_call-enum_window': 1})\n",
        "Counter({'first_call-load_image': 1, 'last_call-enum_window': 1})\n",
        "Counter({'first_call-load_image': 1, 'last_call-load_dll': 1})\n",
        "Counter({'first_call-load_image': 1, 'last_call-kill_process': 1})"
       ]
      },
      {
       "output_type": "stream",
       "stream": "stdout",
       "text": [
        "\n",
        "Counter({'first_call-load_image': 1, 'last_call-process': 1})\n",
        "Counter({'first_call-load_image': 1, 'last_call-kill_process': 1})\n",
        "Counter({'first_call-load_image': 1, 'last_call-enum_window': 1})\n",
        "Counter({'first_call-load_image': 1, 'last_call-thread': 1})"
       ]
      },
      {
       "output_type": "stream",
       "stream": "stdout",
       "text": [
        "\n",
        "Counter({'first_call-load_image': 1, 'last_call-kill_process': 1})\n",
        "Counter({'first_call-load_image': 1, 'last_call-get_system_directory': 1})\n",
        "Counter({'first_call-load_image': 1, 'last_call-thread': 1})"
       ]
      },
      {
       "output_type": "stream",
       "stream": "stdout",
       "text": [
        "\n",
        "Counter({'first_call-load_image': 1, 'last_call-enum_window': 1})"
       ]
      },
      {
       "output_type": "stream",
       "stream": "stdout",
       "text": [
        "\n",
        "Counter({'first_call-load_image': 1, 'last_call-kill_process': 1})\n",
        "Counter({'first_call-load_image': 1, 'last_call-thread': 1})\n",
        "Counter({'first_call-load_image': 1, 'last_call-thread': 1})\n",
        "Counter({'first_call-load_image': 1, 'last_call-enum_window': 1})"
       ]
      },
      {
       "output_type": "stream",
       "stream": "stdout",
       "text": [
        "\n",
        "Counter({'first_call-load_image': 1, 'last_call-load_dll': 1})\n",
        "Counter({'first_call-load_image': 1, 'last_call-enum_window': 1})\n",
        "Counter({'first_call-load_image': 1, 'last_call-enum_window': 1})\n",
        "Counter({'first_call-load_image': 1, 'last_call-thread': 1})\n",
        "Counter({'first_call-load_image': 1, 'last_call-enum_window': 1})"
       ]
      },
      {
       "output_type": "stream",
       "stream": "stdout",
       "text": [
        "\n",
        "Counter({'first_call-load_image': 1, 'last_call-load_dll': 1})"
       ]
      },
      {
       "output_type": "stream",
       "stream": "stdout",
       "text": [
        "\n",
        "Counter({'first_call-load_image': 1, 'last_call-kill_process': 1})"
       ]
      },
      {
       "output_type": "stream",
       "stream": "stdout",
       "text": [
        "\n",
        "Counter({'first_call-load_image': 1, 'last_call-thread': 1})\n",
        "Counter({'first_call-load_image': 1, 'last_call-kill_process': 1})\n",
        "Counter({'first_call-load_image': 1, 'last_call-kill_process': 1})\n",
        "Counter({'first_call-load_image': 1, 'last_call-enum_window': 1})"
       ]
      },
      {
       "output_type": "stream",
       "stream": "stdout",
       "text": [
        "\n",
        "Counter({'first_call-load_image': 1, 'last_call-kill_process': 1})\n",
        "Counter({'first_call-load_image': 1, 'last_call-enum_window': 1})"
       ]
      },
      {
       "output_type": "stream",
       "stream": "stdout",
       "text": [
        "\n",
        "Counter({'first_call-load_image': 1, 'last_call-sleep': 1})"
       ]
      },
      {
       "output_type": "stream",
       "stream": "stdout",
       "text": [
        "\n",
        "Counter({'first_call-load_image': 1, 'last_call-kill_process': 1})"
       ]
      },
      {
       "output_type": "stream",
       "stream": "stdout",
       "text": [
        "\n",
        "Counter({'first_call-load_image': 1, 'last_call-thread': 1})\n",
        "Counter({'first_call-load_image': 1, 'last_call-enum_window': 1})\n",
        "Counter({'first_call-load_image': 1, 'last_call-thread': 1})\n",
        "Counter({'first_call-load_image': 1, 'last_call-kill_process': 1})\n",
        "Counter({'first_call-load_image': 1, 'last_call-thread': 1})"
       ]
      },
      {
       "output_type": "stream",
       "stream": "stdout",
       "text": [
        "\n",
        "Counter({'first_call-load_image': 1, 'last_call-thread': 1})\n",
        "Counter({'first_call-load_image': 1, 'last_call-process': 1})\n",
        "Counter({'first_call-load_image': 1, 'last_call-kill_process': 1})"
       ]
      },
      {
       "output_type": "stream",
       "stream": "stdout",
       "text": [
        "\n",
        "Counter({'first_call-load_image': 1, 'last_call-thread': 1})\n",
        "Counter({'first_call-load_image': 1, 'last_call-enum_window': 1})"
       ]
      },
      {
       "output_type": "stream",
       "stream": "stdout",
       "text": [
        "\n",
        "Counter({'first_call-load_image': 1, 'last_call-thread': 1})\n",
        "Counter({'first_call-load_image': 1, 'last_call-enum_window': 1})\n",
        "Counter({'first_call-load_image': 1, 'last_call-thread': 1})\n",
        "Counter({'first_call-load_image': 1, 'last_call-sleep': 1})"
       ]
      },
      {
       "output_type": "stream",
       "stream": "stdout",
       "text": [
        "\n",
        "Counter({'first_call-load_image': 1, 'last_call-thread': 1})"
       ]
      },
      {
       "output_type": "stream",
       "stream": "stdout",
       "text": [
        "\n",
        "Counter({'first_call-load_image': 1, 'last_call-kill_process': 1})\n",
        "Counter({'first_call-load_image': 1, 'last_call-enum_window': 1})\n",
        "Counter({'first_call-load_image': 1, 'last_call-thread': 1})\n",
        "Counter({'first_call-load_image': 1, 'last_call-kill_process': 1})\n",
        "Counter({'first_call-load_image': 1, 'last_call-process': 1})\n",
        "Counter({'first_call-load_image': 1, 'last_call-thread': 1})\n",
        "Counter({'first_call-load_image': 1, 'last_call-enum_window': 1})"
       ]
      },
      {
       "output_type": "stream",
       "stream": "stdout",
       "text": [
        "\n",
        "Counter({'first_call-load_image': 1, 'last_call-thread': 1})\n",
        "Counter({'first_call-load_image': 1, 'last_call-kill_process': 1})\n",
        "Counter({'first_call-load_image': 1, 'last_call-thread': 1})\n",
        "Counter({'first_call-load_image': 1, 'last_call-thread': 1})"
       ]
      },
      {
       "output_type": "stream",
       "stream": "stdout",
       "text": [
        "\n",
        "Counter({'first_call-load_image': 1, 'last_call-kill_process': 1})\n",
        "Counter({'first_call-load_image': 1, 'last_call-thread': 1})\n",
        "Counter({'first_call-load_image': 1, 'last_call-kill_process': 1})\n",
        "Counter({'first_call-load_image': 1, 'last_call-thread': 1})"
       ]
      },
      {
       "output_type": "stream",
       "stream": "stdout",
       "text": [
        "\n",
        "Counter({'first_call-load_image': 1, 'last_call-sleep': 1})"
       ]
      },
      {
       "output_type": "stream",
       "stream": "stdout",
       "text": [
        "\n",
        "Counter({'first_call-load_image': 1, 'last_call-enum_window': 1})"
       ]
      },
      {
       "output_type": "stream",
       "stream": "stdout",
       "text": [
        "\n",
        "Counter({'first_call-load_image': 1, 'last_call-enum_window': 1})\n",
        "Counter({'first_call-load_image': 1, 'last_call-thread': 1})\n",
        "Counter({'first_call-load_image': 1, 'last_call-thread': 1})"
       ]
      },
      {
       "output_type": "stream",
       "stream": "stdout",
       "text": [
        "\n",
        "Counter({'first_call-load_image': 1, 'last_call-kill_process': 1})\n",
        "Counter({'first_call-load_image': 1, 'last_call-kill_process': 1})\n",
        "Counter({'first_call-load_image': 1, 'last_call-thread': 1})\n",
        "Counter({'last_call-load_driver': 1, 'first_call-load_image': 1})\n",
        "Counter({'first_call-load_image': 1, 'last_call-kill_process': 1})\n",
        "Counter({'first_call-load_image': 1, 'last_call-kill_process': 1})\n",
        "Counter({'first_call-load_image': 1, 'last_call-thread': 1})\n",
        "Counter({'first_call-load_image': 1, 'last_call-kill_process': 1})"
       ]
      },
      {
       "output_type": "stream",
       "stream": "stdout",
       "text": [
        "\n",
        "Counter({'first_call-load_image': 1, 'last_call-load_dll': 1})\n",
        "Counter({'first_call-load_image': 1, 'last_call-enum_window': 1})\n",
        "Counter({'first_call-load_image': 1, 'last_call-enum_window': 1})\n",
        "Counter({'first_call-load_image': 1, 'last_call-thread': 1})\n",
        "Counter({'first_call-load_image': 1, 'last_call-thread': 1})\n",
        "Counter({'first_call-load_image': 1, 'last_call-thread': 1})\n",
        "Counter({'first_call-load_image': 1, 'last_call-kill_process': 1})"
       ]
      },
      {
       "output_type": "stream",
       "stream": "stdout",
       "text": [
        "\n",
        "Counter({'first_call-load_image': 1, 'last_call-load_dll': 1})\n",
        "Counter({'first_call-load_image': 1, 'last_call-load_dll': 1})\n",
        "Counter({'first_call-load_image': 1, 'last_call-load_dll': 1})\n",
        "Counter({'first_call-load_image': 1, 'last_call-kill_process': 1})"
       ]
      },
      {
       "output_type": "stream",
       "stream": "stdout",
       "text": [
        "\n",
        "Counter({'first_call-load_image': 1, 'last_call-thread': 1})\n",
        "Counter({'first_call-load_image': 1, 'last_call-kill_process': 1})\n",
        "Counter({'first_call-load_image': 1, 'last_call-process': 1})"
       ]
      },
      {
       "output_type": "stream",
       "stream": "stdout",
       "text": [
        "\n",
        "Counter({'first_call-load_image': 1, 'last_call-thread': 1})\n",
        "Counter({'first_call-load_image': 1, 'last_call-kill_process': 1})\n",
        "Counter({'first_call-load_image': 1, 'last_call-thread': 1})"
       ]
      },
      {
       "output_type": "stream",
       "stream": "stdout",
       "text": [
        "\n",
        "Counter({'first_call-load_image': 1, 'last_call-enum_window': 1})\n",
        "Counter({'first_call-load_image': 1, 'last_call-kill_process': 1})\n",
        "Counter({'first_call-load_image': 1, 'last_call-kill_process': 1})\n",
        "Counter({'first_call-load_image': 1, 'last_call-kill_process': 1})\n",
        "Counter({'first_call-load_image': 1, 'last_call-get_system_directory': 1})\n",
        "Counter({'first_call-load_image': 1, 'last_call-enum_window': 1})"
       ]
      },
      {
       "output_type": "stream",
       "stream": "stdout",
       "text": [
        "\n",
        "Counter({'first_call-load_image': 1, 'last_call-process': 1})\n",
        "Counter({'first_call-load_image': 1, 'last_call-load_dll': 1})"
       ]
      },
      {
       "output_type": "stream",
       "stream": "stdout",
       "text": [
        "\n",
        "Counter({'first_call-load_image': 1, 'last_call-kill_process': 1})\n",
        "Counter({'first_call-load_image': 1, 'last_call-kill_process': 1})\n",
        "Counter({'first_call-load_image': 1, 'last_call-enum_window': 1})"
       ]
      },
      {
       "output_type": "stream",
       "stream": "stdout",
       "text": [
        "\n",
        "Counter({'first_call-load_image': 1, 'last_call-kill_process': 1})\n",
        "Counter({'first_call-load_image': 1, 'last_call-enum_window': 1})\n",
        "Counter({'first_call-load_image': 1, 'last_call-thread': 1})\n",
        "Counter({'first_call-load_image': 1, 'last_call-open_process': 1})"
       ]
      },
      {
       "output_type": "stream",
       "stream": "stdout",
       "text": [
        "\n",
        "Counter({'first_call-load_image': 1, 'last_call-kill_process': 1})\n",
        "Counter({'first_call-load_image': 1, 'last_call-thread': 1})\n",
        "Counter({'first_call-load_image': 1, 'last_call-thread': 1})"
       ]
      },
      {
       "output_type": "stream",
       "stream": "stdout",
       "text": [
        "\n",
        "Counter({'first_call-load_image': 1, 'last_call-enum_window': 1})"
       ]
      },
      {
       "output_type": "stream",
       "stream": "stdout",
       "text": [
        "\n",
        "Counter({'first_call-load_image': 1, 'last_call-thread': 1})\n",
        "Counter({'first_call-load_image': 1, 'last_call-enum_window': 1})"
       ]
      },
      {
       "output_type": "stream",
       "stream": "stdout",
       "text": [
        "\n",
        "Counter({'first_call-load_image': 1, 'last_call-kill_process': 1})\n",
        "Counter({'first_call-load_image': 1, 'last_call-enum_window': 1})"
       ]
      },
      {
       "output_type": "stream",
       "stream": "stdout",
       "text": [
        "\n",
        "Counter({'first_call-load_image': 1, 'last_call-process': 1})\n",
        "Counter({'first_call-load_image': 1, 'last_call-enum_window': 1})"
       ]
      },
      {
       "output_type": "stream",
       "stream": "stdout",
       "text": [
        "\n",
        "Counter({'first_call-load_image': 1, 'last_call-load_dll': 1})\n",
        "Counter({'first_call-load_image': 1, 'last_call-open_process': 1})\n",
        "Counter({'first_call-load_image': 1, 'last_call-thread': 1})\n",
        "Counter({'first_call-load_image': 1, 'last_call-enum_window': 1})\n",
        "Counter({'first_call-load_image': 1, 'last_call-kill_process': 1})"
       ]
      },
      {
       "output_type": "stream",
       "stream": "stdout",
       "text": [
        "\n",
        "Counter({'first_call-load_image': 1, 'last_call-thread': 1})\n",
        "Counter({'first_call-load_image': 1, 'last_call-thread': 1})"
       ]
      },
      {
       "output_type": "stream",
       "stream": "stdout",
       "text": [
        "\n",
        "Counter({'first_call-load_image': 1, 'last_call-thread': 1})\n",
        "Counter({'first_call-load_image': 1, 'last_call-thread': 1})\n",
        "Counter({'first_call-load_image': 1, 'last_call-enum_window': 1})\n",
        "Counter({'first_call-load_image': 1, 'last_call-thread': 1})\n",
        "Counter({'first_call-load_image': 1, 'last_call-thread': 1})"
       ]
      },
      {
       "output_type": "stream",
       "stream": "stdout",
       "text": [
        "\n",
        "Counter({'first_call-load_image': 1, 'last_call-enum_window': 1})\n",
        "Counter({'first_call-load_image': 1, 'last_call-enum_window': 1})\n",
        "Counter({'first_call-load_image': 1, 'last_call-kill_process': 1})\n",
        "Counter({'first_call-load_image': 1, 'last_call-kill_process': 1})"
       ]
      },
      {
       "output_type": "stream",
       "stream": "stdout",
       "text": [
        "\n",
        "Counter({'first_call-load_image': 1, 'last_call-kill_process': 1})\n",
        "Counter({'first_call-load_image': 1, 'last_call-kill_process': 1})\n",
        "Counter({'first_call-load_image': 1, 'last_call-kill_process': 1})\n",
        "Counter({'first_call-load_image': 1, 'last_call-vm_protect': 1})"
       ]
      },
      {
       "output_type": "stream",
       "stream": "stdout",
       "text": [
        "\n",
        "Counter({'first_call-load_image': 1, 'last_call-kill_process': 1})\n",
        "Counter({'first_call-load_image': 1, 'last_call-thread': 1})"
       ]
      },
      {
       "output_type": "stream",
       "stream": "stdout",
       "text": [
        "\n",
        "Counter({'first_call-load_image': 1, 'last_call-enum_window': 1})\n",
        "Counter({'first_call-load_image': 1, 'last_call-thread': 1})\n",
        "Counter({'first_call-load_image': 1, 'last_call-load_dll': 1})\n",
        "Counter({'first_call-load_image': 1, 'last_call-kill_process': 1})\n",
        "Counter({'first_call-load_image': 1, 'last_call-enum_window': 1})"
       ]
      },
      {
       "output_type": "stream",
       "stream": "stdout",
       "text": [
        "\n",
        "Counter({'first_call-load_image': 1, 'last_call-thread': 1})"
       ]
      },
      {
       "output_type": "stream",
       "stream": "stdout",
       "text": [
        "\n",
        "Counter({'first_call-load_image': 1, 'last_call-thread': 1})"
       ]
      },
      {
       "output_type": "stream",
       "stream": "stdout",
       "text": [
        "\n",
        "Counter({'first_call-load_image': 1, 'last_call-kill_process': 1})\n",
        "Counter({'first_call-load_image': 1, 'last_call-enum_window': 1})\n",
        "Counter({'first_call-load_image': 1, 'last_call-kill_process': 1})\n",
        "Counter({'first_call-load_image': 1, 'last_call-thread': 1})\n",
        "Counter({'first_call-load_image': 1, 'last_call-enum_window': 1})\n",
        "Counter({'first_call-load_image': 1, 'last_call-kill_process': 1})\n",
        "Counter({'first_call-load_image': 1, 'last_call-enum_window': 1})"
       ]
      },
      {
       "output_type": "stream",
       "stream": "stdout",
       "text": [
        "\n",
        "Counter({'first_call-load_image': 1, 'last_call-enum_window': 1})"
       ]
      },
      {
       "output_type": "stream",
       "stream": "stdout",
       "text": [
        "\n",
        "Counter({'first_call-load_image': 1, 'last_call-load_dll': 1})\n",
        "Counter({'first_call-load_image': 1, 'last_call-thread': 1})\n",
        "Counter({'first_call-load_image': 1, 'last_call-kill_process': 1})\n",
        "Counter({'first_call-load_image': 1, 'last_call-thread': 1})\n",
        "Counter({'first_call-load_image': 1, 'last_call-load_dll': 1})"
       ]
      },
      {
       "output_type": "stream",
       "stream": "stdout",
       "text": [
        "\n",
        "Counter({'first_call-load_image': 1, 'last_call-thread': 1})\n",
        "Counter({'first_call-load_image': 1, 'last_call-enum_window': 1})"
       ]
      },
      {
       "output_type": "stream",
       "stream": "stdout",
       "text": [
        "\n",
        "Counter({'first_call-load_image': 1, 'last_call-kill_process': 1})\n",
        "Counter({'first_call-load_image': 1, 'last_call-load_dll': 1})\n",
        "Counter({'first_call-load_image': 1, 'last_call-enum_window': 1})"
       ]
      },
      {
       "output_type": "stream",
       "stream": "stdout",
       "text": [
        "\n",
        "Counter({'last_call-create_window': 1, 'first_call-load_image': 1})\n",
        "Counter({'first_call-load_image': 1, 'last_call-thread': 1})"
       ]
      },
      {
       "output_type": "stream",
       "stream": "stdout",
       "text": [
        "\n",
        "Counter({'first_call-load_image': 1, 'last_call-kill_process': 1})\n",
        "Counter({'first_call-load_image': 1, 'last_call-thread': 1})\n",
        "Counter({'first_call-load_image': 1, 'last_call-thread': 1})"
       ]
      },
      {
       "output_type": "stream",
       "stream": "stdout",
       "text": [
        "\n",
        "Counter({'first_call-load_image': 1, 'last_call-thread': 1})\n",
        "Counter({'first_call-load_image': 1, 'last_call-process': 1})\n",
        "Counter({'first_call-load_image': 1, 'last_call-thread': 1})\n",
        "Counter({'first_call-load_image': 1, 'last_call-thread': 1})"
       ]
      },
      {
       "output_type": "stream",
       "stream": "stdout",
       "text": [
        "\n",
        "Counter({'first_call-load_image': 1, 'last_call-enum_window': 1})\n",
        "Counter({'first_call-load_image': 1, 'last_call-thread': 1})\n",
        "Counter({'first_call-load_image': 1, 'last_call-thread': 1})\n",
        "Counter({'first_call-load_image': 1, 'last_call-create_thread': 1})\n",
        "Counter({'first_call-load_image': 1, 'last_call-thread': 1})"
       ]
      },
      {
       "output_type": "stream",
       "stream": "stdout",
       "text": [
        "\n",
        "Counter({'first_call-load_image': 1, 'last_call-thread': 1})"
       ]
      },
      {
       "output_type": "stream",
       "stream": "stdout",
       "text": [
        "\n",
        "Counter({'first_call-load_image': 1, 'last_call-thread': 1})"
       ]
      },
      {
       "output_type": "stream",
       "stream": "stdout",
       "text": [
        "\n",
        "Counter({'first_call-load_image': 1, 'last_call-thread': 1})"
       ]
      },
      {
       "output_type": "stream",
       "stream": "stdout",
       "text": [
        "\n",
        "Counter({'first_call-load_image': 1, 'last_call-enum_window': 1})\n",
        "Counter({'first_call-load_image': 1, 'last_call-enum_window': 1})\n",
        "Counter({'first_call-load_image': 1, 'last_call-kill_process': 1})\n",
        "Counter({'first_call-load_image': 1, 'last_call-thread': 1})\n",
        "Counter({'first_call-load_image': 1, 'last_call-enum_window': 1})\n",
        "Counter({'first_call-load_image': 1, 'last_call-thread': 1})\n",
        "Counter({'first_call-load_image': 1, 'last_call-kill_process': 1})"
       ]
      },
      {
       "output_type": "stream",
       "stream": "stdout",
       "text": [
        "\n",
        "Counter({'first_call-load_image': 1, 'last_call-enum_window': 1})\n",
        "Counter({'first_call-load_image': 1, 'last_call-thread': 1})\n",
        "Counter({'first_call-load_image': 1, 'last_call-load_dll': 1})"
       ]
      },
      {
       "output_type": "stream",
       "stream": "stdout",
       "text": [
        "\n",
        "Counter({'first_call-load_image': 1, 'last_call-thread': 1})\n",
        "Counter({'first_call-load_image': 1, 'last_call-enum_window': 1})\n",
        "Counter({'first_call-load_image': 1, 'last_call-process': 1})\n",
        "Counter({'first_call-load_image': 1, 'last_call-dump_line': 1})"
       ]
      },
      {
       "output_type": "stream",
       "stream": "stdout",
       "text": [
        "\n",
        "Counter({'first_call-load_image': 1, 'last_call-kill_process': 1})"
       ]
      },
      {
       "output_type": "stream",
       "stream": "stdout",
       "text": [
        "\n",
        "Counter({'first_call-load_image': 1, 'last_call-kill_process': 1})\n",
        "Counter({'first_call-load_image': 1, 'last_call-kill_process': 1})\n",
        "Counter({'first_call-load_image': 1, 'last_call-thread': 1})\n",
        "Counter({'first_call-load_image': 1, 'last_call-kill_process': 1})\n",
        "Counter({'first_call-load_image': 1, 'last_call-kill_process': 1})"
       ]
      },
      {
       "output_type": "stream",
       "stream": "stdout",
       "text": [
        "\n",
        "Counter({'first_call-load_image': 1, 'last_call-kill_process': 1})\n",
        "Counter({'first_call-load_image': 1, 'last_call-enum_window': 1})\n",
        "Counter({'first_call-load_image': 1, 'last_call-thread': 1})\n",
        "Counter({'first_call-load_image': 1, 'last_call-process': 1})"
       ]
      },
      {
       "output_type": "stream",
       "stream": "stdout",
       "text": [
        "\n",
        "Counter({'first_call-load_image': 1, 'last_call-thread': 1})\n",
        "Counter({'first_call-load_image': 1, 'last_call-thread': 1})\n",
        "Counter({'first_call-load_image': 1, 'last_call-thread': 1})\n",
        "Counter({'first_call-load_image': 1, 'last_call-thread': 1})"
       ]
      },
      {
       "output_type": "stream",
       "stream": "stdout",
       "text": [
        "\n",
        "Counter({'first_call-load_image': 1, 'last_call-kill_process': 1})"
       ]
      },
      {
       "output_type": "stream",
       "stream": "stdout",
       "text": [
        "\n",
        "Counter({'first_call-load_image': 1, 'last_call-kill_process': 1})\n",
        "Counter({'first_call-load_image': 1, 'last_call-enum_window': 1})\n",
        "Counter({'first_call-load_image': 1, 'last_call-thread': 1})\n",
        "Counter({'first_call-load_image': 1, 'last_call-dump_line': 1})\n",
        "Counter({'first_call-load_image': 1, 'last_call-process': 1})\n",
        "Counter({'first_call-load_image': 1, 'last_call-sleep': 1})"
       ]
      },
      {
       "output_type": "stream",
       "stream": "stdout",
       "text": [
        "\n",
        "Counter({'first_call-load_image': 1, 'last_call-sleep': 1})"
       ]
      },
      {
       "output_type": "stream",
       "stream": "stdout",
       "text": [
        "\n",
        "Counter({'first_call-load_image': 1, 'last_call-thread': 1})\n",
        "Counter({'first_call-load_image': 1, 'last_call-thread': 1})\n",
        "Counter({'first_call-load_image': 1, 'last_call-enum_window': 1})"
       ]
      },
      {
       "output_type": "stream",
       "stream": "stdout",
       "text": [
        "\n",
        "Counter({'first_call-load_image': 1, 'last_call-thread': 1})\n",
        "Counter({'first_call-load_image': 1, 'last_call-kill_process': 1})\n",
        "Counter({'first_call-load_image': 1, 'last_call-kill_process': 1})\n",
        "Counter({'first_call-load_image': 1, 'last_call-thread': 1})"
       ]
      },
      {
       "output_type": "stream",
       "stream": "stdout",
       "text": [
        "\n",
        "Counter({'first_call-load_image': 1, 'last_call-thread': 1})"
       ]
      },
      {
       "output_type": "stream",
       "stream": "stdout",
       "text": [
        "\n",
        "Counter({'first_call-load_image': 1, 'last_call-kill_process': 1})\n",
        "Counter({'first_call-load_image': 1, 'last_call-load_dll': 1})"
       ]
      },
      {
       "output_type": "stream",
       "stream": "stdout",
       "text": [
        "\n",
        "Counter({'first_call-load_image': 1, 'last_call-thread': 1})\n",
        "Counter({'first_call-load_image': 1, 'last_call-load_dll': 1})\n",
        "Counter({'first_call-load_image': 1, 'last_call-thread': 1})\n",
        "Counter({'first_call-load_image': 1, 'last_call-kill_process': 1})\n",
        "Counter({'first_call-load_image': 1, 'last_call-thread': 1})\n",
        "Counter({'first_call-load_image': 1, 'last_call-kill_process': 1})"
       ]
      },
      {
       "output_type": "stream",
       "stream": "stdout",
       "text": [
        "\n",
        "Counter({'first_call-load_image': 1, 'last_call-load_dll': 1})\n",
        "Counter({'first_call-load_image': 1, 'last_call-thread': 1})\n",
        "Counter({'first_call-load_image': 1, 'last_call-kill_process': 1})\n",
        "Counter({'first_call-load_image': 1, 'last_call-enum_window': 1})\n",
        "Counter({'first_call-load_image': 1, 'last_call-thread': 1})\n",
        "Counter({'first_call-load_image': 1, 'last_call-kill_process': 1})\n",
        "Counter({'first_call-load_image': 1, 'last_call-enum_window': 1})\n",
        "Counter({'first_call-load_image': 1, 'last_call-kill_process': 1})\n",
        "Counter({'first_call-load_image': 1, 'last_call-thread': 1})"
       ]
      },
      {
       "output_type": "stream",
       "stream": "stdout",
       "text": [
        "\n",
        "Counter({'first_call-load_image': 1, 'last_call-thread': 1})\n",
        "Counter({'first_call-load_image': 1, 'last_call-thread': 1})\n",
        "Counter({'first_call-load_image': 1, 'last_call-kill_process': 1})\n",
        "Counter({'first_call-load_image': 1, 'last_call-process': 1})\n",
        "Counter({'first_call-load_image': 1, 'last_call-kill_process': 1})\n",
        "Counter({'first_call-load_image': 1, 'last_call-enum_window': 1})"
       ]
      },
      {
       "output_type": "stream",
       "stream": "stdout",
       "text": [
        "\n",
        "Counter({'first_call-load_image': 1, 'last_call-enum_window': 1})\n",
        "Counter({'first_call-load_image': 1, 'last_call-enum_window': 1})\n",
        "Counter({'first_call-load_image': 1, 'last_call-enum_window': 1})\n",
        "Counter({'first_call-load_image': 1, 'last_call-thread': 1})\n",
        "Counter({'first_call-load_image': 1, 'last_call-enum_window': 1})"
       ]
      },
      {
       "output_type": "stream",
       "stream": "stdout",
       "text": [
        "\n",
        "Counter({'first_call-load_image': 1, 'last_call-kill_process': 1})\n",
        "Counter({'first_call-load_image': 1, 'last_call-enum_window': 1})\n",
        "Counter({'first_call-load_image': 1, 'last_call-thread': 1})\n",
        "Counter({'first_call-load_image': 1, 'last_call-thread': 1})"
       ]
      },
      {
       "output_type": "stream",
       "stream": "stdout",
       "text": [
        "\n",
        "Counter({'first_call-load_image': 1, 'last_call-enum_window': 1})"
       ]
      },
      {
       "output_type": "stream",
       "stream": "stdout",
       "text": [
        "\n",
        "Counter({'first_call-load_image': 1, 'last_call-load_dll': 1})\n",
        "Counter({'first_call-load_image': 1, 'last_call-kill_process': 1})"
       ]
      },
      {
       "output_type": "stream",
       "stream": "stdout",
       "text": [
        "\n",
        "Counter({'first_call-load_image': 1, 'last_call-enum_window': 1})\n",
        "Counter({'first_call-load_image': 1, 'last_call-thread': 1})\n",
        "Counter({'first_call-load_image': 1, 'last_call-kill_process': 1})\n",
        "Counter({'first_call-load_image': 1, 'last_call-thread': 1})"
       ]
      },
      {
       "output_type": "stream",
       "stream": "stdout",
       "text": [
        "\n",
        "Counter({'first_call-load_image': 1, 'last_call-kill_process': 1})"
       ]
      },
      {
       "output_type": "stream",
       "stream": "stdout",
       "text": [
        "\n",
        "Counter({'first_call-load_image': 1, 'last_call-enum_window': 1})\n",
        "Counter({'first_call-load_image': 1, 'last_call-thread': 1})\n",
        "Counter({'first_call-load_image': 1, 'last_call-thread': 1})\n",
        "Counter({'first_call-load_image': 1, 'last_call-thread': 1})\n",
        "Counter({'first_call-load_image': 1, 'last_call-kill_process': 1})\n",
        "Counter({'first_call-load_image': 1, 'last_call-thread': 1})"
       ]
      },
      {
       "output_type": "stream",
       "stream": "stdout",
       "text": [
        "\n",
        "Counter({'first_call-load_image': 1, 'last_call-thread': 1})\n",
        "Counter({'first_call-load_image': 1, 'last_call-thread': 1})"
       ]
      },
      {
       "output_type": "stream",
       "stream": "stdout",
       "text": [
        "\n",
        "Counter({'first_call-load_image': 1, 'last_call-enum_window': 1})\n",
        "Counter({'first_call-load_image': 1, 'last_call-kill_process': 1})\n",
        "Counter({'first_call-load_image': 1, 'last_call-kill_process': 1})\n",
        "Counter({'first_call-load_image': 1, 'last_call-thread': 1})"
       ]
      },
      {
       "output_type": "stream",
       "stream": "stdout",
       "text": [
        "\n",
        "Counter({'first_call-load_image': 1, 'last_call-kill_process': 1})"
       ]
      },
      {
       "output_type": "stream",
       "stream": "stdout",
       "text": [
        "\n",
        "Counter({'first_call-load_image': 1, 'last_call-kill_process': 1})\n",
        "Counter({'first_call-load_image': 1, 'last_call-thread': 1})\n",
        "Counter({'first_call-load_image': 1, 'last_call-process': 1})\n",
        "Counter({'first_call-load_image': 1, 'last_call-thread': 1})"
       ]
      },
      {
       "output_type": "stream",
       "stream": "stdout",
       "text": [
        "\n",
        "Counter({'first_call-load_image': 1, 'last_call-load_dll': 1})"
       ]
      },
      {
       "output_type": "stream",
       "stream": "stdout",
       "text": [
        "\n",
        "Counter({'first_call-load_image': 1, 'last_call-thread': 1})\n",
        "Counter({'first_call-load_image': 1, 'last_call-enum_window': 1})\n",
        "Counter({'first_call-load_image': 1, 'last_call-enum_window': 1})\n",
        "Counter({'first_call-load_image': 1, 'last_call-thread': 1})\n",
        "Counter({'first_call-load_image': 1, 'last_call-kill_process': 1})"
       ]
      },
      {
       "output_type": "stream",
       "stream": "stdout",
       "text": [
        "\n",
        "Counter({'first_call-load_image': 1, 'last_call-kill_process': 1})\n",
        "Counter({'first_call-load_image': 1, 'last_call-load_dll': 1})\n",
        "Counter({'first_call-load_image': 1, 'last_call-kill_process': 1})\n",
        "Counter({'first_call-load_image': 1, 'last_call-thread': 1})"
       ]
      },
      {
       "output_type": "stream",
       "stream": "stdout",
       "text": [
        "\n",
        "Counter({'first_call-load_image': 1, 'last_call-kill_process': 1})\n",
        "Counter({'first_call-load_image': 1, 'last_call-thread': 1})\n",
        "Counter({'first_call-load_image': 1, 'last_call-process': 1})\n",
        "Counter({'first_call-load_image': 1, 'last_call-enum_window': 1})"
       ]
      },
      {
       "output_type": "stream",
       "stream": "stdout",
       "text": [
        "\n",
        "Counter({'first_call-load_image': 1, 'last_call-thread': 1})\n",
        "Counter({'first_call-load_image': 1, 'last_call-kill_process': 1})\n",
        "Counter({'first_call-load_image': 1, 'last_call-kill_process': 1})"
       ]
      },
      {
       "output_type": "stream",
       "stream": "stdout",
       "text": [
        "\n",
        "Counter({'first_call-load_image': 1, 'last_call-thread': 1})\n",
        "Counter({'first_call-load_image': 1, 'last_call-process': 1})\n",
        "Counter({'first_call-load_image': 1, 'last_call-kill_process': 1})\n",
        "Counter({'first_call-load_image': 1, 'last_call-enum_window': 1})"
       ]
      },
      {
       "output_type": "stream",
       "stream": "stdout",
       "text": [
        "\n",
        "Counter({'first_call-load_image': 1, 'last_call-create_thread': 1})\n",
        "Counter({'first_call-load_image': 1, 'last_call-create_open_file': 1})\n",
        "Counter({'first_call-load_image': 1, 'last_call-kill_process': 1})\n",
        "Counter({'first_call-load_image': 1, 'last_call-kill_process': 1})"
       ]
      },
      {
       "output_type": "stream",
       "stream": "stdout",
       "text": [
        "\n",
        "Counter({'first_call-load_image': 1, 'last_call-load_dll': 1})\n",
        "Counter({'first_call-load_image': 1, 'last_call-enum_window': 1})\n",
        "Counter({'first_call-load_image': 1, 'last_call-thread': 1})\n",
        "Counter({'first_call-load_image': 1, 'last_call-load_dll': 1})\n",
        "Counter({'first_call-load_image': 1, 'last_call-kill_process': 1})"
       ]
      },
      {
       "output_type": "stream",
       "stream": "stdout",
       "text": [
        "\n",
        "Counter({'first_call-load_image': 1, 'last_call-thread': 1})"
       ]
      },
      {
       "output_type": "stream",
       "stream": "stdout",
       "text": [
        "\n",
        "Counter({'first_call-load_image': 1, 'last_call-thread': 1})\n",
        "Counter({'first_call-load_image': 1, 'last_call-enum_window': 1})\n",
        "Counter({'first_call-load_image': 1, 'last_call-thread': 1})\n",
        "Counter({'first_call-load_image': 1, 'last_call-enum_window': 1})"
       ]
      },
      {
       "output_type": "stream",
       "stream": "stdout",
       "text": [
        "\n",
        "Counter({'first_call-load_image': 1, 'last_call-kill_process': 1})\n",
        "Counter({'first_call-load_image': 1, 'last_call-kill_process': 1})\n",
        "Counter({'first_call-load_image': 1, 'last_call-enum_window': 1})\n",
        "Counter({'first_call-load_image': 1, 'last_call-thread': 1})"
       ]
      },
      {
       "output_type": "stream",
       "stream": "stdout",
       "text": [
        "\n",
        "Counter({'first_call-load_image': 1, 'last_call-enum_window': 1})\n",
        "Counter({'first_call-load_image': 1, 'last_call-create_thread': 1})\n",
        "Counter({'first_call-load_image': 1, 'last_call-enum_window': 1})"
       ]
      },
      {
       "output_type": "stream",
       "stream": "stdout",
       "text": [
        "\n",
        "Counter({'first_call-load_image': 1, 'last_call-enum_window': 1})"
       ]
      },
      {
       "output_type": "stream",
       "stream": "stdout",
       "text": [
        "\n",
        "Counter({'first_call-load_image': 1, 'last_call-kill_process': 1})\n",
        "Counter({'first_call-load_image': 1, 'last_call-enum_window': 1})\n",
        "Counter({'first_call-load_image': 1, 'last_call-kill_process': 1})\n",
        "Counter({'first_call-load_image': 1, 'last_call-enum_window': 1})"
       ]
      },
      {
       "output_type": "stream",
       "stream": "stdout",
       "text": [
        "\n",
        "Counter({'first_call-load_image': 1, 'last_call-kill_process': 1})\n",
        "Counter({'first_call-load_image': 1, 'last_call-kill_process': 1})\n",
        "Counter({'first_call-load_image': 1, 'last_call-kill_process': 1})\n",
        "Counter({'first_call-load_image': 1, 'last_call-thread': 1})\n",
        "Counter({'first_call-load_image': 1, 'last_call-load_dll': 1})\n",
        "Counter({'first_call-load_image': 1, 'last_call-kill_process': 1})"
       ]
      },
      {
       "output_type": "stream",
       "stream": "stdout",
       "text": [
        "\n",
        "Counter({'first_call-load_image': 1, 'last_call-process': 1})\n",
        "Counter({'first_call-load_image': 1, 'last_call-enum_window': 1})\n",
        "Counter({'first_call-load_image': 1, 'last_call-thread': 1})\n",
        "Counter({'first_call-load_image': 1, 'last_call-thread': 1})\n",
        "Counter({'first_call-load_image': 1, 'last_call-kill_process': 1})\n",
        "Counter({'first_call-load_image': 1, 'last_call-thread': 1})"
       ]
      },
      {
       "output_type": "stream",
       "stream": "stdout",
       "text": [
        "\n",
        "Counter({'first_call-load_image': 1, 'last_call-thread': 1})\n",
        "Counter({'first_call-load_image': 1, 'last_call-enum_window': 1})\n",
        "Counter({'first_call-load_image': 1, 'last_call-kill_process': 1})\n",
        "Counter({'first_call-load_image': 1, 'last_call-enum_window': 1})\n",
        "Counter({'first_call-load_image': 1, 'last_call-kill_process': 1})\n",
        "Counter({'first_call-load_image': 1, 'last_call-kill_process': 1})\n",
        "Counter({'first_call-load_image': 1, 'last_call-thread': 1})"
       ]
      },
      {
       "output_type": "stream",
       "stream": "stdout",
       "text": [
        "\n",
        "Counter({'first_call-load_image': 1, 'last_call-enum_window': 1})\n",
        "Counter({'first_call-load_image': 1, 'last_call-thread': 1})"
       ]
      },
      {
       "output_type": "stream",
       "stream": "stdout",
       "text": [
        "\n",
        "Counter({'first_call-load_image': 1, 'last_call-thread': 1})"
       ]
      },
      {
       "output_type": "stream",
       "stream": "stdout",
       "text": [
        "\n",
        "Counter({'first_call-load_image': 1, 'last_call-enum_window': 1})\n",
        "Counter({'first_call-load_image': 1, 'last_call-enum_window': 1})\n",
        "Counter({'first_call-load_image': 1, 'last_call-kill_process': 1})\n",
        "Counter({'first_call-load_image': 1, 'last_call-kill_process': 1})\n",
        "Counter({'first_call-load_image': 1, 'last_call-kill_process': 1})\n",
        "Counter({'first_call-load_image': 1, 'last_call-load_dll': 1})\n",
        "Counter({'first_call-load_image': 1, 'last_call-kill_process': 1})"
       ]
      },
      {
       "output_type": "stream",
       "stream": "stdout",
       "text": [
        "\n",
        "Counter({'first_call-load_image': 1, 'last_call-thread': 1})\n",
        "Counter({'first_call-load_image': 1, 'last_call-thread': 1})\n",
        "Counter({'first_call-load_image': 1, 'last_call-kill_process': 1})\n",
        "Counter({'first_call-load_image': 1, 'last_call-enum_window': 1})\n",
        "Counter({'first_call-load_image': 1, 'last_call-thread': 1})\n",
        "Counter({'first_call-load_image': 1, 'last_call-thread': 1})\n",
        "Counter({'first_call-load_image': 1, 'last_call-kill_process': 1})"
       ]
      },
      {
       "output_type": "stream",
       "stream": "stdout",
       "text": [
        "\n",
        "Counter({'first_call-load_image': 1, 'last_call-enum_window': 1})\n",
        "Counter({'first_call-load_image': 1, 'last_call-thread': 1})"
       ]
      },
      {
       "output_type": "stream",
       "stream": "stdout",
       "text": [
        "\n",
        "Counter({'first_call-load_image': 1, 'last_call-thread': 1})\n",
        "Counter({'first_call-load_image': 1, 'last_call-enum_window': 1})"
       ]
      },
      {
       "output_type": "stream",
       "stream": "stdout",
       "text": [
        "\n",
        "Counter({'first_call-load_image': 1, 'last_call-thread': 1})\n",
        "Counter({'first_call-load_image': 1, 'last_call-sleep': 1})"
       ]
      },
      {
       "output_type": "stream",
       "stream": "stdout",
       "text": [
        "\n",
        "Counter({'first_call-load_image': 1, 'last_call-thread': 1})"
       ]
      },
      {
       "output_type": "stream",
       "stream": "stdout",
       "text": [
        "\n",
        "Counter({'first_call-load_image': 1, 'last_call-kill_process': 1})\n",
        "Counter({'first_call-load_image': 1, 'last_call-enum_window': 1})\n",
        "Counter({'first_call-load_image': 1, 'last_call-kill_process': 1})\n",
        "Counter({'first_call-load_image': 1, 'last_call-thread': 1})\n",
        "Counter({'first_call-load_image': 1, 'last_call-thread': 1})"
       ]
      },
      {
       "output_type": "stream",
       "stream": "stdout",
       "text": [
        "\n",
        "Counter({'first_call-load_image': 1, 'last_call-kill_process': 1})\n",
        "Counter({'first_call-load_image': 1, 'last_call-enum_window': 1})\n",
        "Counter({'first_call-load_image': 1, 'last_call-thread': 1})\n",
        "Counter({'first_call-load_image': 1, 'last_call-thread': 1})"
       ]
      },
      {
       "output_type": "stream",
       "stream": "stdout",
       "text": [
        "\n",
        "Counter({'first_call-load_image': 1, 'last_call-load_dll': 1})"
       ]
      },
      {
       "output_type": "stream",
       "stream": "stdout",
       "text": [
        "\n",
        "Counter({'first_call-load_image': 1, 'last_call-enum_window': 1})\n",
        "Counter({'first_call-load_image': 1, 'last_call-create_thread': 1})\n",
        "Counter({'first_call-load_image': 1, 'last_call-kill_process': 1})\n",
        "Counter({'first_call-load_image': 1, 'last_call-enum_window': 1})\n",
        "Counter({'first_call-load_image': 1, 'last_call-thread': 1})\n",
        "Counter({'first_call-load_image': 1, 'last_call-enum_window': 1})\n",
        "Counter({'first_call-load_image': 1, 'last_call-process': 1})"
       ]
      },
      {
       "output_type": "stream",
       "stream": "stdout",
       "text": [
        "\n",
        "Counter({'first_call-load_image': 1, 'last_call-create_mutex': 1})"
       ]
      },
      {
       "output_type": "stream",
       "stream": "stdout",
       "text": [
        "\n",
        "Counter({'first_call-load_image': 1, 'last_call-kill_process': 1})"
       ]
      },
      {
       "output_type": "stream",
       "stream": "stdout",
       "text": [
        "\n",
        "Counter({'first_call-load_image': 1, 'last_call-thread': 1})\n",
        "Counter({'first_call-load_image': 1, 'last_call-thread': 1})\n",
        "Counter({'first_call-load_image': 1, 'last_call-enum_window': 1})\n",
        "Counter({'first_call-load_image': 1, 'last_call-kill_process': 1})\n",
        "Counter({'first_call-load_image': 1, 'last_call-load_dll': 1})"
       ]
      },
      {
       "output_type": "stream",
       "stream": "stdout",
       "text": [
        "\n",
        "Counter({'first_call-load_image': 1, 'last_call-kill_process': 1})\n",
        "Counter({'first_call-load_image': 1, 'last_call-process': 1})\n",
        "Counter({'first_call-load_image': 1, 'last_call-thread': 1})"
       ]
      },
      {
       "output_type": "stream",
       "stream": "stdout",
       "text": [
        "\n",
        "Counter({'first_call-load_image': 1, 'last_call-thread': 1})"
       ]
      },
      {
       "output_type": "stream",
       "stream": "stdout",
       "text": [
        "\n",
        "Counter({'first_call-load_image': 1, 'last_call-thread': 1})\n",
        "Counter({'first_call-load_image': 1, 'last_call-enum_window': 1})\n",
        "Counter({'first_call-load_image': 1, 'last_call-thread': 1})"
       ]
      },
      {
       "output_type": "stream",
       "stream": "stdout",
       "text": [
        "\n",
        "Counter({'first_call-load_image': 1, 'last_call-kill_process': 1})\n",
        "Counter({'first_call-load_image': 1, 'last_call-thread': 1})\n",
        "Counter({'first_call-load_image': 1, 'last_call-thread': 1})\n",
        "Counter({'first_call-load_image': 1, 'last_call-kill_process': 1})\n",
        "Counter({'first_call-load_image': 1, 'last_call-kill_process': 1})"
       ]
      },
      {
       "output_type": "stream",
       "stream": "stdout",
       "text": [
        "\n",
        "Counter({'first_call-load_image': 1, 'last_call-thread': 1})\n",
        "Counter({'first_call-load_image': 1, 'last_call-kill_process': 1})\n",
        "Counter({'first_call-load_image': 1, 'last_call-kill_process': 1})\n",
        "Counter({'first_call-load_image': 1, 'last_call-enum_window': 1})"
       ]
      },
      {
       "output_type": "stream",
       "stream": "stdout",
       "text": [
        "\n",
        "Counter({'first_call-load_image': 1, 'last_call-thread': 1})"
       ]
      },
      {
       "output_type": "stream",
       "stream": "stdout",
       "text": [
        "\n",
        "Counter({'first_call-load_image': 1, 'last_call-kill_process': 1})"
       ]
      },
      {
       "output_type": "stream",
       "stream": "stdout",
       "text": [
        "\n",
        "Counter({'first_call-load_image': 1, 'last_call-thread': 1})\n",
        "Counter({'first_call-load_image': 1, 'last_call-enum_window': 1})\n",
        "Counter({'first_call-load_image': 1, 'last_call-process': 1})\n",
        "Counter({'first_call-load_image': 1, 'last_call-process': 1})\n",
        "Counter({'first_call-load_image': 1, 'last_call-enum_window': 1})"
       ]
      },
      {
       "output_type": "stream",
       "stream": "stdout",
       "text": [
        "\n",
        "Counter({'first_call-load_image': 1, 'last_call-enum_window': 1})\n",
        "Counter({'first_call-load_image': 1, 'last_call-enum_window': 1})\n",
        "Counter({'first_call-load_image': 1, 'last_call-thread': 1})\n",
        "Counter({'first_call-load_image': 1, 'last_call-thread': 1})\n",
        "Counter({'first_call-load_image': 1, 'last_call-enum_window': 1})"
       ]
      },
      {
       "output_type": "stream",
       "stream": "stdout",
       "text": [
        "\n",
        "Counter({'first_call-load_image': 1, 'last_call-kill_process': 1})\n",
        "Counter({'first_call-load_image': 1, 'last_call-thread': 1})\n",
        "Counter({'first_call-load_image': 1, 'last_call-process': 1})"
       ]
      },
      {
       "output_type": "stream",
       "stream": "stdout",
       "text": [
        "\n",
        "Counter({'first_call-load_image': 1, 'last_call-kill_process': 1})\n",
        "Counter({'first_call-load_image': 1, 'last_call-kill_process': 1})\n",
        "Counter({'first_call-load_image': 1, 'last_call-kill_process': 1})\n",
        "Counter({'first_call-load_image': 1, 'last_call-thread': 1})"
       ]
      },
      {
       "output_type": "stream",
       "stream": "stdout",
       "text": [
        "\n",
        "Counter({'first_call-load_image': 1, 'last_call-kill_process': 1})\n",
        "Counter({'first_call-load_image': 1, 'last_call-kill_process': 1})\n",
        "Counter({'first_call-load_image': 1, 'last_call-thread': 1})"
       ]
      },
      {
       "output_type": "stream",
       "stream": "stdout",
       "text": [
        "\n",
        "Counter({'first_call-load_image': 1, 'last_call-enum_window': 1})\n",
        "Counter({'first_call-load_image': 1, 'last_call-kill_process': 1})\n",
        "Counter({'first_call-load_image': 1, 'last_call-thread': 1})"
       ]
      },
      {
       "output_type": "stream",
       "stream": "stdout",
       "text": [
        "\n",
        "Counter({'first_call-load_image': 1, 'last_call-thread': 1})\n",
        "Counter({'first_call-load_image': 1, 'last_call-thread': 1})\n",
        "Counter({'first_call-load_image': 1, 'last_call-thread': 1})\n",
        "Counter({'first_call-load_image': 1, 'last_call-thread': 1})"
       ]
      },
      {
       "output_type": "stream",
       "stream": "stdout",
       "text": [
        "\n",
        "Counter({'first_call-load_image': 1, 'last_call-open_process': 1})\n",
        "Counter({'first_call-load_image': 1, 'last_call-enum_window': 1})\n",
        "Counter({'first_call-load_image': 1, 'last_call-process': 1})\n",
        "Counter({'first_call-load_image': 1, 'last_call-thread': 1})\n",
        "Counter({'first_call-load_image': 1, 'last_call-kill_process': 1})\n",
        "Counter({'first_call-load_image': 1, 'last_call-kill_process': 1})\n",
        "Counter({'first_call-load_image': 1, 'last_call-load_dll': 1})\n",
        "Counter({'first_call-load_image': 1, 'last_call-kill_process': 1})"
       ]
      },
      {
       "output_type": "stream",
       "stream": "stdout",
       "text": [
        "\n",
        "Counter({'first_call-load_image': 1, 'last_call-load_dll': 1})\n",
        "Counter({'first_call-load_image': 1, 'last_call-kill_process': 1})\n",
        "Counter({'first_call-load_image': 1, 'last_call-kill_process': 1})\n",
        "Counter({'first_call-load_image': 1, 'last_call-kill_process': 1})"
       ]
      },
      {
       "output_type": "stream",
       "stream": "stdout",
       "text": [
        "\n",
        "Counter({'first_call-load_image': 1, 'last_call-kill_process': 1})\n",
        "Counter({'first_call-load_image': 1, 'last_call-enum_window': 1})\n",
        "Counter({'first_call-load_image': 1, 'last_call-thread': 1})\n",
        "Counter({'first_call-load_image': 1, 'last_call-thread': 1})\n",
        "Counter({'first_call-load_image': 1, 'last_call-enum_window': 1})\n",
        "Counter({'first_call-load_image': 1, 'last_call-thread': 1})"
       ]
      },
      {
       "output_type": "stream",
       "stream": "stdout",
       "text": [
        "\n",
        "Counter({'first_call-load_image': 1, 'last_call-load_dll': 1})"
       ]
      },
      {
       "output_type": "stream",
       "stream": "stdout",
       "text": [
        "\n",
        "Counter({'first_call-load_image': 1, 'last_call-kill_process': 1})"
       ]
      },
      {
       "output_type": "stream",
       "stream": "stdout",
       "text": [
        "\n",
        "Counter({'first_call-load_image': 1, 'last_call-load_dll': 1})\n",
        "Counter({'first_call-load_image': 1, 'last_call-thread': 1})\n",
        "Counter({'first_call-load_image': 1, 'last_call-enum_window': 1})"
       ]
      },
      {
       "output_type": "stream",
       "stream": "stdout",
       "text": [
        "\n",
        "Counter({'first_call-load_image': 1, 'last_call-kill_process': 1})\n",
        "Counter({'first_call-load_image': 1, 'last_call-thread': 1})\n",
        "Counter({'first_call-load_image': 1, 'last_call-process': 1})\n",
        "Counter({'first_call-load_image': 1, 'last_call-kill_process': 1})"
       ]
      },
      {
       "output_type": "stream",
       "stream": "stdout",
       "text": [
        "\n",
        "Counter({'first_call-load_image': 1, 'last_call-kill_process': 1})\n",
        "Counter({'first_call-load_image': 1, 'last_call-kill_process': 1})\n",
        "Counter({'first_call-load_image': 1, 'last_call-thread': 1})\n",
        "Counter({'first_call-load_image': 1, 'last_call-thread': 1})\n",
        "Counter({'first_call-load_image': 1, 'last_call-thread': 1})\n",
        "Counter({'first_call-load_image': 1, 'last_call-enum_window': 1})\n",
        "Counter({'first_call-load_image': 1, 'last_call-load_dll': 1})\n",
        "Counter({'first_call-load_image': 1, 'last_call-thread': 1})\n",
        "Counter({'first_call-load_image': 1, 'last_call-load_dll': 1})"
       ]
      },
      {
       "output_type": "stream",
       "stream": "stdout",
       "text": [
        "\n",
        "Counter({'first_call-load_image': 1, 'last_call-kill_process': 1})\n",
        "Counter({'first_call-load_image': 1, 'last_call-thread': 1})"
       ]
      },
      {
       "output_type": "stream",
       "stream": "stdout",
       "text": [
        "\n",
        "Counter({'first_call-load_image': 1, 'last_call-thread': 1})"
       ]
      },
      {
       "output_type": "stream",
       "stream": "stdout",
       "text": [
        "\n",
        "Counter({'first_call-load_image': 1, 'last_call-enum_window': 1})\n",
        "Counter({'first_call-load_image': 1, 'last_call-enum_window': 1})\n",
        "Counter({'first_call-load_image': 1, 'last_call-process': 1})\n",
        "Counter({'first_call-load_image': 1, 'last_call-kill_process': 1})\n",
        "Counter({'first_call-load_image': 1, 'last_call-kill_process': 1})\n",
        "Counter({'first_call-load_image': 1, 'last_call-enum_window': 1})\n",
        "Counter({'first_call-load_image': 1, 'last_call-thread': 1})\n",
        "Counter({'first_call-load_image': 1, 'last_call-thread': 1})"
       ]
      },
      {
       "output_type": "stream",
       "stream": "stdout",
       "text": [
        "\n",
        "Counter({'first_call-load_image': 1, 'last_call-kill_process': 1})\n",
        "Counter({'first_call-load_image': 1, 'last_call-open_process': 1})\n",
        "Counter({'first_call-load_image': 1, 'last_call-process': 1})"
       ]
      },
      {
       "output_type": "stream",
       "stream": "stdout",
       "text": [
        "\n",
        "Counter({'first_call-load_image': 1, 'last_call-kill_process': 1})\n",
        "Counter({'first_call-load_image': 1, 'last_call-thread': 1})\n",
        "Counter({'first_call-load_image': 1, 'last_call-thread': 1})\n",
        "Counter({'first_call-load_image': 1, 'last_call-thread': 1})\n"
       ]
      },
      {
       "output_type": "stream",
       "stream": "stdout",
       "text": [
        "Counter({'first_call-load_image': 1, 'last_call-kill_process': 1})\n",
        "Counter({'first_call-load_image': 1, 'last_call-process': 1})\n",
        "Counter({'first_call-load_image': 1, 'last_call-kill_process': 1})\n",
        "Counter({'first_call-load_image': 1, 'last_call-kill_process': 1})\n",
        "Counter({'first_call-load_image': 1, 'last_call-kill_process': 1})"
       ]
      },
      {
       "output_type": "stream",
       "stream": "stdout",
       "text": [
        "\n",
        "Counter({'first_call-load_image': 1, 'last_call-enum_window': 1})\n",
        "Counter({'first_call-load_image': 1, 'last_call-thread': 1})"
       ]
      },
      {
       "output_type": "stream",
       "stream": "stdout",
       "text": [
        "\n",
        "Counter({'first_call-load_image': 1, 'last_call-kill_process': 1})"
       ]
      },
      {
       "output_type": "stream",
       "stream": "stdout",
       "text": [
        "\n",
        "Counter({'first_call-load_image': 1, 'last_call-thread': 1})\n",
        "Counter({'first_call-load_image': 1, 'last_call-thread': 1})\n",
        "Counter({'first_call-load_image': 1, 'last_call-load_dll': 1})\n",
        "Counter({'first_call-load_image': 1, 'last_call-kill_process': 1})\n",
        "Counter({'first_call-load_image': 1, 'last_call-thread': 1})"
       ]
      },
      {
       "output_type": "stream",
       "stream": "stdout",
       "text": [
        "\n",
        "Counter({'first_call-load_image': 1, 'last_call-thread': 1})"
       ]
      },
      {
       "output_type": "stream",
       "stream": "stdout",
       "text": [
        "\n",
        "Counter({'first_call-load_image': 1, 'last_call-kill_process': 1})"
       ]
      },
      {
       "output_type": "stream",
       "stream": "stdout",
       "text": [
        "\n",
        "Counter({'first_call-load_image': 1, 'last_call-thread': 1})\n",
        "Counter({'first_call-load_image': 1, 'last_call-thread': 1})\n",
        "Counter({'first_call-load_image': 1, 'last_call-load_dll': 1})\n",
        "Counter({'first_call-load_image': 1, 'last_call-process': 1})\n",
        "Counter({'first_call-load_image': 1, 'last_call-thread': 1})"
       ]
      },
      {
       "output_type": "stream",
       "stream": "stdout",
       "text": [
        "\n",
        "Counter({'first_call-load_image': 1, 'last_call-process': 1})\n",
        "Counter({'first_call-load_image': 1, 'last_call-kill_process': 1})\n",
        "Counter({'first_call-load_image': 1, 'last_call-thread': 1})\n",
        "Counter({'first_call-load_image': 1, 'last_call-kill_process': 1})\n",
        "Counter({'first_call-load_image': 1, 'last_call-enum_window': 1})\n",
        "Counter({'first_call-load_image': 1, 'last_call-thread': 1})\n",
        "Counter({'first_call-load_image': 1, 'last_call-kill_process': 1})"
       ]
      },
      {
       "output_type": "stream",
       "stream": "stdout",
       "text": [
        "\n",
        "Counter({'first_call-load_image': 1, 'last_call-thread': 1})\n",
        "Counter({'first_call-load_image': 1, 'last_call-enum_window': 1})\n",
        "Counter({'first_call-load_image': 1, 'last_call-open_process': 1})"
       ]
      },
      {
       "output_type": "stream",
       "stream": "stdout",
       "text": [
        "\n",
        "Counter({'first_call-load_image': 1, 'last_call-thread': 1})"
       ]
      },
      {
       "output_type": "stream",
       "stream": "stdout",
       "text": [
        "\n",
        "Counter({'first_call-load_image': 1, 'last_call-thread': 1})\n",
        "Counter({'first_call-load_image': 1, 'last_call-thread': 1})\n",
        "Counter({'first_call-load_image': 1, 'last_call-kill_process': 1})"
       ]
      },
      {
       "output_type": "stream",
       "stream": "stdout",
       "text": [
        "\n",
        "Counter({'first_call-load_image': 1, 'last_call-create_thread': 1})"
       ]
      },
      {
       "output_type": "stream",
       "stream": "stdout",
       "text": [
        "\n",
        "Counter({'first_call-load_image': 1, 'last_call-kill_process': 1})\n",
        "Counter({'first_call-load_image': 1, 'last_call-enum_window': 1})\n",
        "Counter({'first_call-load_image': 1, 'last_call-enum_window': 1})\n",
        "Counter({'first_call-load_image': 1, 'last_call-process': 1})"
       ]
      },
      {
       "output_type": "stream",
       "stream": "stdout",
       "text": [
        "\n",
        "Counter({'first_call-load_image': 1, 'last_call-kill_process': 1})\n",
        "Counter({'first_call-load_image': 1, 'last_call-thread': 1})\n",
        "Counter({'first_call-load_image': 1, 'last_call-thread': 1})\n",
        "Counter({'first_call-load_image': 1, 'last_call-kill_process': 1})"
       ]
      },
      {
       "output_type": "stream",
       "stream": "stdout",
       "text": [
        "\n",
        "Counter({'first_call-load_image': 1, 'last_call-enum_window': 1})\n",
        "Counter({'first_call-load_image': 1, 'last_call-kill_process': 1})\n",
        "Counter({'first_call-load_image': 1, 'last_call-load_dll': 1})\n",
        "Counter({'first_call-load_image': 1, 'last_call-enum_window': 1})\n",
        "Counter({'first_call-load_image': 1, 'last_call-thread': 1})\n",
        "Counter({'first_call-load_image': 1, 'last_call-kill_process': 1})"
       ]
      },
      {
       "output_type": "stream",
       "stream": "stdout",
       "text": [
        "\n",
        "Counter({'first_call-load_image': 1, 'last_call-kill_process': 1})\n",
        "Counter({'first_call-load_image': 1, 'last_call-kill_process': 1})\n",
        "Counter({'first_call-load_image': 1, 'last_call-enum_window': 1})\n",
        "Counter({'first_call-load_image': 1, 'last_call-thread': 1})\n",
        "Counter({'first_call-load_image': 1, 'last_call-kill_process': 1})\n",
        "Counter({'first_call-load_image': 1, 'last_call-thread': 1})"
       ]
      },
      {
       "output_type": "stream",
       "stream": "stdout",
       "text": [
        "\n",
        "Counter({'first_call-load_image': 1, 'last_call-thread': 1})\n",
        "Counter({'first_call-load_image': 1, 'last_call-get_system_directory': 1})\n",
        "Counter({'first_call-load_image': 1, 'last_call-thread': 1})\n",
        "Counter({'first_call-load_image': 1, 'last_call-kill_process': 1})"
       ]
      },
      {
       "output_type": "stream",
       "stream": "stdout",
       "text": [
        "\n",
        "Counter({'first_call-load_image': 1, 'last_call-kill_process': 1})\n",
        "Counter({'first_call-load_image': 1, 'last_call-enum_window': 1})\n",
        "Counter({'first_call-load_image': 1, 'last_call-load_dll': 1})\n",
        "Counter({'first_call-load_image': 1, 'last_call-kill_process': 1})"
       ]
      },
      {
       "output_type": "stream",
       "stream": "stdout",
       "text": [
        "\n",
        "Counter({'first_call-load_image': 1, 'last_call-thread': 1})\n",
        "Counter({'first_call-load_image': 1, 'last_call-sleep': 1})\n",
        "Counter({'first_call-load_image': 1, 'last_call-enum_window': 1})"
       ]
      },
      {
       "output_type": "stream",
       "stream": "stdout",
       "text": [
        "\n",
        "Counter({'first_call-load_image': 1, 'last_call-kill_process': 1})\n",
        "Counter({'first_call-load_image': 1, 'last_call-kill_process': 1})\n",
        "Counter({'first_call-load_image': 1, 'last_call-open_process': 1})\n",
        "Counter({'first_call-load_image': 1, 'last_call-thread': 1})"
       ]
      },
      {
       "output_type": "stream",
       "stream": "stdout",
       "text": [
        "\n",
        "Counter({'first_call-load_image': 1, 'last_call-thread': 1})"
       ]
      },
      {
       "output_type": "stream",
       "stream": "stdout",
       "text": [
        "\n",
        "Counter({'first_call-load_image': 1, 'last_call-enum_window': 1})\n",
        "Counter({'first_call-load_image': 1, 'last_call-kill_process': 1})\n",
        "Counter({'first_call-load_image': 1, 'last_call-process': 1})"
       ]
      },
      {
       "output_type": "stream",
       "stream": "stdout",
       "text": [
        "\n",
        "Counter({'first_call-load_image': 1, 'last_call-kill_process': 1})\n",
        "Counter({'first_call-load_image': 1, 'last_call-load_dll': 1})\n",
        "Counter({'first_call-load_image': 1, 'last_call-load_dll': 1})\n",
        "Counter({'first_call-load_image': 1, 'last_call-thread': 1})\n",
        "Counter({'first_call-load_image': 1, 'last_call-thread': 1})"
       ]
      },
      {
       "output_type": "stream",
       "stream": "stdout",
       "text": [
        "\n",
        "Counter({'first_call-load_image': 1, 'last_call-kill_process': 1})\n",
        "Counter({'first_call-load_image': 1, 'last_call-kill_process': 1})\n",
        "Counter({'first_call-load_image': 1, 'last_call-kill_process': 1})\n",
        "Counter({'first_call-load_image': 1, 'last_call-kill_process': 1})\n",
        "Counter({'first_call-load_image': 1, 'last_call-enum_window': 1})"
       ]
      },
      {
       "output_type": "stream",
       "stream": "stdout",
       "text": [
        "\n",
        "Counter({'first_call-load_image': 1, 'last_call-process': 1})\n",
        "Counter({'first_call-load_image': 1, 'last_call-thread': 1})"
       ]
      },
      {
       "output_type": "stream",
       "stream": "stdout",
       "text": [
        "\n",
        "Counter({'first_call-load_image': 1, 'last_call-kill_process': 1})\n",
        "Counter({'first_call-load_image': 1, 'last_call-kill_process': 1})\n",
        "Counter({'first_call-load_image': 1, 'last_call-thread': 1})"
       ]
      },
      {
       "output_type": "stream",
       "stream": "stdout",
       "text": [
        "\n",
        "Counter({'first_call-load_image': 1, 'last_call-kill_process': 1})"
       ]
      },
      {
       "output_type": "stream",
       "stream": "stdout",
       "text": [
        "\n",
        "Counter({'first_call-load_image': 1, 'last_call-kill_process': 1})\n",
        "Counter({'first_call-load_image': 1, 'last_call-open_file': 1})\n",
        "Counter({'first_call-load_image': 1, 'last_call-process': 1})\n",
        "Counter({'first_call-load_image': 1, 'last_call-kill_process': 1})\n",
        "Counter({'first_call-load_image': 1, 'last_call-kill_process': 1})"
       ]
      },
      {
       "output_type": "stream",
       "stream": "stdout",
       "text": [
        "\n",
        "Counter({'first_call-load_image': 1, 'last_call-enum_window': 1})\n",
        "Counter({'first_call-load_image': 1, 'last_call-check_for_debugger': 1})\n",
        "Counter({'first_call-load_image': 1, 'last_call-thread': 1})\n",
        "Counter({'first_call-load_image': 1, 'last_call-thread': 1})"
       ]
      },
      {
       "output_type": "stream",
       "stream": "stdout",
       "text": [
        "\n",
        "Counter({'first_call-load_image': 1, 'last_call-thread': 1})\n",
        "Counter({'first_call-load_image': 1, 'last_call-thread': 1})"
       ]
      },
      {
       "output_type": "stream",
       "stream": "stdout",
       "text": [
        "\n",
        "Counter({'first_call-load_image': 1, 'last_call-kill_process': 1})\n",
        "Counter({'first_call-load_image': 1, 'last_call-thread': 1})\n",
        "Counter({'first_call-load_image': 1, 'last_call-enum_window': 1})"
       ]
      },
      {
       "output_type": "stream",
       "stream": "stdout",
       "text": [
        "\n",
        "Counter({'first_call-load_image': 1, 'last_call-enum_window': 1})\n",
        "Counter({'first_call-load_image': 1, 'last_call-process': 1})"
       ]
      },
      {
       "output_type": "stream",
       "stream": "stdout",
       "text": [
        "\n",
        "Counter({'first_call-load_image': 1, 'last_call-kill_process': 1})\n",
        "Counter({'first_call-load_image': 1, 'last_call-enum_window': 1})\n",
        "Counter({'first_call-load_image': 1, 'last_call-kill_process': 1})\n",
        "Counter({'first_call-load_image': 1, 'last_call-kill_process': 1})\n",
        "Counter({'first_call-load_image': 1, 'last_call-create_open_file': 1})"
       ]
      },
      {
       "output_type": "stream",
       "stream": "stdout",
       "text": [
        "\n",
        "Counter({'first_call-load_image': 1, 'last_call-enum_window': 1})\n",
        "Counter({'first_call-load_image': 1, 'last_call-kill_process': 1})\n",
        "Counter({'first_call-load_image': 1, 'last_call-kill_process': 1})\n",
        "Counter({'first_call-load_image': 1, 'last_call-load_dll': 1})\n",
        "Counter({'first_call-load_image': 1, 'last_call-kill_process': 1})\n",
        "Counter({'first_call-load_image': 1, 'last_call-kill_process': 1})"
       ]
      },
      {
       "output_type": "stream",
       "stream": "stdout",
       "text": [
        "\n",
        "Counter({'first_call-load_image': 1, 'last_call-enum_window': 1})\n",
        "Counter({'first_call-load_image': 1, 'last_call-thread': 1})\n",
        "Counter({'first_call-load_image': 1, 'last_call-thread': 1})\n",
        "Counter({'first_call-load_image': 1, 'last_call-kill_process': 1})\n",
        "Counter({'first_call-load_image': 1, 'last_call-enum_window': 1})"
       ]
      },
      {
       "output_type": "stream",
       "stream": "stdout",
       "text": [
        "\n",
        "Counter({'first_call-load_image': 1, 'last_call-kill_process': 1})\n",
        "Counter({'first_call-load_image': 1, 'last_call-process': 1})\n",
        "Counter({'first_call-load_image': 1, 'last_call-kill_process': 1})\n",
        "Counter({'first_call-load_image': 1, 'last_call-enum_window': 1})\n",
        "Counter({'first_call-load_image': 1, 'last_call-enum_window': 1})\n",
        "Counter({'first_call-load_image': 1, 'last_call-process': 1})"
       ]
      },
      {
       "output_type": "stream",
       "stream": "stdout",
       "text": [
        "\n",
        "Counter({'first_call-load_image': 1, 'last_call-process': 1})"
       ]
      },
      {
       "output_type": "stream",
       "stream": "stdout",
       "text": [
        "\n",
        "Counter({'first_call-load_image': 1, 'last_call-kill_process': 1})\n",
        "Counter({'first_call-load_image': 1, 'last_call-load_dll': 1})"
       ]
      },
      {
       "output_type": "stream",
       "stream": "stdout",
       "text": [
        "\n",
        "Counter({'first_call-load_image': 1, 'last_call-thread': 1})\n",
        "Counter({'first_call-load_image': 1, 'last_call-kill_process': 1})\n",
        "Counter({'first_call-load_image': 1, 'last_call-thread': 1})\n",
        "Counter({'first_call-load_image': 1, 'last_call-process': 1})\n",
        "Counter({'first_call-load_image': 1, 'last_call-load_dll': 1})"
       ]
      },
      {
       "output_type": "stream",
       "stream": "stdout",
       "text": [
        "\n",
        "Counter({'first_call-load_image': 1, 'last_call-enum_window': 1})\n",
        "Counter({'first_call-load_image': 1, 'last_call-kill_process': 1})\n",
        "Counter({'first_call-load_image': 1, 'last_call-kill_process': 1})\n",
        "Counter({'first_call-load_image': 1, 'last_call-kill_process': 1})"
       ]
      },
      {
       "output_type": "stream",
       "stream": "stdout",
       "text": [
        "\n",
        "Counter({'first_call-load_image': 1, 'last_call-thread': 1})\n",
        "Counter({'first_call-load_image': 1, 'last_call-enum_window': 1})\n",
        "Counter({'first_call-load_image': 1, 'last_call-kill_process': 1})\n",
        "Counter({'first_call-load_image': 1, 'last_call-load_dll': 1})"
       ]
      },
      {
       "output_type": "stream",
       "stream": "stdout",
       "text": [
        "\n",
        "Counter({'first_call-load_image': 1, 'last_call-thread': 1})\n",
        "Counter({'first_call-load_image': 1, 'last_call-load_dll': 1})"
       ]
      },
      {
       "output_type": "stream",
       "stream": "stdout",
       "text": [
        "\n",
        "Counter({'first_call-load_image': 1, 'last_call-thread': 1})\n",
        "Counter({'first_call-load_image': 1, 'last_call-kill_process': 1})"
       ]
      },
      {
       "output_type": "stream",
       "stream": "stdout",
       "text": [
        "\n",
        "Counter({'first_call-load_image': 1, 'last_call-kill_process': 1})\n",
        "Counter({'first_call-load_image': 1, 'last_call-sleep': 1})"
       ]
      },
      {
       "output_type": "stream",
       "stream": "stdout",
       "text": [
        "\n",
        "Counter({'first_call-load_image': 1, 'last_call-enum_window': 1})"
       ]
      },
      {
       "output_type": "stream",
       "stream": "stdout",
       "text": [
        "\n",
        "Counter({'first_call-load_image': 1, 'last_call-thread': 1})"
       ]
      },
      {
       "output_type": "stream",
       "stream": "stdout",
       "text": [
        "\n",
        "Counter({'first_call-load_image': 1, 'last_call-enum_window': 1})\n",
        "Counter({'first_call-load_image': 1, 'last_call-thread': 1})\n",
        "Counter({'first_call-load_image': 1, 'last_call-enum_window': 1})"
       ]
      },
      {
       "output_type": "stream",
       "stream": "stdout",
       "text": [
        "\n",
        "Counter({'first_call-load_image': 1, 'last_call-enum_window': 1})"
       ]
      },
      {
       "output_type": "stream",
       "stream": "stdout",
       "text": [
        "\n",
        "Counter({'first_call-load_image': 1, 'last_call-kill_process': 1})\n",
        "Counter({'first_call-load_image': 1, 'last_call-thread': 1})\n",
        "Counter({'first_call-load_image': 1, 'last_call-thread': 1})\n",
        "Counter({'first_call-load_image': 1, 'last_call-thread': 1})"
       ]
      },
      {
       "output_type": "stream",
       "stream": "stdout",
       "text": [
        "\n",
        "Counter({'first_call-load_image': 1, 'last_call-thread': 1})\n",
        "Counter({'first_call-load_image': 1, 'last_call-thread': 1})\n",
        "Counter({'first_call-load_image': 1, 'last_call-thread': 1})"
       ]
      },
      {
       "output_type": "stream",
       "stream": "stdout",
       "text": [
        "\n",
        "Counter({'first_call-load_image': 1, 'last_call-thread': 1})"
       ]
      },
      {
       "output_type": "stream",
       "stream": "stdout",
       "text": [
        "\n",
        "Counter({'first_call-load_image': 1, 'last_call-kill_process': 1})"
       ]
      },
      {
       "output_type": "stream",
       "stream": "stdout",
       "text": [
        "\n",
        "Counter({'first_call-load_image': 1, 'last_call-kill_process': 1})\n",
        "Counter({'first_call-load_image': 1, 'last_call-open_process': 1})\n",
        "Counter({'first_call-load_image': 1, 'last_call-load_dll': 1})\n",
        "Counter({'first_call-load_image': 1, 'last_call-thread': 1})\n",
        "Counter({'first_call-load_image': 1, 'last_call-thread': 1})\n",
        "Counter({'first_call-load_image': 1, 'last_call-thread': 1})\n",
        "Counter({'first_call-load_image': 1, 'last_call-kill_process': 1})"
       ]
      },
      {
       "output_type": "stream",
       "stream": "stdout",
       "text": [
        "\n",
        "Counter({'first_call-load_image': 1, 'last_call-enum_window': 1})\n",
        "Counter({'first_call-load_image': 1, 'last_call-thread': 1})\n",
        "Counter({'first_call-load_image': 1, 'last_call-kill_process': 1})\n",
        "Counter({'first_call-load_image': 1, 'last_call-thread': 1})\n",
        "Counter({'first_call-load_image': 1, 'last_call-process': 1})\n",
        "Counter({'first_call-load_image': 1, 'last_call-enum_window': 1})"
       ]
      },
      {
       "output_type": "stream",
       "stream": "stdout",
       "text": [
        "\n",
        "Counter({'first_call-load_image': 1, 'last_call-get_file_attributes': 1})\n",
        "Counter({'first_call-load_image': 1, 'last_call-enum_window': 1})\n",
        "Counter({'first_call-load_image': 1, 'last_call-kill_process': 1})\n",
        "Counter({'first_call-load_image': 1, 'last_call-kill_process': 1})\n",
        "Counter({'first_call-load_image': 1, 'last_call-thread': 1})\n",
        "Counter({'first_call-load_image': 1, 'last_call-kill_process': 1})"
       ]
      },
      {
       "output_type": "stream",
       "stream": "stdout",
       "text": [
        "\n",
        "Counter({'first_call-load_image': 1, 'last_call-kill_process': 1})\n",
        "Counter({'first_call-load_image': 1, 'last_call-open_process': 1})\n",
        "Counter({'first_call-load_image': 1, 'last_call-process': 1})"
       ]
      },
      {
       "output_type": "stream",
       "stream": "stdout",
       "text": [
        "\n",
        "Counter({'first_call-load_image': 1, 'last_call-thread': 1})\n",
        "Counter({'first_call-load_image': 1, 'last_call-enum_window': 1})\n",
        "Counter({'first_call-load_image': 1, 'last_call-enum_window': 1})\n",
        "Counter({'first_call-load_image': 1, 'last_call-load_dll': 1})\n",
        "Counter({'first_call-load_image': 1, 'last_call-enum_window': 1})\n",
        "Counter({'first_call-load_image': 1, 'last_call-kill_process': 1})"
       ]
      },
      {
       "output_type": "stream",
       "stream": "stdout",
       "text": [
        "\n",
        "Counter({'first_call-load_image': 1, 'last_call-kill_process': 1})\n",
        "Counter({'first_call-load_image': 1, 'last_call-kill_process': 1})\n",
        "Counter({'first_call-load_image': 1, 'last_call-enum_window': 1})\n",
        "Counter({'first_call-load_image': 1, 'last_call-thread': 1})\n",
        "Counter({'first_call-load_image': 1, 'last_call-load_dll': 1})\n",
        "Counter({'first_call-load_image': 1, 'last_call-kill_process': 1})"
       ]
      },
      {
       "output_type": "stream",
       "stream": "stdout",
       "text": [
        "\n",
        "Counter({'first_call-load_image': 1, 'last_call-enum_window': 1})\n",
        "Counter({'first_call-load_image': 1, 'last_call-create_mutex': 1})\n",
        "Counter({'first_call-load_image': 1, 'last_call-thread': 1})\n",
        "Counter({'first_call-load_image': 1, 'last_call-kill_process': 1})\n",
        "Counter({'first_call-load_image': 1, 'last_call-sleep': 1})\n",
        "Counter({'first_call-load_image': 1, 'last_call-kill_process': 1})\n",
        "Counter({'first_call-load_image': 1, 'last_call-kill_process': 1})"
       ]
      },
      {
       "output_type": "stream",
       "stream": "stdout",
       "text": [
        "\n",
        "Counter({'first_call-load_image': 1, 'last_call-kill_process': 1})\n",
        "Counter({'first_call-load_image': 1, 'last_call-enum_window': 1})\n",
        "Counter({'first_call-load_image': 1, 'last_call-enum_window': 1})"
       ]
      },
      {
       "output_type": "stream",
       "stream": "stdout",
       "text": [
        "\n",
        "Counter({'first_call-load_image': 1, 'last_call-process': 1})\n",
        "Counter({'first_call-load_image': 1, 'last_call-kill_process': 1})"
       ]
      },
      {
       "output_type": "stream",
       "stream": "stdout",
       "text": [
        "\n",
        "Counter({'first_call-load_image': 1, 'last_call-load_dll': 1})\n",
        "Counter({'first_call-load_image': 1, 'last_call-thread': 1})\n",
        "Counter({'first_call-load_image': 1, 'last_call-kill_process': 1})"
       ]
      },
      {
       "output_type": "stream",
       "stream": "stdout",
       "text": [
        "\n",
        "Counter({'first_call-load_image': 1, 'last_call-thread': 1})\n",
        "Counter({'first_call-load_image': 1, 'last_call-thread': 1})\n",
        "Counter({'first_call-load_image': 1, 'last_call-thread': 1})\n",
        "Counter({'first_call-load_image': 1, 'last_call-thread': 1})"
       ]
      },
      {
       "output_type": "stream",
       "stream": "stdout",
       "text": [
        "\n",
        "Counter({'first_call-load_image': 1, 'last_call-enum_window': 1})\n",
        "Counter({'first_call-load_image': 1, 'last_call-enum_window': 1})\n",
        "Counter({'first_call-load_image': 1, 'last_call-kill_process': 1})\n",
        "Counter({'first_call-load_image': 1, 'last_call-kill_process': 1})\n",
        "Counter({'first_call-load_image': 1, 'last_call-load_dll': 1})\n",
        "Counter({'first_call-load_image': 1, 'last_call-kill_process': 1})"
       ]
      },
      {
       "output_type": "stream",
       "stream": "stdout",
       "text": [
        "\n",
        "Counter({'first_call-load_image': 1, 'last_call-process': 1})\n",
        "Counter({'first_call-load_image': 1, 'last_call-kill_process': 1})\n",
        "Counter({'first_call-load_image': 1, 'last_call-enum_window': 1})\n",
        "Counter({'first_call-load_image': 1, 'last_call-enum_window': 1})\n",
        "Counter({'first_call-load_image': 1, 'last_call-thread': 1})\n",
        "Counter({'first_call-load_image': 1, 'last_call-thread': 1})"
       ]
      },
      {
       "output_type": "stream",
       "stream": "stdout",
       "text": [
        "\n",
        "Counter({'first_call-load_image': 1, 'last_call-kill_process': 1})\n",
        "Counter({'first_call-load_image': 1, 'last_call-thread': 1})\n",
        "Counter({'first_call-load_image': 1, 'last_call-enum_window': 1})\n",
        "Counter({'first_call-load_image': 1, 'last_call-load_dll': 1})\n",
        "Counter({'first_call-load_image': 1, 'last_call-load_dll': 1})"
       ]
      },
      {
       "output_type": "stream",
       "stream": "stdout",
       "text": [
        "\n",
        "Counter({'first_call-load_image': 1, 'last_call-open_process': 1})\n",
        "Counter({'first_call-load_image': 1, 'last_call-open_process': 1})"
       ]
      },
      {
       "output_type": "stream",
       "stream": "stdout",
       "text": [
        "\n",
        "Counter({'first_call-load_image': 1, 'last_call-thread': 1})\n",
        "Counter({'first_call-load_image': 1, 'last_call-thread': 1})\n",
        "Counter({'first_call-load_image': 1, 'last_call-enum_window': 1})\n",
        "Counter({'first_call-load_image': 1, 'last_call-thread': 1})"
       ]
      },
      {
       "output_type": "stream",
       "stream": "stdout",
       "text": [
        "\n",
        "Counter({'first_call-load_image': 1, 'last_call-kill_process': 1})\n",
        "Counter({'first_call-load_image': 1, 'last_call-thread': 1})"
       ]
      },
      {
       "output_type": "stream",
       "stream": "stdout",
       "text": [
        "\n",
        "Counter({'first_call-load_image': 1, 'last_call-enum_window': 1})"
       ]
      },
      {
       "output_type": "stream",
       "stream": "stdout",
       "text": [
        "\n",
        "Counter({'first_call-load_image': 1, 'last_call-thread': 1})\n",
        "Counter({'first_call-load_image': 1, 'last_call-kill_process': 1})\n",
        "Counter({'first_call-load_image': 1, 'last_call-load_dll': 1})"
       ]
      },
      {
       "output_type": "stream",
       "stream": "stdout",
       "text": [
        "\n",
        "Counter({'first_call-load_image': 1, 'last_call-enum_window': 1})"
       ]
      },
      {
       "output_type": "stream",
       "stream": "stdout",
       "text": [
        "\n",
        "Counter({'first_call-load_image': 1, 'last_call-kill_process': 1})\n",
        "Counter({'first_call-load_image': 1, 'last_call-thread': 1})\n",
        "Counter({'first_call-load_image': 1, 'last_call-thread': 1})"
       ]
      },
      {
       "output_type": "stream",
       "stream": "stdout",
       "text": [
        "\n",
        "Counter({'first_call-load_image': 1, 'last_call-kill_process': 1})\n",
        "Counter({'first_call-load_image': 1, 'last_call-thread': 1})\n",
        "Counter({'first_call-load_image': 1, 'last_call-thread': 1})"
       ]
      },
      {
       "output_type": "stream",
       "stream": "stdout",
       "text": [
        "\n",
        "Counter({'first_call-load_image': 1, 'last_call-kill_process': 1})\n",
        "Counter({'first_call-load_image': 1, 'last_call-thread': 1})"
       ]
      },
      {
       "output_type": "stream",
       "stream": "stdout",
       "text": [
        "\n",
        "Counter({'first_call-load_image': 1, 'last_call-thread': 1})\n",
        "Counter({'first_call-load_image': 1, 'last_call-show_window': 1})\n",
        "Counter({'first_call-load_image': 1, 'last_call-thread': 1})"
       ]
      },
      {
       "output_type": "stream",
       "stream": "stdout",
       "text": [
        "\n",
        "Counter({'first_call-load_image': 1, 'last_call-thread': 1})"
       ]
      },
      {
       "output_type": "stream",
       "stream": "stdout",
       "text": [
        "\n",
        "Counter({'first_call-load_image': 1, 'last_call-thread': 1})\n",
        "Counter({'first_call-load_image': 1, 'last_call-thread': 1})\n",
        "Counter({'first_call-load_image': 1, 'last_call-enum_window': 1})"
       ]
      },
      {
       "output_type": "stream",
       "stream": "stdout",
       "text": [
        "\n",
        "Counter({'first_call-load_image': 1, 'last_call-thread': 1})\n",
        "Counter({'first_call-load_image': 1, 'last_call-kill_process': 1})\n",
        "Counter({'first_call-load_image': 1, 'last_call-kill_process': 1})\n",
        "Counter({'first_call-load_image': 1, 'last_call-thread': 1})\n",
        "Counter({'first_call-load_image': 1, 'last_call-enum_window': 1})\n",
        "Counter({'first_call-load_image': 1, 'last_call-enum_window': 1})\n",
        "Counter({'first_call-load_image': 1, 'last_call-load_dll': 1})"
       ]
      },
      {
       "output_type": "stream",
       "stream": "stdout",
       "text": [
        "\n",
        "Counter({'first_call-load_image': 1, 'last_call-thread': 1})\n",
        "Counter({'first_call-load_image': 1, 'last_call-load_dll': 1})\n",
        "Counter({'first_call-load_image': 1, 'last_call-process': 1})\n",
        "Counter({'first_call-load_image': 1, 'last_call-kill_process': 1})"
       ]
      },
      {
       "output_type": "stream",
       "stream": "stdout",
       "text": [
        "\n",
        "Counter({'first_call-load_image': 1, 'last_call-thread': 1})\n",
        "Counter({'first_call-load_image': 1, 'last_call-load_dll': 1})\n",
        "Counter({'first_call-load_image': 1, 'last_call-kill_process': 1})\n",
        "Counter({'first_call-load_image': 1, 'last_call-enum_window': 1})\n",
        "Counter({'first_call-load_image': 1, 'last_call-enum_window': 1})\n",
        "Counter({'first_call-load_image': 1, 'last_call-thread': 1})"
       ]
      },
      {
       "output_type": "stream",
       "stream": "stdout",
       "text": [
        "\n",
        "Counter({'first_call-load_image': 1, 'last_call-thread': 1})"
       ]
      },
      {
       "output_type": "stream",
       "stream": "stdout",
       "text": [
        "\n",
        "Counter({'first_call-load_image': 1, 'last_call-process': 1})\n",
        "Counter({'first_call-load_image': 1, 'last_call-kill_process': 1})\n",
        "Counter({'first_call-load_image': 1, 'last_call-kill_process': 1})"
       ]
      },
      {
       "output_type": "stream",
       "stream": "stdout",
       "text": [
        "\n",
        "Counter({'first_call-load_image': 1, 'last_call-load_dll': 1})\n",
        "Counter({'first_call-load_image': 1, 'last_call-kill_process': 1})\n",
        "Counter({'first_call-load_image': 1, 'last_call-kill_process': 1})\n",
        "Counter({'first_call-load_image': 1, 'last_call-kill_process': 1})\n",
        "Counter({'first_call-load_image': 1, 'last_call-kill_process': 1})\n",
        "Counter({'first_call-load_image': 1, 'last_call-open_process': 1})"
       ]
      },
      {
       "output_type": "stream",
       "stream": "stdout",
       "text": [
        "\n",
        "Counter({'first_call-load_image': 1, 'last_call-load_dll': 1})\n",
        "Counter({'first_call-load_image': 1, 'last_call-kill_process': 1})\n",
        "Counter({'first_call-load_image': 1, 'last_call-thread': 1})\n",
        "Counter({'first_call-load_image': 1, 'last_call-kill_process': 1})\n",
        "Counter({'first_call-load_image': 1, 'last_call-thread': 1})"
       ]
      },
      {
       "output_type": "stream",
       "stream": "stdout",
       "text": [
        "\n",
        "Counter({'first_call-load_image': 1, 'last_call-kill_process': 1})"
       ]
      },
      {
       "output_type": "stream",
       "stream": "stdout",
       "text": [
        "\n",
        "Counter({'first_call-load_image': 1, 'last_call-thread': 1})\n",
        "Counter({'first_call-load_image': 1, 'last_call-process': 1})\n",
        "Counter({'first_call-load_image': 1, 'last_call-enum_window': 1})\n",
        "Counter({'first_call-load_image': 1, 'last_call-kill_process': 1})\n",
        "Counter({'first_call-load_image': 1, 'last_call-query_value': 1})"
       ]
      },
      {
       "output_type": "stream",
       "stream": "stdout",
       "text": [
        "\n",
        "Counter({'first_call-load_image': 1, 'last_call-open_process': 1})"
       ]
      },
      {
       "output_type": "stream",
       "stream": "stdout",
       "text": [
        "\n",
        "Counter({'first_call-load_image': 1, 'last_call-kill_process': 1})\n",
        "Counter({'first_call-load_image': 1, 'last_call-enum_window': 1})\n",
        "Counter({'first_call-load_image': 1, 'last_call-kill_process': 1})\n",
        "Counter({'first_call-load_image': 1, 'last_call-thread': 1})\n",
        "Counter({'first_call-load_image': 1, 'last_call-kill_process': 1})\n",
        "Counter({'first_call-load_image': 1, 'last_call-kill_process': 1})"
       ]
      },
      {
       "output_type": "stream",
       "stream": "stdout",
       "text": [
        "\n",
        "Counter({'first_call-load_image': 1, 'last_call-thread': 1})\n",
        "Counter({'first_call-load_image': 1, 'last_call-thread': 1})\n",
        "Counter({'first_call-load_image': 1, 'last_call-enum_window': 1})\n",
        "Counter({'first_call-load_image': 1, 'last_call-process': 1})\n",
        "Counter({'first_call-load_image': 1, 'last_call-kill_process': 1})\n",
        "Counter({'first_call-load_image': 1, 'last_call-thread': 1})"
       ]
      },
      {
       "output_type": "stream",
       "stream": "stdout",
       "text": [
        "\n",
        "Counter({'first_call-load_image': 1, 'last_call-kill_process': 1})\n",
        "Counter({'first_call-load_image': 1, 'last_call-thread': 1})\n",
        "Counter({'first_call-load_image': 1, 'last_call-enum_window': 1})\n",
        "Counter({'first_call-load_image': 1, 'last_call-kill_process': 1})"
       ]
      },
      {
       "output_type": "stream",
       "stream": "stdout",
       "text": [
        "\n",
        "Counter({'first_call-load_image': 1, 'last_call-thread': 1})\n",
        "Counter({'first_call-load_image': 1, 'last_call-thread': 1})\n",
        "Counter({'first_call-load_image': 1, 'last_call-enum_window': 1})\n",
        "Counter({'first_call-load_image': 1, 'last_call-thread': 1})\n",
        "Counter({'first_call-load_image': 1, 'last_call-kill_process': 1})\n",
        "Counter({'first_call-load_image': 1, 'last_call-thread': 1})\n",
        "Counter({'first_call-load_image': 1, 'last_call-thread': 1})"
       ]
      },
      {
       "output_type": "stream",
       "stream": "stdout",
       "text": [
        "\n",
        "Counter({'first_call-load_image': 1, 'last_call-thread': 1})\n",
        "Counter({'first_call-load_image': 1, 'last_call-enum_window': 1})\n",
        "Counter({'first_call-load_image': 1, 'last_call-kill_process': 1})\n",
        "Counter({'first_call-load_image': 1, 'last_call-enum_window': 1})"
       ]
      },
      {
       "output_type": "stream",
       "stream": "stdout",
       "text": [
        "\n",
        "Counter({'first_call-load_image': 1, 'last_call-kill_process': 1})\n",
        "Counter({'first_call-load_image': 1, 'last_call-kill_process': 1})"
       ]
      },
      {
       "output_type": "stream",
       "stream": "stdout",
       "text": [
        "\n",
        "Counter({'first_call-load_image': 1, 'last_call-process': 1})\n",
        "Counter({'first_call-load_image': 1, 'last_call-thread': 1})\n",
        "Counter({'first_call-load_image': 1, 'last_call-kill_process': 1})\n",
        "Counter({'first_call-load_image': 1, 'last_call-thread': 1})"
       ]
      },
      {
       "output_type": "stream",
       "stream": "stdout",
       "text": [
        "\n",
        "Counter({'first_call-load_image': 1, 'last_call-kill_process': 1})\n",
        "Counter({'first_call-load_image': 1, 'last_call-enum_window': 1})\n",
        "Counter({'first_call-load_image': 1, 'last_call-kill_process': 1})\n",
        "Counter({'first_call-load_image': 1, 'last_call-enum_window': 1})\n",
        "Counter({'first_call-load_image': 1, 'last_call-kill_process': 1})\n",
        "Counter({'first_call-load_image': 1, 'last_call-thread': 1})\n",
        "Counter({'first_call-load_image': 1, 'last_call-kill_process': 1})\n",
        "Counter({'first_call-load_image': 1, 'last_call-enum_window': 1})"
       ]
      },
      {
       "output_type": "stream",
       "stream": "stdout",
       "text": [
        "\n",
        "Counter({'first_call-load_image': 1, 'last_call-enum_window': 1})\n",
        "Counter({'first_call-load_image': 1, 'last_call-thread': 1})\n",
        "Counter({'first_call-load_image': 1, 'last_call-thread': 1})\n",
        "Counter({'first_call-load_image': 1, 'last_call-thread': 1})\n",
        "Counter({'first_call-load_image': 1, 'last_call-thread': 1})\n",
        "Counter({'first_call-load_image': 1, 'last_call-process': 1})"
       ]
      },
      {
       "output_type": "stream",
       "stream": "stdout",
       "text": [
        "\n",
        "Counter({'first_call-load_image': 1, 'last_call-enum_window': 1})\n",
        "Counter({'first_call-load_image': 1, 'last_call-thread': 1})\n",
        "Counter({'first_call-load_image': 1, 'last_call-process': 1})\n",
        "Counter({'first_call-load_image': 1, 'last_call-kill_process': 1})\n",
        "Counter({'first_call-load_image': 1, 'last_call-kill_process': 1})"
       ]
      },
      {
       "output_type": "stream",
       "stream": "stdout",
       "text": [
        "\n",
        "Counter({'first_call-load_image': 1, 'last_call-kill_process': 1})\n",
        "Counter({'first_call-load_image': 1, 'last_call-thread': 1})\n",
        "Counter({'first_call-load_image': 1, 'last_call-kill_process': 1})\n",
        "Counter({'first_call-load_image': 1, 'last_call-thread': 1})"
       ]
      },
      {
       "output_type": "stream",
       "stream": "stdout",
       "text": [
        "\n",
        "Counter({'first_call-load_image': 1, 'last_call-thread': 1})\n",
        "Counter({'first_call-load_image': 1, 'last_call-enum_window': 1})"
       ]
      },
      {
       "output_type": "stream",
       "stream": "stdout",
       "text": [
        "\n",
        "Counter({'first_call-load_image': 1, 'last_call-thread': 1})\n",
        "Counter({'first_call-load_image': 1, 'last_call-thread': 1})\n",
        "Counter({'first_call-load_image': 1, 'last_call-thread': 1})"
       ]
      },
      {
       "output_type": "stream",
       "stream": "stdout",
       "text": [
        "\n",
        "Counter({'first_call-load_image': 1, 'last_call-thread': 1})"
       ]
      },
      {
       "output_type": "stream",
       "stream": "stdout",
       "text": [
        "\n",
        "Counter({'first_call-load_image': 1, 'last_call-kill_process': 1})\n",
        "Counter({'first_call-load_image': 1, 'last_call-load_dll': 1})\n",
        "Counter({'first_call-load_image': 1, 'last_call-kill_process': 1})"
       ]
      },
      {
       "output_type": "stream",
       "stream": "stdout",
       "text": [
        "\n",
        "Counter({'first_call-load_image': 1, 'last_call-enum_window': 1})\n",
        "Counter({'first_call-load_image': 1, 'last_call-kill_process': 1})"
       ]
      },
      {
       "output_type": "stream",
       "stream": "stdout",
       "text": [
        "\n",
        "Counter({'first_call-load_image': 1, 'last_call-kill_process': 1})"
       ]
      },
      {
       "output_type": "stream",
       "stream": "stdout",
       "text": [
        "\n",
        "Counter({'first_call-load_image': 1, 'last_call-thread': 1})\n",
        "Counter({'first_call-load_image': 1, 'last_call-process': 1})\n",
        "Counter({'first_call-load_image': 1, 'last_call-thread': 1})\n",
        "Counter({'first_call-load_image': 1, 'last_call-kill_process': 1})\n",
        "Counter({'first_call-load_image': 1, 'last_call-thread': 1})\n",
        "Counter({'first_call-load_image': 1, 'last_call-kill_process': 1})"
       ]
      },
      {
       "output_type": "stream",
       "stream": "stdout",
       "text": [
        "\n",
        "Counter({'first_call-load_image': 1, 'last_call-thread': 1})\n",
        "Counter({'first_call-load_image': 1, 'last_call-kill_process': 1})\n",
        "Counter({'first_call-load_image': 1, 'last_call-kill_process': 1})\n",
        "Counter({'first_call-load_image': 1, 'last_call-kill_process': 1})\n",
        "Counter({'first_call-load_image': 1, 'last_call-sleep': 1})"
       ]
      },
      {
       "output_type": "stream",
       "stream": "stdout",
       "text": [
        "\n",
        "Counter({'first_call-load_image': 1, 'last_call-thread': 1})\n",
        "Counter({'first_call-load_image': 1, 'last_call-create_mutex': 1})"
       ]
      },
      {
       "output_type": "stream",
       "stream": "stdout",
       "text": [
        "\n",
        "Counter({'first_call-load_image': 1, 'last_call-thread': 1})"
       ]
      },
      {
       "output_type": "stream",
       "stream": "stdout",
       "text": [
        "\n",
        "Counter({'first_call-load_image': 1, 'last_call-thread': 1})\n",
        "Counter({'first_call-load_image': 1, 'last_call-thread': 1})\n",
        "Counter({'first_call-load_image': 1, 'last_call-kill_process': 1})\n",
        "Counter({'first_call-load_image': 1, 'last_call-enum_window': 1})\n",
        "Counter({'first_call-load_image': 1, 'last_call-thread': 1})\n",
        "Counter({'first_call-load_image': 1, 'last_call-enum_window': 1})\n",
        "Counter({'first_call-load_image': 1, 'last_call-kill_process': 1})\n",
        "Counter({'first_call-load_image': 1, 'last_call-kill_process': 1})\n",
        "Counter({'first_call-load_image': 1, 'last_call-enum_window': 1})"
       ]
      },
      {
       "output_type": "stream",
       "stream": "stdout",
       "text": [
        "\n",
        "Counter({'first_call-load_image': 1, 'last_call-kill_process': 1})\n",
        "Counter({'first_call-load_image': 1, 'last_call-thread': 1})"
       ]
      },
      {
       "output_type": "stream",
       "stream": "stdout",
       "text": [
        "\n",
        "Counter({'first_call-load_image': 1, 'last_call-get_system_directory': 1})\n",
        "Counter({'first_call-load_image': 1, 'last_call-create_thread': 1})\n",
        "Counter({'first_call-load_image': 1, 'last_call-thread': 1})\n",
        "Counter({'first_call-load_image': 1, 'last_call-thread': 1})"
       ]
      },
      {
       "output_type": "stream",
       "stream": "stdout",
       "text": [
        "\n",
        "Counter({'first_call-load_image': 1, 'last_call-process': 1})\n",
        "Counter({'first_call-load_image': 1, 'last_call-process': 1})\n",
        "Counter({'first_call-load_image': 1, 'last_call-enum_window': 1})"
       ]
      },
      {
       "output_type": "stream",
       "stream": "stdout",
       "text": [
        "\n",
        "Counter({'first_call-load_image': 1, 'last_call-thread': 1})\n",
        "Counter({'first_call-load_image': 1, 'last_call-kill_process': 1})\n",
        "Counter({'first_call-load_image': 1, 'last_call-thread': 1})\n",
        "Counter({'first_call-load_image': 1, 'last_call-kill_process': 1})\n",
        "Counter({'first_call-load_image': 1, 'last_call-process': 1})\n",
        "Counter({'first_call-load_image': 1, 'last_call-enum_window': 1})\n",
        "Counter({'first_call-load_image': 1, 'last_call-kill_process': 1})\n",
        "Counter({'first_call-load_image': 1, 'last_call-load_dll': 1})"
       ]
      },
      {
       "output_type": "stream",
       "stream": "stdout",
       "text": [
        "\n",
        "Counter({'first_call-load_image': 1, 'last_call-kill_process': 1})\n",
        "Counter({'first_call-load_image': 1, 'last_call-enum_window': 1})\n",
        "Counter({'first_call-load_image': 1, 'last_call-thread': 1})\n",
        "Counter({'first_call-load_image': 1, 'last_call-kill_process': 1})\n",
        "Counter({'first_call-load_image': 1, 'last_call-kill_process': 1})"
       ]
      },
      {
       "output_type": "stream",
       "stream": "stdout",
       "text": [
        "\n",
        "Counter({'first_call-load_image': 1, 'last_call-enum_window': 1})\n",
        "Counter({'first_call-load_image': 1, 'last_call-kill_process': 1})\n",
        "Counter({'first_call-load_image': 1, 'last_call-create_open_file': 1})\n",
        "Counter({'first_call-load_image': 1, 'last_call-thread': 1})\n",
        "Counter({'first_call-load_image': 1, 'last_call-load_dll': 1})\n",
        "Counter({'first_call-load_image': 1, 'last_call-kill_process': 1})\n",
        "Counter({'first_call-load_image': 1, 'last_call-thread': 1})"
       ]
      },
      {
       "output_type": "stream",
       "stream": "stdout",
       "text": [
        "\n",
        "Counter({'first_call-load_image': 1, 'last_call-thread': 1})\n",
        "Counter({'first_call-load_image': 1, 'last_call-kill_process': 1})\n",
        "Counter({'first_call-load_image': 1, 'last_call-thread': 1})\n",
        "Counter({'first_call-load_image': 1, 'last_call-kill_process': 1})\n",
        "Counter({'first_call-load_image': 1, 'last_call-kill_process': 1})\n",
        "Counter({'first_call-load_image': 1, 'last_call-thread': 1})"
       ]
      },
      {
       "output_type": "stream",
       "stream": "stdout",
       "text": [
        "\n",
        "Counter({'first_call-load_image': 1, 'last_call-kill_process': 1})\n",
        "Counter({'first_call-load_image': 1, 'last_call-kill_process': 1})\n",
        "Counter({'first_call-load_image': 1, 'last_call-thread': 1})\n",
        "Counter({'first_call-load_image': 1, 'last_call-thread': 1})\n",
        "Counter({'first_call-load_image': 1, 'last_call-enum_window': 1})"
       ]
      },
      {
       "output_type": "stream",
       "stream": "stdout",
       "text": [
        "\n",
        "Counter({'first_call-load_image': 1, 'last_call-enum_window': 1})\n",
        "Counter({'first_call-load_image': 1, 'last_call-kill_process': 1})\n",
        "Counter({'first_call-load_image': 1, 'last_call-thread': 1})\n",
        "Counter({'first_call-load_image': 1, 'last_call-thread': 1})\n",
        "Counter({'first_call-load_image': 1, 'last_call-enum_window': 1})\n",
        "Counter({'first_call-load_image': 1, 'last_call-enum_window': 1})\n",
        "Counter({'first_call-load_image': 1, 'last_call-load_dll': 1})\n",
        "Counter({'first_call-load_image': 1, 'last_call-thread': 1})"
       ]
      },
      {
       "output_type": "stream",
       "stream": "stdout",
       "text": [
        "\n",
        "Counter({'first_call-load_image': 1, 'last_call-thread': 1})"
       ]
      },
      {
       "output_type": "stream",
       "stream": "stdout",
       "text": [
        "\n",
        "Counter({'first_call-load_image': 1, 'last_call-kill_process': 1})"
       ]
      },
      {
       "output_type": "stream",
       "stream": "stdout",
       "text": [
        "\n",
        "Counter({'first_call-load_image': 1, 'last_call-thread': 1})\n",
        "Counter({'first_call-load_image': 1, 'last_call-enum_window': 1})\n",
        "Counter({'first_call-load_image': 1, 'last_call-kill_process': 1})\n",
        "Counter({'first_call-load_image': 1, 'last_call-thread': 1})"
       ]
      },
      {
       "output_type": "stream",
       "stream": "stdout",
       "text": [
        "\n",
        "Counter({'first_call-load_image': 1, 'last_call-thread': 1})\n",
        "Counter({'first_call-load_image': 1, 'last_call-thread': 1})\n",
        "Counter({'first_call-load_image': 1, 'last_call-enum_window': 1})\n",
        "Counter({'first_call-load_image': 1, 'last_call-process': 1})"
       ]
      },
      {
       "output_type": "stream",
       "stream": "stdout",
       "text": [
        "\n",
        "Counter({'first_call-load_image': 1, 'last_call-kill_process': 1})\n",
        "Counter({'first_call-load_image': 1, 'last_call-enum_window': 1})\n",
        "Counter({'first_call-load_image': 1, 'last_call-load_dll': 1})\n",
        "Counter({'first_call-load_image': 1, 'last_call-thread': 1})\n",
        "Counter({'first_call-load_image': 1, 'last_call-kill_process': 1})\n",
        "Counter({'first_call-load_image': 1, 'last_call-enum_window': 1})"
       ]
      },
      {
       "output_type": "stream",
       "stream": "stdout",
       "text": [
        "\n",
        "Counter({'first_call-load_image': 1, 'last_call-enum_window': 1})\n",
        "Counter({'first_call-load_image': 1, 'last_call-sleep': 1})\n",
        "Counter({'first_call-load_image': 1, 'last_call-kill_process': 1})\n",
        "Counter({'first_call-load_image': 1, 'last_call-enum_window': 1})\n",
        "Counter({'first_call-load_image': 1, 'last_call-thread': 1})\n",
        "Counter({'first_call-load_image': 1, 'last_call-kill_process': 1})\n",
        "Counter({'first_call-load_image': 1, 'last_call-kill_process': 1})"
       ]
      },
      {
       "output_type": "stream",
       "stream": "stdout",
       "text": [
        "\n",
        "Counter({'first_call-load_image': 1, 'last_call-enum_window': 1})\n",
        "Counter({'first_call-load_image': 1, 'last_call-kill_process': 1})\n",
        "Counter({'first_call-load_image': 1, 'last_call-kill_process': 1})\n",
        "Counter({'first_call-load_image': 1, 'last_call-thread': 1})\n",
        "Counter({'first_call-load_image': 1, 'last_call-kill_process': 1})"
       ]
      },
      {
       "output_type": "stream",
       "stream": "stdout",
       "text": [
        "\n",
        "Counter({'first_call-load_image': 1, 'last_call-kill_process': 1})\n",
        "Counter({'first_call-load_image': 1, 'last_call-kill_process': 1})\n",
        "Counter({'first_call-load_image': 1, 'last_call-enum_window': 1})\n",
        "Counter({'first_call-load_image': 1, 'last_call-enum_window': 1})"
       ]
      },
      {
       "output_type": "stream",
       "stream": "stdout",
       "text": [
        "\n",
        "Counter({'first_call-load_image': 1, 'last_call-thread': 1})\n",
        "Counter({'first_call-load_image': 1, 'last_call-load_dll': 1})\n",
        "Counter({'first_call-load_image': 1, 'last_call-kill_process': 1})"
       ]
      },
      {
       "output_type": "stream",
       "stream": "stdout",
       "text": [
        "\n",
        "Counter({'first_call-load_image': 1, 'last_call-load_dll': 1})\n",
        "Counter({'first_call-load_image': 1, 'last_call-kill_process': 1})\n",
        "Counter({'first_call-load_image': 1, 'last_call-thread': 1})"
       ]
      },
      {
       "output_type": "stream",
       "stream": "stdout",
       "text": [
        "\n",
        "Counter({'first_call-load_image': 1, 'last_call-thread': 1})"
       ]
      },
      {
       "output_type": "stream",
       "stream": "stdout",
       "text": [
        "\n",
        "Counter({'first_call-load_image': 1, 'last_call-thread': 1})\n",
        "Counter({'first_call-load_image': 1, 'last_call-enum_window': 1})\n",
        "Counter({'first_call-load_image': 1, 'last_call-kill_process': 1})\n",
        "Counter({'first_call-load_image': 1, 'last_call-enum_window': 1})\n",
        "Counter({'first_call-load_image': 1, 'last_call-kill_process': 1})\n",
        "Counter({'first_call-load_image': 1, 'last_call-kill_process': 1})\n",
        "Counter({'first_call-load_image': 1, 'last_call-thread': 1})"
       ]
      },
      {
       "output_type": "stream",
       "stream": "stdout",
       "text": [
        "\n",
        "Counter({'first_call-load_image': 1, 'last_call-open_process': 1})"
       ]
      },
      {
       "output_type": "stream",
       "stream": "stdout",
       "text": [
        "\n",
        "Counter({'first_call-load_image': 1, 'last_call-kill_process': 1})\n",
        "Counter({'first_call-load_image': 1, 'last_call-thread': 1})"
       ]
      },
      {
       "output_type": "stream",
       "stream": "stdout",
       "text": [
        "\n",
        "Counter({'first_call-load_image': 1, 'last_call-kill_process': 1})"
       ]
      },
      {
       "output_type": "stream",
       "stream": "stdout",
       "text": [
        "\n",
        "Counter({'first_call-load_image': 1, 'last_call-thread': 1})\n",
        "Counter({'first_call-load_image': 1, 'last_call-get_system_directory': 1})\n",
        "Counter({'first_call-load_image': 1, 'last_call-enum_window': 1})\n",
        "Counter({'first_call-load_image': 1, 'last_call-thread': 1})\n",
        "Counter({'first_call-load_image': 1, 'last_call-process': 1})\n",
        "Counter({'first_call-load_image': 1, 'last_call-thread': 1})"
       ]
      },
      {
       "output_type": "stream",
       "stream": "stdout",
       "text": [
        "\n",
        "Counter({'first_call-load_image': 1, 'last_call-thread': 1})\n",
        "Counter({'first_call-load_image': 1, 'last_call-kill_process': 1})"
       ]
      },
      {
       "output_type": "stream",
       "stream": "stdout",
       "text": [
        "\n",
        "Counter({'first_call-load_image': 1, 'last_call-thread': 1})\n",
        "Counter({'first_call-load_image': 1, 'last_call-kill_process': 1})\n",
        "Counter({'first_call-load_image': 1, 'last_call-enum_window': 1})\n",
        "Counter({'first_call-load_image': 1, 'last_call-process': 1})\n",
        "Counter({'first_call-load_image': 1, 'last_call-enum_window': 1})\n",
        "Counter({'first_call-load_image': 1, 'last_call-kill_process': 1})"
       ]
      },
      {
       "output_type": "stream",
       "stream": "stdout",
       "text": [
        "\n",
        "Counter({'first_call-load_image': 1, 'last_call-thread': 1})\n",
        "Counter({'first_call-load_image': 1, 'last_call-thread': 1})"
       ]
      },
      {
       "output_type": "stream",
       "stream": "stdout",
       "text": [
        "\n",
        "Counter({'first_call-load_image': 1, 'last_call-kill_process': 1})"
       ]
      },
      {
       "output_type": "stream",
       "stream": "stdout",
       "text": [
        "\n",
        "Counter({'first_call-load_image': 1, 'last_call-create_mutex': 1})"
       ]
      },
      {
       "output_type": "stream",
       "stream": "stdout",
       "text": [
        "\n",
        "Counter({'first_call-load_image': 1, 'last_call-process': 1})"
       ]
      },
      {
       "output_type": "stream",
       "stream": "stdout",
       "text": [
        "\n",
        "Counter({'first_call-load_image': 1, 'last_call-kill_process': 1})\n",
        "Counter({'first_call-load_image': 1, 'last_call-query_value': 1})"
       ]
      },
      {
       "output_type": "stream",
       "stream": "stdout",
       "text": [
        "\n",
        "Counter({'first_call-load_image': 1, 'last_call-enum_window': 1})\n",
        "Counter({'first_call-load_image': 1, 'last_call-kill_process': 1})"
       ]
      },
      {
       "output_type": "stream",
       "stream": "stdout",
       "text": [
        "\n",
        "Counter({'first_call-load_image': 1, 'last_call-kill_process': 1})\n",
        "Counter({'first_call-load_image': 1, 'last_call-sleep': 1})"
       ]
      },
      {
       "output_type": "stream",
       "stream": "stdout",
       "text": [
        "\n",
        "Counter({'first_call-load_image': 1, 'last_call-thread': 1})"
       ]
      },
      {
       "output_type": "stream",
       "stream": "stdout",
       "text": [
        "\n",
        "Counter({'first_call-load_image': 1, 'last_call-enum_window': 1})\n",
        "Counter({'first_call-load_image': 1, 'last_call-kill_process': 1})\n",
        "Counter({'first_call-load_image': 1, 'last_call-enum_window': 1})"
       ]
      },
      {
       "output_type": "stream",
       "stream": "stdout",
       "text": [
        "\n",
        "Counter({'first_call-load_image': 1, 'last_call-thread': 1})\n",
        "Counter({'first_call-load_image': 1, 'last_call-enum_window': 1})\n",
        "Counter({'first_call-load_image': 1, 'last_call-enum_window': 1})\n",
        "Counter({'first_call-load_image': 1, 'last_call-kill_process': 1})"
       ]
      },
      {
       "output_type": "stream",
       "stream": "stdout",
       "text": [
        "\n",
        "Counter({'first_call-load_image': 1, 'last_call-thread': 1})\n",
        "Counter({'first_call-load_image': 1, 'last_call-enum_window': 1})\n",
        "Counter({'first_call-load_image': 1, 'last_call-kill_process': 1})\n",
        "Counter({'first_call-load_image': 1, 'last_call-kill_process': 1})\n",
        "Counter({'first_call-load_image': 1, 'last_call-thread': 1})"
       ]
      },
      {
       "output_type": "stream",
       "stream": "stdout",
       "text": [
        "\n",
        "Counter({'first_call-load_image': 1, 'last_call-enum_window': 1})"
       ]
      },
      {
       "output_type": "stream",
       "stream": "stdout",
       "text": [
        "\n",
        "Counter({'first_call-load_image': 1, 'last_call-load_dll': 1})\n",
        "Counter({'first_call-load_image': 1, 'last_call-thread': 1})\n",
        "Counter({'first_call-load_image': 1, 'last_call-load_dll': 1})"
       ]
      },
      {
       "output_type": "stream",
       "stream": "stdout",
       "text": [
        "\n",
        "Counter({'first_call-load_image': 1, 'last_call-process': 1})\n",
        "Counter({'first_call-load_image': 1, 'last_call-thread': 1})"
       ]
      },
      {
       "output_type": "stream",
       "stream": "stdout",
       "text": [
        "\n",
        "Counter({'first_call-load_image': 1, 'last_call-thread': 1})\n",
        "Counter({'first_call-load_image': 1, 'last_call-thread': 1})\n",
        "Counter({'first_call-load_image': 1, 'last_call-process': 1})"
       ]
      },
      {
       "output_type": "stream",
       "stream": "stdout",
       "text": [
        "\n",
        "Counter({'first_call-load_image': 1, 'last_call-thread': 1})\n",
        "Counter({'first_call-load_image': 1, 'last_call-kill_process': 1})\n",
        "Counter({'first_call-load_image': 1, 'last_call-enum_window': 1})\n",
        "Counter({'first_call-load_image': 1, 'last_call-kill_process': 1})\n",
        "Counter({'first_call-load_image': 1, 'last_call-kill_process': 1})\n",
        "Counter({'first_call-load_image': 1, 'last_call-thread': 1})\n",
        "Counter({'first_call-load_image': 1, 'last_call-enum_window': 1})"
       ]
      },
      {
       "output_type": "stream",
       "stream": "stdout",
       "text": [
        "\n",
        "Counter({'first_call-load_image': 1, 'last_call-kill_process': 1})\n",
        "Counter({'first_call-load_image': 1, 'last_call-kill_process': 1})\n",
        "Counter({'first_call-load_image': 1, 'last_call-thread': 1})\n",
        "Counter({'first_call-load_image': 1, 'last_call-kill_process': 1})\n",
        "Counter({'first_call-load_image': 1, 'last_call-create_thread': 1})\n",
        "Counter({'first_call-load_image': 1, 'last_call-thread': 1})"
       ]
      },
      {
       "output_type": "stream",
       "stream": "stdout",
       "text": [
        "\n",
        "Counter({'first_call-load_image': 1, 'last_call-kill_process': 1})"
       ]
      },
      {
       "output_type": "stream",
       "stream": "stdout",
       "text": [
        "\n",
        "Counter({'first_call-load_image': 1, 'last_call-kill_process': 1})\n",
        "Counter({'first_call-load_image': 1, 'last_call-thread': 1})\n",
        "Counter({'first_call-load_image': 1, 'last_call-kill_process': 1})\n",
        "Counter({'first_call-load_image': 1, 'last_call-kill_process': 1})\n",
        "Counter({'first_call-load_image': 1, 'last_call-thread': 1})\n",
        "Counter({'first_call-load_image': 1, 'last_call-load_dll': 1})"
       ]
      },
      {
       "output_type": "stream",
       "stream": "stdout",
       "text": [
        "\n",
        "Counter({'first_call-load_image': 1, 'last_call-kill_process': 1})\n",
        "Counter({'first_call-load_image': 1, 'last_call-thread': 1})\n",
        "Counter({'first_call-load_image': 1, 'last_call-thread': 1})"
       ]
      },
      {
       "output_type": "stream",
       "stream": "stdout",
       "text": [
        "\n",
        "Counter({'first_call-load_image': 1, 'last_call-kill_process': 1})\n",
        "Counter({'first_call-load_image': 1, 'last_call-kill_process': 1})\n",
        "Counter({'first_call-load_image': 1, 'last_call-kill_process': 1})"
       ]
      },
      {
       "output_type": "stream",
       "stream": "stdout",
       "text": [
        "\n",
        "Counter({'first_call-load_image': 1, 'last_call-kill_process': 1})\n",
        "Counter({'first_call-load_image': 1, 'last_call-thread': 1})"
       ]
      },
      {
       "output_type": "stream",
       "stream": "stdout",
       "text": [
        "\n",
        "Counter({'first_call-load_image': 1, 'last_call-thread': 1})"
       ]
      },
      {
       "output_type": "stream",
       "stream": "stdout",
       "text": [
        "\n",
        "Counter({'first_call-load_image': 1, 'last_call-kill_process': 1})"
       ]
      },
      {
       "output_type": "stream",
       "stream": "stdout",
       "text": [
        "\n",
        "Counter({'first_call-load_image': 1, 'last_call-enum_window': 1})\n",
        "Counter({'first_call-load_image': 1, 'last_call-enum_window': 1})\n",
        "Counter({'first_call-load_image': 1, 'last_call-thread': 1})\n",
        "Counter({'first_call-load_image': 1, 'last_call-thread': 1})\n",
        "Counter({'first_call-load_image': 1, 'last_call-load_dll': 1})\n",
        "Counter({'first_call-load_image': 1, 'last_call-thread': 1})"
       ]
      },
      {
       "output_type": "stream",
       "stream": "stdout",
       "text": [
        "\n",
        "Counter({'first_call-load_image': 1, 'last_call-thread': 1})\n",
        "Counter({'first_call-load_image': 1, 'last_call-process': 1})"
       ]
      },
      {
       "output_type": "stream",
       "stream": "stdout",
       "text": [
        "\n",
        "Counter({'first_call-load_image': 1, 'last_call-kill_process': 1})\n",
        "Counter({'first_call-load_image': 1, 'last_call-kill_process': 1})\n",
        "Counter({'first_call-load_image': 1, 'last_call-kill_process': 1})\n",
        "Counter({'first_call-load_image': 1, 'last_call-enum_window': 1})\n",
        "Counter({'first_call-load_image': 1, 'last_call-enum_window': 1})\n",
        "Counter({'first_call-load_image': 1, 'last_call-kill_process': 1})\n",
        "Counter({'first_call-load_image': 1, 'last_call-load_dll': 1})\n",
        "Counter({'first_call-load_image': 1, 'last_call-thread': 1})"
       ]
      },
      {
       "output_type": "stream",
       "stream": "stdout",
       "text": [
        "\n",
        "Counter({'first_call-load_image': 1, 'last_call-thread': 1})"
       ]
      },
      {
       "output_type": "stream",
       "stream": "stdout",
       "text": [
        "\n",
        "Counter({'first_call-load_image': 1, 'last_call-thread': 1})"
       ]
      },
      {
       "output_type": "stream",
       "stream": "stdout",
       "text": [
        "\n",
        "Counter({'first_call-load_image': 1, 'last_call-kill_process': 1})\n",
        "Counter({'first_call-load_image': 1, 'last_call-thread': 1})\n",
        "Counter({'first_call-load_image': 1, 'last_call-enum_window': 1})\n",
        "Counter({'first_call-load_image': 1, 'last_call-thread': 1})\n",
        "Counter({'first_call-load_image': 1, 'last_call-kill_process': 1})\n",
        "Counter({'first_call-load_image': 1, 'last_call-kill_process': 1})\n",
        "Counter({'first_call-load_image': 1, 'last_call-kill_process': 1})"
       ]
      },
      {
       "output_type": "stream",
       "stream": "stdout",
       "text": [
        "\n",
        "Counter({'first_call-load_image': 1, 'last_call-thread': 1})\n",
        "Counter({'first_call-load_image': 1, 'last_call-kill_process': 1})\n",
        "Counter({'first_call-load_image': 1, 'last_call-kill_process': 1})\n",
        "Counter({'first_call-load_image': 1, 'last_call-thread': 1})\n",
        "Counter({'first_call-load_image': 1, 'last_call-open_file': 1})"
       ]
      },
      {
       "output_type": "stream",
       "stream": "stdout",
       "text": [
        "\n",
        "Counter({'first_call-load_image': 1, 'last_call-thread': 1})\n",
        "Counter({'first_call-load_image': 1, 'last_call-thread': 1})"
       ]
      },
      {
       "output_type": "stream",
       "stream": "stdout",
       "text": [
        "\n",
        "Counter({'first_call-load_image': 1, 'last_call-enum_window': 1})\n",
        "Counter({'first_call-load_image': 1, 'last_call-thread': 1})\n",
        "Counter({'first_call-load_image': 1, 'last_call-enum_window': 1})"
       ]
      },
      {
       "output_type": "stream",
       "stream": "stdout",
       "text": [
        "\n",
        "Counter({'first_call-load_image': 1, 'last_call-create_mutex': 1})\n",
        "Counter({'first_call-load_image': 1, 'last_call-enum_window': 1})\n",
        "Counter({'first_call-load_image': 1, 'last_call-enum_window': 1})\n",
        "Counter({'first_call-load_image': 1, 'last_call-enum_window': 1})\n",
        "Counter({'first_call-load_image': 1, 'last_call-thread': 1})\n",
        "Counter({'first_call-load_image': 1, 'last_call-kill_process': 1})\n",
        "Counter({'first_call-load_image': 1, 'last_call-thread': 1})"
       ]
      },
      {
       "output_type": "stream",
       "stream": "stdout",
       "text": [
        "\n",
        "Counter({'first_call-load_image': 1, 'last_call-kill_process': 1})"
       ]
      },
      {
       "output_type": "stream",
       "stream": "stdout",
       "text": [
        "\n",
        "Counter({'first_call-load_image': 1, 'last_call-enum_window': 1})\n",
        "Counter({'first_call-load_image': 1, 'last_call-thread': 1})\n",
        "Counter({'first_call-load_image': 1, 'last_call-thread': 1})\n",
        "Counter({'first_call-load_image': 1, 'last_call-thread': 1})\n",
        "Counter({'first_call-load_image': 1, 'last_call-enum_window': 1})\n",
        "Counter({'first_call-load_image': 1, 'last_call-thread': 1})"
       ]
      },
      {
       "output_type": "stream",
       "stream": "stdout",
       "text": [
        "\n",
        "Counter({'first_call-load_image': 1, 'last_call-create_thread': 1})\n",
        "Counter({'first_call-load_image': 1, 'last_call-kill_process': 1})\n",
        "Counter({'first_call-load_image': 1, 'last_call-read_value': 1})\n",
        "Counter({'first_call-load_image': 1, 'last_call-kill_process': 1})\n",
        "Counter({'first_call-load_image': 1, 'last_call-kill_process': 1})\n",
        "Counter({'first_call-load_image': 1, 'last_call-create_thread': 1})"
       ]
      },
      {
       "output_type": "stream",
       "stream": "stdout",
       "text": [
        "\n",
        "Counter({'first_call-load_image': 1, 'last_call-kill_process': 1})\n",
        "Counter({'first_call-load_image': 1, 'last_call-kill_process': 1})\n",
        "Counter({'first_call-load_image': 1, 'last_call-kill_process': 1})\n",
        "Counter({'first_call-load_image': 1, 'last_call-enum_window': 1})\n",
        "Counter({'first_call-load_image': 1, 'last_call-load_dll': 1})\n",
        "Counter({'first_call-load_image': 1, 'last_call-thread': 1})"
       ]
      },
      {
       "output_type": "stream",
       "stream": "stdout",
       "text": [
        "\n",
        "Counter({'first_call-load_image': 1, 'last_call-process': 1})"
       ]
      },
      {
       "output_type": "stream",
       "stream": "stdout",
       "text": [
        "\n",
        "Counter({'first_call-load_image': 1, 'last_call-load_dll': 1})\n",
        "Counter({'first_call-load_image': 1, 'last_call-kill_process': 1})\n",
        "Counter({'first_call-load_image': 1, 'last_call-load_dll': 1})\n",
        "Counter({'first_call-load_image': 1, 'last_call-enum_window': 1})\n",
        "Counter({'first_call-load_image': 1, 'last_call-kill_process': 1})\n",
        "Counter({'first_call-load_image': 1, 'last_call-kill_process': 1})"
       ]
      },
      {
       "output_type": "stream",
       "stream": "stdout",
       "text": [
        "\n",
        "Counter({'first_call-load_image': 1, 'last_call-sleep': 1})\n",
        "Counter({'first_call-load_image': 1, 'last_call-enum_window': 1})\n",
        "Counter({'first_call-load_image': 1, 'last_call-enum_window': 1})\n",
        "Counter({'first_call-load_image': 1, 'last_call-thread': 1})\n",
        "Counter({'first_call-load_image': 1, 'last_call-thread': 1})"
       ]
      },
      {
       "output_type": "stream",
       "stream": "stdout",
       "text": [
        "\n",
        "Counter({'first_call-load_image': 1, 'last_call-enum_window': 1})\n",
        "Counter({'first_call-load_image': 1, 'last_call-vm_protect': 1})"
       ]
      },
      {
       "output_type": "stream",
       "stream": "stdout",
       "text": [
        "\n",
        "Counter({'first_call-load_image': 1, 'last_call-enum_window': 1})"
       ]
      },
      {
       "output_type": "stream",
       "stream": "stdout",
       "text": [
        "\n",
        "Counter({'first_call-load_image': 1, 'last_call-thread': 1})\n",
        "Counter({'first_call-load_image': 1, 'last_call-load_dll': 1})"
       ]
      },
      {
       "output_type": "stream",
       "stream": "stdout",
       "text": [
        "\n",
        "Counter({'first_call-load_image': 1, 'last_call-load_dll': 1})"
       ]
      },
      {
       "output_type": "stream",
       "stream": "stdout",
       "text": [
        "\n",
        "Counter({'first_call-load_image': 1, 'last_call-enum_window': 1})\n",
        "Counter({'first_call-load_image': 1, 'last_call-thread': 1})\n",
        "Counter({'first_call-load_image': 1, 'last_call-kill_process': 1})"
       ]
      },
      {
       "output_type": "stream",
       "stream": "stdout",
       "text": [
        "\n",
        "Counter({'first_call-load_image': 1, 'last_call-kill_process': 1})\n",
        "Counter({'first_call-load_image': 1, 'last_call-create_mutex': 1})"
       ]
      },
      {
       "output_type": "stream",
       "stream": "stdout",
       "text": [
        "\n",
        "Counter({'first_call-load_image': 1, 'last_call-kill_process': 1})\n",
        "Counter({'first_call-load_image': 1, 'last_call-kill_process': 1})"
       ]
      },
      {
       "output_type": "stream",
       "stream": "stdout",
       "text": [
        "\n",
        "Counter({'first_call-load_image': 1, 'last_call-process': 1})\n",
        "Counter({'first_call-load_image': 1, 'last_call-load_dll': 1})\n",
        "Counter({'first_call-load_image': 1, 'last_call-kill_process': 1})\n",
        "Counter({'first_call-load_image': 1, 'last_call-thread': 1})\n",
        "Counter({'first_call-load_image': 1, 'last_call-kill_process': 1})\n",
        "Counter({'first_call-load_image': 1, 'last_call-thread': 1})"
       ]
      },
      {
       "output_type": "stream",
       "stream": "stdout",
       "text": [
        "\n",
        "Counter({'first_call-load_image': 1, 'last_call-thread': 1})\n",
        "Counter({'first_call-load_image': 1, 'last_call-kill_process': 1})\n",
        "Counter({'first_call-load_image': 1, 'last_call-kill_process': 1})\n",
        "Counter({'last_call-create_window': 1, 'first_call-load_image': 1})\n",
        "Counter({'first_call-load_image': 1, 'last_call-kill_process': 1})"
       ]
      },
      {
       "output_type": "stream",
       "stream": "stdout",
       "text": [
        "\n",
        "Counter({'first_call-load_image': 1, 'last_call-kill_process': 1})\n",
        "Counter({'first_call-load_image': 1, 'last_call-kill_process': 1})\n",
        "Counter({'first_call-load_image': 1, 'last_call-kill_process': 1})\n",
        "Counter({'first_call-load_image': 1, 'last_call-kill_process': 1})"
       ]
      },
      {
       "output_type": "stream",
       "stream": "stdout",
       "text": [
        "\n",
        "Counter({'first_call-load_image': 1, 'last_call-thread': 1})\n",
        "Counter({'first_call-load_image': 1, 'last_call-kill_process': 1})\n",
        "Counter({'first_call-load_image': 1, 'last_call-kill_process': 1})\n",
        "Counter({'first_call-load_image': 1, 'last_call-thread': 1})\n",
        "Counter({'first_call-load_image': 1, 'last_call-kill_process': 1})"
       ]
      },
      {
       "output_type": "stream",
       "stream": "stdout",
       "text": [
        "\n",
        "Counter({'first_call-load_image': 1, 'last_call-thread': 1})\n",
        "Counter({'first_call-load_image': 1, 'last_call-kill_process': 1})\n",
        "Counter({'first_call-load_image': 1, 'last_call-load_dll': 1})\n",
        "Counter({'first_call-load_image': 1, 'last_call-thread': 1})\n",
        "Counter({'first_call-load_image': 1, 'last_call-thread': 1})"
       ]
      },
      {
       "output_type": "stream",
       "stream": "stdout",
       "text": [
        "\n",
        "Counter({'first_call-load_image': 1, 'last_call-thread': 1})\n",
        "Counter({'first_call-load_image': 1, 'last_call-thread': 1})"
       ]
      },
      {
       "output_type": "stream",
       "stream": "stdout",
       "text": [
        "\n",
        "Counter({'first_call-load_image': 1, 'last_call-enum_window': 1})\n",
        "Counter({'first_call-load_image': 1, 'last_call-thread': 1})\n",
        "Counter({'first_call-load_image': 1, 'last_call-enum_window': 1})\n",
        "Counter({'first_call-load_image': 1, 'last_call-thread': 1})\n",
        "Counter({'first_call-load_image': 1, 'last_call-thread': 1})"
       ]
      },
      {
       "output_type": "stream",
       "stream": "stdout",
       "text": [
        "\n",
        "Counter({'first_call-load_image': 1, 'last_call-load_dll': 1})\n",
        "Counter({'first_call-load_image': 1, 'last_call-load_dll': 1})\n",
        "Counter({'first_call-load_image': 1, 'last_call-thread': 1})\n",
        "Counter({'first_call-load_image': 1, 'last_call-enum_window': 1})\n",
        "Counter({'first_call-load_image': 1, 'last_call-enum_window': 1})\n",
        "Counter({'first_call-load_image': 1, 'last_call-kill_process': 1})\n",
        "Counter({'first_call-load_image': 1, 'last_call-kill_process': 1})"
       ]
      },
      {
       "output_type": "stream",
       "stream": "stdout",
       "text": [
        "\n",
        "Counter({'first_call-load_image': 1, 'last_call-enum_window': 1})\n",
        "Counter({'first_call-load_image': 1, 'last_call-enum_window': 1})\n",
        "Counter({'first_call-load_image': 1, 'last_call-thread': 1})\n",
        "Counter({'first_call-load_image': 1, 'last_call-thread': 1})"
       ]
      },
      {
       "output_type": "stream",
       "stream": "stdout",
       "text": [
        "\n",
        "Counter({'first_call-load_image': 1, 'last_call-kill_process': 1})\n",
        "Counter({'first_call-load_image': 1, 'last_call-enum_window': 1})\n",
        "Counter({'first_call-load_image': 1, 'last_call-kill_process': 1})\n",
        "Counter({'first_call-load_image': 1, 'last_call-enum_window': 1})"
       ]
      },
      {
       "output_type": "stream",
       "stream": "stdout",
       "text": [
        "\n",
        "Counter({'first_call-load_image': 1, 'last_call-enum_window': 1})\n",
        "Counter({'first_call-load_image': 1, 'last_call-kill_process': 1})\n",
        "Counter({'first_call-load_image': 1, 'last_call-thread': 1})\n",
        "Counter({'first_call-load_image': 1, 'last_call-kill_process': 1})\n",
        "Counter({'first_call-load_image': 1, 'last_call-kill_process': 1})\n",
        "Counter({'first_call-load_image': 1, 'last_call-kill_process': 1})"
       ]
      },
      {
       "output_type": "stream",
       "stream": "stdout",
       "text": [
        "\n",
        "Counter({'first_call-load_image': 1, 'last_call-kill_process': 1})\n",
        "Counter({'first_call-load_image': 1, 'last_call-thread': 1})"
       ]
      },
      {
       "output_type": "stream",
       "stream": "stdout",
       "text": [
        "\n",
        "Counter({'first_call-load_image': 1, 'last_call-thread': 1})\n",
        "Counter({'first_call-load_image': 1, 'last_call-enum_window': 1})\n",
        "Counter({'first_call-load_image': 1, 'last_call-enum_window': 1})\n",
        "Counter({'first_call-load_image': 1, 'last_call-kill_process': 1})"
       ]
      },
      {
       "output_type": "stream",
       "stream": "stdout",
       "text": [
        "\n",
        "Counter({'first_call-load_image': 1, 'last_call-thread': 1})\n",
        "Counter({'first_call-load_image': 1, 'last_call-thread': 1})\n",
        "Counter({'first_call-load_image': 1, 'last_call-load_dll': 1})\n",
        "Counter({'first_call-load_image': 1, 'last_call-enum_window': 1})"
       ]
      },
      {
       "output_type": "stream",
       "stream": "stdout",
       "text": [
        "\n",
        "Counter({'first_call-load_image': 1, 'last_call-thread': 1})"
       ]
      },
      {
       "output_type": "stream",
       "stream": "stdout",
       "text": [
        "\n",
        "Counter({'first_call-load_image': 1, 'last_call-load_dll': 1})\n",
        "Counter({'first_call-load_image': 1, 'last_call-kill_process': 1})"
       ]
      },
      {
       "output_type": "stream",
       "stream": "stdout",
       "text": [
        "\n",
        "Counter({'first_call-load_image': 1, 'last_call-thread': 1})\n",
        "Counter({'first_call-load_image': 1, 'last_call-enum_window': 1})\n",
        "Counter({'first_call-load_image': 1, 'last_call-thread': 1})\n",
        "Counter({'first_call-load_image': 1, 'last_call-load_dll': 1})\n",
        "Counter({'first_call-load_image': 1, 'last_call-kill_process': 1})"
       ]
      },
      {
       "output_type": "stream",
       "stream": "stdout",
       "text": [
        "\n",
        "Counter({'first_call-load_image': 1, 'last_call-create_mutex': 1})\n",
        "Counter({'first_call-load_image': 1, 'last_call-kill_process': 1})\n",
        "Counter({'first_call-load_image': 1, 'last_call-kill_process': 1})\n",
        "Counter({'first_call-load_image': 1, 'last_call-load_dll': 1})\n",
        "Counter({'first_call-load_image': 1, 'last_call-thread': 1})\n",
        "Counter({'first_call-load_image': 1, 'last_call-kill_process': 1})\n",
        "Counter({'first_call-load_image': 1, 'last_call-thread': 1})"
       ]
      },
      {
       "output_type": "stream",
       "stream": "stdout",
       "text": [
        "\n",
        "Counter({'first_call-load_image': 1, 'last_call-enum_window': 1})\n",
        "Counter({'first_call-load_image': 1, 'last_call-thread': 1})\n",
        "Counter({'first_call-load_image': 1, 'last_call-kill_process': 1})\n",
        "Counter({'first_call-load_image': 1, 'last_call-kill_process': 1})\n",
        "Counter({'first_call-load_image': 1, 'last_call-kill_process': 1})\n",
        "Counter({'first_call-load_image': 1, 'last_call-kill_process': 1})\n",
        "Counter({'first_call-load_image': 1, 'last_call-thread': 1})"
       ]
      },
      {
       "output_type": "stream",
       "stream": "stdout",
       "text": [
        "\n",
        "Counter({'first_call-load_image': 1, 'last_call-kill_process': 1})\n",
        "Counter({'first_call-load_image': 1, 'last_call-enum_window': 1})\n",
        "Counter({'first_call-load_image': 1, 'last_call-kill_process': 1})\n",
        "Counter({'first_call-load_image': 1, 'last_call-load_dll': 1})"
       ]
      },
      {
       "output_type": "stream",
       "stream": "stdout",
       "text": [
        "\n",
        "Counter({'first_call-load_image': 1, 'last_call-load_dll': 1})"
       ]
      },
      {
       "output_type": "stream",
       "stream": "stdout",
       "text": [
        "\n",
        "Counter({'first_call-load_image': 1, 'last_call-enum_window': 1})\n",
        "Counter({'first_call-load_image': 1, 'last_call-kill_process': 1})\n",
        "Counter({'first_call-load_image': 1, 'last_call-enum_window': 1})\n",
        "Counter({'first_call-load_image': 1, 'last_call-thread': 1})\n",
        "Counter({'first_call-load_image': 1, 'last_call-kill_process': 1})"
       ]
      },
      {
       "output_type": "stream",
       "stream": "stdout",
       "text": [
        "\n",
        "Counter({'first_call-load_image': 1, 'last_call-get_system_directory': 1})\n",
        "Counter({'first_call-load_image': 1, 'last_call-kill_process': 1})\n",
        "Counter({'first_call-load_image': 1, 'last_call-enum_window': 1})\n",
        "Counter({'first_call-load_image': 1, 'last_call-enum_window': 1})"
       ]
      },
      {
       "output_type": "stream",
       "stream": "stdout",
       "text": [
        "\n",
        "Counter({'first_call-load_image': 1, 'last_call-process': 1})\n",
        "Counter({'first_call-load_image': 1, 'last_call-open_process': 1})"
       ]
      },
      {
       "output_type": "stream",
       "stream": "stdout",
       "text": [
        "\n",
        "Counter({'first_call-load_image': 1, 'last_call-thread': 1})\n",
        "Counter({'first_call-load_image': 1, 'last_call-thread': 1})"
       ]
      },
      {
       "output_type": "stream",
       "stream": "stdout",
       "text": [
        "\n",
        "Counter({'first_call-load_image': 1, 'last_call-thread': 1})"
       ]
      },
      {
       "output_type": "stream",
       "stream": "stdout",
       "text": [
        "\n",
        "Counter({'first_call-load_image': 1, 'last_call-kill_process': 1})\n",
        "Counter({'first_call-load_image': 1, 'last_call-load_dll': 1})\n",
        "Counter({'first_call-load_image': 1, 'last_call-thread': 1})"
       ]
      },
      {
       "output_type": "stream",
       "stream": "stdout",
       "text": [
        "\n",
        "Counter({'first_call-load_image': 1, 'last_call-open_process': 1})"
       ]
      },
      {
       "output_type": "stream",
       "stream": "stdout",
       "text": [
        "\n",
        "Counter({'first_call-load_image': 1, 'last_call-thread': 1})\n",
        "Counter({'first_call-load_image': 1, 'last_call-thread': 1})\n",
        "Counter({'first_call-load_image': 1, 'last_call-enum_window': 1})\n",
        "Counter({'first_call-load_image': 1, 'last_call-enum_window': 1})\n",
        "Counter({'first_call-load_image': 1, 'last_call-enum_window': 1})\n",
        "Counter({'first_call-load_image': 1, 'last_call-process': 1})"
       ]
      },
      {
       "output_type": "stream",
       "stream": "stdout",
       "text": [
        "\n",
        "Counter({'first_call-load_image': 1, 'last_call-kill_process': 1})\n",
        "Counter({'first_call-load_image': 1, 'last_call-kill_process': 1})\n",
        "Counter({'first_call-load_image': 1, 'last_call-thread': 1})"
       ]
      },
      {
       "output_type": "stream",
       "stream": "stdout",
       "text": [
        "\n",
        "Counter({'first_call-load_image': 1, 'last_call-load_dll': 1})"
       ]
      },
      {
       "output_type": "stream",
       "stream": "stdout",
       "text": [
        "\n",
        "Counter({'first_call-load_image': 1, 'last_call-check_for_debugger': 1})\n",
        "Counter({'first_call-load_image': 1, 'last_call-kill_process': 1})"
       ]
      },
      {
       "output_type": "stream",
       "stream": "stdout",
       "text": [
        "\n",
        "Counter({'first_call-load_image': 1, 'last_call-kill_process': 1})\n",
        "Counter({'first_call-load_image': 1, 'last_call-kill_process': 1})\n",
        "Counter({'first_call-load_image': 1, 'last_call-thread': 1})\n",
        "Counter({'first_call-load_image': 1, 'last_call-thread': 1})\n",
        "Counter({'first_call-load_image': 1, 'last_call-process': 1})"
       ]
      },
      {
       "output_type": "stream",
       "stream": "stdout",
       "text": [
        "\n",
        "Counter({'first_call-load_image': 1, 'last_call-thread': 1})"
       ]
      },
      {
       "output_type": "stream",
       "stream": "stdout",
       "text": [
        "\n",
        "Counter({'first_call-load_image': 1, 'last_call-thread': 1})\n",
        "Counter({'first_call-load_image': 1, 'last_call-thread': 1})"
       ]
      },
      {
       "output_type": "stream",
       "stream": "stdout",
       "text": [
        "\n",
        "Counter({'first_call-load_image': 1, 'last_call-load_dll': 1})\n",
        "Counter({'first_call-load_image': 1, 'last_call-kill_process': 1})\n",
        "Counter({'first_call-load_image': 1, 'last_call-show_window': 1})\n",
        "Counter({'first_call-load_image': 1, 'last_call-enum_window': 1})"
       ]
      },
      {
       "output_type": "stream",
       "stream": "stdout",
       "text": [
        "\n",
        "Counter({'first_call-load_image': 1, 'last_call-kill_process': 1})\n",
        "Counter({'first_call-load_image': 1, 'last_call-thread': 1})\n",
        "Counter({'first_call-load_image': 1, 'last_call-kill_process': 1})\n",
        "Counter({'first_call-load_image': 1, 'last_call-enum_window': 1})\n",
        "Counter({'first_call-load_image': 1, 'last_call-thread': 1})"
       ]
      },
      {
       "output_type": "stream",
       "stream": "stdout",
       "text": [
        "\n",
        "Counter({'first_call-load_image': 1, 'last_call-kill_process': 1})\n",
        "Counter({'first_call-load_image': 1, 'last_call-thread': 1})"
       ]
      },
      {
       "output_type": "stream",
       "stream": "stdout",
       "text": [
        "\n",
        "Counter({'first_call-load_image': 1, 'last_call-kill_process': 1})\n",
        "Counter({'first_call-load_image': 1, 'last_call-enum_window': 1})\n",
        "Counter({'first_call-load_image': 1, 'last_call-kill_process': 1})\n",
        "Counter({'first_call-load_image': 1, 'last_call-thread': 1})\n",
        "Counter({'first_call-load_image': 1, 'last_call-load_dll': 1})\n",
        "Counter({'first_call-load_image': 1, 'last_call-kill_process': 1})\n",
        "Counter({'first_call-load_image': 1, 'last_call-enum_window': 1})\n",
        "Counter({'first_call-load_image': 1, 'last_call-thread': 1})"
       ]
      },
      {
       "output_type": "stream",
       "stream": "stdout",
       "text": [
        "\n",
        "Counter({'first_call-load_image': 1, 'last_call-kill_process': 1})\n",
        "Counter({'first_call-load_image': 1, 'last_call-thread': 1})"
       ]
      },
      {
       "output_type": "stream",
       "stream": "stdout",
       "text": [
        "\n",
        "Counter({'first_call-load_image': 1, 'last_call-thread': 1})\n",
        "Counter({'first_call-load_image': 1, 'last_call-enum_window': 1})\n",
        "Counter({'first_call-load_image': 1, 'last_call-kill_process': 1})\n",
        "Counter({'first_call-load_image': 1, 'last_call-thread': 1})"
       ]
      },
      {
       "output_type": "stream",
       "stream": "stdout",
       "text": [
        "\n",
        "Counter({'first_call-load_image': 1, 'last_call-load_dll': 1})\n",
        "Counter({'first_call-load_image': 1, 'last_call-enum_window': 1})"
       ]
      },
      {
       "output_type": "stream",
       "stream": "stdout",
       "text": [
        "\n",
        "Counter({'first_call-load_image': 1, 'last_call-load_dll': 1})\n",
        "Counter({'first_call-load_image': 1, 'last_call-enum_window': 1})\n",
        "Counter({'first_call-load_image': 1, 'last_call-thread': 1})\n",
        "Counter({'first_call-load_image': 1, 'last_call-process': 1})\n",
        "Counter({'first_call-load_image': 1, 'last_call-thread': 1})"
       ]
      },
      {
       "output_type": "stream",
       "stream": "stdout",
       "text": [
        "\n",
        "Counter({'first_call-load_image': 1, 'last_call-thread': 1})\n",
        "Counter({'first_call-load_image': 1, 'last_call-process': 1})\n",
        "Counter({'first_call-load_image': 1, 'last_call-kill_process': 1})\n",
        "Counter({'first_call-load_image': 1, 'last_call-kill_process': 1})\n",
        "Counter({'first_call-load_image': 1, 'last_call-kill_process': 1})"
       ]
      },
      {
       "output_type": "stream",
       "stream": "stdout",
       "text": [
        "\n",
        "Counter({'first_call-load_image': 1, 'last_call-thread': 1})\n",
        "Counter({'first_call-load_image': 1, 'last_call-enum_window': 1})\n",
        "Counter({'first_call-load_image': 1, 'last_call-kill_process': 1})\n",
        "Counter({'first_call-load_image': 1, 'last_call-kill_process': 1})\n",
        "Counter({'first_call-load_image': 1, 'last_call-thread': 1})\n",
        "Counter({'first_call-load_image': 1, 'last_call-thread': 1})\n",
        "Counter({'first_call-load_image': 1, 'last_call-load_dll': 1})\n",
        "Counter({'first_call-load_image': 1, 'last_call-kill_process': 1})"
       ]
      },
      {
       "output_type": "stream",
       "stream": "stdout",
       "text": [
        "\n",
        "Counter({'first_call-load_image': 1, 'last_call-thread': 1})\n",
        "Counter({'first_call-load_image': 1, 'last_call-kill_process': 1})\n",
        "Counter({'first_call-load_image': 1, 'last_call-load_dll': 1})\n",
        "Counter({'first_call-load_image': 1, 'last_call-thread': 1})"
       ]
      },
      {
       "output_type": "stream",
       "stream": "stdout",
       "text": [
        "\n",
        "Counter({'first_call-load_image': 1, 'last_call-thread': 1})"
       ]
      },
      {
       "output_type": "stream",
       "stream": "stdout",
       "text": [
        "\n",
        "Counter({'first_call-load_image': 1, 'last_call-create_mutex': 1})"
       ]
      },
      {
       "output_type": "stream",
       "stream": "stdout",
       "text": [
        "\n",
        "Counter({'first_call-load_image': 1, 'last_call-kill_process': 1})\n",
        "Counter({'first_call-load_image': 1, 'last_call-enum_window': 1})"
       ]
      },
      {
       "output_type": "stream",
       "stream": "stdout",
       "text": [
        "\n",
        "Counter({'first_call-load_image': 1, 'last_call-kill_process': 1})\n",
        "Counter({'first_call-load_image': 1, 'last_call-load_dll': 1})"
       ]
      },
      {
       "output_type": "stream",
       "stream": "stdout",
       "text": [
        "\n",
        "Counter({'first_call-load_image': 1, 'last_call-kill_process': 1})\n",
        "Counter({'first_call-load_image': 1, 'last_call-thread': 1})\n",
        "Counter({'first_call-load_image': 1, 'last_call-process': 1})\n",
        "Counter({'first_call-load_image': 1, 'last_call-thread': 1})\n",
        "Counter({'first_call-load_image': 1, 'last_call-thread': 1})\n",
        "Counter({'first_call-load_image': 1, 'last_call-query_value': 1})"
       ]
      },
      {
       "output_type": "stream",
       "stream": "stdout",
       "text": [
        "\n",
        "Counter({'first_call-load_image': 1, 'last_call-kill_process': 1})"
       ]
      },
      {
       "output_type": "stream",
       "stream": "stdout",
       "text": [
        "\n",
        "Counter({'first_call-load_image': 1, 'last_call-enum_window': 1})\n",
        "Counter({'first_call-load_image': 1, 'last_call-enum_window': 1})\n",
        "Counter({'first_call-load_image': 1, 'last_call-load_dll': 1})"
       ]
      },
      {
       "output_type": "stream",
       "stream": "stdout",
       "text": [
        "\n",
        "Counter({'first_call-load_image': 1, 'last_call-thread': 1})"
       ]
      },
      {
       "output_type": "stream",
       "stream": "stdout",
       "text": [
        "\n",
        "Counter({'first_call-load_image': 1, 'last_call-kill_process': 1})"
       ]
      },
      {
       "output_type": "stream",
       "stream": "stdout",
       "text": [
        "\n",
        "Counter({'first_call-load_image': 1, 'last_call-enum_window': 1})\n",
        "Counter({'first_call-load_image': 1, 'last_call-kill_process': 1})\n",
        "Counter({'first_call-load_image': 1, 'last_call-enum_window': 1})\n",
        "Counter({'first_call-load_image': 1, 'last_call-kill_process': 1})\n",
        "Counter({'first_call-load_image': 1, 'last_call-enum_window': 1})\n",
        "Counter({'first_call-load_image': 1, 'last_call-kill_process': 1})\n",
        "Counter({'first_call-load_image': 1, 'last_call-enum_window': 1})\n",
        "Counter({'first_call-load_image': 1, 'last_call-kill_process': 1})"
       ]
      },
      {
       "output_type": "stream",
       "stream": "stdout",
       "text": [
        "\n",
        "Counter({'first_call-load_image': 1, 'last_call-kill_process': 1})\n",
        "Counter({'first_call-load_image': 1, 'last_call-thread': 1})\n",
        "Counter({'first_call-load_image': 1, 'last_call-enum_window': 1})\n",
        "Counter({'first_call-load_image': 1, 'last_call-kill_process': 1})\n",
        "Counter({'first_call-load_image': 1, 'last_call-thread': 1})\n",
        "Counter({'first_call-load_image': 1, 'last_call-thread': 1})"
       ]
      },
      {
       "output_type": "stream",
       "stream": "stdout",
       "text": [
        "\n",
        "Counter({'first_call-load_image': 1, 'last_call-kill_process': 1})\n",
        "Counter({'first_call-load_image': 1, 'last_call-load_dll': 1})\n",
        "Counter({'first_call-load_image': 1, 'last_call-kill_process': 1})\n",
        "Counter({'first_call-load_image': 1, 'last_call-thread': 1})\n",
        "Counter({'first_call-load_image': 1, 'last_call-enum_window': 1})\n",
        "Counter({'first_call-load_image': 1, 'last_call-thread': 1})"
       ]
      },
      {
       "output_type": "stream",
       "stream": "stdout",
       "text": [
        "\n",
        "Counter({'first_call-load_image': 1, 'last_call-load_dll': 1})\n",
        "Counter({'first_call-load_image': 1, 'last_call-thread': 1})\n",
        "Counter({'first_call-load_image': 1, 'last_call-thread': 1})"
       ]
      },
      {
       "output_type": "stream",
       "stream": "stdout",
       "text": [
        "\n",
        "Counter({'first_call-load_image': 1, 'last_call-enum_window': 1})\n",
        "Counter({'first_call-load_image': 1, 'last_call-kill_process': 1})\n",
        "Counter({'first_call-load_image': 1, 'last_call-enum_window': 1})"
       ]
      },
      {
       "output_type": "stream",
       "stream": "stdout",
       "text": [
        "\n",
        "Counter({'first_call-load_image': 1, 'last_call-thread': 1})\n",
        "Counter({'first_call-load_image': 1, 'last_call-enum_window': 1})\n",
        "Counter({'first_call-load_image': 1, 'last_call-kill_process': 1})\n",
        "Counter({'first_call-load_image': 1, 'last_call-sleep': 1})"
       ]
      },
      {
       "output_type": "stream",
       "stream": "stdout",
       "text": [
        "\n",
        "Counter({'first_call-load_image': 1, 'last_call-open_process': 1})\n",
        "Counter({'first_call-load_image': 1, 'last_call-enum_window': 1})\n",
        "Counter({'first_call-load_image': 1, 'last_call-kill_process': 1})\n",
        "Counter({'first_call-load_image': 1, 'last_call-kill_process': 1})"
       ]
      },
      {
       "output_type": "stream",
       "stream": "stdout",
       "text": [
        "\n",
        "Counter({'first_call-load_image': 1, 'last_call-kill_process': 1})\n",
        "Counter({'first_call-load_image': 1, 'last_call-thread': 1})\n",
        "Counter({'first_call-load_image': 1, 'last_call-thread': 1})"
       ]
      },
      {
       "output_type": "stream",
       "stream": "stdout",
       "text": [
        "\n",
        "Counter({'first_call-load_image': 1, 'last_call-sleep': 1})\n",
        "Counter({'first_call-load_image': 1, 'last_call-kill_process': 1})\n",
        "Counter({'first_call-load_image': 1, 'last_call-create_thread': 1})\n",
        "Counter({'first_call-load_image': 1, 'last_call-enum_window': 1})"
       ]
      },
      {
       "output_type": "stream",
       "stream": "stdout",
       "text": [
        "\n",
        "Counter({'first_call-load_image': 1, 'last_call-thread': 1})"
       ]
      },
      {
       "output_type": "stream",
       "stream": "stdout",
       "text": [
        "\n",
        "Counter({'first_call-load_image': 1, 'last_call-enum_window': 1})"
       ]
      },
      {
       "output_type": "stream",
       "stream": "stdout",
       "text": [
        "\n",
        "Counter({'first_call-load_image': 1, 'last_call-thread': 1})\n",
        "Counter({'first_call-load_image': 1, 'last_call-kill_process': 1})\n",
        "Counter({'first_call-load_image': 1, 'last_call-thread': 1})\n",
        "Counter({'first_call-load_image': 1, 'last_call-kill_process': 1})\n",
        "Counter({'first_call-load_image': 1, 'last_call-thread': 1})"
       ]
      },
      {
       "output_type": "stream",
       "stream": "stdout",
       "text": [
        "\n",
        "Counter({'first_call-load_image': 1, 'last_call-thread': 1})"
       ]
      },
      {
       "output_type": "stream",
       "stream": "stdout",
       "text": [
        "\n",
        "Counter({'first_call-load_image': 1, 'last_call-process': 1})\n",
        "Counter({'first_call-load_image': 1, 'last_call-kill_process': 1})\n",
        "Counter({'first_call-load_image': 1, 'last_call-thread': 1})\n",
        "Counter({'first_call-load_image': 1, 'last_call-thread': 1})"
       ]
      },
      {
       "output_type": "stream",
       "stream": "stdout",
       "text": [
        "\n",
        "Counter({'first_call-load_image': 1, 'last_call-enum_window': 1})"
       ]
      },
      {
       "output_type": "stream",
       "stream": "stdout",
       "text": [
        "\n",
        "Counter({'first_call-load_image': 1, 'last_call-thread': 1})\n",
        "Counter({'first_call-load_image': 1, 'last_call-kill_process': 1})"
       ]
      },
      {
       "output_type": "stream",
       "stream": "stdout",
       "text": [
        "\n",
        "Counter({'first_call-load_image': 1, 'last_call-kill_process': 1})\n",
        "Counter({'first_call-load_image': 1, 'last_call-process': 1})\n",
        "Counter({'first_call-load_image': 1, 'last_call-thread': 1})"
       ]
      },
      {
       "output_type": "stream",
       "stream": "stdout",
       "text": [
        "\n",
        "Counter({'first_call-load_image': 1, 'last_call-thread': 1})"
       ]
      },
      {
       "output_type": "stream",
       "stream": "stdout",
       "text": [
        "\n",
        "Counter({'first_call-load_image': 1, 'last_call-kill_process': 1})\n",
        "Counter({'first_call-load_image': 1, 'last_call-kill_process': 1})\n",
        "Counter({'first_call-load_image': 1, 'last_call-kill_process': 1})\n",
        "Counter({'first_call-load_image': 1, 'last_call-kill_process': 1})\n",
        "Counter({'first_call-load_image': 1, 'last_call-thread': 1})"
       ]
      },
      {
       "output_type": "stream",
       "stream": "stdout",
       "text": [
        "\n",
        "Counter({'first_call-load_image': 1, 'last_call-kill_process': 1})\n",
        "Counter({'first_call-load_image': 1, 'last_call-kill_process': 1})\n",
        "Counter({'first_call-load_image': 1, 'last_call-thread': 1})\n",
        "Counter({'first_call-load_image': 1, 'last_call-process': 1})"
       ]
      },
      {
       "output_type": "stream",
       "stream": "stdout",
       "text": [
        "\n",
        "Counter({'first_call-load_image': 1, 'last_call-kill_process': 1})\n",
        "Counter({'first_call-load_image': 1, 'last_call-thread': 1})\n",
        "Counter({'first_call-load_image': 1, 'last_call-kill_process': 1})\n",
        "Counter({'first_call-load_image': 1, 'last_call-thread': 1})"
       ]
      },
      {
       "output_type": "stream",
       "stream": "stdout",
       "text": [
        "\n",
        "Counter({'first_call-load_image': 1, 'last_call-sleep': 1})"
       ]
      },
      {
       "output_type": "stream",
       "stream": "stdout",
       "text": [
        "\n",
        "Counter({'first_call-load_image': 1, 'last_call-kill_process': 1})\n",
        "Counter({'first_call-load_image': 1, 'last_call-kill_process': 1})\n",
        "Counter({'first_call-load_image': 1, 'last_call-load_dll': 1})\n",
        "Counter({'first_call-load_image': 1, 'last_call-kill_process': 1})\n",
        "Counter({'first_call-load_image': 1, 'last_call-create_thread': 1})\n",
        "Counter({'first_call-load_image': 1, 'last_call-kill_process': 1})"
       ]
      },
      {
       "output_type": "stream",
       "stream": "stdout",
       "text": [
        "\n",
        "Counter({'first_call-load_image': 1, 'last_call-enum_window': 1})\n",
        "Counter({'first_call-load_image': 1, 'last_call-thread': 1})\n",
        "Counter({'first_call-load_image': 1, 'last_call-kill_process': 1})\n",
        "Counter({'first_call-load_image': 1, 'last_call-enum_window': 1})\n",
        "Counter({'first_call-load_image': 1, 'last_call-kill_process': 1})\n",
        "Counter({'first_call-load_image': 1, 'last_call-kill_process': 1})\n",
        "Counter({'first_call-load_image': 1, 'last_call-load_dll': 1})\n",
        "Counter({'first_call-load_image': 1, 'last_call-load_dll': 1})"
       ]
      },
      {
       "output_type": "stream",
       "stream": "stdout",
       "text": [
        "\n",
        "Counter({'first_call-load_image': 1, 'last_call-thread': 1})\n",
        "Counter({'first_call-load_image': 1, 'last_call-kill_process': 1})\n",
        "Counter({'first_call-load_image': 1, 'last_call-thread': 1})\n",
        "Counter({'first_call-load_image': 1, 'last_call-kill_process': 1})\n",
        "Counter({'first_call-load_image': 1, 'last_call-load_dll': 1})\n",
        "Counter({'first_call-load_image': 1, 'last_call-kill_process': 1})"
       ]
      },
      {
       "output_type": "stream",
       "stream": "stdout",
       "text": [
        "\n",
        "Counter({'first_call-load_image': 1, 'last_call-process': 1})\n",
        "Counter({'first_call-load_image': 1, 'last_call-kill_process': 1})\n",
        "Counter({'first_call-load_image': 1, 'last_call-enum_window': 1})\n",
        "Counter({'first_call-load_image': 1, 'last_call-enum_window': 1})\n",
        "Counter({'first_call-load_image': 1, 'last_call-enum_window': 1})\n",
        "Counter({'first_call-load_image': 1, 'last_call-kill_process': 1})\n",
        "Counter({'first_call-load_image': 1, 'last_call-kill_process': 1})"
       ]
      },
      {
       "output_type": "stream",
       "stream": "stdout",
       "text": [
        "\n",
        "Counter({'first_call-load_image': 1, 'last_call-open_process': 1})\n",
        "Counter({'first_call-load_image': 1, 'last_call-thread': 1})"
       ]
      },
      {
       "output_type": "stream",
       "stream": "stdout",
       "text": [
        "\n",
        "Counter({'first_call-load_image': 1, 'last_call-thread': 1})\n",
        "Counter({'first_call-load_image': 1, 'last_call-enum_window': 1})\n",
        "Counter({'first_call-load_image': 1, 'last_call-enum_window': 1})"
       ]
      },
      {
       "output_type": "stream",
       "stream": "stdout",
       "text": [
        "\n",
        "Counter({'first_call-load_image': 1, 'last_call-kill_process': 1})\n",
        "Counter({'first_call-load_image': 1, 'last_call-process': 1})\n",
        "Counter({'first_call-load_image': 1, 'last_call-enum_window': 1})"
       ]
      },
      {
       "output_type": "stream",
       "stream": "stdout",
       "text": [
        "\n",
        "Counter({'first_call-load_image': 1, 'last_call-load_dll': 1})\n",
        "Counter({'first_call-load_image': 1, 'last_call-kill_process': 1})\n",
        "Counter({'first_call-load_image': 1, 'last_call-thread': 1})\n",
        "Counter({'first_call-load_image': 1, 'last_call-kill_process': 1})\n",
        "Counter({'first_call-load_image': 1, 'last_call-enum_window': 1})\n",
        "Counter({'first_call-load_image': 1, 'last_call-kill_process': 1})"
       ]
      },
      {
       "output_type": "stream",
       "stream": "stdout",
       "text": [
        "\n",
        "Counter({'first_call-load_image': 1, 'last_call-kill_process': 1})\n",
        "Counter({'first_call-load_image': 1, 'last_call-enum_window': 1})\n",
        "Counter({'first_call-load_image': 1, 'last_call-enum_window': 1})\n",
        "Counter({'first_call-load_image': 1, 'last_call-create_thread': 1})\n",
        "Counter({'first_call-load_image': 1, 'last_call-kill_process': 1})"
       ]
      },
      {
       "output_type": "stream",
       "stream": "stdout",
       "text": [
        "\n",
        "Counter({'first_call-load_image': 1, 'last_call-enum_window': 1})\n",
        "Counter({'first_call-load_image': 1, 'last_call-thread': 1})\n",
        "Counter({'first_call-load_image': 1, 'last_call-kill_process': 1})\n",
        "Counter({'first_call-load_image': 1, 'last_call-thread': 1})\n",
        "Counter({'first_call-load_image': 1, 'last_call-enum_window': 1})\n",
        "Counter({'first_call-load_image': 1, 'last_call-kill_process': 1})"
       ]
      },
      {
       "output_type": "stream",
       "stream": "stdout",
       "text": [
        "\n",
        "Counter({'first_call-load_image': 1, 'last_call-thread': 1})\n",
        "Counter({'last_call-create_window': 1, 'first_call-load_image': 1})"
       ]
      },
      {
       "output_type": "stream",
       "stream": "stdout",
       "text": [
        "\n",
        "Counter({'first_call-load_image': 1, 'last_call-load_dll': 1})"
       ]
      },
      {
       "output_type": "stream",
       "stream": "stdout",
       "text": [
        "\n",
        "Counter({'first_call-load_image': 1, 'last_call-thread': 1})"
       ]
      },
      {
       "output_type": "stream",
       "stream": "stdout",
       "text": [
        "\n",
        "Counter({'first_call-load_image': 1, 'last_call-load_dll': 1})\n",
        "Counter({'first_call-load_image': 1, 'last_call-enum_window': 1})"
       ]
      },
      {
       "output_type": "stream",
       "stream": "stdout",
       "text": [
        "\n",
        "Counter({'first_call-load_image': 1, 'last_call-process': 1})\n",
        "Counter({'first_call-load_image': 1, 'last_call-load_dll': 1})\n",
        "Counter({'first_call-load_image': 1, 'last_call-process': 1})\n",
        "Counter({'first_call-load_image': 1, 'last_call-process': 1})"
       ]
      },
      {
       "output_type": "stream",
       "stream": "stdout",
       "text": [
        "\n",
        "Counter({'first_call-load_image': 1, 'last_call-thread': 1})\n",
        "Counter({'first_call-load_image': 1, 'last_call-enum_window': 1})\n",
        "Counter({'first_call-load_image': 1, 'last_call-enum_window': 1})"
       ]
      },
      {
       "output_type": "stream",
       "stream": "stdout",
       "text": [
        "\n",
        "Counter({'first_call-load_image': 1, 'last_call-thread': 1})"
       ]
      },
      {
       "output_type": "stream",
       "stream": "stdout",
       "text": [
        "\n",
        "Counter({'first_call-load_image': 1, 'last_call-enum_window': 1})\n",
        "Counter({'first_call-load_image': 1, 'last_call-thread': 1})\n",
        "Counter({'first_call-load_image': 1, 'last_call-enum_window': 1})\n",
        "Counter({'first_call-load_image': 1, 'last_call-thread': 1})\n",
        "Counter({'first_call-load_image': 1, 'last_call-load_dll': 1})"
       ]
      },
      {
       "output_type": "stream",
       "stream": "stdout",
       "text": [
        "\n",
        "Counter({'first_call-load_image': 1, 'last_call-kill_process': 1})\n",
        "Counter({'first_call-load_image': 1, 'last_call-create_mutex': 1})\n",
        "Counter({'first_call-load_image': 1, 'last_call-kill_process': 1})\n",
        "Counter({'first_call-load_image': 1, 'last_call-enum_window': 1})\n",
        "Counter({'first_call-load_image': 1, 'last_call-kill_process': 1})\n",
        "Counter({'first_call-load_image': 1, 'last_call-thread': 1})\n",
        "Counter({'first_call-load_image': 1, 'last_call-thread': 1})"
       ]
      },
      {
       "output_type": "stream",
       "stream": "stdout",
       "text": [
        "\n",
        "Counter({'first_call-load_image': 1, 'last_call-thread': 1})\n",
        "Counter({'first_call-load_image': 1, 'last_call-enum_window': 1})\n",
        "Counter({'first_call-load_image': 1, 'last_call-kill_process': 1})\n",
        "Counter({'first_call-load_image': 1, 'last_call-process': 1})\n",
        "Counter({'first_call-load_image': 1, 'last_call-enum_window': 1})\n",
        "Counter({'first_call-load_image': 1, 'last_call-thread': 1})\n",
        "Counter({'first_call-load_image': 1, 'last_call-thread': 1})\n",
        "Counter({'first_call-load_image': 1, 'last_call-thread': 1})"
       ]
      },
      {
       "output_type": "stream",
       "stream": "stdout",
       "text": [
        "\n",
        "Counter({'first_call-load_image': 1, 'last_call-load_dll': 1})\n",
        "Counter({'first_call-load_image': 1, 'last_call-thread': 1})\n",
        "Counter({'first_call-load_image': 1, 'last_call-enum_window': 1})"
       ]
      },
      {
       "output_type": "stream",
       "stream": "stdout",
       "text": [
        "\n",
        "Counter({'first_call-load_image': 1, 'last_call-kill_process': 1})\n",
        "Counter({'first_call-load_image': 1, 'last_call-thread': 1})\n",
        "Counter({'first_call-load_image': 1, 'last_call-enum_window': 1})"
       ]
      },
      {
       "output_type": "stream",
       "stream": "stdout",
       "text": [
        "\n",
        "Counter({'first_call-load_image': 1, 'last_call-load_dll': 1})\n",
        "Counter({'first_call-load_image': 1, 'last_call-kill_process': 1})\n",
        "Counter({'first_call-load_image': 1, 'last_call-thread': 1})"
       ]
      },
      {
       "output_type": "stream",
       "stream": "stdout",
       "text": [
        "\n",
        "Counter({'first_call-load_image': 1, 'last_call-process': 1})"
       ]
      },
      {
       "output_type": "stream",
       "stream": "stdout",
       "text": [
        "\n",
        "Counter({'first_call-load_image': 1, 'last_call-process': 1})\n",
        "Counter({'first_call-load_image': 1, 'last_call-thread': 1})\n",
        "Counter({'first_call-load_image': 1, 'last_call-kill_process': 1})\n",
        "Counter({'first_call-load_image': 1, 'last_call-kill_process': 1})"
       ]
      },
      {
       "output_type": "stream",
       "stream": "stdout",
       "text": [
        "\n",
        "Counter({'first_call-load_image': 1, 'last_call-thread': 1})\n",
        "Counter({'first_call-load_image': 1, 'last_call-kill_process': 1})\n",
        "Counter({'first_call-load_image': 1, 'last_call-kill_process': 1})\n",
        "Counter({'first_call-load_image': 1, 'last_call-thread': 1})\n",
        "Counter({'first_call-load_image': 1, 'last_call-enum_window': 1})\n",
        "Counter({'first_call-load_image': 1, 'last_call-kill_process': 1})\n",
        "Counter({'first_call-load_image': 1, 'last_call-thread': 1})"
       ]
      },
      {
       "output_type": "stream",
       "stream": "stdout",
       "text": [
        "\n",
        "Counter({'first_call-load_image': 1, 'last_call-enum_window': 1})\n",
        "Counter({'first_call-load_image': 1, 'last_call-thread': 1})\n",
        "Counter({'first_call-load_image': 1, 'last_call-thread': 1})\n",
        "Counter({'first_call-load_image': 1, 'last_call-kill_process': 1})\n",
        "Counter({'first_call-load_image': 1, 'last_call-enum_window': 1})\n",
        "Counter({'first_call-load_image': 1, 'last_call-enum_window': 1})\n",
        "Counter({'first_call-load_image': 1, 'last_call-enum_window': 1})\n",
        "Counter({'first_call-load_image': 1, 'last_call-kill_process': 1})"
       ]
      },
      {
       "output_type": "stream",
       "stream": "stdout",
       "text": [
        "\n",
        "Counter({'first_call-load_image': 1, 'last_call-kill_process': 1})\n",
        "Counter({'first_call-load_image': 1, 'last_call-kill_process': 1})\n",
        "Counter({'first_call-load_image': 1, 'last_call-kill_process': 1})\n",
        "Counter({'first_call-load_image': 1, 'last_call-enum_window': 1})\n",
        "Counter({'first_call-load_image': 1, 'last_call-process': 1})\n",
        "Counter({'first_call-load_image': 1, 'last_call-kill_process': 1})\n",
        "Counter({'first_call-load_image': 1, 'last_call-kill_process': 1})"
       ]
      },
      {
       "output_type": "stream",
       "stream": "stdout",
       "text": [
        "\n",
        "Counter({'first_call-load_image': 1, 'last_call-kill_process': 1})\n",
        "Counter({'first_call-load_image': 1, 'last_call-kill_process': 1})\n",
        "Counter({'first_call-load_image': 1, 'last_call-kill_process': 1})\n",
        "Counter({'first_call-load_image': 1, 'last_call-kill_process': 1})\n",
        "Counter({'first_call-load_image': 1, 'last_call-process': 1})"
       ]
      },
      {
       "output_type": "stream",
       "stream": "stdout",
       "text": [
        "\n",
        "Counter({'first_call-load_image': 1, 'last_call-thread': 1})\n",
        "Counter({'first_call-load_image': 1, 'last_call-enum_window': 1})\n",
        "Counter({'first_call-load_image': 1, 'last_call-enum_window': 1})\n",
        "Counter({'first_call-load_image': 1, 'last_call-load_dll': 1})\n",
        "Counter({'first_call-load_image': 1, 'last_call-thread': 1})\n",
        "Counter({'first_call-load_image': 1, 'last_call-kill_process': 1})\n",
        "Counter({'first_call-load_image': 1, 'last_call-kill_process': 1})"
       ]
      },
      {
       "output_type": "stream",
       "stream": "stdout",
       "text": [
        "\n",
        "Counter({'first_call-load_image': 1, 'last_call-enum_window': 1})\n",
        "Counter({'first_call-load_image': 1, 'last_call-kill_process': 1})\n",
        "Counter({'first_call-load_image': 1, 'last_call-thread': 1})"
       ]
      },
      {
       "output_type": "stream",
       "stream": "stdout",
       "text": [
        "\n",
        "Counter({'first_call-load_image': 1, 'last_call-kill_process': 1})"
       ]
      },
      {
       "output_type": "stream",
       "stream": "stdout",
       "text": [
        "\n",
        "Counter({'first_call-load_image': 1, 'last_call-process': 1})\n",
        "Counter({'first_call-load_image': 1, 'last_call-kill_process': 1})\n",
        "Counter({'first_call-load_image': 1, 'last_call-kill_process': 1})\n",
        "Counter({'first_call-load_image': 1, 'last_call-kill_process': 1})\n",
        "Counter({'first_call-load_image': 1, 'last_call-enum_window': 1})\n",
        "Counter({'first_call-load_image': 1, 'last_call-thread': 1})\n",
        "Counter({'first_call-load_image': 1, 'last_call-process': 1})"
       ]
      },
      {
       "output_type": "stream",
       "stream": "stdout",
       "text": [
        "\n",
        "Counter({'first_call-load_image': 1, 'last_call-process': 1})\n",
        "Counter({'first_call-load_image': 1, 'last_call-enum_window': 1})\n",
        "Counter({'first_call-load_image': 1, 'last_call-process': 1})\n",
        "Counter({'first_call-load_image': 1, 'last_call-enum_window': 1})"
       ]
      },
      {
       "output_type": "stream",
       "stream": "stdout",
       "text": [
        "\n",
        "Counter({'first_call-load_image': 1, 'last_call-thread': 1})\n",
        "Counter({'first_call-load_image': 1, 'last_call-thread': 1})"
       ]
      },
      {
       "output_type": "stream",
       "stream": "stdout",
       "text": [
        "\n",
        "Counter({'first_call-load_image': 1, 'last_call-process': 1})\n",
        "Counter({'first_call-load_image': 1, 'last_call-enum_window': 1})\n",
        "Counter({'first_call-load_image': 1, 'last_call-kill_process': 1})\n",
        "Counter({'first_call-load_image': 1, 'last_call-enum_window': 1})\n",
        "Counter({'first_call-load_image': 1, 'last_call-kill_process': 1})\n",
        "Counter({'first_call-load_image': 1, 'last_call-kill_process': 1})\n",
        "Counter({'first_call-load_image': 1, 'last_call-kill_process': 1})"
       ]
      },
      {
       "output_type": "stream",
       "stream": "stdout",
       "text": [
        "\n",
        "Counter({'first_call-load_image': 1, 'last_call-enum_window': 1})\n",
        "Counter({'first_call-load_image': 1, 'last_call-kill_process': 1})\n",
        "Counter({'first_call-load_image': 1, 'last_call-process': 1})\n",
        "Counter({'first_call-load_image': 1, 'last_call-thread': 1})"
       ]
      },
      {
       "output_type": "stream",
       "stream": "stdout",
       "text": [
        "\n",
        "Counter({'first_call-load_image': 1, 'last_call-kill_process': 1})\n",
        "Counter({'first_call-load_image': 1, 'last_call-thread': 1})\n",
        "Counter({'first_call-load_image': 1, 'last_call-enum_window': 1})\n",
        "Counter({'first_call-load_image': 1, 'last_call-thread': 1})\n",
        "Counter({'first_call-load_image': 1, 'last_call-thread': 1})"
       ]
      },
      {
       "output_type": "stream",
       "stream": "stdout",
       "text": [
        "\n",
        "Counter({'first_call-load_image': 1, 'last_call-kill_process': 1})\n",
        "Counter({'first_call-load_image': 1, 'last_call-kill_process': 1})\n",
        "Counter({'first_call-load_image': 1, 'last_call-load_dll': 1})\n",
        "Counter({'first_call-load_image': 1, 'last_call-thread': 1})\n",
        "Counter({'first_call-load_image': 1, 'last_call-thread': 1})"
       ]
      },
      {
       "output_type": "stream",
       "stream": "stdout",
       "text": [
        "\n",
        "Counter({'first_call-load_image': 1, 'last_call-process': 1})\n",
        "Counter({'first_call-load_image': 1, 'last_call-kill_process': 1})\n",
        "Counter({'first_call-load_image': 1, 'last_call-load_dll': 1})"
       ]
      },
      {
       "output_type": "stream",
       "stream": "stdout",
       "text": [
        "\n",
        "Counter({'first_call-load_image': 1, 'last_call-thread': 1})"
       ]
      },
      {
       "output_type": "stream",
       "stream": "stdout",
       "text": [
        "\n",
        "Counter({'first_call-load_image': 1, 'last_call-kill_process': 1})"
       ]
      },
      {
       "output_type": "stream",
       "stream": "stdout",
       "text": [
        "\n",
        "Counter({'first_call-load_image': 1, 'last_call-enum_window': 1})\n",
        "Counter({'first_call-load_image': 1, 'last_call-process': 1})\n",
        "Counter({'first_call-load_image': 1, 'last_call-kill_process': 1})\n",
        "Counter({'first_call-load_image': 1, 'last_call-kill_process': 1})"
       ]
      },
      {
       "output_type": "stream",
       "stream": "stdout",
       "text": [
        "\n",
        "Counter({'first_call-load_image': 1, 'last_call-process': 1})\n",
        "Counter({'first_call-load_image': 1, 'last_call-load_dll': 1})\n",
        "Counter({'first_call-load_image': 1, 'last_call-load_dll': 1})\n",
        "Counter({'first_call-load_image': 1, 'last_call-enum_window': 1})"
       ]
      },
      {
       "output_type": "stream",
       "stream": "stdout",
       "text": [
        "\n",
        "Counter({'first_call-load_image': 1, 'last_call-thread': 1})"
       ]
      },
      {
       "output_type": "stream",
       "stream": "stdout",
       "text": [
        "\n",
        "Counter({'first_call-load_image': 1, 'last_call-kill_process': 1})\n",
        "Counter({'first_call-load_image': 1, 'last_call-thread': 1})\n",
        "Counter({'first_call-load_image': 1, 'last_call-process': 1})"
       ]
      },
      {
       "output_type": "stream",
       "stream": "stdout",
       "text": [
        "\n",
        "Counter({'first_call-load_image': 1, 'last_call-kill_process': 1})\n",
        "Counter({'first_call-load_image': 1, 'last_call-open_process': 1})\n",
        "Counter({'first_call-load_image': 1, 'last_call-kill_process': 1})\n",
        "Counter({'first_call-load_image': 1, 'last_call-kill_process': 1})\n",
        "Counter({'first_call-load_image': 1, 'last_call-thread': 1})\n",
        "Counter({'first_call-load_image': 1, 'last_call-thread': 1})\n",
        "Counter({'first_call-load_image': 1, 'last_call-thread': 1})"
       ]
      },
      {
       "output_type": "stream",
       "stream": "stdout",
       "text": [
        "\n",
        "Counter({'first_call-load_image': 1, 'last_call-enum_window': 1})"
       ]
      },
      {
       "output_type": "stream",
       "stream": "stdout",
       "text": [
        "\n",
        "Counter({'first_call-load_image': 1, 'last_call-kill_process': 1})\n",
        "Counter({'first_call-load_image': 1, 'last_call-thread': 1})\n",
        "Counter({'first_call-load_image': 1, 'last_call-thread': 1})"
       ]
      },
      {
       "output_type": "stream",
       "stream": "stdout",
       "text": [
        "\n",
        "Counter({'first_call-load_image': 1, 'last_call-thread': 1})\n",
        "Counter({'first_call-load_image': 1, 'last_call-thread': 1})"
       ]
      },
      {
       "output_type": "stream",
       "stream": "stdout",
       "text": [
        "\n",
        "Counter({'first_call-load_image': 1, 'last_call-enum_window': 1})"
       ]
      },
      {
       "output_type": "stream",
       "stream": "stdout",
       "text": [
        "\n",
        "Counter({'first_call-load_image': 1, 'last_call-kill_process': 1})\n",
        "Counter({'first_call-load_image': 1, 'last_call-thread': 1})\n",
        "Counter({'first_call-load_image': 1, 'last_call-sleep': 1})"
       ]
      },
      {
       "output_type": "stream",
       "stream": "stdout",
       "text": [
        "\n",
        "Counter({'first_call-load_image': 1, 'last_call-enum_window': 1})"
       ]
      },
      {
       "output_type": "stream",
       "stream": "stdout",
       "text": [
        "\n",
        "Counter({'first_call-load_image': 1, 'last_call-load_dll': 1})\n",
        "Counter({'first_call-load_image': 1, 'last_call-kill_process': 1})\n",
        "Counter({'first_call-load_image': 1, 'last_call-load_dll': 1})\n",
        "Counter({'first_call-load_image': 1, 'last_call-thread': 1})\n",
        "Counter({'first_call-load_image': 1, 'last_call-kill_process': 1})\n",
        "Counter({'first_call-load_image': 1, 'last_call-thread': 1})"
       ]
      },
      {
       "output_type": "stream",
       "stream": "stdout",
       "text": [
        "\n",
        "Counter({'first_call-load_image': 1, 'last_call-kill_process': 1})\n",
        "Counter({'first_call-load_image': 1, 'last_call-kill_process': 1})\n",
        "Counter({'first_call-load_image': 1, 'last_call-kill_process': 1})\n",
        "Counter({'first_call-load_image': 1, 'last_call-thread': 1})"
       ]
      },
      {
       "output_type": "stream",
       "stream": "stdout",
       "text": [
        "\n",
        "Counter({'first_call-load_image': 1, 'last_call-enum_window': 1})\n",
        "Counter({'first_call-load_image': 1, 'last_call-enum_window': 1})\n",
        "Counter({'first_call-load_image': 1, 'last_call-thread': 1})\n",
        "Counter({'first_call-load_image': 1, 'last_call-thread': 1})\n",
        "Counter({'first_call-load_image': 1, 'last_call-kill_process': 1})"
       ]
      },
      {
       "output_type": "stream",
       "stream": "stdout",
       "text": [
        "\n",
        "Counter({'first_call-load_image': 1, 'last_call-enum_window': 1})\n",
        "Counter({'first_call-load_image': 1, 'last_call-load_dll': 1})\n",
        "Counter({'first_call-load_image': 1, 'last_call-kill_process': 1})\n",
        "Counter({'first_call-load_image': 1, 'last_call-process': 1})\n",
        "Counter({'first_call-load_image': 1, 'last_call-load_dll': 1})"
       ]
      },
      {
       "output_type": "stream",
       "stream": "stdout",
       "text": [
        "\n",
        "Counter({'first_call-load_image': 1, 'last_call-load_dll': 1})\n",
        "Counter({'first_call-load_image': 1, 'last_call-enum_window': 1})\n",
        "Counter({'first_call-load_image': 1, 'last_call-thread': 1})\n",
        "Counter({'first_call-load_image': 1, 'last_call-enum_window': 1})\n",
        "Counter({'first_call-load_image': 1, 'last_call-process': 1})\n",
        "Counter({'first_call-load_image': 1, 'last_call-kill_process': 1})"
       ]
      },
      {
       "output_type": "stream",
       "stream": "stdout",
       "text": [
        "\n",
        "Counter({'first_call-load_image': 1, 'last_call-enum_window': 1})\n",
        "Counter({'first_call-load_image': 1, 'last_call-thread': 1})\n",
        "Counter({'first_call-load_image': 1, 'last_call-kill_process': 1})\n",
        "Counter({'first_call-load_image': 1, 'last_call-kill_process': 1})\n",
        "Counter({'first_call-load_image': 1, 'last_call-kill_process': 1})"
       ]
      },
      {
       "output_type": "stream",
       "stream": "stdout",
       "text": [
        "\n",
        "Counter({'first_call-load_image': 1, 'last_call-thread': 1})\n",
        "Counter({'first_call-load_image': 1, 'last_call-load_dll': 1})\n",
        "Counter({'first_call-load_image': 1, 'last_call-thread': 1})\n",
        "Counter({'first_call-load_image': 1, 'last_call-kill_process': 1})\n",
        "Counter({'first_call-load_image': 1, 'last_call-kill_process': 1})\n",
        "Counter({'first_call-load_image': 1, 'last_call-thread': 1})"
       ]
      },
      {
       "output_type": "stream",
       "stream": "stdout",
       "text": [
        "\n",
        "Counter({'first_call-load_image': 1, 'last_call-thread': 1})\n",
        "Counter({'first_call-load_image': 1, 'last_call-thread': 1})"
       ]
      },
      {
       "output_type": "stream",
       "stream": "stdout",
       "text": [
        "\n",
        "Counter({'first_call-load_image': 1, 'last_call-create_thread': 1})"
       ]
      },
      {
       "output_type": "stream",
       "stream": "stdout",
       "text": [
        "\n",
        "Counter({'first_call-load_image': 1, 'last_call-kill_process': 1})\n",
        "Counter({'first_call-load_image': 1, 'last_call-load_dll': 1})\n",
        "Counter({'first_call-load_image': 1, 'last_call-thread': 1})"
       ]
      },
      {
       "output_type": "stream",
       "stream": "stdout",
       "text": [
        "\n",
        "Counter({'first_call-load_image': 1, 'last_call-thread': 1})\n",
        "Counter({'first_call-load_image': 1, 'last_call-kill_process': 1})\n",
        "Counter({'first_call-load_image': 1, 'last_call-thread': 1})"
       ]
      },
      {
       "output_type": "stream",
       "stream": "stdout",
       "text": [
        "\n",
        "Counter({'first_call-load_image': 1, 'last_call-thread': 1})"
       ]
      },
      {
       "output_type": "stream",
       "stream": "stdout",
       "text": [
        "\n",
        "Counter({'first_call-load_image': 1, 'last_call-thread': 1})\n",
        "Counter({'first_call-load_image': 1, 'last_call-thread': 1})\n",
        "Counter({'first_call-load_image': 1, 'last_call-thread': 1})\n",
        "Counter({'first_call-load_image': 1, 'last_call-kill_process': 1})\n",
        "Counter({'first_call-load_image': 1, 'last_call-enum_window': 1})"
       ]
      },
      {
       "output_type": "stream",
       "stream": "stdout",
       "text": [
        "\n",
        "Counter({'first_call-load_image': 1, 'last_call-enum_window': 1})\n",
        "Counter({'first_call-load_image': 1, 'last_call-thread': 1})\n",
        "Counter({'first_call-load_image': 1, 'last_call-load_dll': 1})\n",
        "Counter({'first_call-load_image': 1, 'last_call-thread': 1})\n",
        "Counter({'first_call-load_image': 1, 'last_call-kill_process': 1})"
       ]
      },
      {
       "output_type": "stream",
       "stream": "stdout",
       "text": [
        "\n",
        "Counter({'first_call-load_image': 1, 'last_call-kill_process': 1})\n",
        "Counter({'first_call-load_image': 1, 'last_call-thread': 1})\n",
        "Counter({'first_call-load_image': 1, 'last_call-create_thread': 1})\n",
        "Counter({'first_call-load_image': 1, 'last_call-enum_window': 1})\n",
        "Counter({'first_call-load_image': 1, 'last_call-thread': 1})\n",
        "Counter({'first_call-load_image': 1, 'last_call-load_dll': 1})\n",
        "Counter({'first_call-load_image': 1, 'last_call-thread': 1})"
       ]
      },
      {
       "output_type": "stream",
       "stream": "stdout",
       "text": [
        "\n",
        "Counter({'first_call-load_image': 1, 'last_call-thread': 1})\n",
        "Counter({'first_call-load_image': 1, 'last_call-process': 1})\n",
        "Counter({'first_call-load_image': 1, 'last_call-thread': 1})\n",
        "Counter({'first_call-load_image': 1, 'last_call-load_dll': 1})"
       ]
      },
      {
       "output_type": "stream",
       "stream": "stdout",
       "text": [
        "\n",
        "Counter({'first_call-load_image': 1, 'last_call-kill_process': 1})\n",
        "Counter({'first_call-load_image': 1, 'last_call-kill_process': 1})\n",
        "Counter({'first_call-load_image': 1, 'last_call-get_system_time': 1})"
       ]
      },
      {
       "output_type": "stream",
       "stream": "stdout",
       "text": [
        "\n",
        "Counter({'first_call-load_image': 1, 'last_call-thread': 1})\n",
        "Counter({'first_call-load_image': 1, 'last_call-enum_window': 1})\n",
        "Counter({'first_call-load_image': 1, 'last_call-kill_process': 1})"
       ]
      },
      {
       "output_type": "stream",
       "stream": "stdout",
       "text": [
        "\n",
        "Counter({'first_call-load_image': 1, 'last_call-create_thread': 1})\n",
        "Counter({'first_call-load_image': 1, 'last_call-sleep': 1})\n",
        "Counter({'first_call-load_image': 1, 'last_call-kill_process': 1})\n",
        "Counter({'first_call-load_image': 1, 'last_call-kill_process': 1})\n",
        "Counter({'first_call-load_image': 1, 'last_call-thread': 1})\n",
        "Counter({'first_call-load_image': 1, 'last_call-enum_window': 1})\n",
        "Counter({'first_call-load_image': 1, 'last_call-kill_process': 1})"
       ]
      },
      {
       "output_type": "stream",
       "stream": "stdout",
       "text": [
        "\n",
        "Counter({'first_call-load_image': 1, 'last_call-enum_window': 1})\n",
        "Counter({'first_call-load_image': 1, 'last_call-kill_process': 1})\n",
        "Counter({'first_call-load_image': 1, 'last_call-thread': 1})"
       ]
      },
      {
       "output_type": "stream",
       "stream": "stdout",
       "text": [
        "\n",
        "Counter({'first_call-load_image': 1, 'last_call-load_dll': 1})"
       ]
      },
      {
       "output_type": "stream",
       "stream": "stdout",
       "text": [
        "\n",
        "Counter({'first_call-load_image': 1, 'last_call-process': 1})\n",
        "Counter({'first_call-load_image': 1, 'last_call-kill_process': 1})\n",
        "Counter({'first_call-load_image': 1, 'last_call-thread': 1})\n",
        "Counter({'first_call-load_image': 1, 'last_call-process': 1})"
       ]
      },
      {
       "output_type": "stream",
       "stream": "stdout",
       "text": [
        "\n",
        "Counter({'first_call-load_image': 1, 'last_call-kill_process': 1})\n",
        "Counter({'first_call-load_image': 1, 'last_call-enum_window': 1})\n",
        "Counter({'first_call-load_image': 1, 'last_call-thread': 1})\n",
        "Counter({'first_call-load_image': 1, 'last_call-load_dll': 1})\n",
        "Counter({'first_call-load_image': 1, 'last_call-kill_process': 1})\n",
        "Counter({'first_call-load_image': 1, 'last_call-kill_process': 1})"
       ]
      },
      {
       "output_type": "stream",
       "stream": "stdout",
       "text": [
        "\n",
        "Counter({'first_call-load_image': 1, 'last_call-enum_window': 1})\n",
        "Counter({'first_call-load_image': 1, 'last_call-thread': 1})\n",
        "Counter({'first_call-load_image': 1, 'last_call-thread': 1})"
       ]
      },
      {
       "output_type": "stream",
       "stream": "stdout",
       "text": [
        "\n",
        "Counter({'first_call-load_image': 1, 'last_call-kill_process': 1})\n",
        "Counter({'first_call-load_image': 1, 'last_call-thread': 1})"
       ]
      },
      {
       "output_type": "stream",
       "stream": "stdout",
       "text": [
        "\n",
        "Counter({'first_call-load_image': 1, 'last_call-load_dll': 1})\n",
        "Counter({'first_call-load_image': 1, 'last_call-thread': 1})"
       ]
      },
      {
       "output_type": "stream",
       "stream": "stdout",
       "text": [
        "\n",
        "Counter({'first_call-load_image': 1, 'last_call-thread': 1})\n",
        "Counter({'first_call-load_image': 1, 'last_call-thread': 1})\n",
        "Counter({'first_call-load_image': 1, 'last_call-query_value': 1})"
       ]
      },
      {
       "output_type": "stream",
       "stream": "stdout",
       "text": [
        "\n",
        "Counter({'first_call-load_image': 1, 'last_call-kill_process': 1})"
       ]
      },
      {
       "output_type": "stream",
       "stream": "stdout",
       "text": [
        "\n",
        "Counter({'first_call-load_image': 1, 'last_call-kill_process': 1})\n",
        "Counter({'first_call-load_image': 1, 'last_call-enum_window': 1})\n",
        "Counter({'first_call-load_image': 1, 'last_call-thread': 1})\n",
        "Counter({'first_call-load_image': 1, 'last_call-kill_process': 1})\n",
        "Counter({'first_call-load_image': 1, 'last_call-kill_process': 1})\n",
        "Counter({'first_call-load_image': 1, 'last_call-process': 1})\n",
        "Counter({'first_call-load_image': 1, 'last_call-thread': 1})"
       ]
      },
      {
       "output_type": "stream",
       "stream": "stdout",
       "text": [
        "\n",
        "Counter({'first_call-load_image': 1, 'last_call-kill_process': 1})\n",
        "Counter({'first_call-load_image': 1, 'last_call-thread': 1})\n",
        "Counter({'first_call-load_image': 1, 'last_call-enum_window': 1})\n",
        "Counter({'first_call-load_image': 1, 'last_call-thread': 1})\n",
        "Counter({'first_call-load_image': 1, 'last_call-kill_process': 1})"
       ]
      },
      {
       "output_type": "stream",
       "stream": "stdout",
       "text": [
        "\n",
        "Counter({'first_call-load_image': 1, 'last_call-thread': 1})\n",
        "Counter({'first_call-load_image': 1, 'last_call-enum_window': 1})\n",
        "Counter({'first_call-load_image': 1, 'last_call-enum_window': 1})"
       ]
      },
      {
       "output_type": "stream",
       "stream": "stdout",
       "text": [
        "\n",
        "Counter({'first_call-load_image': 1, 'last_call-thread': 1})\n",
        "Counter({'first_call-load_image': 1, 'last_call-process': 1})\n",
        "Counter({'first_call-load_image': 1, 'last_call-thread': 1})"
       ]
      },
      {
       "output_type": "stream",
       "stream": "stdout",
       "text": [
        "\n",
        "Counter({'first_call-load_image': 1, 'last_call-enum_window': 1})\n",
        "Counter({'first_call-load_image': 1, 'last_call-process': 1})\n",
        "Counter({'first_call-load_image': 1, 'last_call-thread': 1})\n",
        "Counter({'first_call-load_image': 1, 'last_call-enum_window': 1})\n",
        "Counter({'first_call-load_image': 1, 'last_call-kill_process': 1})\n",
        "Counter({'first_call-load_image': 1, 'last_call-kill_process': 1})\n",
        "Counter({'first_call-load_image': 1, 'last_call-thread': 1})"
       ]
      },
      {
       "output_type": "stream",
       "stream": "stdout",
       "text": [
        "\n",
        "Counter({'first_call-load_image': 1, 'last_call-kill_process': 1})\n",
        "Counter({'first_call-load_image': 1, 'last_call-thread': 1})\n",
        "Counter({'first_call-load_image': 1, 'last_call-thread': 1})\n",
        "Counter({'first_call-load_image': 1, 'last_call-kill_process': 1})\n",
        "Counter({'first_call-load_image': 1, 'last_call-kill_process': 1})\n",
        "Counter({'first_call-load_image': 1, 'last_call-kill_process': 1})"
       ]
      },
      {
       "output_type": "stream",
       "stream": "stdout",
       "text": [
        "\n",
        "Counter({'first_call-load_image': 1, 'last_call-load_dll': 1})\n",
        "Counter({'first_call-load_image': 1, 'last_call-create_thread': 1})\n",
        "Counter({'first_call-load_image': 1, 'last_call-thread': 1})"
       ]
      },
      {
       "output_type": "stream",
       "stream": "stdout",
       "text": [
        "\n",
        "Counter({'first_call-load_image': 1, 'last_call-thread': 1})"
       ]
      },
      {
       "output_type": "stream",
       "stream": "stdout",
       "text": [
        "\n",
        "Counter({'first_call-load_image': 1, 'last_call-kill_process': 1})\n",
        "Counter({'first_call-load_image': 1, 'last_call-enum_window': 1})\n",
        "Counter({'first_call-load_image': 1, 'last_call-enum_window': 1})\n",
        "Counter({'first_call-load_image': 1, 'last_call-kill_process': 1})\n",
        "Counter({'first_call-load_image': 1, 'last_call-process': 1})\n",
        "Counter({'first_call-load_image': 1, 'last_call-get_host_by_name': 1})\n",
        "Counter({'first_call-load_image': 1, 'last_call-get_system_directory': 1})\n",
        "Counter({'first_call-load_image': 1, 'last_call-thread': 1})"
       ]
      },
      {
       "output_type": "stream",
       "stream": "stdout",
       "text": [
        "\n",
        "Counter({'first_call-load_image': 1, 'last_call-check_for_debugger': 1})\n",
        "Counter({'first_call-load_image': 1, 'last_call-thread': 1})"
       ]
      },
      {
       "output_type": "stream",
       "stream": "stdout",
       "text": [
        "\n",
        "Counter({'first_call-load_image': 1, 'last_call-enum_window': 1})\n",
        "Counter({'first_call-load_image': 1, 'last_call-load_dll': 1})\n",
        "Counter({'first_call-load_image': 1, 'last_call-thread': 1})\n",
        "Counter({'first_call-load_image': 1, 'last_call-enum_window': 1})\n",
        "Counter({'first_call-load_image': 1, 'last_call-thread': 1})"
       ]
      },
      {
       "output_type": "stream",
       "stream": "stdout",
       "text": [
        "\n",
        "Counter({'first_call-load_image': 1, 'last_call-kill_process': 1})\n",
        "Counter({'first_call-load_image': 1, 'last_call-kill_process': 1})\n",
        "Counter({'first_call-load_image': 1, 'last_call-load_dll': 1})\n",
        "Counter({'first_call-load_image': 1, 'last_call-kill_process': 1})\n",
        "Counter({'first_call-load_image': 1, 'last_call-thread': 1})"
       ]
      },
      {
       "output_type": "stream",
       "stream": "stdout",
       "text": [
        "\n",
        "Counter({'first_call-load_image': 1, 'last_call-kill_process': 1})"
       ]
      },
      {
       "output_type": "stream",
       "stream": "stdout",
       "text": [
        "\n",
        "Counter({'first_call-load_image': 1, 'last_call-thread': 1})\n",
        "Counter({'first_call-load_image': 1, 'last_call-process': 1})\n",
        "Counter({'first_call-load_image': 1, 'last_call-enum_window': 1})\n",
        "Counter({'first_call-load_image': 1, 'last_call-create_mutex': 1})\n",
        "Counter({'first_call-load_image': 1, 'last_call-load_dll': 1})\n",
        "Counter({'first_call-load_image': 1, 'last_call-enum_window': 1})"
       ]
      },
      {
       "output_type": "stream",
       "stream": "stdout",
       "text": [
        "\n",
        "Counter({'first_call-load_image': 1, 'last_call-enum_window': 1})\n",
        "Counter({'first_call-load_image': 1, 'last_call-process': 1})\n",
        "Counter({'first_call-load_image': 1, 'last_call-kill_process': 1})\n",
        "Counter({'first_call-load_image': 1, 'last_call-load_dll': 1})\n",
        "Counter({'first_call-load_image': 1, 'last_call-kill_process': 1})"
       ]
      },
      {
       "output_type": "stream",
       "stream": "stdout",
       "text": [
        "\n",
        "Counter({'first_call-load_image': 1, 'last_call-kill_process': 1})\n",
        "Counter({'first_call-load_image': 1, 'last_call-kill_process': 1})\n",
        "Counter({'first_call-load_image': 1, 'last_call-process': 1})\n",
        "Counter({'first_call-load_image': 1, 'last_call-enum_window': 1})\n",
        "Counter({'first_call-load_image': 1, 'last_call-open_key': 1})\n",
        "Counter({'first_call-load_image': 1, 'last_call-thread': 1})\n",
        "Counter({'first_call-load_image': 1, 'last_call-thread': 1})\n",
        "Counter({'first_call-load_image': 1, 'last_call-load_dll': 1})"
       ]
      },
      {
       "output_type": "stream",
       "stream": "stdout",
       "text": [
        "\n",
        "Counter({'first_call-load_image': 1, 'last_call-thread': 1})"
       ]
      },
      {
       "output_type": "stream",
       "stream": "stdout",
       "text": [
        "\n",
        "Counter({'first_call-load_image': 1, 'last_call-enum_window': 1})\n",
        "Counter({'first_call-load_image': 1, 'last_call-sleep': 1})"
       ]
      },
      {
       "output_type": "stream",
       "stream": "stdout",
       "text": [
        "\n",
        "Counter({'first_call-load_image': 1, 'last_call-enum_window': 1})\n",
        "Counter({'first_call-load_image': 1, 'last_call-kill_process': 1})\n",
        "Counter({'first_call-load_image': 1, 'last_call-thread': 1})\n",
        "Counter({'first_call-load_image': 1, 'last_call-thread': 1})"
       ]
      },
      {
       "output_type": "stream",
       "stream": "stdout",
       "text": [
        "\n",
        "Counter({'first_call-load_image': 1, 'last_call-enum_window': 1})"
       ]
      },
      {
       "output_type": "stream",
       "stream": "stdout",
       "text": [
        "\n",
        "Counter({'first_call-load_image': 1, 'last_call-thread': 1})"
       ]
      },
      {
       "output_type": "stream",
       "stream": "stdout",
       "text": [
        "\n",
        "Counter({'first_call-load_image': 1, 'last_call-thread': 1})\n",
        "Counter({'first_call-load_image': 1, 'last_call-kill_process': 1})\n",
        "Counter({'first_call-load_image': 1, 'last_call-kill_process': 1})\n",
        "Counter({'first_call-load_image': 1, 'last_call-open_process': 1})\n",
        "Counter({'first_call-load_image': 1, 'last_call-kill_process': 1})\n",
        "Counter({'first_call-load_image': 1, 'last_call-enum_window': 1})\n",
        "Counter({'first_call-load_image': 1, 'last_call-enum_window': 1})"
       ]
      },
      {
       "output_type": "stream",
       "stream": "stdout",
       "text": [
        "\n",
        "Counter({'first_call-load_image': 1, 'last_call-thread': 1})\n",
        "Counter({'first_call-load_image': 1, 'last_call-thread': 1})"
       ]
      },
      {
       "output_type": "stream",
       "stream": "stdout",
       "text": [
        "\n",
        "Counter({'first_call-load_image': 1, 'last_call-enum_window': 1})\n",
        "Counter({'first_call-load_image': 1, 'last_call-kill_process': 1})"
       ]
      },
      {
       "output_type": "stream",
       "stream": "stdout",
       "text": [
        "\n",
        "Counter({'first_call-load_image': 1, 'last_call-kill_process': 1})\n",
        "Counter({'first_call-load_image': 1, 'last_call-kill_process': 1})\n",
        "Counter({'first_call-load_image': 1, 'last_call-load_dll': 1})\n",
        "Counter({'first_call-load_image': 1, 'last_call-enum_window': 1})\n",
        "Counter({'first_call-load_image': 1, 'last_call-kill_process': 1})"
       ]
      },
      {
       "output_type": "stream",
       "stream": "stdout",
       "text": [
        "\n",
        "Counter({'first_call-load_image': 1, 'last_call-enum_window': 1})\n",
        "Counter({'first_call-load_image': 1, 'last_call-kill_process': 1})\n",
        "Counter({'first_call-load_image': 1, 'last_call-load_dll': 1})\n",
        "Counter({'first_call-load_image': 1, 'last_call-thread': 1})\n",
        "Counter({'first_call-load_image': 1, 'last_call-kill_process': 1})\n",
        "Counter({'first_call-load_image': 1, 'last_call-thread': 1})"
       ]
      },
      {
       "output_type": "stream",
       "stream": "stdout",
       "text": [
        "\n",
        "Counter({'first_call-load_image': 1, 'last_call-kill_process': 1})\n",
        "Counter({'first_call-load_image': 1, 'last_call-kill_process': 1})\n",
        "Counter({'first_call-load_image': 1, 'last_call-enum_window': 1})\n",
        "Counter({'first_call-load_image': 1, 'last_call-thread': 1})\n",
        "Counter({'first_call-load_image': 1, 'last_call-kill_process': 1})\n",
        "Counter({'first_call-load_image': 1, 'last_call-kill_process': 1})\n",
        "Counter({'first_call-load_image': 1, 'last_call-enum_window': 1})\n",
        "Counter({'first_call-load_image': 1, 'last_call-kill_process': 1})"
       ]
      },
      {
       "output_type": "stream",
       "stream": "stdout",
       "text": [
        "\n",
        "Counter({'first_call-load_image': 1, 'last_call-thread': 1})\n",
        "Counter({'first_call-load_image': 1, 'last_call-thread': 1})\n",
        "Counter({'first_call-load_image': 1, 'last_call-enum_window': 1})\n",
        "Counter({'first_call-load_image': 1, 'last_call-kill_process': 1})\n",
        "Counter({'first_call-load_image': 1, 'last_call-enum_window': 1})\n",
        "Counter({'first_call-load_image': 1, 'last_call-kill_process': 1})\n",
        "Counter({'first_call-load_image': 1, 'last_call-load_dll': 1})\n",
        "Counter({'first_call-load_image': 1, 'last_call-load_dll': 1})"
       ]
      },
      {
       "output_type": "stream",
       "stream": "stdout",
       "text": [
        "\n",
        "Counter({'first_call-load_image': 1, 'last_call-kill_process': 1})\n",
        "Counter({'first_call-load_image': 1, 'last_call-thread': 1})\n",
        "Counter({'first_call-load_image': 1, 'last_call-thread': 1})\n",
        "Counter({'first_call-load_image': 1, 'last_call-kill_process': 1})\n",
        "Counter({'first_call-load_image': 1, 'last_call-load_dll': 1})\n",
        "Counter({'first_call-load_image': 1, 'last_call-kill_process': 1})"
       ]
      },
      {
       "output_type": "stream",
       "stream": "stdout",
       "text": [
        "\n",
        "Counter({'first_call-load_image': 1, 'last_call-open_process': 1})\n",
        "Counter({'first_call-load_image': 1, 'last_call-enum_window': 1})\n",
        "Counter({'first_call-load_image': 1, 'last_call-enum_window': 1})\n",
        "Counter({'first_call-load_image': 1, 'last_call-thread': 1})\n",
        "Counter({'first_call-load_image': 1, 'last_call-kill_process': 1})\n",
        "Counter({'first_call-load_image': 1, 'last_call-kill_process': 1})\n",
        "Counter({'first_call-load_image': 1, 'last_call-kill_process': 1})\n",
        "Counter({'first_call-load_image': 1, 'last_call-thread': 1})"
       ]
      },
      {
       "output_type": "stream",
       "stream": "stdout",
       "text": [
        "\n",
        "Counter({'first_call-load_image': 1, 'last_call-process': 1})"
       ]
      },
      {
       "output_type": "stream",
       "stream": "stdout",
       "text": [
        "\n",
        "Counter({'first_call-load_image': 1, 'last_call-kill_process': 1})\n",
        "Counter({'first_call-load_image': 1, 'last_call-process': 1})\n",
        "Counter({'first_call-load_image': 1, 'last_call-thread': 1})\n",
        "Counter({'first_call-load_image': 1, 'last_call-kill_process': 1})\n",
        "Counter({'first_call-load_image': 1, 'last_call-enum_window': 1})\n",
        "Counter({'first_call-load_image': 1, 'last_call-kill_process': 1})\n",
        "Counter({'first_call-load_image': 1, 'last_call-kill_process': 1})\n",
        "Counter({'first_call-load_image': 1, 'last_call-load_dll': 1})"
       ]
      },
      {
       "output_type": "stream",
       "stream": "stdout",
       "text": [
        "\n",
        "Counter({'first_call-load_image': 1, 'last_call-load_dll': 1})\n",
        "Counter({'first_call-load_image': 1, 'last_call-thread': 1})\n",
        "Counter({'first_call-load_image': 1, 'last_call-kill_process': 1})\n",
        "Counter({'first_call-load_image': 1, 'last_call-kill_process': 1})\n",
        "Counter({'first_call-load_image': 1, 'last_call-thread': 1})"
       ]
      },
      {
       "output_type": "stream",
       "stream": "stdout",
       "text": [
        "\n",
        "Counter({'first_call-load_image': 1, 'last_call-process': 1})\n",
        "Counter({'first_call-load_image': 1, 'last_call-get_system_directory': 1})\n",
        "Counter({'first_call-load_image': 1, 'last_call-thread': 1})\n",
        "Counter({'first_call-load_image': 1, 'last_call-thread': 1})"
       ]
      },
      {
       "output_type": "stream",
       "stream": "stdout",
       "text": [
        "\n",
        "Counter({'first_call-load_image': 1, 'last_call-kill_process': 1})"
       ]
      },
      {
       "output_type": "stream",
       "stream": "stdout",
       "text": [
        "\n",
        "Counter({'first_call-load_image': 1, 'last_call-kill_process': 1})\n",
        "Counter({'first_call-load_image': 1, 'last_call-thread': 1})\n",
        "Counter({'first_call-load_image': 1, 'last_call-load_dll': 1})\n",
        "Counter({'first_call-load_image': 1, 'last_call-process': 1})\n",
        "Counter({'first_call-load_image': 1, 'last_call-thread': 1})\n",
        "Counter({'first_call-load_image': 1, 'last_call-kill_process': 1})"
       ]
      },
      {
       "output_type": "stream",
       "stream": "stdout",
       "text": [
        "\n",
        "Counter({'first_call-load_image': 1, 'last_call-process': 1})\n",
        "Counter({'first_call-load_image': 1, 'last_call-thread': 1})\n",
        "Counter({'first_call-load_image': 1, 'last_call-enum_window': 1})\n",
        "Counter({'first_call-load_image': 1, 'last_call-thread': 1})\n",
        "Counter({'first_call-load_image': 1, 'last_call-thread': 1})\n",
        "Counter({'first_call-load_image': 1, 'last_call-thread': 1})\n",
        "Counter({'first_call-load_image': 1, 'last_call-enum_window': 1})\n",
        "Counter({'first_call-load_image': 1, 'last_call-thread': 1})\n",
        "Counter({'first_call-load_image': 1, 'last_call-thread': 1})\n",
        "Counter({'first_call-load_image': 1, 'last_call-thread': 1})"
       ]
      },
      {
       "output_type": "stream",
       "stream": "stdout",
       "text": [
        "\n",
        "Counter({'first_call-load_image': 1, 'last_call-thread': 1})\n",
        "Counter({'first_call-load_image': 1, 'last_call-thread': 1})"
       ]
      },
      {
       "output_type": "stream",
       "stream": "stdout",
       "text": [
        "\n",
        "Counter({'first_call-load_image': 1, 'last_call-enum_window': 1})\n",
        "Counter({'first_call-load_image': 1, 'last_call-enum_window': 1})\n",
        "Counter({'first_call-load_image': 1, 'last_call-thread': 1})\n",
        "Counter({'first_call-load_image': 1, 'last_call-process': 1})\n",
        "Counter({'first_call-load_image': 1, 'last_call-kill_process': 1})\n",
        "Counter({'first_call-load_image': 1, 'last_call-kill_process': 1})\n",
        "Counter({'first_call-load_image': 1, 'last_call-thread': 1})"
       ]
      },
      {
       "output_type": "stream",
       "stream": "stdout",
       "text": [
        "\n",
        "Counter({'first_call-load_image': 1, 'last_call-enum_window': 1})"
       ]
      },
      {
       "output_type": "stream",
       "stream": "stdout",
       "text": [
        "\n",
        "Counter({'first_call-load_image': 1, 'last_call-load_dll': 1})\n",
        "Counter({'first_call-load_image': 1, 'last_call-kill_process': 1})"
       ]
      },
      {
       "output_type": "stream",
       "stream": "stdout",
       "text": [
        "\n",
        "Counter({'first_call-load_image': 1, 'last_call-open_process': 1})\n",
        "Counter({'first_call-load_image': 1, 'last_call-thread': 1})\n",
        "Counter({'first_call-load_image': 1, 'last_call-load_dll': 1})\n",
        "Counter({'first_call-load_image': 1, 'last_call-kill_process': 1})\n",
        "Counter({'first_call-load_image': 1, 'last_call-kill_process': 1})"
       ]
      },
      {
       "output_type": "stream",
       "stream": "stdout",
       "text": [
        "\n",
        "Counter({'first_call-load_image': 1, 'last_call-load_dll': 1})\n",
        "Counter({'first_call-load_image': 1, 'last_call-kill_process': 1})\n",
        "Counter({'first_call-load_image': 1, 'last_call-enum_window': 1})\n",
        "Counter({'first_call-load_image': 1, 'last_call-thread': 1})\n",
        "Counter({'first_call-load_image': 1, 'last_call-thread': 1})\n",
        "Counter({'first_call-load_image': 1, 'last_call-enum_window': 1})\n",
        "Counter({'first_call-load_image': 1, 'last_call-kill_process': 1})\n",
        "Counter({'first_call-load_image': 1, 'last_call-kill_process': 1})\n",
        "Counter({'first_call-load_image': 1, 'last_call-kill_process': 1})"
       ]
      },
      {
       "output_type": "stream",
       "stream": "stdout",
       "text": [
        "\n",
        "Counter({'first_call-load_image': 1, 'last_call-thread': 1})\n",
        "Counter({'first_call-load_image': 1, 'last_call-kill_process': 1})\n",
        "Counter({'first_call-load_image': 1, 'last_call-kill_process': 1})\n",
        "Counter({'first_call-load_image': 1, 'last_call-kill_process': 1})\n",
        "Counter({'first_call-load_image': 1, 'last_call-kill_process': 1})\n",
        "Counter({'first_call-load_image': 1, 'last_call-kill_process': 1})\n",
        "Counter({'first_call-load_image': 1, 'last_call-create_thread': 1})\n",
        "Counter({'first_call-load_image': 1, 'last_call-kill_process': 1})"
       ]
      },
      {
       "output_type": "stream",
       "stream": "stdout",
       "text": [
        "\n",
        "Counter({'first_call-load_image': 1, 'last_call-load_dll': 1})\n",
        "Counter({'first_call-load_image': 1, 'last_call-thread': 1})\n",
        "Counter({'first_call-load_image': 1, 'last_call-kill_process': 1})\n",
        "Counter({'first_call-load_image': 1, 'last_call-kill_process': 1})\n",
        "Counter({'first_call-load_image': 1, 'last_call-thread': 1})\n",
        "Counter({'first_call-load_image': 1, 'last_call-process': 1})"
       ]
      },
      {
       "output_type": "stream",
       "stream": "stdout",
       "text": [
        "\n",
        "Counter({'first_call-load_image': 1, 'last_call-kill_process': 1})\n",
        "Counter({'first_call-load_image': 1, 'last_call-thread': 1})\n",
        "Counter({'first_call-load_image': 1, 'last_call-enum_window': 1})\n",
        "Counter({'first_call-load_image': 1, 'last_call-kill_process': 1})\n",
        "Counter({'first_call-load_image': 1, 'last_call-load_dll': 1})\n",
        "Counter({'first_call-load_image': 1, 'last_call-process': 1})"
       ]
      },
      {
       "output_type": "stream",
       "stream": "stdout",
       "text": [
        "\n",
        "Counter({'first_call-load_image': 1, 'last_call-thread': 1})\n",
        "Counter({'first_call-load_image': 1, 'last_call-load_dll': 1})"
       ]
      },
      {
       "output_type": "stream",
       "stream": "stdout",
       "text": [
        "\n",
        "Counter({'first_call-load_image': 1, 'last_call-kill_process': 1})\n",
        "Counter({'first_call-load_image': 1, 'last_call-kill_process': 1})\n",
        "Counter({'first_call-load_image': 1, 'last_call-thread': 1})\n",
        "Counter({'first_call-load_image': 1, 'last_call-kill_process': 1})\n",
        "Counter({'first_call-load_image': 1, 'last_call-load_dll': 1})\n",
        "Counter({'first_call-load_image': 1, 'last_call-kill_process': 1})"
       ]
      },
      {
       "output_type": "stream",
       "stream": "stdout",
       "text": [
        "\n",
        "Counter({'first_call-load_image': 1, 'last_call-enum_window': 1})\n",
        "Counter({'first_call-load_image': 1, 'last_call-load_dll': 1})\n",
        "Counter({'first_call-load_image': 1, 'last_call-thread': 1})\n",
        "Counter({'first_call-load_image': 1, 'last_call-thread': 1})"
       ]
      },
      {
       "output_type": "stream",
       "stream": "stdout",
       "text": [
        "\n",
        "Counter({'first_call-load_image': 1, 'last_call-process': 1})\n",
        "Counter({'first_call-load_image': 1, 'last_call-thread': 1})\n",
        "Counter({'first_call-load_image': 1, 'last_call-kill_process': 1})\n",
        "Counter({'first_call-load_image': 1, 'last_call-kill_process': 1})\n",
        "Counter({'first_call-load_image': 1, 'last_call-thread': 1})\n",
        "Counter({'first_call-load_image': 1, 'last_call-enum_window': 1})"
       ]
      },
      {
       "output_type": "stream",
       "stream": "stdout",
       "text": [
        "\n",
        "Counter({'first_call-load_image': 1, 'last_call-kill_process': 1})\n",
        "Counter({'first_call-load_image': 1, 'last_call-process': 1})\n",
        "Counter({'first_call-load_image': 1, 'last_call-thread': 1})"
       ]
      },
      {
       "output_type": "stream",
       "stream": "stdout",
       "text": [
        "\n",
        "Counter({'first_call-load_image': 1, 'last_call-thread': 1})\n",
        "Counter({'first_call-load_image': 1, 'last_call-kill_process': 1})\n",
        "Counter({'first_call-load_image': 1, 'last_call-enum_window': 1})"
       ]
      },
      {
       "output_type": "stream",
       "stream": "stdout",
       "text": [
        "\n",
        "Counter({'first_call-load_image': 1, 'last_call-enum_window': 1})\n",
        "Counter({'first_call-load_image': 1, 'last_call-thread': 1})\n",
        "Counter({'first_call-load_image': 1, 'last_call-load_dll': 1})\n",
        "Counter({'first_call-load_image': 1, 'last_call-kill_process': 1})\n",
        "Counter({'first_call-load_image': 1, 'last_call-query_value': 1})"
       ]
      },
      {
       "output_type": "stream",
       "stream": "stdout",
       "text": [
        "\n",
        "Counter({'first_call-load_image': 1, 'last_call-kill_process': 1})"
       ]
      },
      {
       "output_type": "stream",
       "stream": "stdout",
       "text": [
        "\n",
        "Counter({'first_call-load_image': 1, 'last_call-kill_process': 1})\n",
        "Counter({'first_call-load_image': 1, 'last_call-enum_window': 1})\n",
        "Counter({'first_call-load_image': 1, 'last_call-thread': 1})\n",
        "Counter({'first_call-load_image': 1, 'last_call-thread': 1})\n",
        "Counter({'first_call-load_image': 1, 'last_call-kill_process': 1})\n",
        "Counter({'last_call-create_window': 1, 'first_call-load_image': 1})\n",
        "Counter({'first_call-load_image': 1, 'last_call-get_system_directory': 1})\n",
        "Counter({'first_call-load_image': 1, 'last_call-thread': 1})\n",
        "Counter({'first_call-load_image': 1, 'last_call-kill_process': 1})\n",
        "Counter({'first_call-load_image': 1, 'last_call-thread': 1})"
       ]
      },
      {
       "output_type": "stream",
       "stream": "stdout",
       "text": [
        "\n",
        "Counter({'first_call-load_image': 1, 'last_call-open_key': 1})\n",
        "Counter({'first_call-load_image': 1, 'last_call-process': 1})\n",
        "Counter({'first_call-load_image': 1, 'last_call-kill_process': 1})\n",
        "Counter({'first_call-load_image': 1, 'last_call-load_dll': 1})\n",
        "Counter({'first_call-load_image': 1, 'last_call-enum_window': 1})\n",
        "Counter({'first_call-load_image': 1, 'last_call-kill_process': 1})\n",
        "Counter({'first_call-load_image': 1, 'last_call-thread': 1})\n",
        "Counter({'first_call-load_image': 1, 'last_call-process': 1})"
       ]
      },
      {
       "output_type": "stream",
       "stream": "stdout",
       "text": [
        "\n",
        "Counter({'first_call-load_image': 1, 'last_call-get_file_attributes': 1})\n",
        "Counter({'first_call-load_image': 1, 'last_call-thread': 1})\n",
        "Counter({'first_call-load_image': 1, 'last_call-enum_window': 1})\n",
        "Counter({'first_call-load_image': 1, 'last_call-kill_process': 1})\n",
        "Counter({'first_call-load_image': 1, 'last_call-kill_process': 1})\n",
        "Counter({'first_call-load_image': 1, 'last_call-find_file': 1})\n",
        "Counter({'first_call-load_image': 1, 'last_call-thread': 1})"
       ]
      },
      {
       "output_type": "stream",
       "stream": "stdout",
       "text": [
        "\n",
        "Counter({'first_call-load_image': 1, 'last_call-kill_process': 1})\n",
        "Counter({'first_call-load_image': 1, 'last_call-process': 1})\n",
        "Counter({'first_call-load_image': 1, 'last_call-thread': 1})\n",
        "Counter({'first_call-load_image': 1, 'last_call-kill_process': 1})"
       ]
      },
      {
       "output_type": "stream",
       "stream": "stdout",
       "text": [
        "\n",
        "Counter({'first_call-load_image': 1, 'last_call-enum_window': 1})"
       ]
      },
      {
       "output_type": "stream",
       "stream": "stdout",
       "text": [
        "\n",
        "Counter({'first_call-load_image': 1, 'last_call-enum_window': 1})"
       ]
      },
      {
       "output_type": "stream",
       "stream": "stdout",
       "text": [
        "\n",
        "Counter({'first_call-load_image': 1, 'last_call-process': 1})\n",
        "Counter({'first_call-load_image': 1, 'last_call-thread': 1})"
       ]
      },
      {
       "output_type": "stream",
       "stream": "stdout",
       "text": [
        "\n",
        "Counter({'first_call-load_image': 1, 'last_call-load_dll': 1})\n",
        "Counter({'first_call-load_image': 1, 'last_call-load_dll': 1})\n",
        "Counter({'first_call-load_image': 1, 'last_call-enum_window': 1})\n",
        "Counter({'first_call-load_image': 1, 'last_call-thread': 1})"
       ]
      },
      {
       "output_type": "stream",
       "stream": "stdout",
       "text": [
        "\n",
        "Counter({'first_call-load_image': 1, 'last_call-kill_process': 1})\n",
        "Counter({'first_call-load_image': 1, 'last_call-thread': 1})\n",
        "Counter({'first_call-load_image': 1, 'last_call-thread': 1})\n",
        "Counter({'first_call-load_image': 1, 'last_call-process': 1})\n",
        "Counter({'first_call-load_image': 1, 'last_call-thread': 1})\n",
        "Counter({'first_call-load_image': 1, 'last_call-enum_window': 1})"
       ]
      },
      {
       "output_type": "stream",
       "stream": "stdout",
       "text": [
        "\n",
        "Counter({'first_call-load_image': 1, 'last_call-enum_window': 1})\n",
        "Counter({'first_call-load_image': 1, 'last_call-kill_process': 1})\n",
        "Counter({'first_call-load_image': 1, 'last_call-kill_process': 1})\n",
        "Counter({'first_call-load_image': 1, 'last_call-thread': 1})\n",
        "Counter({'first_call-load_image': 1, 'last_call-thread': 1})\n",
        "Counter({'first_call-load_image': 1, 'last_call-thread': 1})"
       ]
      },
      {
       "output_type": "stream",
       "stream": "stdout",
       "text": [
        "\n",
        "Counter({'first_call-load_image': 1, 'last_call-thread': 1})\n",
        "Counter({'first_call-load_image': 1, 'last_call-kill_process': 1})\n",
        "Counter({'first_call-load_image': 1, 'last_call-show_window': 1})\n",
        "Counter({'first_call-load_image': 1, 'last_call-thread': 1})"
       ]
      },
      {
       "output_type": "stream",
       "stream": "stdout",
       "text": [
        "\n",
        "Counter({'first_call-load_image': 1, 'last_call-query_value': 1})"
       ]
      },
      {
       "output_type": "stream",
       "stream": "stdout",
       "text": [
        "\n",
        "Counter({'first_call-load_image': 1, 'last_call-thread': 1})\n",
        "Counter({'first_call-load_image': 1, 'last_call-enum_window': 1})"
       ]
      },
      {
       "output_type": "stream",
       "stream": "stdout",
       "text": [
        "\n",
        "Counter({'first_call-load_image': 1, 'last_call-thread': 1})\n",
        "Counter({'first_call-load_image': 1, 'last_call-load_dll': 1})"
       ]
      },
      {
       "output_type": "stream",
       "stream": "stdout",
       "text": [
        "\n",
        "Counter({'first_call-load_image': 1, 'last_call-thread': 1})\n",
        "Counter({'first_call-load_image': 1, 'last_call-enum_window': 1})\n",
        "Counter({'first_call-load_image': 1, 'last_call-thread': 1})\n",
        "Counter({'first_call-load_image': 1, 'last_call-kill_process': 1})\n",
        "Counter({'first_call-load_image': 1, 'last_call-thread': 1})"
       ]
      },
      {
       "output_type": "stream",
       "stream": "stdout",
       "text": [
        "\n",
        "Counter({'first_call-load_image': 1, 'last_call-kill_process': 1})"
       ]
      },
      {
       "output_type": "stream",
       "stream": "stdout",
       "text": [
        "\n",
        "Counter({'first_call-load_image': 1, 'last_call-thread': 1})\n",
        "Counter({'first_call-load_image': 1, 'last_call-kill_process': 1})\n",
        "Counter({'first_call-load_image': 1, 'last_call-open_process': 1})\n",
        "Counter({'first_call-load_image': 1, 'last_call-kill_process': 1})"
       ]
      },
      {
       "output_type": "stream",
       "stream": "stdout",
       "text": [
        "\n",
        "Counter({'first_call-load_image': 1, 'last_call-kill_process': 1})\n",
        "Counter({'first_call-load_image': 1, 'last_call-process': 1})\n",
        "Counter({'first_call-load_image': 1, 'last_call-enum_window': 1})\n",
        "Counter({'first_call-load_image': 1, 'last_call-thread': 1})\n",
        "Counter({'first_call-load_image': 1, 'last_call-enum_window': 1})"
       ]
      },
      {
       "output_type": "stream",
       "stream": "stdout",
       "text": [
        "\n",
        "Counter({'first_call-load_image': 1, 'last_call-thread': 1})\n",
        "Counter({'first_call-load_image': 1, 'last_call-thread': 1})"
       ]
      },
      {
       "output_type": "stream",
       "stream": "stdout",
       "text": [
        "\n",
        "Counter({'first_call-load_image': 1, 'last_call-process': 1})\n",
        "Counter({'first_call-load_image': 1, 'last_call-enum_window': 1})"
       ]
      },
      {
       "output_type": "stream",
       "stream": "stdout",
       "text": [
        "\n",
        "Counter({'first_call-load_image': 1, 'last_call-enum_window': 1})\n",
        "Counter({'first_call-load_image': 1, 'last_call-thread': 1})"
       ]
      },
      {
       "output_type": "stream",
       "stream": "stdout",
       "text": [
        "\n",
        "Counter({'first_call-load_image': 1, 'last_call-enum_window': 1})\n",
        "Counter({'first_call-load_image': 1, 'last_call-enum_window': 1})\n",
        "Counter({'first_call-load_image': 1, 'last_call-load_dll': 1})\n",
        "Counter({'first_call-load_image': 1, 'last_call-thread': 1})"
       ]
      },
      {
       "output_type": "stream",
       "stream": "stdout",
       "text": [
        "\n",
        "Counter({'first_call-load_image': 1, 'last_call-thread': 1})\n",
        "Counter({'first_call-load_image': 1, 'last_call-enum_window': 1})\n",
        "Counter({'first_call-load_image': 1, 'last_call-kill_process': 1})\n",
        "Counter({'first_call-load_image': 1, 'last_call-thread': 1})\n",
        "Counter({'first_call-load_image': 1, 'last_call-thread': 1})\n",
        "Counter({'first_call-load_image': 1, 'last_call-thread': 1})"
       ]
      },
      {
       "output_type": "stream",
       "stream": "stdout",
       "text": [
        "\n",
        "Counter({'first_call-load_image': 1, 'last_call-kill_process': 1})\n",
        "Counter({'first_call-load_image': 1, 'last_call-kill_process': 1})"
       ]
      },
      {
       "output_type": "stream",
       "stream": "stdout",
       "text": [
        "\n",
        "Counter({'first_call-load_image': 1, 'last_call-enum_window': 1})\n",
        "Counter({'first_call-load_image': 1, 'last_call-kill_process': 1})\n",
        "Counter({'first_call-load_image': 1, 'last_call-kill_process': 1})\n",
        "Counter({'first_call-load_image': 1, 'last_call-thread': 1})\n",
        "Counter({'first_call-load_image': 1, 'last_call-thread': 1})\n",
        "Counter({'first_call-load_image': 1, 'last_call-thread': 1})"
       ]
      },
      {
       "output_type": "stream",
       "stream": "stdout",
       "text": [
        "\n",
        "Counter({'first_call-load_image': 1, 'last_call-thread': 1})"
       ]
      },
      {
       "output_type": "stream",
       "stream": "stdout",
       "text": [
        "\n",
        "Counter({'first_call-load_image': 1, 'last_call-load_dll': 1})\n",
        "Counter({'first_call-load_image': 1, 'last_call-kill_process': 1})"
       ]
      },
      {
       "output_type": "stream",
       "stream": "stdout",
       "text": [
        "\n",
        "Counter({'first_call-load_image': 1, 'last_call-enum_window': 1})\n",
        "Counter({'first_call-load_image': 1, 'last_call-process': 1})\n",
        "Counter({'first_call-load_image': 1, 'last_call-load_dll': 1})\n",
        "Counter({'first_call-load_image': 1, 'last_call-thread': 1})"
       ]
      },
      {
       "output_type": "stream",
       "stream": "stdout",
       "text": [
        "\n",
        "Counter({'first_call-load_image': 1, 'last_call-kill_process': 1})"
       ]
      },
      {
       "output_type": "stream",
       "stream": "stdout",
       "text": [
        "\n",
        "Counter({'first_call-load_image': 1, 'last_call-enum_window': 1})\n",
        "Counter({'first_call-load_image': 1, 'last_call-enum_window': 1})\n",
        "Counter({'first_call-load_image': 1, 'last_call-load_dll': 1})\n",
        "Counter({'first_call-load_image': 1, 'last_call-thread': 1})"
       ]
      },
      {
       "output_type": "stream",
       "stream": "stdout",
       "text": [
        "\n",
        "Counter({'first_call-load_image': 1, 'last_call-sleep': 1})"
       ]
      },
      {
       "output_type": "stream",
       "stream": "stdout",
       "text": [
        "\n",
        "Counter({'first_call-load_image': 1, 'last_call-process': 1})"
       ]
      },
      {
       "output_type": "stream",
       "stream": "stdout",
       "text": [
        "\n",
        "Counter({'first_call-load_image': 1, 'last_call-load_dll': 1})\n",
        "Counter({'first_call-load_image': 1, 'last_call-thread': 1})"
       ]
      },
      {
       "output_type": "stream",
       "stream": "stdout",
       "text": [
        "\n",
        "Counter({'first_call-load_image': 1, 'last_call-enum_window': 1})\n",
        "Counter({'last_call-create_window': 1, 'first_call-load_image': 1})\n",
        "Counter({'first_call-load_image': 1, 'last_call-enum_window': 1})\n",
        "Counter({'first_call-load_image': 1, 'last_call-kill_process': 1})"
       ]
      },
      {
       "output_type": "stream",
       "stream": "stdout",
       "text": [
        "\n",
        "Counter({'first_call-load_image': 1, 'last_call-kill_process': 1})\n",
        "Counter({'first_call-load_image': 1, 'last_call-kill_process': 1})\n",
        "Counter({'first_call-load_image': 1, 'last_call-thread': 1})\n",
        "Counter({'first_call-load_image': 1, 'last_call-thread': 1})"
       ]
      },
      {
       "output_type": "stream",
       "stream": "stdout",
       "text": [
        "\n",
        "Counter({'first_call-load_image': 1, 'last_call-get_system_directory': 1})\n",
        "Counter({'first_call-load_image': 1, 'last_call-thread': 1})\n",
        "Counter({'first_call-load_image': 1, 'last_call-thread': 1})\n",
        "Counter({'first_call-load_image': 1, 'last_call-thread': 1})\n",
        "Counter({'first_call-load_image': 1, 'last_call-kill_process': 1})\n",
        "Counter({'first_call-load_image': 1, 'last_call-thread': 1})"
       ]
      },
      {
       "output_type": "stream",
       "stream": "stdout",
       "text": [
        "\n",
        "Counter({'first_call-load_image': 1, 'last_call-thread': 1})\n",
        "Counter({'first_call-load_image': 1, 'last_call-load_dll': 1})\n",
        "Counter({'first_call-load_image': 1, 'last_call-kill_process': 1})\n",
        "Counter({'first_call-load_image': 1, 'last_call-enum_window': 1})\n",
        "Counter({'first_call-load_image': 1, 'last_call-kill_process': 1})"
       ]
      },
      {
       "output_type": "stream",
       "stream": "stdout",
       "text": [
        "\n",
        "Counter({'first_call-load_image': 1, 'last_call-kill_process': 1})\n",
        "Counter({'first_call-load_image': 1, 'last_call-open_process': 1})\n",
        "Counter({'first_call-load_image': 1, 'last_call-thread': 1})"
       ]
      },
      {
       "output_type": "stream",
       "stream": "stdout",
       "text": [
        "\n",
        "Counter({'first_call-load_image': 1, 'last_call-enum_window': 1})"
       ]
      },
      {
       "output_type": "stream",
       "stream": "stdout",
       "text": [
        "\n",
        "Counter({'first_call-load_image': 1, 'last_call-thread': 1})"
       ]
      },
      {
       "output_type": "stream",
       "stream": "stdout",
       "text": [
        "\n",
        "Counter({'first_call-load_image': 1, 'last_call-kill_process': 1})\n",
        "Counter({'first_call-load_image': 1, 'last_call-thread': 1})\n",
        "Counter({'first_call-load_image': 1, 'last_call-load_dll': 1})"
       ]
      },
      {
       "output_type": "stream",
       "stream": "stdout",
       "text": [
        "\n",
        "Counter({'first_call-load_image': 1, 'last_call-enum_window': 1})\n",
        "Counter({'first_call-load_image': 1, 'last_call-thread': 1})"
       ]
      },
      {
       "output_type": "stream",
       "stream": "stdout",
       "text": [
        "\n",
        "Counter({'first_call-load_image': 1, 'last_call-open_file': 1})\n",
        "Counter({'first_call-load_image': 1, 'last_call-thread': 1})\n",
        "Counter({'first_call-load_image': 1, 'last_call-enum_window': 1})\n",
        "Counter({'first_call-load_image': 1, 'last_call-kill_process': 1})\n",
        "Counter({'first_call-load_image': 1, 'last_call-thread': 1})\n",
        "Counter({'first_call-load_image': 1, 'last_call-thread': 1})\n",
        "Counter({'first_call-load_image': 1, 'last_call-create_thread': 1})"
       ]
      },
      {
       "output_type": "stream",
       "stream": "stdout",
       "text": [
        "\n",
        "Counter({'first_call-load_image': 1, 'last_call-kill_process': 1})"
       ]
      },
      {
       "output_type": "stream",
       "stream": "stdout",
       "text": [
        "\n",
        "Counter({'first_call-load_image': 1, 'last_call-thread': 1})\n",
        "Counter({'first_call-load_image': 1, 'last_call-kill_process': 1})\n",
        "Counter({'first_call-load_image': 1, 'last_call-thread': 1})"
       ]
      },
      {
       "output_type": "stream",
       "stream": "stdout",
       "text": [
        "\n",
        "Counter({'first_call-load_image': 1, 'last_call-thread': 1})\n",
        "Counter({'first_call-load_image': 1, 'last_call-kill_process': 1})\n",
        "Counter({'first_call-load_image': 1, 'last_call-thread': 1})"
       ]
      },
      {
       "output_type": "stream",
       "stream": "stdout",
       "text": [
        "\n",
        "Counter({'first_call-load_image': 1, 'last_call-thread': 1})"
       ]
      },
      {
       "output_type": "stream",
       "stream": "stdout",
       "text": [
        "\n",
        "Counter({'first_call-load_image': 1, 'last_call-open_process': 1})\n",
        "Counter({'first_call-load_image': 1, 'last_call-process': 1})\n",
        "Counter({'first_call-load_image': 1, 'last_call-kill_process': 1})\n",
        "Counter({'first_call-load_image': 1, 'last_call-load_dll': 1})\n",
        "Counter({'first_call-load_image': 1, 'last_call-kill_process': 1})\n",
        "Counter({'first_call-load_image': 1, 'last_call-enum_window': 1})"
       ]
      },
      {
       "output_type": "stream",
       "stream": "stdout",
       "text": [
        "\n",
        "Counter({'first_call-load_image': 1, 'last_call-kill_process': 1})\n",
        "Counter({'first_call-load_image': 1, 'last_call-thread': 1})\n",
        "Counter({'first_call-load_image': 1, 'last_call-thread': 1})\n",
        "Counter({'first_call-load_image': 1, 'last_call-enum_window': 1})\n",
        "Counter({'first_call-load_image': 1, 'last_call-thread': 1})\n",
        "Counter({'first_call-load_image': 1, 'last_call-enum_window': 1})\n",
        "Counter({'first_call-load_image': 1, 'last_call-process': 1})\n",
        "Counter({'first_call-load_image': 1, 'last_call-thread': 1})"
       ]
      },
      {
       "output_type": "stream",
       "stream": "stdout",
       "text": [
        "\n",
        "Counter({'first_call-load_image': 1, 'last_call-thread': 1})\n",
        "Counter({'first_call-load_image': 1, 'last_call-kill_process': 1})\n",
        "Counter({'first_call-load_image': 1, 'last_call-thread': 1})\n",
        "Counter({'first_call-load_image': 1, 'last_call-process': 1})\n",
        "Counter({'first_call-load_image': 1, 'last_call-kill_process': 1})\n",
        "Counter({'first_call-load_image': 1, 'last_call-thread': 1})"
       ]
      },
      {
       "output_type": "stream",
       "stream": "stdout",
       "text": [
        "\n",
        "Counter({'first_call-load_image': 1, 'last_call-thread': 1})\n",
        "Counter({'first_call-load_image': 1, 'last_call-kill_process': 1})\n",
        "Counter({'first_call-load_image': 1, 'last_call-process': 1})\n",
        "Counter({'first_call-load_image': 1, 'last_call-enum_window': 1})"
       ]
      },
      {
       "output_type": "stream",
       "stream": "stdout",
       "text": [
        "\n",
        "Counter({'first_call-load_image': 1, 'last_call-kill_process': 1})\n",
        "Counter({'first_call-load_image': 1, 'last_call-enum_window': 1})"
       ]
      },
      {
       "output_type": "stream",
       "stream": "stdout",
       "text": [
        "\n",
        "Counter({'first_call-load_image': 1, 'last_call-thread': 1})\n",
        "Counter({'first_call-load_image': 1, 'last_call-kill_process': 1})\n",
        "Counter({'first_call-load_image': 1, 'last_call-thread': 1})"
       ]
      },
      {
       "output_type": "stream",
       "stream": "stdout",
       "text": [
        "\n",
        "Counter({'first_call-load_image': 1, 'last_call-thread': 1})\n",
        "Counter({'first_call-load_image': 1, 'last_call-kill_process': 1})"
       ]
      },
      {
       "output_type": "stream",
       "stream": "stdout",
       "text": [
        "\n",
        "Counter({'first_call-load_image': 1, 'last_call-thread': 1})\n",
        "Counter({'first_call-load_image': 1, 'last_call-kill_process': 1})\n",
        "Counter({'first_call-load_image': 1, 'last_call-enum_window': 1})"
       ]
      },
      {
       "output_type": "stream",
       "stream": "stdout",
       "text": [
        "\n",
        "Counter({'first_call-load_image': 1, 'last_call-kill_process': 1})\n",
        "Counter({'first_call-load_image': 1, 'last_call-enum_window': 1})\n",
        "Counter({'first_call-load_image': 1, 'last_call-kill_process': 1})\n",
        "Counter({'first_call-load_image': 1, 'last_call-thread': 1})"
       ]
      },
      {
       "output_type": "stream",
       "stream": "stdout",
       "text": [
        "\n",
        "Counter({'first_call-load_image': 1, 'last_call-process': 1})"
       ]
      },
      {
       "output_type": "stream",
       "stream": "stdout",
       "text": [
        "\n",
        "Counter({'first_call-load_image': 1, 'last_call-process': 1})\n",
        "Counter({'first_call-load_image': 1, 'last_call-kill_process': 1})\n",
        "Counter({'first_call-load_image': 1, 'last_call-kill_process': 1})\n",
        "Counter({'first_call-load_image': 1, 'last_call-thread': 1})"
       ]
      },
      {
       "output_type": "stream",
       "stream": "stdout",
       "text": [
        "\n",
        "Counter({'first_call-load_image': 1, 'last_call-thread': 1})\n",
        "Counter({'first_call-load_image': 1, 'last_call-kill_process': 1})"
       ]
      },
      {
       "output_type": "stream",
       "stream": "stdout",
       "text": [
        "\n",
        "Counter({'first_call-load_image': 1, 'last_call-enum_window': 1})\n",
        "Counter({'first_call-load_image': 1, 'last_call-kill_process': 1})\n",
        "Counter({'first_call-load_image': 1, 'last_call-kill_process': 1})\n",
        "Counter({'first_call-load_image': 1, 'last_call-kill_process': 1})\n",
        "Counter({'first_call-load_image': 1, 'last_call-kill_process': 1})\n",
        "Counter({'first_call-load_image': 1, 'last_call-create_mutex': 1})\n",
        "Counter({'first_call-load_image': 1, 'last_call-enum_window': 1})"
       ]
      },
      {
       "output_type": "stream",
       "stream": "stdout",
       "text": [
        "\n",
        "Counter({'first_call-load_image': 1, 'last_call-thread': 1})"
       ]
      },
      {
       "output_type": "stream",
       "stream": "stdout",
       "text": [
        "\n",
        "Counter({'first_call-load_image': 1, 'last_call-thread': 1})"
       ]
      },
      {
       "output_type": "stream",
       "stream": "stdout",
       "text": [
        "\n",
        "Counter({'first_call-load_image': 1, 'last_call-kill_process': 1})\n",
        "Counter({'first_call-load_image': 1, 'last_call-thread': 1})\n",
        "Counter({'first_call-load_image': 1, 'last_call-create_thread': 1})\n",
        "Counter({'first_call-load_image': 1, 'last_call-kill_process': 1})\n",
        "Counter({'first_call-load_image': 1, 'last_call-process': 1})"
       ]
      },
      {
       "output_type": "stream",
       "stream": "stdout",
       "text": [
        "\n",
        "Counter({'first_call-load_image': 1, 'last_call-thread': 1})"
       ]
      },
      {
       "output_type": "stream",
       "stream": "stdout",
       "text": [
        "\n",
        "Counter({'first_call-load_image': 1, 'last_call-enum_window': 1})"
       ]
      },
      {
       "output_type": "stream",
       "stream": "stdout",
       "text": [
        "\n",
        "Counter({'first_call-load_image': 1, 'last_call-enum_window': 1})\n",
        "Counter({'first_call-load_image': 1, 'last_call-load_dll': 1})\n",
        "Counter({'first_call-load_image': 1, 'last_call-kill_process': 1})\n",
        "Counter({'first_call-load_image': 1, 'last_call-kill_process': 1})\n",
        "Counter({'first_call-load_image': 1, 'last_call-enum_window': 1})"
       ]
      },
      {
       "output_type": "stream",
       "stream": "stdout",
       "text": [
        "\n",
        "Counter({'first_call-load_image': 1, 'last_call-thread': 1})"
       ]
      },
      {
       "output_type": "stream",
       "stream": "stdout",
       "text": [
        "\n",
        "Counter({'first_call-load_image': 1, 'last_call-thread': 1})\n",
        "Counter({'first_call-load_image': 1, 'last_call-enum_window': 1})\n",
        "Counter({'first_call-load_image': 1, 'last_call-kill_process': 1})\n",
        "Counter({'first_call-load_image': 1, 'last_call-enum_window': 1})\n",
        "Counter({'first_call-load_image': 1, 'last_call-thread': 1})"
       ]
      },
      {
       "output_type": "stream",
       "stream": "stdout",
       "text": [
        "\n",
        "Counter({'first_call-load_image': 1, 'last_call-kill_process': 1})\n",
        "Counter({'first_call-load_image': 1, 'last_call-thread': 1})"
       ]
      },
      {
       "output_type": "stream",
       "stream": "stdout",
       "text": [
        "\n",
        "Counter({'first_call-load_image': 1, 'last_call-thread': 1})\n",
        "Counter({'first_call-load_image': 1, 'last_call-kill_process': 1})\n",
        "Counter({'first_call-load_image': 1, 'last_call-thread': 1})\n",
        "Counter({'first_call-load_image': 1, 'last_call-thread': 1})"
       ]
      },
      {
       "output_type": "stream",
       "stream": "stdout",
       "text": [
        "\n",
        "Counter({'first_call-load_image': 1, 'last_call-kill_process': 1})\n",
        "Counter({'first_call-load_image': 1, 'last_call-thread': 1})\n",
        "Counter({'first_call-load_image': 1, 'last_call-kill_process': 1})\n",
        "Counter({'first_call-load_image': 1, 'last_call-enum_window': 1})\n",
        "Counter({'first_call-load_image': 1, 'last_call-thread': 1})"
       ]
      },
      {
       "output_type": "stream",
       "stream": "stdout",
       "text": [
        "\n",
        "Counter({'first_call-load_image': 1, 'last_call-enum_window': 1})\n",
        "Counter({'first_call-load_image': 1, 'last_call-thread': 1})\n",
        "Counter({'first_call-load_image': 1, 'last_call-kill_process': 1})\n",
        "Counter({'first_call-load_image': 1, 'last_call-thread': 1})\n",
        "Counter({'first_call-load_image': 1, 'last_call-kill_process': 1})\n",
        "Counter({'first_call-load_image': 1, 'last_call-process': 1})\n",
        "Counter({'first_call-load_image': 1, 'last_call-enum_window': 1})\n",
        "Counter({'first_call-load_image': 1, 'last_call-enum_window': 1})\n",
        "Counter({'first_call-load_image': 1, 'last_call-kill_process': 1})\n",
        "Counter({'first_call-load_image': 1, 'last_call-load_dll': 1})"
       ]
      },
      {
       "output_type": "stream",
       "stream": "stdout",
       "text": [
        "\n",
        "Counter({'first_call-load_image': 1, 'last_call-enum_window': 1})\n",
        "Counter({'first_call-load_image': 1, 'last_call-kill_process': 1})\n",
        "Counter({'first_call-load_image': 1, 'last_call-kill_process': 1})\n",
        "Counter({'first_call-load_image': 1, 'last_call-enum_window': 1})\n",
        "Counter({'first_call-load_image': 1, 'last_call-thread': 1})\n",
        "Counter({'first_call-load_image': 1, 'last_call-thread': 1})"
       ]
      },
      {
       "output_type": "stream",
       "stream": "stdout",
       "text": [
        "\n",
        "Counter({'first_call-load_image': 1, 'last_call-write_value': 1})\n",
        "Counter({'first_call-load_image': 1, 'last_call-process': 1})\n",
        "Counter({'first_call-load_image': 1, 'last_call-enum_window': 1})\n",
        "Counter({'first_call-load_image': 1, 'last_call-enum_window': 1})\n",
        "Counter({'first_call-load_image': 1, 'last_call-load_dll': 1})\n",
        "Counter({'first_call-load_image': 1, 'last_call-kill_process': 1})\n",
        "Counter({'first_call-load_image': 1, 'last_call-enum_window': 1})\n",
        "Counter({'first_call-load_image': 1, 'last_call-thread': 1})"
       ]
      },
      {
       "output_type": "stream",
       "stream": "stdout",
       "text": [
        "\n",
        "Counter({'first_call-load_image': 1, 'last_call-kill_process': 1})\n",
        "Counter({'first_call-load_image': 1, 'last_call-thread': 1})\n",
        "Counter({'first_call-load_image': 1, 'last_call-process': 1})\n",
        "Counter({'first_call-load_image': 1, 'last_call-enum_window': 1})\n",
        "Counter({'first_call-load_image': 1, 'last_call-load_dll': 1})\n",
        "Counter({'first_call-load_image': 1, 'last_call-thread': 1})"
       ]
      },
      {
       "output_type": "stream",
       "stream": "stdout",
       "text": [
        "\n",
        "Counter({'first_call-load_image': 1, 'last_call-open_process': 1})\n",
        "Counter({'first_call-load_image': 1, 'last_call-kill_process': 1})\n",
        "Counter({'first_call-load_image': 1, 'last_call-kill_process': 1})"
       ]
      },
      {
       "output_type": "stream",
       "stream": "stdout",
       "text": [
        "\n",
        "Counter({'first_call-load_image': 1, 'last_call-kill_process': 1})\n",
        "Counter({'first_call-load_image': 1, 'last_call-thread': 1})\n",
        "Counter({'first_call-load_image': 1, 'last_call-kill_process': 1})\n",
        "Counter({'first_call-load_image': 1, 'last_call-kill_process': 1})\n",
        "Counter({'first_call-load_image': 1, 'last_call-thread': 1})"
       ]
      },
      {
       "output_type": "stream",
       "stream": "stdout",
       "text": [
        "\n",
        "Counter({'first_call-load_image': 1, 'last_call-kill_process': 1})\n",
        "Counter({'first_call-load_image': 1, 'last_call-process': 1})\n",
        "Counter({'first_call-load_image': 1, 'last_call-process': 1})\n",
        "Counter({'first_call-load_image': 1, 'last_call-kill_process': 1})\n",
        "Counter({'first_call-load_image': 1, 'last_call-process': 1})"
       ]
      },
      {
       "output_type": "stream",
       "stream": "stdout",
       "text": [
        "\n",
        "Counter({'first_call-load_image': 1, 'last_call-process': 1})\n",
        "Counter({'first_call-load_image': 1, 'last_call-thread': 1})\n",
        "Counter({'first_call-load_image': 1, 'last_call-thread': 1})\n",
        "Counter({'first_call-load_image': 1, 'last_call-kill_process': 1})\n",
        "Counter({'first_call-load_image': 1, 'last_call-enum_window': 1})"
       ]
      },
      {
       "output_type": "stream",
       "stream": "stdout",
       "text": [
        "\n",
        "Counter({'first_call-load_image': 1, 'last_call-process': 1})"
       ]
      },
      {
       "output_type": "stream",
       "stream": "stdout",
       "text": [
        "\n",
        "Counter({'first_call-load_image': 1, 'last_call-kill_process': 1})"
       ]
      },
      {
       "output_type": "stream",
       "stream": "stdout",
       "text": [
        "\n",
        "Counter({'first_call-load_image': 1, 'last_call-enum_window': 1})"
       ]
      },
      {
       "output_type": "stream",
       "stream": "stdout",
       "text": [
        "\n",
        "Counter({'first_call-load_image': 1, 'last_call-thread': 1})\n",
        "Counter({'first_call-load_image': 1, 'last_call-kill_process': 1})\n",
        "Counter({'first_call-load_image': 1, 'last_call-thread': 1})\n",
        "Counter({'first_call-load_image': 1, 'last_call-enum_window': 1})"
       ]
      },
      {
       "output_type": "stream",
       "stream": "stdout",
       "text": [
        "\n",
        "Counter({'first_call-load_image': 1, 'last_call-kill_process': 1})\n",
        "Counter({'first_call-load_image': 1, 'last_call-thread': 1})\n",
        "Counter({'first_call-load_image': 1, 'last_call-enum_window': 1})\n",
        "Counter({'first_call-load_image': 1, 'last_call-thread': 1})"
       ]
      },
      {
       "output_type": "stream",
       "stream": "stdout",
       "text": [
        "\n",
        "Counter({'first_call-load_image': 1, 'last_call-kill_process': 1})\n",
        "Counter({'first_call-load_image': 1, 'last_call-kill_process': 1})\n",
        "Counter({'first_call-load_image': 1, 'last_call-kill_process': 1})\n",
        "Counter({'first_call-load_image': 1, 'last_call-kill_process': 1})\n",
        "Counter({'first_call-load_image': 1, 'last_call-kill_process': 1})\n",
        "Counter({'first_call-load_image': 1, 'last_call-thread': 1})"
       ]
      },
      {
       "output_type": "stream",
       "stream": "stdout",
       "text": [
        "\n",
        "Counter({'first_call-load_image': 1, 'last_call-kill_process': 1})\n",
        "Counter({'first_call-load_image': 1, 'last_call-enum_window': 1})\n",
        "Counter({'first_call-load_image': 1, 'last_call-kill_process': 1})\n",
        "Counter({'first_call-load_image': 1, 'last_call-process': 1})"
       ]
      },
      {
       "output_type": "stream",
       "stream": "stdout",
       "text": [
        "\n",
        "Counter({'first_call-load_image': 1, 'last_call-kill_process': 1})"
       ]
      },
      {
       "output_type": "stream",
       "stream": "stdout",
       "text": [
        "\n",
        "Counter({'first_call-load_image': 1, 'last_call-kill_process': 1})\n",
        "Counter({'first_call-load_image': 1, 'last_call-enum_window': 1})\n",
        "Counter({'first_call-load_image': 1, 'last_call-thread': 1})\n",
        "Counter({'first_call-load_image': 1, 'last_call-kill_process': 1})\n",
        "Counter({'first_call-load_image': 1, 'last_call-thread': 1})\n",
        "Counter({'first_call-load_image': 1, 'last_call-kill_process': 1})\n",
        "Counter({'first_call-load_image': 1, 'last_call-thread': 1})"
       ]
      },
      {
       "output_type": "stream",
       "stream": "stdout",
       "text": [
        "\n",
        "Counter({'first_call-load_image': 1, 'last_call-thread': 1})"
       ]
      },
      {
       "output_type": "stream",
       "stream": "stdout",
       "text": [
        "\n",
        "Counter({'first_call-load_image': 1, 'last_call-process': 1})\n",
        "Counter({'first_call-load_image': 1, 'last_call-kill_process': 1})\n",
        "Counter({'first_call-load_image': 1, 'last_call-load_dll': 1})\n",
        "Counter({'first_call-load_image': 1, 'last_call-enum_window': 1})\n",
        "Counter({'first_call-load_image': 1, 'last_call-thread': 1})"
       ]
      },
      {
       "output_type": "stream",
       "stream": "stdout",
       "text": [
        "\n",
        "Counter({'first_call-load_image': 1, 'last_call-thread': 1})\n",
        "Counter({'first_call-load_image': 1, 'last_call-load_dll': 1})\n",
        "Counter({'first_call-load_image': 1, 'last_call-thread': 1})\n",
        "Counter({'first_call-load_image': 1, 'last_call-enum_window': 1})"
       ]
      },
      {
       "output_type": "stream",
       "stream": "stdout",
       "text": [
        "\n",
        "Counter({'first_call-load_image': 1, 'last_call-thread': 1})\n",
        "Counter({'first_call-load_image': 1, 'last_call-enum_window': 1})"
       ]
      },
      {
       "output_type": "stream",
       "stream": "stdout",
       "text": [
        "\n",
        "Counter({'first_call-load_image': 1, 'last_call-thread': 1})\n",
        "Counter({'first_call-load_image': 1, 'last_call-enum_window': 1})\n",
        "Counter({'first_call-load_image': 1, 'last_call-process': 1})\n",
        "Counter({'first_call-load_image': 1, 'last_call-kill_process': 1})\n",
        "Counter({'first_call-load_image': 1, 'last_call-process': 1})"
       ]
      },
      {
       "output_type": "stream",
       "stream": "stdout",
       "text": [
        "\n",
        "Counter({'first_call-load_image': 1, 'last_call-create_mutex': 1})"
       ]
      },
      {
       "output_type": "stream",
       "stream": "stdout",
       "text": [
        "\n",
        "Counter({'first_call-load_image': 1, 'last_call-thread': 1})\n",
        "Counter({'first_call-load_image': 1, 'last_call-process': 1})\n",
        "Counter({'first_call-load_image': 1, 'last_call-kill_process': 1})"
       ]
      },
      {
       "output_type": "stream",
       "stream": "stdout",
       "text": [
        "\n",
        "Counter({'first_call-load_image': 1, 'last_call-enum_window': 1})\n",
        "Counter({'first_call-load_image': 1, 'last_call-kill_process': 1})\n",
        "Counter({'first_call-load_image': 1, 'last_call-process': 1})"
       ]
      },
      {
       "output_type": "stream",
       "stream": "stdout",
       "text": [
        "\n",
        "Counter({'first_call-load_image': 1, 'last_call-thread': 1})\n",
        "Counter({'first_call-load_image': 1, 'last_call-thread': 1})"
       ]
      },
      {
       "output_type": "stream",
       "stream": "stdout",
       "text": [
        "\n",
        "Counter({'first_call-load_image': 1, 'last_call-kill_process': 1})\n",
        "Counter({'first_call-load_image': 1, 'last_call-kill_process': 1})\n",
        "Counter({'first_call-load_image': 1, 'last_call-open_process': 1})"
       ]
      },
      {
       "output_type": "stream",
       "stream": "stdout",
       "text": [
        "\n",
        "Counter({'first_call-load_image': 1, 'last_call-kill_process': 1})"
       ]
      },
      {
       "output_type": "stream",
       "stream": "stdout",
       "text": [
        "\n",
        "Counter({'first_call-load_image': 1, 'last_call-kill_process': 1})"
       ]
      },
      {
       "output_type": "stream",
       "stream": "stdout",
       "text": [
        "\n",
        "Counter({'first_call-load_image': 1, 'last_call-thread': 1})\n",
        "Counter({'first_call-load_image': 1, 'last_call-kill_process': 1})\n",
        "Counter({'first_call-load_image': 1, 'last_call-kill_process': 1})\n",
        "Counter({'first_call-load_image': 1, 'last_call-kill_process': 1})\n",
        "Counter({'first_call-load_image': 1, 'last_call-kill_process': 1})"
       ]
      },
      {
       "output_type": "stream",
       "stream": "stdout",
       "text": [
        "\n",
        "Counter({'first_call-load_image': 1, 'last_call-thread': 1})"
       ]
      },
      {
       "output_type": "stream",
       "stream": "stdout",
       "text": [
        "\n",
        "Counter({'first_call-load_image': 1, 'last_call-enum_window': 1})\n",
        "Counter({'first_call-load_image': 1, 'last_call-kill_process': 1})\n",
        "Counter({'first_call-load_image': 1, 'last_call-enum_window': 1})\n",
        "Counter({'first_call-load_image': 1, 'last_call-kill_process': 1})\n",
        "Counter({'first_call-load_image': 1, 'last_call-kill_process': 1})"
       ]
      },
      {
       "output_type": "stream",
       "stream": "stdout",
       "text": [
        "\n",
        "Counter({'first_call-load_image': 1, 'last_call-thread': 1})\n",
        "Counter({'first_call-load_image': 1, 'last_call-kill_process': 1})\n",
        "Counter({'first_call-load_image': 1, 'last_call-load_dll': 1})\n",
        "Counter({'first_call-load_image': 1, 'last_call-load_dll': 1})\n",
        "Counter({'first_call-load_image': 1, 'last_call-process': 1})"
       ]
      },
      {
       "output_type": "stream",
       "stream": "stdout",
       "text": [
        "\n",
        "Counter({'first_call-load_image': 1, 'last_call-thread': 1})\n",
        "Counter({'first_call-load_image': 1, 'last_call-kill_process': 1})\n",
        "Counter({'first_call-load_image': 1, 'last_call-thread': 1})"
       ]
      },
      {
       "output_type": "stream",
       "stream": "stdout",
       "text": [
        "\n",
        "Counter({'first_call-load_image': 1, 'last_call-process': 1})\n",
        "Counter({'first_call-load_image': 1, 'last_call-thread': 1})"
       ]
      },
      {
       "output_type": "stream",
       "stream": "stdout",
       "text": [
        "\n",
        "Counter({'first_call-load_image': 1, 'last_call-enum_window': 1})"
       ]
      },
      {
       "output_type": "stream",
       "stream": "stdout",
       "text": [
        "\n",
        "Counter({'first_call-load_image': 1, 'last_call-thread': 1})"
       ]
      },
      {
       "output_type": "stream",
       "stream": "stdout",
       "text": [
        "\n",
        "Counter({'first_call-load_image': 1, 'last_call-thread': 1})\n",
        "Counter({'first_call-load_image': 1, 'last_call-create_mutex': 1})"
       ]
      },
      {
       "output_type": "stream",
       "stream": "stdout",
       "text": [
        "\n",
        "Counter({'first_call-load_image': 1, 'last_call-kill_process': 1})"
       ]
      },
      {
       "output_type": "stream",
       "stream": "stdout",
       "text": [
        "\n",
        "Counter({'first_call-load_image': 1, 'last_call-kill_process': 1})\n",
        "Counter({'first_call-load_image': 1, 'last_call-kill_process': 1})\n",
        "Counter({'first_call-load_image': 1, 'last_call-kill_process': 1})\n",
        "Counter({'first_call-load_image': 1, 'last_call-kill_process': 1})\n",
        "Counter({'first_call-load_image': 1, 'last_call-enum_window': 1})\n",
        "Counter({'first_call-load_image': 1, 'last_call-thread': 1})\n",
        "Counter({'first_call-load_image': 1, 'last_call-check_for_debugger': 1})\n",
        "Counter({'first_call-load_image': 1, 'last_call-enum_window': 1})"
       ]
      },
      {
       "output_type": "stream",
       "stream": "stdout",
       "text": [
        "\n",
        "Counter({'first_call-load_image': 1, 'last_call-kill_process': 1})\n",
        "Counter({'first_call-load_image': 1, 'last_call-enum_window': 1})"
       ]
      },
      {
       "output_type": "stream",
       "stream": "stdout",
       "text": [
        "\n",
        "Counter({'first_call-load_image': 1, 'last_call-kill_process': 1})\n",
        "Counter({'first_call-load_image': 1, 'last_call-kill_process': 1})\n",
        "Counter({'first_call-load_image': 1, 'last_call-kill_process': 1})\n",
        "Counter({'first_call-load_image': 1, 'last_call-enum_window': 1})"
       ]
      },
      {
       "output_type": "stream",
       "stream": "stdout",
       "text": [
        "\n",
        "Counter({'first_call-load_image': 1, 'last_call-kill_process': 1})\n",
        "Counter({'first_call-load_image': 1, 'last_call-enum_window': 1})\n",
        "Counter({'first_call-load_image': 1, 'last_call-kill_process': 1})\n",
        "Counter({'first_call-load_image': 1, 'last_call-thread': 1})"
       ]
      },
      {
       "output_type": "stream",
       "stream": "stdout",
       "text": [
        "\n",
        "Counter({'first_call-load_image': 1, 'last_call-thread': 1})\n",
        "Counter({'first_call-load_image': 1, 'last_call-enum_window': 1})\n",
        "Counter({'first_call-load_image': 1, 'last_call-enum_window': 1})\n",
        "Counter({'first_call-load_image': 1, 'last_call-enum_window': 1})\n",
        "Counter({'first_call-load_image': 1, 'last_call-enum_window': 1})\n",
        "Counter({'first_call-load_image': 1, 'last_call-thread': 1})\n",
        "Counter({'first_call-load_image': 1, 'last_call-thread': 1})\n",
        "Counter({'first_call-load_image': 1, 'last_call-thread': 1})\n",
        "Counter({'first_call-load_image': 1, 'last_call-process': 1})"
       ]
      },
      {
       "output_type": "stream",
       "stream": "stdout",
       "text": [
        "\n",
        "Counter({'first_call-load_image': 1, 'last_call-process': 1})\n",
        "Counter({'first_call-load_image': 1, 'last_call-kill_process': 1})\n",
        "Counter({'first_call-load_image': 1, 'last_call-thread': 1})"
       ]
      },
      {
       "output_type": "stream",
       "stream": "stdout",
       "text": [
        "\n",
        "Counter({'first_call-load_image': 1, 'last_call-process': 1})\n",
        "Counter({'first_call-load_image': 1, 'last_call-enum_window': 1})"
       ]
      },
      {
       "output_type": "stream",
       "stream": "stdout",
       "text": [
        "\n",
        "Counter({'first_call-load_image': 1, 'last_call-process': 1})\n",
        "Counter({'first_call-load_image': 1, 'last_call-kill_process': 1})\n",
        "Counter({'first_call-load_image': 1, 'last_call-enum_window': 1})\n",
        "Counter({'first_call-load_image': 1, 'last_call-enum_window': 1})"
       ]
      },
      {
       "output_type": "stream",
       "stream": "stdout",
       "text": [
        "\n",
        "Counter({'first_call-load_image': 1, 'last_call-kill_process': 1})\n",
        "Counter({'first_call-load_image': 1, 'last_call-thread': 1})\n",
        "Counter({'first_call-load_image': 1, 'last_call-kill_process': 1})"
       ]
      },
      {
       "output_type": "stream",
       "stream": "stdout",
       "text": [
        "\n",
        "Counter({'first_call-load_image': 1, 'last_call-enum_window': 1})\n",
        "Counter({'first_call-load_image': 1, 'last_call-thread': 1})\n",
        "Counter({'first_call-load_image': 1, 'last_call-thread': 1})\n",
        "Counter({'first_call-load_image': 1, 'last_call-process': 1})\n",
        "Counter({'first_call-load_image': 1, 'last_call-thread': 1})"
       ]
      },
      {
       "output_type": "stream",
       "stream": "stdout",
       "text": [
        "\n",
        "Counter({'first_call-load_image': 1, 'last_call-thread': 1})"
       ]
      },
      {
       "output_type": "stream",
       "stream": "stdout",
       "text": [
        "\n",
        "Counter({'first_call-load_image': 1, 'last_call-process': 1})\n",
        "Counter({'first_call-load_image': 1, 'last_call-kill_process': 1})\n",
        "Counter({'first_call-load_image': 1, 'last_call-enum_window': 1})\n",
        "Counter({'first_call-load_image': 1, 'last_call-enum_window': 1})\n",
        "Counter({'first_call-load_image': 1, 'last_call-enum_window': 1})"
       ]
      },
      {
       "output_type": "stream",
       "stream": "stdout",
       "text": [
        "\n",
        "Counter({'first_call-load_image': 1, 'last_call-thread': 1})"
       ]
      },
      {
       "output_type": "stream",
       "stream": "stdout",
       "text": [
        "\n",
        "Counter({'first_call-load_image': 1, 'last_call-thread': 1})"
       ]
      },
      {
       "output_type": "stream",
       "stream": "stdout",
       "text": [
        "\n",
        "Counter({'first_call-load_image': 1, 'last_call-open_process': 1})"
       ]
      },
      {
       "output_type": "stream",
       "stream": "stdout",
       "text": [
        "\n",
        "Counter({'first_call-load_image': 1, 'last_call-load_dll': 1})\n",
        "Counter({'first_call-load_image': 1, 'last_call-load_dll': 1})\n",
        "Counter({'first_call-load_image': 1, 'last_call-kill_process': 1})"
       ]
      },
      {
       "output_type": "stream",
       "stream": "stdout",
       "text": [
        "\n",
        "Counter({'first_call-load_image': 1, 'last_call-thread': 1})\n",
        "Counter({'first_call-load_image': 1, 'last_call-kill_process': 1})\n",
        "Counter({'first_call-load_image': 1, 'last_call-thread': 1})\n",
        "Counter({'first_call-load_image': 1, 'last_call-thread': 1})\n",
        "Counter({'first_call-load_image': 1, 'last_call-load_dll': 1})"
       ]
      },
      {
       "output_type": "stream",
       "stream": "stdout",
       "text": [
        "\n",
        "Counter({'first_call-load_image': 1, 'last_call-thread': 1})\n",
        "Counter({'first_call-load_image': 1, 'last_call-enum_window': 1})"
       ]
      },
      {
       "output_type": "stream",
       "stream": "stdout",
       "text": [
        "\n",
        "Counter({'first_call-load_image': 1, 'last_call-kill_process': 1})\n",
        "Counter({'first_call-load_image': 1, 'last_call-thread': 1})"
       ]
      },
      {
       "output_type": "stream",
       "stream": "stdout",
       "text": [
        "\n",
        "Counter({'first_call-load_image': 1, 'last_call-enum_window': 1})"
       ]
      },
      {
       "output_type": "stream",
       "stream": "stdout",
       "text": [
        "\n",
        "Counter({'first_call-load_image': 1, 'last_call-thread': 1})\n",
        "Counter({'first_call-load_image': 1, 'last_call-enum_window': 1})"
       ]
      },
      {
       "output_type": "stream",
       "stream": "stdout",
       "text": [
        "\n",
        "Counter({'first_call-load_image': 1, 'last_call-enum_window': 1})\n",
        "Counter({'first_call-load_image': 1, 'last_call-enum_window': 1})\n",
        "Counter({'first_call-load_image': 1, 'last_call-thread': 1})\n",
        "Counter({'first_call-load_image': 1, 'last_call-kill_process': 1})"
       ]
      },
      {
       "output_type": "stream",
       "stream": "stdout",
       "text": [
        "\n",
        "Counter({'first_call-load_image': 1, 'last_call-create_thread': 1})\n",
        "Counter({'first_call-load_image': 1, 'last_call-kill_process': 1})\n",
        "Counter({'first_call-load_image': 1, 'last_call-load_dll': 1})\n",
        "Counter({'first_call-load_image': 1, 'last_call-enum_window': 1})\n",
        "Counter({'first_call-load_image': 1, 'last_call-enum_window': 1})"
       ]
      },
      {
       "output_type": "stream",
       "stream": "stdout",
       "text": [
        "\n",
        "Counter({'first_call-load_image': 1, 'last_call-kill_process': 1})\n",
        "Counter({'first_call-load_image': 1, 'last_call-kill_process': 1})"
       ]
      },
      {
       "output_type": "stream",
       "stream": "stdout",
       "text": [
        "\n",
        "Counter({'first_call-load_image': 1, 'last_call-kill_process': 1})\n",
        "Counter({'first_call-load_image': 1, 'last_call-thread': 1})\n",
        "Counter({'first_call-load_image': 1, 'last_call-enum_window': 1})"
       ]
      },
      {
       "output_type": "stream",
       "stream": "stdout",
       "text": [
        "\n",
        "Counter({'first_call-load_image': 1, 'last_call-kill_process': 1})\n",
        "Counter({'first_call-load_image': 1, 'last_call-kill_process': 1})"
       ]
      },
      {
       "output_type": "stream",
       "stream": "stdout",
       "text": [
        "\n",
        "Counter({'first_call-load_image': 1, 'last_call-kill_process': 1})\n",
        "Counter({'first_call-load_image': 1, 'last_call-enum_window': 1})\n",
        "Counter({'first_call-load_image': 1, 'last_call-load_dll': 1})\n",
        "Counter({'first_call-load_image': 1, 'last_call-kill_process': 1})\n",
        "Counter({'first_call-load_image': 1, 'last_call-kill_process': 1})"
       ]
      },
      {
       "output_type": "stream",
       "stream": "stdout",
       "text": [
        "\n",
        "Counter({'first_call-load_image': 1, 'last_call-enum_window': 1})"
       ]
      },
      {
       "output_type": "stream",
       "stream": "stdout",
       "text": [
        "\n",
        "Counter({'first_call-load_image': 1, 'last_call-kill_process': 1})\n",
        "Counter({'first_call-load_image': 1, 'last_call-process': 1})\n",
        "Counter({'first_call-load_image': 1, 'last_call-process': 1})"
       ]
      },
      {
       "output_type": "stream",
       "stream": "stdout",
       "text": [
        "\n",
        "Counter({'first_call-load_image': 1, 'last_call-kill_process': 1})\n",
        "Counter({'first_call-load_image': 1, 'last_call-thread': 1})"
       ]
      },
      {
       "output_type": "stream",
       "stream": "stdout",
       "text": [
        "\n",
        "Counter({'first_call-load_image': 1, 'last_call-kill_process': 1})"
       ]
      },
      {
       "output_type": "stream",
       "stream": "stdout",
       "text": [
        "\n",
        "Counter({'first_call-load_image': 1, 'last_call-enum_window': 1})\n",
        "Counter({'first_call-load_image': 1, 'last_call-kill_process': 1})\n",
        "Counter({'first_call-load_image': 1, 'last_call-thread': 1})\n",
        "Counter({'first_call-load_image': 1, 'last_call-kill_process': 1})"
       ]
      },
      {
       "output_type": "stream",
       "stream": "stdout",
       "text": [
        "\n",
        "Counter({'first_call-load_image': 1, 'last_call-thread': 1})\n",
        "Counter({'first_call-load_image': 1, 'last_call-kill_process': 1})\n",
        "Counter({'first_call-load_image': 1, 'last_call-process': 1})\n",
        "Counter({'first_call-load_image': 1, 'last_call-kill_process': 1})\n",
        "Counter({'first_call-load_image': 1, 'last_call-thread': 1})"
       ]
      },
      {
       "output_type": "stream",
       "stream": "stdout",
       "text": [
        "\n",
        "Counter({'first_call-load_image': 1, 'last_call-thread': 1})"
       ]
      },
      {
       "output_type": "stream",
       "stream": "stdout",
       "text": [
        "\n",
        "Counter({'first_call-load_image': 1, 'last_call-enum_window': 1})"
       ]
      },
      {
       "output_type": "stream",
       "stream": "stdout",
       "text": [
        "\n",
        "Counter({'first_call-load_image': 1, 'last_call-kill_process': 1})\n",
        "Counter({'first_call-load_image': 1, 'last_call-kill_process': 1})\n",
        "Counter({'first_call-load_image': 1, 'last_call-thread': 1})\n",
        "Counter({'first_call-load_image': 1, 'last_call-enum_window': 1})\n",
        "Counter({'first_call-load_image': 1, 'last_call-thread': 1})"
       ]
      },
      {
       "output_type": "stream",
       "stream": "stdout",
       "text": [
        "\n",
        "Counter({'first_call-load_image': 1, 'last_call-load_dll': 1})\n",
        "Counter({'first_call-load_image': 1, 'last_call-kill_process': 1})\n",
        "Counter({'first_call-load_image': 1, 'last_call-enum_window': 1})\n",
        "Counter({'first_call-load_image': 1, 'last_call-kill_process': 1})"
       ]
      },
      {
       "output_type": "stream",
       "stream": "stdout",
       "text": [
        "\n",
        "Counter({'first_call-load_image': 1, 'last_call-process': 1})\n",
        "Counter({'first_call-load_image': 1, 'last_call-kill_process': 1})\n",
        "Counter({'first_call-load_image': 1, 'last_call-thread': 1})\n",
        "Counter({'first_call-load_image': 1, 'last_call-load_dll': 1})"
       ]
      },
      {
       "output_type": "stream",
       "stream": "stdout",
       "text": [
        "\n",
        "Counter({'first_call-load_image': 1, 'last_call-open_process': 1})\n",
        "Counter({'first_call-load_image': 1, 'last_call-kill_process': 1})\n",
        "Counter({'first_call-load_image': 1, 'last_call-thread': 1})\n",
        "Counter({'first_call-load_image': 1, 'last_call-thread': 1})\n",
        "Counter({'first_call-load_image': 1, 'last_call-kill_process': 1})"
       ]
      },
      {
       "output_type": "stream",
       "stream": "stdout",
       "text": [
        "\n",
        "Counter({'first_call-load_image': 1, 'last_call-kill_process': 1})\n",
        "Counter({'first_call-load_image': 1, 'last_call-thread': 1})\n",
        "Counter({'first_call-load_image': 1, 'last_call-enum_window': 1})\n",
        "Counter({'first_call-load_image': 1, 'last_call-enum_window': 1})\n",
        "Counter({'first_call-load_image': 1, 'last_call-enum_window': 1})\n",
        "Counter({'first_call-load_image': 1, 'last_call-kill_process': 1})\n",
        "Counter({'first_call-load_image': 1, 'last_call-thread': 1})"
       ]
      },
      {
       "output_type": "stream",
       "stream": "stdout",
       "text": [
        "\n",
        "Counter({'first_call-load_image': 1, 'last_call-kill_process': 1})\n",
        "Counter({'first_call-load_image': 1, 'last_call-kill_process': 1})\n",
        "Counter({'first_call-load_image': 1, 'last_call-kill_process': 1})\n",
        "Counter({'first_call-load_image': 1, 'last_call-get_system_directory': 1})\n",
        "Counter({'first_call-load_image': 1, 'last_call-kill_process': 1})"
       ]
      },
      {
       "output_type": "stream",
       "stream": "stdout",
       "text": [
        "\n",
        "Counter({'first_call-load_image': 1, 'last_call-enum_window': 1})"
       ]
      },
      {
       "output_type": "stream",
       "stream": "stdout",
       "text": [
        "\n",
        "Counter({'first_call-load_image': 1, 'last_call-kill_process': 1})\n",
        "Counter({'first_call-load_image': 1, 'last_call-kill_process': 1})\n",
        "Counter({'first_call-load_image': 1, 'last_call-enum_window': 1})"
       ]
      },
      {
       "output_type": "stream",
       "stream": "stdout",
       "text": [
        "\n",
        "Counter({'first_call-load_image': 1, 'last_call-enum_window': 1})\n",
        "Counter({'first_call-load_image': 1, 'last_call-enum_window': 1})\n",
        "Counter({'first_call-load_image': 1, 'last_call-sleep': 1})"
       ]
      },
      {
       "output_type": "stream",
       "stream": "stdout",
       "text": [
        "\n",
        "Counter({'first_call-load_image': 1, 'last_call-thread': 1})"
       ]
      },
      {
       "output_type": "stream",
       "stream": "stdout",
       "text": [
        "\n",
        "Counter({'first_call-load_image': 1, 'last_call-kill_process': 1})\n",
        "Counter({'first_call-load_image': 1, 'last_call-kill_process': 1})\n",
        "Counter({'first_call-load_image': 1, 'last_call-process': 1})\n",
        "Counter({'first_call-load_image': 1, 'last_call-enum_window': 1})"
       ]
      },
      {
       "output_type": "stream",
       "stream": "stdout",
       "text": [
        "\n",
        "Counter({'first_call-load_image': 1, 'last_call-kill_process': 1})\n",
        "Counter({'first_call-load_image': 1, 'last_call-thread': 1})\n",
        "Counter({'first_call-load_image': 1, 'last_call-kill_process': 1})"
       ]
      },
      {
       "output_type": "stream",
       "stream": "stdout",
       "text": [
        "\n",
        "Counter({'first_call-load_image': 1, 'last_call-kill_process': 1})\n",
        "Counter({'first_call-load_image': 1, 'last_call-thread': 1})\n",
        "Counter({'first_call-load_image': 1, 'last_call-create_mutex': 1})"
       ]
      },
      {
       "output_type": "stream",
       "stream": "stdout",
       "text": [
        "\n",
        "Counter({'first_call-load_image': 1, 'last_call-thread': 1})"
       ]
      },
      {
       "output_type": "stream",
       "stream": "stdout",
       "text": [
        "\n",
        "Counter({'first_call-load_image': 1, 'last_call-thread': 1})\n",
        "Counter({'first_call-load_image': 1, 'last_call-thread': 1})"
       ]
      },
      {
       "output_type": "stream",
       "stream": "stdout",
       "text": [
        "\n",
        "Counter({'first_call-load_image': 1, 'last_call-thread': 1})\n",
        "Counter({'first_call-load_image': 1, 'last_call-enum_window': 1})\n",
        "Counter({'first_call-load_image': 1, 'last_call-thread': 1})"
       ]
      },
      {
       "output_type": "stream",
       "stream": "stdout",
       "text": [
        "\n",
        "Counter({'first_call-load_image': 1, 'last_call-kill_process': 1})"
       ]
      },
      {
       "output_type": "stream",
       "stream": "stdout",
       "text": [
        "\n",
        "Counter({'first_call-load_image': 1, 'last_call-enum_window': 1})\n",
        "Counter({'first_call-load_image': 1, 'last_call-thread': 1})\n",
        "Counter({'first_call-load_image': 1, 'last_call-load_dll': 1})\n",
        "Counter({'first_call-load_image': 1, 'last_call-enum_window': 1})\n",
        "Counter({'first_call-load_image': 1, 'last_call-kill_process': 1})\n",
        "Counter({'first_call-load_image': 1, 'last_call-enum_window': 1})"
       ]
      },
      {
       "output_type": "stream",
       "stream": "stdout",
       "text": [
        "\n",
        "Counter({'first_call-load_image': 1, 'last_call-kill_process': 1})\n",
        "Counter({'first_call-load_image': 1, 'last_call-create_mutex': 1})"
       ]
      },
      {
       "output_type": "stream",
       "stream": "stdout",
       "text": [
        "\n",
        "Counter({'first_call-load_image': 1, 'last_call-kill_process': 1})"
       ]
      },
      {
       "output_type": "stream",
       "stream": "stdout",
       "text": [
        "\n",
        "Counter({'first_call-load_image': 1, 'last_call-kill_process': 1})\n",
        "Counter({'first_call-load_image': 1, 'last_call-thread': 1})\n",
        "Counter({'first_call-load_image': 1, 'last_call-kill_process': 1})\n",
        "Counter({'first_call-load_image': 1, 'last_call-thread': 1})\n",
        "Counter({'first_call-load_image': 1, 'last_call-kill_process': 1})"
       ]
      },
      {
       "output_type": "stream",
       "stream": "stdout",
       "text": [
        "\n",
        "Counter({'first_call-load_image': 1, 'last_call-enum_window': 1})"
       ]
      },
      {
       "output_type": "stream",
       "stream": "stdout",
       "text": [
        "\n",
        "Counter({'first_call-load_image': 1, 'last_call-load_dll': 1})\n",
        "Counter({'first_call-load_image': 1, 'last_call-enum_window': 1})\n",
        "Counter({'first_call-load_image': 1, 'last_call-kill_process': 1})"
       ]
      },
      {
       "output_type": "stream",
       "stream": "stdout",
       "text": [
        "\n",
        "Counter({'first_call-load_image': 1, 'last_call-thread': 1})"
       ]
      },
      {
       "output_type": "stream",
       "stream": "stdout",
       "text": [
        "\n",
        "Counter({'first_call-load_image': 1, 'last_call-thread': 1})"
       ]
      },
      {
       "output_type": "stream",
       "stream": "stdout",
       "text": [
        "\n",
        "Counter({'first_call-load_image': 1, 'last_call-kill_process': 1})\n",
        "Counter({'first_call-load_image': 1, 'last_call-load_dll': 1})\n",
        "Counter({'first_call-load_image': 1, 'last_call-enum_window': 1})"
       ]
      },
      {
       "output_type": "stream",
       "stream": "stdout",
       "text": [
        "\n",
        "Counter({'first_call-load_image': 1, 'last_call-thread': 1})\n",
        "Counter({'first_call-load_image': 1, 'last_call-kill_process': 1})\n",
        "Counter({'first_call-load_image': 1, 'last_call-kill_process': 1})"
       ]
      },
      {
       "output_type": "stream",
       "stream": "stdout",
       "text": [
        "\n",
        "Counter({'first_call-load_image': 1, 'last_call-kill_process': 1})\n",
        "Counter({'first_call-load_image': 1, 'last_call-kill_process': 1})\n",
        "Counter({'first_call-load_image': 1, 'last_call-kill_process': 1})\n",
        "Counter({'first_call-load_image': 1, 'last_call-kill_process': 1})\n",
        "Counter({'first_call-load_image': 1, 'last_call-kill_process': 1})"
       ]
      },
      {
       "output_type": "stream",
       "stream": "stdout",
       "text": [
        "\n",
        "Counter({'first_call-load_image': 1, 'last_call-thread': 1})\n",
        "Counter({'first_call-load_image': 1, 'last_call-thread': 1})\n",
        "Counter({'first_call-load_image': 1, 'last_call-thread': 1})\n",
        "Counter({'first_call-load_image': 1, 'last_call-enum_window': 1})\n",
        "Counter({'first_call-load_image': 1, 'last_call-kill_process': 1})\n",
        "Counter({'first_call-load_image': 1, 'last_call-enum_window': 1})"
       ]
      },
      {
       "output_type": "stream",
       "stream": "stdout",
       "text": [
        "\n",
        "Counter({'first_call-load_image': 1, 'last_call-thread': 1})"
       ]
      },
      {
       "output_type": "stream",
       "stream": "stdout",
       "text": [
        "\n",
        "Counter({'first_call-load_image': 1, 'last_call-process': 1})\n",
        "Counter({'first_call-load_image': 1, 'last_call-enum_window': 1})"
       ]
      },
      {
       "output_type": "stream",
       "stream": "stdout",
       "text": [
        "\n",
        "Counter({'first_call-load_image': 1, 'last_call-thread': 1})"
       ]
      },
      {
       "output_type": "stream",
       "stream": "stdout",
       "text": [
        "\n",
        "Counter({'first_call-load_image': 1, 'last_call-enum_window': 1})"
       ]
      },
      {
       "output_type": "stream",
       "stream": "stdout",
       "text": [
        "\n",
        "Counter({'first_call-load_image': 1, 'last_call-kill_process': 1})\n",
        "Counter({'first_call-load_image': 1, 'last_call-kill_process': 1})\n",
        "Counter({'first_call-load_image': 1, 'last_call-load_dll': 1})"
       ]
      },
      {
       "output_type": "stream",
       "stream": "stdout",
       "text": [
        "\n",
        "Counter({'first_call-load_image': 1, 'last_call-process': 1})\n",
        "Counter({'first_call-load_image': 1, 'last_call-enum_window': 1})"
       ]
      },
      {
       "output_type": "stream",
       "stream": "stdout",
       "text": [
        "\n",
        "Counter({'first_call-load_image': 1, 'last_call-thread': 1})"
       ]
      },
      {
       "output_type": "stream",
       "stream": "stdout",
       "text": [
        "\n",
        "Counter({'first_call-load_image': 1, 'last_call-kill_process': 1})"
       ]
      },
      {
       "output_type": "stream",
       "stream": "stdout",
       "text": [
        "\n",
        "Counter({'first_call-load_image': 1, 'last_call-kill_process': 1})\n",
        "Counter({'first_call-load_image': 1, 'last_call-thread': 1})"
       ]
      },
      {
       "output_type": "stream",
       "stream": "stdout",
       "text": [
        "\n",
        "Counter({'first_call-load_image': 1, 'last_call-kill_process': 1})"
       ]
      },
      {
       "output_type": "stream",
       "stream": "stdout",
       "text": [
        "\n",
        "Counter({'first_call-load_image': 1, 'last_call-enum_window': 1})"
       ]
      },
      {
       "output_type": "stream",
       "stream": "stdout",
       "text": [
        "\n",
        "Counter({'first_call-load_image': 1, 'last_call-enum_window': 1})\n",
        "Counter({'first_call-load_image': 1, 'last_call-kill_process': 1})\n",
        "Counter({'first_call-load_image': 1, 'last_call-thread': 1})"
       ]
      },
      {
       "output_type": "stream",
       "stream": "stdout",
       "text": [
        "\n",
        "Counter({'first_call-load_image': 1, 'last_call-process': 1})\n",
        "Counter({'first_call-load_image': 1, 'last_call-thread': 1})"
       ]
      },
      {
       "output_type": "stream",
       "stream": "stdout",
       "text": [
        "\n",
        "Counter({'first_call-load_image': 1, 'last_call-enum_window': 1})\n",
        "Counter({'first_call-load_image': 1, 'last_call-kill_process': 1})\n",
        "Counter({'first_call-load_image': 1, 'last_call-enum_window': 1})"
       ]
      },
      {
       "output_type": "stream",
       "stream": "stdout",
       "text": [
        "\n",
        "Counter({'first_call-load_image': 1, 'last_call-kill_process': 1})\n",
        "Counter({'first_call-load_image': 1, 'last_call-thread': 1})\n",
        "Counter({'first_call-load_image': 1, 'last_call-kill_process': 1})\n",
        "Counter({'first_call-load_image': 1, 'last_call-kill_process': 1})\n",
        "Counter({'first_call-load_image': 1, 'last_call-kill_process': 1})\n",
        "Counter({'first_call-load_image': 1, 'last_call-kill_process': 1})"
       ]
      },
      {
       "output_type": "stream",
       "stream": "stdout",
       "text": [
        "\n",
        "Counter({'first_call-load_image': 1, 'last_call-enum_window': 1})"
       ]
      },
      {
       "output_type": "stream",
       "stream": "stdout",
       "text": [
        "\n",
        "Counter({'first_call-load_image': 1, 'last_call-kill_process': 1})\n",
        "Counter({'first_call-load_image': 1, 'last_call-thread': 1})"
       ]
      },
      {
       "output_type": "stream",
       "stream": "stdout",
       "text": [
        "\n",
        "Counter({'first_call-load_image': 1, 'last_call-enum_window': 1})\n",
        "Counter({'first_call-load_image': 1, 'last_call-enum_window': 1})\n",
        "Counter({'first_call-load_image': 1, 'last_call-kill_process': 1})\n",
        "Counter({'first_call-load_image': 1, 'last_call-kill_process': 1})\n",
        "Counter({'first_call-load_image': 1, 'last_call-thread': 1})"
       ]
      },
      {
       "output_type": "stream",
       "stream": "stdout",
       "text": [
        "\n",
        "Counter({'first_call-load_image': 1, 'last_call-thread': 1})\n",
        "Counter({'first_call-load_image': 1, 'last_call-thread': 1})"
       ]
      },
      {
       "output_type": "stream",
       "stream": "stdout",
       "text": [
        "\n",
        "Counter({'first_call-load_image': 1, 'last_call-kill_process': 1})\n",
        "Counter({'first_call-load_image': 1, 'last_call-enum_window': 1})\n",
        "Counter({'first_call-load_image': 1, 'last_call-load_dll': 1})\n",
        "Counter({'first_call-load_image': 1, 'last_call-load_dll': 1})\n",
        "Counter({'first_call-load_image': 1, 'last_call-get_host_by_name': 1})"
       ]
      },
      {
       "output_type": "stream",
       "stream": "stdout",
       "text": [
        "\n",
        "Counter({'first_call-load_image': 1, 'last_call-thread': 1})\n",
        "Counter({'first_call-load_image': 1, 'last_call-enum_window': 1})\n",
        "Counter({'first_call-load_image': 1, 'last_call-kill_process': 1})\n",
        "Counter({'first_call-load_image': 1, 'last_call-kill_process': 1})\n",
        "Counter({'first_call-load_image': 1, 'last_call-kill_process': 1})\n",
        "Counter({'first_call-load_image': 1, 'last_call-enum_window': 1})\n",
        "Counter({'first_call-load_image': 1, 'last_call-thread': 1})\n",
        "Counter({'first_call-load_image': 1, 'last_call-kill_process': 1})"
       ]
      },
      {
       "output_type": "stream",
       "stream": "stdout",
       "text": [
        "\n",
        "Counter({'first_call-load_image': 1, 'last_call-thread': 1})\n",
        "Counter({'first_call-load_image': 1, 'last_call-process': 1})\n",
        "Counter({'first_call-load_image': 1, 'last_call-enum_window': 1})\n",
        "Counter({'first_call-load_image': 1, 'last_call-kill_process': 1})\n",
        "Counter({'first_call-load_image': 1, 'last_call-kill_process': 1})"
       ]
      },
      {
       "output_type": "stream",
       "stream": "stdout",
       "text": [
        "\n",
        "Counter({'first_call-load_image': 1, 'last_call-set_value': 1})"
       ]
      },
      {
       "output_type": "stream",
       "stream": "stdout",
       "text": [
        "\n",
        "Counter({'first_call-load_image': 1, 'last_call-kill_process': 1})"
       ]
      },
      {
       "output_type": "stream",
       "stream": "stdout",
       "text": [
        "\n",
        "Counter({'first_call-load_image': 1, 'last_call-kill_process': 1})\n",
        "Counter({'first_call-load_image': 1, 'last_call-enum_window': 1})"
       ]
      },
      {
       "output_type": "stream",
       "stream": "stdout",
       "text": [
        "\n",
        "Counter({'first_call-load_image': 1, 'last_call-kill_process': 1})\n",
        "Counter({'first_call-load_image': 1, 'last_call-enum_window': 1})"
       ]
      },
      {
       "output_type": "stream",
       "stream": "stdout",
       "text": [
        "\n",
        "Counter({'first_call-load_image': 1, 'last_call-thread': 1})"
       ]
      },
      {
       "output_type": "stream",
       "stream": "stdout",
       "text": [
        "\n",
        "Counter({'first_call-load_image': 1, 'last_call-thread': 1})\n",
        "Counter({'first_call-load_image': 1, 'last_call-enum_window': 1})\n",
        "Counter({'first_call-load_image': 1, 'last_call-kill_process': 1})\n",
        "Counter({'first_call-load_image': 1, 'last_call-enum_window': 1})"
       ]
      },
      {
       "output_type": "stream",
       "stream": "stdout",
       "text": [
        "\n",
        "Counter({'first_call-load_image': 1, 'last_call-get_system_time': 1})\n",
        "Counter({'first_call-load_image': 1, 'last_call-load_dll': 1})\n",
        "Counter({'first_call-load_image': 1, 'last_call-load_dll': 1})\n",
        "Counter({'first_call-load_image': 1, 'last_call-enum_window': 1})\n",
        "Counter({'first_call-load_image': 1, 'last_call-process': 1})\n",
        "Counter({'first_call-load_image': 1, 'last_call-enum_window': 1})\n",
        "Counter({'first_call-load_image': 1, 'last_call-thread': 1})\n",
        "Counter({'first_call-load_image': 1, 'last_call-process': 1})"
       ]
      },
      {
       "output_type": "stream",
       "stream": "stdout",
       "text": [
        "\n",
        "Counter({'first_call-load_image': 1, 'last_call-kill_process': 1})\n",
        "Counter({'first_call-load_image': 1, 'last_call-kill_process': 1})\n",
        "Counter({'first_call-load_image': 1, 'last_call-load_dll': 1})\n",
        "Counter({'first_call-load_image': 1, 'last_call-kill_process': 1})"
       ]
      },
      {
       "output_type": "stream",
       "stream": "stdout",
       "text": [
        "\n",
        "Counter({'first_call-load_image': 1, 'last_call-enum_window': 1})\n",
        "Counter({'first_call-load_image': 1, 'last_call-thread': 1})\n",
        "Counter({'first_call-load_image': 1, 'last_call-enum_window': 1})\n",
        "Counter({'first_call-load_image': 1, 'last_call-process': 1})\n",
        "Counter({'first_call-load_image': 1, 'last_call-kill_process': 1})\n",
        "Counter({'first_call-load_image': 1, 'last_call-kill_process': 1})"
       ]
      },
      {
       "output_type": "stream",
       "stream": "stdout",
       "text": [
        "\n",
        "Counter({'first_call-load_image': 1, 'last_call-enum_window': 1})\n",
        "Counter({'first_call-load_image': 1, 'last_call-set_windows_hook': 1})"
       ]
      },
      {
       "output_type": "stream",
       "stream": "stdout",
       "text": [
        "\n",
        "Counter({'first_call-load_image': 1, 'last_call-kill_process': 1})"
       ]
      },
      {
       "output_type": "stream",
       "stream": "stdout",
       "text": [
        "\n",
        "Counter({'first_call-load_image': 1, 'last_call-process': 1})\n",
        "Counter({'first_call-load_image': 1, 'last_call-thread': 1})\n",
        "Counter({'first_call-load_image': 1, 'last_call-thread': 1})"
       ]
      },
      {
       "output_type": "stream",
       "stream": "stdout",
       "text": [
        "\n",
        "Counter({'first_call-load_image': 1, 'last_call-load_dll': 1})\n",
        "Counter({'first_call-load_image': 1, 'last_call-thread': 1})"
       ]
      },
      {
       "output_type": "stream",
       "stream": "stdout",
       "text": [
        "\n",
        "Counter({'first_call-load_image': 1, 'last_call-thread': 1})\n",
        "Counter({'first_call-load_image': 1, 'last_call-thread': 1})\n",
        "Counter({'first_call-load_image': 1, 'last_call-thread': 1})\n",
        "Counter({'first_call-load_image': 1, 'last_call-thread': 1})"
       ]
      },
      {
       "output_type": "stream",
       "stream": "stdout",
       "text": [
        "\n",
        "Counter({'first_call-load_image': 1, 'last_call-thread': 1})\n",
        "Counter({'first_call-load_image': 1, 'last_call-process': 1})\n",
        "Counter({'first_call-load_image': 1, 'last_call-enum_window': 1})\n",
        "Counter({'first_call-load_image': 1, 'last_call-kill_process': 1})"
       ]
      },
      {
       "output_type": "stream",
       "stream": "stdout",
       "text": [
        "\n",
        "Counter({'first_call-load_image': 1, 'last_call-enum_window': 1})\n",
        "Counter({'first_call-load_image': 1, 'last_call-kill_process': 1})\n",
        "Counter({'first_call-load_image': 1, 'last_call-kill_process': 1})\n",
        "Counter({'first_call-load_image': 1, 'last_call-create_thread': 1})"
       ]
      },
      {
       "output_type": "stream",
       "stream": "stdout",
       "text": [
        "\n",
        "Counter({'first_call-load_image': 1, 'last_call-enum_window': 1})\n",
        "Counter({'first_call-load_image': 1, 'last_call-sleep': 1})"
       ]
      },
      {
       "output_type": "stream",
       "stream": "stdout",
       "text": [
        "\n",
        "Counter({'first_call-load_image': 1, 'last_call-kill_process': 1})"
       ]
      },
      {
       "output_type": "stream",
       "stream": "stdout",
       "text": [
        "\n",
        "Counter({'first_call-load_image': 1, 'last_call-kill_process': 1})\n",
        "Counter({'first_call-load_image': 1, 'last_call-enum_window': 1})\n",
        "Counter({'first_call-load_image': 1, 'last_call-enum_window': 1})\n",
        "Counter({'first_call-load_image': 1, 'last_call-thread': 1})\n",
        "Counter({'first_call-load_image': 1, 'last_call-enum_window': 1})\n",
        "Counter({'first_call-load_image': 1, 'last_call-kill_process': 1})\n",
        "Counter({'first_call-load_image': 1, 'last_call-enum_window': 1})\n",
        "Counter({'first_call-load_image': 1, 'last_call-enum_window': 1})\n",
        "Counter({'first_call-load_image': 1, 'last_call-thread': 1})"
       ]
      },
      {
       "output_type": "stream",
       "stream": "stdout",
       "text": [
        "\n",
        "Counter({'first_call-load_image': 1, 'last_call-process': 1})"
       ]
      },
      {
       "output_type": "stream",
       "stream": "stdout",
       "text": [
        "\n",
        "Counter({'first_call-load_image': 1, 'last_call-load_dll': 1})"
       ]
      },
      {
       "output_type": "stream",
       "stream": "stdout",
       "text": [
        "\n",
        "Counter({'first_call-load_image': 1, 'last_call-thread': 1})\n",
        "Counter({'first_call-load_image': 1, 'last_call-kill_process': 1})\n",
        "Counter({'first_call-load_image': 1, 'last_call-thread': 1})\n",
        "Counter({'first_call-load_image': 1, 'last_call-kill_process': 1})"
       ]
      },
      {
       "output_type": "stream",
       "stream": "stdout",
       "text": [
        "\n",
        "Counter({'first_call-load_image': 1, 'last_call-kill_process': 1})\n",
        "Counter({'first_call-load_image': 1, 'last_call-kill_process': 1})\n",
        "Counter({'first_call-load_image': 1, 'last_call-thread': 1})"
       ]
      },
      {
       "output_type": "stream",
       "stream": "stdout",
       "text": [
        "\n",
        "Counter({'first_call-load_image': 1, 'last_call-kill_process': 1})\n",
        "Counter({'first_call-load_image': 1, 'last_call-sleep': 1})"
       ]
      },
      {
       "output_type": "stream",
       "stream": "stdout",
       "text": [
        "\n",
        "Counter({'first_call-load_image': 1, 'last_call-enum_window': 1})"
       ]
      },
      {
       "output_type": "stream",
       "stream": "stdout",
       "text": [
        "\n",
        "Counter({'first_call-load_image': 1, 'last_call-process': 1})"
       ]
      },
      {
       "output_type": "stream",
       "stream": "stdout",
       "text": [
        "\n",
        "Counter({'first_call-load_image': 1, 'last_call-load_dll': 1})"
       ]
      },
      {
       "output_type": "stream",
       "stream": "stdout",
       "text": [
        "\n",
        "Counter({'first_call-load_image': 1, 'last_call-kill_process': 1})\n",
        "Counter({'first_call-load_image': 1, 'last_call-thread': 1})\n",
        "Counter({'first_call-load_image': 1, 'last_call-kill_process': 1})\n",
        "Counter({'first_call-load_image': 1, 'last_call-kill_process': 1})\n",
        "Counter({'first_call-load_image': 1, 'last_call-process': 1})\n",
        "Counter({'first_call-load_image': 1, 'last_call-thread': 1})\n",
        "Counter({'first_call-load_image': 1, 'last_call-kill_process': 1})"
       ]
      },
      {
       "output_type": "stream",
       "stream": "stdout",
       "text": [
        "\n",
        "Counter({'first_call-load_image': 1, 'last_call-thread': 1})"
       ]
      },
      {
       "output_type": "stream",
       "stream": "stdout",
       "text": [
        "\n",
        "Counter({'first_call-load_image': 1, 'last_call-kill_process': 1})\n",
        "Counter({'first_call-load_image': 1, 'last_call-kill_process': 1})\n",
        "Counter({'first_call-load_image': 1, 'last_call-kill_process': 1})\n",
        "Counter({'first_call-load_image': 1, 'last_call-enum_window': 1})"
       ]
      },
      {
       "output_type": "stream",
       "stream": "stdout",
       "text": [
        "\n",
        "Counter({'first_call-load_image': 1, 'last_call-thread': 1})\n",
        "Counter({'first_call-load_image': 1, 'last_call-kill_process': 1})"
       ]
      },
      {
       "output_type": "stream",
       "stream": "stdout",
       "text": [
        "\n",
        "Counter({'first_call-load_image': 1, 'last_call-kill_process': 1})\n",
        "Counter({'first_call-load_image': 1, 'last_call-thread': 1})\n",
        "Counter({'first_call-load_image': 1, 'last_call-kill_process': 1})\n",
        "Counter({'first_call-load_image': 1, 'last_call-load_dll': 1})\n",
        "Counter({'first_call-load_image': 1, 'last_call-kill_process': 1})\n",
        "Counter({'first_call-load_image': 1, 'last_call-kill_process': 1})"
       ]
      },
      {
       "output_type": "stream",
       "stream": "stdout",
       "text": [
        "\n",
        "Counter({'first_call-load_image': 1, 'last_call-open_process': 1})\n",
        "Counter({'first_call-load_image': 1, 'last_call-load_dll': 1})\n",
        "Counter({'first_call-load_image': 1, 'last_call-load_dll': 1})"
       ]
      },
      {
       "output_type": "stream",
       "stream": "stdout",
       "text": [
        "\n",
        "Counter({'first_call-load_image': 1, 'last_call-thread': 1})\n",
        "Counter({'first_call-load_image': 1, 'last_call-kill_process': 1})\n",
        "Counter({'first_call-load_image': 1, 'last_call-process': 1})\n",
        "Counter({'first_call-load_image': 1, 'last_call-kill_process': 1})\n",
        "Counter({'first_call-load_image': 1, 'last_call-enum_window': 1})"
       ]
      },
      {
       "output_type": "stream",
       "stream": "stdout",
       "text": [
        "\n",
        "Counter({'first_call-load_image': 1, 'last_call-load_dll': 1})\n",
        "Counter({'first_call-load_image': 1, 'last_call-thread': 1})"
       ]
      },
      {
       "output_type": "stream",
       "stream": "stdout",
       "text": [
        "\n",
        "Counter({'first_call-load_image': 1, 'last_call-enum_window': 1})\n",
        "Counter({'first_call-load_image': 1, 'last_call-kill_process': 1})\n",
        "Counter({'first_call-load_image': 1, 'last_call-process': 1})\n",
        "Counter({'first_call-load_image': 1, 'last_call-kill_process': 1})\n",
        "Counter({'first_call-load_image': 1, 'last_call-thread': 1})"
       ]
      },
      {
       "output_type": "stream",
       "stream": "stdout",
       "text": [
        "\n",
        "Counter({'first_call-load_image': 1, 'last_call-load_dll': 1})\n",
        "Counter({'first_call-load_image': 1, 'last_call-enum_window': 1})\n",
        "Counter({'first_call-load_image': 1, 'last_call-enum_window': 1})\n",
        "Counter({'first_call-load_image': 1, 'last_call-thread': 1})"
       ]
      },
      {
       "output_type": "stream",
       "stream": "stdout",
       "text": [
        "\n",
        "Counter({'first_call-load_image': 1, 'last_call-process': 1})\n",
        "Counter({'first_call-load_image': 1, 'last_call-thread': 1})\n",
        "Counter({'first_call-load_image': 1, 'last_call-process': 1})"
       ]
      },
      {
       "output_type": "stream",
       "stream": "stdout",
       "text": [
        "\n",
        "Counter({'first_call-load_image': 1, 'last_call-kill_process': 1})\n",
        "Counter({'first_call-load_image': 1, 'last_call-enum_window': 1})\n",
        "Counter({'first_call-load_image': 1, 'last_call-kill_process': 1})\n",
        "Counter({'first_call-load_image': 1, 'last_call-enum_window': 1})\n",
        "Counter({'first_call-load_image': 1, 'last_call-thread': 1})\n",
        "Counter({'first_call-load_image': 1, 'last_call-kill_process': 1})\n",
        "Counter({'first_call-load_image': 1, 'last_call-sleep': 1})"
       ]
      },
      {
       "output_type": "stream",
       "stream": "stdout",
       "text": [
        "\n",
        "Counter({'first_call-load_image': 1, 'last_call-kill_process': 1})\n",
        "Counter({'first_call-load_image': 1, 'last_call-thread': 1})\n",
        "Counter({'first_call-load_image': 1, 'last_call-process': 1})"
       ]
      },
      {
       "output_type": "stream",
       "stream": "stdout",
       "text": [
        "\n",
        "Counter({'first_call-load_image': 1, 'last_call-kill_process': 1})"
       ]
      },
      {
       "output_type": "stream",
       "stream": "stdout",
       "text": [
        "\n",
        "Counter({'first_call-load_image': 1, 'last_call-process': 1})\n",
        "Counter({'first_call-load_image': 1, 'last_call-process': 1})\n",
        "Counter({'first_call-load_image': 1, 'last_call-thread': 1})\n",
        "Counter({'first_call-load_image': 1, 'last_call-kill_process': 1})"
       ]
      },
      {
       "output_type": "stream",
       "stream": "stdout",
       "text": [
        "\n",
        "Counter({'first_call-load_image': 1, 'last_call-enum_window': 1})\n",
        "Counter({'first_call-load_image': 1, 'last_call-kill_process': 1})\n",
        "Counter({'first_call-load_image': 1, 'last_call-kill_process': 1})\n",
        "Counter({'first_call-load_image': 1, 'last_call-enum_window': 1})\n",
        "Counter({'first_call-load_image': 1, 'last_call-load_dll': 1})"
       ]
      },
      {
       "output_type": "stream",
       "stream": "stdout",
       "text": [
        "\n",
        "Counter({'first_call-load_image': 1, 'last_call-thread': 1})"
       ]
      },
      {
       "output_type": "stream",
       "stream": "stdout",
       "text": [
        "\n",
        "Counter({'first_call-load_image': 1, 'last_call-kill_process': 1})"
       ]
      },
      {
       "output_type": "stream",
       "stream": "stdout",
       "text": [
        "\n",
        "Counter({'first_call-load_image': 1, 'last_call-kill_process': 1})\n",
        "Counter({'first_call-load_image': 1, 'last_call-enum_window': 1})\n",
        "Counter({'first_call-load_image': 1, 'last_call-thread': 1})\n",
        "Counter({'first_call-load_image': 1, 'last_call-kill_process': 1})\n",
        "Counter({'first_call-load_image': 1, 'last_call-enum_window': 1})\n",
        "Counter({'first_call-load_image': 1, 'last_call-thread': 1})"
       ]
      },
      {
       "output_type": "stream",
       "stream": "stdout",
       "text": [
        "\n",
        "Counter({'first_call-load_image': 1, 'last_call-thread': 1})\n",
        "Counter({'first_call-load_image': 1, 'last_call-enum_window': 1})\n",
        "Counter({'first_call-load_image': 1, 'last_call-process': 1})"
       ]
      },
      {
       "output_type": "stream",
       "stream": "stdout",
       "text": [
        "\n",
        "Counter({'first_call-load_image': 1, 'last_call-listen_socket': 1})\n",
        "Counter({'first_call-load_image': 1, 'last_call-enum_window': 1})\n",
        "Counter({'first_call-load_image': 1, 'last_call-thread': 1})\n",
        "Counter({'first_call-load_image': 1, 'last_call-thread': 1})\n",
        "Counter({'first_call-load_image': 1, 'last_call-thread': 1})\n",
        "Counter({'first_call-load_image': 1, 'last_call-thread': 1})"
       ]
      },
      {
       "output_type": "stream",
       "stream": "stdout",
       "text": [
        "\n",
        "Counter({'first_call-load_image': 1, 'last_call-process': 1})\n",
        "Counter({'first_call-load_image': 1, 'last_call-kill_process': 1})\n",
        "Counter({'first_call-load_image': 1, 'last_call-enum_window': 1})\n",
        "Counter({'first_call-load_image': 1, 'last_call-thread': 1})\n",
        "Counter({'first_call-load_image': 1, 'last_call-sleep': 1})"
       ]
      },
      {
       "output_type": "stream",
       "stream": "stdout",
       "text": [
        "\n",
        "Counter({'first_call-load_image': 1, 'last_call-load_dll': 1})"
       ]
      },
      {
       "output_type": "stream",
       "stream": "stdout",
       "text": [
        "\n",
        "Counter({'first_call-load_image': 1, 'last_call-kill_process': 1})\n",
        "Counter({'first_call-load_image': 1, 'last_call-enum_window': 1})\n",
        "Counter({'first_call-load_image': 1, 'last_call-kill_process': 1})\n",
        "Counter({'first_call-load_image': 1, 'last_call-thread': 1})"
       ]
      },
      {
       "output_type": "stream",
       "stream": "stdout",
       "text": [
        "\n",
        "Counter({'first_call-load_image': 1, 'last_call-kill_process': 1})\n",
        "Counter({'first_call-load_image': 1, 'last_call-load_dll': 1})"
       ]
      },
      {
       "output_type": "stream",
       "stream": "stdout",
       "text": [
        "\n",
        "Counter({'first_call-load_image': 1, 'last_call-kill_process': 1})\n",
        "Counter({'first_call-load_image': 1, 'last_call-kill_process': 1})\n",
        "Counter({'first_call-load_image': 1, 'last_call-process': 1})\n",
        "Counter({'first_call-load_image': 1, 'last_call-enum_window': 1})"
       ]
      },
      {
       "output_type": "stream",
       "stream": "stdout",
       "text": [
        "\n",
        "Counter({'first_call-load_image': 1, 'last_call-thread': 1})\n",
        "Counter({'first_call-load_image': 1, 'last_call-load_dll': 1})"
       ]
      },
      {
       "output_type": "stream",
       "stream": "stdout",
       "text": [
        "\n",
        "Counter({'first_call-load_image': 1, 'last_call-enum_window': 1})\n",
        "Counter({'first_call-load_image': 1, 'last_call-load_dll': 1})"
       ]
      },
      {
       "output_type": "stream",
       "stream": "stdout",
       "text": [
        "\n",
        "Counter({'first_call-load_image': 1, 'last_call-thread': 1})\n",
        "Counter({'first_call-load_image': 1, 'last_call-thread': 1})\n",
        "Counter({'first_call-load_image': 1, 'last_call-open_process': 1})\n",
        "Counter({'first_call-load_image': 1, 'last_call-kill_process': 1})"
       ]
      },
      {
       "output_type": "stream",
       "stream": "stdout",
       "text": [
        "\n",
        "Counter({'first_call-load_image': 1, 'last_call-enum_window': 1})\n",
        "Counter({'first_call-load_image': 1, 'last_call-kill_process': 1})\n",
        "Counter({'first_call-load_image': 1, 'last_call-enum_window': 1})\n",
        "Counter({'first_call-load_image': 1, 'last_call-thread': 1})\n",
        "Counter({'first_call-load_image': 1, 'last_call-thread': 1})"
       ]
      },
      {
       "output_type": "stream",
       "stream": "stdout",
       "text": [
        "\n",
        "Counter({'first_call-load_image': 1, 'last_call-thread': 1})\n",
        "Counter({'first_call-load_image': 1, 'last_call-enum_window': 1})"
       ]
      },
      {
       "output_type": "stream",
       "stream": "stdout",
       "text": [
        "\n",
        "Counter({'first_call-load_image': 1, 'last_call-enum_window': 1})\n",
        "Counter({'first_call-load_image': 1, 'last_call-kill_process': 1})\n",
        "Counter({'first_call-load_image': 1, 'last_call-show_window': 1})\n",
        "Counter({'first_call-load_image': 1, 'last_call-kill_process': 1})"
       ]
      },
      {
       "output_type": "stream",
       "stream": "stdout",
       "text": [
        "\n",
        "Counter({'first_call-load_image': 1, 'last_call-kill_process': 1})\n",
        "Counter({'first_call-load_image': 1, 'last_call-enum_window': 1})\n",
        "Counter({'first_call-load_image': 1, 'last_call-kill_process': 1})\n",
        "Counter({'first_call-load_image': 1, 'last_call-enum_window': 1})"
       ]
      },
      {
       "output_type": "stream",
       "stream": "stdout",
       "text": [
        "\n",
        "Counter({'first_call-load_image': 1, 'last_call-kill_process': 1})\n",
        "Counter({'first_call-load_image': 1, 'last_call-kill_process': 1})\n",
        "Counter({'first_call-load_image': 1, 'last_call-process': 1})"
       ]
      },
      {
       "output_type": "stream",
       "stream": "stdout",
       "text": [
        "\n",
        "Counter({'first_call-load_image': 1, 'last_call-kill_process': 1})\n",
        "Counter({'first_call-load_image': 1, 'last_call-load_dll': 1})\n",
        "Counter({'first_call-load_image': 1, 'last_call-thread': 1})\n",
        "Counter({'first_call-load_image': 1, 'last_call-thread': 1})"
       ]
      },
      {
       "output_type": "stream",
       "stream": "stdout",
       "text": [
        "\n",
        "Counter({'first_call-load_image': 1, 'last_call-enum_window': 1})\n",
        "Counter({'first_call-load_image': 1, 'last_call-load_dll': 1})\n",
        "Counter({'first_call-load_image': 1, 'last_call-thread': 1})\n",
        "Counter({'first_call-load_image': 1, 'last_call-thread': 1})"
       ]
      },
      {
       "output_type": "stream",
       "stream": "stdout",
       "text": [
        "\n",
        "Counter({'first_call-load_image': 1, 'last_call-kill_process': 1})"
       ]
      },
      {
       "output_type": "stream",
       "stream": "stdout",
       "text": [
        "\n",
        "Counter({'first_call-load_image': 1, 'last_call-kill_process': 1})\n",
        "Counter({'first_call-load_image': 1, 'last_call-thread': 1})\n",
        "Counter({'first_call-load_image': 1, 'last_call-enum_window': 1})\n",
        "Counter({'first_call-load_image': 1, 'last_call-thread': 1})"
       ]
      },
      {
       "output_type": "stream",
       "stream": "stdout",
       "text": [
        "\n",
        "Counter({'first_call-load_image': 1, 'last_call-enum_window': 1})\n",
        "Counter({'first_call-load_image': 1, 'last_call-thread': 1})\n",
        "Counter({'first_call-load_image': 1, 'last_call-thread': 1})"
       ]
      },
      {
       "output_type": "stream",
       "stream": "stdout",
       "text": [
        "\n",
        "Counter({'first_call-load_image': 1, 'last_call-enum_window': 1})\n",
        "Counter({'first_call-load_image': 1, 'last_call-thread': 1})\n",
        "Counter({'first_call-load_image': 1, 'last_call-thread': 1})\n",
        "Counter({'first_call-load_image': 1, 'last_call-thread': 1})"
       ]
      },
      {
       "output_type": "stream",
       "stream": "stdout",
       "text": [
        "\n",
        "Counter({'first_call-load_image': 1, 'last_call-process': 1})\n",
        "Counter({'first_call-load_image': 1, 'last_call-thread': 1})\n",
        "Counter({'first_call-load_image': 1, 'last_call-kill_process': 1})\n",
        "Counter({'first_call-load_image': 1, 'last_call-enum_window': 1})\n",
        "Counter({'first_call-load_image': 1, 'last_call-kill_process': 1})"
       ]
      },
      {
       "output_type": "stream",
       "stream": "stdout",
       "text": [
        "\n",
        "Counter({'first_call-load_image': 1, 'last_call-kill_process': 1})\n",
        "Counter({'first_call-load_image': 1, 'last_call-load_dll': 1})\n",
        "Counter({'first_call-load_image': 1, 'last_call-thread': 1})\n",
        "Counter({'first_call-load_image': 1, 'last_call-thread': 1})"
       ]
      },
      {
       "output_type": "stream",
       "stream": "stdout",
       "text": [
        "\n",
        "Counter({'first_call-load_image': 1, 'last_call-thread': 1})"
       ]
      },
      {
       "output_type": "stream",
       "stream": "stdout",
       "text": [
        "\n",
        "Counter({'first_call-load_image': 1, 'last_call-get_system_directory': 1})\n",
        "Counter({'first_call-load_image': 1, 'last_call-thread': 1})\n",
        "Counter({'first_call-load_image': 1, 'last_call-load_dll': 1})\n",
        "Counter({'first_call-load_image': 1, 'last_call-thread': 1})\n",
        "Counter({'first_call-load_image': 1, 'last_call-thread': 1})\n",
        "Counter({'first_call-load_image': 1, 'last_call-process': 1})"
       ]
      },
      {
       "output_type": "stream",
       "stream": "stdout",
       "text": [
        "\n",
        "Counter({'first_call-load_image': 1, 'last_call-enum_window': 1})"
       ]
      },
      {
       "output_type": "stream",
       "stream": "stdout",
       "text": [
        "\n",
        "Counter({'first_call-load_image': 1, 'last_call-kill_process': 1})\n",
        "Counter({'first_call-load_image': 1, 'last_call-enum_window': 1})\n",
        "Counter({'first_call-load_image': 1, 'last_call-kill_process': 1})\n",
        "Counter({'first_call-load_image': 1, 'last_call-kill_process': 1})"
       ]
      },
      {
       "output_type": "stream",
       "stream": "stdout",
       "text": [
        "\n",
        "Counter({'first_call-load_image': 1, 'last_call-enum_window': 1})"
       ]
      },
      {
       "output_type": "stream",
       "stream": "stdout",
       "text": [
        "\n",
        "Counter({'first_call-load_image': 1, 'last_call-thread': 1})\n",
        "Counter({'first_call-load_image': 1, 'last_call-kill_process': 1})\n",
        "Counter({'first_call-load_image': 1, 'last_call-kill_process': 1})\n",
        "Counter({'first_call-load_image': 1, 'last_call-kill_process': 1})"
       ]
      },
      {
       "output_type": "stream",
       "stream": "stdout",
       "text": [
        "\n",
        "Counter({'first_call-load_image': 1, 'last_call-thread': 1})\n",
        "Counter({'first_call-load_image': 1, 'last_call-sleep': 1})"
       ]
      },
      {
       "output_type": "stream",
       "stream": "stdout",
       "text": [
        "\n",
        "Counter({'first_call-load_image': 1, 'last_call-kill_process': 1})"
       ]
      },
      {
       "output_type": "stream",
       "stream": "stdout",
       "text": [
        "\n",
        "Counter({'first_call-load_image': 1, 'last_call-enum_window': 1})\n",
        "Counter({'first_call-load_image': 1, 'last_call-enum_window': 1})\n",
        "Counter({'first_call-load_image': 1, 'last_call-kill_process': 1})\n",
        "Counter({'first_call-load_image': 1, 'last_call-thread': 1})"
       ]
      },
      {
       "output_type": "stream",
       "stream": "stdout",
       "text": [
        "\n",
        "Counter({'first_call-load_image': 1, 'last_call-load_dll': 1})"
       ]
      },
      {
       "output_type": "stream",
       "stream": "stdout",
       "text": [
        "\n",
        "Counter({'first_call-load_image': 1, 'last_call-kill_process': 1})\n",
        "Counter({'first_call-load_image': 1, 'last_call-enum_window': 1})\n",
        "Counter({'first_call-load_image': 1, 'last_call-thread': 1})\n",
        "Counter({'first_call-load_image': 1, 'last_call-kill_process': 1})\n",
        "Counter({'first_call-load_image': 1, 'last_call-thread': 1})\n",
        "Counter({'first_call-load_image': 1, 'last_call-kill_process': 1})\n",
        "Counter({'first_call-load_image': 1, 'last_call-kill_process': 1})"
       ]
      },
      {
       "output_type": "stream",
       "stream": "stdout",
       "text": [
        "\n",
        "Counter({'first_call-load_image': 1, 'last_call-process': 1})\n",
        "Counter({'first_call-load_image': 1, 'last_call-kill_process': 1})\n",
        "Counter({'first_call-load_image': 1, 'last_call-enum_window': 1})"
       ]
      },
      {
       "output_type": "stream",
       "stream": "stdout",
       "text": [
        "\n",
        "Counter({'first_call-load_image': 1, 'last_call-enum_window': 1})\n",
        "Counter({'first_call-load_image': 1, 'last_call-enum_window': 1})\n",
        "Counter({'first_call-load_image': 1, 'last_call-kill_process': 1})"
       ]
      },
      {
       "output_type": "stream",
       "stream": "stdout",
       "text": [
        "\n",
        "Counter({'first_call-load_image': 1, 'last_call-load_dll': 1})\n",
        "Counter({'first_call-load_image': 1, 'last_call-load_dll': 1})\n",
        "Counter({'first_call-load_image': 1, 'last_call-enum_window': 1})"
       ]
      },
      {
       "output_type": "stream",
       "stream": "stdout",
       "text": [
        "\n",
        "Counter({'first_call-load_image': 1, 'last_call-enum_window': 1})\n",
        "Counter({'first_call-load_image': 1, 'last_call-kill_process': 1})\n",
        "Counter({'first_call-load_image': 1, 'last_call-kill_process': 1})"
       ]
      },
      {
       "output_type": "stream",
       "stream": "stdout",
       "text": [
        "\n",
        "Counter({'first_call-load_image': 1, 'last_call-kill_process': 1})\n",
        "Counter({'first_call-load_image': 1, 'last_call-thread': 1})"
       ]
      },
      {
       "output_type": "stream",
       "stream": "stdout",
       "text": [
        "\n",
        "Counter({'first_call-load_image': 1, 'last_call-thread': 1})"
       ]
      },
      {
       "output_type": "stream",
       "stream": "stdout",
       "text": [
        "\n",
        "Counter({'first_call-load_image': 1, 'last_call-enum_window': 1})\n",
        "Counter({'first_call-load_image': 1, 'last_call-kill_process': 1})\n",
        "Counter({'first_call-load_image': 1, 'last_call-kill_process': 1})\n",
        "Counter({'first_call-load_image': 1, 'last_call-enum_window': 1})\n",
        "Counter({'first_call-load_image': 1, 'last_call-kill_process': 1})"
       ]
      },
      {
       "output_type": "stream",
       "stream": "stdout",
       "text": [
        "\n",
        "Counter({'first_call-load_image': 1, 'last_call-enum_window': 1})\n",
        "Counter({'first_call-load_image': 1, 'last_call-enum_window': 1})\n",
        "Counter({'first_call-load_image': 1, 'last_call-load_dll': 1})\n",
        "Counter({'first_call-load_image': 1, 'last_call-thread': 1})\n",
        "Counter({'first_call-load_image': 1, 'last_call-kill_process': 1})"
       ]
      },
      {
       "output_type": "stream",
       "stream": "stdout",
       "text": [
        "\n",
        "Counter({'first_call-load_image': 1, 'last_call-thread': 1})"
       ]
      },
      {
       "output_type": "stream",
       "stream": "stdout",
       "text": [
        "\n",
        "Counter({'first_call-load_image': 1, 'last_call-enum_window': 1})"
       ]
      },
      {
       "output_type": "stream",
       "stream": "stdout",
       "text": [
        "\n",
        "Counter({'first_call-load_image': 1, 'last_call-kill_process': 1})\n",
        "Counter({'first_call-load_image': 1, 'last_call-kill_process': 1})\n",
        "Counter({'first_call-load_image': 1, 'last_call-enum_window': 1})\n",
        "Counter({'first_call-load_image': 1, 'last_call-kill_process': 1})\n",
        "Counter({'first_call-load_image': 1, 'last_call-enum_window': 1})\n",
        "Counter({'first_call-load_image': 1, 'last_call-kill_process': 1})\n",
        "Counter({'first_call-load_image': 1, 'last_call-enum_window': 1})\n",
        "Counter({'first_call-load_image': 1, 'last_call-thread': 1})\n",
        "Counter({'first_call-load_image': 1, 'last_call-thread': 1})"
       ]
      },
      {
       "output_type": "stream",
       "stream": "stdout",
       "text": [
        "\n",
        "Counter({'first_call-load_image': 1, 'last_call-thread': 1})"
       ]
      },
      {
       "output_type": "stream",
       "stream": "stdout",
       "text": [
        "\n",
        "Counter({'first_call-load_image': 1, 'last_call-thread': 1})"
       ]
      },
      {
       "output_type": "stream",
       "stream": "stdout",
       "text": [
        "\n",
        "Counter({'first_call-load_image': 1, 'last_call-kill_process': 1})"
       ]
      },
      {
       "output_type": "stream",
       "stream": "stdout",
       "text": [
        "\n",
        "Counter({'first_call-load_image': 1, 'last_call-enum_window': 1})\n",
        "Counter({'first_call-load_image': 1, 'last_call-load_dll': 1})\n",
        "Counter({'first_call-load_image': 1, 'last_call-enum_window': 1})\n",
        "Counter({'first_call-load_image': 1, 'last_call-kill_process': 1})\n",
        "Counter({'first_call-load_image': 1, 'last_call-kill_process': 1})\n",
        "Counter({'first_call-load_image': 1, 'last_call-thread': 1})"
       ]
      },
      {
       "output_type": "stream",
       "stream": "stdout",
       "text": [
        "\n",
        "Counter({'first_call-load_image': 1, 'last_call-process': 1})"
       ]
      },
      {
       "output_type": "stream",
       "stream": "stdout",
       "text": [
        "\n",
        "Counter({'first_call-load_image': 1, 'last_call-enum_window': 1})\n",
        "Counter({'first_call-load_image': 1, 'last_call-kill_process': 1})\n",
        "Counter({'first_call-load_image': 1, 'last_call-kill_process': 1})\n",
        "Counter({'first_call-load_image': 1, 'last_call-enum_window': 1})\n",
        "Counter({'first_call-load_image': 1, 'last_call-kill_process': 1})"
       ]
      },
      {
       "output_type": "stream",
       "stream": "stdout",
       "text": [
        "\n",
        "Counter({'first_call-load_image': 1, 'last_call-thread': 1})"
       ]
      },
      {
       "output_type": "stream",
       "stream": "stdout",
       "text": [
        "\n",
        "Counter({'first_call-load_image': 1, 'last_call-query_value': 1})"
       ]
      },
      {
       "output_type": "stream",
       "stream": "stdout",
       "text": [
        "\n",
        "Counter({'first_call-load_image': 1, 'last_call-kill_process': 1})"
       ]
      },
      {
       "output_type": "stream",
       "stream": "stdout",
       "text": [
        "\n",
        "Counter({'first_call-load_image': 1, 'last_call-thread': 1})\n",
        "Counter({'first_call-load_image': 1, 'last_call-kill_process': 1})"
       ]
      },
      {
       "output_type": "stream",
       "stream": "stdout",
       "text": [
        "\n",
        "Counter({'first_call-load_image': 1, 'last_call-thread': 1})"
       ]
      },
      {
       "output_type": "stream",
       "stream": "stdout",
       "text": [
        "\n",
        "Counter({'first_call-load_image': 1, 'last_call-load_dll': 1})"
       ]
      },
      {
       "output_type": "stream",
       "stream": "stdout",
       "text": [
        "\n",
        "Counter({'first_call-load_image': 1, 'last_call-thread': 1})\n",
        "Counter({'first_call-load_image': 1, 'last_call-sleep': 1})"
       ]
      },
      {
       "output_type": "stream",
       "stream": "stdout",
       "text": [
        "\n",
        "Counter({'first_call-load_image': 1, 'last_call-set_windows_hook': 1})"
       ]
      },
      {
       "output_type": "stream",
       "stream": "stdout",
       "text": [
        "\n",
        "Counter({'first_call-load_image': 1, 'last_call-kill_process': 1})\n",
        "Counter({'first_call-load_image': 1, 'last_call-thread': 1})\n",
        "Counter({'first_call-load_image': 1, 'last_call-thread': 1})"
       ]
      },
      {
       "output_type": "stream",
       "stream": "stdout",
       "text": [
        "\n",
        "Counter({'first_call-load_image': 1, 'last_call-process': 1})\n",
        "Counter({'first_call-load_image': 1, 'last_call-enum_window': 1})\n",
        "Counter({'first_call-load_image': 1, 'last_call-thread': 1})"
       ]
      },
      {
       "output_type": "stream",
       "stream": "stdout",
       "text": [
        "\n",
        "Counter({'first_call-load_image': 1, 'last_call-thread': 1})\n",
        "Counter({'first_call-load_image': 1, 'last_call-enum_window': 1})"
       ]
      },
      {
       "output_type": "stream",
       "stream": "stdout",
       "text": [
        "\n",
        "Counter({'first_call-load_image': 1, 'last_call-process': 1})\n",
        "Counter({'first_call-load_image': 1, 'last_call-thread': 1})\n",
        "Counter({'first_call-load_image': 1, 'last_call-kill_process': 1})"
       ]
      },
      {
       "output_type": "stream",
       "stream": "stdout",
       "text": [
        "\n",
        "Counter({'first_call-load_image': 1, 'last_call-thread': 1})"
       ]
      },
      {
       "output_type": "stream",
       "stream": "stdout",
       "text": [
        "\n"
       ]
      }
     ],
     "prompt_number": 6
    },
    {
     "cell_type": "code",
     "collapsed": false,
     "input": [
      "test_dir=\"test\"\n",
      "ffs = [first_last_system_call_feats, system_call_count_feats]\n",
      "X_test,global_feat_dict,t_test,test_ids=extract_feats(ffs,test_dir)"
     ],
     "language": "python",
     "metadata": {},
     "outputs": [
      {
       "output_type": "stream",
       "stream": "stdout",
       "text": [
        "Counter({'first_call-load_image': 1, 'last_call-kill_process': 1})\n",
        "Counter({'first_call-load_image': 1, 'last_call-thread': 1})\n",
        "Counter({'first_call-load_image': 1, 'last_call-thread': 1})\n",
        "Counter({'first_call-load_image': 1, 'last_call-thread': 1})\n",
        "Counter({'first_call-load_image': 1, 'last_call-enum_window': 1})\n",
        "Counter({'first_call-load_image': 1, 'last_call-thread': 1})\n",
        "Counter({'first_call-load_image': 1, 'last_call-thread': 1})"
       ]
      },
      {
       "output_type": "stream",
       "stream": "stdout",
       "text": [
        "\n",
        "Counter({'first_call-load_image': 1, 'last_call-kill_process': 1})"
       ]
      },
      {
       "output_type": "stream",
       "stream": "stdout",
       "text": [
        "\n",
        "Counter({'first_call-load_image': 1, 'last_call-enum_window': 1})\n",
        "Counter({'first_call-load_image': 1, 'last_call-dump_line': 1})\n",
        "Counter({'first_call-load_image': 1, 'last_call-enum_window': 1})\n",
        "Counter({'first_call-load_image': 1, 'last_call-kill_process': 1})\n",
        "Counter({'first_call-load_image': 1, 'last_call-enum_window': 1})\n",
        "Counter({'first_call-load_image': 1, 'last_call-process': 1})\n",
        "Counter({'first_call-load_image': 1, 'last_call-load_dll': 1})\n",
        "Counter({'first_call-load_image': 1, 'last_call-enum_window': 1})\n",
        "Counter({'first_call-load_image': 1, 'last_call-thread': 1})"
       ]
      },
      {
       "output_type": "stream",
       "stream": "stdout",
       "text": [
        "\n",
        "Counter({'first_call-load_image': 1, 'last_call-open_process': 1})\n",
        "Counter({'first_call-load_image': 1, 'last_call-create_thread': 1})\n",
        "Counter({'first_call-load_image': 1, 'last_call-enum_window': 1})\n",
        "Counter({'first_call-load_image': 1, 'last_call-kill_process': 1})\n",
        "Counter({'first_call-load_image': 1, 'last_call-enum_window': 1})\n",
        "Counter({'first_call-load_image': 1, 'last_call-thread': 1})"
       ]
      },
      {
       "output_type": "stream",
       "stream": "stdout",
       "text": [
        "\n",
        "Counter({'first_call-load_image': 1, 'last_call-thread': 1})"
       ]
      },
      {
       "output_type": "stream",
       "stream": "stdout",
       "text": [
        "\n",
        "Counter({'first_call-load_image': 1, 'last_call-thread': 1})"
       ]
      },
      {
       "output_type": "stream",
       "stream": "stdout",
       "text": [
        "\n",
        "Counter({'first_call-load_image': 1, 'last_call-enum_window': 1})\n",
        "Counter({'first_call-load_image': 1, 'last_call-kill_process': 1})\n",
        "Counter({'first_call-load_image': 1, 'last_call-enum_window': 1})\n",
        "Counter({'first_call-load_image': 1, 'last_call-thread': 1})\n",
        "Counter({'first_call-load_image': 1, 'last_call-thread': 1})"
       ]
      },
      {
       "output_type": "stream",
       "stream": "stdout",
       "text": [
        "\n",
        "Counter({'first_call-load_image': 1, 'last_call-enum_window': 1})"
       ]
      },
      {
       "output_type": "stream",
       "stream": "stdout",
       "text": [
        "\n",
        "Counter({'first_call-load_image': 1, 'last_call-get_system_directory': 1})\n",
        "Counter({'first_call-load_image': 1, 'last_call-thread': 1})"
       ]
      },
      {
       "output_type": "stream",
       "stream": "stdout",
       "text": [
        "\n",
        "Counter({'first_call-load_image': 1, 'last_call-thread': 1})"
       ]
      },
      {
       "output_type": "stream",
       "stream": "stdout",
       "text": [
        "\n",
        "Counter({'first_call-load_image': 1, 'last_call-kill_process': 1})\n",
        "Counter({'first_call-load_image': 1, 'last_call-kill_process': 1})\n",
        "Counter({'first_call-load_image': 1, 'last_call-check_for_debugger': 1})\n",
        "Counter({'first_call-load_image': 1, 'last_call-enum_window': 1})"
       ]
      },
      {
       "output_type": "stream",
       "stream": "stdout",
       "text": [
        "\n",
        "Counter({'first_call-load_image': 1, 'last_call-enum_window': 1})\n",
        "Counter({'first_call-load_image': 1, 'last_call-enum_window': 1})\n",
        "Counter({'first_call-load_image': 1, 'last_call-kill_process': 1})\n",
        "Counter({'first_call-load_image': 1, 'last_call-kill_process': 1})\n",
        "Counter({'first_call-load_image': 1, 'last_call-kill_process': 1})\n",
        "Counter({'first_call-load_image': 1, 'last_call-kill_process': 1})\n",
        "Counter({'first_call-load_image': 1, 'last_call-thread': 1})\n",
        "Counter({'first_call-load_image': 1, 'last_call-thread': 1})\n",
        "Counter({'first_call-load_image': 1, 'last_call-query_value': 1})"
       ]
      },
      {
       "output_type": "stream",
       "stream": "stdout",
       "text": [
        "\n",
        "Counter({'first_call-load_image': 1, 'last_call-thread': 1})"
       ]
      },
      {
       "output_type": "stream",
       "stream": "stdout",
       "text": [
        "\n",
        "Counter({'first_call-load_image': 1, 'last_call-thread': 1})"
       ]
      },
      {
       "output_type": "stream",
       "stream": "stdout",
       "text": [
        "\n",
        "Counter({'first_call-load_image': 1, 'last_call-load_dll': 1})"
       ]
      },
      {
       "output_type": "stream",
       "stream": "stdout",
       "text": [
        "\n",
        "Counter({'first_call-load_image': 1, 'last_call-process': 1})\n",
        "Counter({'first_call-load_image': 1, 'last_call-thread': 1})"
       ]
      },
      {
       "output_type": "stream",
       "stream": "stdout",
       "text": [
        "\n",
        "Counter({'first_call-load_image': 1, 'last_call-enum_window': 1})"
       ]
      },
      {
       "output_type": "stream",
       "stream": "stdout",
       "text": [
        "\n",
        "Counter({'first_call-load_image': 1, 'last_call-thread': 1})"
       ]
      },
      {
       "output_type": "stream",
       "stream": "stdout",
       "text": [
        "\n",
        "Counter({'first_call-load_image': 1, 'last_call-kill_process': 1})"
       ]
      },
      {
       "output_type": "stream",
       "stream": "stdout",
       "text": [
        "\n",
        "Counter({'first_call-load_image': 1, 'last_call-thread': 1})"
       ]
      },
      {
       "output_type": "stream",
       "stream": "stdout",
       "text": [
        "\n",
        "Counter({'first_call-load_image': 1, 'last_call-thread': 1})"
       ]
      },
      {
       "output_type": "stream",
       "stream": "stdout",
       "text": [
        "\n",
        "Counter({'first_call-load_image': 1, 'last_call-thread': 1})\n",
        "Counter({'first_call-load_image': 1, 'last_call-kill_process': 1})\n",
        "Counter({'first_call-load_image': 1, 'last_call-thread': 1})\n",
        "Counter({'first_call-load_image': 1, 'last_call-enum_window': 1})\n",
        "Counter({'first_call-load_image': 1, 'last_call-enum_window': 1})\n",
        "Counter({'first_call-load_image': 1, 'last_call-load_dll': 1})"
       ]
      },
      {
       "output_type": "stream",
       "stream": "stdout",
       "text": [
        "\n",
        "Counter({'first_call-load_image': 1, 'last_call-thread': 1})\n",
        "Counter({'first_call-load_image': 1, 'last_call-check_for_debugger': 1})"
       ]
      },
      {
       "output_type": "stream",
       "stream": "stdout",
       "text": [
        "\n",
        "Counter({'first_call-load_image': 1, 'last_call-enum_window': 1})"
       ]
      },
      {
       "output_type": "stream",
       "stream": "stdout",
       "text": [
        "\n",
        "Counter({'first_call-load_image': 1, 'last_call-kill_process': 1})\n",
        "Counter({'first_call-load_image': 1, 'last_call-thread': 1})"
       ]
      },
      {
       "output_type": "stream",
       "stream": "stdout",
       "text": [
        "\n",
        "Counter({'first_call-load_image': 1, 'last_call-thread': 1})"
       ]
      },
      {
       "output_type": "stream",
       "stream": "stdout",
       "text": [
        "\n",
        "Counter({'first_call-load_image': 1, 'last_call-thread': 1})"
       ]
      },
      {
       "output_type": "stream",
       "stream": "stdout",
       "text": [
        "\n",
        "Counter({'first_call-load_image': 1, 'last_call-enum_window': 1})"
       ]
      },
      {
       "output_type": "stream",
       "stream": "stdout",
       "text": [
        "\n",
        "Counter({'first_call-load_image': 1, 'last_call-thread': 1})\n",
        "Counter({'first_call-load_image': 1, 'last_call-thread': 1})\n",
        "Counter({'first_call-load_image': 1, 'last_call-enum_window': 1})\n",
        "Counter({'first_call-load_image': 1, 'last_call-get_file_attributes': 1})\n",
        "Counter({'first_call-load_image': 1, 'last_call-kill_process': 1})\n",
        "Counter({'first_call-load_image': 1, 'last_call-thread': 1})\n",
        "Counter({'first_call-load_image': 1, 'last_call-sleep': 1})"
       ]
      },
      {
       "output_type": "stream",
       "stream": "stdout",
       "text": [
        "\n",
        "Counter({'first_call-load_image': 1, 'last_call-kill_process': 1})\n",
        "Counter({'first_call-load_image': 1, 'last_call-thread': 1})"
       ]
      },
      {
       "output_type": "stream",
       "stream": "stdout",
       "text": [
        "\n",
        "Counter({'first_call-load_image': 1, 'last_call-kill_process': 1})"
       ]
      },
      {
       "output_type": "stream",
       "stream": "stdout",
       "text": [
        "\n",
        "Counter({'first_call-load_image': 1, 'last_call-kill_process': 1})\n",
        "Counter({'first_call-load_image': 1, 'last_call-enum_window': 1})\n",
        "Counter({'first_call-load_image': 1, 'last_call-sleep': 1})\n",
        "Counter({'first_call-load_image': 1, 'last_call-thread': 1})"
       ]
      },
      {
       "output_type": "stream",
       "stream": "stdout",
       "text": [
        "\n",
        "Counter({'first_call-load_image': 1, 'last_call-kill_process': 1})"
       ]
      },
      {
       "output_type": "stream",
       "stream": "stdout",
       "text": [
        "\n",
        "Counter({'first_call-load_image': 1, 'last_call-kill_process': 1})\n",
        "Counter({'first_call-load_image': 1, 'last_call-thread': 1})\n",
        "Counter({'first_call-load_image': 1, 'last_call-set_value': 1})\n",
        "Counter({'first_call-load_image': 1, 'last_call-open_file': 1})\n",
        "Counter({'first_call-load_image': 1, 'last_call-enum_window': 1})\n",
        "Counter({'first_call-load_image': 1, 'last_call-kill_process': 1})"
       ]
      },
      {
       "output_type": "stream",
       "stream": "stdout",
       "text": [
        "\n",
        "Counter({'first_call-load_image': 1, 'last_call-kill_process': 1})\n",
        "Counter({'first_call-load_image': 1, 'last_call-process': 1})\n",
        "Counter({'first_call-load_image': 1, 'last_call-enum_window': 1})\n",
        "Counter({'first_call-load_image': 1, 'last_call-enum_window': 1})\n",
        "Counter({'first_call-load_image': 1, 'last_call-thread': 1})\n",
        "Counter({'first_call-load_image': 1, 'last_call-enum_window': 1})\n",
        "Counter({'first_call-load_image': 1, 'last_call-process': 1})"
       ]
      },
      {
       "output_type": "stream",
       "stream": "stdout",
       "text": [
        "\n",
        "Counter({'first_call-load_image': 1, 'last_call-enum_window': 1})\n",
        "Counter({'first_call-load_image': 1, 'last_call-enum_window': 1})\n",
        "Counter({'first_call-load_image': 1, 'last_call-kill_process': 1})"
       ]
      },
      {
       "output_type": "stream",
       "stream": "stdout",
       "text": [
        "\n",
        "Counter({'first_call-load_image': 1, 'last_call-enum_window': 1})\n",
        "Counter({'first_call-load_image': 1, 'last_call-kill_process': 1})\n",
        "Counter({'first_call-load_image': 1, 'last_call-enum_window': 1})\n",
        "Counter({'first_call-load_image': 1, 'last_call-kill_process': 1})\n",
        "Counter({'first_call-load_image': 1, 'last_call-enum_window': 1})\n",
        "Counter({'first_call-load_image': 1, 'last_call-thread': 1})"
       ]
      },
      {
       "output_type": "stream",
       "stream": "stdout",
       "text": [
        "\n",
        "Counter({'first_call-load_image': 1, 'last_call-load_dll': 1})\n",
        "Counter({'first_call-load_image': 1, 'last_call-load_dll': 1})"
       ]
      },
      {
       "output_type": "stream",
       "stream": "stdout",
       "text": [
        "\n",
        "Counter({'first_call-load_image': 1, 'last_call-thread': 1})"
       ]
      },
      {
       "output_type": "stream",
       "stream": "stdout",
       "text": [
        "\n",
        "Counter({'first_call-load_image': 1, 'last_call-enum_window': 1})"
       ]
      },
      {
       "output_type": "stream",
       "stream": "stdout",
       "text": [
        "\n",
        "Counter({'first_call-load_image': 1, 'last_call-thread': 1})"
       ]
      },
      {
       "output_type": "stream",
       "stream": "stdout",
       "text": [
        "\n",
        "Counter({'first_call-load_image': 1, 'last_call-thread': 1})"
       ]
      },
      {
       "output_type": "stream",
       "stream": "stdout",
       "text": [
        "\n",
        "Counter({'first_call-load_image': 1, 'last_call-load_dll': 1})"
       ]
      },
      {
       "output_type": "stream",
       "stream": "stdout",
       "text": [
        "\n",
        "Counter({'first_call-load_image': 1, 'last_call-kill_process': 1})\n",
        "Counter({'first_call-load_image': 1, 'last_call-enum_window': 1})\n",
        "Counter({'first_call-load_image': 1, 'last_call-enum_window': 1})"
       ]
      },
      {
       "output_type": "stream",
       "stream": "stdout",
       "text": [
        "\n",
        "Counter({'first_call-load_image': 1, 'last_call-process': 1})\n",
        "Counter({'first_call-load_image': 1, 'last_call-thread': 1})\n",
        "Counter({'first_call-load_image': 1, 'last_call-kill_process': 1})"
       ]
      },
      {
       "output_type": "stream",
       "stream": "stdout",
       "text": [
        "\n",
        "Counter({'first_call-load_image': 1, 'last_call-thread': 1})\n",
        "Counter({'first_call-load_image': 1, 'last_call-kill_process': 1})\n",
        "Counter({'first_call-load_image': 1, 'last_call-enum_window': 1})\n",
        "Counter({'first_call-load_image': 1, 'last_call-enum_window': 1})\n",
        "Counter({'first_call-load_image': 1, 'last_call-kill_process': 1})\n",
        "Counter({'first_call-load_image': 1, 'last_call-thread': 1})"
       ]
      },
      {
       "output_type": "stream",
       "stream": "stdout",
       "text": [
        "\n",
        "Counter({'first_call-load_image': 1, 'last_call-enum_window': 1})"
       ]
      },
      {
       "output_type": "stream",
       "stream": "stdout",
       "text": [
        "\n",
        "Counter({'first_call-load_image': 1, 'last_call-process': 1})\n",
        "Counter({'first_call-load_image': 1, 'last_call-thread': 1})\n",
        "Counter({'first_call-load_image': 1, 'last_call-thread': 1})\n",
        "Counter({'first_call-load_image': 1, 'last_call-enum_window': 1})"
       ]
      },
      {
       "output_type": "stream",
       "stream": "stdout",
       "text": [
        "\n",
        "Counter({'first_call-load_image': 1, 'last_call-kill_process': 1})\n",
        "Counter({'first_call-load_image': 1, 'last_call-process': 1})\n",
        "Counter({'first_call-load_image': 1, 'last_call-load_dll': 1})\n",
        "Counter({'first_call-load_image': 1, 'last_call-kill_process': 1})"
       ]
      },
      {
       "output_type": "stream",
       "stream": "stdout",
       "text": [
        "\n",
        "Counter({'first_call-load_image': 1, 'last_call-enum_window': 1})\n",
        "Counter({'first_call-load_image': 1, 'last_call-thread': 1})"
       ]
      },
      {
       "output_type": "stream",
       "stream": "stdout",
       "text": [
        "\n",
        "Counter({'first_call-load_image': 1, 'last_call-thread': 1})"
       ]
      },
      {
       "output_type": "stream",
       "stream": "stdout",
       "text": [
        "\n",
        "Counter({'first_call-load_image': 1, 'last_call-thread': 1})\n",
        "Counter({'first_call-load_image': 1, 'last_call-thread': 1})\n",
        "Counter({'first_call-load_image': 1, 'last_call-process': 1})\n",
        "Counter({'first_call-load_image': 1, 'last_call-thread': 1})\n",
        "Counter({'first_call-load_image': 1, 'last_call-thread': 1})"
       ]
      },
      {
       "output_type": "stream",
       "stream": "stdout",
       "text": [
        "\n",
        "Counter({'first_call-load_image': 1, 'last_call-kill_process': 1})\n",
        "Counter({'first_call-load_image': 1, 'last_call-thread': 1})"
       ]
      },
      {
       "output_type": "stream",
       "stream": "stdout",
       "text": [
        "\n",
        "Counter({'first_call-load_image': 1, 'last_call-process': 1})\n",
        "Counter({'first_call-load_image': 1, 'last_call-thread': 1})\n",
        "Counter({'first_call-load_image': 1, 'last_call-thread': 1})"
       ]
      },
      {
       "output_type": "stream",
       "stream": "stdout",
       "text": [
        "\n",
        "Counter({'first_call-load_image': 1, 'last_call-enum_window': 1})\n",
        "Counter({'first_call-load_image': 1, 'last_call-enum_window': 1})"
       ]
      },
      {
       "output_type": "stream",
       "stream": "stdout",
       "text": [
        "\n",
        "Counter({'first_call-load_image': 1, 'last_call-kill_process': 1})\n",
        "Counter({'first_call-load_image': 1, 'last_call-open_file': 1})\n",
        "Counter({'first_call-load_image': 1, 'last_call-thread': 1})"
       ]
      },
      {
       "output_type": "stream",
       "stream": "stdout",
       "text": [
        "\n",
        "Counter({'first_call-load_image': 1, 'last_call-set_value': 1})"
       ]
      },
      {
       "output_type": "stream",
       "stream": "stdout",
       "text": [
        "\n",
        "Counter({'first_call-load_image': 1, 'last_call-thread': 1})\n",
        "Counter({'first_call-load_image': 1, 'last_call-thread': 1})\n",
        "Counter({'first_call-load_image': 1, 'last_call-load_dll': 1})\n",
        "Counter({'first_call-load_image': 1, 'last_call-kill_process': 1})\n",
        "Counter({'first_call-load_image': 1, 'last_call-check_for_debugger': 1})\n",
        "Counter({'first_call-load_image': 1, 'last_call-enum_window': 1})\n",
        "Counter({'first_call-load_image': 1, 'last_call-thread': 1})"
       ]
      },
      {
       "output_type": "stream",
       "stream": "stdout",
       "text": [
        "\n",
        "Counter({'first_call-load_image': 1, 'last_call-kill_process': 1})\n",
        "Counter({'first_call-load_image': 1, 'last_call-kill_process': 1})\n",
        "Counter({'first_call-load_image': 1, 'last_call-enum_window': 1})\n",
        "Counter({'first_call-load_image': 1, 'last_call-kill_process': 1})\n",
        "Counter({'first_call-load_image': 1, 'last_call-thread': 1})\n",
        "Counter({'first_call-load_image': 1, 'last_call-thread': 1})"
       ]
      },
      {
       "output_type": "stream",
       "stream": "stdout",
       "text": [
        "\n",
        "Counter({'first_call-load_image': 1, 'last_call-create_thread': 1})\n",
        "Counter({'first_call-load_image': 1, 'last_call-open_process': 1})\n",
        "Counter({'first_call-load_image': 1, 'last_call-thread': 1})"
       ]
      },
      {
       "output_type": "stream",
       "stream": "stdout",
       "text": [
        "\n",
        "Counter({'first_call-load_image': 1, 'last_call-kill_process': 1})\n",
        "Counter({'first_call-load_image': 1, 'last_call-thread': 1})"
       ]
      },
      {
       "output_type": "stream",
       "stream": "stdout",
       "text": [
        "\n",
        "Counter({'first_call-load_image': 1, 'last_call-process': 1})\n",
        "Counter({'first_call-load_image': 1, 'last_call-thread': 1})\n",
        "Counter({'first_call-load_image': 1, 'last_call-enum_window': 1})\n",
        "Counter({'first_call-load_image': 1, 'last_call-kill_process': 1})\n",
        "Counter({'first_call-load_image': 1, 'last_call-thread': 1})"
       ]
      },
      {
       "output_type": "stream",
       "stream": "stdout",
       "text": [
        "\n",
        "Counter({'first_call-load_image': 1, 'last_call-enum_window': 1})"
       ]
      },
      {
       "output_type": "stream",
       "stream": "stdout",
       "text": [
        "\n",
        "Counter({'first_call-load_image': 1, 'last_call-get_host_by_name': 1})"
       ]
      },
      {
       "output_type": "stream",
       "stream": "stdout",
       "text": [
        "\n",
        "Counter({'first_call-load_image': 1, 'last_call-kill_process': 1})\n",
        "Counter({'first_call-load_image': 1, 'last_call-thread': 1})"
       ]
      },
      {
       "output_type": "stream",
       "stream": "stdout",
       "text": [
        "\n",
        "Counter({'first_call-load_image': 1, 'last_call-open_process': 1})"
       ]
      },
      {
       "output_type": "stream",
       "stream": "stdout",
       "text": [
        "\n",
        "Counter({'first_call-load_image': 1, 'last_call-thread': 1})\n",
        "Counter({'first_call-load_image': 1, 'last_call-thread': 1})"
       ]
      },
      {
       "output_type": "stream",
       "stream": "stdout",
       "text": [
        "\n",
        "Counter({'first_call-load_image': 1, 'last_call-thread': 1})\n",
        "Counter({'first_call-load_image': 1, 'last_call-kill_process': 1})"
       ]
      },
      {
       "output_type": "stream",
       "stream": "stdout",
       "text": [
        "\n",
        "Counter({'first_call-load_image': 1, 'last_call-thread': 1})"
       ]
      },
      {
       "output_type": "stream",
       "stream": "stdout",
       "text": [
        "\n",
        "Counter({'first_call-load_image': 1, 'last_call-thread': 1})"
       ]
      },
      {
       "output_type": "stream",
       "stream": "stdout",
       "text": [
        "\n",
        "Counter({'first_call-load_image': 1, 'last_call-kill_process': 1})"
       ]
      },
      {
       "output_type": "stream",
       "stream": "stdout",
       "text": [
        "\n",
        "Counter({'first_call-load_image': 1, 'last_call-load_dll': 1})\n",
        "Counter({'first_call-load_image': 1, 'last_call-kill_process': 1})\n",
        "Counter({'first_call-load_image': 1, 'last_call-thread': 1})"
       ]
      },
      {
       "output_type": "stream",
       "stream": "stdout",
       "text": [
        "\n",
        "Counter({'first_call-load_image': 1, 'last_call-thread': 1})"
       ]
      },
      {
       "output_type": "stream",
       "stream": "stdout",
       "text": [
        "\n",
        "Counter({'first_call-load_image': 1, 'last_call-kill_process': 1})"
       ]
      },
      {
       "output_type": "stream",
       "stream": "stdout",
       "text": [
        "\n",
        "Counter({'first_call-load_image': 1, 'last_call-thread': 1})\n",
        "Counter({'first_call-load_image': 1, 'last_call-kill_process': 1})\n",
        "Counter({'first_call-load_image': 1, 'last_call-load_dll': 1})"
       ]
      },
      {
       "output_type": "stream",
       "stream": "stdout",
       "text": [
        "\n",
        "Counter({'first_call-load_image': 1, 'last_call-kill_process': 1})\n",
        "Counter({'first_call-load_image': 1, 'last_call-thread': 1})"
       ]
      },
      {
       "output_type": "stream",
       "stream": "stdout",
       "text": [
        "\n",
        "Counter({'first_call-load_image': 1, 'last_call-open_process': 1})"
       ]
      },
      {
       "output_type": "stream",
       "stream": "stdout",
       "text": [
        "\n",
        "Counter({'first_call-load_image': 1, 'last_call-get_system_directory': 1})\n",
        "Counter({'first_call-load_image': 1, 'last_call-enum_window': 1})\n",
        "Counter({'first_call-load_image': 1, 'last_call-process': 1})\n",
        "Counter({'first_call-load_image': 1, 'last_call-load_dll': 1})\n",
        "Counter({'first_call-load_image': 1, 'last_call-load_dll': 1})"
       ]
      },
      {
       "output_type": "stream",
       "stream": "stdout",
       "text": [
        "\n",
        "Counter({'first_call-load_image': 1, 'last_call-enum_window': 1})\n",
        "Counter({'first_call-load_image': 1, 'last_call-enum_window': 1})\n",
        "Counter({'first_call-load_image': 1, 'last_call-enum_window': 1})\n",
        "Counter({'first_call-load_image': 1, 'last_call-open_file': 1})\n",
        "Counter({'first_call-load_image': 1, 'last_call-process': 1})"
       ]
      },
      {
       "output_type": "stream",
       "stream": "stdout",
       "text": [
        "\n",
        "Counter({'first_call-load_image': 1, 'last_call-load_dll': 1})\n",
        "Counter({'first_call-load_image': 1, 'last_call-thread': 1})\n",
        "Counter({'first_call-load_image': 1, 'last_call-kill_process': 1})"
       ]
      },
      {
       "output_type": "stream",
       "stream": "stdout",
       "text": [
        "\n",
        "Counter({'first_call-load_image': 1, 'last_call-process': 1})\n",
        "Counter({'first_call-load_image': 1, 'last_call-enum_window': 1})\n",
        "Counter({'first_call-load_image': 1, 'last_call-kill_process': 1})\n",
        "Counter({'first_call-load_image': 1, 'last_call-kill_process': 1})\n",
        "Counter({'first_call-load_image': 1, 'last_call-enum_window': 1})\n",
        "Counter({'first_call-load_image': 1, 'last_call-thread': 1})"
       ]
      },
      {
       "output_type": "stream",
       "stream": "stdout",
       "text": [
        "\n",
        "Counter({'first_call-load_image': 1, 'last_call-enum_window': 1})\n",
        "Counter({'first_call-load_image': 1, 'last_call-thread': 1})\n",
        "Counter({'first_call-load_image': 1, 'last_call-thread': 1})"
       ]
      },
      {
       "output_type": "stream",
       "stream": "stdout",
       "text": [
        "\n",
        "Counter({'first_call-load_image': 1, 'last_call-thread': 1})"
       ]
      },
      {
       "output_type": "stream",
       "stream": "stdout",
       "text": [
        "\n",
        "Counter({'first_call-load_image': 1, 'last_call-kill_process': 1})"
       ]
      },
      {
       "output_type": "stream",
       "stream": "stdout",
       "text": [
        "\n",
        "Counter({'first_call-load_image': 1, 'last_call-thread': 1})"
       ]
      },
      {
       "output_type": "stream",
       "stream": "stdout",
       "text": [
        "\n",
        "Counter({'first_call-load_image': 1, 'last_call-thread': 1})"
       ]
      },
      {
       "output_type": "stream",
       "stream": "stdout",
       "text": [
        "\n",
        "Counter({'first_call-load_image': 1, 'last_call-thread': 1})"
       ]
      },
      {
       "output_type": "stream",
       "stream": "stdout",
       "text": [
        "\n",
        "Counter({'first_call-load_image': 1, 'last_call-thread': 1})"
       ]
      },
      {
       "output_type": "stream",
       "stream": "stdout",
       "text": [
        "\n",
        "Counter({'first_call-load_image': 1, 'last_call-enum_window': 1})\n",
        "Counter({'first_call-load_image': 1, 'last_call-thread': 1})\n",
        "Counter({'first_call-load_image': 1, 'last_call-kill_process': 1})\n",
        "Counter({'first_call-load_image': 1, 'last_call-kill_process': 1})\n",
        "Counter({'first_call-load_image': 1, 'last_call-process': 1})\n",
        "Counter({'first_call-load_image': 1, 'last_call-kill_process': 1})"
       ]
      },
      {
       "output_type": "stream",
       "stream": "stdout",
       "text": [
        "\n",
        "Counter({'first_call-load_image': 1, 'last_call-load_dll': 1})\n",
        "Counter({'first_call-load_image': 1, 'last_call-enum_window': 1})\n",
        "Counter({'first_call-load_image': 1, 'last_call-enum_window': 1})\n",
        "Counter({'first_call-load_image': 1, 'last_call-thread': 1})"
       ]
      },
      {
       "output_type": "stream",
       "stream": "stdout",
       "text": [
        "\n",
        "Counter({'first_call-load_image': 1, 'last_call-kill_process': 1})"
       ]
      },
      {
       "output_type": "stream",
       "stream": "stdout",
       "text": [
        "\n",
        "Counter({'first_call-load_image': 1, 'last_call-thread': 1})\n",
        "Counter({'first_call-load_image': 1, 'last_call-thread': 1})"
       ]
      },
      {
       "output_type": "stream",
       "stream": "stdout",
       "text": [
        "\n",
        "Counter({'first_call-load_image': 1, 'last_call-process': 1})\n",
        "Counter({'first_call-load_image': 1, 'last_call-process': 1})\n",
        "Counter({'first_call-load_image': 1, 'last_call-load_dll': 1})"
       ]
      },
      {
       "output_type": "stream",
       "stream": "stdout",
       "text": [
        "\n",
        "Counter({'first_call-load_image': 1, 'last_call-process': 1})\n",
        "Counter({'first_call-load_image': 1, 'last_call-thread': 1})"
       ]
      },
      {
       "output_type": "stream",
       "stream": "stdout",
       "text": [
        "\n",
        "Counter({'first_call-load_image': 1, 'last_call-process': 1})\n",
        "Counter({'first_call-load_image': 1, 'last_call-kill_process': 1})\n",
        "Counter({'first_call-load_image': 1, 'last_call-enum_window': 1})\n",
        "Counter({'first_call-load_image': 1, 'last_call-kill_process': 1})\n",
        "Counter({'first_call-load_image': 1, 'last_call-thread': 1})"
       ]
      },
      {
       "output_type": "stream",
       "stream": "stdout",
       "text": [
        "\n",
        "Counter({'first_call-load_image': 1, 'last_call-enum_window': 1})"
       ]
      },
      {
       "output_type": "stream",
       "stream": "stdout",
       "text": [
        "\n",
        "Counter({'first_call-load_image': 1, 'last_call-thread': 1})\n",
        "Counter({'first_call-load_image': 1, 'last_call-enum_window': 1})\n",
        "Counter({'first_call-load_image': 1, 'last_call-sleep': 1})"
       ]
      },
      {
       "output_type": "stream",
       "stream": "stdout",
       "text": [
        "\n",
        "Counter({'first_call-load_image': 1, 'last_call-get_host_by_name': 1})"
       ]
      },
      {
       "output_type": "stream",
       "stream": "stdout",
       "text": [
        "\n",
        "Counter({'first_call-load_image': 1, 'last_call-thread': 1})\n",
        "Counter({'first_call-load_image': 1, 'last_call-thread': 1})"
       ]
      },
      {
       "output_type": "stream",
       "stream": "stdout",
       "text": [
        "\n",
        "Counter({'last_call-create_window': 1, 'first_call-load_image': 1})\n",
        "Counter({'first_call-load_image': 1, 'last_call-load_dll': 1})\n",
        "Counter({'first_call-load_image': 1, 'last_call-process': 1})\n",
        "Counter({'first_call-load_image': 1, 'last_call-process': 1})\n",
        "Counter({'first_call-load_image': 1, 'last_call-kill_process': 1})\n",
        "Counter({'first_call-load_image': 1, 'last_call-thread': 1})"
       ]
      },
      {
       "output_type": "stream",
       "stream": "stdout",
       "text": [
        "\n",
        "Counter({'first_call-load_image': 1, 'last_call-thread': 1})\n",
        "Counter({'first_call-load_image': 1, 'last_call-process': 1})\n",
        "Counter({'first_call-load_image': 1, 'last_call-thread': 1})\n",
        "Counter({'first_call-load_image': 1, 'last_call-kill_process': 1})\n",
        "Counter({'first_call-load_image': 1, 'last_call-process': 1})"
       ]
      },
      {
       "output_type": "stream",
       "stream": "stdout",
       "text": [
        "\n",
        "Counter({'first_call-load_image': 1, 'last_call-get_system_time': 1})\n",
        "Counter({'first_call-load_image': 1, 'last_call-thread': 1})\n",
        "Counter({'first_call-load_image': 1, 'last_call-thread': 1})"
       ]
      },
      {
       "output_type": "stream",
       "stream": "stdout",
       "text": [
        "\n",
        "Counter({'first_call-load_image': 1, 'last_call-thread': 1})\n",
        "Counter({'first_call-load_image': 1, 'last_call-enum_window': 1})\n",
        "Counter({'first_call-load_image': 1, 'last_call-load_dll': 1})\n",
        "Counter({'first_call-load_image': 1, 'last_call-thread': 1})"
       ]
      },
      {
       "output_type": "stream",
       "stream": "stdout",
       "text": [
        "\n",
        "Counter({'first_call-load_image': 1, 'last_call-create_thread': 1})\n",
        "Counter({'first_call-load_image': 1, 'last_call-thread': 1})\n",
        "Counter({'first_call-load_image': 1, 'last_call-kill_process': 1})\n",
        "Counter({'first_call-load_image': 1, 'last_call-process': 1})\n",
        "Counter({'first_call-load_image': 1, 'last_call-thread': 1})"
       ]
      },
      {
       "output_type": "stream",
       "stream": "stdout",
       "text": [
        "\n",
        "Counter({'first_call-load_image': 1, 'last_call-thread': 1})\n",
        "Counter({'first_call-load_image': 1, 'last_call-kill_process': 1})\n",
        "Counter({'first_call-load_image': 1, 'last_call-thread': 1})\n",
        "Counter({'first_call-load_image': 1, 'last_call-open_file': 1})"
       ]
      },
      {
       "output_type": "stream",
       "stream": "stdout",
       "text": [
        "\n",
        "Counter({'first_call-load_image': 1, 'last_call-kill_process': 1})"
       ]
      },
      {
       "output_type": "stream",
       "stream": "stdout",
       "text": [
        "\n",
        "Counter({'first_call-load_image': 1, 'last_call-thread': 1})\n",
        "Counter({'first_call-load_image': 1, 'last_call-thread': 1})\n",
        "Counter({'first_call-load_image': 1, 'last_call-thread': 1})"
       ]
      },
      {
       "output_type": "stream",
       "stream": "stdout",
       "text": [
        "\n",
        "Counter({'first_call-load_image': 1, 'last_call-kill_process': 1})"
       ]
      },
      {
       "output_type": "stream",
       "stream": "stdout",
       "text": [
        "\n",
        "Counter({'first_call-load_image': 1, 'last_call-thread': 1})"
       ]
      },
      {
       "output_type": "stream",
       "stream": "stdout",
       "text": [
        "\n",
        "Counter({'first_call-load_image': 1, 'last_call-enum_window': 1})"
       ]
      },
      {
       "output_type": "stream",
       "stream": "stdout",
       "text": [
        "\n",
        "Counter({'first_call-load_image': 1, 'last_call-enum_window': 1})\n",
        "Counter({'first_call-load_image': 1, 'last_call-thread': 1})"
       ]
      },
      {
       "output_type": "stream",
       "stream": "stdout",
       "text": [
        "\n",
        "Counter({'first_call-load_image': 1, 'last_call-kill_process': 1})"
       ]
      },
      {
       "output_type": "stream",
       "stream": "stdout",
       "text": [
        "\n",
        "Counter({'first_call-load_image': 1, 'last_call-enum_window': 1})\n",
        "Counter({'first_call-load_image': 1, 'last_call-thread': 1})\n",
        "Counter({'first_call-load_image': 1, 'last_call-process': 1})\n",
        "Counter({'first_call-load_image': 1, 'last_call-create_file': 1})"
       ]
      },
      {
       "output_type": "stream",
       "stream": "stdout",
       "text": [
        "\n",
        "Counter({'first_call-load_image': 1, 'last_call-check_for_debugger': 1})"
       ]
      },
      {
       "output_type": "stream",
       "stream": "stdout",
       "text": [
        "\n",
        "Counter({'first_call-load_image': 1, 'last_call-enum_window': 1})\n",
        "Counter({'first_call-load_image': 1, 'last_call-kill_process': 1})\n",
        "Counter({'first_call-load_image': 1, 'last_call-enum_window': 1})\n",
        "Counter({'first_call-load_image': 1, 'last_call-kill_process': 1})\n",
        "Counter({'first_call-load_image': 1, 'last_call-load_dll': 1})"
       ]
      },
      {
       "output_type": "stream",
       "stream": "stdout",
       "text": [
        "\n",
        "Counter({'first_call-load_image': 1, 'last_call-kill_process': 1})\n",
        "Counter({'first_call-load_image': 1, 'last_call-load_dll': 1})\n",
        "Counter({'first_call-load_image': 1, 'last_call-process': 1})"
       ]
      },
      {
       "output_type": "stream",
       "stream": "stdout",
       "text": [
        "\n",
        "Counter({'first_call-load_image': 1, 'last_call-kill_process': 1})\n",
        "Counter({'first_call-load_image': 1, 'last_call-kill_process': 1})\n",
        "Counter({'first_call-load_image': 1, 'last_call-create_thread': 1})"
       ]
      },
      {
       "output_type": "stream",
       "stream": "stdout",
       "text": [
        "\n",
        "Counter({'first_call-load_image': 1, 'last_call-enum_window': 1})"
       ]
      },
      {
       "output_type": "stream",
       "stream": "stdout",
       "text": [
        "\n",
        "Counter({'first_call-load_image': 1, 'last_call-kill_process': 1})\n",
        "Counter({'first_call-load_image': 1, 'last_call-kill_process': 1})\n",
        "Counter({'first_call-load_image': 1, 'last_call-load_dll': 1})\n",
        "Counter({'first_call-load_image': 1, 'last_call-process': 1})\n",
        "Counter({'first_call-load_image': 1, 'last_call-load_dll': 1})"
       ]
      },
      {
       "output_type": "stream",
       "stream": "stdout",
       "text": [
        "\n",
        "Counter({'first_call-load_image': 1, 'last_call-process': 1})\n",
        "Counter({'first_call-load_image': 1, 'last_call-kill_process': 1})\n",
        "Counter({'first_call-load_image': 1, 'last_call-create_mutex': 1})\n",
        "Counter({'first_call-load_image': 1, 'last_call-kill_process': 1})\n",
        "Counter({'first_call-load_image': 1, 'last_call-thread': 1})"
       ]
      },
      {
       "output_type": "stream",
       "stream": "stdout",
       "text": [
        "\n",
        "Counter({'first_call-load_image': 1, 'last_call-enum_window': 1})\n",
        "Counter({'first_call-load_image': 1, 'last_call-enum_window': 1})\n",
        "Counter({'first_call-load_image': 1, 'last_call-sleep': 1})"
       ]
      },
      {
       "output_type": "stream",
       "stream": "stdout",
       "text": [
        "\n",
        "Counter({'first_call-load_image': 1, 'last_call-kill_process': 1})\n",
        "Counter({'first_call-load_image': 1, 'last_call-enum_window': 1})\n",
        "Counter({'first_call-load_image': 1, 'last_call-thread': 1})"
       ]
      },
      {
       "output_type": "stream",
       "stream": "stdout",
       "text": [
        "\n",
        "Counter({'first_call-load_image': 1, 'last_call-enum_window': 1})"
       ]
      },
      {
       "output_type": "stream",
       "stream": "stdout",
       "text": [
        "\n",
        "Counter({'first_call-load_image': 1, 'last_call-sleep': 1})"
       ]
      },
      {
       "output_type": "stream",
       "stream": "stdout",
       "text": [
        "\n",
        "Counter({'first_call-load_image': 1, 'last_call-thread': 1})\n",
        "Counter({'first_call-load_image': 1, 'last_call-thread': 1})\n",
        "Counter({'first_call-load_image': 1, 'last_call-enum_window': 1})\n",
        "Counter({'first_call-load_image': 1, 'last_call-enum_window': 1})\n",
        "Counter({'first_call-load_image': 1, 'last_call-enum_window': 1})\n",
        "Counter({'first_call-load_image': 1, 'last_call-open_process': 1})\n",
        "Counter({'first_call-load_image': 1, 'last_call-thread': 1})"
       ]
      },
      {
       "output_type": "stream",
       "stream": "stdout",
       "text": [
        "\n",
        "Counter({'first_call-load_image': 1, 'last_call-enum_window': 1})\n",
        "Counter({'first_call-load_image': 1, 'last_call-enum_window': 1})\n",
        "Counter({'first_call-load_image': 1, 'last_call-thread': 1})"
       ]
      },
      {
       "output_type": "stream",
       "stream": "stdout",
       "text": [
        "\n",
        "Counter({'first_call-load_image': 1, 'last_call-thread': 1})"
       ]
      },
      {
       "output_type": "stream",
       "stream": "stdout",
       "text": [
        "\n",
        "Counter({'first_call-load_image': 1, 'last_call-process': 1})\n",
        "Counter({'first_call-load_image': 1, 'last_call-thread': 1})\n",
        "Counter({'first_call-load_image': 1, 'last_call-kill_process': 1})\n",
        "Counter({'first_call-load_image': 1, 'last_call-kill_process': 1})\n",
        "Counter({'first_call-load_image': 1, 'last_call-thread': 1})\n",
        "Counter({'first_call-load_image': 1, 'last_call-sleep': 1})\n",
        "Counter({'first_call-load_image': 1, 'last_call-process': 1})"
       ]
      },
      {
       "output_type": "stream",
       "stream": "stdout",
       "text": [
        "\n",
        "Counter({'first_call-load_image': 1, 'last_call-process': 1})\n",
        "Counter({'first_call-load_image': 1, 'last_call-thread': 1})"
       ]
      },
      {
       "output_type": "stream",
       "stream": "stdout",
       "text": [
        "\n",
        "Counter({'first_call-load_image': 1, 'last_call-kill_process': 1})\n",
        "Counter({'first_call-load_image': 1, 'last_call-enum_window': 1})\n",
        "Counter({'first_call-load_image': 1, 'last_call-load_dll': 1})\n",
        "Counter({'first_call-load_image': 1, 'last_call-thread': 1})"
       ]
      },
      {
       "output_type": "stream",
       "stream": "stdout",
       "text": [
        "\n",
        "Counter({'first_call-load_image': 1, 'last_call-thread': 1})\n",
        "Counter({'first_call-load_image': 1, 'last_call-kill_process': 1})\n",
        "Counter({'first_call-load_image': 1, 'last_call-enum_window': 1})\n",
        "Counter({'first_call-load_image': 1, 'last_call-thread': 1})\n",
        "Counter({'first_call-load_image': 1, 'last_call-process': 1})"
       ]
      },
      {
       "output_type": "stream",
       "stream": "stdout",
       "text": [
        "\n",
        "Counter({'first_call-load_image': 1, 'last_call-thread': 1})"
       ]
      },
      {
       "output_type": "stream",
       "stream": "stdout",
       "text": [
        "\n",
        "Counter({'first_call-load_image': 1, 'last_call-load_dll': 1})"
       ]
      },
      {
       "output_type": "stream",
       "stream": "stdout",
       "text": [
        "\n",
        "Counter({'first_call-load_image': 1, 'last_call-kill_process': 1})\n",
        "Counter({'first_call-load_image': 1, 'last_call-process': 1})\n",
        "Counter({'first_call-load_image': 1, 'last_call-thread': 1})"
       ]
      },
      {
       "output_type": "stream",
       "stream": "stdout",
       "text": [
        "\n",
        "Counter({'first_call-load_image': 1, 'last_call-load_dll': 1})\n",
        "Counter({'first_call-load_image': 1, 'last_call-enum_window': 1})"
       ]
      },
      {
       "output_type": "stream",
       "stream": "stdout",
       "text": [
        "\n",
        "Counter({'first_call-load_image': 1, 'last_call-enum_window': 1})"
       ]
      },
      {
       "output_type": "stream",
       "stream": "stdout",
       "text": [
        "\n",
        "Counter({'first_call-load_image': 1, 'last_call-kill_process': 1})\n",
        "Counter({'first_call-load_image': 1, 'last_call-kill_process': 1})"
       ]
      },
      {
       "output_type": "stream",
       "stream": "stdout",
       "text": [
        "\n",
        "Counter({'first_call-load_image': 1, 'last_call-process': 1})\n",
        "Counter({'first_call-load_image': 1, 'last_call-thread': 1})\n",
        "Counter({'first_call-load_image': 1, 'last_call-thread': 1})"
       ]
      },
      {
       "output_type": "stream",
       "stream": "stdout",
       "text": [
        "\n",
        "Counter({'first_call-load_image': 1, 'last_call-kill_process': 1})\n",
        "Counter({'first_call-load_image': 1, 'last_call-process': 1})"
       ]
      },
      {
       "output_type": "stream",
       "stream": "stdout",
       "text": [
        "\n",
        "Counter({'first_call-load_image': 1, 'last_call-kill_process': 1})\n",
        "Counter({'first_call-load_image': 1, 'last_call-thread': 1})\n",
        "Counter({'first_call-load_image': 1, 'last_call-process': 1})"
       ]
      },
      {
       "output_type": "stream",
       "stream": "stdout",
       "text": [
        "\n",
        "Counter({'first_call-load_image': 1, 'last_call-kill_process': 1})\n",
        "Counter({'first_call-load_image': 1, 'last_call-process': 1})\n",
        "Counter({'first_call-load_image': 1, 'last_call-enum_window': 1})\n",
        "Counter({'first_call-load_image': 1, 'last_call-thread': 1})\n",
        "Counter({'first_call-load_image': 1, 'last_call-thread': 1})"
       ]
      },
      {
       "output_type": "stream",
       "stream": "stdout",
       "text": [
        "\n",
        "Counter({'first_call-load_image': 1, 'last_call-thread': 1})\n",
        "Counter({'first_call-load_image': 1, 'last_call-process': 1})"
       ]
      },
      {
       "output_type": "stream",
       "stream": "stdout",
       "text": [
        "\n",
        "Counter({'first_call-load_image': 1, 'last_call-thread': 1})"
       ]
      },
      {
       "output_type": "stream",
       "stream": "stdout",
       "text": [
        "\n",
        "Counter({'first_call-load_image': 1, 'last_call-thread': 1})"
       ]
      },
      {
       "output_type": "stream",
       "stream": "stdout",
       "text": [
        "\n",
        "Counter({'first_call-load_image': 1, 'last_call-kill_process': 1})"
       ]
      },
      {
       "output_type": "stream",
       "stream": "stdout",
       "text": [
        "\n",
        "Counter({'first_call-load_image': 1, 'last_call-sleep': 1})"
       ]
      },
      {
       "output_type": "stream",
       "stream": "stdout",
       "text": [
        "\n",
        "Counter({'first_call-load_image': 1, 'last_call-thread': 1})"
       ]
      },
      {
       "output_type": "stream",
       "stream": "stdout",
       "text": [
        "\n",
        "Counter({'first_call-load_image': 1, 'last_call-load_dll': 1})"
       ]
      },
      {
       "output_type": "stream",
       "stream": "stdout",
       "text": [
        "\n",
        "Counter({'first_call-load_image': 1, 'last_call-thread': 1})\n",
        "Counter({'first_call-load_image': 1, 'last_call-kill_process': 1})\n",
        "Counter({'first_call-load_image': 1, 'last_call-thread': 1})\n",
        "Counter({'first_call-load_image': 1, 'last_call-load_dll': 1})\n",
        "Counter({'first_call-load_image': 1, 'last_call-thread': 1})"
       ]
      },
      {
       "output_type": "stream",
       "stream": "stdout",
       "text": [
        "\n",
        "Counter({'first_call-load_image': 1, 'last_call-kill_process': 1})"
       ]
      },
      {
       "output_type": "stream",
       "stream": "stdout",
       "text": [
        "\n",
        "Counter({'first_call-load_image': 1, 'last_call-thread': 1})"
       ]
      },
      {
       "output_type": "stream",
       "stream": "stdout",
       "text": [
        "\n",
        "Counter({'first_call-load_image': 1, 'last_call-load_dll': 1})"
       ]
      },
      {
       "output_type": "stream",
       "stream": "stdout",
       "text": [
        "\n",
        "Counter({'first_call-load_image': 1, 'last_call-thread': 1})\n",
        "Counter({'first_call-load_image': 1, 'last_call-kill_process': 1})\n",
        "Counter({'first_call-load_image': 1, 'last_call-thread': 1})"
       ]
      },
      {
       "output_type": "stream",
       "stream": "stdout",
       "text": [
        "\n",
        "Counter({'first_call-load_image': 1, 'last_call-kill_process': 1})\n",
        "Counter({'first_call-load_image': 1, 'last_call-process': 1})\n",
        "Counter({'first_call-load_image': 1, 'last_call-thread': 1})"
       ]
      },
      {
       "output_type": "stream",
       "stream": "stdout",
       "text": [
        "\n",
        "Counter({'first_call-load_image': 1, 'last_call-thread': 1})"
       ]
      },
      {
       "output_type": "stream",
       "stream": "stdout",
       "text": [
        "\n",
        "Counter({'first_call-load_image': 1, 'last_call-sleep': 1})\n",
        "Counter({'first_call-load_image': 1, 'last_call-thread': 1})"
       ]
      },
      {
       "output_type": "stream",
       "stream": "stdout",
       "text": [
        "\n",
        "Counter({'first_call-load_image': 1, 'last_call-thread': 1})\n",
        "Counter({'first_call-load_image': 1, 'last_call-thread': 1})"
       ]
      },
      {
       "output_type": "stream",
       "stream": "stdout",
       "text": [
        "\n",
        "Counter({'first_call-load_image': 1, 'last_call-enum_window': 1})"
       ]
      },
      {
       "output_type": "stream",
       "stream": "stdout",
       "text": [
        "\n",
        "Counter({'first_call-load_image': 1, 'last_call-thread': 1})"
       ]
      },
      {
       "output_type": "stream",
       "stream": "stdout",
       "text": [
        "\n",
        "Counter({'first_call-load_image': 1, 'last_call-enum_window': 1})"
       ]
      },
      {
       "output_type": "stream",
       "stream": "stdout",
       "text": [
        "\n",
        "Counter({'first_call-load_image': 1, 'last_call-thread': 1})"
       ]
      },
      {
       "output_type": "stream",
       "stream": "stdout",
       "text": [
        "\n",
        "Counter({'first_call-load_image': 1, 'last_call-thread': 1})"
       ]
      },
      {
       "output_type": "stream",
       "stream": "stdout",
       "text": [
        "\n",
        "Counter({'first_call-load_image': 1, 'last_call-process': 1})"
       ]
      },
      {
       "output_type": "stream",
       "stream": "stdout",
       "text": [
        "\n",
        "Counter({'first_call-load_image': 1, 'last_call-query_value': 1})"
       ]
      },
      {
       "output_type": "stream",
       "stream": "stdout",
       "text": [
        "\n",
        "Counter({'first_call-load_image': 1, 'last_call-kill_process': 1})"
       ]
      },
      {
       "output_type": "stream",
       "stream": "stdout",
       "text": [
        "\n",
        "Counter({'first_call-load_image': 1, 'last_call-create_socket': 1})\n",
        "Counter({'first_call-load_image': 1, 'last_call-enum_window': 1})\n",
        "Counter({'first_call-load_image': 1, 'last_call-enum_window': 1})\n",
        "Counter({'first_call-load_image': 1, 'last_call-thread': 1})"
       ]
      },
      {
       "output_type": "stream",
       "stream": "stdout",
       "text": [
        "\n",
        "Counter({'first_call-load_image': 1, 'last_call-kill_process': 1})"
       ]
      },
      {
       "output_type": "stream",
       "stream": "stdout",
       "text": [
        "\n",
        "Counter({'first_call-load_image': 1, 'last_call-kill_process': 1})\n",
        "Counter({'first_call-load_image': 1, 'last_call-kill_process': 1})\n",
        "Counter({'first_call-load_image': 1, 'last_call-enum_window': 1})\n",
        "Counter({'first_call-load_image': 1, 'last_call-thread': 1})"
       ]
      },
      {
       "output_type": "stream",
       "stream": "stdout",
       "text": [
        "\n",
        "Counter({'first_call-load_image': 1, 'last_call-kill_process': 1})"
       ]
      },
      {
       "output_type": "stream",
       "stream": "stdout",
       "text": [
        "\n",
        "Counter({'first_call-load_image': 1, 'last_call-get_system_directory': 1})\n",
        "Counter({'first_call-load_image': 1, 'last_call-enum_window': 1})\n",
        "Counter({'first_call-load_image': 1, 'last_call-load_dll': 1})\n",
        "Counter({'first_call-load_image': 1, 'last_call-thread': 1})\n",
        "Counter({'first_call-load_image': 1, 'last_call-thread': 1})"
       ]
      },
      {
       "output_type": "stream",
       "stream": "stdout",
       "text": [
        "\n",
        "Counter({'first_call-load_image': 1, 'last_call-thread': 1})"
       ]
      },
      {
       "output_type": "stream",
       "stream": "stdout",
       "text": [
        "\n",
        "Counter({'first_call-load_image': 1, 'last_call-load_dll': 1})\n",
        "Counter({'first_call-load_image': 1, 'last_call-kill_process': 1})"
       ]
      },
      {
       "output_type": "stream",
       "stream": "stdout",
       "text": [
        "\n",
        "Counter({'first_call-load_image': 1, 'last_call-enum_window': 1})\n",
        "Counter({'first_call-load_image': 1, 'last_call-thread': 1})\n",
        "Counter({'first_call-load_image': 1, 'last_call-thread': 1})"
       ]
      },
      {
       "output_type": "stream",
       "stream": "stdout",
       "text": [
        "\n",
        "Counter({'first_call-load_image': 1, 'last_call-process': 1})"
       ]
      },
      {
       "output_type": "stream",
       "stream": "stdout",
       "text": [
        "\n",
        "Counter({'first_call-load_image': 1, 'last_call-thread': 1})\n",
        "Counter({'first_call-load_image': 1, 'last_call-enum_window': 1})\n",
        "Counter({'first_call-load_image': 1, 'last_call-process': 1})\n",
        "Counter({'first_call-load_image': 1, 'last_call-process': 1})"
       ]
      },
      {
       "output_type": "stream",
       "stream": "stdout",
       "text": [
        "\n",
        "Counter({'first_call-load_image': 1, 'last_call-enum_window': 1})"
       ]
      },
      {
       "output_type": "stream",
       "stream": "stdout",
       "text": [
        "\n",
        "Counter({'first_call-load_image': 1, 'last_call-kill_process': 1})\n",
        "Counter({'first_call-load_image': 1, 'last_call-kill_process': 1})\n",
        "Counter({'first_call-load_image': 1, 'last_call-thread': 1})"
       ]
      },
      {
       "output_type": "stream",
       "stream": "stdout",
       "text": [
        "\n",
        "Counter({'first_call-load_image': 1, 'last_call-thread': 1})"
       ]
      },
      {
       "output_type": "stream",
       "stream": "stdout",
       "text": [
        "\n",
        "Counter({'first_call-load_image': 1, 'last_call-kill_process': 1})\n",
        "Counter({'first_call-load_image': 1, 'last_call-thread': 1})\n",
        "Counter({'first_call-load_image': 1, 'last_call-thread': 1})\n",
        "Counter({'first_call-load_image': 1, 'last_call-thread': 1})"
       ]
      },
      {
       "output_type": "stream",
       "stream": "stdout",
       "text": [
        "\n",
        "Counter({'first_call-load_image': 1, 'last_call-enum_window': 1})"
       ]
      },
      {
       "output_type": "stream",
       "stream": "stdout",
       "text": [
        "\n",
        "Counter({'first_call-load_image': 1, 'last_call-enum_window': 1})\n",
        "Counter({'first_call-load_image': 1, 'last_call-dump_line': 1})\n",
        "Counter({'first_call-load_image': 1, 'last_call-thread': 1})"
       ]
      },
      {
       "output_type": "stream",
       "stream": "stdout",
       "text": [
        "\n",
        "Counter({'first_call-load_image': 1, 'last_call-thread': 1})\n",
        "Counter({'first_call-load_image': 1, 'last_call-enum_window': 1})\n",
        "Counter({'first_call-load_image': 1, 'last_call-kill_process': 1})\n",
        "Counter({'first_call-load_image': 1, 'last_call-thread': 1})\n",
        "Counter({'first_call-load_image': 1, 'last_call-enum_window': 1})\n",
        "Counter({'first_call-load_image': 1, 'last_call-enum_window': 1})\n",
        "Counter({'first_call-load_image': 1, 'last_call-thread': 1})"
       ]
      },
      {
       "output_type": "stream",
       "stream": "stdout",
       "text": [
        "\n",
        "Counter({'first_call-load_image': 1, 'last_call-process': 1})\n",
        "Counter({'first_call-load_image': 1, 'last_call-kill_process': 1})\n",
        "Counter({'first_call-load_image': 1, 'last_call-kill_process': 1})\n",
        "Counter({'first_call-load_image': 1, 'last_call-kill_process': 1})\n",
        "Counter({'first_call-load_image': 1, 'last_call-thread': 1})"
       ]
      },
      {
       "output_type": "stream",
       "stream": "stdout",
       "text": [
        "\n",
        "Counter({'first_call-load_image': 1, 'last_call-thread': 1})\n",
        "Counter({'first_call-load_image': 1, 'last_call-thread': 1})\n",
        "Counter({'first_call-load_image': 1, 'last_call-enum_window': 1})\n",
        "Counter({'first_call-load_image': 1, 'last_call-enum_window': 1})\n",
        "Counter({'first_call-load_image': 1, 'last_call-process': 1})\n",
        "Counter({'first_call-load_image': 1, 'last_call-enum_window': 1})\n",
        "Counter({'first_call-load_image': 1, 'last_call-enum_window': 1})\n",
        "Counter({'first_call-load_image': 1, 'last_call-kill_process': 1})"
       ]
      },
      {
       "output_type": "stream",
       "stream": "stdout",
       "text": [
        "\n",
        "Counter({'first_call-load_image': 1, 'last_call-kill_process': 1})\n",
        "Counter({'first_call-load_image': 1, 'last_call-enum_window': 1})\n",
        "Counter({'first_call-load_image': 1, 'last_call-thread': 1})"
       ]
      },
      {
       "output_type": "stream",
       "stream": "stdout",
       "text": [
        "\n",
        "Counter({'first_call-load_image': 1, 'last_call-load_dll': 1})\n",
        "Counter({'first_call-load_image': 1, 'last_call-kill_process': 1})\n",
        "Counter({'first_call-load_image': 1, 'last_call-kill_process': 1})"
       ]
      },
      {
       "output_type": "stream",
       "stream": "stdout",
       "text": [
        "\n",
        "Counter({'first_call-load_image': 1, 'last_call-get_host_by_name': 1})\n",
        "Counter({'first_call-load_image': 1, 'last_call-thread': 1})"
       ]
      },
      {
       "output_type": "stream",
       "stream": "stdout",
       "text": [
        "\n",
        "Counter({'first_call-load_image': 1, 'last_call-kill_process': 1})\n",
        "Counter({'first_call-load_image': 1, 'last_call-thread': 1})\n",
        "Counter({'first_call-load_image': 1, 'last_call-process': 1})\n",
        "Counter({'first_call-load_image': 1, 'last_call-kill_process': 1})\n",
        "Counter({'first_call-load_image': 1, 'last_call-load_dll': 1})"
       ]
      },
      {
       "output_type": "stream",
       "stream": "stdout",
       "text": [
        "\n",
        "Counter({'first_call-load_image': 1, 'last_call-thread': 1})\n",
        "Counter({'first_call-load_image': 1, 'last_call-thread': 1})\n",
        "Counter({'first_call-load_image': 1, 'last_call-enum_window': 1})\n",
        "Counter({'first_call-load_image': 1, 'last_call-thread': 1})"
       ]
      },
      {
       "output_type": "stream",
       "stream": "stdout",
       "text": [
        "\n",
        "Counter({'first_call-load_image': 1, 'last_call-check_for_debugger': 1})\n",
        "Counter({'first_call-load_image': 1, 'last_call-kill_process': 1})"
       ]
      },
      {
       "output_type": "stream",
       "stream": "stdout",
       "text": [
        "\n",
        "Counter({'first_call-load_image': 1, 'last_call-thread': 1})"
       ]
      },
      {
       "output_type": "stream",
       "stream": "stdout",
       "text": [
        "\n",
        "Counter({'first_call-load_image': 1, 'last_call-process': 1})\n",
        "Counter({'first_call-load_image': 1, 'last_call-thread': 1})\n",
        "Counter({'first_call-load_image': 1, 'last_call-enum_window': 1})\n",
        "Counter({'first_call-load_image': 1, 'last_call-load_dll': 1})\n",
        "Counter({'first_call-load_image': 1, 'last_call-thread': 1})"
       ]
      },
      {
       "output_type": "stream",
       "stream": "stdout",
       "text": [
        "\n",
        "Counter({'first_call-load_image': 1, 'last_call-process': 1})"
       ]
      },
      {
       "output_type": "stream",
       "stream": "stdout",
       "text": [
        "\n",
        "Counter({'first_call-load_image': 1, 'last_call-kill_process': 1})"
       ]
      },
      {
       "output_type": "stream",
       "stream": "stdout",
       "text": [
        "\n",
        "Counter({'first_call-load_image': 1, 'last_call-thread': 1})"
       ]
      },
      {
       "output_type": "stream",
       "stream": "stdout",
       "text": [
        "\n",
        "Counter({'first_call-load_image': 1, 'last_call-enum_window': 1})"
       ]
      },
      {
       "output_type": "stream",
       "stream": "stdout",
       "text": [
        "\n",
        "Counter({'first_call-load_image': 1, 'last_call-enum_window': 1})\n",
        "Counter({'first_call-load_image': 1, 'last_call-thread': 1})"
       ]
      },
      {
       "output_type": "stream",
       "stream": "stdout",
       "text": [
        "\n",
        "Counter({'first_call-load_image': 1, 'last_call-kill_process': 1})"
       ]
      },
      {
       "output_type": "stream",
       "stream": "stdout",
       "text": [
        "\n",
        "Counter({'first_call-load_image': 1, 'last_call-thread': 1})\n",
        "Counter({'first_call-load_image': 1, 'last_call-thread': 1})\n",
        "Counter({'first_call-load_image': 1, 'last_call-process': 1})\n",
        "Counter({'first_call-load_image': 1, 'last_call-process': 1})\n",
        "Counter({'first_call-load_image': 1, 'last_call-thread': 1})"
       ]
      },
      {
       "output_type": "stream",
       "stream": "stdout",
       "text": [
        "\n",
        "Counter({'first_call-load_image': 1, 'last_call-process': 1})\n",
        "Counter({'first_call-load_image': 1, 'last_call-kill_process': 1})\n",
        "Counter({'first_call-load_image': 1, 'last_call-thread': 1})\n",
        "Counter({'first_call-load_image': 1, 'last_call-kill_process': 1})"
       ]
      },
      {
       "output_type": "stream",
       "stream": "stdout",
       "text": [
        "\n",
        "Counter({'first_call-load_image': 1, 'last_call-thread': 1})\n",
        "Counter({'first_call-load_image': 1, 'last_call-thread': 1})"
       ]
      },
      {
       "output_type": "stream",
       "stream": "stdout",
       "text": [
        "\n",
        "Counter({'first_call-load_image': 1, 'last_call-thread': 1})\n",
        "Counter({'first_call-load_image': 1, 'last_call-thread': 1})\n",
        "Counter({'first_call-load_image': 1, 'last_call-kill_process': 1})\n",
        "Counter({'first_call-load_image': 1, 'last_call-thread': 1})"
       ]
      },
      {
       "output_type": "stream",
       "stream": "stdout",
       "text": [
        "\n",
        "Counter({'first_call-load_image': 1, 'last_call-process': 1})"
       ]
      },
      {
       "output_type": "stream",
       "stream": "stdout",
       "text": [
        "\n",
        "Counter({'first_call-load_image': 1, 'last_call-thread': 1})"
       ]
      },
      {
       "output_type": "stream",
       "stream": "stdout",
       "text": [
        "\n",
        "Counter({'first_call-load_image': 1, 'last_call-kill_process': 1})\n",
        "Counter({'first_call-load_image': 1, 'last_call-thread': 1})"
       ]
      },
      {
       "output_type": "stream",
       "stream": "stdout",
       "text": [
        "\n",
        "Counter({'first_call-load_image': 1, 'last_call-thread': 1})"
       ]
      },
      {
       "output_type": "stream",
       "stream": "stdout",
       "text": [
        "\n",
        "Counter({'first_call-load_image': 1, 'last_call-enum_window': 1})"
       ]
      },
      {
       "output_type": "stream",
       "stream": "stdout",
       "text": [
        "\n",
        "Counter({'first_call-load_image': 1, 'last_call-thread': 1})"
       ]
      },
      {
       "output_type": "stream",
       "stream": "stdout",
       "text": [
        "\n",
        "Counter({'first_call-load_image': 1, 'last_call-thread': 1})"
       ]
      },
      {
       "output_type": "stream",
       "stream": "stdout",
       "text": [
        "\n",
        "Counter({'first_call-load_image': 1, 'last_call-kill_process': 1})\n",
        "Counter({'first_call-load_image': 1, 'last_call-load_dll': 1})\n",
        "Counter({'first_call-load_image': 1, 'last_call-process': 1})\n",
        "Counter({'first_call-load_image': 1, 'last_call-sleep': 1})"
       ]
      },
      {
       "output_type": "stream",
       "stream": "stdout",
       "text": [
        "\n",
        "Counter({'first_call-load_image': 1, 'last_call-enum_window': 1})\n",
        "Counter({'first_call-load_image': 1, 'last_call-thread': 1})\n",
        "Counter({'first_call-load_image': 1, 'last_call-thread': 1})"
       ]
      },
      {
       "output_type": "stream",
       "stream": "stdout",
       "text": [
        "\n",
        "Counter({'first_call-load_image': 1, 'last_call-thread': 1})"
       ]
      },
      {
       "output_type": "stream",
       "stream": "stdout",
       "text": [
        "\n",
        "Counter({'first_call-load_image': 1, 'last_call-thread': 1})\n",
        "Counter({'first_call-load_image': 1, 'last_call-kill_process': 1})\n",
        "Counter({'first_call-load_image': 1, 'last_call-thread': 1})\n",
        "Counter({'first_call-load_image': 1, 'last_call-kill_process': 1})\n",
        "Counter({'first_call-load_image': 1, 'last_call-open_process': 1})\n",
        "Counter({'first_call-load_image': 1, 'last_call-thread': 1})\n",
        "Counter({'first_call-load_image': 1, 'last_call-thread': 1})"
       ]
      },
      {
       "output_type": "stream",
       "stream": "stdout",
       "text": [
        "\n",
        "Counter({'first_call-load_image': 1, 'last_call-thread': 1})\n",
        "Counter({'first_call-load_image': 1, 'last_call-kill_process': 1})\n",
        "Counter({'first_call-load_image': 1, 'last_call-process': 1})\n",
        "Counter({'first_call-load_image': 1, 'last_call-thread': 1})"
       ]
      },
      {
       "output_type": "stream",
       "stream": "stdout",
       "text": [
        "\n",
        "Counter({'first_call-load_image': 1, 'last_call-thread': 1})"
       ]
      },
      {
       "output_type": "stream",
       "stream": "stdout",
       "text": [
        "\n",
        "Counter({'first_call-load_image': 1, 'last_call-thread': 1})\n",
        "Counter({'first_call-load_image': 1, 'last_call-thread': 1})"
       ]
      },
      {
       "output_type": "stream",
       "stream": "stdout",
       "text": [
        "\n",
        "Counter({'first_call-load_image': 1, 'last_call-kill_process': 1})"
       ]
      },
      {
       "output_type": "stream",
       "stream": "stdout",
       "text": [
        "\n",
        "Counter({'first_call-load_image': 1, 'last_call-process': 1})\n",
        "Counter({'first_call-load_image': 1, 'last_call-enum_window': 1})\n",
        "Counter({'first_call-load_image': 1, 'last_call-load_dll': 1})\n",
        "Counter({'first_call-load_image': 1, 'last_call-thread': 1})"
       ]
      },
      {
       "output_type": "stream",
       "stream": "stdout",
       "text": [
        "\n",
        "Counter({'first_call-load_image': 1, 'last_call-load_dll': 1})"
       ]
      },
      {
       "output_type": "stream",
       "stream": "stdout",
       "text": [
        "\n",
        "Counter({'first_call-load_image': 1, 'last_call-thread': 1})\n",
        "Counter({'first_call-load_image': 1, 'last_call-enum_window': 1})\n",
        "Counter({'first_call-load_image': 1, 'last_call-thread': 1})\n",
        "Counter({'first_call-load_image': 1, 'last_call-process': 1})"
       ]
      },
      {
       "output_type": "stream",
       "stream": "stdout",
       "text": [
        "\n",
        "Counter({'first_call-load_image': 1, 'last_call-load_dll': 1})\n",
        "Counter({'first_call-load_image': 1, 'last_call-load_dll': 1})\n",
        "Counter({'first_call-load_image': 1, 'last_call-thread': 1})"
       ]
      },
      {
       "output_type": "stream",
       "stream": "stdout",
       "text": [
        "\n",
        "Counter({'first_call-load_image': 1, 'last_call-enum_window': 1})"
       ]
      },
      {
       "output_type": "stream",
       "stream": "stdout",
       "text": [
        "\n",
        "Counter({'first_call-load_image': 1, 'last_call-process': 1})\n",
        "Counter({'first_call-load_image': 1, 'last_call-enum_window': 1})\n",
        "Counter({'first_call-load_image': 1, 'last_call-kill_process': 1})\n",
        "Counter({'first_call-load_image': 1, 'last_call-process': 1})"
       ]
      },
      {
       "output_type": "stream",
       "stream": "stdout",
       "text": [
        "\n",
        "Counter({'first_call-load_image': 1, 'last_call-load_dll': 1})"
       ]
      },
      {
       "output_type": "stream",
       "stream": "stdout",
       "text": [
        "\n",
        "Counter({'first_call-load_image': 1, 'last_call-kill_process': 1})\n",
        "Counter({'first_call-load_image': 1, 'last_call-thread': 1})"
       ]
      },
      {
       "output_type": "stream",
       "stream": "stdout",
       "text": [
        "\n",
        "Counter({'first_call-load_image': 1, 'last_call-enum_window': 1})\n",
        "Counter({'first_call-load_image': 1, 'last_call-thread': 1})"
       ]
      },
      {
       "output_type": "stream",
       "stream": "stdout",
       "text": [
        "\n",
        "Counter({'first_call-load_image': 1, 'last_call-kill_process': 1})"
       ]
      },
      {
       "output_type": "stream",
       "stream": "stdout",
       "text": [
        "\n",
        "Counter({'first_call-load_image': 1, 'last_call-process': 1})\n",
        "Counter({'first_call-load_image': 1, 'last_call-kill_process': 1})\n",
        "Counter({'first_call-load_image': 1, 'last_call-thread': 1})"
       ]
      },
      {
       "output_type": "stream",
       "stream": "stdout",
       "text": [
        "\n",
        "Counter({'first_call-load_image': 1, 'last_call-kill_process': 1})\n",
        "Counter({'first_call-load_image': 1, 'last_call-process': 1})"
       ]
      },
      {
       "output_type": "stream",
       "stream": "stdout",
       "text": [
        "\n",
        "Counter({'first_call-load_image': 1, 'last_call-kill_process': 1})\n",
        "Counter({'first_call-load_image': 1, 'last_call-process': 1})"
       ]
      },
      {
       "output_type": "stream",
       "stream": "stdout",
       "text": [
        "\n",
        "Counter({'first_call-load_image': 1, 'last_call-enum_window': 1})"
       ]
      },
      {
       "output_type": "stream",
       "stream": "stdout",
       "text": [
        "\n",
        "Counter({'first_call-load_image': 1, 'last_call-thread': 1})\n",
        "Counter({'first_call-load_image': 1, 'last_call-load_dll': 1})\n",
        "Counter({'first_call-load_image': 1, 'last_call-kill_process': 1})\n",
        "Counter({'first_call-load_image': 1, 'last_call-enum_window': 1})"
       ]
      },
      {
       "output_type": "stream",
       "stream": "stdout",
       "text": [
        "\n",
        "Counter({'first_call-load_image': 1, 'last_call-enum_window': 1})\n",
        "Counter({'first_call-load_image': 1, 'last_call-thread': 1})\n",
        "Counter({'first_call-load_image': 1, 'last_call-get_system_directory': 1})\n",
        "Counter({'first_call-load_image': 1, 'last_call-process': 1})"
       ]
      },
      {
       "output_type": "stream",
       "stream": "stdout",
       "text": [
        "\n",
        "Counter({'first_call-load_image': 1, 'last_call-enum_window': 1})\n",
        "Counter({'first_call-load_image': 1, 'last_call-enum_window': 1})\n",
        "Counter({'first_call-load_image': 1, 'last_call-kill_process': 1})\n",
        "Counter({'first_call-load_image': 1, 'last_call-thread': 1})"
       ]
      },
      {
       "output_type": "stream",
       "stream": "stdout",
       "text": [
        "\n",
        "Counter({'first_call-load_image': 1, 'last_call-thread': 1})\n",
        "Counter({'first_call-load_image': 1, 'last_call-process': 1})\n",
        "Counter({'first_call-load_image': 1, 'last_call-enum_window': 1})\n",
        "Counter({'first_call-load_image': 1, 'last_call-thread': 1})"
       ]
      },
      {
       "output_type": "stream",
       "stream": "stdout",
       "text": [
        "\n",
        "Counter({'first_call-load_image': 1, 'last_call-enum_window': 1})\n",
        "Counter({'first_call-load_image': 1, 'last_call-thread': 1})"
       ]
      },
      {
       "output_type": "stream",
       "stream": "stdout",
       "text": [
        "\n",
        "Counter({'first_call-load_image': 1, 'last_call-thread': 1})\n",
        "Counter({'first_call-load_image': 1, 'last_call-process': 1})\n",
        "Counter({'first_call-load_image': 1, 'last_call-thread': 1})"
       ]
      },
      {
       "output_type": "stream",
       "stream": "stdout",
       "text": [
        "\n",
        "Counter({'first_call-load_image': 1, 'last_call-enum_window': 1})\n",
        "Counter({'first_call-load_image': 1, 'last_call-enum_window': 1})\n",
        "Counter({'first_call-load_image': 1, 'last_call-thread': 1})"
       ]
      },
      {
       "output_type": "stream",
       "stream": "stdout",
       "text": [
        "\n",
        "Counter({'first_call-load_image': 1, 'last_call-thread': 1})"
       ]
      },
      {
       "output_type": "stream",
       "stream": "stdout",
       "text": [
        "\n",
        "Counter({'first_call-load_image': 1, 'last_call-load_dll': 1})"
       ]
      },
      {
       "output_type": "stream",
       "stream": "stdout",
       "text": [
        "\n",
        "Counter({'first_call-load_image': 1, 'last_call-enum_window': 1})\n",
        "Counter({'first_call-load_image': 1, 'last_call-thread': 1})"
       ]
      },
      {
       "output_type": "stream",
       "stream": "stdout",
       "text": [
        "\n",
        "Counter({'first_call-load_image': 1, 'last_call-enum_window': 1})"
       ]
      },
      {
       "output_type": "stream",
       "stream": "stdout",
       "text": [
        "\n",
        "Counter({'first_call-load_image': 1, 'last_call-load_dll': 1})\n",
        "Counter({'first_call-load_image': 1, 'last_call-kill_process': 1})\n",
        "Counter({'first_call-load_image': 1, 'last_call-enum_window': 1})"
       ]
      },
      {
       "output_type": "stream",
       "stream": "stdout",
       "text": [
        "\n",
        "Counter({'first_call-load_image': 1, 'last_call-load_dll': 1})\n",
        "Counter({'first_call-load_image': 1, 'last_call-kill_process': 1})"
       ]
      },
      {
       "output_type": "stream",
       "stream": "stdout",
       "text": [
        "\n",
        "Counter({'first_call-load_image': 1, 'last_call-create_open_file': 1})\n",
        "Counter({'first_call-load_image': 1, 'last_call-thread': 1})"
       ]
      },
      {
       "output_type": "stream",
       "stream": "stdout",
       "text": [
        "\n",
        "Counter({'first_call-load_image': 1, 'last_call-thread': 1})"
       ]
      },
      {
       "output_type": "stream",
       "stream": "stdout",
       "text": [
        "\n",
        "Counter({'first_call-load_image': 1, 'last_call-enum_window': 1})\n",
        "Counter({'first_call-load_image': 1, 'last_call-thread': 1})\n",
        "Counter({'first_call-load_image': 1, 'last_call-thread': 1})\n",
        "Counter({'first_call-load_image': 1, 'last_call-load_dll': 1})"
       ]
      },
      {
       "output_type": "stream",
       "stream": "stdout",
       "text": [
        "\n",
        "Counter({'first_call-load_image': 1, 'last_call-kill_process': 1})\n",
        "Counter({'first_call-load_image': 1, 'last_call-enum_window': 1})\n",
        "Counter({'first_call-load_image': 1, 'last_call-thread': 1})\n",
        "Counter({'first_call-load_image': 1, 'last_call-sleep': 1})"
       ]
      },
      {
       "output_type": "stream",
       "stream": "stdout",
       "text": [
        "\n",
        "Counter({'first_call-load_image': 1, 'last_call-thread': 1})"
       ]
      },
      {
       "output_type": "stream",
       "stream": "stdout",
       "text": [
        "\n",
        "Counter({'first_call-load_image': 1, 'last_call-thread': 1})"
       ]
      },
      {
       "output_type": "stream",
       "stream": "stdout",
       "text": [
        "\n",
        "Counter({'first_call-load_image': 1, 'last_call-kill_process': 1})\n",
        "Counter({'first_call-load_image': 1, 'last_call-get_system_directory': 1})\n",
        "Counter({'first_call-load_image': 1, 'last_call-thread': 1})"
       ]
      },
      {
       "output_type": "stream",
       "stream": "stdout",
       "text": [
        "\n",
        "Counter({'first_call-load_image': 1, 'last_call-enum_window': 1})"
       ]
      },
      {
       "output_type": "stream",
       "stream": "stdout",
       "text": [
        "\n",
        "Counter({'first_call-load_image': 1, 'last_call-thread': 1})"
       ]
      },
      {
       "output_type": "stream",
       "stream": "stdout",
       "text": [
        "\n",
        "Counter({'first_call-load_image': 1, 'last_call-thread': 1})"
       ]
      },
      {
       "output_type": "stream",
       "stream": "stdout",
       "text": [
        "\n",
        "Counter({'first_call-load_image': 1, 'last_call-thread': 1})"
       ]
      },
      {
       "output_type": "stream",
       "stream": "stdout",
       "text": [
        "\n",
        "Counter({'first_call-load_image': 1, 'last_call-thread': 1})"
       ]
      },
      {
       "output_type": "stream",
       "stream": "stdout",
       "text": [
        "\n",
        "Counter({'first_call-load_image': 1, 'last_call-enum_window': 1})\n",
        "Counter({'first_call-load_image': 1, 'last_call-load_dll': 1})\n",
        "Counter({'first_call-load_image': 1, 'last_call-enum_window': 1})"
       ]
      },
      {
       "output_type": "stream",
       "stream": "stdout",
       "text": [
        "\n",
        "Counter({'first_call-load_image': 1, 'last_call-enum_window': 1})"
       ]
      },
      {
       "output_type": "stream",
       "stream": "stdout",
       "text": [
        "\n",
        "Counter({'first_call-load_image': 1, 'last_call-thread': 1})\n",
        "Counter({'first_call-load_image': 1, 'last_call-enum_window': 1})\n",
        "Counter({'first_call-load_image': 1, 'last_call-enum_window': 1})\n",
        "Counter({'first_call-load_image': 1, 'last_call-kill_process': 1})"
       ]
      },
      {
       "output_type": "stream",
       "stream": "stdout",
       "text": [
        "\n",
        "Counter({'first_call-load_image': 1, 'last_call-thread': 1})"
       ]
      },
      {
       "output_type": "stream",
       "stream": "stdout",
       "text": [
        "\n",
        "Counter({'first_call-load_image': 1, 'last_call-enum_window': 1})\n",
        "Counter({'first_call-load_image': 1, 'last_call-enum_window': 1})\n",
        "Counter({'first_call-load_image': 1, 'last_call-enum_window': 1})\n",
        "Counter({'first_call-load_image': 1, 'last_call-process': 1})\n",
        "Counter({'first_call-load_image': 1, 'last_call-thread': 1})"
       ]
      },
      {
       "output_type": "stream",
       "stream": "stdout",
       "text": [
        "\n",
        "Counter({'first_call-load_image': 1, 'last_call-process': 1})"
       ]
      },
      {
       "output_type": "stream",
       "stream": "stdout",
       "text": [
        "\n",
        "Counter({'first_call-load_image': 1, 'last_call-kill_process': 1})\n",
        "Counter({'first_call-load_image': 1, 'last_call-thread': 1})\n",
        "Counter({'first_call-load_image': 1, 'last_call-kill_process': 1})\n",
        "Counter({'first_call-load_image': 1, 'last_call-kill_process': 1})\n",
        "Counter({'first_call-load_image': 1, 'last_call-load_dll': 1})"
       ]
      },
      {
       "output_type": "stream",
       "stream": "stdout",
       "text": [
        "\n",
        "Counter({'first_call-load_image': 1, 'last_call-kill_process': 1})\n",
        "Counter({'first_call-load_image': 1, 'last_call-kill_process': 1})\n",
        "Counter({'first_call-load_image': 1, 'last_call-enum_window': 1})\n",
        "Counter({'first_call-load_image': 1, 'last_call-process': 1})\n",
        "Counter({'first_call-load_image': 1, 'last_call-thread': 1})"
       ]
      },
      {
       "output_type": "stream",
       "stream": "stdout",
       "text": [
        "\n",
        "Counter({'first_call-load_image': 1, 'last_call-kill_process': 1})\n",
        "Counter({'first_call-load_image': 1, 'last_call-kill_process': 1})\n",
        "Counter({'first_call-load_image': 1, 'last_call-kill_process': 1})\n",
        "Counter({'first_call-load_image': 1, 'last_call-thread': 1})\n",
        "Counter({'first_call-load_image': 1, 'last_call-thread': 1})\n",
        "Counter({'first_call-load_image': 1, 'last_call-thread': 1})"
       ]
      },
      {
       "output_type": "stream",
       "stream": "stdout",
       "text": [
        "\n",
        "Counter({'first_call-load_image': 1, 'last_call-thread': 1})"
       ]
      },
      {
       "output_type": "stream",
       "stream": "stdout",
       "text": [
        "\n",
        "Counter({'first_call-load_image': 1, 'last_call-thread': 1})"
       ]
      },
      {
       "output_type": "stream",
       "stream": "stdout",
       "text": [
        "\n",
        "Counter({'first_call-load_image': 1, 'last_call-thread': 1})"
       ]
      },
      {
       "output_type": "stream",
       "stream": "stdout",
       "text": [
        "\n",
        "Counter({'first_call-load_image': 1, 'last_call-enum_window': 1})\n",
        "Counter({'first_call-load_image': 1, 'last_call-thread': 1})"
       ]
      },
      {
       "output_type": "stream",
       "stream": "stdout",
       "text": [
        "\n",
        "Counter({'first_call-load_image': 1, 'last_call-thread': 1})"
       ]
      },
      {
       "output_type": "stream",
       "stream": "stdout",
       "text": [
        "\n",
        "Counter({'first_call-load_image': 1, 'last_call-thread': 1})\n",
        "Counter({'first_call-load_image': 1, 'last_call-thread': 1})\n",
        "Counter({'first_call-load_image': 1, 'last_call-enum_window': 1})\n",
        "Counter({'first_call-load_image': 1, 'last_call-kill_process': 1})\n",
        "Counter({'first_call-load_image': 1, 'last_call-load_dll': 1})\n",
        "Counter({'first_call-load_image': 1, 'last_call-process': 1})"
       ]
      },
      {
       "output_type": "stream",
       "stream": "stdout",
       "text": [
        "\n",
        "Counter({'first_call-load_image': 1, 'last_call-enum_window': 1})\n",
        "Counter({'first_call-load_image': 1, 'last_call-open_process': 1})"
       ]
      },
      {
       "output_type": "stream",
       "stream": "stdout",
       "text": [
        "\n",
        "Counter({'first_call-load_image': 1, 'last_call-thread': 1})"
       ]
      },
      {
       "output_type": "stream",
       "stream": "stdout",
       "text": [
        "\n",
        "Counter({'first_call-load_image': 1, 'last_call-enum_window': 1})\n",
        "Counter({'first_call-load_image': 1, 'last_call-load_dll': 1})\n",
        "Counter({'first_call-load_image': 1, 'last_call-enum_window': 1})\n",
        "Counter({'first_call-load_image': 1, 'last_call-query_value': 1})"
       ]
      },
      {
       "output_type": "stream",
       "stream": "stdout",
       "text": [
        "\n",
        "Counter({'first_call-load_image': 1, 'last_call-thread': 1})\n",
        "Counter({'first_call-load_image': 1, 'last_call-process': 1})"
       ]
      },
      {
       "output_type": "stream",
       "stream": "stdout",
       "text": [
        "\n",
        "Counter({'first_call-load_image': 1, 'last_call-thread': 1})\n",
        "Counter({'first_call-load_image': 1, 'last_call-enum_window': 1})\n",
        "Counter({'first_call-load_image': 1, 'last_call-thread': 1})"
       ]
      },
      {
       "output_type": "stream",
       "stream": "stdout",
       "text": [
        "\n",
        "Counter({'first_call-load_image': 1, 'last_call-kill_process': 1})"
       ]
      },
      {
       "output_type": "stream",
       "stream": "stdout",
       "text": [
        "\n",
        "Counter({'first_call-load_image': 1, 'last_call-kill_process': 1})"
       ]
      },
      {
       "output_type": "stream",
       "stream": "stdout",
       "text": [
        "\n",
        "Counter({'first_call-load_image': 1, 'last_call-thread': 1})\n",
        "Counter({'first_call-load_image': 1, 'last_call-thread': 1})\n",
        "Counter({'first_call-load_image': 1, 'last_call-kill_process': 1})\n",
        "Counter({'first_call-load_image': 1, 'last_call-kill_process': 1})"
       ]
      },
      {
       "output_type": "stream",
       "stream": "stdout",
       "text": [
        "\n",
        "Counter({'first_call-load_image': 1, 'last_call-thread': 1})\n",
        "Counter({'first_call-load_image': 1, 'last_call-connect_socket': 1})"
       ]
      },
      {
       "output_type": "stream",
       "stream": "stdout",
       "text": [
        "\n",
        "Counter({'first_call-load_image': 1, 'last_call-thread': 1})\n",
        "Counter({'first_call-load_image': 1, 'last_call-get_system_directory': 1})"
       ]
      },
      {
       "output_type": "stream",
       "stream": "stdout",
       "text": [
        "\n",
        "Counter({'first_call-load_image': 1, 'last_call-thread': 1})\n",
        "Counter({'first_call-load_image': 1, 'last_call-thread': 1})\n",
        "Counter({'first_call-load_image': 1, 'last_call-thread': 1})"
       ]
      },
      {
       "output_type": "stream",
       "stream": "stdout",
       "text": [
        "\n",
        "Counter({'first_call-load_image': 1, 'last_call-process': 1})\n",
        "Counter({'first_call-load_image': 1, 'last_call-thread': 1})"
       ]
      },
      {
       "output_type": "stream",
       "stream": "stdout",
       "text": [
        "\n",
        "Counter({'first_call-load_image': 1, 'last_call-thread': 1})"
       ]
      },
      {
       "output_type": "stream",
       "stream": "stdout",
       "text": [
        "\n",
        "Counter({'first_call-load_image': 1, 'last_call-thread': 1})"
       ]
      },
      {
       "output_type": "stream",
       "stream": "stdout",
       "text": [
        "\n",
        "Counter({'first_call-load_image': 1, 'last_call-kill_process': 1})"
       ]
      },
      {
       "output_type": "stream",
       "stream": "stdout",
       "text": [
        "\n",
        "Counter({'first_call-load_image': 1, 'last_call-thread': 1})\n",
        "Counter({'first_call-load_image': 1, 'last_call-thread': 1})\n",
        "Counter({'first_call-load_image': 1, 'last_call-process': 1})"
       ]
      },
      {
       "output_type": "stream",
       "stream": "stdout",
       "text": [
        "\n",
        "Counter({'first_call-load_image': 1, 'last_call-kill_process': 1})"
       ]
      },
      {
       "output_type": "stream",
       "stream": "stdout",
       "text": [
        "\n",
        "Counter({'first_call-load_image': 1, 'last_call-thread': 1})\n",
        "Counter({'first_call-load_image': 1, 'last_call-load_dll': 1})"
       ]
      },
      {
       "output_type": "stream",
       "stream": "stdout",
       "text": [
        "\n",
        "Counter({'first_call-load_image': 1, 'last_call-load_dll': 1})\n",
        "Counter({'first_call-load_image': 1, 'last_call-thread': 1})"
       ]
      },
      {
       "output_type": "stream",
       "stream": "stdout",
       "text": [
        "\n",
        "Counter({'first_call-load_image': 1, 'last_call-thread': 1})\n",
        "Counter({'first_call-load_image': 1, 'last_call-kill_process': 1})\n",
        "Counter({'first_call-load_image': 1, 'last_call-enum_window': 1})"
       ]
      },
      {
       "output_type": "stream",
       "stream": "stdout",
       "text": [
        "\n",
        "Counter({'first_call-load_image': 1, 'last_call-enum_window': 1})\n",
        "Counter({'first_call-load_image': 1, 'last_call-kill_process': 1})\n",
        "Counter({'first_call-load_image': 1, 'last_call-enum_window': 1})\n",
        "Counter({'first_call-load_image': 1, 'last_call-process': 1})"
       ]
      },
      {
       "output_type": "stream",
       "stream": "stdout",
       "text": [
        "\n",
        "Counter({'first_call-load_image': 1, 'last_call-thread': 1})\n",
        "Counter({'first_call-load_image': 1, 'last_call-enum_window': 1})\n",
        "Counter({'first_call-load_image': 1, 'last_call-load_dll': 1})\n",
        "Counter({'first_call-load_image': 1, 'last_call-thread': 1})\n",
        "Counter({'first_call-load_image': 1, 'last_call-enum_window': 1})\n",
        "Counter({'first_call-load_image': 1, 'last_call-open_process': 1})\n",
        "Counter({'first_call-load_image': 1, 'last_call-thread': 1})\n",
        "Counter({'first_call-load_image': 1, 'last_call-thread': 1})\n",
        "Counter({'first_call-load_image': 1, 'last_call-kill_process': 1})"
       ]
      },
      {
       "output_type": "stream",
       "stream": "stdout",
       "text": [
        "\n",
        "Counter({'first_call-load_image': 1, 'last_call-thread': 1})\n",
        "Counter({'first_call-load_image': 1, 'last_call-process': 1})\n",
        "Counter({'first_call-load_image': 1, 'last_call-find_window': 1})"
       ]
      },
      {
       "output_type": "stream",
       "stream": "stdout",
       "text": [
        "\n",
        "Counter({'first_call-load_image': 1, 'last_call-enum_window': 1})"
       ]
      },
      {
       "output_type": "stream",
       "stream": "stdout",
       "text": [
        "\n",
        "Counter({'first_call-load_image': 1, 'last_call-enum_window': 1})\n",
        "Counter({'first_call-load_image': 1, 'last_call-open_process': 1})\n",
        "Counter({'first_call-load_image': 1, 'last_call-thread': 1})"
       ]
      },
      {
       "output_type": "stream",
       "stream": "stdout",
       "text": [
        "\n",
        "Counter({'first_call-load_image': 1, 'last_call-enum_window': 1})\n",
        "Counter({'first_call-load_image': 1, 'last_call-kill_process': 1})\n",
        "Counter({'first_call-load_image': 1, 'last_call-thread': 1})\n",
        "Counter({'first_call-load_image': 1, 'last_call-thread': 1})"
       ]
      },
      {
       "output_type": "stream",
       "stream": "stdout",
       "text": [
        "\n",
        "Counter({'first_call-load_image': 1, 'last_call-thread': 1})\n",
        "Counter({'first_call-load_image': 1, 'last_call-kill_process': 1})\n",
        "Counter({'first_call-load_image': 1, 'last_call-kill_process': 1})\n",
        "Counter({'first_call-load_image': 1, 'last_call-process': 1})"
       ]
      },
      {
       "output_type": "stream",
       "stream": "stdout",
       "text": [
        "\n",
        "Counter({'first_call-load_image': 1, 'last_call-thread': 1})\n",
        "Counter({'first_call-load_image': 1, 'last_call-kill_process': 1})\n",
        "Counter({'first_call-load_image': 1, 'last_call-kill_process': 1})\n",
        "Counter({'first_call-load_image': 1, 'last_call-open_process': 1})\n",
        "Counter({'first_call-load_image': 1, 'last_call-thread': 1})\n",
        "Counter({'first_call-load_image': 1, 'last_call-thread': 1})"
       ]
      },
      {
       "output_type": "stream",
       "stream": "stdout",
       "text": [
        "\n",
        "Counter({'first_call-load_image': 1, 'last_call-enum_window': 1})"
       ]
      },
      {
       "output_type": "stream",
       "stream": "stdout",
       "text": [
        "\n",
        "Counter({'first_call-load_image': 1, 'last_call-enum_window': 1})\n",
        "Counter({'first_call-load_image': 1, 'last_call-thread': 1})"
       ]
      },
      {
       "output_type": "stream",
       "stream": "stdout",
       "text": [
        "\n",
        "Counter({'first_call-load_image': 1, 'last_call-load_dll': 1})"
       ]
      },
      {
       "output_type": "stream",
       "stream": "stdout",
       "text": [
        "\n",
        "Counter({'first_call-load_image': 1, 'last_call-kill_process': 1})\n",
        "Counter({'first_call-load_image': 1, 'last_call-sleep': 1})\n",
        "Counter({'first_call-load_image': 1, 'last_call-thread': 1})\n",
        "Counter({'first_call-load_image': 1, 'last_call-thread': 1})"
       ]
      },
      {
       "output_type": "stream",
       "stream": "stdout",
       "text": [
        "\n",
        "Counter({'first_call-load_image': 1, 'last_call-kill_process': 1})"
       ]
      },
      {
       "output_type": "stream",
       "stream": "stdout",
       "text": [
        "\n",
        "Counter({'first_call-load_image': 1, 'last_call-process': 1})\n",
        "Counter({'first_call-load_image': 1, 'last_call-process': 1})\n",
        "Counter({'first_call-load_image': 1, 'last_call-get_system_directory': 1})\n",
        "Counter({'first_call-load_image': 1, 'last_call-sleep': 1})"
       ]
      },
      {
       "output_type": "stream",
       "stream": "stdout",
       "text": [
        "\n",
        "Counter({'first_call-load_image': 1, 'last_call-thread': 1})"
       ]
      },
      {
       "output_type": "stream",
       "stream": "stdout",
       "text": [
        "\n",
        "Counter({'first_call-load_image': 1, 'last_call-thread': 1})\n",
        "Counter({'first_call-load_image': 1, 'last_call-process': 1})\n",
        "Counter({'first_call-load_image': 1, 'last_call-kill_process': 1})\n",
        "Counter({'first_call-load_image': 1, 'last_call-enum_window': 1})"
       ]
      },
      {
       "output_type": "stream",
       "stream": "stdout",
       "text": [
        "\n",
        "Counter({'first_call-load_image': 1, 'last_call-kill_process': 1})\n",
        "Counter({'first_call-load_image': 1, 'last_call-thread': 1})"
       ]
      },
      {
       "output_type": "stream",
       "stream": "stdout",
       "text": [
        "\n",
        "Counter({'first_call-load_image': 1, 'last_call-kill_process': 1})"
       ]
      },
      {
       "output_type": "stream",
       "stream": "stdout",
       "text": [
        "\n",
        "Counter({'first_call-load_image': 1, 'last_call-thread': 1})"
       ]
      },
      {
       "output_type": "stream",
       "stream": "stdout",
       "text": [
        "\n",
        "Counter({'first_call-load_image': 1, 'last_call-thread': 1})"
       ]
      },
      {
       "output_type": "stream",
       "stream": "stdout",
       "text": [
        "\n",
        "Counter({'first_call-load_image': 1, 'last_call-thread': 1})"
       ]
      },
      {
       "output_type": "stream",
       "stream": "stdout",
       "text": [
        "\n",
        "Counter({'first_call-load_image': 1, 'last_call-kill_process': 1})"
       ]
      },
      {
       "output_type": "stream",
       "stream": "stdout",
       "text": [
        "\n",
        "Counter({'first_call-load_image': 1, 'last_call-process': 1})"
       ]
      },
      {
       "output_type": "stream",
       "stream": "stdout",
       "text": [
        "\n",
        "Counter({'first_call-load_image': 1, 'last_call-thread': 1})"
       ]
      },
      {
       "output_type": "stream",
       "stream": "stdout",
       "text": [
        "\n",
        "Counter({'first_call-load_image': 1, 'last_call-thread': 1})"
       ]
      },
      {
       "output_type": "stream",
       "stream": "stdout",
       "text": [
        "\n",
        "Counter({'first_call-load_image': 1, 'last_call-kill_process': 1})"
       ]
      },
      {
       "output_type": "stream",
       "stream": "stdout",
       "text": [
        "\n",
        "Counter({'first_call-load_image': 1, 'last_call-kill_process': 1})\n",
        "Counter({'first_call-load_image': 1, 'last_call-thread': 1})"
       ]
      },
      {
       "output_type": "stream",
       "stream": "stdout",
       "text": [
        "\n",
        "Counter({'first_call-load_image': 1, 'last_call-thread': 1})"
       ]
      },
      {
       "output_type": "stream",
       "stream": "stdout",
       "text": [
        "\n",
        "Counter({'first_call-load_image': 1, 'last_call-thread': 1})\n",
        "Counter({'first_call-load_image': 1, 'last_call-thread': 1})\n",
        "Counter({'first_call-load_image': 1, 'last_call-thread': 1})"
       ]
      },
      {
       "output_type": "stream",
       "stream": "stdout",
       "text": [
        "\n",
        "Counter({'first_call-load_image': 1, 'last_call-thread': 1})"
       ]
      },
      {
       "output_type": "stream",
       "stream": "stdout",
       "text": [
        "\n",
        "Counter({'first_call-load_image': 1, 'last_call-thread': 1})\n",
        "Counter({'first_call-load_image': 1, 'last_call-kill_process': 1})\n",
        "Counter({'first_call-load_image': 1, 'last_call-thread': 1})"
       ]
      },
      {
       "output_type": "stream",
       "stream": "stdout",
       "text": [
        "\n",
        "Counter({'first_call-load_image': 1, 'last_call-process': 1})"
       ]
      },
      {
       "output_type": "stream",
       "stream": "stdout",
       "text": [
        "\n",
        "Counter({'first_call-load_image': 1, 'last_call-sleep': 1})\n",
        "Counter({'first_call-load_image': 1, 'last_call-kill_process': 1})\n",
        "Counter({'first_call-load_image': 1, 'last_call-thread': 1})\n",
        "Counter({'first_call-load_image': 1, 'last_call-thread': 1})"
       ]
      },
      {
       "output_type": "stream",
       "stream": "stdout",
       "text": [
        "\n",
        "Counter({'first_call-load_image': 1, 'last_call-process': 1})\n",
        "Counter({'first_call-load_image': 1, 'last_call-thread': 1})\n",
        "Counter({'first_call-load_image': 1, 'last_call-enum_window': 1})\n",
        "Counter({'first_call-load_image': 1, 'last_call-kill_process': 1})\n",
        "Counter({'first_call-load_image': 1, 'last_call-kill_process': 1})"
       ]
      },
      {
       "output_type": "stream",
       "stream": "stdout",
       "text": [
        "\n",
        "Counter({'first_call-load_image': 1, 'last_call-kill_process': 1})"
       ]
      },
      {
       "output_type": "stream",
       "stream": "stdout",
       "text": [
        "\n",
        "Counter({'first_call-load_image': 1, 'last_call-thread': 1})"
       ]
      },
      {
       "output_type": "stream",
       "stream": "stdout",
       "text": [
        "\n",
        "Counter({'first_call-load_image': 1, 'last_call-kill_process': 1})"
       ]
      },
      {
       "output_type": "stream",
       "stream": "stdout",
       "text": [
        "\n",
        "Counter({'first_call-load_image': 1, 'last_call-kill_process': 1})\n",
        "Counter({'first_call-load_image': 1, 'last_call-enum_window': 1})\n",
        "Counter({'first_call-load_image': 1, 'last_call-thread': 1})\n",
        "Counter({'first_call-load_image': 1, 'last_call-kill_process': 1})\n",
        "Counter({'first_call-load_image': 1, 'last_call-enum_window': 1})\n",
        "Counter({'first_call-load_image': 1, 'last_call-load_dll': 1})\n",
        "Counter({'first_call-load_image': 1, 'last_call-process': 1})"
       ]
      },
      {
       "output_type": "stream",
       "stream": "stdout",
       "text": [
        "\n",
        "Counter({'first_call-load_image': 1, 'last_call-thread': 1})\n",
        "Counter({'first_call-load_image': 1, 'last_call-enum_window': 1})\n",
        "Counter({'first_call-load_image': 1, 'last_call-enum_window': 1})\n",
        "Counter({'first_call-load_image': 1, 'last_call-thread': 1})"
       ]
      },
      {
       "output_type": "stream",
       "stream": "stdout",
       "text": [
        "\n",
        "Counter({'first_call-load_image': 1, 'last_call-thread': 1})\n",
        "Counter({'first_call-load_image': 1, 'last_call-load_dll': 1})"
       ]
      },
      {
       "output_type": "stream",
       "stream": "stdout",
       "text": [
        "\n",
        "Counter({'first_call-load_image': 1, 'last_call-thread': 1})"
       ]
      },
      {
       "output_type": "stream",
       "stream": "stdout",
       "text": [
        "\n",
        "Counter({'first_call-load_image': 1, 'last_call-thread': 1})"
       ]
      },
      {
       "output_type": "stream",
       "stream": "stdout",
       "text": [
        "\n",
        "Counter({'first_call-load_image': 1, 'last_call-thread': 1})"
       ]
      },
      {
       "output_type": "stream",
       "stream": "stdout",
       "text": [
        "\n",
        "Counter({'first_call-load_image': 1, 'last_call-kill_process': 1})\n",
        "Counter({'first_call-load_image': 1, 'last_call-load_dll': 1})"
       ]
      },
      {
       "output_type": "stream",
       "stream": "stdout",
       "text": [
        "\n",
        "Counter({'first_call-load_image': 1, 'last_call-thread': 1})"
       ]
      },
      {
       "output_type": "stream",
       "stream": "stdout",
       "text": [
        "\n",
        "Counter({'first_call-load_image': 1, 'last_call-open_process': 1})"
       ]
      },
      {
       "output_type": "stream",
       "stream": "stdout",
       "text": [
        "\n",
        "Counter({'first_call-load_image': 1, 'last_call-kill_process': 1})\n",
        "Counter({'first_call-load_image': 1, 'last_call-kill_process': 1})\n",
        "Counter({'first_call-load_image': 1, 'last_call-enum_window': 1})\n",
        "Counter({'first_call-load_image': 1, 'last_call-thread': 1})"
       ]
      },
      {
       "output_type": "stream",
       "stream": "stdout",
       "text": [
        "\n",
        "Counter({'first_call-load_image': 1, 'last_call-kill_process': 1})"
       ]
      },
      {
       "output_type": "stream",
       "stream": "stdout",
       "text": [
        "\n",
        "Counter({'first_call-load_image': 1, 'last_call-kill_process': 1})\n",
        "Counter({'first_call-load_image': 1, 'last_call-enum_window': 1})\n",
        "Counter({'first_call-load_image': 1, 'last_call-download_file': 1})\n",
        "Counter({'first_call-load_image': 1, 'last_call-kill_process': 1})\n",
        "Counter({'first_call-load_image': 1, 'last_call-check_for_debugger': 1})\n",
        "Counter({'first_call-load_image': 1, 'last_call-thread': 1})"
       ]
      },
      {
       "output_type": "stream",
       "stream": "stdout",
       "text": [
        "\n",
        "Counter({'first_call-load_image': 1, 'last_call-kill_process': 1})\n",
        "Counter({'first_call-load_image': 1, 'last_call-thread': 1})"
       ]
      },
      {
       "output_type": "stream",
       "stream": "stdout",
       "text": [
        "\n",
        "Counter({'first_call-load_image': 1, 'last_call-thread': 1})\n",
        "Counter({'first_call-load_image': 1, 'last_call-enum_window': 1})\n",
        "Counter({'first_call-load_image': 1, 'last_call-enum_window': 1})"
       ]
      },
      {
       "output_type": "stream",
       "stream": "stdout",
       "text": [
        "\n",
        "Counter({'first_call-load_image': 1, 'last_call-process': 1})\n",
        "Counter({'first_call-load_image': 1, 'last_call-thread': 1})"
       ]
      },
      {
       "output_type": "stream",
       "stream": "stdout",
       "text": [
        "\n",
        "Counter({'first_call-load_image': 1, 'last_call-thread': 1})\n",
        "Counter({'first_call-load_image': 1, 'last_call-process': 1})"
       ]
      },
      {
       "output_type": "stream",
       "stream": "stdout",
       "text": [
        "\n",
        "Counter({'first_call-load_image': 1, 'last_call-thread': 1})\n",
        "Counter({'first_call-load_image': 1, 'last_call-process': 1})\n",
        "Counter({'first_call-load_image': 1, 'last_call-thread': 1})"
       ]
      },
      {
       "output_type": "stream",
       "stream": "stdout",
       "text": [
        "\n",
        "Counter({'first_call-load_image': 1, 'last_call-enum_window': 1})"
       ]
      },
      {
       "output_type": "stream",
       "stream": "stdout",
       "text": [
        "\n",
        "Counter({'first_call-load_image': 1, 'last_call-kill_process': 1})\n",
        "Counter({'first_call-load_image': 1, 'last_call-kill_process': 1})\n",
        "Counter({'first_call-load_image': 1, 'last_call-enum_window': 1})"
       ]
      },
      {
       "output_type": "stream",
       "stream": "stdout",
       "text": [
        "\n",
        "Counter({'first_call-load_image': 1, 'last_call-thread': 1})\n",
        "Counter({'first_call-load_image': 1, 'last_call-kill_process': 1})"
       ]
      },
      {
       "output_type": "stream",
       "stream": "stdout",
       "text": [
        "\n",
        "Counter({'first_call-load_image': 1, 'last_call-process': 1})\n",
        "Counter({'first_call-load_image': 1, 'last_call-thread': 1})"
       ]
      },
      {
       "output_type": "stream",
       "stream": "stdout",
       "text": [
        "\n",
        "Counter({'first_call-load_image': 1, 'last_call-kill_process': 1})\n",
        "Counter({'first_call-load_image': 1, 'last_call-process': 1})"
       ]
      },
      {
       "output_type": "stream",
       "stream": "stdout",
       "text": [
        "\n",
        "Counter({'first_call-load_image': 1, 'last_call-load_dll': 1})\n",
        "Counter({'first_call-load_image': 1, 'last_call-dump_line': 1})"
       ]
      },
      {
       "output_type": "stream",
       "stream": "stdout",
       "text": [
        "\n",
        "Counter({'first_call-load_image': 1, 'last_call-enum_window': 1})\n",
        "Counter({'first_call-load_image': 1, 'last_call-thread': 1})\n",
        "Counter({'first_call-load_image': 1, 'last_call-kill_process': 1})\n",
        "Counter({'first_call-load_image': 1, 'last_call-open_process': 1})\n",
        "Counter({'first_call-load_image': 1, 'last_call-thread': 1})\n",
        "Counter({'first_call-load_image': 1, 'last_call-thread': 1})\n",
        "Counter({'first_call-load_image': 1, 'last_call-process': 1})"
       ]
      },
      {
       "output_type": "stream",
       "stream": "stdout",
       "text": [
        "\n",
        "Counter({'first_call-load_image': 1, 'last_call-thread': 1})"
       ]
      },
      {
       "output_type": "stream",
       "stream": "stdout",
       "text": [
        "\n",
        "Counter({'first_call-load_image': 1, 'last_call-thread': 1})"
       ]
      },
      {
       "output_type": "stream",
       "stream": "stdout",
       "text": [
        "\n",
        "Counter({'first_call-load_image': 1, 'last_call-enum_window': 1})\n",
        "Counter({'first_call-load_image': 1, 'last_call-thread': 1})\n",
        "Counter({'first_call-load_image': 1, 'last_call-load_dll': 1})\n",
        "Counter({'first_call-load_image': 1, 'last_call-thread': 1})\n",
        "Counter({'first_call-load_image': 1, 'last_call-create_thread': 1})\n",
        "Counter({'first_call-load_image': 1, 'last_call-kill_process': 1})"
       ]
      },
      {
       "output_type": "stream",
       "stream": "stdout",
       "text": [
        "\n",
        "Counter({'first_call-load_image': 1, 'last_call-thread': 1})"
       ]
      },
      {
       "output_type": "stream",
       "stream": "stdout",
       "text": [
        "\n",
        "Counter({'first_call-load_image': 1, 'last_call-thread': 1})"
       ]
      },
      {
       "output_type": "stream",
       "stream": "stdout",
       "text": [
        "\n",
        "Counter({'first_call-load_image': 1, 'last_call-enum_window': 1})"
       ]
      },
      {
       "output_type": "stream",
       "stream": "stdout",
       "text": [
        "\n",
        "Counter({'first_call-load_image': 1, 'last_call-kill_process': 1})\n",
        "Counter({'first_call-load_image': 1, 'last_call-thread': 1})"
       ]
      },
      {
       "output_type": "stream",
       "stream": "stdout",
       "text": [
        "\n",
        "Counter({'first_call-load_image': 1, 'last_call-enum_window': 1})"
       ]
      },
      {
       "output_type": "stream",
       "stream": "stdout",
       "text": [
        "\n",
        "Counter({'first_call-load_image': 1, 'last_call-load_dll': 1})\n",
        "Counter({'first_call-load_image': 1, 'last_call-enum_window': 1})\n",
        "Counter({'first_call-load_image': 1, 'last_call-kill_process': 1})\n",
        "Counter({'first_call-load_image': 1, 'last_call-thread': 1})\n",
        "Counter({'first_call-load_image': 1, 'last_call-enum_window': 1})\n",
        "Counter({'first_call-load_image': 1, 'last_call-enum_window': 1})"
       ]
      },
      {
       "output_type": "stream",
       "stream": "stdout",
       "text": [
        "\n",
        "Counter({'first_call-load_image': 1, 'last_call-enum_window': 1})\n",
        "Counter({'first_call-load_image': 1, 'last_call-kill_process': 1})\n",
        "Counter({'first_call-load_image': 1, 'last_call-thread': 1})\n",
        "Counter({'first_call-load_image': 1, 'last_call-kill_process': 1})\n",
        "Counter({'first_call-load_image': 1, 'last_call-sleep': 1})"
       ]
      },
      {
       "output_type": "stream",
       "stream": "stdout",
       "text": [
        "\n",
        "Counter({'first_call-load_image': 1, 'last_call-thread': 1})"
       ]
      },
      {
       "output_type": "stream",
       "stream": "stdout",
       "text": [
        "\n",
        "Counter({'first_call-load_image': 1, 'last_call-load_dll': 1})"
       ]
      },
      {
       "output_type": "stream",
       "stream": "stdout",
       "text": [
        "\n",
        "Counter({'first_call-load_image': 1, 'last_call-thread': 1})\n",
        "Counter({'first_call-load_image': 1, 'last_call-get_system_time': 1})"
       ]
      },
      {
       "output_type": "stream",
       "stream": "stdout",
       "text": [
        "\n",
        "Counter({'first_call-load_image': 1, 'last_call-thread': 1})"
       ]
      },
      {
       "output_type": "stream",
       "stream": "stdout",
       "text": [
        "\n",
        "Counter({'first_call-load_image': 1, 'last_call-thread': 1})"
       ]
      },
      {
       "output_type": "stream",
       "stream": "stdout",
       "text": [
        "\n",
        "Counter({'first_call-load_image': 1, 'last_call-kill_process': 1})\n",
        "Counter({'first_call-load_image': 1, 'last_call-thread': 1})\n",
        "Counter({'first_call-load_image': 1, 'last_call-thread': 1})"
       ]
      },
      {
       "output_type": "stream",
       "stream": "stdout",
       "text": [
        "\n",
        "Counter({'first_call-load_image': 1, 'last_call-kill_process': 1})"
       ]
      },
      {
       "output_type": "stream",
       "stream": "stdout",
       "text": [
        "\n",
        "Counter({'first_call-load_image': 1, 'last_call-thread': 1})"
       ]
      },
      {
       "output_type": "stream",
       "stream": "stdout",
       "text": [
        "\n",
        "Counter({'first_call-load_image': 1, 'last_call-thread': 1})"
       ]
      },
      {
       "output_type": "stream",
       "stream": "stdout",
       "text": [
        "\n",
        "Counter({'first_call-load_image': 1, 'last_call-enum_window': 1})\n",
        "Counter({'first_call-load_image': 1, 'last_call-thread': 1})\n",
        "Counter({'first_call-load_image': 1, 'last_call-load_dll': 1})"
       ]
      },
      {
       "output_type": "stream",
       "stream": "stdout",
       "text": [
        "\n",
        "Counter({'first_call-load_image': 1, 'last_call-enum_window': 1})\n",
        "Counter({'first_call-load_image': 1, 'last_call-thread': 1})\n",
        "Counter({'first_call-load_image': 1, 'last_call-thread': 1})\n",
        "Counter({'first_call-load_image': 1, 'last_call-thread': 1})"
       ]
      },
      {
       "output_type": "stream",
       "stream": "stdout",
       "text": [
        "\n",
        "Counter({'first_call-load_image': 1, 'last_call-process': 1})"
       ]
      },
      {
       "output_type": "stream",
       "stream": "stdout",
       "text": [
        "\n",
        "Counter({'first_call-load_image': 1, 'last_call-sleep': 1})"
       ]
      },
      {
       "output_type": "stream",
       "stream": "stdout",
       "text": [
        "\n",
        "Counter({'first_call-load_image': 1, 'last_call-enum_window': 1})"
       ]
      },
      {
       "output_type": "stream",
       "stream": "stdout",
       "text": [
        "\n",
        "Counter({'first_call-load_image': 1, 'last_call-thread': 1})"
       ]
      },
      {
       "output_type": "stream",
       "stream": "stdout",
       "text": [
        "\n",
        "Counter({'first_call-load_image': 1, 'last_call-thread': 1})\n",
        "Counter({'first_call-load_image': 1, 'last_call-process': 1})\n",
        "Counter({'first_call-load_image': 1, 'last_call-kill_process': 1})\n",
        "Counter({'first_call-load_image': 1, 'last_call-process': 1})"
       ]
      },
      {
       "output_type": "stream",
       "stream": "stdout",
       "text": [
        "\n",
        "Counter({'first_call-load_image': 1, 'last_call-kill_process': 1})\n",
        "Counter({'first_call-load_image': 1, 'last_call-thread': 1})"
       ]
      },
      {
       "output_type": "stream",
       "stream": "stdout",
       "text": [
        "\n",
        "Counter({'first_call-load_image': 1, 'last_call-kill_process': 1})"
       ]
      },
      {
       "output_type": "stream",
       "stream": "stdout",
       "text": [
        "\n",
        "Counter({'first_call-load_image': 1, 'last_call-kill_process': 1})\n",
        "Counter({'first_call-load_image': 1, 'last_call-enum_window': 1})\n",
        "Counter({'first_call-load_image': 1, 'last_call-enum_window': 1})\n",
        "Counter({'first_call-load_image': 1, 'last_call-kill_process': 1})\n",
        "Counter({'first_call-load_image': 1, 'last_call-kill_process': 1})"
       ]
      },
      {
       "output_type": "stream",
       "stream": "stdout",
       "text": [
        "\n",
        "Counter({'first_call-load_image': 1, 'last_call-thread': 1})"
       ]
      },
      {
       "output_type": "stream",
       "stream": "stdout",
       "text": [
        "\n",
        "Counter({'first_call-load_image': 1, 'last_call-thread': 1})"
       ]
      },
      {
       "output_type": "stream",
       "stream": "stdout",
       "text": [
        "\n",
        "Counter({'first_call-load_image': 1, 'last_call-thread': 1})"
       ]
      },
      {
       "output_type": "stream",
       "stream": "stdout",
       "text": [
        "\n",
        "Counter({'first_call-load_image': 1, 'last_call-thread': 1})\n",
        "Counter({'first_call-load_image': 1, 'last_call-kill_process': 1})"
       ]
      },
      {
       "output_type": "stream",
       "stream": "stdout",
       "text": [
        "\n",
        "Counter({'first_call-load_image': 1, 'last_call-enum_window': 1})\n",
        "Counter({'first_call-load_image': 1, 'last_call-enum_window': 1})\n",
        "Counter({'first_call-load_image': 1, 'last_call-enum_window': 1})\n",
        "Counter({'first_call-load_image': 1, 'last_call-enum_window': 1})\n",
        "Counter({'first_call-load_image': 1, 'last_call-kill_process': 1})\n",
        "Counter({'first_call-load_image': 1, 'last_call-thread': 1})"
       ]
      },
      {
       "output_type": "stream",
       "stream": "stdout",
       "text": [
        "\n",
        "Counter({'first_call-load_image': 1, 'last_call-enum_window': 1})"
       ]
      },
      {
       "output_type": "stream",
       "stream": "stdout",
       "text": [
        "\n",
        "Counter({'first_call-load_image': 1, 'last_call-thread': 1})"
       ]
      },
      {
       "output_type": "stream",
       "stream": "stdout",
       "text": [
        "\n",
        "Counter({'first_call-load_image': 1, 'last_call-kill_process': 1})"
       ]
      },
      {
       "output_type": "stream",
       "stream": "stdout",
       "text": [
        "\n",
        "Counter({'first_call-load_image': 1, 'last_call-enum_window': 1})\n",
        "Counter({'first_call-load_image': 1, 'last_call-enum_window': 1})"
       ]
      },
      {
       "output_type": "stream",
       "stream": "stdout",
       "text": [
        "\n",
        "Counter({'first_call-load_image': 1, 'last_call-thread': 1})\n",
        "Counter({'first_call-load_image': 1, 'last_call-kill_process': 1})\n",
        "Counter({'first_call-load_image': 1, 'last_call-kill_process': 1})\n",
        "Counter({'first_call-load_image': 1, 'last_call-process': 1})"
       ]
      },
      {
       "output_type": "stream",
       "stream": "stdout",
       "text": [
        "\n",
        "Counter({'first_call-load_image': 1, 'last_call-get_system_directory': 1})\n",
        "Counter({'first_call-load_image': 1, 'last_call-thread': 1})"
       ]
      },
      {
       "output_type": "stream",
       "stream": "stdout",
       "text": [
        "\n",
        "Counter({'first_call-load_image': 1, 'last_call-enum_window': 1})"
       ]
      },
      {
       "output_type": "stream",
       "stream": "stdout",
       "text": [
        "\n",
        "Counter({'first_call-load_image': 1, 'last_call-kill_process': 1})"
       ]
      },
      {
       "output_type": "stream",
       "stream": "stdout",
       "text": [
        "\n",
        "Counter({'first_call-load_image': 1, 'last_call-enum_window': 1})"
       ]
      },
      {
       "output_type": "stream",
       "stream": "stdout",
       "text": [
        "\n",
        "Counter({'first_call-load_image': 1, 'last_call-thread': 1})\n",
        "Counter({'first_call-load_image': 1, 'last_call-enum_window': 1})\n",
        "Counter({'first_call-load_image': 1, 'last_call-thread': 1})\n",
        "Counter({'first_call-load_image': 1, 'last_call-load_dll': 1})\n",
        "Counter({'first_call-load_image': 1, 'last_call-thread': 1})"
       ]
      },
      {
       "output_type": "stream",
       "stream": "stdout",
       "text": [
        "\n",
        "Counter({'first_call-load_image': 1, 'last_call-kill_process': 1})"
       ]
      },
      {
       "output_type": "stream",
       "stream": "stdout",
       "text": [
        "\n",
        "Counter({'first_call-load_image': 1, 'last_call-thread': 1})"
       ]
      },
      {
       "output_type": "stream",
       "stream": "stdout",
       "text": [
        "\n",
        "Counter({'first_call-load_image': 1, 'last_call-create_open_file': 1})\n",
        "Counter({'first_call-load_image': 1, 'last_call-thread': 1})\n",
        "Counter({'first_call-load_image': 1, 'last_call-thread': 1})"
       ]
      },
      {
       "output_type": "stream",
       "stream": "stdout",
       "text": [
        "\n",
        "Counter({'first_call-load_image': 1, 'last_call-thread': 1})"
       ]
      },
      {
       "output_type": "stream",
       "stream": "stdout",
       "text": [
        "\n",
        "Counter({'first_call-load_image': 1, 'last_call-kill_process': 1})"
       ]
      },
      {
       "output_type": "stream",
       "stream": "stdout",
       "text": [
        "\n",
        "Counter({'first_call-load_image': 1, 'last_call-thread': 1})\n",
        "Counter({'first_call-load_image': 1, 'last_call-kill_process': 1})\n",
        "Counter({'first_call-load_image': 1, 'last_call-thread': 1})\n",
        "Counter({'first_call-load_image': 1, 'last_call-process': 1})\n",
        "Counter({'first_call-load_image': 1, 'last_call-thread': 1})\n",
        "Counter({'first_call-load_image': 1, 'last_call-enum_window': 1})\n",
        "Counter({'first_call-load_image': 1, 'last_call-thread': 1})\n",
        "Counter({'first_call-load_image': 1, 'last_call-thread': 1})"
       ]
      },
      {
       "output_type": "stream",
       "stream": "stdout",
       "text": [
        "\n",
        "Counter({'first_call-load_image': 1, 'last_call-enum_window': 1})"
       ]
      },
      {
       "output_type": "stream",
       "stream": "stdout",
       "text": [
        "\n",
        "Counter({'first_call-load_image': 1, 'last_call-thread': 1})"
       ]
      },
      {
       "output_type": "stream",
       "stream": "stdout",
       "text": [
        "\n",
        "Counter({'first_call-load_image': 1, 'last_call-load_dll': 1})\n",
        "Counter({'first_call-load_image': 1, 'last_call-kill_process': 1})"
       ]
      },
      {
       "output_type": "stream",
       "stream": "stdout",
       "text": [
        "\n",
        "Counter({'first_call-load_image': 1, 'last_call-process': 1})\n",
        "Counter({'first_call-load_image': 1, 'last_call-thread': 1})"
       ]
      },
      {
       "output_type": "stream",
       "stream": "stdout",
       "text": [
        "\n",
        "Counter({'first_call-load_image': 1, 'last_call-kill_process': 1})"
       ]
      },
      {
       "output_type": "stream",
       "stream": "stdout",
       "text": [
        "\n",
        "Counter({'first_call-load_image': 1, 'last_call-kill_process': 1})\n",
        "Counter({'first_call-load_image': 1, 'last_call-thread': 1})\n",
        "Counter({'first_call-load_image': 1, 'last_call-thread': 1})"
       ]
      },
      {
       "output_type": "stream",
       "stream": "stdout",
       "text": [
        "\n",
        "Counter({'first_call-load_image': 1, 'last_call-kill_process': 1})"
       ]
      },
      {
       "output_type": "stream",
       "stream": "stdout",
       "text": [
        "\n",
        "Counter({'first_call-load_image': 1, 'last_call-kill_process': 1})\n",
        "Counter({'first_call-load_image': 1, 'last_call-enum_window': 1})\n",
        "Counter({'first_call-load_image': 1, 'last_call-thread': 1})\n",
        "Counter({'first_call-load_image': 1, 'last_call-thread': 1})\n",
        "Counter({'first_call-load_image': 1, 'last_call-kill_process': 1})\n",
        "Counter({'first_call-load_image': 1, 'last_call-kill_process': 1})\n",
        "Counter({'first_call-load_image': 1, 'last_call-enum_window': 1})\n",
        "Counter({'first_call-load_image': 1, 'last_call-enum_window': 1})\n",
        "Counter({'first_call-load_image': 1, 'last_call-process': 1})"
       ]
      },
      {
       "output_type": "stream",
       "stream": "stdout",
       "text": [
        "\n",
        "Counter({'first_call-load_image': 1, 'last_call-thread': 1})"
       ]
      },
      {
       "output_type": "stream",
       "stream": "stdout",
       "text": [
        "\n",
        "Counter({'first_call-load_image': 1, 'last_call-load_dll': 1})"
       ]
      },
      {
       "output_type": "stream",
       "stream": "stdout",
       "text": [
        "\n",
        "Counter({'first_call-load_image': 1, 'last_call-kill_process': 1})\n",
        "Counter({'first_call-load_image': 1, 'last_call-thread': 1})\n",
        "Counter({'first_call-load_image': 1, 'last_call-thread': 1})"
       ]
      },
      {
       "output_type": "stream",
       "stream": "stdout",
       "text": [
        "\n",
        "Counter({'first_call-load_image': 1, 'last_call-process': 1})\n",
        "Counter({'first_call-load_image': 1, 'last_call-kill_process': 1})"
       ]
      },
      {
       "output_type": "stream",
       "stream": "stdout",
       "text": [
        "\n",
        "Counter({'first_call-load_image': 1, 'last_call-check_for_debugger': 1})\n",
        "Counter({'first_call-load_image': 1, 'last_call-kill_process': 1})\n",
        "Counter({'first_call-load_image': 1, 'last_call-kill_process': 1})\n",
        "Counter({'first_call-load_image': 1, 'last_call-kill_process': 1})"
       ]
      },
      {
       "output_type": "stream",
       "stream": "stdout",
       "text": [
        "\n",
        "Counter({'first_call-load_image': 1, 'last_call-thread': 1})"
       ]
      },
      {
       "output_type": "stream",
       "stream": "stdout",
       "text": [
        "\n",
        "Counter({'first_call-load_image': 1, 'last_call-check_for_debugger': 1})"
       ]
      },
      {
       "output_type": "stream",
       "stream": "stdout",
       "text": [
        "\n",
        "Counter({'first_call-load_image': 1, 'last_call-enum_window': 1})\n",
        "Counter({'first_call-load_image': 1, 'last_call-thread': 1})\n",
        "Counter({'first_call-load_image': 1, 'last_call-load_dll': 1})\n",
        "Counter({'first_call-load_image': 1, 'last_call-enum_window': 1})\n",
        "Counter({'first_call-load_image': 1, 'last_call-enum_window': 1})\n",
        "Counter({'first_call-load_image': 1, 'last_call-thread': 1})\n",
        "Counter({'first_call-load_image': 1, 'last_call-thread': 1})"
       ]
      },
      {
       "output_type": "stream",
       "stream": "stdout",
       "text": [
        "\n",
        "Counter({'first_call-load_image': 1, 'last_call-thread': 1})\n",
        "Counter({'first_call-load_image': 1, 'last_call-thread': 1})\n",
        "Counter({'first_call-load_image': 1, 'last_call-load_dll': 1})\n",
        "Counter({'first_call-load_image': 1, 'last_call-thread': 1})\n",
        "Counter({'first_call-load_image': 1, 'last_call-kill_process': 1})"
       ]
      },
      {
       "output_type": "stream",
       "stream": "stdout",
       "text": [
        "\n",
        "Counter({'first_call-load_image': 1, 'last_call-kill_process': 1})\n",
        "Counter({'first_call-load_image': 1, 'last_call-thread': 1})\n",
        "Counter({'first_call-load_image': 1, 'last_call-open_process': 1})\n",
        "Counter({'first_call-load_image': 1, 'last_call-get_system_directory': 1})\n",
        "Counter({'first_call-load_image': 1, 'last_call-kill_process': 1})"
       ]
      },
      {
       "output_type": "stream",
       "stream": "stdout",
       "text": [
        "\n",
        "Counter({'first_call-load_image': 1, 'last_call-thread': 1})\n",
        "Counter({'first_call-load_image': 1, 'last_call-thread': 1})"
       ]
      },
      {
       "output_type": "stream",
       "stream": "stdout",
       "text": [
        "\n",
        "Counter({'first_call-load_image': 1, 'last_call-kill_process': 1})"
       ]
      },
      {
       "output_type": "stream",
       "stream": "stdout",
       "text": [
        "\n",
        "Counter({'first_call-load_image': 1, 'last_call-process': 1})\n",
        "Counter({'first_call-load_image': 1, 'last_call-thread': 1})\n",
        "Counter({'first_call-load_image': 1, 'last_call-load_dll': 1})\n",
        "Counter({'first_call-load_image': 1, 'last_call-enum_window': 1})\n",
        "Counter({'first_call-load_image': 1, 'last_call-thread': 1})"
       ]
      },
      {
       "output_type": "stream",
       "stream": "stdout",
       "text": [
        "\n",
        "Counter({'first_call-load_image': 1, 'last_call-enum_window': 1})\n",
        "Counter({'first_call-load_image': 1, 'last_call-kill_process': 1})\n",
        "Counter({'first_call-load_image': 1, 'last_call-thread': 1})"
       ]
      },
      {
       "output_type": "stream",
       "stream": "stdout",
       "text": [
        "\n",
        "Counter({'first_call-load_image': 1, 'last_call-enum_window': 1})\n",
        "Counter({'first_call-load_image': 1, 'last_call-thread': 1})\n",
        "Counter({'first_call-load_image': 1, 'last_call-thread': 1})\n",
        "Counter({'first_call-load_image': 1, 'last_call-thread': 1})"
       ]
      },
      {
       "output_type": "stream",
       "stream": "stdout",
       "text": [
        "\n",
        "Counter({'first_call-load_image': 1, 'last_call-enum_window': 1})\n",
        "Counter({'first_call-load_image': 1, 'last_call-thread': 1})\n",
        "Counter({'first_call-load_image': 1, 'last_call-kill_process': 1})\n",
        "Counter({'first_call-load_image': 1, 'last_call-kill_process': 1})\n",
        "Counter({'first_call-load_image': 1, 'last_call-thread': 1})\n",
        "Counter({'first_call-load_image': 1, 'last_call-load_dll': 1})"
       ]
      },
      {
       "output_type": "stream",
       "stream": "stdout",
       "text": [
        "\n",
        "Counter({'first_call-load_image': 1, 'last_call-thread': 1})"
       ]
      },
      {
       "output_type": "stream",
       "stream": "stdout",
       "text": [
        "\n",
        "Counter({'first_call-load_image': 1, 'last_call-load_dll': 1})"
       ]
      },
      {
       "output_type": "stream",
       "stream": "stdout",
       "text": [
        "\n",
        "Counter({'first_call-load_image': 1, 'last_call-thread': 1})"
       ]
      },
      {
       "output_type": "stream",
       "stream": "stdout",
       "text": [
        "\n",
        "Counter({'first_call-load_image': 1, 'last_call-kill_process': 1})\n",
        "Counter({'first_call-load_image': 1, 'last_call-thread': 1})"
       ]
      },
      {
       "output_type": "stream",
       "stream": "stdout",
       "text": [
        "\n",
        "Counter({'first_call-load_image': 1, 'last_call-thread': 1})\n",
        "Counter({'first_call-load_image': 1, 'last_call-kill_process': 1})\n",
        "Counter({'first_call-load_image': 1, 'last_call-thread': 1})\n",
        "Counter({'first_call-load_image': 1, 'last_call-kill_process': 1})\n",
        "Counter({'first_call-load_image': 1, 'last_call-thread': 1})\n",
        "Counter({'first_call-load_image': 1, 'last_call-enum_window': 1})"
       ]
      },
      {
       "output_type": "stream",
       "stream": "stdout",
       "text": [
        "\n",
        "Counter({'first_call-load_image': 1, 'last_call-load_dll': 1})"
       ]
      },
      {
       "output_type": "stream",
       "stream": "stdout",
       "text": [
        "\n",
        "Counter({'first_call-load_image': 1, 'last_call-kill_process': 1})\n",
        "Counter({'first_call-load_image': 1, 'last_call-thread': 1})"
       ]
      },
      {
       "output_type": "stream",
       "stream": "stdout",
       "text": [
        "\n",
        "Counter({'first_call-load_image': 1, 'last_call-thread': 1})"
       ]
      },
      {
       "output_type": "stream",
       "stream": "stdout",
       "text": [
        "\n",
        "Counter({'first_call-load_image': 1, 'last_call-kill_process': 1})\n",
        "Counter({'first_call-load_image': 1, 'last_call-load_dll': 1})\n",
        "Counter({'first_call-load_image': 1, 'last_call-thread': 1})\n",
        "Counter({'first_call-load_image': 1, 'last_call-query_value': 1})"
       ]
      },
      {
       "output_type": "stream",
       "stream": "stdout",
       "text": [
        "\n",
        "Counter({'first_call-load_image': 1, 'last_call-enum_window': 1})"
       ]
      },
      {
       "output_type": "stream",
       "stream": "stdout",
       "text": [
        "\n",
        "Counter({'first_call-load_image': 1, 'last_call-thread': 1})"
       ]
      },
      {
       "output_type": "stream",
       "stream": "stdout",
       "text": [
        "\n",
        "Counter({'first_call-load_image': 1, 'last_call-kill_process': 1})"
       ]
      },
      {
       "output_type": "stream",
       "stream": "stdout",
       "text": [
        "\n",
        "Counter({'first_call-load_image': 1, 'last_call-kill_process': 1})\n",
        "Counter({'first_call-load_image': 1, 'last_call-enum_window': 1})\n",
        "Counter({'first_call-load_image': 1, 'last_call-kill_process': 1})\n",
        "Counter({'first_call-load_image': 1, 'last_call-kill_process': 1})\n",
        "Counter({'first_call-load_image': 1, 'last_call-thread': 1})\n",
        "Counter({'first_call-load_image': 1, 'last_call-kill_process': 1})\n",
        "Counter({'first_call-load_image': 1, 'last_call-kill_process': 1})"
       ]
      },
      {
       "output_type": "stream",
       "stream": "stdout",
       "text": [
        "\n",
        "Counter({'first_call-load_image': 1, 'last_call-enum_window': 1})\n",
        "Counter({'first_call-load_image': 1, 'last_call-kill_process': 1})\n",
        "Counter({'first_call-load_image': 1, 'last_call-enum_window': 1})\n",
        "Counter({'first_call-load_image': 1, 'last_call-thread': 1})"
       ]
      },
      {
       "output_type": "stream",
       "stream": "stdout",
       "text": [
        "\n",
        "Counter({'first_call-load_image': 1, 'last_call-load_dll': 1})\n",
        "Counter({'first_call-load_image': 1, 'last_call-enum_window': 1})\n",
        "Counter({'first_call-load_image': 1, 'last_call-thread': 1})"
       ]
      },
      {
       "output_type": "stream",
       "stream": "stdout",
       "text": [
        "\n",
        "Counter({'first_call-load_image': 1, 'last_call-kill_process': 1})"
       ]
      },
      {
       "output_type": "stream",
       "stream": "stdout",
       "text": [
        "\n",
        "Counter({'first_call-load_image': 1, 'last_call-process': 1})\n",
        "Counter({'first_call-load_image': 1, 'last_call-thread': 1})\n",
        "Counter({'first_call-load_image': 1, 'last_call-enum_window': 1})\n",
        "Counter({'first_call-load_image': 1, 'last_call-enum_window': 1})\n",
        "Counter({'first_call-load_image': 1, 'last_call-enum_window': 1})\n",
        "Counter({'first_call-load_image': 1, 'last_call-kill_process': 1})\n",
        "Counter({'first_call-load_image': 1, 'last_call-enum_window': 1})"
       ]
      },
      {
       "output_type": "stream",
       "stream": "stdout",
       "text": [
        "\n",
        "Counter({'first_call-load_image': 1, 'last_call-enum_window': 1})\n",
        "Counter({'first_call-load_image': 1, 'last_call-load_dll': 1})\n",
        "Counter({'first_call-load_image': 1, 'last_call-load_dll': 1})\n",
        "Counter({'first_call-load_image': 1, 'last_call-get_system_directory': 1})\n",
        "Counter({'first_call-load_image': 1, 'last_call-thread': 1})\n",
        "Counter({'first_call-load_image': 1, 'last_call-enum_window': 1})\n",
        "Counter({'first_call-load_image': 1, 'last_call-enum_window': 1})\n",
        "Counter({'first_call-load_image': 1, 'last_call-enum_window': 1})\n",
        "Counter({'first_call-load_image': 1, 'last_call-thread': 1})"
       ]
      },
      {
       "output_type": "stream",
       "stream": "stdout",
       "text": [
        "\n",
        "Counter({'first_call-load_image': 1, 'last_call-kill_process': 1})"
       ]
      },
      {
       "output_type": "stream",
       "stream": "stdout",
       "text": [
        "\n",
        "Counter({'first_call-load_image': 1, 'last_call-process': 1})\n",
        "Counter({'first_call-load_image': 1, 'last_call-thread': 1})"
       ]
      },
      {
       "output_type": "stream",
       "stream": "stdout",
       "text": [
        "\n",
        "Counter({'first_call-load_image': 1, 'last_call-kill_process': 1})\n",
        "Counter({'first_call-load_image': 1, 'last_call-enum_window': 1})\n",
        "Counter({'first_call-load_image': 1, 'last_call-thread': 1})\n",
        "Counter({'first_call-load_image': 1, 'last_call-thread': 1})"
       ]
      },
      {
       "output_type": "stream",
       "stream": "stdout",
       "text": [
        "\n",
        "Counter({'first_call-load_image': 1, 'last_call-kill_process': 1})\n",
        "Counter({'first_call-load_image': 1, 'last_call-enum_window': 1})\n",
        "Counter({'first_call-load_image': 1, 'last_call-enum_window': 1})\n",
        "Counter({'first_call-load_image': 1, 'last_call-enum_window': 1})\n",
        "Counter({'first_call-load_image': 1, 'last_call-kill_process': 1})\n",
        "Counter({'first_call-load_image': 1, 'last_call-kill_process': 1})"
       ]
      },
      {
       "output_type": "stream",
       "stream": "stdout",
       "text": [
        "\n",
        "Counter({'first_call-load_image': 1, 'last_call-connect_socket': 1})\n",
        "Counter({'first_call-load_image': 1, 'last_call-sleep': 1})"
       ]
      },
      {
       "output_type": "stream",
       "stream": "stdout",
       "text": [
        "\n",
        "Counter({'first_call-load_image': 1, 'last_call-process': 1})"
       ]
      },
      {
       "output_type": "stream",
       "stream": "stdout",
       "text": [
        "\n",
        "Counter({'first_call-load_image': 1, 'last_call-thread': 1})"
       ]
      },
      {
       "output_type": "stream",
       "stream": "stdout",
       "text": [
        "\n",
        "Counter({'first_call-load_image': 1, 'last_call-open_process': 1})"
       ]
      },
      {
       "output_type": "stream",
       "stream": "stdout",
       "text": [
        "\n",
        "Counter({'first_call-load_image': 1, 'last_call-thread': 1})\n",
        "Counter({'first_call-load_image': 1, 'last_call-kill_process': 1})\n",
        "Counter({'first_call-load_image': 1, 'last_call-load_dll': 1})\n",
        "Counter({'first_call-load_image': 1, 'last_call-sleep': 1})"
       ]
      },
      {
       "output_type": "stream",
       "stream": "stdout",
       "text": [
        "\n",
        "Counter({'first_call-load_image': 1, 'last_call-kill_process': 1})"
       ]
      },
      {
       "output_type": "stream",
       "stream": "stdout",
       "text": [
        "\n",
        "Counter({'first_call-load_image': 1, 'last_call-get_system_directory': 1})\n",
        "Counter({'first_call-load_image': 1, 'last_call-kill_process': 1})\n",
        "Counter({'first_call-load_image': 1, 'last_call-thread': 1})"
       ]
      },
      {
       "output_type": "stream",
       "stream": "stdout",
       "text": [
        "\n",
        "Counter({'first_call-load_image': 1, 'last_call-thread': 1})\n",
        "Counter({'first_call-load_image': 1, 'last_call-open_key': 1})\n",
        "Counter({'first_call-load_image': 1, 'last_call-kill_process': 1})\n",
        "Counter({'first_call-load_image': 1, 'last_call-process': 1})"
       ]
      },
      {
       "output_type": "stream",
       "stream": "stdout",
       "text": [
        "\n",
        "Counter({'first_call-load_image': 1, 'last_call-enum_window': 1})"
       ]
      },
      {
       "output_type": "stream",
       "stream": "stdout",
       "text": [
        "\n",
        "Counter({'first_call-load_image': 1, 'last_call-create_open_file': 1})\n",
        "Counter({'first_call-load_image': 1, 'last_call-kill_process': 1})\n",
        "Counter({'first_call-load_image': 1, 'last_call-load_dll': 1})"
       ]
      },
      {
       "output_type": "stream",
       "stream": "stdout",
       "text": [
        "\n",
        "Counter({'first_call-load_image': 1, 'last_call-enum_window': 1})\n",
        "Counter({'first_call-load_image': 1, 'last_call-kill_process': 1})\n",
        "Counter({'first_call-load_image': 1, 'last_call-kill_process': 1})\n",
        "Counter({'first_call-load_image': 1, 'last_call-thread': 1})\n",
        "Counter({'first_call-load_image': 1, 'last_call-thread': 1})"
       ]
      },
      {
       "output_type": "stream",
       "stream": "stdout",
       "text": [
        "\n",
        "Counter({'first_call-load_image': 1, 'last_call-enum_window': 1})\n",
        "Counter({'first_call-load_image': 1, 'last_call-thread': 1})"
       ]
      },
      {
       "output_type": "stream",
       "stream": "stdout",
       "text": [
        "\n",
        "Counter({'first_call-load_image': 1, 'last_call-kill_process': 1})"
       ]
      },
      {
       "output_type": "stream",
       "stream": "stdout",
       "text": [
        "\n",
        "Counter({'first_call-load_image': 1, 'last_call-thread': 1})"
       ]
      },
      {
       "output_type": "stream",
       "stream": "stdout",
       "text": [
        "\n",
        "Counter({'first_call-load_image': 1, 'last_call-kill_process': 1})"
       ]
      },
      {
       "output_type": "stream",
       "stream": "stdout",
       "text": [
        "\n",
        "Counter({'first_call-load_image': 1, 'last_call-thread': 1})\n",
        "Counter({'first_call-load_image': 1, 'last_call-thread': 1})"
       ]
      },
      {
       "output_type": "stream",
       "stream": "stdout",
       "text": [
        "\n",
        "Counter({'first_call-load_image': 1, 'last_call-kill_process': 1})"
       ]
      },
      {
       "output_type": "stream",
       "stream": "stdout",
       "text": [
        "\n",
        "Counter({'first_call-load_image': 1, 'last_call-process': 1})"
       ]
      },
      {
       "output_type": "stream",
       "stream": "stdout",
       "text": [
        "\n",
        "Counter({'first_call-load_image': 1, 'last_call-thread': 1})"
       ]
      },
      {
       "output_type": "stream",
       "stream": "stdout",
       "text": [
        "\n",
        "Counter({'first_call-load_image': 1, 'last_call-process': 1})\n",
        "Counter({'first_call-load_image': 1, 'last_call-enum_window': 1})\n",
        "Counter({'first_call-load_image': 1, 'last_call-load_dll': 1})\n",
        "Counter({'first_call-load_image': 1, 'last_call-enum_window': 1})\n",
        "Counter({'first_call-load_image': 1, 'last_call-enum_window': 1})"
       ]
      },
      {
       "output_type": "stream",
       "stream": "stdout",
       "text": [
        "\n",
        "Counter({'first_call-load_image': 1, 'last_call-thread': 1})\n",
        "Counter({'first_call-load_image': 1, 'last_call-kill_process': 1})\n",
        "Counter({'first_call-load_image': 1, 'last_call-thread': 1})\n",
        "Counter({'first_call-load_image': 1, 'last_call-kill_process': 1})\n",
        "Counter({'first_call-load_image': 1, 'last_call-kill_process': 1})"
       ]
      },
      {
       "output_type": "stream",
       "stream": "stdout",
       "text": [
        "\n",
        "Counter({'first_call-load_image': 1, 'last_call-enum_window': 1})\n",
        "Counter({'first_call-load_image': 1, 'last_call-kill_process': 1})"
       ]
      },
      {
       "output_type": "stream",
       "stream": "stdout",
       "text": [
        "\n",
        "Counter({'first_call-load_image': 1, 'last_call-thread': 1})\n",
        "Counter({'first_call-load_image': 1, 'last_call-kill_process': 1})\n",
        "Counter({'first_call-load_image': 1, 'last_call-thread': 1})"
       ]
      },
      {
       "output_type": "stream",
       "stream": "stdout",
       "text": [
        "\n",
        "Counter({'first_call-load_image': 1, 'last_call-process': 1})"
       ]
      },
      {
       "output_type": "stream",
       "stream": "stdout",
       "text": [
        "\n",
        "Counter({'first_call-load_image': 1, 'last_call-process': 1})\n",
        "Counter({'first_call-load_image': 1, 'last_call-kill_process': 1})\n",
        "Counter({'first_call-load_image': 1, 'last_call-thread': 1})"
       ]
      },
      {
       "output_type": "stream",
       "stream": "stdout",
       "text": [
        "\n",
        "Counter({'last_call-create_window': 1, 'first_call-load_image': 1})"
       ]
      },
      {
       "output_type": "stream",
       "stream": "stdout",
       "text": [
        "\n",
        "Counter({'first_call-load_image': 1, 'last_call-enum_window': 1})\n",
        "Counter({'first_call-load_image': 1, 'last_call-kill_process': 1})\n",
        "Counter({'first_call-load_image': 1, 'last_call-enum_window': 1})\n",
        "Counter({'first_call-load_image': 1, 'last_call-thread': 1})\n",
        "Counter({'first_call-load_image': 1, 'last_call-create_thread': 1})\n",
        "Counter({'first_call-load_image': 1, 'last_call-enum_window': 1})"
       ]
      },
      {
       "output_type": "stream",
       "stream": "stdout",
       "text": [
        "\n",
        "Counter({'first_call-load_image': 1, 'last_call-kill_process': 1})\n",
        "Counter({'first_call-load_image': 1, 'last_call-create_mutex': 1})\n",
        "Counter({'first_call-load_image': 1, 'last_call-enum_window': 1})"
       ]
      },
      {
       "output_type": "stream",
       "stream": "stdout",
       "text": [
        "\n",
        "Counter({'first_call-load_image': 1, 'last_call-kill_process': 1})\n",
        "Counter({'first_call-load_image': 1, 'last_call-load_dll': 1})\n",
        "Counter({'first_call-load_image': 1, 'last_call-thread': 1})\n",
        "Counter({'first_call-load_image': 1, 'last_call-thread': 1})\n",
        "Counter({'first_call-load_image': 1, 'last_call-get_file_attributes': 1})"
       ]
      },
      {
       "output_type": "stream",
       "stream": "stdout",
       "text": [
        "\n",
        "Counter({'first_call-load_image': 1, 'last_call-process': 1})\n",
        "Counter({'first_call-load_image': 1, 'last_call-enum_window': 1})\n",
        "Counter({'first_call-load_image': 1, 'last_call-kill_process': 1})\n",
        "Counter({'first_call-load_image': 1, 'last_call-kill_process': 1})"
       ]
      },
      {
       "output_type": "stream",
       "stream": "stdout",
       "text": [
        "\n",
        "Counter({'first_call-load_image': 1, 'last_call-kill_process': 1})"
       ]
      },
      {
       "output_type": "stream",
       "stream": "stdout",
       "text": [
        "\n",
        "Counter({'first_call-load_image': 1, 'last_call-enum_window': 1})\n",
        "Counter({'first_call-load_image': 1, 'last_call-load_dll': 1})\n",
        "Counter({'first_call-load_image': 1, 'last_call-thread': 1})"
       ]
      },
      {
       "output_type": "stream",
       "stream": "stdout",
       "text": [
        "\n",
        "Counter({'first_call-load_image': 1, 'last_call-check_for_debugger': 1})\n",
        "Counter({'first_call-load_image': 1, 'last_call-thread': 1})"
       ]
      },
      {
       "output_type": "stream",
       "stream": "stdout",
       "text": [
        "\n",
        "Counter({'first_call-load_image': 1, 'last_call-kill_process': 1})"
       ]
      },
      {
       "output_type": "stream",
       "stream": "stdout",
       "text": [
        "\n",
        "Counter({'first_call-load_image': 1, 'last_call-thread': 1})\n",
        "Counter({'first_call-load_image': 1, 'last_call-thread': 1})\n",
        "Counter({'first_call-load_image': 1, 'last_call-enum_window': 1})\n",
        "Counter({'first_call-load_image': 1, 'last_call-process': 1})\n",
        "Counter({'first_call-load_image': 1, 'last_call-kill_process': 1})"
       ]
      },
      {
       "output_type": "stream",
       "stream": "stdout",
       "text": [
        "\n",
        "Counter({'first_call-load_image': 1, 'last_call-thread': 1})\n",
        "Counter({'first_call-load_image': 1, 'last_call-kill_process': 1})\n",
        "Counter({'first_call-load_image': 1, 'last_call-enum_window': 1})\n",
        "Counter({'first_call-load_image': 1, 'last_call-process': 1})\n",
        "Counter({'first_call-load_image': 1, 'last_call-thread': 1})"
       ]
      },
      {
       "output_type": "stream",
       "stream": "stdout",
       "text": [
        "\n",
        "Counter({'first_call-load_image': 1, 'last_call-trimmed_bytes': 1})\n",
        "Counter({'first_call-load_image': 1, 'last_call-thread': 1})\n",
        "Counter({'first_call-load_image': 1, 'last_call-create_open_file': 1})"
       ]
      },
      {
       "output_type": "stream",
       "stream": "stdout",
       "text": [
        "\n",
        "Counter({'first_call-load_image': 1, 'last_call-load_dll': 1})"
       ]
      },
      {
       "output_type": "stream",
       "stream": "stdout",
       "text": [
        "\n",
        "Counter({'first_call-load_image': 1, 'last_call-thread': 1})"
       ]
      },
      {
       "output_type": "stream",
       "stream": "stdout",
       "text": [
        "\n",
        "Counter({'first_call-load_image': 1, 'last_call-enum_window': 1})"
       ]
      },
      {
       "output_type": "stream",
       "stream": "stdout",
       "text": [
        "\n",
        "Counter({'first_call-load_image': 1, 'last_call-thread': 1})"
       ]
      },
      {
       "output_type": "stream",
       "stream": "stdout",
       "text": [
        "\n",
        "Counter({'first_call-load_image': 1, 'last_call-create_socket': 1})\n",
        "Counter({'first_call-load_image': 1, 'last_call-thread': 1})\n",
        "Counter({'first_call-load_image': 1, 'last_call-thread': 1})"
       ]
      },
      {
       "output_type": "stream",
       "stream": "stdout",
       "text": [
        "\n",
        "Counter({'first_call-load_image': 1, 'last_call-kill_process': 1})\n",
        "Counter({'first_call-load_image': 1, 'last_call-sleep': 1})\n",
        "Counter({'first_call-load_image': 1, 'last_call-kill_process': 1})\n",
        "Counter({'first_call-load_image': 1, 'last_call-kill_process': 1})"
       ]
      },
      {
       "output_type": "stream",
       "stream": "stdout",
       "text": [
        "\n",
        "Counter({'first_call-load_image': 1, 'last_call-thread': 1})"
       ]
      },
      {
       "output_type": "stream",
       "stream": "stdout",
       "text": [
        "\n",
        "Counter({'first_call-load_image': 1, 'last_call-process': 1})\n",
        "Counter({'first_call-load_image': 1, 'last_call-open_process': 1})\n",
        "Counter({'first_call-load_image': 1, 'last_call-thread': 1})\n",
        "Counter({'first_call-load_image': 1, 'last_call-process': 1})\n",
        "Counter({'first_call-load_image': 1, 'last_call-get_system_directory': 1})"
       ]
      },
      {
       "output_type": "stream",
       "stream": "stdout",
       "text": [
        "\n",
        "Counter({'first_call-load_image': 1, 'last_call-load_dll': 1})\n",
        "Counter({'first_call-load_image': 1, 'last_call-enum_window': 1})\n",
        "Counter({'first_call-load_image': 1, 'last_call-thread': 1})\n",
        "Counter({'first_call-load_image': 1, 'last_call-create_open_file': 1})\n",
        "Counter({'first_call-load_image': 1, 'last_call-kill_process': 1})\n",
        "Counter({'first_call-load_image': 1, 'last_call-enum_window': 1})\n",
        "Counter({'first_call-load_image': 1, 'last_call-thread': 1})"
       ]
      },
      {
       "output_type": "stream",
       "stream": "stdout",
       "text": [
        "\n",
        "Counter({'first_call-load_image': 1, 'last_call-kill_process': 1})\n",
        "Counter({'first_call-load_image': 1, 'last_call-process': 1})\n",
        "Counter({'first_call-load_image': 1, 'last_call-load_dll': 1})"
       ]
      },
      {
       "output_type": "stream",
       "stream": "stdout",
       "text": [
        "\n",
        "Counter({'first_call-load_image': 1, 'last_call-thread': 1})"
       ]
      },
      {
       "output_type": "stream",
       "stream": "stdout",
       "text": [
        "\n",
        "Counter({'first_call-load_image': 1, 'last_call-thread': 1})"
       ]
      },
      {
       "output_type": "stream",
       "stream": "stdout",
       "text": [
        "\n",
        "Counter({'first_call-load_image': 1, 'last_call-thread': 1})"
       ]
      },
      {
       "output_type": "stream",
       "stream": "stdout",
       "text": [
        "\n",
        "Counter({'first_call-load_image': 1, 'last_call-process': 1})"
       ]
      },
      {
       "output_type": "stream",
       "stream": "stdout",
       "text": [
        "\n",
        "Counter({'first_call-load_image': 1, 'last_call-enum_window': 1})\n",
        "Counter({'first_call-load_image': 1, 'last_call-kill_process': 1})\n",
        "Counter({'first_call-load_image': 1, 'last_call-thread': 1})\n",
        "Counter({'first_call-load_image': 1, 'last_call-thread': 1})\n",
        "Counter({'first_call-load_image': 1, 'last_call-thread': 1})\n",
        "Counter({'first_call-load_image': 1, 'last_call-kill_process': 1})"
       ]
      },
      {
       "output_type": "stream",
       "stream": "stdout",
       "text": [
        "\n",
        "Counter({'first_call-load_image': 1, 'last_call-enum_window': 1})"
       ]
      },
      {
       "output_type": "stream",
       "stream": "stdout",
       "text": [
        "\n",
        "Counter({'first_call-load_image': 1, 'last_call-kill_process': 1})\n",
        "Counter({'first_call-load_image': 1, 'last_call-open_process': 1})\n",
        "Counter({'first_call-load_image': 1, 'last_call-thread': 1})\n",
        "Counter({'first_call-load_image': 1, 'last_call-thread': 1})"
       ]
      },
      {
       "output_type": "stream",
       "stream": "stdout",
       "text": [
        "\n",
        "Counter({'first_call-load_image': 1, 'last_call-enum_window': 1})"
       ]
      },
      {
       "output_type": "stream",
       "stream": "stdout",
       "text": [
        "\n",
        "Counter({'first_call-load_image': 1, 'last_call-process': 1})\n",
        "Counter({'first_call-load_image': 1, 'last_call-kill_process': 1})\n",
        "Counter({'first_call-load_image': 1, 'last_call-kill_process': 1})\n",
        "Counter({'first_call-load_image': 1, 'last_call-kill_process': 1})"
       ]
      },
      {
       "output_type": "stream",
       "stream": "stdout",
       "text": [
        "\n",
        "Counter({'first_call-load_image': 1, 'last_call-kill_process': 1})\n",
        "Counter({'first_call-load_image': 1, 'last_call-enum_window': 1})\n",
        "Counter({'first_call-load_image': 1, 'last_call-thread': 1})\n",
        "Counter({'first_call-load_image': 1, 'last_call-process': 1})\n",
        "Counter({'first_call-load_image': 1, 'last_call-load_dll': 1})"
       ]
      },
      {
       "output_type": "stream",
       "stream": "stdout",
       "text": [
        "\n",
        "Counter({'first_call-load_image': 1, 'last_call-kill_process': 1})\n",
        "Counter({'first_call-load_image': 1, 'last_call-process': 1})\n",
        "Counter({'first_call-load_image': 1, 'last_call-enum_window': 1})\n",
        "Counter({'first_call-load_image': 1, 'last_call-check_for_debugger': 1})\n",
        "Counter({'first_call-load_image': 1, 'last_call-thread': 1})"
       ]
      },
      {
       "output_type": "stream",
       "stream": "stdout",
       "text": [
        "\n",
        "Counter({'first_call-load_image': 1, 'last_call-thread': 1})"
       ]
      },
      {
       "output_type": "stream",
       "stream": "stdout",
       "text": [
        "\n",
        "Counter({'first_call-load_image': 1, 'last_call-open_process': 1})"
       ]
      },
      {
       "output_type": "stream",
       "stream": "stdout",
       "text": [
        "\n",
        "Counter({'first_call-load_image': 1, 'last_call-process': 1})\n",
        "Counter({'first_call-load_image': 1, 'last_call-thread': 1})\n",
        "Counter({'first_call-load_image': 1, 'last_call-kill_process': 1})\n",
        "Counter({'first_call-load_image': 1, 'last_call-enum_window': 1})\n",
        "Counter({'first_call-load_image': 1, 'last_call-process': 1})"
       ]
      },
      {
       "output_type": "stream",
       "stream": "stdout",
       "text": [
        "\n",
        "Counter({'first_call-load_image': 1, 'last_call-load_dll': 1})\n",
        "Counter({'first_call-load_image': 1, 'last_call-thread': 1})"
       ]
      },
      {
       "output_type": "stream",
       "stream": "stdout",
       "text": [
        "\n",
        "Counter({'first_call-load_image': 1, 'last_call-sleep': 1})"
       ]
      },
      {
       "output_type": "stream",
       "stream": "stdout",
       "text": [
        "\n",
        "Counter({'first_call-load_image': 1, 'last_call-thread': 1})"
       ]
      },
      {
       "output_type": "stream",
       "stream": "stdout",
       "text": [
        "\n",
        "Counter({'first_call-load_image': 1, 'last_call-kill_process': 1})\n",
        "Counter({'first_call-load_image': 1, 'last_call-trimmed_bytes': 1})"
       ]
      },
      {
       "output_type": "stream",
       "stream": "stdout",
       "text": [
        "\n",
        "Counter({'first_call-load_image': 1, 'last_call-thread': 1})"
       ]
      },
      {
       "output_type": "stream",
       "stream": "stdout",
       "text": [
        "\n",
        "Counter({'first_call-load_image': 1, 'last_call-thread': 1})\n",
        "Counter({'first_call-load_image': 1, 'last_call-enum_window': 1})\n",
        "Counter({'first_call-load_image': 1, 'last_call-thread': 1})\n",
        "Counter({'first_call-load_image': 1, 'last_call-thread': 1})\n",
        "Counter({'first_call-load_image': 1, 'last_call-load_dll': 1})"
       ]
      },
      {
       "output_type": "stream",
       "stream": "stdout",
       "text": [
        "\n",
        "Counter({'first_call-load_image': 1, 'last_call-process': 1})\n",
        "Counter({'first_call-load_image': 1, 'last_call-kill_process': 1})\n",
        "Counter({'first_call-load_image': 1, 'last_call-process': 1})"
       ]
      },
      {
       "output_type": "stream",
       "stream": "stdout",
       "text": [
        "\n",
        "Counter({'first_call-load_image': 1, 'last_call-enum_window': 1})"
       ]
      },
      {
       "output_type": "stream",
       "stream": "stdout",
       "text": [
        "\n",
        "Counter({'first_call-load_image': 1, 'last_call-thread': 1})"
       ]
      },
      {
       "output_type": "stream",
       "stream": "stdout",
       "text": [
        "\n",
        "Counter({'first_call-load_image': 1, 'last_call-enum_window': 1})"
       ]
      },
      {
       "output_type": "stream",
       "stream": "stdout",
       "text": [
        "\n",
        "Counter({'first_call-load_image': 1, 'last_call-enum_window': 1})\n",
        "Counter({'first_call-load_image': 1, 'last_call-thread': 1})\n",
        "Counter({'first_call-load_image': 1, 'last_call-get_system_time': 1})\n",
        "Counter({'first_call-load_image': 1, 'last_call-thread': 1})\n",
        "Counter({'first_call-load_image': 1, 'last_call-process': 1})"
       ]
      },
      {
       "output_type": "stream",
       "stream": "stdout",
       "text": [
        "\n",
        "Counter({'first_call-load_image': 1, 'last_call-kill_process': 1})\n",
        "Counter({'first_call-load_image': 1, 'last_call-thread': 1})"
       ]
      },
      {
       "output_type": "stream",
       "stream": "stdout",
       "text": [
        "\n",
        "Counter({'first_call-load_image': 1, 'last_call-kill_process': 1})"
       ]
      },
      {
       "output_type": "stream",
       "stream": "stdout",
       "text": [
        "\n",
        "Counter({'first_call-load_image': 1, 'last_call-kill_process': 1})\n",
        "Counter({'first_call-load_image': 1, 'last_call-kill_process': 1})\n",
        "Counter({'first_call-load_image': 1, 'last_call-thread': 1})\n",
        "Counter({'first_call-load_image': 1, 'last_call-thread': 1})"
       ]
      },
      {
       "output_type": "stream",
       "stream": "stdout",
       "text": [
        "\n",
        "Counter({'first_call-load_image': 1, 'last_call-create_socket': 1})"
       ]
      },
      {
       "output_type": "stream",
       "stream": "stdout",
       "text": [
        "\n",
        "Counter({'first_call-load_image': 1, 'last_call-enum_window': 1})\n",
        "Counter({'first_call-load_image': 1, 'last_call-thread': 1})"
       ]
      },
      {
       "output_type": "stream",
       "stream": "stdout",
       "text": [
        "\n",
        "Counter({'first_call-load_image': 1, 'last_call-kill_process': 1})"
       ]
      },
      {
       "output_type": "stream",
       "stream": "stdout",
       "text": [
        "\n",
        "Counter({'first_call-load_image': 1, 'last_call-sleep': 1})\n",
        "Counter({'first_call-load_image': 1, 'last_call-thread': 1})"
       ]
      },
      {
       "output_type": "stream",
       "stream": "stdout",
       "text": [
        "\n",
        "Counter({'first_call-load_image': 1, 'last_call-enum_window': 1})"
       ]
      },
      {
       "output_type": "stream",
       "stream": "stdout",
       "text": [
        "\n",
        "Counter({'first_call-load_image': 1, 'last_call-thread': 1})\n",
        "Counter({'first_call-load_image': 1, 'last_call-load_dll': 1})"
       ]
      },
      {
       "output_type": "stream",
       "stream": "stdout",
       "text": [
        "\n",
        "Counter({'first_call-load_image': 1, 'last_call-enum_window': 1})\n",
        "Counter({'first_call-load_image': 1, 'last_call-thread': 1})\n",
        "Counter({'first_call-load_image': 1, 'last_call-kill_process': 1})\n",
        "Counter({'first_call-load_image': 1, 'last_call-thread': 1})"
       ]
      },
      {
       "output_type": "stream",
       "stream": "stdout",
       "text": [
        "\n",
        "Counter({'first_call-load_image': 1, 'last_call-thread': 1})\n",
        "Counter({'first_call-load_image': 1, 'last_call-thread': 1})"
       ]
      },
      {
       "output_type": "stream",
       "stream": "stdout",
       "text": [
        "\n",
        "Counter({'first_call-load_image': 1, 'last_call-sleep': 1})"
       ]
      },
      {
       "output_type": "stream",
       "stream": "stdout",
       "text": [
        "\n",
        "Counter({'first_call-load_image': 1, 'last_call-kill_process': 1})\n",
        "Counter({'first_call-load_image': 1, 'last_call-open_process': 1})\n",
        "Counter({'first_call-load_image': 1, 'last_call-thread': 1})\n",
        "Counter({'first_call-load_image': 1, 'last_call-thread': 1})\n",
        "Counter({'first_call-load_image': 1, 'last_call-enum_window': 1})\n",
        "Counter({'first_call-load_image': 1, 'last_call-kill_process': 1})\n",
        "Counter({'first_call-load_image': 1, 'last_call-thread': 1})"
       ]
      },
      {
       "output_type": "stream",
       "stream": "stdout",
       "text": [
        "\n",
        "Counter({'first_call-load_image': 1, 'last_call-kill_process': 1})"
       ]
      },
      {
       "output_type": "stream",
       "stream": "stdout",
       "text": [
        "\n",
        "Counter({'first_call-load_image': 1, 'last_call-thread': 1})\n",
        "Counter({'first_call-load_image': 1, 'last_call-load_dll': 1})\n",
        "Counter({'first_call-load_image': 1, 'last_call-thread': 1})\n",
        "Counter({'first_call-load_image': 1, 'last_call-kill_process': 1})"
       ]
      },
      {
       "output_type": "stream",
       "stream": "stdout",
       "text": [
        "\n",
        "Counter({'first_call-load_image': 1, 'last_call-enum_window': 1})\n",
        "Counter({'first_call-load_image': 1, 'last_call-enum_window': 1})\n",
        "Counter({'first_call-load_image': 1, 'last_call-thread': 1})"
       ]
      },
      {
       "output_type": "stream",
       "stream": "stdout",
       "text": [
        "\n",
        "Counter({'first_call-load_image': 1, 'last_call-thread': 1})"
       ]
      },
      {
       "output_type": "stream",
       "stream": "stdout",
       "text": [
        "\n",
        "Counter({'first_call-load_image': 1, 'last_call-kill_process': 1})"
       ]
      },
      {
       "output_type": "stream",
       "stream": "stdout",
       "text": [
        "\n",
        "Counter({'first_call-load_image': 1, 'last_call-enum_window': 1})\n",
        "Counter({'first_call-load_image': 1, 'last_call-thread': 1})\n",
        "Counter({'first_call-load_image': 1, 'last_call-thread': 1})"
       ]
      },
      {
       "output_type": "stream",
       "stream": "stdout",
       "text": [
        "\n",
        "Counter({'first_call-load_image': 1, 'last_call-thread': 1})"
       ]
      },
      {
       "output_type": "stream",
       "stream": "stdout",
       "text": [
        "\n",
        "Counter({'first_call-load_image': 1, 'last_call-thread': 1})\n",
        "Counter({'first_call-load_image': 1, 'last_call-thread': 1})"
       ]
      },
      {
       "output_type": "stream",
       "stream": "stdout",
       "text": [
        "\n",
        "Counter({'first_call-load_image': 1, 'last_call-enum_window': 1})"
       ]
      },
      {
       "output_type": "stream",
       "stream": "stdout",
       "text": [
        "\n",
        "Counter({'first_call-load_image': 1, 'last_call-thread': 1})\n",
        "Counter({'first_call-load_image': 1, 'last_call-thread': 1})\n",
        "Counter({'first_call-load_image': 1, 'last_call-thread': 1})"
       ]
      },
      {
       "output_type": "stream",
       "stream": "stdout",
       "text": [
        "\n",
        "Counter({'first_call-load_image': 1, 'last_call-kill_process': 1})\n",
        "Counter({'first_call-load_image': 1, 'last_call-kill_process': 1})\n",
        "Counter({'first_call-load_image': 1, 'last_call-kill_process': 1})\n",
        "Counter({'first_call-load_image': 1, 'last_call-thread': 1})"
       ]
      },
      {
       "output_type": "stream",
       "stream": "stdout",
       "text": [
        "\n",
        "Counter({'first_call-load_image': 1, 'last_call-thread': 1})"
       ]
      },
      {
       "output_type": "stream",
       "stream": "stdout",
       "text": [
        "\n",
        "Counter({'first_call-load_image': 1, 'last_call-process': 1})"
       ]
      },
      {
       "output_type": "stream",
       "stream": "stdout",
       "text": [
        "\n",
        "Counter({'first_call-load_image': 1, 'last_call-enum_window': 1})\n",
        "Counter({'first_call-load_image': 1, 'last_call-check_for_debugger': 1})"
       ]
      },
      {
       "output_type": "stream",
       "stream": "stdout",
       "text": [
        "\n",
        "Counter({'first_call-load_image': 1, 'last_call-thread': 1})"
       ]
      },
      {
       "output_type": "stream",
       "stream": "stdout",
       "text": [
        "\n",
        "Counter({'first_call-load_image': 1, 'last_call-thread': 1})"
       ]
      },
      {
       "output_type": "stream",
       "stream": "stdout",
       "text": [
        "\n",
        "Counter({'first_call-load_image': 1, 'last_call-kill_process': 1})\n",
        "Counter({'first_call-load_image': 1, 'last_call-thread': 1})"
       ]
      },
      {
       "output_type": "stream",
       "stream": "stdout",
       "text": [
        "\n",
        "Counter({'first_call-load_image': 1, 'last_call-kill_process': 1})\n",
        "Counter({'first_call-load_image': 1, 'last_call-thread': 1})\n",
        "Counter({'first_call-load_image': 1, 'last_call-enum_window': 1})\n",
        "Counter({'first_call-load_image': 1, 'last_call-open_process': 1})\n",
        "Counter({'first_call-load_image': 1, 'last_call-enum_window': 1})"
       ]
      },
      {
       "output_type": "stream",
       "stream": "stdout",
       "text": [
        "\n",
        "Counter({'first_call-load_image': 1, 'last_call-kill_process': 1})\n",
        "Counter({'first_call-load_image': 1, 'last_call-load_dll': 1})"
       ]
      },
      {
       "output_type": "stream",
       "stream": "stdout",
       "text": [
        "\n",
        "Counter({'first_call-load_image': 1, 'last_call-check_for_debugger': 1})\n",
        "Counter({'first_call-load_image': 1, 'last_call-load_dll': 1})\n",
        "Counter({'first_call-load_image': 1, 'last_call-create_mutex': 1})\n",
        "Counter({'first_call-load_image': 1, 'last_call-load_dll': 1})"
       ]
      },
      {
       "output_type": "stream",
       "stream": "stdout",
       "text": [
        "\n",
        "Counter({'first_call-load_image': 1, 'last_call-open_process': 1})\n",
        "Counter({'first_call-load_image': 1, 'last_call-thread': 1})"
       ]
      },
      {
       "output_type": "stream",
       "stream": "stdout",
       "text": [
        "\n",
        "Counter({'first_call-load_image': 1, 'last_call-kill_process': 1})\n",
        "Counter({'first_call-load_image': 1, 'last_call-thread': 1})\n",
        "Counter({'first_call-load_image': 1, 'last_call-kill_process': 1})"
       ]
      },
      {
       "output_type": "stream",
       "stream": "stdout",
       "text": [
        "\n",
        "Counter({'first_call-load_image': 1, 'last_call-thread': 1})"
       ]
      },
      {
       "output_type": "stream",
       "stream": "stdout",
       "text": [
        "\n",
        "Counter({'first_call-load_image': 1, 'last_call-thread': 1})"
       ]
      },
      {
       "output_type": "stream",
       "stream": "stdout",
       "text": [
        "\n",
        "Counter({'first_call-load_image': 1, 'last_call-kill_process': 1})\n",
        "Counter({'first_call-load_image': 1, 'last_call-thread': 1})\n",
        "Counter({'first_call-load_image': 1, 'last_call-kill_process': 1})\n",
        "Counter({'first_call-load_image': 1, 'last_call-thread': 1})\n",
        "Counter({'first_call-load_image': 1, 'last_call-process': 1})"
       ]
      },
      {
       "output_type": "stream",
       "stream": "stdout",
       "text": [
        "\n",
        "Counter({'first_call-load_image': 1, 'last_call-process': 1})\n",
        "Counter({'first_call-load_image': 1, 'last_call-enum_window': 1})\n",
        "Counter({'first_call-load_image': 1, 'last_call-thread': 1})"
       ]
      },
      {
       "output_type": "stream",
       "stream": "stdout",
       "text": [
        "\n",
        "Counter({'first_call-load_image': 1, 'last_call-open_process': 1})"
       ]
      },
      {
       "output_type": "stream",
       "stream": "stdout",
       "text": [
        "\n",
        "Counter({'first_call-load_image': 1, 'last_call-thread': 1})"
       ]
      },
      {
       "output_type": "stream",
       "stream": "stdout",
       "text": [
        "\n",
        "Counter({'first_call-load_image': 1, 'last_call-kill_process': 1})"
       ]
      },
      {
       "output_type": "stream",
       "stream": "stdout",
       "text": [
        "\n",
        "Counter({'first_call-load_image': 1, 'last_call-enum_window': 1})"
       ]
      },
      {
       "output_type": "stream",
       "stream": "stdout",
       "text": [
        "\n",
        "Counter({'first_call-load_image': 1, 'last_call-thread': 1})"
       ]
      },
      {
       "output_type": "stream",
       "stream": "stdout",
       "text": [
        "\n",
        "Counter({'first_call-load_image': 1, 'last_call-thread': 1})"
       ]
      },
      {
       "output_type": "stream",
       "stream": "stdout",
       "text": [
        "\n",
        "Counter({'first_call-load_image': 1, 'last_call-thread': 1})"
       ]
      },
      {
       "output_type": "stream",
       "stream": "stdout",
       "text": [
        "\n",
        "Counter({'first_call-load_image': 1, 'last_call-process': 1})\n",
        "Counter({'first_call-load_image': 1, 'last_call-enum_window': 1})\n",
        "Counter({'first_call-load_image': 1, 'last_call-kill_process': 1})\n",
        "Counter({'first_call-load_image': 1, 'last_call-enum_window': 1})\n",
        "Counter({'first_call-load_image': 1, 'last_call-enum_window': 1})"
       ]
      },
      {
       "output_type": "stream",
       "stream": "stdout",
       "text": [
        "\n",
        "Counter({'first_call-load_image': 1, 'last_call-enum_window': 1})\n",
        "Counter({'first_call-load_image': 1, 'last_call-open_process': 1})\n",
        "Counter({'first_call-load_image': 1, 'last_call-thread': 1})\n",
        "Counter({'first_call-load_image': 1, 'last_call-kill_process': 1})\n",
        "Counter({'first_call-load_image': 1, 'last_call-load_dll': 1})"
       ]
      },
      {
       "output_type": "stream",
       "stream": "stdout",
       "text": [
        "\n",
        "Counter({'first_call-load_image': 1, 'last_call-process': 1})\n",
        "Counter({'first_call-load_image': 1, 'last_call-load_dll': 1})\n",
        "Counter({'first_call-load_image': 1, 'last_call-thread': 1})\n",
        "Counter({'first_call-load_image': 1, 'last_call-thread': 1})\n",
        "Counter({'first_call-load_image': 1, 'last_call-thread': 1})"
       ]
      },
      {
       "output_type": "stream",
       "stream": "stdout",
       "text": [
        "\n",
        "Counter({'first_call-load_image': 1, 'last_call-enum_window': 1})"
       ]
      },
      {
       "output_type": "stream",
       "stream": "stdout",
       "text": [
        "\n",
        "Counter({'first_call-load_image': 1, 'last_call-load_dll': 1})\n",
        "Counter({'first_call-load_image': 1, 'last_call-kill_process': 1})\n",
        "Counter({'first_call-load_image': 1, 'last_call-thread': 1})\n",
        "Counter({'first_call-load_image': 1, 'last_call-enum_window': 1})\n",
        "Counter({'first_call-load_image': 1, 'last_call-thread': 1})"
       ]
      },
      {
       "output_type": "stream",
       "stream": "stdout",
       "text": [
        "\n",
        "Counter({'first_call-load_image': 1, 'last_call-kill_process': 1})\n",
        "Counter({'first_call-load_image': 1, 'last_call-process': 1})\n",
        "Counter({'first_call-load_image': 1, 'last_call-thread': 1})"
       ]
      },
      {
       "output_type": "stream",
       "stream": "stdout",
       "text": [
        "\n",
        "Counter({'first_call-load_image': 1, 'last_call-kill_process': 1})"
       ]
      },
      {
       "output_type": "stream",
       "stream": "stdout",
       "text": [
        "\n",
        "Counter({'first_call-load_image': 1, 'last_call-kill_process': 1})\n",
        "Counter({'first_call-load_image': 1, 'last_call-check_for_debugger': 1})\n",
        "Counter({'first_call-load_image': 1, 'last_call-kill_process': 1})"
       ]
      },
      {
       "output_type": "stream",
       "stream": "stdout",
       "text": [
        "\n",
        "Counter({'first_call-load_image': 1, 'last_call-thread': 1})"
       ]
      },
      {
       "output_type": "stream",
       "stream": "stdout",
       "text": [
        "\n",
        "Counter({'first_call-load_image': 1, 'last_call-create_thread': 1})"
       ]
      },
      {
       "output_type": "stream",
       "stream": "stdout",
       "text": [
        "\n",
        "Counter({'first_call-load_image': 1, 'last_call-thread': 1})"
       ]
      },
      {
       "output_type": "stream",
       "stream": "stdout",
       "text": [
        "\n",
        "Counter({'first_call-load_image': 1, 'last_call-thread': 1})"
       ]
      },
      {
       "output_type": "stream",
       "stream": "stdout",
       "text": [
        "\n",
        "Counter({'first_call-load_image': 1, 'last_call-process': 1})\n",
        "Counter({'first_call-load_image': 1, 'last_call-thread': 1})\n",
        "Counter({'first_call-load_image': 1, 'last_call-process': 1})"
       ]
      },
      {
       "output_type": "stream",
       "stream": "stdout",
       "text": [
        "\n",
        "Counter({'first_call-load_image': 1, 'last_call-thread': 1})\n",
        "Counter({'first_call-load_image': 1, 'last_call-sleep': 1})"
       ]
      },
      {
       "output_type": "stream",
       "stream": "stdout",
       "text": [
        "\n",
        "Counter({'first_call-load_image': 1, 'last_call-kill_process': 1})\n",
        "Counter({'first_call-load_image': 1, 'last_call-enum_window': 1})\n",
        "Counter({'first_call-load_image': 1, 'last_call-thread': 1})\n",
        "Counter({'first_call-load_image': 1, 'last_call-check_for_debugger': 1})"
       ]
      },
      {
       "output_type": "stream",
       "stream": "stdout",
       "text": [
        "\n",
        "Counter({'first_call-load_image': 1, 'last_call-enum_window': 1})\n",
        "Counter({'first_call-load_image': 1, 'last_call-kill_process': 1})\n",
        "Counter({'first_call-load_image': 1, 'last_call-enum_window': 1})\n",
        "Counter({'first_call-load_image': 1, 'last_call-load_dll': 1})"
       ]
      },
      {
       "output_type": "stream",
       "stream": "stdout",
       "text": [
        "\n",
        "Counter({'first_call-load_image': 1, 'last_call-enum_window': 1})\n",
        "Counter({'first_call-load_image': 1, 'last_call-kill_process': 1})\n",
        "Counter({'first_call-load_image': 1, 'last_call-thread': 1})"
       ]
      },
      {
       "output_type": "stream",
       "stream": "stdout",
       "text": [
        "\n",
        "Counter({'first_call-load_image': 1, 'last_call-process': 1})"
       ]
      },
      {
       "output_type": "stream",
       "stream": "stdout",
       "text": [
        "\n",
        "Counter({'first_call-load_image': 1, 'last_call-kill_process': 1})\n",
        "Counter({'first_call-load_image': 1, 'last_call-enum_window': 1})\n",
        "Counter({'first_call-load_image': 1, 'last_call-get_host_by_name': 1})"
       ]
      },
      {
       "output_type": "stream",
       "stream": "stdout",
       "text": [
        "\n",
        "Counter({'first_call-load_image': 1, 'last_call-enum_window': 1})\n",
        "Counter({'first_call-load_image': 1, 'last_call-check_for_debugger': 1})\n",
        "Counter({'first_call-load_image': 1, 'last_call-thread': 1})\n",
        "Counter({'first_call-load_image': 1, 'last_call-process': 1})\n",
        "Counter({'first_call-load_image': 1, 'last_call-kill_process': 1})\n",
        "Counter({'first_call-load_image': 1, 'last_call-process': 1})"
       ]
      },
      {
       "output_type": "stream",
       "stream": "stdout",
       "text": [
        "\n",
        "Counter({'first_call-load_image': 1, 'last_call-thread': 1})"
       ]
      },
      {
       "output_type": "stream",
       "stream": "stdout",
       "text": [
        "\n",
        "Counter({'first_call-load_image': 1, 'last_call-enum_window': 1})"
       ]
      },
      {
       "output_type": "stream",
       "stream": "stdout",
       "text": [
        "\n",
        "Counter({'first_call-load_image': 1, 'last_call-thread': 1})"
       ]
      },
      {
       "output_type": "stream",
       "stream": "stdout",
       "text": [
        "\n",
        "Counter({'first_call-load_image': 1, 'last_call-enum_window': 1})"
       ]
      },
      {
       "output_type": "stream",
       "stream": "stdout",
       "text": [
        "\n",
        "Counter({'first_call-load_image': 1, 'last_call-thread': 1})\n",
        "Counter({'first_call-load_image': 1, 'last_call-enum_window': 1})\n",
        "Counter({'first_call-load_image': 1, 'last_call-enum_window': 1})\n",
        "Counter({'first_call-load_image': 1, 'last_call-process': 1})\n",
        "Counter({'first_call-load_image': 1, 'last_call-thread': 1})"
       ]
      },
      {
       "output_type": "stream",
       "stream": "stdout",
       "text": [
        "\n",
        "Counter({'first_call-load_image': 1, 'last_call-load_dll': 1})"
       ]
      },
      {
       "output_type": "stream",
       "stream": "stdout",
       "text": [
        "\n",
        "Counter({'first_call-load_image': 1, 'last_call-thread': 1})"
       ]
      },
      {
       "output_type": "stream",
       "stream": "stdout",
       "text": [
        "\n",
        "Counter({'first_call-load_image': 1, 'last_call-process': 1})"
       ]
      },
      {
       "output_type": "stream",
       "stream": "stdout",
       "text": [
        "\n",
        "Counter({'first_call-load_image': 1, 'last_call-process': 1})\n",
        "Counter({'first_call-load_image': 1, 'last_call-thread': 1})\n",
        "Counter({'first_call-load_image': 1, 'last_call-process': 1})\n",
        "Counter({'first_call-load_image': 1, 'last_call-enum_window': 1})\n",
        "Counter({'first_call-load_image': 1, 'last_call-thread': 1})\n",
        "Counter({'first_call-load_image': 1, 'last_call-enum_window': 1})\n",
        "Counter({'first_call-load_image': 1, 'last_call-check_for_debugger': 1})"
       ]
      },
      {
       "output_type": "stream",
       "stream": "stdout",
       "text": [
        "\n",
        "Counter({'first_call-load_image': 1, 'last_call-thread': 1})\n",
        "Counter({'first_call-load_image': 1, 'last_call-enum_window': 1})\n",
        "Counter({'first_call-load_image': 1, 'last_call-load_dll': 1})\n",
        "Counter({'first_call-load_image': 1, 'last_call-load_dll': 1})"
       ]
      },
      {
       "output_type": "stream",
       "stream": "stdout",
       "text": [
        "\n",
        "Counter({'first_call-load_image': 1, 'last_call-enum_window': 1})\n",
        "Counter({'first_call-load_image': 1, 'last_call-kill_process': 1})\n",
        "Counter({'first_call-load_image': 1, 'last_call-thread': 1})\n",
        "Counter({'first_call-load_image': 1, 'last_call-enum_window': 1})\n",
        "Counter({'first_call-load_image': 1, 'last_call-create_mutex': 1})"
       ]
      },
      {
       "output_type": "stream",
       "stream": "stdout",
       "text": [
        "\n",
        "Counter({'first_call-load_image': 1, 'last_call-enum_window': 1})"
       ]
      },
      {
       "output_type": "stream",
       "stream": "stdout",
       "text": [
        "\n",
        "Counter({'first_call-load_image': 1, 'last_call-thread': 1})\n",
        "Counter({'first_call-load_image': 1, 'last_call-thread': 1})"
       ]
      },
      {
       "output_type": "stream",
       "stream": "stdout",
       "text": [
        "\n",
        "Counter({'first_call-load_image': 1, 'last_call-process': 1})"
       ]
      },
      {
       "output_type": "stream",
       "stream": "stdout",
       "text": [
        "\n",
        "Counter({'first_call-load_image': 1, 'last_call-kill_process': 1})\n",
        "Counter({'first_call-load_image': 1, 'last_call-thread': 1})"
       ]
      },
      {
       "output_type": "stream",
       "stream": "stdout",
       "text": [
        "\n",
        "Counter({'first_call-load_image': 1, 'last_call-open_process': 1})"
       ]
      },
      {
       "output_type": "stream",
       "stream": "stdout",
       "text": [
        "\n",
        "Counter({'first_call-load_image': 1, 'last_call-kill_process': 1})"
       ]
      },
      {
       "output_type": "stream",
       "stream": "stdout",
       "text": [
        "\n",
        "Counter({'first_call-load_image': 1, 'last_call-thread': 1})\n",
        "Counter({'first_call-load_image': 1, 'last_call-thread': 1})\n",
        "Counter({'first_call-load_image': 1, 'last_call-kill_process': 1})\n",
        "Counter({'first_call-load_image': 1, 'last_call-kill_process': 1})"
       ]
      },
      {
       "output_type": "stream",
       "stream": "stdout",
       "text": [
        "\n",
        "Counter({'first_call-load_image': 1, 'last_call-sleep': 1})\n",
        "Counter({'first_call-load_image': 1, 'last_call-thread': 1})\n",
        "Counter({'first_call-load_image': 1, 'last_call-thread': 1})\n",
        "Counter({'first_call-load_image': 1, 'last_call-enum_window': 1})\n",
        "Counter({'first_call-load_image': 1, 'last_call-thread': 1})\n",
        "Counter({'first_call-load_image': 1, 'last_call-enum_window': 1})"
       ]
      },
      {
       "output_type": "stream",
       "stream": "stdout",
       "text": [
        "\n",
        "Counter({'first_call-load_image': 1, 'last_call-process': 1})\n",
        "Counter({'first_call-load_image': 1, 'last_call-enum_window': 1})\n",
        "Counter({'first_call-load_image': 1, 'last_call-load_dll': 1})\n",
        "Counter({'first_call-load_image': 1, 'last_call-thread': 1})"
       ]
      },
      {
       "output_type": "stream",
       "stream": "stdout",
       "text": [
        "\n",
        "Counter({'first_call-load_image': 1, 'last_call-kill_process': 1})\n",
        "Counter({'first_call-load_image': 1, 'last_call-kill_process': 1})\n",
        "Counter({'first_call-load_image': 1, 'last_call-process': 1})\n",
        "Counter({'first_call-load_image': 1, 'last_call-thread': 1})"
       ]
      },
      {
       "output_type": "stream",
       "stream": "stdout",
       "text": [
        "\n",
        "Counter({'first_call-load_image': 1, 'last_call-thread': 1})"
       ]
      },
      {
       "output_type": "stream",
       "stream": "stdout",
       "text": [
        "\n",
        "Counter({'first_call-load_image': 1, 'last_call-thread': 1})"
       ]
      },
      {
       "output_type": "stream",
       "stream": "stdout",
       "text": [
        "\n",
        "Counter({'first_call-load_image': 1, 'last_call-thread': 1})"
       ]
      },
      {
       "output_type": "stream",
       "stream": "stdout",
       "text": [
        "\n",
        "Counter({'first_call-load_image': 1, 'last_call-load_dll': 1})"
       ]
      },
      {
       "output_type": "stream",
       "stream": "stdout",
       "text": [
        "\n",
        "Counter({'first_call-load_image': 1, 'last_call-open_process': 1})\n",
        "Counter({'first_call-load_image': 1, 'last_call-enum_window': 1})\n",
        "Counter({'first_call-load_image': 1, 'last_call-create_thread': 1})"
       ]
      },
      {
       "output_type": "stream",
       "stream": "stdout",
       "text": [
        "\n",
        "Counter({'first_call-load_image': 1, 'last_call-kill_process': 1})"
       ]
      },
      {
       "output_type": "stream",
       "stream": "stdout",
       "text": [
        "\n",
        "Counter({'first_call-load_image': 1, 'last_call-load_dll': 1})\n",
        "Counter({'first_call-load_image': 1, 'last_call-thread': 1})"
       ]
      },
      {
       "output_type": "stream",
       "stream": "stdout",
       "text": [
        "\n",
        "Counter({'first_call-load_image': 1, 'last_call-load_dll': 1})"
       ]
      },
      {
       "output_type": "stream",
       "stream": "stdout",
       "text": [
        "\n",
        "Counter({'first_call-load_image': 1, 'last_call-thread': 1})\n",
        "Counter({'first_call-load_image': 1, 'last_call-kill_process': 1})\n",
        "Counter({'first_call-load_image': 1, 'last_call-kill_process': 1})\n",
        "Counter({'first_call-load_image': 1, 'last_call-thread': 1})\n",
        "Counter({'first_call-load_image': 1, 'last_call-enum_window': 1})\n",
        "Counter({'first_call-load_image': 1, 'last_call-thread': 1})"
       ]
      },
      {
       "output_type": "stream",
       "stream": "stdout",
       "text": [
        "\n",
        "Counter({'first_call-load_image': 1, 'last_call-process': 1})\n",
        "Counter({'first_call-load_image': 1, 'last_call-thread': 1})\n",
        "Counter({'first_call-load_image': 1, 'last_call-kill_process': 1})"
       ]
      },
      {
       "output_type": "stream",
       "stream": "stdout",
       "text": [
        "\n",
        "Counter({'first_call-load_image': 1, 'last_call-thread': 1})\n",
        "Counter({'first_call-load_image': 1, 'last_call-load_dll': 1})\n",
        "Counter({'first_call-load_image': 1, 'last_call-thread': 1})\n",
        "Counter({'first_call-load_image': 1, 'last_call-process': 1})"
       ]
      },
      {
       "output_type": "stream",
       "stream": "stdout",
       "text": [
        "\n",
        "Counter({'first_call-load_image': 1, 'last_call-enum_window': 1})"
       ]
      },
      {
       "output_type": "stream",
       "stream": "stdout",
       "text": [
        "\n",
        "Counter({'first_call-load_image': 1, 'last_call-sleep': 1})\n",
        "Counter({'first_call-load_image': 1, 'last_call-thread': 1})\n",
        "Counter({'first_call-load_image': 1, 'last_call-process': 1})\n",
        "Counter({'first_call-load_image': 1, 'last_call-thread': 1})\n",
        "Counter({'first_call-load_image': 1, 'last_call-kill_process': 1})"
       ]
      },
      {
       "output_type": "stream",
       "stream": "stdout",
       "text": [
        "\n",
        "Counter({'first_call-load_image': 1, 'last_call-thread': 1})"
       ]
      },
      {
       "output_type": "stream",
       "stream": "stdout",
       "text": [
        "\n",
        "Counter({'first_call-load_image': 1, 'last_call-enum_window': 1})\n",
        "Counter({'first_call-load_image': 1, 'last_call-thread': 1})\n",
        "Counter({'first_call-load_image': 1, 'last_call-thread': 1})\n",
        "Counter({'first_call-load_image': 1, 'last_call-load_dll': 1})"
       ]
      },
      {
       "output_type": "stream",
       "stream": "stdout",
       "text": [
        "\n",
        "Counter({'first_call-load_image': 1, 'last_call-thread': 1})"
       ]
      },
      {
       "output_type": "stream",
       "stream": "stdout",
       "text": [
        "\n",
        "Counter({'first_call-load_image': 1, 'last_call-kill_process': 1})"
       ]
      },
      {
       "output_type": "stream",
       "stream": "stdout",
       "text": [
        "\n",
        "Counter({'first_call-load_image': 1, 'last_call-process': 1})\n",
        "Counter({'first_call-load_image': 1, 'last_call-enum_window': 1})\n",
        "Counter({'first_call-load_image': 1, 'last_call-load_dll': 1})\n",
        "Counter({'first_call-load_image': 1, 'last_call-query_value': 1})"
       ]
      },
      {
       "output_type": "stream",
       "stream": "stdout",
       "text": [
        "\n",
        "Counter({'first_call-load_image': 1, 'last_call-kill_process': 1})"
       ]
      },
      {
       "output_type": "stream",
       "stream": "stdout",
       "text": [
        "\n",
        "Counter({'first_call-load_image': 1, 'last_call-kill_process': 1})\n",
        "Counter({'first_call-load_image': 1, 'last_call-thread': 1})"
       ]
      },
      {
       "output_type": "stream",
       "stream": "stdout",
       "text": [
        "\n",
        "Counter({'first_call-load_image': 1, 'last_call-thread': 1})\n",
        "Counter({'first_call-load_image': 1, 'last_call-thread': 1})\n",
        "Counter({'first_call-load_image': 1, 'last_call-enum_window': 1})\n",
        "Counter({'first_call-load_image': 1, 'last_call-enum_window': 1})\n",
        "Counter({'first_call-load_image': 1, 'last_call-enum_window': 1})\n",
        "Counter({'first_call-load_image': 1, 'last_call-kill_process': 1})"
       ]
      },
      {
       "output_type": "stream",
       "stream": "stdout",
       "text": [
        "\n",
        "Counter({'first_call-load_image': 1, 'last_call-enum_window': 1})"
       ]
      },
      {
       "output_type": "stream",
       "stream": "stdout",
       "text": [
        "\n",
        "Counter({'first_call-load_image': 1, 'last_call-thread': 1})\n",
        "Counter({'first_call-load_image': 1, 'last_call-enum_window': 1})\n",
        "Counter({'first_call-load_image': 1, 'last_call-thread': 1})"
       ]
      },
      {
       "output_type": "stream",
       "stream": "stdout",
       "text": [
        "\n",
        "Counter({'first_call-load_image': 1, 'last_call-thread': 1})"
       ]
      },
      {
       "output_type": "stream",
       "stream": "stdout",
       "text": [
        "\n",
        "Counter({'first_call-load_image': 1, 'last_call-thread': 1})\n",
        "Counter({'first_call-load_image': 1, 'last_call-get_system_directory': 1})\n",
        "Counter({'first_call-load_image': 1, 'last_call-enum_window': 1})\n",
        "Counter({'first_call-load_image': 1, 'last_call-sleep': 1})\n",
        "Counter({'first_call-load_image': 1, 'last_call-thread': 1})\n",
        "Counter({'first_call-load_image': 1, 'last_call-thread': 1})\n",
        "Counter({'first_call-load_image': 1, 'last_call-thread': 1})\n",
        "Counter({'first_call-load_image': 1, 'last_call-enum_window': 1})"
       ]
      },
      {
       "output_type": "stream",
       "stream": "stdout",
       "text": [
        "\n",
        "Counter({'first_call-load_image': 1, 'last_call-thread': 1})\n",
        "Counter({'first_call-load_image': 1, 'last_call-kill_process': 1})"
       ]
      },
      {
       "output_type": "stream",
       "stream": "stdout",
       "text": [
        "\n",
        "Counter({'first_call-load_image': 1, 'last_call-thread': 1})\n",
        "Counter({'first_call-load_image': 1, 'last_call-enum_window': 1})\n",
        "Counter({'first_call-load_image': 1, 'last_call-open_process': 1})\n",
        "Counter({'last_call-create_window': 1, 'first_call-load_image': 1})\n",
        "Counter({'first_call-load_image': 1, 'last_call-thread': 1})\n",
        "Counter({'first_call-load_image': 1, 'last_call-thread': 1})"
       ]
      },
      {
       "output_type": "stream",
       "stream": "stdout",
       "text": [
        "\n",
        "Counter({'first_call-load_image': 1, 'last_call-kill_process': 1})"
       ]
      },
      {
       "output_type": "stream",
       "stream": "stdout",
       "text": [
        "\n",
        "Counter({'first_call-load_image': 1, 'last_call-thread': 1})\n",
        "Counter({'first_call-load_image': 1, 'last_call-enum_window': 1})\n",
        "Counter({'first_call-load_image': 1, 'last_call-process': 1})\n",
        "Counter({'first_call-load_image': 1, 'last_call-kill_process': 1})\n",
        "Counter({'first_call-load_image': 1, 'last_call-thread': 1})"
       ]
      },
      {
       "output_type": "stream",
       "stream": "stdout",
       "text": [
        "\n",
        "Counter({'first_call-load_image': 1, 'last_call-kill_process': 1})"
       ]
      },
      {
       "output_type": "stream",
       "stream": "stdout",
       "text": [
        "\n",
        "Counter({'first_call-load_image': 1, 'last_call-kill_process': 1})\n",
        "Counter({'first_call-load_image': 1, 'last_call-kill_process': 1})\n",
        "Counter({'first_call-load_image': 1, 'last_call-thread': 1})\n",
        "Counter({'first_call-load_image': 1, 'last_call-enum_window': 1})\n",
        "Counter({'first_call-load_image': 1, 'last_call-load_dll': 1})"
       ]
      },
      {
       "output_type": "stream",
       "stream": "stdout",
       "text": [
        "\n",
        "Counter({'first_call-load_image': 1, 'last_call-check_for_debugger': 1})\n",
        "Counter({'first_call-load_image': 1, 'last_call-thread': 1})\n",
        "Counter({'first_call-load_image': 1, 'last_call-load_dll': 1})"
       ]
      },
      {
       "output_type": "stream",
       "stream": "stdout",
       "text": [
        "\n",
        "Counter({'first_call-load_image': 1, 'last_call-thread': 1})\n",
        "Counter({'first_call-load_image': 1, 'last_call-enum_window': 1})"
       ]
      },
      {
       "output_type": "stream",
       "stream": "stdout",
       "text": [
        "\n",
        "Counter({'first_call-load_image': 1, 'last_call-process': 1})\n",
        "Counter({'first_call-load_image': 1, 'last_call-process': 1})\n",
        "Counter({'first_call-load_image': 1, 'last_call-load_dll': 1})\n",
        "Counter({'first_call-load_image': 1, 'last_call-enum_window': 1})\n",
        "Counter({'first_call-load_image': 1, 'last_call-kill_process': 1})\n",
        "Counter({'first_call-load_image': 1, 'last_call-thread': 1})"
       ]
      },
      {
       "output_type": "stream",
       "stream": "stdout",
       "text": [
        "\n",
        "Counter({'first_call-load_image': 1, 'last_call-load_dll': 1})"
       ]
      },
      {
       "output_type": "stream",
       "stream": "stdout",
       "text": [
        "\n",
        "Counter({'first_call-load_image': 1, 'last_call-thread': 1})\n",
        "Counter({'first_call-load_image': 1, 'last_call-thread': 1})\n",
        "Counter({'first_call-load_image': 1, 'last_call-kill_process': 1})\n",
        "Counter({'first_call-load_image': 1, 'last_call-thread': 1})"
       ]
      },
      {
       "output_type": "stream",
       "stream": "stdout",
       "text": [
        "\n",
        "Counter({'first_call-load_image': 1, 'last_call-thread': 1})"
       ]
      },
      {
       "output_type": "stream",
       "stream": "stdout",
       "text": [
        "\n",
        "Counter({'first_call-load_image': 1, 'last_call-enum_window': 1})"
       ]
      },
      {
       "output_type": "stream",
       "stream": "stdout",
       "text": [
        "\n",
        "Counter({'first_call-load_image': 1, 'last_call-thread': 1})\n",
        "Counter({'first_call-load_image': 1, 'last_call-thread': 1})"
       ]
      },
      {
       "output_type": "stream",
       "stream": "stdout",
       "text": [
        "\n",
        "Counter({'first_call-load_image': 1, 'last_call-enum_window': 1})\n",
        "Counter({'first_call-load_image': 1, 'last_call-enum_window': 1})\n",
        "Counter({'first_call-load_image': 1, 'last_call-thread': 1})\n",
        "Counter({'first_call-load_image': 1, 'last_call-load_dll': 1})\n",
        "Counter({'first_call-load_image': 1, 'last_call-kill_process': 1})"
       ]
      },
      {
       "output_type": "stream",
       "stream": "stdout",
       "text": [
        "\n",
        "Counter({'first_call-load_image': 1, 'last_call-kill_process': 1})\n",
        "Counter({'first_call-load_image': 1, 'last_call-get_system_directory': 1})\n",
        "Counter({'first_call-load_image': 1, 'last_call-thread': 1})\n",
        "Counter({'first_call-load_image': 1, 'last_call-enum_window': 1})\n",
        "Counter({'first_call-load_image': 1, 'last_call-process': 1})"
       ]
      },
      {
       "output_type": "stream",
       "stream": "stdout",
       "text": [
        "\n",
        "Counter({'first_call-load_image': 1, 'last_call-thread': 1})\n",
        "Counter({'first_call-load_image': 1, 'last_call-load_dll': 1})\n",
        "Counter({'first_call-load_image': 1, 'last_call-get_system_directory': 1})"
       ]
      },
      {
       "output_type": "stream",
       "stream": "stdout",
       "text": [
        "\n",
        "Counter({'first_call-load_image': 1, 'last_call-thread': 1})"
       ]
      },
      {
       "output_type": "stream",
       "stream": "stdout",
       "text": [
        "\n",
        "Counter({'first_call-load_image': 1, 'last_call-thread': 1})"
       ]
      },
      {
       "output_type": "stream",
       "stream": "stdout",
       "text": [
        "\n",
        "Counter({'first_call-load_image': 1, 'last_call-enum_window': 1})"
       ]
      },
      {
       "output_type": "stream",
       "stream": "stdout",
       "text": [
        "\n",
        "Counter({'first_call-load_image': 1, 'last_call-thread': 1})"
       ]
      },
      {
       "output_type": "stream",
       "stream": "stdout",
       "text": [
        "\n",
        "Counter({'first_call-load_image': 1, 'last_call-kill_process': 1})\n",
        "Counter({'first_call-load_image': 1, 'last_call-sleep': 1})"
       ]
      },
      {
       "output_type": "stream",
       "stream": "stdout",
       "text": [
        "\n",
        "Counter({'first_call-load_image': 1, 'last_call-enum_window': 1})"
       ]
      },
      {
       "output_type": "stream",
       "stream": "stdout",
       "text": [
        "\n",
        "Counter({'first_call-load_image': 1, 'last_call-thread': 1})\n",
        "Counter({'first_call-load_image': 1, 'last_call-kill_process': 1})\n",
        "Counter({'first_call-load_image': 1, 'last_call-enum_window': 1})\n",
        "Counter({'first_call-load_image': 1, 'last_call-kill_process': 1})"
       ]
      },
      {
       "output_type": "stream",
       "stream": "stdout",
       "text": [
        "\n",
        "Counter({'first_call-load_image': 1, 'last_call-kill_process': 1})\n",
        "Counter({'first_call-load_image': 1, 'last_call-thread': 1})\n",
        "Counter({'first_call-load_image': 1, 'last_call-thread': 1})\n",
        "Counter({'first_call-load_image': 1, 'last_call-thread': 1})"
       ]
      },
      {
       "output_type": "stream",
       "stream": "stdout",
       "text": [
        "\n",
        "Counter({'first_call-load_image': 1, 'last_call-thread': 1})"
       ]
      },
      {
       "output_type": "stream",
       "stream": "stdout",
       "text": [
        "\n",
        "Counter({'first_call-load_image': 1, 'last_call-process': 1})"
       ]
      },
      {
       "output_type": "stream",
       "stream": "stdout",
       "text": [
        "\n",
        "Counter({'first_call-load_image': 1, 'last_call-process': 1})\n",
        "Counter({'first_call-load_image': 1, 'last_call-kill_process': 1})\n",
        "Counter({'first_call-load_image': 1, 'last_call-thread': 1})"
       ]
      },
      {
       "output_type": "stream",
       "stream": "stdout",
       "text": [
        "\n",
        "Counter({'first_call-load_image': 1, 'last_call-process': 1})"
       ]
      },
      {
       "output_type": "stream",
       "stream": "stdout",
       "text": [
        "\n",
        "Counter({'first_call-load_image': 1, 'last_call-thread': 1})"
       ]
      },
      {
       "output_type": "stream",
       "stream": "stdout",
       "text": [
        "\n",
        "Counter({'first_call-load_image': 1, 'last_call-thread': 1})"
       ]
      },
      {
       "output_type": "stream",
       "stream": "stdout",
       "text": [
        "\n",
        "Counter({'first_call-load_image': 1, 'last_call-thread': 1})\n",
        "Counter({'first_call-load_image': 1, 'last_call-thread': 1})"
       ]
      },
      {
       "output_type": "stream",
       "stream": "stdout",
       "text": [
        "\n",
        "Counter({'first_call-load_image': 1, 'last_call-kill_process': 1})\n",
        "Counter({'first_call-load_image': 1, 'last_call-enum_window': 1})\n",
        "Counter({'first_call-load_image': 1, 'last_call-get_system_time': 1})"
       ]
      },
      {
       "output_type": "stream",
       "stream": "stdout",
       "text": [
        "\n",
        "Counter({'first_call-load_image': 1, 'last_call-enum_window': 1})"
       ]
      },
      {
       "output_type": "stream",
       "stream": "stdout",
       "text": [
        "\n",
        "Counter({'first_call-load_image': 1, 'last_call-thread': 1})\n",
        "Counter({'first_call-load_image': 1, 'last_call-enum_window': 1})\n",
        "Counter({'first_call-load_image': 1, 'last_call-load_dll': 1})\n",
        "Counter({'first_call-load_image': 1, 'last_call-kill_process': 1})\n",
        "Counter({'first_call-load_image': 1, 'last_call-thread': 1})\n",
        "Counter({'first_call-load_image': 1, 'last_call-process': 1})"
       ]
      },
      {
       "output_type": "stream",
       "stream": "stdout",
       "text": [
        "\n",
        "Counter({'first_call-load_image': 1, 'last_call-thread': 1})"
       ]
      },
      {
       "output_type": "stream",
       "stream": "stdout",
       "text": [
        "\n",
        "Counter({'first_call-load_image': 1, 'last_call-enum_window': 1})\n",
        "Counter({'first_call-load_image': 1, 'last_call-thread': 1})\n",
        "Counter({'first_call-load_image': 1, 'last_call-thread': 1})"
       ]
      },
      {
       "output_type": "stream",
       "stream": "stdout",
       "text": [
        "\n",
        "Counter({'first_call-load_image': 1, 'last_call-thread': 1})"
       ]
      },
      {
       "output_type": "stream",
       "stream": "stdout",
       "text": [
        "\n",
        "Counter({'first_call-load_image': 1, 'last_call-thread': 1})"
       ]
      },
      {
       "output_type": "stream",
       "stream": "stdout",
       "text": [
        "\n",
        "Counter({'first_call-load_image': 1, 'last_call-kill_process': 1})"
       ]
      },
      {
       "output_type": "stream",
       "stream": "stdout",
       "text": [
        "\n",
        "Counter({'first_call-load_image': 1, 'last_call-thread': 1})"
       ]
      },
      {
       "output_type": "stream",
       "stream": "stdout",
       "text": [
        "\n",
        "Counter({'first_call-load_image': 1, 'last_call-sleep': 1})\n",
        "Counter({'first_call-load_image': 1, 'last_call-thread': 1})"
       ]
      },
      {
       "output_type": "stream",
       "stream": "stdout",
       "text": [
        "\n",
        "Counter({'first_call-load_image': 1, 'last_call-kill_process': 1})"
       ]
      },
      {
       "output_type": "stream",
       "stream": "stdout",
       "text": [
        "\n",
        "Counter({'first_call-load_image': 1, 'last_call-thread': 1})\n",
        "Counter({'first_call-load_image': 1, 'last_call-process': 1})\n",
        "Counter({'first_call-load_image': 1, 'last_call-thread': 1})\n",
        "Counter({'first_call-load_image': 1, 'last_call-thread': 1})"
       ]
      },
      {
       "output_type": "stream",
       "stream": "stdout",
       "text": [
        "\n",
        "Counter({'first_call-load_image': 1, 'last_call-kill_process': 1})"
       ]
      },
      {
       "output_type": "stream",
       "stream": "stdout",
       "text": [
        "\n",
        "Counter({'first_call-load_image': 1, 'last_call-thread': 1})\n",
        "Counter({'first_call-load_image': 1, 'last_call-load_dll': 1})\n",
        "Counter({'first_call-load_image': 1, 'last_call-enum_window': 1})\n",
        "Counter({'first_call-load_image': 1, 'last_call-process': 1})\n",
        "Counter({'first_call-load_image': 1, 'last_call-enum_window': 1})\n",
        "Counter({'first_call-load_image': 1, 'last_call-thread': 1})"
       ]
      },
      {
       "output_type": "stream",
       "stream": "stdout",
       "text": [
        "\n",
        "Counter({'first_call-load_image': 1, 'last_call-enum_window': 1})\n",
        "Counter({'first_call-load_image': 1, 'last_call-check_for_debugger': 1})\n",
        "Counter({'first_call-load_image': 1, 'last_call-enum_window': 1})"
       ]
      },
      {
       "output_type": "stream",
       "stream": "stdout",
       "text": [
        "\n",
        "Counter({'first_call-load_image': 1, 'last_call-load_dll': 1})\n",
        "Counter({'first_call-load_image': 1, 'last_call-get_host_by_name': 1})\n",
        "Counter({'first_call-load_image': 1, 'last_call-kill_process': 1})\n",
        "Counter({'first_call-load_image': 1, 'last_call-enum_window': 1})\n",
        "Counter({'first_call-load_image': 1, 'last_call-kill_process': 1})"
       ]
      },
      {
       "output_type": "stream",
       "stream": "stdout",
       "text": [
        "\n",
        "Counter({'first_call-load_image': 1, 'last_call-thread': 1})"
       ]
      },
      {
       "output_type": "stream",
       "stream": "stdout",
       "text": [
        "\n",
        "Counter({'first_call-load_image': 1, 'last_call-enum_window': 1})\n",
        "Counter({'first_call-load_image': 1, 'last_call-enum_window': 1})\n",
        "Counter({'first_call-load_image': 1, 'last_call-enum_processes': 1})\n",
        "Counter({'first_call-load_image': 1, 'last_call-kill_process': 1})"
       ]
      },
      {
       "output_type": "stream",
       "stream": "stdout",
       "text": [
        "\n",
        "Counter({'first_call-load_image': 1, 'last_call-thread': 1})\n",
        "Counter({'first_call-load_image': 1, 'last_call-enum_window': 1})\n",
        "Counter({'first_call-load_image': 1, 'last_call-load_dll': 1})\n",
        "Counter({'first_call-load_image': 1, 'last_call-kill_process': 1})"
       ]
      },
      {
       "output_type": "stream",
       "stream": "stdout",
       "text": [
        "\n",
        "Counter({'first_call-load_image': 1, 'last_call-process': 1})\n",
        "Counter({'first_call-load_image': 1, 'last_call-enum_window': 1})\n",
        "Counter({'first_call-load_image': 1, 'last_call-process': 1})\n",
        "Counter({'first_call-load_image': 1, 'last_call-kill_process': 1})"
       ]
      },
      {
       "output_type": "stream",
       "stream": "stdout",
       "text": [
        "\n",
        "Counter({'first_call-load_image': 1, 'last_call-kill_process': 1})"
       ]
      },
      {
       "output_type": "stream",
       "stream": "stdout",
       "text": [
        "\n",
        "Counter({'first_call-load_image': 1, 'last_call-load_dll': 1})\n",
        "Counter({'first_call-load_image': 1, 'last_call-enum_window': 1})\n",
        "Counter({'first_call-load_image': 1, 'last_call-process': 1})\n",
        "Counter({'first_call-load_image': 1, 'last_call-kill_process': 1})\n",
        "Counter({'first_call-load_image': 1, 'last_call-enum_window': 1})"
       ]
      },
      {
       "output_type": "stream",
       "stream": "stdout",
       "text": [
        "\n",
        "Counter({'first_call-load_image': 1, 'last_call-kill_process': 1})\n",
        "Counter({'first_call-load_image': 1, 'last_call-enum_window': 1})\n",
        "Counter({'first_call-load_image': 1, 'last_call-open_process': 1})\n",
        "Counter({'first_call-load_image': 1, 'last_call-thread': 1})\n",
        "Counter({'first_call-load_image': 1, 'last_call-kill_process': 1})"
       ]
      },
      {
       "output_type": "stream",
       "stream": "stdout",
       "text": [
        "\n",
        "Counter({'first_call-load_image': 1, 'last_call-thread': 1})\n",
        "Counter({'first_call-load_image': 1, 'last_call-thread': 1})\n",
        "Counter({'first_call-load_image': 1, 'last_call-kill_process': 1})\n",
        "Counter({'first_call-load_image': 1, 'last_call-kill_process': 1})\n",
        "Counter({'first_call-load_image': 1, 'last_call-thread': 1})\n",
        "Counter({'first_call-load_image': 1, 'last_call-enum_window': 1})\n",
        "Counter({'first_call-load_image': 1, 'last_call-thread': 1})"
       ]
      },
      {
       "output_type": "stream",
       "stream": "stdout",
       "text": [
        "\n",
        "Counter({'first_call-load_image': 1, 'last_call-enum_window': 1})"
       ]
      },
      {
       "output_type": "stream",
       "stream": "stdout",
       "text": [
        "\n",
        "Counter({'first_call-load_image': 1, 'last_call-open_process': 1})\n",
        "Counter({'first_call-load_image': 1, 'last_call-kill_process': 1})\n",
        "Counter({'first_call-load_image': 1, 'last_call-load_dll': 1})"
       ]
      },
      {
       "output_type": "stream",
       "stream": "stdout",
       "text": [
        "\n",
        "Counter({'first_call-load_image': 1, 'last_call-check_for_debugger': 1})\n",
        "Counter({'first_call-load_image': 1, 'last_call-load_dll': 1})"
       ]
      },
      {
       "output_type": "stream",
       "stream": "stdout",
       "text": [
        "\n",
        "Counter({'first_call-load_image': 1, 'last_call-thread': 1})\n",
        "Counter({'first_call-load_image': 1, 'last_call-sleep': 1})"
       ]
      },
      {
       "output_type": "stream",
       "stream": "stdout",
       "text": [
        "\n",
        "Counter({'first_call-load_image': 1, 'last_call-kill_process': 1})\n",
        "Counter({'first_call-load_image': 1, 'last_call-enum_window': 1})\n",
        "Counter({'first_call-load_image': 1, 'last_call-kill_process': 1})\n",
        "Counter({'first_call-load_image': 1, 'last_call-load_dll': 1})\n",
        "Counter({'first_call-load_image': 1, 'last_call-process': 1})\n",
        "Counter({'first_call-load_image': 1, 'last_call-process': 1})"
       ]
      },
      {
       "output_type": "stream",
       "stream": "stdout",
       "text": [
        "\n",
        "Counter({'first_call-load_image': 1, 'last_call-process': 1})\n",
        "Counter({'first_call-load_image': 1, 'last_call-process': 1})\n",
        "Counter({'first_call-load_image': 1, 'last_call-kill_process': 1})\n",
        "Counter({'first_call-load_image': 1, 'last_call-thread': 1})\n",
        "Counter({'first_call-load_image': 1, 'last_call-thread': 1})"
       ]
      },
      {
       "output_type": "stream",
       "stream": "stdout",
       "text": [
        "\n",
        "Counter({'first_call-load_image': 1, 'last_call-thread': 1})\n",
        "Counter({'first_call-load_image': 1, 'last_call-thread': 1})"
       ]
      },
      {
       "output_type": "stream",
       "stream": "stdout",
       "text": [
        "\n",
        "Counter({'first_call-load_image': 1, 'last_call-kill_process': 1})\n",
        "Counter({'first_call-load_image': 1, 'last_call-enum_window': 1})\n",
        "Counter({'first_call-load_image': 1, 'last_call-kill_process': 1})\n",
        "Counter({'first_call-load_image': 1, 'last_call-thread': 1})\n",
        "Counter({'first_call-load_image': 1, 'last_call-kill_process': 1})"
       ]
      },
      {
       "output_type": "stream",
       "stream": "stdout",
       "text": [
        "\n",
        "Counter({'first_call-load_image': 1, 'last_call-kill_process': 1})\n",
        "Counter({'first_call-load_image': 1, 'last_call-thread': 1})\n",
        "Counter({'first_call-load_image': 1, 'last_call-thread': 1})\n",
        "Counter({'first_call-load_image': 1, 'last_call-kill_process': 1})\n",
        "Counter({'first_call-load_image': 1, 'last_call-kill_process': 1})\n",
        "Counter({'first_call-load_image': 1, 'last_call-thread': 1})"
       ]
      },
      {
       "output_type": "stream",
       "stream": "stdout",
       "text": [
        "\n",
        "Counter({'first_call-load_image': 1, 'last_call-thread': 1})\n",
        "Counter({'first_call-load_image': 1, 'last_call-thread': 1})"
       ]
      },
      {
       "output_type": "stream",
       "stream": "stdout",
       "text": [
        "\n",
        "Counter({'first_call-load_image': 1, 'last_call-thread': 1})"
       ]
      },
      {
       "output_type": "stream",
       "stream": "stdout",
       "text": [
        "\n",
        "Counter({'first_call-load_image': 1, 'last_call-kill_process': 1})\n",
        "Counter({'first_call-load_image': 1, 'last_call-process': 1})\n",
        "Counter({'first_call-load_image': 1, 'last_call-kill_process': 1})\n",
        "Counter({'first_call-load_image': 1, 'last_call-enum_window': 1})\n",
        "Counter({'first_call-load_image': 1, 'last_call-thread': 1})"
       ]
      },
      {
       "output_type": "stream",
       "stream": "stdout",
       "text": [
        "\n",
        "Counter({'first_call-load_image': 1, 'last_call-dump_line': 1})"
       ]
      },
      {
       "output_type": "stream",
       "stream": "stdout",
       "text": [
        "\n",
        "Counter({'first_call-load_image': 1, 'last_call-thread': 1})"
       ]
      },
      {
       "output_type": "stream",
       "stream": "stdout",
       "text": [
        "\n",
        "Counter({'first_call-load_image': 1, 'last_call-enum_window': 1})"
       ]
      },
      {
       "output_type": "stream",
       "stream": "stdout",
       "text": [
        "\n",
        "Counter({'first_call-load_image': 1, 'last_call-process': 1})\n",
        "Counter({'first_call-load_image': 1, 'last_call-enum_window': 1})\n",
        "Counter({'first_call-load_image': 1, 'last_call-sleep': 1})\n",
        "Counter({'first_call-load_image': 1, 'last_call-kill_process': 1})\n",
        "Counter({'first_call-load_image': 1, 'last_call-enum_window': 1})\n",
        "Counter({'first_call-load_image': 1, 'last_call-enum_window': 1})\n",
        "Counter({'first_call-load_image': 1, 'last_call-thread': 1})\n",
        "Counter({'first_call-load_image': 1, 'last_call-enum_window': 1})\n",
        "Counter({'first_call-load_image': 1, 'last_call-kill_process': 1})"
       ]
      },
      {
       "output_type": "stream",
       "stream": "stdout",
       "text": [
        "\n",
        "Counter({'first_call-load_image': 1, 'last_call-check_for_debugger': 1})\n",
        "Counter({'first_call-load_image': 1, 'last_call-thread': 1})"
       ]
      },
      {
       "output_type": "stream",
       "stream": "stdout",
       "text": [
        "\n",
        "Counter({'first_call-load_image': 1, 'last_call-enum_window': 1})\n",
        "Counter({'first_call-load_image': 1, 'last_call-load_dll': 1})\n",
        "Counter({'first_call-load_image': 1, 'last_call-kill_process': 1})\n",
        "Counter({'first_call-load_image': 1, 'last_call-enum_window': 1})"
       ]
      },
      {
       "output_type": "stream",
       "stream": "stdout",
       "text": [
        "\n",
        "Counter({'first_call-load_image': 1, 'last_call-thread': 1})\n",
        "Counter({'first_call-load_image': 1, 'last_call-sleep': 1})\n",
        "Counter({'first_call-load_image': 1, 'last_call-process': 1})\n",
        "Counter({'first_call-load_image': 1, 'last_call-thread': 1})"
       ]
      },
      {
       "output_type": "stream",
       "stream": "stdout",
       "text": [
        "\n",
        "Counter({'first_call-load_image': 1, 'last_call-kill_process': 1})\n",
        "Counter({'first_call-load_image': 1, 'last_call-kill_process': 1})\n",
        "Counter({'first_call-load_image': 1, 'last_call-thread': 1})"
       ]
      },
      {
       "output_type": "stream",
       "stream": "stdout",
       "text": [
        "\n",
        "Counter({'first_call-load_image': 1, 'last_call-process': 1})"
       ]
      },
      {
       "output_type": "stream",
       "stream": "stdout",
       "text": [
        "\n",
        "Counter({'first_call-load_image': 1, 'last_call-load_dll': 1})\n",
        "Counter({'first_call-load_image': 1, 'last_call-kill_process': 1})\n",
        "Counter({'first_call-load_image': 1, 'last_call-kill_process': 1})\n",
        "Counter({'first_call-load_image': 1, 'last_call-thread': 1})"
       ]
      },
      {
       "output_type": "stream",
       "stream": "stdout",
       "text": [
        "\n",
        "Counter({'first_call-load_image': 1, 'last_call-enum_window': 1})\n",
        "Counter({'first_call-load_image': 1, 'last_call-thread': 1})\n",
        "Counter({'first_call-load_image': 1, 'last_call-process': 1})"
       ]
      },
      {
       "output_type": "stream",
       "stream": "stdout",
       "text": [
        "\n",
        "Counter({'first_call-load_image': 1, 'last_call-thread': 1})"
       ]
      },
      {
       "output_type": "stream",
       "stream": "stdout",
       "text": [
        "\n",
        "Counter({'first_call-load_image': 1, 'last_call-thread': 1})"
       ]
      },
      {
       "output_type": "stream",
       "stream": "stdout",
       "text": [
        "\n",
        "Counter({'first_call-load_image': 1, 'last_call-kill_process': 1})"
       ]
      },
      {
       "output_type": "stream",
       "stream": "stdout",
       "text": [
        "\n",
        "Counter({'first_call-load_image': 1, 'last_call-thread': 1})"
       ]
      },
      {
       "output_type": "stream",
       "stream": "stdout",
       "text": [
        "\n",
        "Counter({'first_call-load_image': 1, 'last_call-kill_process': 1})"
       ]
      },
      {
       "output_type": "stream",
       "stream": "stdout",
       "text": [
        "\n",
        "Counter({'first_call-load_image': 1, 'last_call-enum_window': 1})\n",
        "Counter({'first_call-load_image': 1, 'last_call-thread': 1})\n",
        "Counter({'first_call-load_image': 1, 'last_call-thread': 1})\n",
        "Counter({'first_call-load_image': 1, 'last_call-enum_window': 1})\n",
        "Counter({'first_call-load_image': 1, 'last_call-thread': 1})"
       ]
      },
      {
       "output_type": "stream",
       "stream": "stdout",
       "text": [
        "\n",
        "Counter({'first_call-load_image': 1, 'last_call-thread': 1})"
       ]
      },
      {
       "output_type": "stream",
       "stream": "stdout",
       "text": [
        "\n",
        "Counter({'first_call-load_image': 1, 'last_call-enum_window': 1})\n",
        "Counter({'first_call-load_image': 1, 'last_call-process': 1})\n",
        "Counter({'first_call-load_image': 1, 'last_call-open_process': 1})\n",
        "Counter({'first_call-load_image': 1, 'last_call-thread': 1})\n",
        "Counter({'first_call-load_image': 1, 'last_call-thread': 1})"
       ]
      },
      {
       "output_type": "stream",
       "stream": "stdout",
       "text": [
        "\n",
        "Counter({'first_call-load_image': 1, 'last_call-load_dll': 1})"
       ]
      },
      {
       "output_type": "stream",
       "stream": "stdout",
       "text": [
        "\n",
        "Counter({'first_call-load_image': 1, 'last_call-enum_window': 1})\n",
        "Counter({'first_call-load_image': 1, 'last_call-enum_window': 1})\n",
        "Counter({'first_call-load_image': 1, 'last_call-enum_window': 1})\n",
        "Counter({'first_call-load_image': 1, 'last_call-kill_process': 1})\n",
        "Counter({'first_call-load_image': 1, 'last_call-thread': 1})\n",
        "Counter({'first_call-load_image': 1, 'last_call-thread': 1})\n",
        "Counter({'first_call-load_image': 1, 'last_call-load_dll': 1})"
       ]
      },
      {
       "output_type": "stream",
       "stream": "stdout",
       "text": [
        "\n",
        "Counter({'first_call-load_image': 1, 'last_call-thread': 1})\n",
        "Counter({'first_call-load_image': 1, 'last_call-kill_process': 1})\n",
        "Counter({'first_call-load_image': 1, 'last_call-thread': 1})\n",
        "Counter({'first_call-load_image': 1, 'last_call-load_dll': 1})\n",
        "Counter({'first_call-load_image': 1, 'last_call-thread': 1})"
       ]
      },
      {
       "output_type": "stream",
       "stream": "stdout",
       "text": [
        "\n",
        "Counter({'first_call-load_image': 1, 'last_call-kill_process': 1})"
       ]
      },
      {
       "output_type": "stream",
       "stream": "stdout",
       "text": [
        "\n",
        "Counter({'first_call-load_image': 1, 'last_call-thread': 1})"
       ]
      },
      {
       "output_type": "stream",
       "stream": "stdout",
       "text": [
        "\n",
        "Counter({'first_call-load_image': 1, 'last_call-kill_process': 1})\n",
        "Counter({'first_call-load_image': 1, 'last_call-enum_window': 1})\n",
        "Counter({'first_call-load_image': 1, 'last_call-enum_window': 1})\n",
        "Counter({'first_call-load_image': 1, 'last_call-thread': 1})"
       ]
      },
      {
       "output_type": "stream",
       "stream": "stdout",
       "text": [
        "\n",
        "Counter({'first_call-load_image': 1, 'last_call-kill_process': 1})\n",
        "Counter({'first_call-load_image': 1, 'last_call-thread': 1})\n",
        "Counter({'first_call-load_image': 1, 'last_call-kill_process': 1})\n",
        "Counter({'first_call-load_image': 1, 'last_call-get_system_directory': 1})"
       ]
      },
      {
       "output_type": "stream",
       "stream": "stdout",
       "text": [
        "\n",
        "Counter({'first_call-load_image': 1, 'last_call-process': 1})\n",
        "Counter({'first_call-load_image': 1, 'last_call-enum_window': 1})\n",
        "Counter({'first_call-load_image': 1, 'last_call-sleep': 1})\n",
        "Counter({'first_call-load_image': 1, 'last_call-thread': 1})"
       ]
      },
      {
       "output_type": "stream",
       "stream": "stdout",
       "text": [
        "\n",
        "Counter({'first_call-load_image': 1, 'last_call-thread': 1})"
       ]
      },
      {
       "output_type": "stream",
       "stream": "stdout",
       "text": [
        "\n",
        "Counter({'first_call-load_image': 1, 'last_call-thread': 1})\n",
        "Counter({'first_call-load_image': 1, 'last_call-kill_process': 1})"
       ]
      },
      {
       "output_type": "stream",
       "stream": "stdout",
       "text": [
        "\n",
        "Counter({'first_call-load_image': 1, 'last_call-thread': 1})\n",
        "Counter({'first_call-load_image': 1, 'last_call-get_file_attributes': 1})"
       ]
      },
      {
       "output_type": "stream",
       "stream": "stdout",
       "text": [
        "\n",
        "Counter({'first_call-load_image': 1, 'last_call-thread': 1})"
       ]
      },
      {
       "output_type": "stream",
       "stream": "stdout",
       "text": [
        "\n",
        "Counter({'first_call-load_image': 1, 'last_call-thread': 1})"
       ]
      },
      {
       "output_type": "stream",
       "stream": "stdout",
       "text": [
        "\n",
        "Counter({'first_call-load_image': 1, 'last_call-thread': 1})\n",
        "Counter({'first_call-load_image': 1, 'last_call-process': 1})\n",
        "Counter({'first_call-load_image': 1, 'last_call-kill_process': 1})"
       ]
      },
      {
       "output_type": "stream",
       "stream": "stdout",
       "text": [
        "\n",
        "Counter({'first_call-load_image': 1, 'last_call-sleep': 1})"
       ]
      },
      {
       "output_type": "stream",
       "stream": "stdout",
       "text": [
        "\n",
        "Counter({'first_call-load_image': 1, 'last_call-thread': 1})"
       ]
      },
      {
       "output_type": "stream",
       "stream": "stdout",
       "text": [
        "\n",
        "Counter({'first_call-load_image': 1, 'last_call-thread': 1})\n",
        "Counter({'first_call-load_image': 1, 'last_call-thread': 1})"
       ]
      },
      {
       "output_type": "stream",
       "stream": "stdout",
       "text": [
        "\n",
        "Counter({'first_call-load_image': 1, 'last_call-thread': 1})"
       ]
      },
      {
       "output_type": "stream",
       "stream": "stdout",
       "text": [
        "\n",
        "Counter({'first_call-load_image': 1, 'last_call-thread': 1})"
       ]
      },
      {
       "output_type": "stream",
       "stream": "stdout",
       "text": [
        "\n",
        "Counter({'first_call-load_image': 1, 'last_call-kill_process': 1})"
       ]
      },
      {
       "output_type": "stream",
       "stream": "stdout",
       "text": [
        "\n",
        "Counter({'first_call-load_image': 1, 'last_call-kill_process': 1})\n",
        "Counter({'first_call-load_image': 1, 'last_call-kill_process': 1})\n",
        "Counter({'first_call-load_image': 1, 'last_call-thread': 1})"
       ]
      },
      {
       "output_type": "stream",
       "stream": "stdout",
       "text": [
        "\n",
        "Counter({'first_call-load_image': 1, 'last_call-enum_window': 1})"
       ]
      },
      {
       "output_type": "stream",
       "stream": "stdout",
       "text": [
        "\n",
        "Counter({'first_call-load_image': 1, 'last_call-kill_process': 1})\n",
        "Counter({'first_call-load_image': 1, 'last_call-kill_process': 1})\n",
        "Counter({'first_call-load_image': 1, 'last_call-enum_window': 1})\n",
        "Counter({'first_call-load_image': 1, 'last_call-thread': 1})"
       ]
      },
      {
       "output_type": "stream",
       "stream": "stdout",
       "text": [
        "\n",
        "Counter({'first_call-load_image': 1, 'last_call-thread': 1})"
       ]
      },
      {
       "output_type": "stream",
       "stream": "stdout",
       "text": [
        "\n",
        "Counter({'first_call-load_image': 1, 'last_call-process': 1})"
       ]
      },
      {
       "output_type": "stream",
       "stream": "stdout",
       "text": [
        "\n",
        "Counter({'first_call-load_image': 1, 'last_call-thread': 1})\n",
        "Counter({'first_call-load_image': 1, 'last_call-process': 1})\n",
        "Counter({'first_call-load_image': 1, 'last_call-enum_window': 1})\n",
        "Counter({'first_call-load_image': 1, 'last_call-thread': 1})"
       ]
      },
      {
       "output_type": "stream",
       "stream": "stdout",
       "text": [
        "\n",
        "Counter({'first_call-load_image': 1, 'last_call-thread': 1})\n",
        "Counter({'first_call-load_image': 1, 'last_call-check_for_debugger': 1})\n",
        "Counter({'first_call-load_image': 1, 'last_call-load_dll': 1})\n",
        "Counter({'first_call-load_image': 1, 'last_call-thread': 1})\n",
        "Counter({'first_call-load_image': 1, 'last_call-enum_window': 1})"
       ]
      },
      {
       "output_type": "stream",
       "stream": "stdout",
       "text": [
        "\n",
        "Counter({'first_call-load_image': 1, 'last_call-thread': 1})\n",
        "Counter({'first_call-load_image': 1, 'last_call-thread': 1})"
       ]
      },
      {
       "output_type": "stream",
       "stream": "stdout",
       "text": [
        "\n",
        "Counter({'first_call-load_image': 1, 'last_call-process': 1})"
       ]
      },
      {
       "output_type": "stream",
       "stream": "stdout",
       "text": [
        "\n",
        "Counter({'first_call-load_image': 1, 'last_call-open_process': 1})\n",
        "Counter({'first_call-load_image': 1, 'last_call-enum_window': 1})"
       ]
      },
      {
       "output_type": "stream",
       "stream": "stdout",
       "text": [
        "\n",
        "Counter({'first_call-load_image': 1, 'last_call-process': 1})\n",
        "Counter({'first_call-load_image': 1, 'last_call-kill_process': 1})\n",
        "Counter({'first_call-load_image': 1, 'last_call-enum_window': 1})"
       ]
      },
      {
       "output_type": "stream",
       "stream": "stdout",
       "text": [
        "\n",
        "Counter({'first_call-load_image': 1, 'last_call-process': 1})\n",
        "Counter({'first_call-load_image': 1, 'last_call-thread': 1})"
       ]
      },
      {
       "output_type": "stream",
       "stream": "stdout",
       "text": [
        "\n",
        "Counter({'first_call-load_image': 1, 'last_call-thread': 1})"
       ]
      },
      {
       "output_type": "stream",
       "stream": "stdout",
       "text": [
        "\n",
        "Counter({'first_call-load_image': 1, 'last_call-load_dll': 1})\n",
        "Counter({'first_call-load_image': 1, 'last_call-kill_process': 1})\n",
        "Counter({'first_call-load_image': 1, 'last_call-process': 1})\n",
        "Counter({'first_call-load_image': 1, 'last_call-thread': 1})"
       ]
      },
      {
       "output_type": "stream",
       "stream": "stdout",
       "text": [
        "\n",
        "Counter({'first_call-load_image': 1, 'last_call-kill_process': 1})"
       ]
      },
      {
       "output_type": "stream",
       "stream": "stdout",
       "text": [
        "\n",
        "Counter({'first_call-load_image': 1, 'last_call-thread': 1})\n",
        "Counter({'first_call-load_image': 1, 'last_call-delete_service': 1})\n",
        "Counter({'first_call-load_image': 1, 'last_call-thread': 1})"
       ]
      },
      {
       "output_type": "stream",
       "stream": "stdout",
       "text": [
        "\n",
        "Counter({'first_call-load_image': 1, 'last_call-enum_window': 1})"
       ]
      },
      {
       "output_type": "stream",
       "stream": "stdout",
       "text": [
        "\n",
        "Counter({'first_call-load_image': 1, 'last_call-thread': 1})\n",
        "Counter({'first_call-load_image': 1, 'last_call-thread': 1})"
       ]
      },
      {
       "output_type": "stream",
       "stream": "stdout",
       "text": [
        "\n",
        "Counter({'first_call-load_image': 1, 'last_call-enum_window': 1})"
       ]
      },
      {
       "output_type": "stream",
       "stream": "stdout",
       "text": [
        "\n",
        "Counter({'first_call-load_image': 1, 'last_call-thread': 1})\n",
        "Counter({'first_call-load_image': 1, 'last_call-enum_window': 1})\n",
        "Counter({'first_call-load_image': 1, 'last_call-thread': 1})"
       ]
      },
      {
       "output_type": "stream",
       "stream": "stdout",
       "text": [
        "\n",
        "Counter({'first_call-load_image': 1, 'last_call-thread': 1})"
       ]
      },
      {
       "output_type": "stream",
       "stream": "stdout",
       "text": [
        "\n",
        "Counter({'first_call-load_image': 1, 'last_call-enum_window': 1})\n",
        "Counter({'first_call-load_image': 1, 'last_call-process': 1})\n",
        "Counter({'first_call-load_image': 1, 'last_call-load_dll': 1})\n",
        "Counter({'first_call-load_image': 1, 'last_call-listen_socket': 1})"
       ]
      },
      {
       "output_type": "stream",
       "stream": "stdout",
       "text": [
        "\n",
        "Counter({'first_call-load_image': 1, 'last_call-enum_window': 1})"
       ]
      },
      {
       "output_type": "stream",
       "stream": "stdout",
       "text": [
        "\n",
        "Counter({'first_call-load_image': 1, 'last_call-enum_window': 1})\n",
        "Counter({'first_call-load_image': 1, 'last_call-thread': 1})"
       ]
      },
      {
       "output_type": "stream",
       "stream": "stdout",
       "text": [
        "\n",
        "Counter({'first_call-load_image': 1, 'last_call-sleep': 1})"
       ]
      },
      {
       "output_type": "stream",
       "stream": "stdout",
       "text": [
        "\n",
        "Counter({'first_call-load_image': 1, 'last_call-kill_process': 1})"
       ]
      },
      {
       "output_type": "stream",
       "stream": "stdout",
       "text": [
        "\n",
        "Counter({'first_call-load_image': 1, 'last_call-load_dll': 1})\n",
        "Counter({'first_call-load_image': 1, 'last_call-thread': 1})\n",
        "Counter({'first_call-load_image': 1, 'last_call-load_dll': 1})\n",
        "Counter({'first_call-load_image': 1, 'last_call-thread': 1})\n",
        "Counter({'first_call-load_image': 1, 'last_call-enum_window': 1})\n",
        "Counter({'first_call-load_image': 1, 'last_call-kill_process': 1})"
       ]
      },
      {
       "output_type": "stream",
       "stream": "stdout",
       "text": [
        "\n",
        "Counter({'first_call-load_image': 1, 'last_call-kill_process': 1})"
       ]
      },
      {
       "output_type": "stream",
       "stream": "stdout",
       "text": [
        "\n",
        "Counter({'first_call-load_image': 1, 'last_call-process': 1})\n",
        "Counter({'first_call-load_image': 1, 'last_call-load_dll': 1})"
       ]
      },
      {
       "output_type": "stream",
       "stream": "stdout",
       "text": [
        "\n",
        "Counter({'first_call-load_image': 1, 'last_call-load_dll': 1})\n",
        "Counter({'first_call-load_image': 1, 'last_call-thread': 1})\n",
        "Counter({'first_call-load_image': 1, 'last_call-kill_process': 1})\n",
        "Counter({'first_call-load_image': 1, 'last_call-process': 1})"
       ]
      },
      {
       "output_type": "stream",
       "stream": "stdout",
       "text": [
        "\n",
        "Counter({'first_call-load_image': 1, 'last_call-thread': 1})\n",
        "Counter({'first_call-load_image': 1, 'last_call-kill_process': 1})"
       ]
      },
      {
       "output_type": "stream",
       "stream": "stdout",
       "text": [
        "\n",
        "Counter({'first_call-load_image': 1, 'last_call-thread': 1})"
       ]
      },
      {
       "output_type": "stream",
       "stream": "stdout",
       "text": [
        "\n",
        "Counter({'first_call-load_image': 1, 'last_call-enum_window': 1})\n",
        "Counter({'first_call-load_image': 1, 'last_call-enum_window': 1})\n",
        "Counter({'first_call-load_image': 1, 'last_call-thread': 1})"
       ]
      },
      {
       "output_type": "stream",
       "stream": "stdout",
       "text": [
        "\n",
        "Counter({'first_call-load_image': 1, 'last_call-thread': 1})"
       ]
      },
      {
       "output_type": "stream",
       "stream": "stdout",
       "text": [
        "\n",
        "Counter({'first_call-load_image': 1, 'last_call-process': 1})\n",
        "Counter({'first_call-load_image': 1, 'last_call-kill_process': 1})\n",
        "Counter({'first_call-load_image': 1, 'last_call-thread': 1})"
       ]
      },
      {
       "output_type": "stream",
       "stream": "stdout",
       "text": [
        "\n",
        "Counter({'first_call-load_image': 1, 'last_call-thread': 1})"
       ]
      },
      {
       "output_type": "stream",
       "stream": "stdout",
       "text": [
        "\n",
        "Counter({'first_call-load_image': 1, 'last_call-enum_window': 1})\n",
        "Counter({'first_call-load_image': 1, 'last_call-kill_process': 1})\n",
        "Counter({'first_call-load_image': 1, 'last_call-sleep': 1})"
       ]
      },
      {
       "output_type": "stream",
       "stream": "stdout",
       "text": [
        "\n",
        "Counter({'first_call-load_image': 1, 'last_call-kill_process': 1})"
       ]
      },
      {
       "output_type": "stream",
       "stream": "stdout",
       "text": [
        "\n",
        "Counter({'first_call-load_image': 1, 'last_call-process': 1})\n",
        "Counter({'first_call-load_image': 1, 'last_call-kill_process': 1})\n",
        "Counter({'first_call-load_image': 1, 'last_call-enum_window': 1})\n",
        "Counter({'first_call-load_image': 1, 'last_call-get_system_directory': 1})\n",
        "Counter({'first_call-load_image': 1, 'last_call-enum_window': 1})"
       ]
      },
      {
       "output_type": "stream",
       "stream": "stdout",
       "text": [
        "\n",
        "Counter({'first_call-load_image': 1, 'last_call-kill_process': 1})\n",
        "Counter({'first_call-load_image': 1, 'last_call-enum_window': 1})"
       ]
      },
      {
       "output_type": "stream",
       "stream": "stdout",
       "text": [
        "\n",
        "Counter({'first_call-load_image': 1, 'last_call-thread': 1})"
       ]
      },
      {
       "output_type": "stream",
       "stream": "stdout",
       "text": [
        "\n",
        "Counter({'first_call-load_image': 1, 'last_call-thread': 1})"
       ]
      },
      {
       "output_type": "stream",
       "stream": "stdout",
       "text": [
        "\n",
        "Counter({'first_call-load_image': 1, 'last_call-kill_process': 1})\n",
        "Counter({'first_call-load_image': 1, 'last_call-kill_process': 1})\n",
        "Counter({'first_call-load_image': 1, 'last_call-thread': 1})\n",
        "Counter({'first_call-load_image': 1, 'last_call-load_dll': 1})\n",
        "Counter({'first_call-load_image': 1, 'last_call-enum_window': 1})\n",
        "Counter({'first_call-load_image': 1, 'last_call-thread': 1})"
       ]
      },
      {
       "output_type": "stream",
       "stream": "stdout",
       "text": [
        "\n",
        "Counter({'first_call-load_image': 1, 'last_call-kill_process': 1})\n",
        "Counter({'first_call-load_image': 1, 'last_call-enum_window': 1})"
       ]
      },
      {
       "output_type": "stream",
       "stream": "stdout",
       "text": [
        "\n",
        "Counter({'first_call-load_image': 1, 'last_call-thread': 1})\n",
        "Counter({'first_call-load_image': 1, 'last_call-kill_process': 1})\n",
        "Counter({'first_call-load_image': 1, 'last_call-kill_process': 1})"
       ]
      },
      {
       "output_type": "stream",
       "stream": "stdout",
       "text": [
        "\n",
        "Counter({'first_call-load_image': 1, 'last_call-enum_window': 1})\n",
        "Counter({'first_call-load_image': 1, 'last_call-enum_window': 1})\n",
        "Counter({'first_call-load_image': 1, 'last_call-thread': 1})\n",
        "Counter({'first_call-load_image': 1, 'last_call-kill_process': 1})\n",
        "Counter({'first_call-load_image': 1, 'last_call-thread': 1})"
       ]
      },
      {
       "output_type": "stream",
       "stream": "stdout",
       "text": [
        "\n",
        "Counter({'first_call-load_image': 1, 'last_call-kill_process': 1})"
       ]
      },
      {
       "output_type": "stream",
       "stream": "stdout",
       "text": [
        "\n",
        "Counter({'first_call-load_image': 1, 'last_call-thread': 1})"
       ]
      },
      {
       "output_type": "stream",
       "stream": "stdout",
       "text": [
        "\n",
        "Counter({'first_call-load_image': 1, 'last_call-thread': 1})"
       ]
      },
      {
       "output_type": "stream",
       "stream": "stdout",
       "text": [
        "\n",
        "Counter({'first_call-load_image': 1, 'last_call-enum_window': 1})\n",
        "Counter({'first_call-load_image': 1, 'last_call-thread': 1})\n",
        "Counter({'first_call-load_image': 1, 'last_call-enum_window': 1})\n",
        "Counter({'first_call-load_image': 1, 'last_call-thread': 1})"
       ]
      },
      {
       "output_type": "stream",
       "stream": "stdout",
       "text": [
        "\n",
        "Counter({'first_call-load_image': 1, 'last_call-create_socket': 1})"
       ]
      },
      {
       "output_type": "stream",
       "stream": "stdout",
       "text": [
        "\n",
        "Counter({'first_call-load_image': 1, 'last_call-kill_process': 1})"
       ]
      },
      {
       "output_type": "stream",
       "stream": "stdout",
       "text": [
        "\n",
        "Counter({'first_call-load_image': 1, 'last_call-load_dll': 1})\n",
        "Counter({'first_call-load_image': 1, 'last_call-enum_window': 1})"
       ]
      },
      {
       "output_type": "stream",
       "stream": "stdout",
       "text": [
        "\n",
        "Counter({'first_call-load_image': 1, 'last_call-process': 1})\n",
        "Counter({'first_call-load_image': 1, 'last_call-thread': 1})"
       ]
      },
      {
       "output_type": "stream",
       "stream": "stdout",
       "text": [
        "\n",
        "Counter({'first_call-load_image': 1, 'last_call-thread': 1})\n",
        "Counter({'first_call-load_image': 1, 'last_call-kill_process': 1})\n",
        "Counter({'first_call-load_image': 1, 'last_call-load_dll': 1})"
       ]
      },
      {
       "output_type": "stream",
       "stream": "stdout",
       "text": [
        "\n",
        "Counter({'first_call-load_image': 1, 'last_call-thread': 1})\n",
        "Counter({'first_call-load_image': 1, 'last_call-process': 1})\n",
        "Counter({'first_call-load_image': 1, 'last_call-kill_process': 1})\n",
        "Counter({'first_call-load_image': 1, 'last_call-load_dll': 1})"
       ]
      },
      {
       "output_type": "stream",
       "stream": "stdout",
       "text": [
        "\n",
        "Counter({'first_call-load_image': 1, 'last_call-sleep': 1})"
       ]
      },
      {
       "output_type": "stream",
       "stream": "stdout",
       "text": [
        "\n",
        "Counter({'first_call-load_image': 1, 'last_call-enum_window': 1})\n",
        "Counter({'first_call-load_image': 1, 'last_call-enum_window': 1})\n",
        "Counter({'first_call-load_image': 1, 'last_call-thread': 1})\n",
        "Counter({'first_call-load_image': 1, 'last_call-kill_process': 1})"
       ]
      },
      {
       "output_type": "stream",
       "stream": "stdout",
       "text": [
        "\n",
        "Counter({'first_call-load_image': 1, 'last_call-thread': 1})\n",
        "Counter({'first_call-load_image': 1, 'last_call-enum_window': 1})"
       ]
      },
      {
       "output_type": "stream",
       "stream": "stdout",
       "text": [
        "\n",
        "Counter({'first_call-load_image': 1, 'last_call-thread': 1})\n",
        "Counter({'first_call-load_image': 1, 'last_call-process': 1})\n",
        "Counter({'first_call-load_image': 1, 'last_call-process': 1})\n",
        "Counter({'first_call-load_image': 1, 'last_call-load_dll': 1})"
       ]
      },
      {
       "output_type": "stream",
       "stream": "stdout",
       "text": [
        "\n",
        "Counter({'first_call-load_image': 1, 'last_call-kill_process': 1})\n",
        "Counter({'first_call-load_image': 1, 'last_call-thread': 1})\n",
        "Counter({'first_call-load_image': 1, 'last_call-enum_window': 1})\n",
        "Counter({'first_call-load_image': 1, 'last_call-enum_window': 1})\n",
        "Counter({'first_call-load_image': 1, 'last_call-enum_window': 1})\n",
        "Counter({'first_call-load_image': 1, 'last_call-thread': 1})\n",
        "Counter({'first_call-load_image': 1, 'last_call-process': 1})"
       ]
      },
      {
       "output_type": "stream",
       "stream": "stdout",
       "text": [
        "\n",
        "Counter({'first_call-load_image': 1, 'last_call-enum_window': 1})\n",
        "Counter({'first_call-load_image': 1, 'last_call-thread': 1})"
       ]
      },
      {
       "output_type": "stream",
       "stream": "stdout",
       "text": [
        "\n",
        "Counter({'first_call-load_image': 1, 'last_call-thread': 1})"
       ]
      },
      {
       "output_type": "stream",
       "stream": "stdout",
       "text": [
        "\n",
        "Counter({'first_call-load_image': 1, 'last_call-get_host_by_name': 1})"
       ]
      },
      {
       "output_type": "stream",
       "stream": "stdout",
       "text": [
        "\n",
        "Counter({'first_call-load_image': 1, 'last_call-enum_window': 1})\n",
        "Counter({'first_call-load_image': 1, 'last_call-thread': 1})"
       ]
      },
      {
       "output_type": "stream",
       "stream": "stdout",
       "text": [
        "\n",
        "Counter({'first_call-load_image': 1, 'last_call-enum_window': 1})\n",
        "Counter({'first_call-load_image': 1, 'last_call-enum_window': 1})\n",
        "Counter({'first_call-load_image': 1, 'last_call-thread': 1})"
       ]
      },
      {
       "output_type": "stream",
       "stream": "stdout",
       "text": [
        "\n",
        "Counter({'first_call-load_image': 1, 'last_call-thread': 1})"
       ]
      },
      {
       "output_type": "stream",
       "stream": "stdout",
       "text": [
        "\n",
        "Counter({'first_call-load_image': 1, 'last_call-process': 1})\n",
        "Counter({'first_call-load_image': 1, 'last_call-thread': 1})\n",
        "Counter({'first_call-load_image': 1, 'last_call-kill_process': 1})\n",
        "Counter({'first_call-load_image': 1, 'last_call-kill_process': 1})\n",
        "Counter({'first_call-load_image': 1, 'last_call-check_for_debugger': 1})"
       ]
      },
      {
       "output_type": "stream",
       "stream": "stdout",
       "text": [
        "\n",
        "Counter({'first_call-load_image': 1, 'last_call-kill_process': 1})\n",
        "Counter({'first_call-load_image': 1, 'last_call-kill_process': 1})\n",
        "Counter({'first_call-load_image': 1, 'last_call-thread': 1})\n",
        "Counter({'first_call-load_image': 1, 'last_call-kill_process': 1})\n",
        "Counter({'first_call-load_image': 1, 'last_call-thread': 1})"
       ]
      },
      {
       "output_type": "stream",
       "stream": "stdout",
       "text": [
        "\n",
        "Counter({'first_call-load_image': 1, 'last_call-enum_window': 1})\n",
        "Counter({'first_call-load_image': 1, 'last_call-enum_window': 1})\n",
        "Counter({'first_call-load_image': 1, 'last_call-thread': 1})"
       ]
      },
      {
       "output_type": "stream",
       "stream": "stdout",
       "text": [
        "\n",
        "Counter({'first_call-load_image': 1, 'last_call-thread': 1})"
       ]
      },
      {
       "output_type": "stream",
       "stream": "stdout",
       "text": [
        "\n",
        "Counter({'first_call-load_image': 1, 'last_call-kill_process': 1})\n",
        "Counter({'first_call-load_image': 1, 'last_call-load_dll': 1})\n",
        "Counter({'first_call-load_image': 1, 'last_call-thread': 1})\n",
        "Counter({'first_call-load_image': 1, 'last_call-kill_process': 1})\n",
        "Counter({'first_call-load_image': 1, 'last_call-load_dll': 1})"
       ]
      },
      {
       "output_type": "stream",
       "stream": "stdout",
       "text": [
        "\n",
        "Counter({'first_call-load_image': 1, 'last_call-thread': 1})"
       ]
      },
      {
       "output_type": "stream",
       "stream": "stdout",
       "text": [
        "\n",
        "Counter({'first_call-load_image': 1, 'last_call-load_dll': 1})\n",
        "Counter({'first_call-load_image': 1, 'last_call-get_host_by_name': 1})\n",
        "Counter({'first_call-load_image': 1, 'last_call-load_dll': 1})"
       ]
      },
      {
       "output_type": "stream",
       "stream": "stdout",
       "text": [
        "\n",
        "Counter({'first_call-load_image': 1, 'last_call-kill_process': 1})\n",
        "Counter({'first_call-load_image': 1, 'last_call-thread': 1})\n",
        "Counter({'first_call-load_image': 1, 'last_call-thread': 1})"
       ]
      },
      {
       "output_type": "stream",
       "stream": "stdout",
       "text": [
        "\n",
        "Counter({'first_call-load_image': 1, 'last_call-enum_window': 1})"
       ]
      },
      {
       "output_type": "stream",
       "stream": "stdout",
       "text": [
        "\n",
        "Counter({'first_call-load_image': 1, 'last_call-enum_window': 1})\n",
        "Counter({'first_call-load_image': 1, 'last_call-thread': 1})"
       ]
      },
      {
       "output_type": "stream",
       "stream": "stdout",
       "text": [
        "\n",
        "Counter({'first_call-load_image': 1, 'last_call-enum_window': 1})"
       ]
      },
      {
       "output_type": "stream",
       "stream": "stdout",
       "text": [
        "\n",
        "Counter({'first_call-load_image': 1, 'last_call-load_dll': 1})\n",
        "Counter({'first_call-load_image': 1, 'last_call-kill_process': 1})\n",
        "Counter({'first_call-load_image': 1, 'last_call-enum_window': 1})\n",
        "Counter({'first_call-load_image': 1, 'last_call-thread': 1})\n",
        "Counter({'first_call-load_image': 1, 'last_call-query_value': 1})"
       ]
      },
      {
       "output_type": "stream",
       "stream": "stdout",
       "text": [
        "\n",
        "Counter({'first_call-load_image': 1, 'last_call-kill_process': 1})"
       ]
      },
      {
       "output_type": "stream",
       "stream": "stdout",
       "text": [
        "\n",
        "Counter({'first_call-load_image': 1, 'last_call-thread': 1})"
       ]
      },
      {
       "output_type": "stream",
       "stream": "stdout",
       "text": [
        "\n",
        "Counter({'first_call-load_image': 1, 'last_call-thread': 1})"
       ]
      },
      {
       "output_type": "stream",
       "stream": "stdout",
       "text": [
        "\n",
        "Counter({'first_call-load_image': 1, 'last_call-kill_process': 1})\n",
        "Counter({'first_call-load_image': 1, 'last_call-sleep': 1})\n",
        "Counter({'first_call-load_image': 1, 'last_call-kill_process': 1})"
       ]
      },
      {
       "output_type": "stream",
       "stream": "stdout",
       "text": [
        "\n",
        "Counter({'first_call-load_image': 1, 'last_call-kill_process': 1})\n",
        "Counter({'first_call-load_image': 1, 'last_call-thread': 1})\n",
        "Counter({'first_call-load_image': 1, 'last_call-thread': 1})"
       ]
      },
      {
       "output_type": "stream",
       "stream": "stdout",
       "text": [
        "\n",
        "Counter({'first_call-load_image': 1, 'last_call-kill_process': 1})"
       ]
      },
      {
       "output_type": "stream",
       "stream": "stdout",
       "text": [
        "\n",
        "Counter({'first_call-load_image': 1, 'last_call-process': 1})\n",
        "Counter({'first_call-load_image': 1, 'last_call-thread': 1})\n",
        "Counter({'first_call-load_image': 1, 'last_call-enum_window': 1})\n",
        "Counter({'first_call-load_image': 1, 'last_call-thread': 1})\n",
        "Counter({'first_call-load_image': 1, 'last_call-open_process': 1})"
       ]
      },
      {
       "output_type": "stream",
       "stream": "stdout",
       "text": [
        "\n",
        "Counter({'first_call-load_image': 1, 'last_call-kill_process': 1})\n",
        "Counter({'first_call-load_image': 1, 'last_call-thread': 1})\n",
        "Counter({'first_call-load_image': 1, 'last_call-enum_window': 1})\n",
        "Counter({'first_call-load_image': 1, 'last_call-thread': 1})\n",
        "Counter({'first_call-load_image': 1, 'last_call-set_value': 1})"
       ]
      },
      {
       "output_type": "stream",
       "stream": "stdout",
       "text": [
        "\n",
        "Counter({'first_call-load_image': 1, 'last_call-thread': 1})\n",
        "Counter({'first_call-load_image': 1, 'last_call-kill_process': 1})\n",
        "Counter({'first_call-load_image': 1, 'last_call-enum_window': 1})\n",
        "Counter({'first_call-load_image': 1, 'last_call-enum_window': 1})\n",
        "Counter({'first_call-load_image': 1, 'last_call-load_dll': 1})\n",
        "Counter({'first_call-load_image': 1, 'last_call-thread': 1})"
       ]
      },
      {
       "output_type": "stream",
       "stream": "stdout",
       "text": [
        "\n",
        "Counter({'first_call-load_image': 1, 'last_call-load_dll': 1})\n",
        "Counter({'first_call-load_image': 1, 'last_call-enum_window': 1})\n",
        "Counter({'first_call-load_image': 1, 'last_call-thread': 1})\n",
        "Counter({'first_call-load_image': 1, 'last_call-thread': 1})\n",
        "Counter({'first_call-load_image': 1, 'last_call-thread': 1})"
       ]
      },
      {
       "output_type": "stream",
       "stream": "stdout",
       "text": [
        "\n",
        "Counter({'first_call-load_image': 1, 'last_call-thread': 1})"
       ]
      },
      {
       "output_type": "stream",
       "stream": "stdout",
       "text": [
        "\n",
        "Counter({'first_call-load_image': 1, 'last_call-thread': 1})"
       ]
      },
      {
       "output_type": "stream",
       "stream": "stdout",
       "text": [
        "\n",
        "Counter({'first_call-load_image': 1, 'last_call-process': 1})\n",
        "Counter({'first_call-load_image': 1, 'last_call-kill_process': 1})\n",
        "Counter({'last_call-create_window': 1, 'first_call-load_image': 1})"
       ]
      },
      {
       "output_type": "stream",
       "stream": "stdout",
       "text": [
        "\n",
        "Counter({'first_call-load_image': 1, 'last_call-kill_process': 1})\n",
        "Counter({'first_call-load_image': 1, 'last_call-thread': 1})"
       ]
      },
      {
       "output_type": "stream",
       "stream": "stdout",
       "text": [
        "\n",
        "Counter({'first_call-load_image': 1, 'last_call-thread': 1})"
       ]
      },
      {
       "output_type": "stream",
       "stream": "stdout",
       "text": [
        "\n",
        "Counter({'first_call-load_image': 1, 'last_call-create_mutex': 1})\n",
        "Counter({'first_call-load_image': 1, 'last_call-enum_window': 1})\n",
        "Counter({'first_call-load_image': 1, 'last_call-thread': 1})\n",
        "Counter({'first_call-load_image': 1, 'last_call-thread': 1})\n",
        "Counter({'first_call-load_image': 1, 'last_call-thread': 1})\n",
        "Counter({'first_call-load_image': 1, 'last_call-kill_process': 1})"
       ]
      },
      {
       "output_type": "stream",
       "stream": "stdout",
       "text": [
        "\n",
        "Counter({'first_call-load_image': 1, 'last_call-enum_window': 1})\n",
        "Counter({'first_call-load_image': 1, 'last_call-process': 1})"
       ]
      },
      {
       "output_type": "stream",
       "stream": "stdout",
       "text": [
        "\n",
        "Counter({'first_call-load_image': 1, 'last_call-enum_window': 1})"
       ]
      },
      {
       "output_type": "stream",
       "stream": "stdout",
       "text": [
        "\n",
        "Counter({'first_call-load_image': 1, 'last_call-load_dll': 1})\n",
        "Counter({'first_call-load_image': 1, 'last_call-kill_process': 1})"
       ]
      },
      {
       "output_type": "stream",
       "stream": "stdout",
       "text": [
        "\n",
        "Counter({'first_call-load_image': 1, 'last_call-thread': 1})"
       ]
      },
      {
       "output_type": "stream",
       "stream": "stdout",
       "text": [
        "\n",
        "Counter({'first_call-load_image': 1, 'last_call-kill_process': 1})"
       ]
      },
      {
       "output_type": "stream",
       "stream": "stdout",
       "text": [
        "\n",
        "Counter({'first_call-load_image': 1, 'last_call-enum_window': 1})\n",
        "Counter({'first_call-load_image': 1, 'last_call-thread': 1})\n",
        "Counter({'first_call-load_image': 1, 'last_call-thread': 1})"
       ]
      },
      {
       "output_type": "stream",
       "stream": "stdout",
       "text": [
        "\n",
        "Counter({'first_call-load_image': 1, 'last_call-kill_process': 1})"
       ]
      },
      {
       "output_type": "stream",
       "stream": "stdout",
       "text": [
        "\n",
        "Counter({'first_call-load_image': 1, 'last_call-thread': 1})"
       ]
      },
      {
       "output_type": "stream",
       "stream": "stdout",
       "text": [
        "\n",
        "Counter({'first_call-load_image': 1, 'last_call-thread': 1})"
       ]
      },
      {
       "output_type": "stream",
       "stream": "stdout",
       "text": [
        "\n",
        "Counter({'first_call-load_image': 1, 'last_call-thread': 1})\n",
        "Counter({'first_call-load_image': 1, 'last_call-thread': 1})"
       ]
      },
      {
       "output_type": "stream",
       "stream": "stdout",
       "text": [
        "\n",
        "Counter({'first_call-load_image': 1, 'last_call-thread': 1})\n",
        "Counter({'first_call-load_image': 1, 'last_call-thread': 1})"
       ]
      },
      {
       "output_type": "stream",
       "stream": "stdout",
       "text": [
        "\n",
        "Counter({'first_call-load_image': 1, 'last_call-thread': 1})"
       ]
      },
      {
       "output_type": "stream",
       "stream": "stdout",
       "text": [
        "\n",
        "Counter({'first_call-load_image': 1, 'last_call-check_for_debugger': 1})\n",
        "Counter({'first_call-load_image': 1, 'last_call-thread': 1})\n",
        "Counter({'first_call-load_image': 1, 'last_call-thread': 1})"
       ]
      },
      {
       "output_type": "stream",
       "stream": "stdout",
       "text": [
        "\n",
        "Counter({'first_call-load_image': 1, 'last_call-kill_process': 1})\n",
        "Counter({'first_call-load_image': 1, 'last_call-kill_process': 1})\n",
        "Counter({'first_call-load_image': 1, 'last_call-thread': 1})"
       ]
      },
      {
       "output_type": "stream",
       "stream": "stdout",
       "text": [
        "\n",
        "Counter({'first_call-load_image': 1, 'last_call-thread': 1})"
       ]
      },
      {
       "output_type": "stream",
       "stream": "stdout",
       "text": [
        "\n",
        "Counter({'first_call-load_image': 1, 'last_call-enum_window': 1})"
       ]
      },
      {
       "output_type": "stream",
       "stream": "stdout",
       "text": [
        "\n",
        "Counter({'first_call-load_image': 1, 'last_call-enum_window': 1})"
       ]
      },
      {
       "output_type": "stream",
       "stream": "stdout",
       "text": [
        "\n",
        "Counter({'first_call-load_image': 1, 'last_call-enum_window': 1})\n",
        "Counter({'first_call-load_image': 1, 'last_call-kill_process': 1})\n",
        "Counter({'first_call-load_image': 1, 'last_call-load_dll': 1})"
       ]
      },
      {
       "output_type": "stream",
       "stream": "stdout",
       "text": [
        "\n",
        "Counter({'first_call-load_image': 1, 'last_call-thread': 1})\n",
        "Counter({'first_call-load_image': 1, 'last_call-thread': 1})\n",
        "Counter({'first_call-load_image': 1, 'last_call-enum_window': 1})\n",
        "Counter({'first_call-load_image': 1, 'last_call-enum_window': 1})\n",
        "Counter({'first_call-load_image': 1, 'last_call-thread': 1})\n",
        "Counter({'first_call-load_image': 1, 'last_call-thread': 1})\n",
        "Counter({'first_call-load_image': 1, 'last_call-kill_process': 1})"
       ]
      },
      {
       "output_type": "stream",
       "stream": "stdout",
       "text": [
        "\n",
        "Counter({'first_call-load_image': 1, 'last_call-kill_process': 1})\n",
        "Counter({'first_call-load_image': 1, 'last_call-thread': 1})\n",
        "Counter({'first_call-load_image': 1, 'last_call-thread': 1})\n",
        "Counter({'first_call-load_image': 1, 'last_call-enum_window': 1})\n",
        "Counter({'first_call-load_image': 1, 'last_call-process': 1})\n",
        "Counter({'first_call-load_image': 1, 'last_call-open_process': 1})"
       ]
      },
      {
       "output_type": "stream",
       "stream": "stdout",
       "text": [
        "\n",
        "Counter({'first_call-load_image': 1, 'last_call-process': 1})\n",
        "Counter({'first_call-load_image': 1, 'last_call-enum_window': 1})\n",
        "Counter({'first_call-load_image': 1, 'last_call-thread': 1})"
       ]
      },
      {
       "output_type": "stream",
       "stream": "stdout",
       "text": [
        "\n",
        "Counter({'first_call-load_image': 1, 'last_call-thread': 1})"
       ]
      },
      {
       "output_type": "stream",
       "stream": "stdout",
       "text": [
        "\n",
        "Counter({'first_call-load_image': 1, 'last_call-open_process': 1})"
       ]
      },
      {
       "output_type": "stream",
       "stream": "stdout",
       "text": [
        "\n",
        "Counter({'first_call-load_image': 1, 'last_call-thread': 1})\n",
        "Counter({'first_call-load_image': 1, 'last_call-thread': 1})\n",
        "Counter({'first_call-load_image': 1, 'last_call-process': 1})\n",
        "Counter({'first_call-load_image': 1, 'last_call-thread': 1})\n",
        "Counter({'first_call-load_image': 1, 'last_call-enum_window': 1})\n",
        "Counter({'first_call-load_image': 1, 'last_call-thread': 1})"
       ]
      },
      {
       "output_type": "stream",
       "stream": "stdout",
       "text": [
        "\n",
        "Counter({'first_call-load_image': 1, 'last_call-kill_process': 1})\n",
        "Counter({'first_call-load_image': 1, 'last_call-kill_process': 1})\n",
        "Counter({'first_call-load_image': 1, 'last_call-thread': 1})\n",
        "Counter({'first_call-load_image': 1, 'last_call-thread': 1})"
       ]
      },
      {
       "output_type": "stream",
       "stream": "stdout",
       "text": [
        "\n",
        "Counter({'first_call-load_image': 1, 'last_call-process': 1})\n",
        "Counter({'first_call-load_image': 1, 'last_call-thread': 1})\n",
        "Counter({'first_call-load_image': 1, 'last_call-kill_process': 1})\n",
        "Counter({'first_call-load_image': 1, 'last_call-enum_window': 1})"
       ]
      },
      {
       "output_type": "stream",
       "stream": "stdout",
       "text": [
        "\n",
        "Counter({'first_call-load_image': 1, 'last_call-process': 1})\n",
        "Counter({'first_call-load_image': 1, 'last_call-kill_process': 1})\n",
        "Counter({'first_call-load_image': 1, 'last_call-thread': 1})\n",
        "Counter({'first_call-load_image': 1, 'last_call-kill_process': 1})"
       ]
      },
      {
       "output_type": "stream",
       "stream": "stdout",
       "text": [
        "\n",
        "Counter({'first_call-load_image': 1, 'last_call-thread': 1})\n",
        "Counter({'first_call-load_image': 1, 'last_call-enum_window': 1})"
       ]
      },
      {
       "output_type": "stream",
       "stream": "stdout",
       "text": [
        "\n",
        "Counter({'first_call-load_image': 1, 'last_call-process': 1})\n",
        "Counter({'first_call-load_image': 1, 'last_call-thread': 1})\n",
        "Counter({'first_call-load_image': 1, 'last_call-kill_process': 1})\n",
        "Counter({'first_call-load_image': 1, 'last_call-kill_process': 1})\n",
        "Counter({'first_call-load_image': 1, 'last_call-thread': 1})"
       ]
      },
      {
       "output_type": "stream",
       "stream": "stdout",
       "text": [
        "\n",
        "Counter({'first_call-load_image': 1, 'last_call-process': 1})\n",
        "Counter({'first_call-load_image': 1, 'last_call-enum_window': 1})"
       ]
      },
      {
       "output_type": "stream",
       "stream": "stdout",
       "text": [
        "\n",
        "Counter({'first_call-load_image': 1, 'last_call-get_file_attributes': 1})\n",
        "Counter({'first_call-load_image': 1, 'last_call-thread': 1})\n",
        "Counter({'first_call-load_image': 1, 'last_call-thread': 1})\n",
        "Counter({'first_call-load_image': 1, 'last_call-thread': 1})"
       ]
      },
      {
       "output_type": "stream",
       "stream": "stdout",
       "text": [
        "\n",
        "Counter({'first_call-load_image': 1, 'last_call-process': 1})"
       ]
      },
      {
       "output_type": "stream",
       "stream": "stdout",
       "text": [
        "\n",
        "Counter({'first_call-load_image': 1, 'last_call-thread': 1})\n",
        "Counter({'first_call-load_image': 1, 'last_call-kill_process': 1})\n",
        "Counter({'first_call-load_image': 1, 'last_call-thread': 1})"
       ]
      },
      {
       "output_type": "stream",
       "stream": "stdout",
       "text": [
        "\n",
        "Counter({'first_call-load_image': 1, 'last_call-enum_window': 1})"
       ]
      },
      {
       "output_type": "stream",
       "stream": "stdout",
       "text": [
        "\n",
        "Counter({'first_call-load_image': 1, 'last_call-kill_process': 1})\n",
        "Counter({'first_call-load_image': 1, 'last_call-thread': 1})"
       ]
      },
      {
       "output_type": "stream",
       "stream": "stdout",
       "text": [
        "\n",
        "Counter({'first_call-load_image': 1, 'last_call-kill_process': 1})\n",
        "Counter({'first_call-load_image': 1, 'last_call-thread': 1})\n",
        "Counter({'first_call-load_image': 1, 'last_call-thread': 1})\n",
        "Counter({'first_call-load_image': 1, 'last_call-thread': 1})"
       ]
      },
      {
       "output_type": "stream",
       "stream": "stdout",
       "text": [
        "\n",
        "Counter({'first_call-load_image': 1, 'last_call-thread': 1})"
       ]
      },
      {
       "output_type": "stream",
       "stream": "stdout",
       "text": [
        "\n",
        "Counter({'first_call-load_image': 1, 'last_call-thread': 1})"
       ]
      },
      {
       "output_type": "stream",
       "stream": "stdout",
       "text": [
        "\n",
        "Counter({'first_call-load_image': 1, 'last_call-process': 1})\n",
        "Counter({'first_call-load_image': 1, 'last_call-enum_window': 1})"
       ]
      },
      {
       "output_type": "stream",
       "stream": "stdout",
       "text": [
        "\n",
        "Counter({'first_call-load_image': 1, 'last_call-thread': 1})"
       ]
      },
      {
       "output_type": "stream",
       "stream": "stdout",
       "text": [
        "\n",
        "Counter({'first_call-load_image': 1, 'last_call-thread': 1})"
       ]
      },
      {
       "output_type": "stream",
       "stream": "stdout",
       "text": [
        "\n",
        "Counter({'first_call-load_image': 1, 'last_call-enum_window': 1})"
       ]
      },
      {
       "output_type": "stream",
       "stream": "stdout",
       "text": [
        "\n",
        "Counter({'first_call-load_image': 1, 'last_call-load_dll': 1})\n",
        "Counter({'first_call-load_image': 1, 'last_call-kill_process': 1})\n",
        "Counter({'first_call-load_image': 1, 'last_call-kill_process': 1})\n",
        "Counter({'first_call-load_image': 1, 'last_call-thread': 1})"
       ]
      },
      {
       "output_type": "stream",
       "stream": "stdout",
       "text": [
        "\n",
        "Counter({'first_call-load_image': 1, 'last_call-load_dll': 1})\n",
        "Counter({'first_call-load_image': 1, 'last_call-enum_window': 1})"
       ]
      },
      {
       "output_type": "stream",
       "stream": "stdout",
       "text": [
        "\n",
        "Counter({'first_call-load_image': 1, 'last_call-thread': 1})"
       ]
      },
      {
       "output_type": "stream",
       "stream": "stdout",
       "text": [
        "\n",
        "Counter({'first_call-load_image': 1, 'last_call-create_open_file': 1})"
       ]
      },
      {
       "output_type": "stream",
       "stream": "stdout",
       "text": [
        "\n",
        "Counter({'first_call-load_image': 1, 'last_call-kill_process': 1})\n",
        "Counter({'first_call-load_image': 1, 'last_call-kill_process': 1})\n",
        "Counter({'first_call-load_image': 1, 'last_call-thread': 1})\n",
        "Counter({'first_call-load_image': 1, 'last_call-process': 1})"
       ]
      },
      {
       "output_type": "stream",
       "stream": "stdout",
       "text": [
        "\n",
        "Counter({'first_call-load_image': 1, 'last_call-kill_process': 1})\n",
        "Counter({'first_call-load_image': 1, 'last_call-thread': 1})"
       ]
      },
      {
       "output_type": "stream",
       "stream": "stdout",
       "text": [
        "\n",
        "Counter({'first_call-load_image': 1, 'last_call-enum_window': 1})\n",
        "Counter({'first_call-load_image': 1, 'last_call-thread': 1})"
       ]
      },
      {
       "output_type": "stream",
       "stream": "stdout",
       "text": [
        "\n",
        "Counter({'first_call-load_image': 1, 'last_call-thread': 1})\n",
        "Counter({'first_call-load_image': 1, 'last_call-thread': 1})\n",
        "Counter({'first_call-load_image': 1, 'last_call-enum_window': 1})"
       ]
      },
      {
       "output_type": "stream",
       "stream": "stdout",
       "text": [
        "\n",
        "Counter({'first_call-load_image': 1, 'last_call-enum_window': 1})\n",
        "Counter({'first_call-load_image': 1, 'last_call-thread': 1})\n",
        "Counter({'first_call-load_image': 1, 'last_call-enum_window': 1})"
       ]
      },
      {
       "output_type": "stream",
       "stream": "stdout",
       "text": [
        "\n",
        "Counter({'first_call-load_image': 1, 'last_call-thread': 1})\n",
        "Counter({'first_call-load_image': 1, 'last_call-open_process': 1})"
       ]
      },
      {
       "output_type": "stream",
       "stream": "stdout",
       "text": [
        "\n",
        "Counter({'first_call-load_image': 1, 'last_call-process': 1})\n",
        "Counter({'first_call-load_image': 1, 'last_call-process': 1})"
       ]
      },
      {
       "output_type": "stream",
       "stream": "stdout",
       "text": [
        "\n",
        "Counter({'first_call-load_image': 1, 'last_call-process': 1})\n",
        "Counter({'first_call-load_image': 1, 'last_call-set_windows_hook': 1})"
       ]
      },
      {
       "output_type": "stream",
       "stream": "stdout",
       "text": [
        "\n",
        "Counter({'first_call-load_image': 1, 'last_call-thread': 1})"
       ]
      },
      {
       "output_type": "stream",
       "stream": "stdout",
       "text": [
        "\n",
        "Counter({'first_call-load_image': 1, 'last_call-load_dll': 1})"
       ]
      },
      {
       "output_type": "stream",
       "stream": "stdout",
       "text": [
        "\n",
        "Counter({'first_call-load_image': 1, 'last_call-thread': 1})"
       ]
      },
      {
       "output_type": "stream",
       "stream": "stdout",
       "text": [
        "\n",
        "Counter({'first_call-load_image': 1, 'last_call-kill_process': 1})"
       ]
      },
      {
       "output_type": "stream",
       "stream": "stdout",
       "text": [
        "\n",
        "Counter({'first_call-load_image': 1, 'last_call-load_dll': 1})\n",
        "Counter({'first_call-load_image': 1, 'last_call-kill_process': 1})\n",
        "Counter({'first_call-load_image': 1, 'last_call-get_system_directory': 1})\n",
        "Counter({'first_call-load_image': 1, 'last_call-process': 1})\n",
        "Counter({'first_call-load_image': 1, 'last_call-enum_window': 1})"
       ]
      },
      {
       "output_type": "stream",
       "stream": "stdout",
       "text": [
        "\n",
        "Counter({'first_call-load_image': 1, 'last_call-process': 1})\n",
        "Counter({'first_call-load_image': 1, 'last_call-thread': 1})"
       ]
      },
      {
       "output_type": "stream",
       "stream": "stdout",
       "text": [
        "\n",
        "Counter({'first_call-load_image': 1, 'last_call-process': 1})\n",
        "Counter({'first_call-load_image': 1, 'last_call-kill_process': 1})\n",
        "Counter({'first_call-load_image': 1, 'last_call-thread': 1})\n",
        "Counter({'first_call-load_image': 1, 'last_call-enum_window': 1})"
       ]
      },
      {
       "output_type": "stream",
       "stream": "stdout",
       "text": [
        "\n",
        "Counter({'first_call-load_image': 1, 'last_call-enum_window': 1})\n",
        "Counter({'first_call-load_image': 1, 'last_call-kill_process': 1})\n",
        "Counter({'first_call-load_image': 1, 'last_call-enum_window': 1})\n",
        "Counter({'first_call-load_image': 1, 'last_call-process': 1})\n",
        "Counter({'first_call-load_image': 1, 'last_call-load_dll': 1})\n",
        "Counter({'first_call-load_image': 1, 'last_call-thread': 1})\n",
        "Counter({'first_call-load_image': 1, 'last_call-check_for_debugger': 1})"
       ]
      },
      {
       "output_type": "stream",
       "stream": "stdout",
       "text": [
        "\n",
        "Counter({'first_call-load_image': 1, 'last_call-process': 1})\n",
        "Counter({'first_call-load_image': 1, 'last_call-process': 1})\n",
        "Counter({'first_call-load_image': 1, 'last_call-process': 1})\n",
        "Counter({'first_call-load_image': 1, 'last_call-enum_window': 1})\n",
        "Counter({'first_call-load_image': 1, 'last_call-process': 1})\n",
        "Counter({'first_call-load_image': 1, 'last_call-kill_process': 1})"
       ]
      },
      {
       "output_type": "stream",
       "stream": "stdout",
       "text": [
        "\n",
        "Counter({'first_call-load_image': 1, 'last_call-enum_window': 1})\n",
        "Counter({'first_call-load_image': 1, 'last_call-kill_process': 1})\n",
        "Counter({'first_call-load_image': 1, 'last_call-sleep': 1})"
       ]
      },
      {
       "output_type": "stream",
       "stream": "stdout",
       "text": [
        "\n",
        "Counter({'first_call-load_image': 1, 'last_call-enum_window': 1})"
       ]
      },
      {
       "output_type": "stream",
       "stream": "stdout",
       "text": [
        "\n",
        "Counter({'first_call-load_image': 1, 'last_call-kill_process': 1})\n",
        "Counter({'first_call-load_image': 1, 'last_call-load_dll': 1})\n",
        "Counter({'first_call-load_image': 1, 'last_call-thread': 1})\n",
        "Counter({'first_call-load_image': 1, 'last_call-thread': 1})"
       ]
      },
      {
       "output_type": "stream",
       "stream": "stdout",
       "text": [
        "\n",
        "Counter({'first_call-load_image': 1, 'last_call-process': 1})"
       ]
      },
      {
       "output_type": "stream",
       "stream": "stdout",
       "text": [
        "\n",
        "Counter({'first_call-load_image': 1, 'last_call-sleep': 1})"
       ]
      },
      {
       "output_type": "stream",
       "stream": "stdout",
       "text": [
        "\n",
        "Counter({'first_call-load_image': 1, 'last_call-sleep': 1})"
       ]
      },
      {
       "output_type": "stream",
       "stream": "stdout",
       "text": [
        "\n",
        "Counter({'first_call-load_image': 1, 'last_call-thread': 1})"
       ]
      },
      {
       "output_type": "stream",
       "stream": "stdout",
       "text": [
        "\n",
        "Counter({'first_call-load_image': 1, 'last_call-thread': 1})"
       ]
      },
      {
       "output_type": "stream",
       "stream": "stdout",
       "text": [
        "\n",
        "Counter({'first_call-load_image': 1, 'last_call-thread': 1})"
       ]
      },
      {
       "output_type": "stream",
       "stream": "stdout",
       "text": [
        "\n",
        "Counter({'first_call-load_image': 1, 'last_call-kill_process': 1})\n",
        "Counter({'first_call-load_image': 1, 'last_call-sleep': 1})"
       ]
      },
      {
       "output_type": "stream",
       "stream": "stdout",
       "text": [
        "\n",
        "Counter({'first_call-load_image': 1, 'last_call-thread': 1})\n",
        "Counter({'first_call-load_image': 1, 'last_call-thread': 1})"
       ]
      },
      {
       "output_type": "stream",
       "stream": "stdout",
       "text": [
        "\n",
        "Counter({'first_call-load_image': 1, 'last_call-enum_window': 1})"
       ]
      },
      {
       "output_type": "stream",
       "stream": "stdout",
       "text": [
        "\n",
        "Counter({'first_call-load_image': 1, 'last_call-thread': 1})"
       ]
      },
      {
       "output_type": "stream",
       "stream": "stdout",
       "text": [
        "\n",
        "Counter({'first_call-load_image': 1, 'last_call-enum_window': 1})"
       ]
      },
      {
       "output_type": "stream",
       "stream": "stdout",
       "text": [
        "\n",
        "Counter({'first_call-load_image': 1, 'last_call-load_dll': 1})\n",
        "Counter({'first_call-load_image': 1, 'last_call-kill_process': 1})\n",
        "Counter({'first_call-load_image': 1, 'last_call-thread': 1})"
       ]
      },
      {
       "output_type": "stream",
       "stream": "stdout",
       "text": [
        "\n",
        "Counter({'first_call-load_image': 1, 'last_call-process': 1})"
       ]
      },
      {
       "output_type": "stream",
       "stream": "stdout",
       "text": [
        "\n",
        "Counter({'first_call-load_image': 1, 'last_call-thread': 1})"
       ]
      },
      {
       "output_type": "stream",
       "stream": "stdout",
       "text": [
        "\n",
        "Counter({'first_call-load_image': 1, 'last_call-process': 1})"
       ]
      },
      {
       "output_type": "stream",
       "stream": "stdout",
       "text": [
        "\n",
        "Counter({'first_call-load_image': 1, 'last_call-kill_process': 1})\n",
        "Counter({'first_call-load_image': 1, 'last_call-process': 1})\n",
        "Counter({'first_call-load_image': 1, 'last_call-enum_window': 1})\n",
        "Counter({'first_call-load_image': 1, 'last_call-thread': 1})\n",
        "Counter({'first_call-load_image': 1, 'last_call-enum_window': 1})\n",
        "Counter({'first_call-load_image': 1, 'last_call-enum_window': 1})"
       ]
      },
      {
       "output_type": "stream",
       "stream": "stdout",
       "text": [
        "\n",
        "Counter({'first_call-load_image': 1, 'last_call-thread': 1})"
       ]
      },
      {
       "output_type": "stream",
       "stream": "stdout",
       "text": [
        "\n",
        "Counter({'first_call-load_image': 1, 'last_call-kill_process': 1})"
       ]
      },
      {
       "output_type": "stream",
       "stream": "stdout",
       "text": [
        "\n",
        "Counter({'first_call-load_image': 1, 'last_call-thread': 1})\n",
        "Counter({'first_call-load_image': 1, 'last_call-kill_process': 1})"
       ]
      },
      {
       "output_type": "stream",
       "stream": "stdout",
       "text": [
        "\n",
        "Counter({'first_call-load_image': 1, 'last_call-thread': 1})\n",
        "Counter({'first_call-load_image': 1, 'last_call-kill_process': 1})\n",
        "Counter({'first_call-load_image': 1, 'last_call-thread': 1})"
       ]
      },
      {
       "output_type": "stream",
       "stream": "stdout",
       "text": [
        "\n",
        "Counter({'first_call-load_image': 1, 'last_call-kill_process': 1})"
       ]
      },
      {
       "output_type": "stream",
       "stream": "stdout",
       "text": [
        "\n",
        "Counter({'first_call-load_image': 1, 'last_call-thread': 1})"
       ]
      },
      {
       "output_type": "stream",
       "stream": "stdout",
       "text": [
        "\n",
        "Counter({'first_call-load_image': 1, 'last_call-load_dll': 1})"
       ]
      },
      {
       "output_type": "stream",
       "stream": "stdout",
       "text": [
        "\n",
        "Counter({'first_call-load_image': 1, 'last_call-enum_window': 1})\n",
        "Counter({'first_call-load_image': 1, 'last_call-sleep': 1})"
       ]
      },
      {
       "output_type": "stream",
       "stream": "stdout",
       "text": [
        "\n",
        "Counter({'first_call-load_image': 1, 'last_call-enum_window': 1})"
       ]
      },
      {
       "output_type": "stream",
       "stream": "stdout",
       "text": [
        "\n",
        "Counter({'first_call-load_image': 1, 'last_call-kill_process': 1})\n",
        "Counter({'first_call-load_image': 1, 'last_call-enum_window': 1})\n",
        "Counter({'first_call-load_image': 1, 'last_call-thread': 1})\n",
        "Counter({'first_call-load_image': 1, 'last_call-thread': 1})\n",
        "Counter({'first_call-load_image': 1, 'last_call-thread': 1})\n",
        "Counter({'first_call-load_image': 1, 'last_call-process': 1})"
       ]
      },
      {
       "output_type": "stream",
       "stream": "stdout",
       "text": [
        "\n",
        "Counter({'first_call-load_image': 1, 'last_call-thread': 1})\n",
        "Counter({'first_call-load_image': 1, 'last_call-enum_window': 1})\n",
        "Counter({'first_call-load_image': 1, 'last_call-thread': 1})\n",
        "Counter({'first_call-load_image': 1, 'last_call-process': 1})\n",
        "Counter({'first_call-load_image': 1, 'last_call-thread': 1})"
       ]
      },
      {
       "output_type": "stream",
       "stream": "stdout",
       "text": [
        "\n",
        "Counter({'first_call-load_image': 1, 'last_call-thread': 1})"
       ]
      },
      {
       "output_type": "stream",
       "stream": "stdout",
       "text": [
        "\n",
        "Counter({'first_call-load_image': 1, 'last_call-kill_process': 1})"
       ]
      },
      {
       "output_type": "stream",
       "stream": "stdout",
       "text": [
        "\n",
        "Counter({'first_call-load_image': 1, 'last_call-enum_window': 1})\n",
        "Counter({'first_call-load_image': 1, 'last_call-thread': 1})\n",
        "Counter({'first_call-load_image': 1, 'last_call-enum_window': 1})\n",
        "Counter({'first_call-load_image': 1, 'last_call-thread': 1})\n",
        "Counter({'first_call-load_image': 1, 'last_call-thread': 1})"
       ]
      },
      {
       "output_type": "stream",
       "stream": "stdout",
       "text": [
        "\n",
        "Counter({'first_call-load_image': 1, 'last_call-thread': 1})"
       ]
      },
      {
       "output_type": "stream",
       "stream": "stdout",
       "text": [
        "\n",
        "Counter({'first_call-load_image': 1, 'last_call-load_dll': 1})"
       ]
      },
      {
       "output_type": "stream",
       "stream": "stdout",
       "text": [
        "\n",
        "Counter({'first_call-load_image': 1, 'last_call-check_for_debugger': 1})\n",
        "Counter({'first_call-load_image': 1, 'last_call-thread': 1})"
       ]
      },
      {
       "output_type": "stream",
       "stream": "stdout",
       "text": [
        "\n",
        "Counter({'first_call-load_image': 1, 'last_call-create_mutex': 1})\n",
        "Counter({'first_call-load_image': 1, 'last_call-enum_window': 1})\n",
        "Counter({'first_call-load_image': 1, 'last_call-kill_process': 1})\n",
        "Counter({'first_call-load_image': 1, 'last_call-sleep': 1})\n",
        "Counter({'first_call-load_image': 1, 'last_call-enum_window': 1})\n",
        "Counter({'first_call-load_image': 1, 'last_call-kill_process': 1})\n",
        "Counter({'first_call-load_image': 1, 'last_call-load_dll': 1})"
       ]
      },
      {
       "output_type": "stream",
       "stream": "stdout",
       "text": [
        "\n",
        "Counter({'first_call-load_image': 1, 'last_call-thread': 1})\n",
        "Counter({'first_call-load_image': 1, 'last_call-thread': 1})\n",
        "Counter({'first_call-load_image': 1, 'last_call-enum_window': 1})\n",
        "Counter({'first_call-load_image': 1, 'last_call-thread': 1})"
       ]
      },
      {
       "output_type": "stream",
       "stream": "stdout",
       "text": [
        "\n",
        "Counter({'first_call-load_image': 1, 'last_call-kill_process': 1})\n",
        "Counter({'first_call-load_image': 1, 'last_call-enum_window': 1})\n",
        "Counter({'first_call-load_image': 1, 'last_call-kill_process': 1})\n",
        "Counter({'first_call-load_image': 1, 'last_call-load_dll': 1})"
       ]
      },
      {
       "output_type": "stream",
       "stream": "stdout",
       "text": [
        "\n",
        "Counter({'first_call-load_image': 1, 'last_call-process': 1})\n",
        "Counter({'first_call-load_image': 1, 'last_call-thread': 1})\n",
        "Counter({'first_call-load_image': 1, 'last_call-thread': 1})\n",
        "Counter({'first_call-load_image': 1, 'last_call-thread': 1})"
       ]
      },
      {
       "output_type": "stream",
       "stream": "stdout",
       "text": [
        "\n",
        "Counter({'first_call-load_image': 1, 'last_call-thread': 1})"
       ]
      },
      {
       "output_type": "stream",
       "stream": "stdout",
       "text": [
        "\n",
        "Counter({'first_call-load_image': 1, 'last_call-thread': 1})"
       ]
      },
      {
       "output_type": "stream",
       "stream": "stdout",
       "text": [
        "\n",
        "Counter({'first_call-load_image': 1, 'last_call-enum_window': 1})"
       ]
      },
      {
       "output_type": "stream",
       "stream": "stdout",
       "text": [
        "\n",
        "Counter({'first_call-load_image': 1, 'last_call-thread': 1})\n",
        "Counter({'first_call-load_image': 1, 'last_call-enum_window': 1})\n",
        "Counter({'first_call-load_image': 1, 'last_call-enum_window': 1})\n",
        "Counter({'first_call-load_image': 1, 'last_call-kill_process': 1})\n",
        "Counter({'first_call-load_image': 1, 'last_call-kill_process': 1})\n",
        "Counter({'first_call-load_image': 1, 'last_call-thread': 1})\n",
        "Counter({'first_call-load_image': 1, 'last_call-enum_window': 1})\n",
        "Counter({'first_call-load_image': 1, 'last_call-load_dll': 1})"
       ]
      },
      {
       "output_type": "stream",
       "stream": "stdout",
       "text": [
        "\n",
        "Counter({'first_call-load_image': 1, 'last_call-thread': 1})\n",
        "Counter({'first_call-load_image': 1, 'last_call-kill_process': 1})\n",
        "Counter({'first_call-load_image': 1, 'last_call-thread': 1})"
       ]
      },
      {
       "output_type": "stream",
       "stream": "stdout",
       "text": [
        "\n",
        "Counter({'first_call-load_image': 1, 'last_call-enum_window': 1})"
       ]
      },
      {
       "output_type": "stream",
       "stream": "stdout",
       "text": [
        "\n",
        "Counter({'first_call-load_image': 1, 'last_call-thread': 1})"
       ]
      },
      {
       "output_type": "stream",
       "stream": "stdout",
       "text": [
        "\n",
        "Counter({'first_call-load_image': 1, 'last_call-enum_window': 1})"
       ]
      },
      {
       "output_type": "stream",
       "stream": "stdout",
       "text": [
        "\n",
        "Counter({'first_call-load_image': 1, 'last_call-load_dll': 1})\n",
        "Counter({'first_call-load_image': 1, 'last_call-create_process_nt': 1})\n",
        "Counter({'first_call-load_image': 1, 'last_call-thread': 1})\n",
        "Counter({'first_call-load_image': 1, 'last_call-load_dll': 1})"
       ]
      },
      {
       "output_type": "stream",
       "stream": "stdout",
       "text": [
        "\n",
        "Counter({'first_call-load_image': 1, 'last_call-process': 1})\n",
        "Counter({'first_call-load_image': 1, 'last_call-thread': 1})"
       ]
      },
      {
       "output_type": "stream",
       "stream": "stdout",
       "text": [
        "\n",
        "Counter({'first_call-load_image': 1, 'last_call-enum_window': 1})"
       ]
      },
      {
       "output_type": "stream",
       "stream": "stdout",
       "text": [
        "\n",
        "Counter({'first_call-load_image': 1, 'last_call-thread': 1})"
       ]
      },
      {
       "output_type": "stream",
       "stream": "stdout",
       "text": [
        "\n",
        "Counter({'first_call-load_image': 1, 'last_call-kill_process': 1})"
       ]
      },
      {
       "output_type": "stream",
       "stream": "stdout",
       "text": [
        "\n",
        "Counter({'first_call-load_image': 1, 'last_call-kill_process': 1})\n",
        "Counter({'first_call-load_image': 1, 'last_call-thread': 1})\n",
        "Counter({'first_call-load_image': 1, 'last_call-thread': 1})\n",
        "Counter({'first_call-load_image': 1, 'last_call-enum_window': 1})\n",
        "Counter({'first_call-load_image': 1, 'last_call-thread': 1})"
       ]
      },
      {
       "output_type": "stream",
       "stream": "stdout",
       "text": [
        "\n",
        "Counter({'first_call-load_image': 1, 'last_call-sleep': 1})"
       ]
      },
      {
       "output_type": "stream",
       "stream": "stdout",
       "text": [
        "\n",
        "Counter({'first_call-load_image': 1, 'last_call-process': 1})"
       ]
      },
      {
       "output_type": "stream",
       "stream": "stdout",
       "text": [
        "\n",
        "Counter({'first_call-load_image': 1, 'last_call-thread': 1})\n",
        "Counter({'first_call-load_image': 1, 'last_call-enum_window': 1})\n",
        "Counter({'first_call-load_image': 1, 'last_call-process': 1})\n",
        "Counter({'first_call-load_image': 1, 'last_call-enum_window': 1})\n",
        "Counter({'first_call-load_image': 1, 'last_call-thread': 1})"
       ]
      },
      {
       "output_type": "stream",
       "stream": "stdout",
       "text": [
        "\n",
        "Counter({'first_call-load_image': 1, 'last_call-thread': 1})"
       ]
      },
      {
       "output_type": "stream",
       "stream": "stdout",
       "text": [
        "\n",
        "Counter({'first_call-load_image': 1, 'last_call-thread': 1})"
       ]
      },
      {
       "output_type": "stream",
       "stream": "stdout",
       "text": [
        "\n",
        "Counter({'first_call-load_image': 1, 'last_call-process': 1})\n",
        "Counter({'first_call-load_image': 1, 'last_call-load_dll': 1})"
       ]
      },
      {
       "output_type": "stream",
       "stream": "stdout",
       "text": [
        "\n",
        "Counter({'first_call-load_image': 1, 'last_call-enum_window': 1})\n",
        "Counter({'first_call-load_image': 1, 'last_call-load_dll': 1})\n",
        "Counter({'first_call-load_image': 1, 'last_call-thread': 1})\n",
        "Counter({'first_call-load_image': 1, 'last_call-thread': 1})\n",
        "Counter({'first_call-load_image': 1, 'last_call-load_dll': 1})\n",
        "Counter({'first_call-load_image': 1, 'last_call-load_dll': 1})"
       ]
      },
      {
       "output_type": "stream",
       "stream": "stdout",
       "text": [
        "\n",
        "Counter({'first_call-load_image': 1, 'last_call-thread': 1})\n",
        "Counter({'first_call-load_image': 1, 'last_call-enum_window': 1})"
       ]
      },
      {
       "output_type": "stream",
       "stream": "stdout",
       "text": [
        "\n",
        "Counter({'first_call-load_image': 1, 'last_call-thread': 1})"
       ]
      },
      {
       "output_type": "stream",
       "stream": "stdout",
       "text": [
        "\n",
        "Counter({'first_call-load_image': 1, 'last_call-process': 1})"
       ]
      },
      {
       "output_type": "stream",
       "stream": "stdout",
       "text": [
        "\n",
        "Counter({'first_call-load_image': 1, 'last_call-thread': 1})"
       ]
      },
      {
       "output_type": "stream",
       "stream": "stdout",
       "text": [
        "\n",
        "Counter({'first_call-load_image': 1, 'last_call-enum_window': 1})"
       ]
      },
      {
       "output_type": "stream",
       "stream": "stdout",
       "text": [
        "\n",
        "Counter({'first_call-load_image': 1, 'last_call-enum_window': 1})\n",
        "Counter({'first_call-load_image': 1, 'last_call-thread': 1})"
       ]
      },
      {
       "output_type": "stream",
       "stream": "stdout",
       "text": [
        "\n",
        "Counter({'first_call-load_image': 1, 'last_call-kill_process': 1})\n",
        "Counter({'first_call-load_image': 1, 'last_call-kill_process': 1})"
       ]
      },
      {
       "output_type": "stream",
       "stream": "stdout",
       "text": [
        "\n",
        "Counter({'first_call-load_image': 1, 'last_call-thread': 1})"
       ]
      },
      {
       "output_type": "stream",
       "stream": "stdout",
       "text": [
        "\n",
        "Counter({'first_call-load_image': 1, 'last_call-enum_window': 1})"
       ]
      },
      {
       "output_type": "stream",
       "stream": "stdout",
       "text": [
        "\n",
        "Counter({'first_call-load_image': 1, 'last_call-thread': 1})\n",
        "Counter({'first_call-load_image': 1, 'last_call-thread': 1})"
       ]
      },
      {
       "output_type": "stream",
       "stream": "stdout",
       "text": [
        "\n",
        "Counter({'first_call-load_image': 1, 'last_call-process': 1})\n",
        "Counter({'first_call-load_image': 1, 'last_call-enum_window': 1})\n",
        "Counter({'first_call-load_image': 1, 'last_call-enum_window': 1})\n",
        "Counter({'first_call-load_image': 1, 'last_call-kill_process': 1})\n",
        "Counter({'first_call-load_image': 1, 'last_call-kill_process': 1})\n",
        "Counter({'first_call-load_image': 1, 'last_call-enum_window': 1})\n",
        "Counter({'first_call-load_image': 1, 'last_call-thread': 1})"
       ]
      },
      {
       "output_type": "stream",
       "stream": "stdout",
       "text": [
        "\n",
        "Counter({'first_call-load_image': 1, 'last_call-thread': 1})"
       ]
      },
      {
       "output_type": "stream",
       "stream": "stdout",
       "text": [
        "\n",
        "Counter({'first_call-load_image': 1, 'last_call-enum_window': 1})\n",
        "Counter({'first_call-load_image': 1, 'last_call-kill_process': 1})\n",
        "Counter({'first_call-load_image': 1, 'last_call-enum_window': 1})\n",
        "Counter({'first_call-load_image': 1, 'last_call-get_system_time': 1})"
       ]
      },
      {
       "output_type": "stream",
       "stream": "stdout",
       "text": [
        "\n",
        "Counter({'first_call-load_image': 1, 'last_call-enum_window': 1})"
       ]
      },
      {
       "output_type": "stream",
       "stream": "stdout",
       "text": [
        "\n",
        "Counter({'first_call-load_image': 1, 'last_call-thread': 1})\n",
        "Counter({'first_call-load_image': 1, 'last_call-thread': 1})"
       ]
      },
      {
       "output_type": "stream",
       "stream": "stdout",
       "text": [
        "\n",
        "Counter({'first_call-load_image': 1, 'last_call-sleep': 1})"
       ]
      },
      {
       "output_type": "stream",
       "stream": "stdout",
       "text": [
        "\n",
        "Counter({'first_call-load_image': 1, 'last_call-process': 1})"
       ]
      },
      {
       "output_type": "stream",
       "stream": "stdout",
       "text": [
        "\n",
        "Counter({'first_call-load_image': 1, 'last_call-thread': 1})"
       ]
      },
      {
       "output_type": "stream",
       "stream": "stdout",
       "text": [
        "\n",
        "Counter({'first_call-load_image': 1, 'last_call-kill_process': 1})"
       ]
      },
      {
       "output_type": "stream",
       "stream": "stdout",
       "text": [
        "\n",
        "Counter({'first_call-load_image': 1, 'last_call-kill_process': 1})\n",
        "Counter({'first_call-load_image': 1, 'last_call-thread': 1})"
       ]
      },
      {
       "output_type": "stream",
       "stream": "stdout",
       "text": [
        "\n",
        "Counter({'first_call-load_image': 1, 'last_call-kill_process': 1})"
       ]
      },
      {
       "output_type": "stream",
       "stream": "stdout",
       "text": [
        "\n",
        "Counter({'first_call-load_image': 1, 'last_call-load_dll': 1})\n",
        "Counter({'first_call-load_image': 1, 'last_call-thread': 1})\n",
        "Counter({'first_call-load_image': 1, 'last_call-process': 1})\n",
        "Counter({'first_call-load_image': 1, 'last_call-thread': 1})"
       ]
      },
      {
       "output_type": "stream",
       "stream": "stdout",
       "text": [
        "\n",
        "Counter({'first_call-load_image': 1, 'last_call-enum_window': 1})\n",
        "Counter({'first_call-load_image': 1, 'last_call-kill_process': 1})\n",
        "Counter({'first_call-load_image': 1, 'last_call-kill_process': 1})\n",
        "Counter({'first_call-load_image': 1, 'last_call-kill_process': 1})\n",
        "Counter({'first_call-load_image': 1, 'last_call-thread': 1})"
       ]
      },
      {
       "output_type": "stream",
       "stream": "stdout",
       "text": [
        "\n",
        "Counter({'first_call-load_image': 1, 'last_call-kill_process': 1})"
       ]
      },
      {
       "output_type": "stream",
       "stream": "stdout",
       "text": [
        "\n",
        "Counter({'first_call-load_image': 1, 'last_call-process': 1})\n",
        "Counter({'first_call-load_image': 1, 'last_call-thread': 1})\n",
        "Counter({'first_call-load_image': 1, 'last_call-thread': 1})"
       ]
      },
      {
       "output_type": "stream",
       "stream": "stdout",
       "text": [
        "\n",
        "Counter({'first_call-load_image': 1, 'last_call-thread': 1})"
       ]
      },
      {
       "output_type": "stream",
       "stream": "stdout",
       "text": [
        "\n",
        "Counter({'first_call-load_image': 1, 'last_call-enum_window': 1})\n",
        "Counter({'first_call-load_image': 1, 'last_call-enum_window': 1})\n",
        "Counter({'first_call-load_image': 1, 'last_call-load_dll': 1})\n",
        "Counter({'first_call-load_image': 1, 'last_call-load_dll': 1})\n",
        "Counter({'first_call-load_image': 1, 'last_call-thread': 1})\n",
        "Counter({'first_call-load_image': 1, 'last_call-kill_process': 1})\n",
        "Counter({'first_call-load_image': 1, 'last_call-enum_window': 1})\n",
        "Counter({'first_call-load_image': 1, 'last_call-enum_window': 1})"
       ]
      },
      {
       "output_type": "stream",
       "stream": "stdout",
       "text": [
        "\n",
        "Counter({'first_call-load_image': 1, 'last_call-enum_window': 1})\n",
        "Counter({'first_call-load_image': 1, 'last_call-load_dll': 1})\n",
        "Counter({'first_call-load_image': 1, 'last_call-kill_process': 1})\n",
        "Counter({'first_call-load_image': 1, 'last_call-kill_process': 1})\n",
        "Counter({'first_call-load_image': 1, 'last_call-thread': 1})\n",
        "Counter({'first_call-load_image': 1, 'last_call-thread': 1})\n",
        "Counter({'first_call-load_image': 1, 'last_call-load_dll': 1})"
       ]
      },
      {
       "output_type": "stream",
       "stream": "stdout",
       "text": [
        "\n",
        "Counter({'first_call-load_image': 1, 'last_call-thread': 1})"
       ]
      },
      {
       "output_type": "stream",
       "stream": "stdout",
       "text": [
        "\n",
        "Counter({'first_call-load_image': 1, 'last_call-thread': 1})\n",
        "Counter({'first_call-load_image': 1, 'last_call-enum_window': 1})\n",
        "Counter({'first_call-load_image': 1, 'last_call-enum_window': 1})"
       ]
      },
      {
       "output_type": "stream",
       "stream": "stdout",
       "text": [
        "\n",
        "Counter({'first_call-load_image': 1, 'last_call-load_dll': 1})\n",
        "Counter({'first_call-load_image': 1, 'last_call-kill_process': 1})\n",
        "Counter({'first_call-load_image': 1, 'last_call-thread': 1})"
       ]
      },
      {
       "output_type": "stream",
       "stream": "stdout",
       "text": [
        "\n",
        "Counter({'first_call-load_image': 1, 'last_call-kill_process': 1})"
       ]
      },
      {
       "output_type": "stream",
       "stream": "stdout",
       "text": [
        "\n",
        "Counter({'first_call-load_image': 1, 'last_call-kill_process': 1})\n",
        "Counter({'first_call-load_image': 1, 'last_call-kill_process': 1})\n",
        "Counter({'first_call-load_image': 1, 'last_call-thread': 1})\n",
        "Counter({'first_call-load_image': 1, 'last_call-enum_window': 1})\n",
        "Counter({'first_call-load_image': 1, 'last_call-thread': 1})"
       ]
      },
      {
       "output_type": "stream",
       "stream": "stdout",
       "text": [
        "\n",
        "Counter({'first_call-load_image': 1, 'last_call-kill_process': 1})"
       ]
      },
      {
       "output_type": "stream",
       "stream": "stdout",
       "text": [
        "\n",
        "Counter({'first_call-load_image': 1, 'last_call-thread': 1})\n",
        "Counter({'first_call-load_image': 1, 'last_call-process': 1})"
       ]
      },
      {
       "output_type": "stream",
       "stream": "stdout",
       "text": [
        "\n",
        "Counter({'first_call-load_image': 1, 'last_call-thread': 1})"
       ]
      },
      {
       "output_type": "stream",
       "stream": "stdout",
       "text": [
        "\n",
        "Counter({'first_call-load_image': 1, 'last_call-kill_process': 1})\n",
        "Counter({'first_call-load_image': 1, 'last_call-kill_process': 1})\n",
        "Counter({'first_call-load_image': 1, 'last_call-thread': 1})"
       ]
      },
      {
       "output_type": "stream",
       "stream": "stdout",
       "text": [
        "\n",
        "Counter({'first_call-load_image': 1, 'last_call-kill_process': 1})"
       ]
      },
      {
       "output_type": "stream",
       "stream": "stdout",
       "text": [
        "\n",
        "Counter({'first_call-load_image': 1, 'last_call-thread': 1})\n",
        "Counter({'first_call-load_image': 1, 'last_call-enum_window': 1})\n",
        "Counter({'first_call-load_image': 1, 'last_call-sleep': 1})"
       ]
      },
      {
       "output_type": "stream",
       "stream": "stdout",
       "text": [
        "\n",
        "Counter({'first_call-load_image': 1, 'last_call-thread': 1})\n",
        "Counter({'first_call-load_image': 1, 'last_call-enum_window': 1})\n",
        "Counter({'first_call-load_image': 1, 'last_call-kill_process': 1})\n",
        "Counter({'first_call-load_image': 1, 'last_call-enum_window': 1})\n",
        "Counter({'first_call-load_image': 1, 'last_call-load_dll': 1})"
       ]
      },
      {
       "output_type": "stream",
       "stream": "stdout",
       "text": [
        "\n",
        "Counter({'first_call-load_image': 1, 'last_call-enum_window': 1})\n",
        "Counter({'first_call-load_image': 1, 'last_call-load_dll': 1})"
       ]
      },
      {
       "output_type": "stream",
       "stream": "stdout",
       "text": [
        "\n",
        "Counter({'first_call-load_image': 1, 'last_call-kill_process': 1})\n",
        "Counter({'first_call-load_image': 1, 'last_call-load_dll': 1})"
       ]
      },
      {
       "output_type": "stream",
       "stream": "stdout",
       "text": [
        "\n",
        "Counter({'first_call-load_image': 1, 'last_call-thread': 1})\n",
        "Counter({'first_call-load_image': 1, 'last_call-thread': 1})"
       ]
      },
      {
       "output_type": "stream",
       "stream": "stdout",
       "text": [
        "\n",
        "Counter({'first_call-load_image': 1, 'last_call-thread': 1})"
       ]
      },
      {
       "output_type": "stream",
       "stream": "stdout",
       "text": [
        "\n",
        "Counter({'first_call-load_image': 1, 'last_call-load_dll': 1})\n",
        "Counter({'first_call-load_image': 1, 'last_call-enum_window': 1})\n",
        "Counter({'first_call-load_image': 1, 'last_call-kill_process': 1})\n",
        "Counter({'first_call-load_image': 1, 'last_call-kill_process': 1})\n",
        "Counter({'first_call-load_image': 1, 'last_call-process': 1})"
       ]
      },
      {
       "output_type": "stream",
       "stream": "stdout",
       "text": [
        "\n",
        "Counter({'first_call-load_image': 1, 'last_call-thread': 1})"
       ]
      },
      {
       "output_type": "stream",
       "stream": "stdout",
       "text": [
        "\n",
        "Counter({'first_call-load_image': 1, 'last_call-kill_process': 1})"
       ]
      },
      {
       "output_type": "stream",
       "stream": "stdout",
       "text": [
        "\n",
        "Counter({'first_call-load_image': 1, 'last_call-thread': 1})\n",
        "Counter({'first_call-load_image': 1, 'last_call-thread': 1})"
       ]
      },
      {
       "output_type": "stream",
       "stream": "stdout",
       "text": [
        "\n",
        "Counter({'first_call-load_image': 1, 'last_call-thread': 1})"
       ]
      },
      {
       "output_type": "stream",
       "stream": "stdout",
       "text": [
        "\n",
        "Counter({'first_call-load_image': 1, 'last_call-thread': 1})\n",
        "Counter({'first_call-load_image': 1, 'last_call-process': 1})\n",
        "Counter({'first_call-load_image': 1, 'last_call-thread': 1})"
       ]
      },
      {
       "output_type": "stream",
       "stream": "stdout",
       "text": [
        "\n",
        "Counter({'first_call-load_image': 1, 'last_call-kill_process': 1})"
       ]
      },
      {
       "output_type": "stream",
       "stream": "stdout",
       "text": [
        "\n",
        "Counter({'first_call-load_image': 1, 'last_call-process': 1})"
       ]
      },
      {
       "output_type": "stream",
       "stream": "stdout",
       "text": [
        "\n",
        "Counter({'first_call-load_image': 1, 'last_call-enum_window': 1})"
       ]
      },
      {
       "output_type": "stream",
       "stream": "stdout",
       "text": [
        "\n",
        "Counter({'first_call-load_image': 1, 'last_call-kill_process': 1})\n",
        "Counter({'first_call-load_image': 1, 'last_call-kill_process': 1})\n",
        "Counter({'first_call-load_image': 1, 'last_call-thread': 1})\n",
        "Counter({'first_call-load_image': 1, 'last_call-kill_process': 1})\n",
        "Counter({'first_call-load_image': 1, 'last_call-thread': 1})\n",
        "Counter({'first_call-load_image': 1, 'last_call-thread': 1})\n",
        "Counter({'first_call-load_image': 1, 'last_call-thread': 1})"
       ]
      },
      {
       "output_type": "stream",
       "stream": "stdout",
       "text": [
        "\n",
        "Counter({'first_call-load_image': 1, 'last_call-create_thread': 1})\n",
        "Counter({'first_call-load_image': 1, 'last_call-check_for_debugger': 1})\n",
        "Counter({'first_call-load_image': 1, 'last_call-kill_process': 1})"
       ]
      },
      {
       "output_type": "stream",
       "stream": "stdout",
       "text": [
        "\n",
        "Counter({'first_call-load_image': 1, 'last_call-thread': 1})\n",
        "Counter({'first_call-load_image': 1, 'last_call-enum_window': 1})\n",
        "Counter({'first_call-load_image': 1, 'last_call-thread': 1})\n",
        "Counter({'first_call-load_image': 1, 'last_call-kill_process': 1})"
       ]
      },
      {
       "output_type": "stream",
       "stream": "stdout",
       "text": [
        "\n",
        "Counter({'first_call-load_image': 1, 'last_call-kill_process': 1})\n",
        "Counter({'first_call-load_image': 1, 'last_call-thread': 1})\n",
        "Counter({'first_call-load_image': 1, 'last_call-thread': 1})\n",
        "Counter({'first_call-load_image': 1, 'last_call-kill_process': 1})\n",
        "Counter({'first_call-load_image': 1, 'last_call-thread': 1})"
       ]
      },
      {
       "output_type": "stream",
       "stream": "stdout",
       "text": [
        "\n",
        "Counter({'first_call-load_image': 1, 'last_call-load_dll': 1})"
       ]
      },
      {
       "output_type": "stream",
       "stream": "stdout",
       "text": [
        "\n",
        "Counter({'first_call-load_image': 1, 'last_call-kill_process': 1})\n",
        "Counter({'first_call-load_image': 1, 'last_call-process': 1})\n",
        "Counter({'first_call-load_image': 1, 'last_call-load_dll': 1})\n",
        "Counter({'first_call-load_image': 1, 'last_call-thread': 1})"
       ]
      },
      {
       "output_type": "stream",
       "stream": "stdout",
       "text": [
        "\n",
        "Counter({'first_call-load_image': 1, 'last_call-thread': 1})"
       ]
      },
      {
       "output_type": "stream",
       "stream": "stdout",
       "text": [
        "\n",
        "Counter({'first_call-load_image': 1, 'last_call-enum_window': 1})\n",
        "Counter({'first_call-load_image': 1, 'last_call-load_dll': 1})\n",
        "Counter({'first_call-load_image': 1, 'last_call-load_dll': 1})\n",
        "Counter({'first_call-load_image': 1, 'last_call-enum_window': 1})"
       ]
      },
      {
       "output_type": "stream",
       "stream": "stdout",
       "text": [
        "\n",
        "Counter({'first_call-load_image': 1, 'last_call-kill_process': 1})\n",
        "Counter({'first_call-load_image': 1, 'last_call-enum_window': 1})\n",
        "Counter({'first_call-load_image': 1, 'last_call-kill_process': 1})\n",
        "Counter({'first_call-load_image': 1, 'last_call-thread': 1})"
       ]
      },
      {
       "output_type": "stream",
       "stream": "stdout",
       "text": [
        "\n",
        "Counter({'first_call-load_image': 1, 'last_call-thread': 1})"
       ]
      },
      {
       "output_type": "stream",
       "stream": "stdout",
       "text": [
        "\n",
        "Counter({'first_call-load_image': 1, 'last_call-enum_window': 1})"
       ]
      },
      {
       "output_type": "stream",
       "stream": "stdout",
       "text": [
        "\n",
        "Counter({'first_call-load_image': 1, 'last_call-enum_window': 1})"
       ]
      },
      {
       "output_type": "stream",
       "stream": "stdout",
       "text": [
        "\n",
        "Counter({'first_call-load_image': 1, 'last_call-kill_process': 1})\n",
        "Counter({'first_call-load_image': 1, 'last_call-thread': 1})\n",
        "Counter({'first_call-load_image': 1, 'last_call-kill_process': 1})\n",
        "Counter({'first_call-load_image': 1, 'last_call-kill_process': 1})\n",
        "Counter({'first_call-load_image': 1, 'last_call-thread': 1})"
       ]
      },
      {
       "output_type": "stream",
       "stream": "stdout",
       "text": [
        "\n",
        "Counter({'first_call-load_image': 1, 'last_call-thread': 1})"
       ]
      },
      {
       "output_type": "stream",
       "stream": "stdout",
       "text": [
        "\n",
        "Counter({'first_call-load_image': 1, 'last_call-find_file': 1})"
       ]
      },
      {
       "output_type": "stream",
       "stream": "stdout",
       "text": [
        "\n",
        "Counter({'first_call-load_image': 1, 'last_call-thread': 1})"
       ]
      },
      {
       "output_type": "stream",
       "stream": "stdout",
       "text": [
        "\n",
        "Counter({'first_call-load_image': 1, 'last_call-thread': 1})"
       ]
      },
      {
       "output_type": "stream",
       "stream": "stdout",
       "text": [
        "\n",
        "Counter({'first_call-load_image': 1, 'last_call-process': 1})"
       ]
      },
      {
       "output_type": "stream",
       "stream": "stdout",
       "text": [
        "\n",
        "Counter({'first_call-load_image': 1, 'last_call-thread': 1})"
       ]
      },
      {
       "output_type": "stream",
       "stream": "stdout",
       "text": [
        "\n",
        "Counter({'first_call-load_image': 1, 'last_call-thread': 1})"
       ]
      },
      {
       "output_type": "stream",
       "stream": "stdout",
       "text": [
        "\n",
        "Counter({'first_call-load_image': 1, 'last_call-enum_window': 1})\n",
        "Counter({'first_call-load_image': 1, 'last_call-thread': 1})\n",
        "Counter({'first_call-load_image': 1, 'last_call-kill_process': 1})"
       ]
      },
      {
       "output_type": "stream",
       "stream": "stdout",
       "text": [
        "\n",
        "Counter({'first_call-load_image': 1, 'last_call-process': 1})\n",
        "Counter({'first_call-load_image': 1, 'last_call-load_dll': 1})\n",
        "Counter({'first_call-load_image': 1, 'last_call-thread': 1})"
       ]
      },
      {
       "output_type": "stream",
       "stream": "stdout",
       "text": [
        "\n",
        "Counter({'first_call-load_image': 1, 'last_call-thread': 1})\n",
        "Counter({'first_call-load_image': 1, 'last_call-thread': 1})"
       ]
      },
      {
       "output_type": "stream",
       "stream": "stdout",
       "text": [
        "\n",
        "Counter({'first_call-load_image': 1, 'last_call-kill_process': 1})"
       ]
      },
      {
       "output_type": "stream",
       "stream": "stdout",
       "text": [
        "\n",
        "Counter({'first_call-load_image': 1, 'last_call-thread': 1})\n",
        "Counter({'first_call-load_image': 1, 'last_call-kill_process': 1})\n",
        "Counter({'first_call-load_image': 1, 'last_call-enum_window': 1})\n",
        "Counter({'first_call-load_image': 1, 'last_call-thread': 1})\n",
        "Counter({'first_call-load_image': 1, 'last_call-kill_process': 1})\n",
        "Counter({'first_call-load_image': 1, 'last_call-thread': 1})\n",
        "Counter({'first_call-load_image': 1, 'last_call-process': 1})"
       ]
      },
      {
       "output_type": "stream",
       "stream": "stdout",
       "text": [
        "\n",
        "Counter({'first_call-load_image': 1, 'last_call-thread': 1})\n",
        "Counter({'first_call-load_image': 1, 'last_call-load_dll': 1})\n",
        "Counter({'first_call-load_image': 1, 'last_call-process': 1})\n",
        "Counter({'first_call-load_image': 1, 'last_call-thread': 1})"
       ]
      },
      {
       "output_type": "stream",
       "stream": "stdout",
       "text": [
        "\n",
        "Counter({'first_call-load_image': 1, 'last_call-enum_window': 1})"
       ]
      },
      {
       "output_type": "stream",
       "stream": "stdout",
       "text": [
        "\n",
        "Counter({'first_call-load_image': 1, 'last_call-load_dll': 1})\n",
        "Counter({'first_call-load_image': 1, 'last_call-thread': 1})\n",
        "Counter({'first_call-load_image': 1, 'last_call-thread': 1})\n",
        "Counter({'first_call-load_image': 1, 'last_call-dump_line': 1})\n",
        "Counter({'first_call-load_image': 1, 'last_call-thread': 1})"
       ]
      },
      {
       "output_type": "stream",
       "stream": "stdout",
       "text": [
        "\n",
        "Counter({'first_call-load_image': 1, 'last_call-load_dll': 1})\n",
        "Counter({'first_call-load_image': 1, 'last_call-thread': 1})\n",
        "Counter({'first_call-load_image': 1, 'last_call-thread': 1})"
       ]
      },
      {
       "output_type": "stream",
       "stream": "stdout",
       "text": [
        "\n",
        "Counter({'first_call-load_image': 1, 'last_call-thread': 1})"
       ]
      },
      {
       "output_type": "stream",
       "stream": "stdout",
       "text": [
        "\n",
        "Counter({'first_call-load_image': 1, 'last_call-thread': 1})"
       ]
      },
      {
       "output_type": "stream",
       "stream": "stdout",
       "text": [
        "\n",
        "Counter({'first_call-load_image': 1, 'last_call-enum_window': 1})\n",
        "Counter({'first_call-load_image': 1, 'last_call-thread': 1})\n",
        "Counter({'first_call-load_image': 1, 'last_call-kill_process': 1})\n",
        "Counter({'first_call-load_image': 1, 'last_call-load_dll': 1})\n",
        "Counter({'first_call-load_image': 1, 'last_call-kill_process': 1})"
       ]
      },
      {
       "output_type": "stream",
       "stream": "stdout",
       "text": [
        "\n",
        "Counter({'first_call-load_image': 1, 'last_call-process': 1})\n",
        "Counter({'first_call-load_image': 1, 'last_call-thread': 1})\n",
        "Counter({'first_call-load_image': 1, 'last_call-thread': 1})"
       ]
      },
      {
       "output_type": "stream",
       "stream": "stdout",
       "text": [
        "\n",
        "Counter({'first_call-load_image': 1, 'last_call-thread': 1})\n",
        "Counter({'first_call-load_image': 1, 'last_call-sleep': 1})\n",
        "Counter({'first_call-load_image': 1, 'last_call-kill_process': 1})\n",
        "Counter({'first_call-load_image': 1, 'last_call-process': 1})"
       ]
      },
      {
       "output_type": "stream",
       "stream": "stdout",
       "text": [
        "\n",
        "Counter({'first_call-load_image': 1, 'last_call-kill_process': 1})\n",
        "Counter({'first_call-load_image': 1, 'last_call-load_dll': 1})\n",
        "Counter({'first_call-load_image': 1, 'last_call-thread': 1})\n",
        "Counter({'first_call-load_image': 1, 'last_call-enum_window': 1})"
       ]
      },
      {
       "output_type": "stream",
       "stream": "stdout",
       "text": [
        "\n",
        "Counter({'first_call-load_image': 1, 'last_call-thread': 1})\n",
        "Counter({'first_call-load_image': 1, 'last_call-kill_process': 1})"
       ]
      },
      {
       "output_type": "stream",
       "stream": "stdout",
       "text": [
        "\n",
        "Counter({'first_call-load_image': 1, 'last_call-thread': 1})"
       ]
      },
      {
       "output_type": "stream",
       "stream": "stdout",
       "text": [
        "\n",
        "Counter({'first_call-load_image': 1, 'last_call-process': 1})"
       ]
      },
      {
       "output_type": "stream",
       "stream": "stdout",
       "text": [
        "\n",
        "Counter({'first_call-load_image': 1, 'last_call-process': 1})\n",
        "Counter({'first_call-load_image': 1, 'last_call-kill_process': 1})\n",
        "Counter({'first_call-load_image': 1, 'last_call-enum_window': 1})\n",
        "Counter({'first_call-load_image': 1, 'last_call-process': 1})\n",
        "Counter({'first_call-load_image': 1, 'last_call-process': 1})"
       ]
      },
      {
       "output_type": "stream",
       "stream": "stdout",
       "text": [
        "\n",
        "Counter({'first_call-load_image': 1, 'last_call-thread': 1})\n",
        "Counter({'first_call-load_image': 1, 'last_call-enum_window': 1})\n",
        "Counter({'first_call-load_image': 1, 'last_call-process': 1})\n",
        "Counter({'first_call-load_image': 1, 'last_call-thread': 1})"
       ]
      },
      {
       "output_type": "stream",
       "stream": "stdout",
       "text": [
        "\n",
        "Counter({'first_call-load_image': 1, 'last_call-thread': 1})"
       ]
      },
      {
       "output_type": "stream",
       "stream": "stdout",
       "text": [
        "\n",
        "Counter({'first_call-load_image': 1, 'last_call-thread': 1})\n",
        "Counter({'first_call-load_image': 1, 'last_call-thread': 1})\n",
        "Counter({'first_call-load_image': 1, 'last_call-enum_window': 1})\n",
        "Counter({'first_call-load_image': 1, 'last_call-enum_window': 1})\n",
        "Counter({'first_call-load_image': 1, 'last_call-enum_window': 1})\n",
        "Counter({'first_call-load_image': 1, 'last_call-thread': 1})"
       ]
      },
      {
       "output_type": "stream",
       "stream": "stdout",
       "text": [
        "\n",
        "Counter({'first_call-load_image': 1, 'last_call-kill_process': 1})\n",
        "Counter({'first_call-load_image': 1, 'last_call-process': 1})\n",
        "Counter({'first_call-load_image': 1, 'last_call-enum_window': 1})\n",
        "Counter({'first_call-load_image': 1, 'last_call-thread': 1})"
       ]
      },
      {
       "output_type": "stream",
       "stream": "stdout",
       "text": [
        "\n",
        "Counter({'first_call-load_image': 1, 'last_call-kill_process': 1})\n",
        "Counter({'first_call-load_image': 1, 'last_call-thread': 1})\n",
        "Counter({'first_call-load_image': 1, 'last_call-thread': 1})"
       ]
      },
      {
       "output_type": "stream",
       "stream": "stdout",
       "text": [
        "\n",
        "Counter({'first_call-load_image': 1, 'last_call-process': 1})\n",
        "Counter({'first_call-load_image': 1, 'last_call-thread': 1})"
       ]
      },
      {
       "output_type": "stream",
       "stream": "stdout",
       "text": [
        "\n",
        "Counter({'first_call-load_image': 1, 'last_call-thread': 1})"
       ]
      },
      {
       "output_type": "stream",
       "stream": "stdout",
       "text": [
        "\n",
        "Counter({'first_call-load_image': 1, 'last_call-enum_window': 1})"
       ]
      },
      {
       "output_type": "stream",
       "stream": "stdout",
       "text": [
        "\n",
        "Counter({'first_call-load_image': 1, 'last_call-thread': 1})\n",
        "Counter({'first_call-load_image': 1, 'last_call-thread': 1})\n",
        "Counter({'first_call-load_image': 1, 'last_call-thread': 1})"
       ]
      },
      {
       "output_type": "stream",
       "stream": "stdout",
       "text": [
        "\n",
        "Counter({'first_call-load_image': 1, 'last_call-kill_process': 1})\n",
        "Counter({'first_call-load_image': 1, 'last_call-thread': 1})"
       ]
      },
      {
       "output_type": "stream",
       "stream": "stdout",
       "text": [
        "\n",
        "Counter({'first_call-load_image': 1, 'last_call-thread': 1})"
       ]
      },
      {
       "output_type": "stream",
       "stream": "stdout",
       "text": [
        "\n",
        "Counter({'first_call-load_image': 1, 'last_call-thread': 1})"
       ]
      },
      {
       "output_type": "stream",
       "stream": "stdout",
       "text": [
        "\n",
        "Counter({'first_call-load_image': 1, 'last_call-kill_process': 1})\n",
        "Counter({'first_call-load_image': 1, 'last_call-thread': 1})"
       ]
      },
      {
       "output_type": "stream",
       "stream": "stdout",
       "text": [
        "\n",
        "Counter({'first_call-load_image': 1, 'last_call-process': 1})"
       ]
      },
      {
       "output_type": "stream",
       "stream": "stdout",
       "text": [
        "\n",
        "Counter({'first_call-load_image': 1, 'last_call-load_dll': 1})\n",
        "Counter({'first_call-load_image': 1, 'last_call-thread': 1})\n",
        "Counter({'first_call-load_image': 1, 'last_call-kill_process': 1})\n",
        "Counter({'first_call-load_image': 1, 'last_call-enum_window': 1})\n",
        "Counter({'first_call-load_image': 1, 'last_call-enum_window': 1})\n",
        "Counter({'first_call-load_image': 1, 'last_call-thread': 1})"
       ]
      },
      {
       "output_type": "stream",
       "stream": "stdout",
       "text": [
        "\n",
        "Counter({'first_call-load_image': 1, 'last_call-load_dll': 1})\n",
        "Counter({'first_call-load_image': 1, 'last_call-process': 1})\n",
        "Counter({'first_call-load_image': 1, 'last_call-process': 1})"
       ]
      },
      {
       "output_type": "stream",
       "stream": "stdout",
       "text": [
        "\n",
        "Counter({'first_call-load_image': 1, 'last_call-enum_window': 1})\n",
        "Counter({'first_call-load_image': 1, 'last_call-thread': 1})"
       ]
      },
      {
       "output_type": "stream",
       "stream": "stdout",
       "text": [
        "\n",
        "Counter({'first_call-load_image': 1, 'last_call-thread': 1})\n",
        "Counter({'first_call-load_image': 1, 'last_call-process': 1})"
       ]
      },
      {
       "output_type": "stream",
       "stream": "stdout",
       "text": [
        "\n",
        "Counter({'first_call-load_image': 1, 'last_call-kill_process': 1})\n",
        "Counter({'first_call-load_image': 1, 'last_call-create_mutex': 1})\n",
        "Counter({'first_call-load_image': 1, 'last_call-thread': 1})\n",
        "Counter({'first_call-load_image': 1, 'last_call-enum_window': 1})\n",
        "Counter({'first_call-load_image': 1, 'last_call-thread': 1})\n",
        "Counter({'first_call-load_image': 1, 'last_call-kill_process': 1})\n",
        "Counter({'first_call-load_image': 1, 'last_call-thread': 1})"
       ]
      },
      {
       "output_type": "stream",
       "stream": "stdout",
       "text": [
        "\n",
        "Counter({'first_call-load_image': 1, 'last_call-thread': 1})"
       ]
      },
      {
       "output_type": "stream",
       "stream": "stdout",
       "text": [
        "\n",
        "Counter({'first_call-load_image': 1, 'last_call-enum_window': 1})\n",
        "Counter({'first_call-load_image': 1, 'last_call-enum_window': 1})\n",
        "Counter({'first_call-load_image': 1, 'last_call-thread': 1})"
       ]
      },
      {
       "output_type": "stream",
       "stream": "stdout",
       "text": [
        "\n",
        "Counter({'first_call-load_image': 1, 'last_call-kill_process': 1})"
       ]
      },
      {
       "output_type": "stream",
       "stream": "stdout",
       "text": [
        "\n",
        "Counter({'first_call-load_image': 1, 'last_call-enum_window': 1})"
       ]
      },
      {
       "output_type": "stream",
       "stream": "stdout",
       "text": [
        "\n",
        "Counter({'first_call-load_image': 1, 'last_call-thread': 1})"
       ]
      },
      {
       "output_type": "stream",
       "stream": "stdout",
       "text": [
        "\n",
        "Counter({'first_call-load_image': 1, 'last_call-kill_process': 1})\n",
        "Counter({'first_call-load_image': 1, 'last_call-thread': 1})\n",
        "Counter({'first_call-load_image': 1, 'last_call-kill_process': 1})\n",
        "Counter({'first_call-load_image': 1, 'last_call-thread': 1})"
       ]
      },
      {
       "output_type": "stream",
       "stream": "stdout",
       "text": [
        "\n",
        "Counter({'first_call-load_image': 1, 'last_call-process': 1})\n",
        "Counter({'first_call-load_image': 1, 'last_call-kill_process': 1})\n",
        "Counter({'first_call-load_image': 1, 'last_call-enum_window': 1})\n",
        "Counter({'first_call-load_image': 1, 'last_call-thread': 1})"
       ]
      },
      {
       "output_type": "stream",
       "stream": "stdout",
       "text": [
        "\n",
        "Counter({'first_call-load_image': 1, 'last_call-thread': 1})"
       ]
      },
      {
       "output_type": "stream",
       "stream": "stdout",
       "text": [
        "\n",
        "Counter({'first_call-load_image': 1, 'last_call-kill_process': 1})\n",
        "Counter({'first_call-load_image': 1, 'last_call-kill_process': 1})\n",
        "Counter({'first_call-load_image': 1, 'last_call-open_process': 1})\n",
        "Counter({'first_call-load_image': 1, 'last_call-thread': 1})\n",
        "Counter({'first_call-load_image': 1, 'last_call-load_dll': 1})\n",
        "Counter({'first_call-load_image': 1, 'last_call-kill_process': 1})"
       ]
      },
      {
       "output_type": "stream",
       "stream": "stdout",
       "text": [
        "\n",
        "Counter({'first_call-load_image': 1, 'last_call-load_dll': 1})\n",
        "Counter({'first_call-load_image': 1, 'last_call-enum_window': 1})\n",
        "Counter({'first_call-load_image': 1, 'last_call-thread': 1})\n",
        "Counter({'first_call-load_image': 1, 'last_call-kill_process': 1})"
       ]
      },
      {
       "output_type": "stream",
       "stream": "stdout",
       "text": [
        "\n",
        "Counter({'first_call-load_image': 1, 'last_call-load_dll': 1})\n",
        "Counter({'first_call-load_image': 1, 'last_call-kill_process': 1})\n",
        "Counter({'first_call-load_image': 1, 'last_call-enum_window': 1})\n",
        "Counter({'first_call-load_image': 1, 'last_call-thread': 1})\n",
        "Counter({'first_call-load_image': 1, 'last_call-thread': 1})\n",
        "Counter({'first_call-load_image': 1, 'last_call-load_dll': 1})"
       ]
      },
      {
       "output_type": "stream",
       "stream": "stdout",
       "text": [
        "\n",
        "Counter({'first_call-load_image': 1, 'last_call-load_dll': 1})\n",
        "Counter({'first_call-load_image': 1, 'last_call-thread': 1})\n",
        "Counter({'first_call-load_image': 1, 'last_call-load_dll': 1})"
       ]
      },
      {
       "output_type": "stream",
       "stream": "stdout",
       "text": [
        "\n",
        "Counter({'first_call-load_image': 1, 'last_call-thread': 1})"
       ]
      },
      {
       "output_type": "stream",
       "stream": "stdout",
       "text": [
        "\n",
        "Counter({'first_call-load_image': 1, 'last_call-thread': 1})\n",
        "Counter({'first_call-load_image': 1, 'last_call-thread': 1})"
       ]
      },
      {
       "output_type": "stream",
       "stream": "stdout",
       "text": [
        "\n",
        "Counter({'first_call-load_image': 1, 'last_call-thread': 1})\n",
        "Counter({'first_call-load_image': 1, 'last_call-kill_process': 1})\n",
        "Counter({'first_call-load_image': 1, 'last_call-enum_window': 1})\n",
        "Counter({'first_call-load_image': 1, 'last_call-process': 1})\n",
        "Counter({'first_call-load_image': 1, 'last_call-thread': 1})\n",
        "Counter({'first_call-load_image': 1, 'last_call-load_dll': 1})"
       ]
      },
      {
       "output_type": "stream",
       "stream": "stdout",
       "text": [
        "\n",
        "Counter({'first_call-load_image': 1, 'last_call-thread': 1})\n",
        "Counter({'first_call-load_image': 1, 'last_call-thread': 1})\n",
        "Counter({'first_call-load_image': 1, 'last_call-enum_window': 1})\n",
        "Counter({'first_call-load_image': 1, 'last_call-thread': 1})"
       ]
      },
      {
       "output_type": "stream",
       "stream": "stdout",
       "text": [
        "\n",
        "Counter({'first_call-load_image': 1, 'last_call-enum_window': 1})\n",
        "Counter({'first_call-load_image': 1, 'last_call-enum_window': 1})\n",
        "Counter({'first_call-load_image': 1, 'last_call-kill_process': 1})\n",
        "Counter({'first_call-load_image': 1, 'last_call-process': 1})\n",
        "Counter({'first_call-load_image': 1, 'last_call-process': 1})"
       ]
      },
      {
       "output_type": "stream",
       "stream": "stdout",
       "text": [
        "\n",
        "Counter({'first_call-load_image': 1, 'last_call-thread': 1})\n",
        "Counter({'first_call-load_image': 1, 'last_call-kill_process': 1})\n",
        "Counter({'first_call-load_image': 1, 'last_call-thread': 1})"
       ]
      },
      {
       "output_type": "stream",
       "stream": "stdout",
       "text": [
        "\n",
        "Counter({'first_call-load_image': 1, 'last_call-enum_window': 1})\n",
        "Counter({'first_call-load_image': 1, 'last_call-kill_process': 1})\n",
        "Counter({'first_call-load_image': 1, 'last_call-enum_window': 1})\n",
        "Counter({'first_call-load_image': 1, 'last_call-sleep': 1})"
       ]
      },
      {
       "output_type": "stream",
       "stream": "stdout",
       "text": [
        "\n",
        "Counter({'first_call-load_image': 1, 'last_call-thread': 1})"
       ]
      },
      {
       "output_type": "stream",
       "stream": "stdout",
       "text": [
        "\n",
        "Counter({'first_call-load_image': 1, 'last_call-thread': 1})"
       ]
      },
      {
       "output_type": "stream",
       "stream": "stdout",
       "text": [
        "\n",
        "Counter({'first_call-load_image': 1, 'last_call-thread': 1})"
       ]
      },
      {
       "output_type": "stream",
       "stream": "stdout",
       "text": [
        "\n",
        "Counter({'first_call-load_image': 1, 'last_call-enum_window': 1})\n",
        "Counter({'first_call-load_image': 1, 'last_call-thread': 1})"
       ]
      },
      {
       "output_type": "stream",
       "stream": "stdout",
       "text": [
        "\n",
        "Counter({'first_call-load_image': 1, 'last_call-kill_process': 1})"
       ]
      },
      {
       "output_type": "stream",
       "stream": "stdout",
       "text": [
        "\n",
        "Counter({'first_call-load_image': 1, 'last_call-enum_window': 1})\n",
        "Counter({'first_call-load_image': 1, 'last_call-open_process': 1})\n",
        "Counter({'first_call-load_image': 1, 'last_call-enum_window': 1})\n",
        "Counter({'first_call-load_image': 1, 'last_call-thread': 1})"
       ]
      },
      {
       "output_type": "stream",
       "stream": "stdout",
       "text": [
        "\n",
        "Counter({'first_call-load_image': 1, 'last_call-kill_process': 1})"
       ]
      },
      {
       "output_type": "stream",
       "stream": "stdout",
       "text": [
        "\n",
        "Counter({'first_call-load_image': 1, 'last_call-kill_process': 1})\n",
        "Counter({'first_call-load_image': 1, 'last_call-kill_process': 1})\n",
        "Counter({'first_call-load_image': 1, 'last_call-load_dll': 1})"
       ]
      },
      {
       "output_type": "stream",
       "stream": "stdout",
       "text": [
        "\n",
        "Counter({'first_call-load_image': 1, 'last_call-process': 1})"
       ]
      },
      {
       "output_type": "stream",
       "stream": "stdout",
       "text": [
        "\n",
        "Counter({'first_call-load_image': 1, 'last_call-kill_process': 1})\n",
        "Counter({'first_call-load_image': 1, 'last_call-kill_process': 1})\n",
        "Counter({'first_call-load_image': 1, 'last_call-thread': 1})"
       ]
      },
      {
       "output_type": "stream",
       "stream": "stdout",
       "text": [
        "\n",
        "Counter({'first_call-load_image': 1, 'last_call-thread': 1})"
       ]
      },
      {
       "output_type": "stream",
       "stream": "stdout",
       "text": [
        "\n",
        "Counter({'first_call-load_image': 1, 'last_call-open_file': 1})\n",
        "Counter({'first_call-load_image': 1, 'last_call-kill_process': 1})\n",
        "Counter({'first_call-load_image': 1, 'last_call-thread': 1})\n",
        "Counter({'first_call-load_image': 1, 'last_call-kill_process': 1})\n",
        "Counter({'first_call-load_image': 1, 'last_call-process': 1})"
       ]
      },
      {
       "output_type": "stream",
       "stream": "stdout",
       "text": [
        "\n",
        "Counter({'first_call-load_image': 1, 'last_call-kill_process': 1})\n",
        "Counter({'first_call-load_image': 1, 'last_call-process': 1})\n",
        "Counter({'first_call-load_image': 1, 'last_call-thread': 1})\n",
        "Counter({'first_call-load_image': 1, 'last_call-load_dll': 1})"
       ]
      },
      {
       "output_type": "stream",
       "stream": "stdout",
       "text": [
        "\n",
        "Counter({'first_call-load_image': 1, 'last_call-process': 1})\n",
        "Counter({'first_call-load_image': 1, 'last_call-process': 1})\n",
        "Counter({'first_call-load_image': 1, 'last_call-enum_window': 1})\n",
        "Counter({'first_call-load_image': 1, 'last_call-load_dll': 1})\n",
        "Counter({'first_call-load_image': 1, 'last_call-enum_window': 1})\n",
        "Counter({'first_call-load_image': 1, 'last_call-process': 1})"
       ]
      },
      {
       "output_type": "stream",
       "stream": "stdout",
       "text": [
        "\n",
        "Counter({'first_call-load_image': 1, 'last_call-thread': 1})\n",
        "Counter({'first_call-load_image': 1, 'last_call-kill_process': 1})\n",
        "Counter({'first_call-load_image': 1, 'last_call-enum_window': 1})"
       ]
      },
      {
       "output_type": "stream",
       "stream": "stdout",
       "text": [
        "\n",
        "Counter({'first_call-load_image': 1, 'last_call-enum_window': 1})"
       ]
      },
      {
       "output_type": "stream",
       "stream": "stdout",
       "text": [
        "\n",
        "Counter({'first_call-load_image': 1, 'last_call-thread': 1})"
       ]
      },
      {
       "output_type": "stream",
       "stream": "stdout",
       "text": [
        "\n",
        "Counter({'first_call-load_image': 1, 'last_call-enum_window': 1})"
       ]
      },
      {
       "output_type": "stream",
       "stream": "stdout",
       "text": [
        "\n",
        "Counter({'first_call-load_image': 1, 'last_call-sleep': 1})\n",
        "Counter({'first_call-load_image': 1, 'last_call-enum_window': 1})\n",
        "Counter({'first_call-load_image': 1, 'last_call-thread': 1})"
       ]
      },
      {
       "output_type": "stream",
       "stream": "stdout",
       "text": [
        "\n",
        "Counter({'first_call-load_image': 1, 'last_call-thread': 1})"
       ]
      },
      {
       "output_type": "stream",
       "stream": "stdout",
       "text": [
        "\n",
        "Counter({'first_call-load_image': 1, 'last_call-kill_process': 1})\n",
        "Counter({'first_call-load_image': 1, 'last_call-thread': 1})"
       ]
      },
      {
       "output_type": "stream",
       "stream": "stdout",
       "text": [
        "\n",
        "Counter({'first_call-load_image': 1, 'last_call-enum_window': 1})"
       ]
      },
      {
       "output_type": "stream",
       "stream": "stdout",
       "text": [
        "\n",
        "Counter({'first_call-load_image': 1, 'last_call-kill_process': 1})\n",
        "Counter({'first_call-load_image': 1, 'last_call-enum_window': 1})\n",
        "Counter({'first_call-load_image': 1, 'last_call-kill_process': 1})\n",
        "Counter({'first_call-load_image': 1, 'last_call-thread': 1})\n",
        "Counter({'first_call-load_image': 1, 'last_call-kill_process': 1})\n",
        "Counter({'first_call-load_image': 1, 'last_call-thread': 1})\n",
        "Counter({'first_call-load_image': 1, 'last_call-enum_window': 1})\n",
        "Counter({'first_call-load_image': 1, 'last_call-thread': 1})"
       ]
      },
      {
       "output_type": "stream",
       "stream": "stdout",
       "text": [
        "\n",
        "Counter({'first_call-load_image': 1, 'last_call-process': 1})\n",
        "Counter({'first_call-load_image': 1, 'last_call-thread': 1})"
       ]
      },
      {
       "output_type": "stream",
       "stream": "stdout",
       "text": [
        "\n",
        "Counter({'first_call-load_image': 1, 'last_call-thread': 1})"
       ]
      },
      {
       "output_type": "stream",
       "stream": "stdout",
       "text": [
        "\n",
        "Counter({'first_call-load_image': 1, 'last_call-kill_process': 1})\n",
        "Counter({'first_call-load_image': 1, 'last_call-thread': 1})"
       ]
      },
      {
       "output_type": "stream",
       "stream": "stdout",
       "text": [
        "\n",
        "Counter({'first_call-load_image': 1, 'last_call-kill_process': 1})"
       ]
      },
      {
       "output_type": "stream",
       "stream": "stdout",
       "text": [
        "\n",
        "Counter({'first_call-load_image': 1, 'last_call-process': 1})\n",
        "Counter({'first_call-load_image': 1, 'last_call-thread': 1})\n",
        "Counter({'first_call-load_image': 1, 'last_call-thread': 1})\n",
        "Counter({'first_call-load_image': 1, 'last_call-process': 1})"
       ]
      },
      {
       "output_type": "stream",
       "stream": "stdout",
       "text": [
        "\n",
        "Counter({'first_call-load_image': 1, 'last_call-enum_window': 1})\n",
        "Counter({'first_call-load_image': 1, 'last_call-thread': 1})"
       ]
      },
      {
       "output_type": "stream",
       "stream": "stdout",
       "text": [
        "\n",
        "Counter({'first_call-load_image': 1, 'last_call-thread': 1})"
       ]
      },
      {
       "output_type": "stream",
       "stream": "stdout",
       "text": [
        "\n",
        "Counter({'first_call-load_image': 1, 'last_call-kill_process': 1})\n",
        "Counter({'first_call-load_image': 1, 'last_call-thread': 1})\n",
        "Counter({'first_call-load_image': 1, 'last_call-thread': 1})"
       ]
      },
      {
       "output_type": "stream",
       "stream": "stdout",
       "text": [
        "\n",
        "Counter({'first_call-load_image': 1, 'last_call-kill_process': 1})\n",
        "Counter({'first_call-load_image': 1, 'last_call-thread': 1})\n",
        "Counter({'first_call-load_image': 1, 'last_call-load_dll': 1})"
       ]
      },
      {
       "output_type": "stream",
       "stream": "stdout",
       "text": [
        "\n",
        "Counter({'first_call-load_image': 1, 'last_call-thread': 1})\n",
        "Counter({'first_call-load_image': 1, 'last_call-enum_window': 1})"
       ]
      },
      {
       "output_type": "stream",
       "stream": "stdout",
       "text": [
        "\n",
        "Counter({'first_call-load_image': 1, 'last_call-thread': 1})"
       ]
      },
      {
       "output_type": "stream",
       "stream": "stdout",
       "text": [
        "\n",
        "Counter({'first_call-load_image': 1, 'last_call-kill_process': 1})\n",
        "Counter({'first_call-load_image': 1, 'last_call-thread': 1})\n",
        "Counter({'first_call-load_image': 1, 'last_call-kill_process': 1})\n",
        "Counter({'first_call-load_image': 1, 'last_call-thread': 1})"
       ]
      },
      {
       "output_type": "stream",
       "stream": "stdout",
       "text": [
        "\n",
        "Counter({'first_call-load_image': 1, 'last_call-thread': 1})"
       ]
      },
      {
       "output_type": "stream",
       "stream": "stdout",
       "text": [
        "\n",
        "Counter({'first_call-load_image': 1, 'last_call-thread': 1})"
       ]
      },
      {
       "output_type": "stream",
       "stream": "stdout",
       "text": [
        "\n",
        "Counter({'first_call-load_image': 1, 'last_call-kill_process': 1})\n",
        "Counter({'first_call-load_image': 1, 'last_call-thread': 1})\n",
        "Counter({'first_call-load_image': 1, 'last_call-thread': 1})\n",
        "Counter({'first_call-load_image': 1, 'last_call-thread': 1})"
       ]
      },
      {
       "output_type": "stream",
       "stream": "stdout",
       "text": [
        "\n",
        "Counter({'first_call-load_image': 1, 'last_call-thread': 1})\n",
        "Counter({'first_call-load_image': 1, 'last_call-thread': 1})\n",
        "Counter({'first_call-load_image': 1, 'last_call-kill_process': 1})"
       ]
      },
      {
       "output_type": "stream",
       "stream": "stdout",
       "text": [
        "\n",
        "Counter({'first_call-load_image': 1, 'last_call-load_dll': 1})\n",
        "Counter({'first_call-load_image': 1, 'last_call-enum_window': 1})\n",
        "Counter({'first_call-load_image': 1, 'last_call-kill_process': 1})\n",
        "Counter({'first_call-load_image': 1, 'last_call-kill_process': 1})\n",
        "Counter({'first_call-load_image': 1, 'last_call-enum_window': 1})"
       ]
      },
      {
       "output_type": "stream",
       "stream": "stdout",
       "text": [
        "\n",
        "Counter({'first_call-load_image': 1, 'last_call-thread': 1})"
       ]
      },
      {
       "output_type": "stream",
       "stream": "stdout",
       "text": [
        "\n",
        "Counter({'first_call-load_image': 1, 'last_call-enum_window': 1})\n",
        "Counter({'first_call-load_image': 1, 'last_call-process': 1})\n",
        "Counter({'first_call-load_image': 1, 'last_call-process': 1})\n",
        "Counter({'first_call-load_image': 1, 'last_call-thread': 1})"
       ]
      },
      {
       "output_type": "stream",
       "stream": "stdout",
       "text": [
        "\n",
        "Counter({'first_call-load_image': 1, 'last_call-process': 1})"
       ]
      },
      {
       "output_type": "stream",
       "stream": "stdout",
       "text": [
        "\n",
        "Counter({'first_call-load_image': 1, 'last_call-thread': 1})"
       ]
      },
      {
       "output_type": "stream",
       "stream": "stdout",
       "text": [
        "\n",
        "Counter({'first_call-load_image': 1, 'last_call-thread': 1})"
       ]
      },
      {
       "output_type": "stream",
       "stream": "stdout",
       "text": [
        "\n",
        "Counter({'first_call-load_image': 1, 'last_call-thread': 1})"
       ]
      },
      {
       "output_type": "stream",
       "stream": "stdout",
       "text": [
        "\n",
        "Counter({'first_call-load_image': 1, 'last_call-kill_process': 1})"
       ]
      },
      {
       "output_type": "stream",
       "stream": "stdout",
       "text": [
        "\n",
        "Counter({'first_call-load_image': 1, 'last_call-sleep': 1})\n",
        "Counter({'first_call-load_image': 1, 'last_call-enum_window': 1})\n",
        "Counter({'first_call-load_image': 1, 'last_call-thread': 1})\n",
        "Counter({'first_call-load_image': 1, 'last_call-kill_process': 1})"
       ]
      },
      {
       "output_type": "stream",
       "stream": "stdout",
       "text": [
        "\n",
        "Counter({'first_call-load_image': 1, 'last_call-kill_process': 1})\n",
        "Counter({'first_call-load_image': 1, 'last_call-kill_process': 1})\n",
        "Counter({'first_call-load_image': 1, 'last_call-kill_process': 1})\n",
        "Counter({'first_call-load_image': 1, 'last_call-thread': 1})\n",
        "Counter({'first_call-load_image': 1, 'last_call-kill_process': 1})\n",
        "Counter({'first_call-load_image': 1, 'last_call-enum_window': 1})"
       ]
      },
      {
       "output_type": "stream",
       "stream": "stdout",
       "text": [
        "\n",
        "Counter({'first_call-load_image': 1, 'last_call-thread': 1})\n",
        "Counter({'first_call-load_image': 1, 'last_call-thread': 1})\n",
        "Counter({'first_call-load_image': 1, 'last_call-load_dll': 1})"
       ]
      },
      {
       "output_type": "stream",
       "stream": "stdout",
       "text": [
        "\n",
        "Counter({'first_call-load_image': 1, 'last_call-thread': 1})\n",
        "Counter({'first_call-load_image': 1, 'last_call-thread': 1})\n",
        "Counter({'first_call-load_image': 1, 'last_call-thread': 1})"
       ]
      },
      {
       "output_type": "stream",
       "stream": "stdout",
       "text": [
        "\n",
        "Counter({'first_call-load_image': 1, 'last_call-load_dll': 1})"
       ]
      },
      {
       "output_type": "stream",
       "stream": "stdout",
       "text": [
        "\n",
        "Counter({'first_call-load_image': 1, 'last_call-kill_process': 1})\n",
        "Counter({'first_call-load_image': 1, 'last_call-kill_process': 1})\n",
        "Counter({'first_call-load_image': 1, 'last_call-thread': 1})"
       ]
      },
      {
       "output_type": "stream",
       "stream": "stdout",
       "text": [
        "\n",
        "Counter({'first_call-load_image': 1, 'last_call-load_dll': 1})"
       ]
      },
      {
       "output_type": "stream",
       "stream": "stdout",
       "text": [
        "\n",
        "Counter({'first_call-load_image': 1, 'last_call-kill_process': 1})\n",
        "Counter({'first_call-load_image': 1, 'last_call-thread': 1})\n",
        "Counter({'first_call-load_image': 1, 'last_call-thread': 1})"
       ]
      },
      {
       "output_type": "stream",
       "stream": "stdout",
       "text": [
        "\n",
        "Counter({'first_call-load_image': 1, 'last_call-check_for_debugger': 1})"
       ]
      },
      {
       "output_type": "stream",
       "stream": "stdout",
       "text": [
        "\n",
        "Counter({'first_call-load_image': 1, 'last_call-process': 1})\n",
        "Counter({'first_call-load_image': 1, 'last_call-kill_process': 1})\n",
        "Counter({'first_call-load_image': 1, 'last_call-kill_process': 1})"
       ]
      },
      {
       "output_type": "stream",
       "stream": "stdout",
       "text": [
        "\n",
        "Counter({'first_call-load_image': 1, 'last_call-kill_process': 1})\n",
        "Counter({'first_call-load_image': 1, 'last_call-sleep': 1})"
       ]
      },
      {
       "output_type": "stream",
       "stream": "stdout",
       "text": [
        "\n",
        "Counter({'first_call-load_image': 1, 'last_call-thread': 1})"
       ]
      },
      {
       "output_type": "stream",
       "stream": "stdout",
       "text": [
        "\n",
        "Counter({'first_call-load_image': 1, 'last_call-kill_process': 1})\n",
        "Counter({'first_call-load_image': 1, 'last_call-load_dll': 1})\n",
        "Counter({'first_call-load_image': 1, 'last_call-kill_process': 1})"
       ]
      },
      {
       "output_type": "stream",
       "stream": "stdout",
       "text": [
        "\n",
        "Counter({'first_call-load_image': 1, 'last_call-enum_window': 1})\n",
        "Counter({'first_call-load_image': 1, 'last_call-thread': 1})\n",
        "Counter({'first_call-load_image': 1, 'last_call-kill_process': 1})\n",
        "Counter({'first_call-load_image': 1, 'last_call-thread': 1})\n",
        "Counter({'first_call-load_image': 1, 'last_call-thread': 1})\n",
        "Counter({'first_call-load_image': 1, 'last_call-kill_process': 1})"
       ]
      },
      {
       "output_type": "stream",
       "stream": "stdout",
       "text": [
        "\n",
        "Counter({'first_call-load_image': 1, 'last_call-kill_process': 1})\n",
        "Counter({'first_call-load_image': 1, 'last_call-thread': 1})\n",
        "Counter({'first_call-load_image': 1, 'last_call-create_thread': 1})\n",
        "Counter({'first_call-load_image': 1, 'last_call-thread': 1})\n",
        "Counter({'first_call-load_image': 1, 'last_call-thread': 1})"
       ]
      },
      {
       "output_type": "stream",
       "stream": "stdout",
       "text": [
        "\n",
        "Counter({'first_call-load_image': 1, 'last_call-thread': 1})"
       ]
      },
      {
       "output_type": "stream",
       "stream": "stdout",
       "text": [
        "\n",
        "Counter({'first_call-load_image': 1, 'last_call-enum_window': 1})"
       ]
      },
      {
       "output_type": "stream",
       "stream": "stdout",
       "text": [
        "\n",
        "Counter({'first_call-load_image': 1, 'last_call-enum_window': 1})\n",
        "Counter({'first_call-load_image': 1, 'last_call-open_process': 1})\n",
        "Counter({'first_call-load_image': 1, 'last_call-kill_process': 1})"
       ]
      },
      {
       "output_type": "stream",
       "stream": "stdout",
       "text": [
        "\n",
        "Counter({'first_call-load_image': 1, 'last_call-get_system_directory': 1})"
       ]
      },
      {
       "output_type": "stream",
       "stream": "stdout",
       "text": [
        "\n",
        "Counter({'first_call-load_image': 1, 'last_call-process': 1})\n",
        "Counter({'first_call-load_image': 1, 'last_call-load_dll': 1})\n",
        "Counter({'first_call-load_image': 1, 'last_call-thread': 1})"
       ]
      },
      {
       "output_type": "stream",
       "stream": "stdout",
       "text": [
        "\n",
        "Counter({'first_call-load_image': 1, 'last_call-thread': 1})\n",
        "Counter({'first_call-load_image': 1, 'last_call-load_dll': 1})\n",
        "Counter({'first_call-load_image': 1, 'last_call-thread': 1})"
       ]
      },
      {
       "output_type": "stream",
       "stream": "stdout",
       "text": [
        "\n",
        "Counter({'first_call-load_image': 1, 'last_call-enum_window': 1})"
       ]
      },
      {
       "output_type": "stream",
       "stream": "stdout",
       "text": [
        "\n",
        "Counter({'first_call-load_image': 1, 'last_call-dump_line': 1})\n",
        "Counter({'first_call-load_image': 1, 'last_call-thread': 1})\n",
        "Counter({'first_call-load_image': 1, 'last_call-thread': 1})\n",
        "Counter({'first_call-load_image': 1, 'last_call-kill_process': 1})"
       ]
      },
      {
       "output_type": "stream",
       "stream": "stdout",
       "text": [
        "\n",
        "Counter({'first_call-load_image': 1, 'last_call-enum_window': 1})"
       ]
      },
      {
       "output_type": "stream",
       "stream": "stdout",
       "text": [
        "\n",
        "Counter({'first_call-load_image': 1, 'last_call-thread': 1})"
       ]
      },
      {
       "output_type": "stream",
       "stream": "stdout",
       "text": [
        "\n",
        "Counter({'first_call-load_image': 1, 'last_call-process': 1})"
       ]
      },
      {
       "output_type": "stream",
       "stream": "stdout",
       "text": [
        "\n",
        "Counter({'first_call-load_image': 1, 'last_call-process': 1})\n",
        "Counter({'first_call-load_image': 1, 'last_call-load_dll': 1})"
       ]
      },
      {
       "output_type": "stream",
       "stream": "stdout",
       "text": [
        "\n",
        "Counter({'first_call-load_image': 1, 'last_call-enum_window': 1})\n",
        "Counter({'first_call-load_image': 1, 'last_call-process': 1})"
       ]
      },
      {
       "output_type": "stream",
       "stream": "stdout",
       "text": [
        "\n",
        "Counter({'first_call-load_image': 1, 'last_call-kill_process': 1})\n",
        "Counter({'first_call-load_image': 1, 'last_call-enum_window': 1})\n",
        "Counter({'first_call-load_image': 1, 'last_call-thread': 1})\n",
        "Counter({'first_call-load_image': 1, 'last_call-kill_process': 1})"
       ]
      },
      {
       "output_type": "stream",
       "stream": "stdout",
       "text": [
        "\n",
        "Counter({'first_call-load_image': 1, 'last_call-enum_window': 1})\n",
        "Counter({'first_call-load_image': 1, 'last_call-kill_process': 1})\n",
        "Counter({'first_call-load_image': 1, 'last_call-open_process': 1})\n",
        "Counter({'first_call-load_image': 1, 'last_call-enum_window': 1})\n",
        "Counter({'first_call-load_image': 1, 'last_call-thread': 1})"
       ]
      },
      {
       "output_type": "stream",
       "stream": "stdout",
       "text": [
        "\n",
        "Counter({'first_call-load_image': 1, 'last_call-enum_window': 1})"
       ]
      },
      {
       "output_type": "stream",
       "stream": "stdout",
       "text": [
        "\n",
        "Counter({'first_call-load_image': 1, 'last_call-load_dll': 1})\n",
        "Counter({'first_call-load_image': 1, 'last_call-enum_window': 1})\n",
        "Counter({'first_call-load_image': 1, 'last_call-check_for_debugger': 1})\n",
        "Counter({'first_call-load_image': 1, 'last_call-kill_process': 1})"
       ]
      },
      {
       "output_type": "stream",
       "stream": "stdout",
       "text": [
        "\n",
        "Counter({'first_call-load_image': 1, 'last_call-thread': 1})\n",
        "Counter({'first_call-load_image': 1, 'last_call-thread': 1})\n",
        "Counter({'first_call-load_image': 1, 'last_call-thread': 1})"
       ]
      },
      {
       "output_type": "stream",
       "stream": "stdout",
       "text": [
        "\n",
        "Counter({'first_call-load_image': 1, 'last_call-thread': 1})"
       ]
      },
      {
       "output_type": "stream",
       "stream": "stdout",
       "text": [
        "\n",
        "Counter({'first_call-load_image': 1, 'last_call-enum_window': 1})"
       ]
      },
      {
       "output_type": "stream",
       "stream": "stdout",
       "text": [
        "\n",
        "Counter({'first_call-load_image': 1, 'last_call-thread': 1})"
       ]
      },
      {
       "output_type": "stream",
       "stream": "stdout",
       "text": [
        "\n",
        "Counter({'first_call-load_image': 1, 'last_call-thread': 1})"
       ]
      },
      {
       "output_type": "stream",
       "stream": "stdout",
       "text": [
        "\n",
        "Counter({'first_call-load_image': 1, 'last_call-thread': 1})"
       ]
      },
      {
       "output_type": "stream",
       "stream": "stdout",
       "text": [
        "\n",
        "Counter({'first_call-load_image': 1, 'last_call-load_dll': 1})\n",
        "Counter({'first_call-load_image': 1, 'last_call-process': 1})\n",
        "Counter({'first_call-load_image': 1, 'last_call-thread': 1})"
       ]
      },
      {
       "output_type": "stream",
       "stream": "stdout",
       "text": [
        "\n",
        "Counter({'first_call-load_image': 1, 'last_call-dump_line': 1})\n",
        "Counter({'first_call-load_image': 1, 'last_call-kill_process': 1})\n",
        "Counter({'first_call-load_image': 1, 'last_call-enum_window': 1})"
       ]
      },
      {
       "output_type": "stream",
       "stream": "stdout",
       "text": [
        "\n",
        "Counter({'first_call-load_image': 1, 'last_call-kill_process': 1})\n",
        "Counter({'first_call-load_image': 1, 'last_call-kill_process': 1})\n",
        "Counter({'first_call-load_image': 1, 'last_call-enum_window': 1})\n",
        "Counter({'first_call-load_image': 1, 'last_call-thread': 1})"
       ]
      },
      {
       "output_type": "stream",
       "stream": "stdout",
       "text": [
        "\n",
        "Counter({'first_call-load_image': 1, 'last_call-thread': 1})"
       ]
      },
      {
       "output_type": "stream",
       "stream": "stdout",
       "text": [
        "\n",
        "Counter({'first_call-load_image': 1, 'last_call-kill_process': 1})\n",
        "Counter({'first_call-load_image': 1, 'last_call-process': 1})\n",
        "Counter({'first_call-load_image': 1, 'last_call-thread': 1})\n",
        "Counter({'first_call-load_image': 1, 'last_call-enum_window': 1})"
       ]
      },
      {
       "output_type": "stream",
       "stream": "stdout",
       "text": [
        "\n",
        "Counter({'first_call-load_image': 1, 'last_call-kill_process': 1})\n",
        "Counter({'first_call-load_image': 1, 'last_call-thread': 1})\n",
        "Counter({'first_call-load_image': 1, 'last_call-kill_process': 1})\n",
        "Counter({'first_call-load_image': 1, 'last_call-enum_window': 1})"
       ]
      },
      {
       "output_type": "stream",
       "stream": "stdout",
       "text": [
        "\n",
        "Counter({'first_call-load_image': 1, 'last_call-thread': 1})"
       ]
      },
      {
       "output_type": "stream",
       "stream": "stdout",
       "text": [
        "\n",
        "Counter({'first_call-load_image': 1, 'last_call-kill_process': 1})"
       ]
      },
      {
       "output_type": "stream",
       "stream": "stdout",
       "text": [
        "\n",
        "Counter({'first_call-load_image': 1, 'last_call-kill_process': 1})\n",
        "Counter({'first_call-load_image': 1, 'last_call-thread': 1})\n",
        "Counter({'first_call-load_image': 1, 'last_call-enum_window': 1})\n",
        "Counter({'first_call-load_image': 1, 'last_call-thread': 1})"
       ]
      },
      {
       "output_type": "stream",
       "stream": "stdout",
       "text": [
        "\n",
        "Counter({'first_call-load_image': 1, 'last_call-thread': 1})"
       ]
      },
      {
       "output_type": "stream",
       "stream": "stdout",
       "text": [
        "\n",
        "Counter({'first_call-load_image': 1, 'last_call-enum_window': 1})\n",
        "Counter({'first_call-load_image': 1, 'last_call-thread': 1})"
       ]
      },
      {
       "output_type": "stream",
       "stream": "stdout",
       "text": [
        "\n",
        "Counter({'first_call-load_image': 1, 'last_call-create_mutex': 1})"
       ]
      },
      {
       "output_type": "stream",
       "stream": "stdout",
       "text": [
        "\n",
        "Counter({'first_call-load_image': 1, 'last_call-process': 1})\n",
        "Counter({'first_call-load_image': 1, 'last_call-kill_process': 1})\n",
        "Counter({'first_call-load_image': 1, 'last_call-load_dll': 1})\n",
        "Counter({'first_call-load_image': 1, 'last_call-enum_window': 1})\n",
        "Counter({'first_call-load_image': 1, 'last_call-process': 1})\n",
        "Counter({'first_call-load_image': 1, 'last_call-load_dll': 1})"
       ]
      },
      {
       "output_type": "stream",
       "stream": "stdout",
       "text": [
        "\n",
        "Counter({'first_call-load_image': 1, 'last_call-kill_process': 1})\n",
        "Counter({'first_call-load_image': 1, 'last_call-kill_process': 1})\n",
        "Counter({'first_call-load_image': 1, 'last_call-enum_window': 1})\n",
        "Counter({'first_call-load_image': 1, 'last_call-thread': 1})\n",
        "Counter({'first_call-load_image': 1, 'last_call-thread': 1})\n",
        "Counter({'first_call-load_image': 1, 'last_call-thread': 1})"
       ]
      },
      {
       "output_type": "stream",
       "stream": "stdout",
       "text": [
        "\n",
        "Counter({'first_call-load_image': 1, 'last_call-enum_window': 1})\n",
        "Counter({'first_call-load_image': 1, 'last_call-thread': 1})\n",
        "Counter({'first_call-load_image': 1, 'last_call-load_dll': 1})\n",
        "Counter({'first_call-load_image': 1, 'last_call-sleep': 1})"
       ]
      },
      {
       "output_type": "stream",
       "stream": "stdout",
       "text": [
        "\n",
        "Counter({'first_call-load_image': 1, 'last_call-enum_window': 1})"
       ]
      },
      {
       "output_type": "stream",
       "stream": "stdout",
       "text": [
        "\n",
        "Counter({'first_call-load_image': 1, 'last_call-kill_process': 1})\n",
        "Counter({'first_call-load_image': 1, 'last_call-enum_window': 1})\n",
        "Counter({'first_call-load_image': 1, 'last_call-create_thread': 1})\n",
        "Counter({'first_call-load_image': 1, 'last_call-thread': 1})\n",
        "Counter({'first_call-load_image': 1, 'last_call-process': 1})"
       ]
      },
      {
       "output_type": "stream",
       "stream": "stdout",
       "text": [
        "\n",
        "Counter({'first_call-load_image': 1, 'last_call-enum_window': 1})\n",
        "Counter({'first_call-load_image': 1, 'last_call-enum_window': 1})\n",
        "Counter({'first_call-load_image': 1, 'last_call-thread': 1})\n",
        "Counter({'first_call-load_image': 1, 'last_call-check_for_debugger': 1})"
       ]
      },
      {
       "output_type": "stream",
       "stream": "stdout",
       "text": [
        "\n",
        "Counter({'first_call-load_image': 1, 'last_call-enum_window': 1})\n",
        "Counter({'first_call-load_image': 1, 'last_call-kill_process': 1})\n",
        "Counter({'first_call-load_image': 1, 'last_call-kill_process': 1})\n",
        "Counter({'first_call-load_image': 1, 'last_call-enum_window': 1})\n",
        "Counter({'first_call-load_image': 1, 'last_call-thread': 1})"
       ]
      },
      {
       "output_type": "stream",
       "stream": "stdout",
       "text": [
        "\n",
        "Counter({'first_call-load_image': 1, 'last_call-load_dll': 1})"
       ]
      },
      {
       "output_type": "stream",
       "stream": "stdout",
       "text": [
        "\n",
        "Counter({'first_call-load_image': 1, 'last_call-sleep': 1})"
       ]
      },
      {
       "output_type": "stream",
       "stream": "stdout",
       "text": [
        "\n",
        "Counter({'first_call-load_image': 1, 'last_call-get_system_directory': 1})"
       ]
      },
      {
       "output_type": "stream",
       "stream": "stdout",
       "text": [
        "\n",
        "Counter({'first_call-load_image': 1, 'last_call-thread': 1})\n",
        "Counter({'first_call-load_image': 1, 'last_call-kill_process': 1})\n",
        "Counter({'first_call-load_image': 1, 'last_call-load_dll': 1})\n",
        "Counter({'first_call-load_image': 1, 'last_call-thread': 1})"
       ]
      },
      {
       "output_type": "stream",
       "stream": "stdout",
       "text": [
        "\n",
        "Counter({'first_call-load_image': 1, 'last_call-thread': 1})"
       ]
      },
      {
       "output_type": "stream",
       "stream": "stdout",
       "text": [
        "\n",
        "Counter({'first_call-load_image': 1, 'last_call-thread': 1})"
       ]
      },
      {
       "output_type": "stream",
       "stream": "stdout",
       "text": [
        "\n",
        "Counter({'first_call-load_image': 1, 'last_call-process': 1})"
       ]
      },
      {
       "output_type": "stream",
       "stream": "stdout",
       "text": [
        "\n",
        "Counter({'first_call-load_image': 1, 'last_call-enum_window': 1})\n",
        "Counter({'first_call-load_image': 1, 'last_call-thread': 1})\n",
        "Counter({'first_call-load_image': 1, 'last_call-enum_window': 1})\n",
        "Counter({'first_call-load_image': 1, 'last_call-thread': 1})\n",
        "Counter({'first_call-load_image': 1, 'last_call-thread': 1})"
       ]
      },
      {
       "output_type": "stream",
       "stream": "stdout",
       "text": [
        "\n",
        "Counter({'first_call-load_image': 1, 'last_call-thread': 1})"
       ]
      },
      {
       "output_type": "stream",
       "stream": "stdout",
       "text": [
        "\n",
        "Counter({'first_call-load_image': 1, 'last_call-thread': 1})"
       ]
      },
      {
       "output_type": "stream",
       "stream": "stdout",
       "text": [
        "\n",
        "Counter({'first_call-load_image': 1, 'last_call-create_open_file': 1})\n",
        "Counter({'first_call-load_image': 1, 'last_call-kill_process': 1})\n",
        "Counter({'first_call-load_image': 1, 'last_call-kill_process': 1})\n",
        "Counter({'first_call-load_image': 1, 'last_call-enum_window': 1})"
       ]
      },
      {
       "output_type": "stream",
       "stream": "stdout",
       "text": [
        "\n",
        "Counter({'first_call-load_image': 1, 'last_call-thread': 1})\n",
        "Counter({'first_call-load_image': 1, 'last_call-thread': 1})\n",
        "Counter({'first_call-load_image': 1, 'last_call-create_thread': 1})"
       ]
      },
      {
       "output_type": "stream",
       "stream": "stdout",
       "text": [
        "\n",
        "Counter({'first_call-load_image': 1, 'last_call-enum_window': 1})\n",
        "Counter({'first_call-load_image': 1, 'last_call-load_dll': 1})\n",
        "Counter({'first_call-load_image': 1, 'last_call-kill_process': 1})\n",
        "Counter({'first_call-load_image': 1, 'last_call-enum_window': 1})\n",
        "Counter({'first_call-load_image': 1, 'last_call-kill_process': 1})\n",
        "Counter({'first_call-load_image': 1, 'last_call-thread': 1})"
       ]
      },
      {
       "output_type": "stream",
       "stream": "stdout",
       "text": [
        "\n",
        "Counter({'first_call-load_image': 1, 'last_call-thread': 1})\n",
        "Counter({'first_call-load_image': 1, 'last_call-thread': 1})\n",
        "Counter({'first_call-load_image': 1, 'last_call-kill_process': 1})"
       ]
      },
      {
       "output_type": "stream",
       "stream": "stdout",
       "text": [
        "\n",
        "Counter({'first_call-load_image': 1, 'last_call-thread': 1})\n",
        "Counter({'first_call-load_image': 1, 'last_call-process': 1})"
       ]
      },
      {
       "output_type": "stream",
       "stream": "stdout",
       "text": [
        "\n",
        "Counter({'first_call-load_image': 1, 'last_call-enum_window': 1})\n",
        "Counter({'first_call-load_image': 1, 'last_call-enum_window': 1})\n",
        "Counter({'first_call-load_image': 1, 'last_call-vm_protect': 1})"
       ]
      },
      {
       "output_type": "stream",
       "stream": "stdout",
       "text": [
        "\n",
        "Counter({'first_call-load_image': 1, 'last_call-thread': 1})"
       ]
      },
      {
       "output_type": "stream",
       "stream": "stdout",
       "text": [
        "\n",
        "Counter({'first_call-load_image': 1, 'last_call-load_dll': 1})\n",
        "Counter({'first_call-load_image': 1, 'last_call-thread': 1})"
       ]
      },
      {
       "output_type": "stream",
       "stream": "stdout",
       "text": [
        "\n",
        "Counter({'first_call-load_image': 1, 'last_call-thread': 1})"
       ]
      },
      {
       "output_type": "stream",
       "stream": "stdout",
       "text": [
        "\n",
        "Counter({'first_call-load_image': 1, 'last_call-kill_process': 1})\n",
        "Counter({'first_call-load_image': 1, 'last_call-kill_process': 1})\n",
        "Counter({'first_call-load_image': 1, 'last_call-kill_process': 1})\n",
        "Counter({'first_call-load_image': 1, 'last_call-thread': 1})\n",
        "Counter({'first_call-load_image': 1, 'last_call-thread': 1})"
       ]
      },
      {
       "output_type": "stream",
       "stream": "stdout",
       "text": [
        "\n",
        "Counter({'first_call-load_image': 1, 'last_call-thread': 1})"
       ]
      },
      {
       "output_type": "stream",
       "stream": "stdout",
       "text": [
        "\n",
        "Counter({'first_call-load_image': 1, 'last_call-open_process': 1})\n",
        "Counter({'first_call-load_image': 1, 'last_call-read_value': 1})"
       ]
      },
      {
       "output_type": "stream",
       "stream": "stdout",
       "text": [
        "\n",
        "Counter({'first_call-load_image': 1, 'last_call-enum_window': 1})"
       ]
      },
      {
       "output_type": "stream",
       "stream": "stdout",
       "text": [
        "\n",
        "Counter({'first_call-load_image': 1, 'last_call-kill_process': 1})\n",
        "Counter({'first_call-load_image': 1, 'last_call-kill_process': 1})\n",
        "Counter({'first_call-load_image': 1, 'last_call-enum_window': 1})"
       ]
      },
      {
       "output_type": "stream",
       "stream": "stdout",
       "text": [
        "\n",
        "Counter({'first_call-load_image': 1, 'last_call-enum_window': 1})"
       ]
      },
      {
       "output_type": "stream",
       "stream": "stdout",
       "text": [
        "\n",
        "Counter({'first_call-load_image': 1, 'last_call-kill_process': 1})\n",
        "Counter({'first_call-load_image': 1, 'last_call-thread': 1})"
       ]
      },
      {
       "output_type": "stream",
       "stream": "stdout",
       "text": [
        "\n",
        "Counter({'first_call-load_image': 1, 'last_call-load_dll': 1})\n",
        "Counter({'first_call-load_image': 1, 'last_call-thread': 1})"
       ]
      },
      {
       "output_type": "stream",
       "stream": "stdout",
       "text": [
        "\n",
        "Counter({'first_call-load_image': 1, 'last_call-thread': 1})"
       ]
      },
      {
       "output_type": "stream",
       "stream": "stdout",
       "text": [
        "\n",
        "Counter({'first_call-load_image': 1, 'last_call-thread': 1})"
       ]
      },
      {
       "output_type": "stream",
       "stream": "stdout",
       "text": [
        "\n",
        "Counter({'first_call-load_image': 1, 'last_call-thread': 1})"
       ]
      },
      {
       "output_type": "stream",
       "stream": "stdout",
       "text": [
        "\n",
        "Counter({'first_call-load_image': 1, 'last_call-load_dll': 1})"
       ]
      },
      {
       "output_type": "stream",
       "stream": "stdout",
       "text": [
        "\n",
        "Counter({'first_call-load_image': 1, 'last_call-enum_window': 1})\n",
        "Counter({'first_call-load_image': 1, 'last_call-thread': 1})\n",
        "Counter({'first_call-load_image': 1, 'last_call-thread': 1})"
       ]
      },
      {
       "output_type": "stream",
       "stream": "stdout",
       "text": [
        "\n",
        "Counter({'first_call-load_image': 1, 'last_call-create_mutex': 1})"
       ]
      },
      {
       "output_type": "stream",
       "stream": "stdout",
       "text": [
        "\n",
        "Counter({'first_call-load_image': 1, 'last_call-sleep': 1})"
       ]
      },
      {
       "output_type": "stream",
       "stream": "stdout",
       "text": [
        "\n",
        "Counter({'first_call-load_image': 1, 'last_call-kill_process': 1})\n",
        "Counter({'first_call-load_image': 1, 'last_call-get_system_directory': 1})\n",
        "Counter({'first_call-load_image': 1, 'last_call-thread': 1})\n",
        "Counter({'first_call-load_image': 1, 'last_call-kill_process': 1})"
       ]
      },
      {
       "output_type": "stream",
       "stream": "stdout",
       "text": [
        "\n",
        "Counter({'first_call-load_image': 1, 'last_call-kill_process': 1})\n",
        "Counter({'first_call-load_image': 1, 'last_call-query_value': 1})"
       ]
      },
      {
       "output_type": "stream",
       "stream": "stdout",
       "text": [
        "\n",
        "Counter({'first_call-load_image': 1, 'last_call-enum_window': 1})\n",
        "Counter({'first_call-load_image': 1, 'last_call-thread': 1})\n",
        "Counter({'first_call-load_image': 1, 'last_call-thread': 1})\n",
        "Counter({'first_call-load_image': 1, 'last_call-process': 1})"
       ]
      },
      {
       "output_type": "stream",
       "stream": "stdout",
       "text": [
        "\n",
        "Counter({'first_call-load_image': 1, 'last_call-kill_process': 1})\n",
        "Counter({'first_call-load_image': 1, 'last_call-enum_window': 1})\n",
        "Counter({'first_call-load_image': 1, 'last_call-thread': 1})"
       ]
      },
      {
       "output_type": "stream",
       "stream": "stdout",
       "text": [
        "\n",
        "Counter({'first_call-load_image': 1, 'last_call-enum_window': 1})"
       ]
      },
      {
       "output_type": "stream",
       "stream": "stdout",
       "text": [
        "\n",
        "Counter({'first_call-load_image': 1, 'last_call-enum_window': 1})\n",
        "Counter({'first_call-load_image': 1, 'last_call-kill_process': 1})\n",
        "Counter({'first_call-load_image': 1, 'last_call-dump_line': 1})\n",
        "Counter({'first_call-load_image': 1, 'last_call-kill_process': 1})\n",
        "Counter({'first_call-load_image': 1, 'last_call-enum_window': 1})"
       ]
      },
      {
       "output_type": "stream",
       "stream": "stdout",
       "text": [
        "\n",
        "Counter({'first_call-load_image': 1, 'last_call-load_dll': 1})\n",
        "Counter({'first_call-load_image': 1, 'last_call-thread': 1})"
       ]
      },
      {
       "output_type": "stream",
       "stream": "stdout",
       "text": [
        "\n",
        "Counter({'first_call-load_image': 1, 'last_call-enum_window': 1})"
       ]
      },
      {
       "output_type": "stream",
       "stream": "stdout",
       "text": [
        "\n",
        "Counter({'first_call-load_image': 1, 'last_call-enum_window': 1})\n",
        "Counter({'first_call-load_image': 1, 'last_call-thread': 1})"
       ]
      },
      {
       "output_type": "stream",
       "stream": "stdout",
       "text": [
        "\n",
        "Counter({'first_call-load_image': 1, 'last_call-process': 1})"
       ]
      },
      {
       "output_type": "stream",
       "stream": "stdout",
       "text": [
        "\n",
        "Counter({'first_call-load_image': 1, 'last_call-thread': 1})\n",
        "Counter({'first_call-load_image': 1, 'last_call-thread': 1})\n",
        "Counter({'first_call-load_image': 1, 'last_call-enum_window': 1})\n",
        "Counter({'first_call-load_image': 1, 'last_call-thread': 1})\n",
        "Counter({'first_call-load_image': 1, 'last_call-enum_window': 1})\n",
        "Counter({'first_call-load_image': 1, 'last_call-enum_window': 1})\n",
        "Counter({'first_call-load_image': 1, 'last_call-thread': 1})"
       ]
      },
      {
       "output_type": "stream",
       "stream": "stdout",
       "text": [
        "\n",
        "Counter({'first_call-load_image': 1, 'last_call-enum_window': 1})\n",
        "Counter({'first_call-load_image': 1, 'last_call-thread': 1})\n",
        "Counter({'first_call-load_image': 1, 'last_call-thread': 1})"
       ]
      },
      {
       "output_type": "stream",
       "stream": "stdout",
       "text": [
        "\n",
        "Counter({'first_call-load_image': 1, 'last_call-thread': 1})"
       ]
      },
      {
       "output_type": "stream",
       "stream": "stdout",
       "text": [
        "\n",
        "Counter({'first_call-load_image': 1, 'last_call-load_dll': 1})"
       ]
      },
      {
       "output_type": "stream",
       "stream": "stdout",
       "text": [
        "\n",
        "Counter({'first_call-load_image': 1, 'last_call-enum_window': 1})\n",
        "Counter({'first_call-load_image': 1, 'last_call-enum_window': 1})\n",
        "Counter({'first_call-load_image': 1, 'last_call-enum_window': 1})\n",
        "Counter({'first_call-load_image': 1, 'last_call-open_process': 1})"
       ]
      },
      {
       "output_type": "stream",
       "stream": "stdout",
       "text": [
        "\n",
        "Counter({'first_call-load_image': 1, 'last_call-kill_process': 1})\n",
        "Counter({'first_call-load_image': 1, 'last_call-thread': 1})"
       ]
      },
      {
       "output_type": "stream",
       "stream": "stdout",
       "text": [
        "\n",
        "Counter({'first_call-load_image': 1, 'last_call-load_dll': 1})"
       ]
      },
      {
       "output_type": "stream",
       "stream": "stdout",
       "text": [
        "\n",
        "Counter({'first_call-load_image': 1, 'last_call-thread': 1})"
       ]
      },
      {
       "output_type": "stream",
       "stream": "stdout",
       "text": [
        "\n",
        "Counter({'first_call-load_image': 1, 'last_call-thread': 1})"
       ]
      },
      {
       "output_type": "stream",
       "stream": "stdout",
       "text": [
        "\n",
        "Counter({'first_call-load_image': 1, 'last_call-enum_window': 1})"
       ]
      },
      {
       "output_type": "stream",
       "stream": "stdout",
       "text": [
        "\n",
        "Counter({'first_call-load_image': 1, 'last_call-kill_process': 1})\n",
        "Counter({'first_call-load_image': 1, 'last_call-thread': 1})"
       ]
      },
      {
       "output_type": "stream",
       "stream": "stdout",
       "text": [
        "\n",
        "Counter({'first_call-load_image': 1, 'last_call-enum_window': 1})\n",
        "Counter({'first_call-load_image': 1, 'last_call-thread': 1})\n",
        "Counter({'first_call-load_image': 1, 'last_call-thread': 1})\n",
        "Counter({'first_call-load_image': 1, 'last_call-thread': 1})\n",
        "Counter({'first_call-load_image': 1, 'last_call-enum_window': 1})\n",
        "Counter({'first_call-load_image': 1, 'last_call-kill_process': 1})\n",
        "Counter({'first_call-load_image': 1, 'last_call-load_dll': 1})"
       ]
      },
      {
       "output_type": "stream",
       "stream": "stdout",
       "text": [
        "\n",
        "Counter({'first_call-load_image': 1, 'last_call-thread': 1})\n",
        "Counter({'first_call-load_image': 1, 'last_call-thread': 1})\n",
        "Counter({'first_call-load_image': 1, 'last_call-thread': 1})\n",
        "Counter({'first_call-load_image': 1, 'last_call-thread': 1})"
       ]
      },
      {
       "output_type": "stream",
       "stream": "stdout",
       "text": [
        "\n",
        "Counter({'first_call-load_image': 1, 'last_call-enum_window': 1})\n",
        "Counter({'first_call-load_image': 1, 'last_call-sleep': 1})"
       ]
      },
      {
       "output_type": "stream",
       "stream": "stdout",
       "text": [
        "\n",
        "Counter({'first_call-load_image': 1, 'last_call-thread': 1})\n",
        "Counter({'first_call-load_image': 1, 'last_call-enum_window': 1})\n",
        "Counter({'first_call-load_image': 1, 'last_call-thread': 1})\n",
        "Counter({'first_call-load_image': 1, 'last_call-thread': 1})\n",
        "Counter({'first_call-load_image': 1, 'last_call-kill_process': 1})\n",
        "Counter({'first_call-load_image': 1, 'last_call-kill_process': 1})"
       ]
      },
      {
       "output_type": "stream",
       "stream": "stdout",
       "text": [
        "\n",
        "Counter({'first_call-load_image': 1, 'last_call-thread': 1})\n",
        "Counter({'first_call-load_image': 1, 'last_call-process': 1})\n",
        "Counter({'first_call-load_image': 1, 'last_call-sleep': 1})"
       ]
      },
      {
       "output_type": "stream",
       "stream": "stdout",
       "text": [
        "\n",
        "Counter({'first_call-load_image': 1, 'last_call-thread': 1})"
       ]
      },
      {
       "output_type": "stream",
       "stream": "stdout",
       "text": [
        "\n",
        "Counter({'first_call-load_image': 1, 'last_call-enum_window': 1})"
       ]
      },
      {
       "output_type": "stream",
       "stream": "stdout",
       "text": [
        "\n",
        "Counter({'first_call-load_image': 1, 'last_call-thread': 1})"
       ]
      },
      {
       "output_type": "stream",
       "stream": "stdout",
       "text": [
        "\n",
        "Counter({'first_call-load_image': 1, 'last_call-thread': 1})\n",
        "Counter({'first_call-load_image': 1, 'last_call-enum_window': 1})\n",
        "Counter({'first_call-load_image': 1, 'last_call-enum_window': 1})\n",
        "Counter({'first_call-load_image': 1, 'last_call-enum_window': 1})\n",
        "Counter({'first_call-load_image': 1, 'last_call-set_windows_hook': 1})\n",
        "Counter({'first_call-load_image': 1, 'last_call-get_system_directory': 1})\n",
        "Counter({'first_call-load_image': 1, 'last_call-kill_process': 1})\n",
        "Counter({'first_call-load_image': 1, 'last_call-kill_process': 1})"
       ]
      },
      {
       "output_type": "stream",
       "stream": "stdout",
       "text": [
        "\n",
        "Counter({'first_call-load_image': 1, 'last_call-process': 1})\n",
        "Counter({'first_call-load_image': 1, 'last_call-enum_window': 1})\n",
        "Counter({'first_call-load_image': 1, 'last_call-enum_window': 1})\n",
        "Counter({'first_call-load_image': 1, 'last_call-thread': 1})"
       ]
      },
      {
       "output_type": "stream",
       "stream": "stdout",
       "text": [
        "\n",
        "Counter({'first_call-load_image': 1, 'last_call-kill_process': 1})"
       ]
      },
      {
       "output_type": "stream",
       "stream": "stdout",
       "text": [
        "\n",
        "Counter({'first_call-load_image': 1, 'last_call-thread': 1})\n",
        "Counter({'first_call-load_image': 1, 'last_call-enum_window': 1})\n",
        "Counter({'first_call-load_image': 1, 'last_call-thread': 1})\n",
        "Counter({'first_call-load_image': 1, 'last_call-enum_window': 1})\n",
        "Counter({'first_call-load_image': 1, 'last_call-thread': 1})"
       ]
      },
      {
       "output_type": "stream",
       "stream": "stdout",
       "text": [
        "\n",
        "Counter({'first_call-load_image': 1, 'last_call-load_dll': 1})"
       ]
      },
      {
       "output_type": "stream",
       "stream": "stdout",
       "text": [
        "\n",
        "Counter({'first_call-load_image': 1, 'last_call-thread': 1})\n",
        "Counter({'first_call-load_image': 1, 'last_call-process': 1})\n",
        "Counter({'first_call-load_image': 1, 'last_call-thread': 1})"
       ]
      },
      {
       "output_type": "stream",
       "stream": "stdout",
       "text": [
        "\n",
        "Counter({'first_call-load_image': 1, 'last_call-open_process': 1})\n",
        "Counter({'first_call-load_image': 1, 'last_call-enum_window': 1})\n",
        "Counter({'first_call-load_image': 1, 'last_call-enum_window': 1})\n",
        "Counter({'first_call-load_image': 1, 'last_call-enum_window': 1})\n",
        "Counter({'first_call-load_image': 1, 'last_call-thread': 1})"
       ]
      },
      {
       "output_type": "stream",
       "stream": "stdout",
       "text": [
        "\n",
        "Counter({'first_call-load_image': 1, 'last_call-enum_window': 1})"
       ]
      },
      {
       "output_type": "stream",
       "stream": "stdout",
       "text": [
        "\n",
        "Counter({'first_call-load_image': 1, 'last_call-kill_process': 1})\n",
        "Counter({'first_call-load_image': 1, 'last_call-process': 1})"
       ]
      },
      {
       "output_type": "stream",
       "stream": "stdout",
       "text": [
        "\n",
        "Counter({'first_call-load_image': 1, 'last_call-thread': 1})"
       ]
      },
      {
       "output_type": "stream",
       "stream": "stdout",
       "text": [
        "\n",
        "Counter({'first_call-load_image': 1, 'last_call-thread': 1})"
       ]
      },
      {
       "output_type": "stream",
       "stream": "stdout",
       "text": [
        "\n",
        "Counter({'first_call-load_image': 1, 'last_call-kill_process': 1})\n",
        "Counter({'first_call-load_image': 1, 'last_call-load_dll': 1})\n",
        "Counter({'first_call-load_image': 1, 'last_call-thread': 1})"
       ]
      },
      {
       "output_type": "stream",
       "stream": "stdout",
       "text": [
        "\n",
        "Counter({'first_call-load_image': 1, 'last_call-kill_process': 1})"
       ]
      },
      {
       "output_type": "stream",
       "stream": "stdout",
       "text": [
        "\n",
        "Counter({'first_call-load_image': 1, 'last_call-kill_process': 1})\n",
        "Counter({'first_call-load_image': 1, 'last_call-enum_window': 1})\n",
        "Counter({'first_call-load_image': 1, 'last_call-kill_process': 1})\n",
        "Counter({'first_call-load_image': 1, 'last_call-read_value': 1})\n",
        "Counter({'first_call-load_image': 1, 'last_call-enum_window': 1})\n",
        "Counter({'first_call-load_image': 1, 'last_call-enum_window': 1})\n",
        "Counter({'first_call-load_image': 1, 'last_call-kill_process': 1})\n",
        "Counter({'first_call-load_image': 1, 'last_call-enum_window': 1})\n",
        "Counter({'first_call-load_image': 1, 'last_call-kill_process': 1})\n",
        "Counter({'first_call-load_image': 1, 'last_call-thread': 1})"
       ]
      },
      {
       "output_type": "stream",
       "stream": "stdout",
       "text": [
        "\n",
        "Counter({'first_call-load_image': 1, 'last_call-kill_process': 1})\n",
        "Counter({'first_call-load_image': 1, 'last_call-thread': 1})\n",
        "Counter({'first_call-load_image': 1, 'last_call-thread': 1})"
       ]
      },
      {
       "output_type": "stream",
       "stream": "stdout",
       "text": [
        "\n",
        "Counter({'first_call-load_image': 1, 'last_call-enum_window': 1})\n",
        "Counter({'first_call-load_image': 1, 'last_call-load_dll': 1})\n",
        "Counter({'first_call-load_image': 1, 'last_call-kill_process': 1})\n",
        "Counter({'last_call-create_window': 1, 'first_call-load_image': 1})"
       ]
      },
      {
       "output_type": "stream",
       "stream": "stdout",
       "text": [
        "\n",
        "Counter({'first_call-load_image': 1, 'last_call-thread': 1})\n",
        "Counter({'first_call-load_image': 1, 'last_call-kill_process': 1})\n",
        "Counter({'first_call-load_image': 1, 'last_call-kill_process': 1})\n",
        "Counter({'first_call-load_image': 1, 'last_call-enum_window': 1})\n",
        "Counter({'first_call-load_image': 1, 'last_call-kill_process': 1})\n",
        "Counter({'first_call-load_image': 1, 'last_call-process': 1})"
       ]
      },
      {
       "output_type": "stream",
       "stream": "stdout",
       "text": [
        "\n",
        "Counter({'first_call-load_image': 1, 'last_call-kill_process': 1})\n",
        "Counter({'first_call-load_image': 1, 'last_call-thread': 1})"
       ]
      },
      {
       "output_type": "stream",
       "stream": "stdout",
       "text": [
        "\n",
        "Counter({'first_call-load_image': 1, 'last_call-process': 1})"
       ]
      },
      {
       "output_type": "stream",
       "stream": "stdout",
       "text": [
        "\n",
        "Counter({'first_call-load_image': 1, 'last_call-set_value': 1})\n",
        "Counter({'first_call-load_image': 1, 'last_call-kill_process': 1})\n",
        "Counter({'first_call-load_image': 1, 'last_call-kill_process': 1})\n",
        "Counter({'first_call-load_image': 1, 'last_call-get_system_directory': 1})\n",
        "Counter({'first_call-load_image': 1, 'last_call-load_dll': 1})\n",
        "Counter({'first_call-load_image': 1, 'last_call-sleep': 1})"
       ]
      },
      {
       "output_type": "stream",
       "stream": "stdout",
       "text": [
        "\n",
        "Counter({'first_call-load_image': 1, 'last_call-thread': 1})"
       ]
      },
      {
       "output_type": "stream",
       "stream": "stdout",
       "text": [
        "\n",
        "Counter({'first_call-load_image': 1, 'last_call-kill_process': 1})\n",
        "Counter({'first_call-load_image': 1, 'last_call-process': 1})\n",
        "Counter({'first_call-load_image': 1, 'last_call-thread': 1})"
       ]
      },
      {
       "output_type": "stream",
       "stream": "stdout",
       "text": [
        "\n",
        "Counter({'first_call-load_image': 1, 'last_call-get_host_by_name': 1})"
       ]
      },
      {
       "output_type": "stream",
       "stream": "stdout",
       "text": [
        "\n",
        "Counter({'first_call-load_image': 1, 'last_call-enum_window': 1})"
       ]
      },
      {
       "output_type": "stream",
       "stream": "stdout",
       "text": [
        "\n",
        "Counter({'first_call-load_image': 1, 'last_call-enum_window': 1})\n",
        "Counter({'first_call-load_image': 1, 'last_call-enum_window': 1})\n",
        "Counter({'first_call-load_image': 1, 'last_call-thread': 1})"
       ]
      },
      {
       "output_type": "stream",
       "stream": "stdout",
       "text": [
        "\n",
        "Counter({'first_call-load_image': 1, 'last_call-thread': 1})\n",
        "Counter({'first_call-load_image': 1, 'last_call-enum_window': 1})\n",
        "Counter({'first_call-load_image': 1, 'last_call-enum_window': 1})\n",
        "Counter({'first_call-load_image': 1, 'last_call-thread': 1})\n",
        "Counter({'first_call-load_image': 1, 'last_call-kill_process': 1})"
       ]
      },
      {
       "output_type": "stream",
       "stream": "stdout",
       "text": [
        "\n",
        "Counter({'first_call-load_image': 1, 'last_call-thread': 1})"
       ]
      },
      {
       "output_type": "stream",
       "stream": "stdout",
       "text": [
        "\n",
        "Counter({'first_call-load_image': 1, 'last_call-load_dll': 1})"
       ]
      },
      {
       "output_type": "stream",
       "stream": "stdout",
       "text": [
        "\n",
        "Counter({'first_call-load_image': 1, 'last_call-enum_window': 1})\n",
        "Counter({'first_call-load_image': 1, 'last_call-thread': 1})\n",
        "Counter({'first_call-load_image': 1, 'last_call-thread': 1})\n",
        "Counter({'first_call-load_image': 1, 'last_call-thread': 1})"
       ]
      },
      {
       "output_type": "stream",
       "stream": "stdout",
       "text": [
        "\n",
        "Counter({'first_call-load_image': 1, 'last_call-kill_process': 1})"
       ]
      },
      {
       "output_type": "stream",
       "stream": "stdout",
       "text": [
        "\n",
        "Counter({'first_call-load_image': 1, 'last_call-enum_window': 1})"
       ]
      },
      {
       "output_type": "stream",
       "stream": "stdout",
       "text": [
        "\n",
        "Counter({'first_call-load_image': 1, 'last_call-enum_window': 1})\n",
        "Counter({'first_call-load_image': 1, 'last_call-thread': 1})"
       ]
      },
      {
       "output_type": "stream",
       "stream": "stdout",
       "text": [
        "\n",
        "Counter({'first_call-load_image': 1, 'last_call-kill_process': 1})"
       ]
      },
      {
       "output_type": "stream",
       "stream": "stdout",
       "text": [
        "\n",
        "Counter({'first_call-load_image': 1, 'last_call-kill_process': 1})\n",
        "Counter({'first_call-load_image': 1, 'last_call-enum_window': 1})\n",
        "Counter({'first_call-load_image': 1, 'last_call-thread': 1})"
       ]
      },
      {
       "output_type": "stream",
       "stream": "stdout",
       "text": [
        "\n",
        "Counter({'first_call-load_image': 1, 'last_call-thread': 1})\n",
        "Counter({'first_call-load_image': 1, 'last_call-thread': 1})\n",
        "Counter({'first_call-load_image': 1, 'last_call-load_dll': 1})\n",
        "Counter({'first_call-load_image': 1, 'last_call-thread': 1})"
       ]
      },
      {
       "output_type": "stream",
       "stream": "stdout",
       "text": [
        "\n",
        "Counter({'first_call-load_image': 1, 'last_call-thread': 1})\n",
        "Counter({'first_call-load_image': 1, 'last_call-enum_window': 1})"
       ]
      },
      {
       "output_type": "stream",
       "stream": "stdout",
       "text": [
        "\n",
        "Counter({'first_call-load_image': 1, 'last_call-kill_process': 1})"
       ]
      },
      {
       "output_type": "stream",
       "stream": "stdout",
       "text": [
        "\n",
        "Counter({'first_call-load_image': 1, 'last_call-kill_process': 1})\n",
        "Counter({'first_call-load_image': 1, 'last_call-kill_process': 1})"
       ]
      },
      {
       "output_type": "stream",
       "stream": "stdout",
       "text": [
        "\n",
        "Counter({'first_call-load_image': 1, 'last_call-kill_process': 1})\n",
        "Counter({'first_call-load_image': 1, 'last_call-enum_window': 1})\n",
        "Counter({'first_call-load_image': 1, 'last_call-kill_process': 1})\n",
        "Counter({'first_call-load_image': 1, 'last_call-kill_process': 1})\n",
        "Counter({'first_call-load_image': 1, 'last_call-thread': 1})\n",
        "Counter({'first_call-load_image': 1, 'last_call-enum_window': 1})"
       ]
      },
      {
       "output_type": "stream",
       "stream": "stdout",
       "text": [
        "\n",
        "Counter({'first_call-load_image': 1, 'last_call-trimmed_bytes': 1})"
       ]
      },
      {
       "output_type": "stream",
       "stream": "stdout",
       "text": [
        "\n",
        "Counter({'first_call-load_image': 1, 'last_call-process': 1})"
       ]
      },
      {
       "output_type": "stream",
       "stream": "stdout",
       "text": [
        "\n",
        "Counter({'first_call-load_image': 1, 'last_call-enum_window': 1})\n",
        "Counter({'first_call-load_image': 1, 'last_call-kill_process': 1})\n",
        "Counter({'first_call-load_image': 1, 'last_call-process': 1})"
       ]
      },
      {
       "output_type": "stream",
       "stream": "stdout",
       "text": [
        "\n",
        "Counter({'first_call-load_image': 1, 'last_call-process': 1})\n",
        "Counter({'first_call-load_image': 1, 'last_call-enum_window': 1})\n",
        "Counter({'first_call-load_image': 1, 'last_call-kill_process': 1})"
       ]
      },
      {
       "output_type": "stream",
       "stream": "stdout",
       "text": [
        "\n",
        "Counter({'first_call-load_image': 1, 'last_call-kill_process': 1})\n",
        "Counter({'first_call-load_image': 1, 'last_call-thread': 1})"
       ]
      },
      {
       "output_type": "stream",
       "stream": "stdout",
       "text": [
        "\n",
        "Counter({'first_call-load_image': 1, 'last_call-enum_window': 1})"
       ]
      },
      {
       "output_type": "stream",
       "stream": "stdout",
       "text": [
        "\n",
        "Counter({'first_call-load_image': 1, 'last_call-thread': 1})"
       ]
      },
      {
       "output_type": "stream",
       "stream": "stdout",
       "text": [
        "\n",
        "Counter({'first_call-load_image': 1, 'last_call-enum_window': 1})\n",
        "Counter({'first_call-load_image': 1, 'last_call-thread': 1})\n",
        "Counter({'first_call-load_image': 1, 'last_call-get_system_directory': 1})"
       ]
      },
      {
       "output_type": "stream",
       "stream": "stdout",
       "text": [
        "\n",
        "Counter({'first_call-load_image': 1, 'last_call-thread': 1})"
       ]
      },
      {
       "output_type": "stream",
       "stream": "stdout",
       "text": [
        "\n",
        "Counter({'first_call-load_image': 1, 'last_call-thread': 1})"
       ]
      },
      {
       "output_type": "stream",
       "stream": "stdout",
       "text": [
        "\n",
        "Counter({'first_call-load_image': 1, 'last_call-thread': 1})"
       ]
      },
      {
       "output_type": "stream",
       "stream": "stdout",
       "text": [
        "\n",
        "Counter({'first_call-load_image': 1, 'last_call-enum_window': 1})"
       ]
      },
      {
       "output_type": "stream",
       "stream": "stdout",
       "text": [
        "\n",
        "Counter({'first_call-load_image': 1, 'last_call-enum_window': 1})\n",
        "Counter({'first_call-load_image': 1, 'last_call-kill_process': 1})\n",
        "Counter({'first_call-load_image': 1, 'last_call-load_dll': 1})\n",
        "Counter({'first_call-load_image': 1, 'last_call-thread': 1})"
       ]
      },
      {
       "output_type": "stream",
       "stream": "stdout",
       "text": [
        "\n",
        "Counter({'first_call-load_image': 1, 'last_call-thread': 1})"
       ]
      },
      {
       "output_type": "stream",
       "stream": "stdout",
       "text": [
        "\n",
        "Counter({'first_call-load_image': 1, 'last_call-thread': 1})"
       ]
      },
      {
       "output_type": "stream",
       "stream": "stdout",
       "text": [
        "\n",
        "Counter({'first_call-load_image': 1, 'last_call-enum_window': 1})\n",
        "Counter({'first_call-load_image': 1, 'last_call-dump_line': 1})\n",
        "Counter({'first_call-load_image': 1, 'last_call-query_value': 1})"
       ]
      },
      {
       "output_type": "stream",
       "stream": "stdout",
       "text": [
        "\n",
        "Counter({'first_call-load_image': 1, 'last_call-thread': 1})"
       ]
      },
      {
       "output_type": "stream",
       "stream": "stdout",
       "text": [
        "\n",
        "Counter({'first_call-load_image': 1, 'last_call-thread': 1})"
       ]
      },
      {
       "output_type": "stream",
       "stream": "stdout",
       "text": [
        "\n",
        "Counter({'first_call-load_image': 1, 'last_call-thread': 1})"
       ]
      },
      {
       "output_type": "stream",
       "stream": "stdout",
       "text": [
        "\n",
        "Counter({'first_call-load_image': 1, 'last_call-thread': 1})"
       ]
      },
      {
       "output_type": "stream",
       "stream": "stdout",
       "text": [
        "\n",
        "Counter({'first_call-load_image': 1, 'last_call-process': 1})"
       ]
      },
      {
       "output_type": "stream",
       "stream": "stdout",
       "text": [
        "\n",
        "Counter({'first_call-load_image': 1, 'last_call-thread': 1})\n",
        "Counter({'first_call-load_image': 1, 'last_call-kill_process': 1})\n",
        "Counter({'first_call-load_image': 1, 'last_call-load_dll': 1})\n",
        "Counter({'first_call-load_image': 1, 'last_call-thread': 1})"
       ]
      },
      {
       "output_type": "stream",
       "stream": "stdout",
       "text": [
        "\n",
        "Counter({'first_call-load_image': 1, 'last_call-open_file': 1})"
       ]
      },
      {
       "output_type": "stream",
       "stream": "stdout",
       "text": [
        "\n",
        "Counter({'first_call-load_image': 1, 'last_call-thread': 1})"
       ]
      },
      {
       "output_type": "stream",
       "stream": "stdout",
       "text": [
        "\n",
        "Counter({'first_call-load_image': 1, 'last_call-check_for_debugger': 1})"
       ]
      },
      {
       "output_type": "stream",
       "stream": "stdout",
       "text": [
        "\n",
        "Counter({'first_call-load_image': 1, 'last_call-thread': 1})"
       ]
      },
      {
       "output_type": "stream",
       "stream": "stdout",
       "text": [
        "\n",
        "Counter({'first_call-load_image': 1, 'last_call-check_for_debugger': 1})"
       ]
      },
      {
       "output_type": "stream",
       "stream": "stdout",
       "text": [
        "\n",
        "Counter({'first_call-load_image': 1, 'last_call-get_system_directory': 1})\n",
        "Counter({'first_call-load_image': 1, 'last_call-thread': 1})\n",
        "Counter({'first_call-load_image': 1, 'last_call-thread': 1})"
       ]
      },
      {
       "output_type": "stream",
       "stream": "stdout",
       "text": [
        "\n",
        "Counter({'first_call-load_image': 1, 'last_call-create_open_file': 1})\n",
        "Counter({'first_call-load_image': 1, 'last_call-thread': 1})"
       ]
      },
      {
       "output_type": "stream",
       "stream": "stdout",
       "text": [
        "\n",
        "Counter({'first_call-load_image': 1, 'last_call-thread': 1})"
       ]
      },
      {
       "output_type": "stream",
       "stream": "stdout",
       "text": [
        "\n",
        "Counter({'first_call-load_image': 1, 'last_call-thread': 1})"
       ]
      },
      {
       "output_type": "stream",
       "stream": "stdout",
       "text": [
        "\n",
        "Counter({'first_call-load_image': 1, 'last_call-thread': 1})"
       ]
      },
      {
       "output_type": "stream",
       "stream": "stdout",
       "text": [
        "\n",
        "Counter({'first_call-load_image': 1, 'last_call-thread': 1})"
       ]
      },
      {
       "output_type": "stream",
       "stream": "stdout",
       "text": [
        "\n",
        "Counter({'first_call-load_image': 1, 'last_call-thread': 1})\n",
        "Counter({'first_call-load_image': 1, 'last_call-kill_process': 1})\n",
        "Counter({'first_call-load_image': 1, 'last_call-thread': 1})"
       ]
      },
      {
       "output_type": "stream",
       "stream": "stdout",
       "text": [
        "\n",
        "Counter({'first_call-load_image': 1, 'last_call-thread': 1})"
       ]
      },
      {
       "output_type": "stream",
       "stream": "stdout",
       "text": [
        "\n",
        "Counter({'first_call-load_image': 1, 'last_call-process': 1})\n",
        "Counter({'first_call-load_image': 1, 'last_call-thread': 1})"
       ]
      },
      {
       "output_type": "stream",
       "stream": "stdout",
       "text": [
        "\n",
        "Counter({'first_call-load_image': 1, 'last_call-enum_window': 1})"
       ]
      },
      {
       "output_type": "stream",
       "stream": "stdout",
       "text": [
        "\n",
        "Counter({'first_call-load_image': 1, 'last_call-enum_window': 1})\n",
        "Counter({'first_call-load_image': 1, 'last_call-sleep': 1})"
       ]
      },
      {
       "output_type": "stream",
       "stream": "stdout",
       "text": [
        "\n",
        "Counter({'first_call-load_image': 1, 'last_call-enum_window': 1})"
       ]
      },
      {
       "output_type": "stream",
       "stream": "stdout",
       "text": [
        "\n",
        "Counter({'first_call-load_image': 1, 'last_call-thread': 1})\n",
        "Counter({'first_call-load_image': 1, 'last_call-open_process': 1})"
       ]
      },
      {
       "output_type": "stream",
       "stream": "stdout",
       "text": [
        "\n",
        "Counter({'first_call-load_image': 1, 'last_call-thread': 1})\n",
        "Counter({'first_call-load_image': 1, 'last_call-thread': 1})"
       ]
      },
      {
       "output_type": "stream",
       "stream": "stdout",
       "text": [
        "\n",
        "Counter({'first_call-load_image': 1, 'last_call-kill_process': 1})\n",
        "Counter({'first_call-load_image': 1, 'last_call-thread': 1})"
       ]
      },
      {
       "output_type": "stream",
       "stream": "stdout",
       "text": [
        "\n",
        "Counter({'first_call-load_image': 1, 'last_call-load_dll': 1})"
       ]
      },
      {
       "output_type": "stream",
       "stream": "stdout",
       "text": [
        "\n",
        "Counter({'first_call-load_image': 1, 'last_call-thread': 1})\n",
        "Counter({'first_call-load_image': 1, 'last_call-kill_process': 1})\n",
        "Counter({'first_call-load_image': 1, 'last_call-open_process': 1})\n",
        "Counter({'first_call-load_image': 1, 'last_call-enum_window': 1})\n",
        "Counter({'first_call-load_image': 1, 'last_call-kill_process': 1})"
       ]
      },
      {
       "output_type": "stream",
       "stream": "stdout",
       "text": [
        "\n",
        "Counter({'first_call-load_image': 1, 'last_call-thread': 1})\n",
        "Counter({'first_call-load_image': 1, 'last_call-thread': 1})\n",
        "Counter({'first_call-load_image': 1, 'last_call-kill_process': 1})\n",
        "Counter({'first_call-load_image': 1, 'last_call-process': 1})"
       ]
      },
      {
       "output_type": "stream",
       "stream": "stdout",
       "text": [
        "\n",
        "Counter({'first_call-load_image': 1, 'last_call-get_system_directory': 1})\n",
        "Counter({'first_call-load_image': 1, 'last_call-kill_process': 1})\n",
        "Counter({'first_call-load_image': 1, 'last_call-sleep': 1})"
       ]
      },
      {
       "output_type": "stream",
       "stream": "stdout",
       "text": [
        "\n",
        "Counter({'first_call-load_image': 1, 'last_call-thread': 1})"
       ]
      },
      {
       "output_type": "stream",
       "stream": "stdout",
       "text": [
        "\n",
        "Counter({'first_call-load_image': 1, 'last_call-kill_process': 1})\n",
        "Counter({'first_call-load_image': 1, 'last_call-thread': 1})"
       ]
      },
      {
       "output_type": "stream",
       "stream": "stdout",
       "text": [
        "\n",
        "Counter({'first_call-load_image': 1, 'last_call-enum_window': 1})"
       ]
      },
      {
       "output_type": "stream",
       "stream": "stdout",
       "text": [
        "\n",
        "Counter({'first_call-load_image': 1, 'last_call-enum_window': 1})\n",
        "Counter({'first_call-load_image': 1, 'last_call-thread': 1})"
       ]
      },
      {
       "output_type": "stream",
       "stream": "stdout",
       "text": [
        "\n",
        "Counter({'first_call-load_image': 1, 'last_call-thread': 1})"
       ]
      },
      {
       "output_type": "stream",
       "stream": "stdout",
       "text": [
        "\n",
        "Counter({'first_call-load_image': 1, 'last_call-thread': 1})\n",
        "Counter({'first_call-load_image': 1, 'last_call-get_system_directory': 1})\n",
        "Counter({'first_call-load_image': 1, 'last_call-enum_window': 1})"
       ]
      },
      {
       "output_type": "stream",
       "stream": "stdout",
       "text": [
        "\n",
        "Counter({'first_call-load_image': 1, 'last_call-kill_process': 1})\n",
        "Counter({'first_call-load_image': 1, 'last_call-enum_window': 1})\n",
        "Counter({'first_call-load_image': 1, 'last_call-thread': 1})"
       ]
      },
      {
       "output_type": "stream",
       "stream": "stdout",
       "text": [
        "\n",
        "Counter({'first_call-load_image': 1, 'last_call-get_host_by_name': 1})\n",
        "Counter({'first_call-load_image': 1, 'last_call-thread': 1})\n",
        "Counter({'first_call-load_image': 1, 'last_call-enum_window': 1})\n",
        "Counter({'first_call-load_image': 1, 'last_call-thread': 1})\n",
        "Counter({'first_call-load_image': 1, 'last_call-thread': 1})"
       ]
      },
      {
       "output_type": "stream",
       "stream": "stdout",
       "text": [
        "\n",
        "Counter({'first_call-load_image': 1, 'last_call-enum_window': 1})"
       ]
      },
      {
       "output_type": "stream",
       "stream": "stdout",
       "text": [
        "\n",
        "Counter({'first_call-load_image': 1, 'last_call-thread': 1})\n",
        "Counter({'first_call-load_image': 1, 'last_call-load_dll': 1})\n",
        "Counter({'first_call-load_image': 1, 'last_call-enum_window': 1})\n",
        "Counter({'first_call-load_image': 1, 'last_call-kill_process': 1})\n",
        "Counter({'first_call-load_image': 1, 'last_call-kill_process': 1})"
       ]
      },
      {
       "output_type": "stream",
       "stream": "stdout",
       "text": [
        "\n",
        "Counter({'first_call-load_image': 1, 'last_call-thread': 1})\n",
        "Counter({'first_call-load_image': 1, 'last_call-thread': 1})\n",
        "Counter({'first_call-load_image': 1, 'last_call-kill_process': 1})\n",
        "Counter({'first_call-load_image': 1, 'last_call-thread': 1})"
       ]
      },
      {
       "output_type": "stream",
       "stream": "stdout",
       "text": [
        "\n",
        "Counter({'first_call-load_image': 1, 'last_call-thread': 1})"
       ]
      },
      {
       "output_type": "stream",
       "stream": "stdout",
       "text": [
        "\n",
        "Counter({'first_call-load_image': 1, 'last_call-enum_window': 1})"
       ]
      },
      {
       "output_type": "stream",
       "stream": "stdout",
       "text": [
        "\n",
        "Counter({'first_call-load_image': 1, 'last_call-thread': 1})\n",
        "Counter({'first_call-load_image': 1, 'last_call-kill_process': 1})\n",
        "Counter({'first_call-load_image': 1, 'last_call-open_process': 1})\n",
        "Counter({'first_call-load_image': 1, 'last_call-enum_window': 1})\n",
        "Counter({'first_call-load_image': 1, 'last_call-show_window': 1})\n",
        "Counter({'first_call-load_image': 1, 'last_call-enum_window': 1})"
       ]
      },
      {
       "output_type": "stream",
       "stream": "stdout",
       "text": [
        "\n",
        "Counter({'first_call-load_image': 1, 'last_call-enum_window': 1})\n",
        "Counter({'first_call-load_image': 1, 'last_call-thread': 1})\n",
        "Counter({'first_call-load_image': 1, 'last_call-thread': 1})"
       ]
      },
      {
       "output_type": "stream",
       "stream": "stdout",
       "text": [
        "\n",
        "Counter({'first_call-load_image': 1, 'last_call-open_url': 1})"
       ]
      },
      {
       "output_type": "stream",
       "stream": "stdout",
       "text": [
        "\n",
        "Counter({'first_call-load_image': 1, 'last_call-thread': 1})"
       ]
      },
      {
       "output_type": "stream",
       "stream": "stdout",
       "text": [
        "\n",
        "Counter({'first_call-load_image': 1, 'last_call-thread': 1})\n",
        "Counter({'first_call-load_image': 1, 'last_call-kill_process': 1})\n",
        "Counter({'first_call-load_image': 1, 'last_call-enum_window': 1})\n",
        "Counter({'first_call-load_image': 1, 'last_call-thread': 1})\n",
        "Counter({'first_call-load_image': 1, 'last_call-get_host_by_name': 1})\n",
        "Counter({'first_call-load_image': 1, 'last_call-load_dll': 1})"
       ]
      },
      {
       "output_type": "stream",
       "stream": "stdout",
       "text": [
        "\n",
        "Counter({'first_call-load_image': 1, 'last_call-thread': 1})\n",
        "Counter({'first_call-load_image': 1, 'last_call-kill_process': 1})\n",
        "Counter({'first_call-load_image': 1, 'last_call-thread': 1})\n",
        "Counter({'first_call-load_image': 1, 'last_call-enum_window': 1})\n",
        "Counter({'first_call-load_image': 1, 'last_call-kill_process': 1})\n",
        "Counter({'first_call-load_image': 1, 'last_call-thread': 1})"
       ]
      },
      {
       "output_type": "stream",
       "stream": "stdout",
       "text": [
        "\n",
        "Counter({'first_call-load_image': 1, 'last_call-thread': 1})"
       ]
      },
      {
       "output_type": "stream",
       "stream": "stdout",
       "text": [
        "\n",
        "Counter({'first_call-load_image': 1, 'last_call-get_host_by_name': 1})"
       ]
      },
      {
       "output_type": "stream",
       "stream": "stdout",
       "text": [
        "\n",
        "Counter({'first_call-load_image': 1, 'last_call-kill_process': 1})\n",
        "Counter({'first_call-load_image': 1, 'last_call-enum_window': 1})"
       ]
      },
      {
       "output_type": "stream",
       "stream": "stdout",
       "text": [
        "\n",
        "Counter({'first_call-load_image': 1, 'last_call-thread': 1})\n",
        "Counter({'first_call-load_image': 1, 'last_call-kill_process': 1})\n",
        "Counter({'first_call-load_image': 1, 'last_call-enum_window': 1})"
       ]
      },
      {
       "output_type": "stream",
       "stream": "stdout",
       "text": [
        "\n",
        "Counter({'first_call-load_image': 1, 'last_call-process': 1})\n",
        "Counter({'first_call-load_image': 1, 'last_call-process': 1})\n",
        "Counter({'first_call-load_image': 1, 'last_call-thread': 1})"
       ]
      },
      {
       "output_type": "stream",
       "stream": "stdout",
       "text": [
        "\n",
        "Counter({'first_call-load_image': 1, 'last_call-kill_process': 1})"
       ]
      },
      {
       "output_type": "stream",
       "stream": "stdout",
       "text": [
        "\n",
        "Counter({'first_call-load_image': 1, 'last_call-thread': 1})\n",
        "Counter({'first_call-load_image': 1, 'last_call-enum_window': 1})\n",
        "Counter({'first_call-load_image': 1, 'last_call-thread': 1})\n",
        "Counter({'first_call-load_image': 1, 'last_call-enum_window': 1})\n",
        "Counter({'first_call-load_image': 1, 'last_call-process': 1})\n",
        "Counter({'first_call-load_image': 1, 'last_call-load_dll': 1})\n",
        "Counter({'first_call-load_image': 1, 'last_call-kill_process': 1})"
       ]
      },
      {
       "output_type": "stream",
       "stream": "stdout",
       "text": [
        "\n",
        "Counter({'first_call-load_image': 1, 'last_call-kill_process': 1})\n",
        "Counter({'first_call-load_image': 1, 'last_call-enum_window': 1})\n",
        "Counter({'first_call-load_image': 1, 'last_call-kill_process': 1})\n",
        "Counter({'first_call-load_image': 1, 'last_call-thread': 1})\n",
        "Counter({'first_call-load_image': 1, 'last_call-kill_process': 1})"
       ]
      },
      {
       "output_type": "stream",
       "stream": "stdout",
       "text": [
        "\n",
        "Counter({'first_call-load_image': 1, 'last_call-thread': 1})\n",
        "Counter({'first_call-load_image': 1, 'last_call-process': 1})\n",
        "Counter({'first_call-load_image': 1, 'last_call-process': 1})\n",
        "Counter({'first_call-load_image': 1, 'last_call-get_host_by_name': 1})"
       ]
      },
      {
       "output_type": "stream",
       "stream": "stdout",
       "text": [
        "\n",
        "Counter({'first_call-load_image': 1, 'last_call-enum_window': 1})\n",
        "Counter({'first_call-load_image': 1, 'last_call-kill_process': 1})\n",
        "Counter({'first_call-load_image': 1, 'last_call-load_dll': 1})\n",
        "Counter({'first_call-load_image': 1, 'last_call-thread': 1})"
       ]
      },
      {
       "output_type": "stream",
       "stream": "stdout",
       "text": [
        "\n",
        "Counter({'first_call-load_image': 1, 'last_call-kill_process': 1})\n",
        "Counter({'first_call-load_image': 1, 'last_call-process': 1})\n",
        "Counter({'first_call-load_image': 1, 'last_call-thread': 1})\n",
        "Counter({'first_call-load_image': 1, 'last_call-kill_process': 1})\n",
        "Counter({'first_call-load_image': 1, 'last_call-kill_process': 1})\n",
        "Counter({'first_call-load_image': 1, 'last_call-load_dll': 1})"
       ]
      },
      {
       "output_type": "stream",
       "stream": "stdout",
       "text": [
        "\n",
        "Counter({'first_call-load_image': 1, 'last_call-thread': 1})"
       ]
      },
      {
       "output_type": "stream",
       "stream": "stdout",
       "text": [
        "\n",
        "Counter({'first_call-load_image': 1, 'last_call-process': 1})"
       ]
      },
      {
       "output_type": "stream",
       "stream": "stdout",
       "text": [
        "\n",
        "Counter({'first_call-load_image': 1, 'last_call-thread': 1})\n",
        "Counter({'first_call-load_image': 1, 'last_call-thread': 1})"
       ]
      },
      {
       "output_type": "stream",
       "stream": "stdout",
       "text": [
        "\n",
        "Counter({'first_call-load_image': 1, 'last_call-process': 1})"
       ]
      },
      {
       "output_type": "stream",
       "stream": "stdout",
       "text": [
        "\n",
        "Counter({'first_call-load_image': 1, 'last_call-enum_window': 1})\n",
        "Counter({'first_call-load_image': 1, 'last_call-kill_process': 1})\n",
        "Counter({'first_call-load_image': 1, 'last_call-load_dll': 1})\n",
        "Counter({'last_call-load_driver': 1, 'first_call-load_image': 1})\n",
        "Counter({'first_call-load_image': 1, 'last_call-create_thread': 1})\n",
        "Counter({'first_call-load_image': 1, 'last_call-thread': 1})"
       ]
      },
      {
       "output_type": "stream",
       "stream": "stdout",
       "text": [
        "\n",
        "Counter({'first_call-load_image': 1, 'last_call-thread': 1})\n",
        "Counter({'first_call-load_image': 1, 'last_call-thread': 1})"
       ]
      },
      {
       "output_type": "stream",
       "stream": "stdout",
       "text": [
        "\n",
        "Counter({'first_call-load_image': 1, 'last_call-set_windows_hook': 1})"
       ]
      },
      {
       "output_type": "stream",
       "stream": "stdout",
       "text": [
        "\n",
        "Counter({'first_call-load_image': 1, 'last_call-process': 1})\n",
        "Counter({'first_call-load_image': 1, 'last_call-thread': 1})"
       ]
      },
      {
       "output_type": "stream",
       "stream": "stdout",
       "text": [
        "\n",
        "Counter({'first_call-load_image': 1, 'last_call-thread': 1})\n",
        "Counter({'first_call-load_image': 1, 'last_call-enum_window': 1})\n",
        "Counter({'first_call-load_image': 1, 'last_call-enum_window': 1})\n",
        "Counter({'first_call-load_image': 1, 'last_call-thread': 1})\n",
        "Counter({'first_call-load_image': 1, 'last_call-enum_window': 1})\n",
        "Counter({'first_call-load_image': 1, 'last_call-thread': 1})"
       ]
      },
      {
       "output_type": "stream",
       "stream": "stdout",
       "text": [
        "\n",
        "Counter({'first_call-load_image': 1, 'last_call-enum_window': 1})"
       ]
      },
      {
       "output_type": "stream",
       "stream": "stdout",
       "text": [
        "\n",
        "Counter({'first_call-load_image': 1, 'last_call-thread': 1})"
       ]
      },
      {
       "output_type": "stream",
       "stream": "stdout",
       "text": [
        "\n",
        "Counter({'first_call-load_image': 1, 'last_call-kill_process': 1})"
       ]
      },
      {
       "output_type": "stream",
       "stream": "stdout",
       "text": [
        "\n",
        "Counter({'first_call-load_image': 1, 'last_call-enum_window': 1})\n",
        "Counter({'first_call-load_image': 1, 'last_call-thread': 1})\n",
        "Counter({'first_call-load_image': 1, 'last_call-kill_process': 1})\n",
        "Counter({'first_call-load_image': 1, 'last_call-kill_process': 1})\n",
        "Counter({'first_call-load_image': 1, 'last_call-thread': 1})\n",
        "Counter({'first_call-load_image': 1, 'last_call-create_socket': 1})\n",
        "Counter({'first_call-load_image': 1, 'last_call-kill_process': 1})"
       ]
      },
      {
       "output_type": "stream",
       "stream": "stdout",
       "text": [
        "\n",
        "Counter({'first_call-load_image': 1, 'last_call-process': 1})\n",
        "Counter({'first_call-load_image': 1, 'last_call-thread': 1})"
       ]
      },
      {
       "output_type": "stream",
       "stream": "stdout",
       "text": [
        "\n",
        "Counter({'first_call-load_image': 1, 'last_call-thread': 1})\n",
        "Counter({'first_call-load_image': 1, 'last_call-process': 1})\n",
        "Counter({'first_call-load_image': 1, 'last_call-kill_process': 1})\n",
        "Counter({'first_call-load_image': 1, 'last_call-enum_window': 1})"
       ]
      },
      {
       "output_type": "stream",
       "stream": "stdout",
       "text": [
        "\n",
        "Counter({'first_call-load_image': 1, 'last_call-thread': 1})\n",
        "Counter({'first_call-load_image': 1, 'last_call-sleep': 1})\n",
        "Counter({'first_call-load_image': 1, 'last_call-thread': 1})"
       ]
      },
      {
       "output_type": "stream",
       "stream": "stdout",
       "text": [
        "\n",
        "Counter({'first_call-load_image': 1, 'last_call-thread': 1})"
       ]
      },
      {
       "output_type": "stream",
       "stream": "stdout",
       "text": [
        "\n",
        "Counter({'first_call-load_image': 1, 'last_call-thread': 1})\n",
        "Counter({'first_call-load_image': 1, 'last_call-load_dll': 1})\n",
        "Counter({'first_call-load_image': 1, 'last_call-thread': 1})"
       ]
      },
      {
       "output_type": "stream",
       "stream": "stdout",
       "text": [
        "\n",
        "Counter({'first_call-load_image': 1, 'last_call-sleep': 1})"
       ]
      },
      {
       "output_type": "stream",
       "stream": "stdout",
       "text": [
        "\n",
        "Counter({'first_call-load_image': 1, 'last_call-thread': 1})\n",
        "Counter({'first_call-load_image': 1, 'last_call-kill_process': 1})\n",
        "Counter({'first_call-load_image': 1, 'last_call-kill_process': 1})\n",
        "Counter({'first_call-load_image': 1, 'last_call-kill_process': 1})\n",
        "Counter({'first_call-load_image': 1, 'last_call-thread': 1})"
       ]
      },
      {
       "output_type": "stream",
       "stream": "stdout",
       "text": [
        "\n",
        "Counter({'first_call-load_image': 1, 'last_call-kill_process': 1})\n",
        "Counter({'first_call-load_image': 1, 'last_call-thread': 1})\n",
        "Counter({'first_call-load_image': 1, 'last_call-get_system_directory': 1})\n",
        "Counter({'first_call-load_image': 1, 'last_call-thread': 1})"
       ]
      },
      {
       "output_type": "stream",
       "stream": "stdout",
       "text": [
        "\n",
        "Counter({'first_call-load_image': 1, 'last_call-sleep': 1})"
       ]
      },
      {
       "output_type": "stream",
       "stream": "stdout",
       "text": [
        "\n",
        "Counter({'first_call-load_image': 1, 'last_call-get_system_directory': 1})\n",
        "Counter({'first_call-load_image': 1, 'last_call-kill_process': 1})\n",
        "Counter({'first_call-load_image': 1, 'last_call-load_dll': 1})\n",
        "Counter({'first_call-load_image': 1, 'last_call-connect': 1})"
       ]
      },
      {
       "output_type": "stream",
       "stream": "stdout",
       "text": [
        "\n",
        "Counter({'first_call-load_image': 1, 'last_call-process': 1})"
       ]
      },
      {
       "output_type": "stream",
       "stream": "stdout",
       "text": [
        "\n",
        "Counter({'first_call-load_image': 1, 'last_call-thread': 1})"
       ]
      },
      {
       "output_type": "stream",
       "stream": "stdout",
       "text": [
        "\n",
        "Counter({'first_call-load_image': 1, 'last_call-enum_window': 1})"
       ]
      },
      {
       "output_type": "stream",
       "stream": "stdout",
       "text": [
        "\n",
        "Counter({'first_call-load_image': 1, 'last_call-check_for_debugger': 1})\n",
        "Counter({'first_call-load_image': 1, 'last_call-sleep': 1})\n",
        "Counter({'first_call-load_image': 1, 'last_call-load_dll': 1})\n",
        "Counter({'first_call-load_image': 1, 'last_call-enum_window': 1})"
       ]
      },
      {
       "output_type": "stream",
       "stream": "stdout",
       "text": [
        "\n",
        "Counter({'first_call-load_image': 1, 'last_call-thread': 1})"
       ]
      },
      {
       "output_type": "stream",
       "stream": "stdout",
       "text": [
        "\n",
        "Counter({'first_call-load_image': 1, 'last_call-thread': 1})\n",
        "Counter({'first_call-load_image': 1, 'last_call-get_system_directory': 1})\n",
        "Counter({'first_call-load_image': 1, 'last_call-process': 1})\n",
        "Counter({'first_call-load_image': 1, 'last_call-load_dll': 1})\n",
        "Counter({'first_call-load_image': 1, 'last_call-kill_process': 1})"
       ]
      },
      {
       "output_type": "stream",
       "stream": "stdout",
       "text": [
        "\n",
        "Counter({'first_call-load_image': 1, 'last_call-load_dll': 1})\n",
        "Counter({'first_call-load_image': 1, 'last_call-process': 1})\n",
        "Counter({'first_call-load_image': 1, 'last_call-thread': 1})"
       ]
      },
      {
       "output_type": "stream",
       "stream": "stdout",
       "text": [
        "\n",
        "Counter({'first_call-load_image': 1, 'last_call-enum_window': 1})"
       ]
      },
      {
       "output_type": "stream",
       "stream": "stdout",
       "text": [
        "\n",
        "Counter({'first_call-load_image': 1, 'last_call-kill_process': 1})\n",
        "Counter({'first_call-load_image': 1, 'last_call-enum_window': 1})"
       ]
      },
      {
       "output_type": "stream",
       "stream": "stdout",
       "text": [
        "\n",
        "Counter({'first_call-load_image': 1, 'last_call-thread': 1})\n",
        "Counter({'first_call-load_image': 1, 'last_call-thread': 1})\n",
        "Counter({'first_call-load_image': 1, 'last_call-thread': 1})\n",
        "Counter({'first_call-load_image': 1, 'last_call-thread': 1})\n",
        "Counter({'first_call-load_image': 1, 'last_call-kill_process': 1})"
       ]
      },
      {
       "output_type": "stream",
       "stream": "stdout",
       "text": [
        "\n",
        "Counter({'first_call-load_image': 1, 'last_call-check_for_debugger': 1})\n",
        "Counter({'first_call-load_image': 1, 'last_call-thread': 1})"
       ]
      },
      {
       "output_type": "stream",
       "stream": "stdout",
       "text": [
        "\n",
        "Counter({'first_call-load_image': 1, 'last_call-kill_process': 1})\n",
        "Counter({'last_call-create_window': 1, 'first_call-load_image': 1})\n",
        "Counter({'first_call-load_image': 1, 'last_call-enum_window': 1})\n",
        "Counter({'first_call-load_image': 1, 'last_call-thread': 1})\n",
        "Counter({'first_call-load_image': 1, 'last_call-thread': 1})\n",
        "Counter({'first_call-load_image': 1, 'last_call-thread': 1})"
       ]
      },
      {
       "output_type": "stream",
       "stream": "stdout",
       "text": [
        "\n",
        "Counter({'first_call-load_image': 1, 'last_call-kill_process': 1})"
       ]
      },
      {
       "output_type": "stream",
       "stream": "stdout",
       "text": [
        "\n",
        "Counter({'first_call-load_image': 1, 'last_call-open_process': 1})\n",
        "Counter({'first_call-load_image': 1, 'last_call-thread': 1})\n",
        "Counter({'first_call-load_image': 1, 'last_call-thread': 1})\n",
        "Counter({'first_call-load_image': 1, 'last_call-process': 1})\n",
        "Counter({'first_call-load_image': 1, 'last_call-enum_window': 1})"
       ]
      },
      {
       "output_type": "stream",
       "stream": "stdout",
       "text": [
        "\n",
        "Counter({'first_call-load_image': 1, 'last_call-thread': 1})\n",
        "Counter({'first_call-load_image': 1, 'last_call-kill_process': 1})\n",
        "Counter({'first_call-load_image': 1, 'last_call-thread': 1})\n",
        "Counter({'first_call-load_image': 1, 'last_call-thread': 1})\n",
        "Counter({'first_call-load_image': 1, 'last_call-kill_process': 1})\n",
        "Counter({'first_call-load_image': 1, 'last_call-kill_process': 1})\n",
        "Counter({'first_call-load_image': 1, 'last_call-thread': 1})\n",
        "Counter({'first_call-load_image': 1, 'last_call-kill_process': 1})"
       ]
      },
      {
       "output_type": "stream",
       "stream": "stdout",
       "text": [
        "\n",
        "Counter({'first_call-load_image': 1, 'last_call-thread': 1})"
       ]
      },
      {
       "output_type": "stream",
       "stream": "stdout",
       "text": [
        "\n",
        "Counter({'first_call-load_image': 1, 'last_call-thread': 1})"
       ]
      },
      {
       "output_type": "stream",
       "stream": "stdout",
       "text": [
        "\n",
        "Counter({'first_call-load_image': 1, 'last_call-load_dll': 1})\n",
        "Counter({'first_call-load_image': 1, 'last_call-thread': 1})\n",
        "Counter({'first_call-load_image': 1, 'last_call-thread': 1})"
       ]
      },
      {
       "output_type": "stream",
       "stream": "stdout",
       "text": [
        "\n",
        "Counter({'first_call-load_image': 1, 'last_call-thread': 1})\n",
        "Counter({'first_call-load_image': 1, 'last_call-process': 1})"
       ]
      },
      {
       "output_type": "stream",
       "stream": "stdout",
       "text": [
        "\n",
        "Counter({'first_call-load_image': 1, 'last_call-enum_window': 1})"
       ]
      },
      {
       "output_type": "stream",
       "stream": "stdout",
       "text": [
        "\n",
        "Counter({'first_call-load_image': 1, 'last_call-enum_window': 1})\n",
        "Counter({'first_call-load_image': 1, 'last_call-process': 1})\n",
        "Counter({'first_call-load_image': 1, 'last_call-thread': 1})"
       ]
      },
      {
       "output_type": "stream",
       "stream": "stdout",
       "text": [
        "\n",
        "Counter({'first_call-load_image': 1, 'last_call-thread': 1})"
       ]
      },
      {
       "output_type": "stream",
       "stream": "stdout",
       "text": [
        "\n",
        "Counter({'first_call-load_image': 1, 'last_call-thread': 1})\n",
        "Counter({'first_call-load_image': 1, 'last_call-thread': 1})\n",
        "Counter({'first_call-load_image': 1, 'last_call-process': 1})\n",
        "Counter({'first_call-load_image': 1, 'last_call-thread': 1})"
       ]
      },
      {
       "output_type": "stream",
       "stream": "stdout",
       "text": [
        "\n",
        "Counter({'first_call-load_image': 1, 'last_call-process': 1})\n",
        "Counter({'first_call-load_image': 1, 'last_call-thread': 1})\n",
        "Counter({'first_call-load_image': 1, 'last_call-enum_window': 1})\n",
        "Counter({'first_call-load_image': 1, 'last_call-get_host_by_name': 1})"
       ]
      },
      {
       "output_type": "stream",
       "stream": "stdout",
       "text": [
        "\n",
        "Counter({'first_call-load_image': 1, 'last_call-enum_window': 1})"
       ]
      },
      {
       "output_type": "stream",
       "stream": "stdout",
       "text": [
        "\n",
        "Counter({'first_call-load_image': 1, 'last_call-thread': 1})"
       ]
      },
      {
       "output_type": "stream",
       "stream": "stdout",
       "text": [
        "\n",
        "Counter({'first_call-load_image': 1, 'last_call-check_for_debugger': 1})"
       ]
      },
      {
       "output_type": "stream",
       "stream": "stdout",
       "text": [
        "\n",
        "Counter({'first_call-load_image': 1, 'last_call-thread': 1})\n",
        "Counter({'first_call-load_image': 1, 'last_call-thread': 1})"
       ]
      },
      {
       "output_type": "stream",
       "stream": "stdout",
       "text": [
        "\n",
        "Counter({'first_call-load_image': 1, 'last_call-kill_process': 1})"
       ]
      },
      {
       "output_type": "stream",
       "stream": "stdout",
       "text": [
        "\n",
        "Counter({'first_call-load_image': 1, 'last_call-thread': 1})\n",
        "Counter({'first_call-load_image': 1, 'last_call-enum_window': 1})\n",
        "Counter({'first_call-load_image': 1, 'last_call-kill_process': 1})\n",
        "Counter({'first_call-load_image': 1, 'last_call-process': 1})\n",
        "Counter({'first_call-load_image': 1, 'last_call-load_dll': 1})"
       ]
      },
      {
       "output_type": "stream",
       "stream": "stdout",
       "text": [
        "\n",
        "Counter({'first_call-load_image': 1, 'last_call-thread': 1})\n",
        "Counter({'first_call-load_image': 1, 'last_call-process': 1})\n",
        "Counter({'first_call-load_image': 1, 'last_call-thread': 1})\n",
        "Counter({'first_call-load_image': 1, 'last_call-process': 1})\n",
        "Counter({'first_call-load_image': 1, 'last_call-enum_window': 1})\n",
        "Counter({'first_call-load_image': 1, 'last_call-thread': 1})"
       ]
      },
      {
       "output_type": "stream",
       "stream": "stdout",
       "text": [
        "\n",
        "Counter({'first_call-load_image': 1, 'last_call-process': 1})\n",
        "Counter({'first_call-load_image': 1, 'last_call-kill_process': 1})"
       ]
      },
      {
       "output_type": "stream",
       "stream": "stdout",
       "text": [
        "\n",
        "Counter({'first_call-load_image': 1, 'last_call-enum_window': 1})\n",
        "Counter({'first_call-load_image': 1, 'last_call-thread': 1})\n",
        "Counter({'first_call-load_image': 1, 'last_call-enum_window': 1})\n",
        "Counter({'first_call-load_image': 1, 'last_call-kill_process': 1})\n",
        "Counter({'first_call-load_image': 1, 'last_call-thread': 1})"
       ]
      },
      {
       "output_type": "stream",
       "stream": "stdout",
       "text": [
        "\n",
        "Counter({'first_call-load_image': 1, 'last_call-kill_process': 1})\n",
        "Counter({'first_call-load_image': 1, 'last_call-process': 1})\n",
        "Counter({'first_call-load_image': 1, 'last_call-enum_window': 1})\n",
        "Counter({'first_call-load_image': 1, 'last_call-thread': 1})"
       ]
      },
      {
       "output_type": "stream",
       "stream": "stdout",
       "text": [
        "\n",
        "Counter({'first_call-load_image': 1, 'last_call-enum_window': 1})\n",
        "Counter({'first_call-load_image': 1, 'last_call-kill_process': 1})\n",
        "Counter({'first_call-load_image': 1, 'last_call-thread': 1})"
       ]
      },
      {
       "output_type": "stream",
       "stream": "stdout",
       "text": [
        "\n",
        "Counter({'first_call-load_image': 1, 'last_call-thread': 1})"
       ]
      },
      {
       "output_type": "stream",
       "stream": "stdout",
       "text": [
        "\n",
        "Counter({'first_call-load_image': 1, 'last_call-enum_window': 1})\n",
        "Counter({'first_call-load_image': 1, 'last_call-thread': 1})"
       ]
      },
      {
       "output_type": "stream",
       "stream": "stdout",
       "text": [
        "\n",
        "Counter({'first_call-load_image': 1, 'last_call-load_dll': 1})\n",
        "Counter({'first_call-load_image': 1, 'last_call-kill_process': 1})\n",
        "Counter({'first_call-load_image': 1, 'last_call-load_dll': 1})\n",
        "Counter({'first_call-load_image': 1, 'last_call-process': 1})"
       ]
      },
      {
       "output_type": "stream",
       "stream": "stdout",
       "text": [
        "\n",
        "Counter({'first_call-load_image': 1, 'last_call-thread': 1})\n",
        "Counter({'first_call-load_image': 1, 'last_call-thread': 1})"
       ]
      },
      {
       "output_type": "stream",
       "stream": "stdout",
       "text": [
        "\n",
        "Counter({'first_call-load_image': 1, 'last_call-kill_process': 1})"
       ]
      },
      {
       "output_type": "stream",
       "stream": "stdout",
       "text": [
        "\n",
        "Counter({'first_call-load_image': 1, 'last_call-process': 1})\n",
        "Counter({'first_call-load_image': 1, 'last_call-thread': 1})\n",
        "Counter({'first_call-load_image': 1, 'last_call-create_thread': 1})\n",
        "Counter({'first_call-load_image': 1, 'last_call-kill_process': 1})\n",
        "Counter({'first_call-load_image': 1, 'last_call-kill_process': 1})\n",
        "Counter({'first_call-load_image': 1, 'last_call-thread': 1})"
       ]
      },
      {
       "output_type": "stream",
       "stream": "stdout",
       "text": [
        "\n",
        "Counter({'first_call-load_image': 1, 'last_call-thread': 1})\n",
        "Counter({'first_call-load_image': 1, 'last_call-process': 1})\n",
        "Counter({'first_call-load_image': 1, 'last_call-kill_process': 1})\n",
        "Counter({'first_call-load_image': 1, 'last_call-thread': 1})"
       ]
      },
      {
       "output_type": "stream",
       "stream": "stdout",
       "text": [
        "\n",
        "Counter({'first_call-load_image': 1, 'last_call-thread': 1})"
       ]
      },
      {
       "output_type": "stream",
       "stream": "stdout",
       "text": [
        "\n",
        "Counter({'first_call-load_image': 1, 'last_call-load_dll': 1})\n",
        "Counter({'first_call-load_image': 1, 'last_call-thread': 1})"
       ]
      },
      {
       "output_type": "stream",
       "stream": "stdout",
       "text": [
        "\n",
        "Counter({'first_call-load_image': 1, 'last_call-thread': 1})"
       ]
      },
      {
       "output_type": "stream",
       "stream": "stdout",
       "text": [
        "\n",
        "Counter({'first_call-load_image': 1, 'last_call-enum_window': 1})"
       ]
      },
      {
       "output_type": "stream",
       "stream": "stdout",
       "text": [
        "\n",
        "Counter({'first_call-load_image': 1, 'last_call-kill_process': 1})\n",
        "Counter({'first_call-load_image': 1, 'last_call-create_thread': 1})"
       ]
      },
      {
       "output_type": "stream",
       "stream": "stdout",
       "text": [
        "\n",
        "Counter({'first_call-load_image': 1, 'last_call-thread': 1})"
       ]
      },
      {
       "output_type": "stream",
       "stream": "stdout",
       "text": [
        "\n",
        "Counter({'first_call-load_image': 1, 'last_call-kill_process': 1})\n",
        "Counter({'first_call-load_image': 1, 'last_call-enum_window': 1})\n",
        "Counter({'first_call-load_image': 1, 'last_call-process': 1})\n",
        "Counter({'first_call-load_image': 1, 'last_call-thread': 1})\n",
        "Counter({'first_call-load_image': 1, 'last_call-thread': 1})"
       ]
      },
      {
       "output_type": "stream",
       "stream": "stdout",
       "text": [
        "\n",
        "Counter({'first_call-load_image': 1, 'last_call-process': 1})"
       ]
      },
      {
       "output_type": "stream",
       "stream": "stdout",
       "text": [
        "\n",
        "Counter({'first_call-load_image': 1, 'last_call-kill_process': 1})\n",
        "Counter({'first_call-load_image': 1, 'last_call-thread': 1})\n",
        "Counter({'first_call-load_image': 1, 'last_call-kill_process': 1})\n",
        "Counter({'first_call-load_image': 1, 'last_call-thread': 1})"
       ]
      },
      {
       "output_type": "stream",
       "stream": "stdout",
       "text": [
        "\n",
        "Counter({'first_call-load_image': 1, 'last_call-load_dll': 1})"
       ]
      },
      {
       "output_type": "stream",
       "stream": "stdout",
       "text": [
        "\n",
        "Counter({'first_call-load_image': 1, 'last_call-enum_window': 1})"
       ]
      },
      {
       "output_type": "stream",
       "stream": "stdout",
       "text": [
        "\n",
        "Counter({'first_call-load_image': 1, 'last_call-kill_process': 1})\n",
        "Counter({'first_call-load_image': 1, 'last_call-kill_process': 1})\n",
        "Counter({'first_call-load_image': 1, 'last_call-kill_process': 1})\n",
        "Counter({'first_call-load_image': 1, 'last_call-kill_process': 1})\n",
        "Counter({'first_call-load_image': 1, 'last_call-kill_process': 1})\n",
        "Counter({'first_call-load_image': 1, 'last_call-thread': 1})"
       ]
      },
      {
       "output_type": "stream",
       "stream": "stdout",
       "text": [
        "\n",
        "Counter({'first_call-load_image': 1, 'last_call-thread': 1})"
       ]
      },
      {
       "output_type": "stream",
       "stream": "stdout",
       "text": [
        "\n",
        "Counter({'first_call-load_image': 1, 'last_call-enum_window': 1})"
       ]
      },
      {
       "output_type": "stream",
       "stream": "stdout",
       "text": [
        "\n",
        "Counter({'first_call-load_image': 1, 'last_call-process': 1})"
       ]
      },
      {
       "output_type": "stream",
       "stream": "stdout",
       "text": [
        "\n",
        "Counter({'first_call-load_image': 1, 'last_call-open_process': 1})\n",
        "Counter({'first_call-load_image': 1, 'last_call-thread': 1})"
       ]
      },
      {
       "output_type": "stream",
       "stream": "stdout",
       "text": [
        "\n",
        "Counter({'first_call-load_image': 1, 'last_call-kill_process': 1})"
       ]
      },
      {
       "output_type": "stream",
       "stream": "stdout",
       "text": [
        "\n",
        "Counter({'first_call-load_image': 1, 'last_call-thread': 1})\n",
        "Counter({'first_call-load_image': 1, 'last_call-thread': 1})\n",
        "Counter({'first_call-load_image': 1, 'last_call-delete_file': 1})"
       ]
      },
      {
       "output_type": "stream",
       "stream": "stdout",
       "text": [
        "\n",
        "Counter({'first_call-load_image': 1, 'last_call-kill_process': 1})\n",
        "Counter({'first_call-load_image': 1, 'last_call-kill_process': 1})\n",
        "Counter({'first_call-load_image': 1, 'last_call-kill_process': 1})\n",
        "Counter({'first_call-load_image': 1, 'last_call-load_dll': 1})"
       ]
      },
      {
       "output_type": "stream",
       "stream": "stdout",
       "text": [
        "\n",
        "Counter({'first_call-load_image': 1, 'last_call-thread': 1})"
       ]
      },
      {
       "output_type": "stream",
       "stream": "stdout",
       "text": [
        "\n",
        "Counter({'first_call-load_image': 1, 'last_call-thread': 1})"
       ]
      },
      {
       "output_type": "stream",
       "stream": "stdout",
       "text": [
        "\n",
        "Counter({'first_call-load_image': 1, 'last_call-thread': 1})"
       ]
      },
      {
       "output_type": "stream",
       "stream": "stdout",
       "text": [
        "\n",
        "Counter({'first_call-load_image': 1, 'last_call-process': 1})"
       ]
      },
      {
       "output_type": "stream",
       "stream": "stdout",
       "text": [
        "\n",
        "Counter({'first_call-load_image': 1, 'last_call-thread': 1})\n",
        "Counter({'first_call-load_image': 1, 'last_call-thread': 1})\n",
        "Counter({'first_call-load_image': 1, 'last_call-load_dll': 1})\n",
        "Counter({'first_call-load_image': 1, 'last_call-thread': 1})\n",
        "Counter({'first_call-load_image': 1, 'last_call-thread': 1})"
       ]
      },
      {
       "output_type": "stream",
       "stream": "stdout",
       "text": [
        "\n",
        "Counter({'first_call-load_image': 1, 'last_call-thread': 1})\n",
        "Counter({'first_call-load_image': 1, 'last_call-load_dll': 1})\n",
        "Counter({'first_call-load_image': 1, 'last_call-create_thread': 1})"
       ]
      },
      {
       "output_type": "stream",
       "stream": "stdout",
       "text": [
        "\n",
        "Counter({'first_call-load_image': 1, 'last_call-enum_window': 1})"
       ]
      },
      {
       "output_type": "stream",
       "stream": "stdout",
       "text": [
        "\n",
        "Counter({'first_call-load_image': 1, 'last_call-thread': 1})\n",
        "Counter({'first_call-load_image': 1, 'last_call-kill_process': 1})\n",
        "Counter({'first_call-load_image': 1, 'last_call-thread': 1})"
       ]
      },
      {
       "output_type": "stream",
       "stream": "stdout",
       "text": [
        "\n",
        "Counter({'first_call-load_image': 1, 'last_call-thread': 1})\n",
        "Counter({'first_call-load_image': 1, 'last_call-enum_window': 1})"
       ]
      },
      {
       "output_type": "stream",
       "stream": "stdout",
       "text": [
        "\n",
        "Counter({'first_call-load_image': 1, 'last_call-process': 1})\n",
        "Counter({'first_call-load_image': 1, 'last_call-enum_window': 1})\n",
        "Counter({'first_call-load_image': 1, 'last_call-kill_process': 1})\n",
        "Counter({'first_call-load_image': 1, 'last_call-thread': 1})\n",
        "Counter({'first_call-load_image': 1, 'last_call-kill_process': 1})\n",
        "Counter({'first_call-load_image': 1, 'last_call-thread': 1})"
       ]
      },
      {
       "output_type": "stream",
       "stream": "stdout",
       "text": [
        "\n",
        "Counter({'first_call-load_image': 1, 'last_call-load_dll': 1})"
       ]
      },
      {
       "output_type": "stream",
       "stream": "stdout",
       "text": [
        "\n",
        "Counter({'first_call-load_image': 1, 'last_call-thread': 1})\n",
        "Counter({'first_call-load_image': 1, 'last_call-check_for_debugger': 1})\n",
        "Counter({'first_call-load_image': 1, 'last_call-thread': 1})\n",
        "Counter({'first_call-load_image': 1, 'last_call-kill_process': 1})\n",
        "Counter({'first_call-load_image': 1, 'last_call-enum_window': 1})\n",
        "Counter({'first_call-load_image': 1, 'last_call-kill_process': 1})"
       ]
      },
      {
       "output_type": "stream",
       "stream": "stdout",
       "text": [
        "\n",
        "Counter({'first_call-load_image': 1, 'last_call-process': 1})\n",
        "Counter({'first_call-load_image': 1, 'last_call-thread': 1})\n",
        "Counter({'first_call-load_image': 1, 'last_call-process': 1})\n",
        "Counter({'first_call-load_image': 1, 'last_call-kill_process': 1})"
       ]
      },
      {
       "output_type": "stream",
       "stream": "stdout",
       "text": [
        "\n",
        "Counter({'first_call-load_image': 1, 'last_call-enum_window': 1})\n",
        "Counter({'first_call-load_image': 1, 'last_call-thread': 1})"
       ]
      },
      {
       "output_type": "stream",
       "stream": "stdout",
       "text": [
        "\n",
        "Counter({'first_call-load_image': 1, 'last_call-load_dll': 1})"
       ]
      },
      {
       "output_type": "stream",
       "stream": "stdout",
       "text": [
        "\n",
        "Counter({'first_call-load_image': 1, 'last_call-thread': 1})\n",
        "Counter({'first_call-load_image': 1, 'last_call-kill_process': 1})\n",
        "Counter({'first_call-load_image': 1, 'last_call-enum_window': 1})\n",
        "Counter({'first_call-load_image': 1, 'last_call-process': 1})\n",
        "Counter({'first_call-load_image': 1, 'last_call-thread': 1})"
       ]
      },
      {
       "output_type": "stream",
       "stream": "stdout",
       "text": [
        "\n",
        "Counter({'first_call-load_image': 1, 'last_call-kill_process': 1})\n",
        "Counter({'first_call-load_image': 1, 'last_call-thread': 1})\n",
        "Counter({'first_call-load_image': 1, 'last_call-enum_window': 1})\n",
        "Counter({'first_call-load_image': 1, 'last_call-thread': 1})"
       ]
      },
      {
       "output_type": "stream",
       "stream": "stdout",
       "text": [
        "\n",
        "Counter({'first_call-load_image': 1, 'last_call-process': 1})\n",
        "Counter({'first_call-load_image': 1, 'last_call-thread': 1})\n",
        "Counter({'first_call-load_image': 1, 'last_call-kill_process': 1})\n",
        "Counter({'first_call-load_image': 1, 'last_call-enum_window': 1})\n",
        "Counter({'first_call-load_image': 1, 'last_call-thread': 1})"
       ]
      },
      {
       "output_type": "stream",
       "stream": "stdout",
       "text": [
        "\n",
        "Counter({'first_call-load_image': 1, 'last_call-thread': 1})\n",
        "Counter({'first_call-load_image': 1, 'last_call-process': 1})\n",
        "Counter({'first_call-load_image': 1, 'last_call-enum_window': 1})"
       ]
      },
      {
       "output_type": "stream",
       "stream": "stdout",
       "text": [
        "\n",
        "Counter({'first_call-load_image': 1, 'last_call-process': 1})\n",
        "Counter({'first_call-load_image': 1, 'last_call-kill_process': 1})\n",
        "Counter({'first_call-load_image': 1, 'last_call-process': 1})\n",
        "Counter({'first_call-load_image': 1, 'last_call-thread': 1})"
       ]
      },
      {
       "output_type": "stream",
       "stream": "stdout",
       "text": [
        "\n",
        "Counter({'first_call-load_image': 1, 'last_call-thread': 1})"
       ]
      },
      {
       "output_type": "stream",
       "stream": "stdout",
       "text": [
        "\n",
        "Counter({'first_call-load_image': 1, 'last_call-thread': 1})"
       ]
      },
      {
       "output_type": "stream",
       "stream": "stdout",
       "text": [
        "\n",
        "Counter({'first_call-load_image': 1, 'last_call-process': 1})"
       ]
      },
      {
       "output_type": "stream",
       "stream": "stdout",
       "text": [
        "\n",
        "Counter({'first_call-load_image': 1, 'last_call-thread': 1})"
       ]
      },
      {
       "output_type": "stream",
       "stream": "stdout",
       "text": [
        "\n",
        "Counter({'first_call-load_image': 1, 'last_call-process': 1})"
       ]
      },
      {
       "output_type": "stream",
       "stream": "stdout",
       "text": [
        "\n",
        "Counter({'first_call-load_image': 1, 'last_call-kill_process': 1})\n",
        "Counter({'first_call-load_image': 1, 'last_call-kill_process': 1})\n",
        "Counter({'first_call-load_image': 1, 'last_call-check_for_debugger': 1})\n",
        "Counter({'first_call-load_image': 1, 'last_call-kill_process': 1})\n",
        "Counter({'first_call-load_image': 1, 'last_call-thread': 1})"
       ]
      },
      {
       "output_type": "stream",
       "stream": "stdout",
       "text": [
        "\n",
        "Counter({'first_call-load_image': 1, 'last_call-thread': 1})"
       ]
      },
      {
       "output_type": "stream",
       "stream": "stdout",
       "text": [
        "\n",
        "Counter({'first_call-load_image': 1, 'last_call-load_dll': 1})\n",
        "Counter({'first_call-load_image': 1, 'last_call-thread': 1})\n",
        "Counter({'first_call-load_image': 1, 'last_call-enum_window': 1})\n",
        "Counter({'first_call-load_image': 1, 'last_call-thread': 1})"
       ]
      },
      {
       "output_type": "stream",
       "stream": "stdout",
       "text": [
        "\n",
        "Counter({'first_call-load_image': 1, 'last_call-thread': 1})"
       ]
      },
      {
       "output_type": "stream",
       "stream": "stdout",
       "text": [
        "\n",
        "Counter({'first_call-load_image': 1, 'last_call-kill_process': 1})\n",
        "Counter({'first_call-load_image': 1, 'last_call-kill_process': 1})\n",
        "Counter({'first_call-load_image': 1, 'last_call-enum_window': 1})\n",
        "Counter({'first_call-load_image': 1, 'last_call-kill_process': 1})\n",
        "Counter({'first_call-load_image': 1, 'last_call-kill_process': 1})\n",
        "Counter({'first_call-load_image': 1, 'last_call-enum_window': 1})\n",
        "Counter({'first_call-load_image': 1, 'last_call-kill_process': 1})"
       ]
      },
      {
       "output_type": "stream",
       "stream": "stdout",
       "text": [
        "\n",
        "Counter({'first_call-load_image': 1, 'last_call-thread': 1})\n",
        "Counter({'first_call-load_image': 1, 'last_call-process': 1})\n",
        "Counter({'first_call-load_image': 1, 'last_call-thread': 1})\n",
        "Counter({'first_call-load_image': 1, 'last_call-enum_window': 1})"
       ]
      },
      {
       "output_type": "stream",
       "stream": "stdout",
       "text": [
        "\n",
        "Counter({'first_call-load_image': 1, 'last_call-load_dll': 1})\n",
        "Counter({'first_call-load_image': 1, 'last_call-load_dll': 1})\n",
        "Counter({'first_call-load_image': 1, 'last_call-thread': 1})\n",
        "Counter({'first_call-load_image': 1, 'last_call-enum_window': 1})\n",
        "Counter({'first_call-load_image': 1, 'last_call-kill_process': 1})\n",
        "Counter({'first_call-load_image': 1, 'last_call-thread': 1})"
       ]
      },
      {
       "output_type": "stream",
       "stream": "stdout",
       "text": [
        "\n",
        "Counter({'first_call-load_image': 1, 'last_call-kill_process': 1})"
       ]
      },
      {
       "output_type": "stream",
       "stream": "stdout",
       "text": [
        "\n",
        "Counter({'first_call-load_image': 1, 'last_call-load_dll': 1})\n",
        "Counter({'first_call-load_image': 1, 'last_call-thread': 1})\n",
        "Counter({'first_call-load_image': 1, 'last_call-thread': 1})"
       ]
      },
      {
       "output_type": "stream",
       "stream": "stdout",
       "text": [
        "\n",
        "Counter({'first_call-load_image': 1, 'last_call-kill_process': 1})\n",
        "Counter({'first_call-load_image': 1, 'last_call-thread': 1})\n",
        "Counter({'first_call-load_image': 1, 'last_call-thread': 1})\n",
        "Counter({'first_call-load_image': 1, 'last_call-thread': 1})\n",
        "Counter({'first_call-load_image': 1, 'last_call-process': 1})\n",
        "Counter({'first_call-load_image': 1, 'last_call-kill_process': 1})"
       ]
      },
      {
       "output_type": "stream",
       "stream": "stdout",
       "text": [
        "\n",
        "Counter({'first_call-load_image': 1, 'last_call-kill_process': 1})\n",
        "Counter({'first_call-load_image': 1, 'last_call-process': 1})\n",
        "Counter({'first_call-load_image': 1, 'last_call-process': 1})\n",
        "Counter({'first_call-load_image': 1, 'last_call-thread': 1})"
       ]
      },
      {
       "output_type": "stream",
       "stream": "stdout",
       "text": [
        "\n",
        "Counter({'first_call-load_image': 1, 'last_call-kill_process': 1})\n",
        "Counter({'first_call-load_image': 1, 'last_call-kill_process': 1})\n",
        "Counter({'first_call-load_image': 1, 'last_call-kill_process': 1})\n",
        "Counter({'first_call-load_image': 1, 'last_call-thread': 1})"
       ]
      },
      {
       "output_type": "stream",
       "stream": "stdout",
       "text": [
        "\n",
        "Counter({'first_call-load_image': 1, 'last_call-dump_line': 1})"
       ]
      },
      {
       "output_type": "stream",
       "stream": "stdout",
       "text": [
        "\n",
        "Counter({'first_call-load_image': 1, 'last_call-thread': 1})\n",
        "Counter({'first_call-load_image': 1, 'last_call-process': 1})\n",
        "Counter({'first_call-load_image': 1, 'last_call-thread': 1})\n",
        "Counter({'first_call-load_image': 1, 'last_call-enum_window': 1})"
       ]
      },
      {
       "output_type": "stream",
       "stream": "stdout",
       "text": [
        "\n",
        "Counter({'first_call-load_image': 1, 'last_call-enum_window': 1})"
       ]
      },
      {
       "output_type": "stream",
       "stream": "stdout",
       "text": [
        "\n",
        "Counter({'first_call-load_image': 1, 'last_call-thread': 1})"
       ]
      },
      {
       "output_type": "stream",
       "stream": "stdout",
       "text": [
        "\n",
        "Counter({'first_call-load_image': 1, 'last_call-thread': 1})\n",
        "Counter({'first_call-load_image': 1, 'last_call-kill_process': 1})\n",
        "Counter({'first_call-load_image': 1, 'last_call-thread': 1})"
       ]
      },
      {
       "output_type": "stream",
       "stream": "stdout",
       "text": [
        "\n",
        "Counter({'first_call-load_image': 1, 'last_call-load_dll': 1})\n",
        "Counter({'first_call-load_image': 1, 'last_call-check_for_debugger': 1})"
       ]
      },
      {
       "output_type": "stream",
       "stream": "stdout",
       "text": [
        "\n",
        "Counter({'first_call-load_image': 1, 'last_call-thread': 1})\n",
        "Counter({'first_call-load_image': 1, 'last_call-load_dll': 1})\n"
       ]
      }
     ],
     "prompt_number": 33
    },
    {
     "cell_type": "code",
     "collapsed": false,
     "input": [
      "Y_trainarray=X_train.toarray()"
     ],
     "language": "python",
     "metadata": {},
     "outputs": [],
     "prompt_number": 42
    },
    {
     "cell_type": "code",
     "collapsed": false,
     "input": [],
     "language": "python",
     "metadata": {},
     "outputs": [
      {
       "ename": "TypeError",
       "evalue": "'tuple' object is not callable",
       "output_type": "pyerr",
       "traceback": [
        "\u001b[0;31m---------------------------------------------------------------------------\u001b[0m\n\u001b[0;31mTypeError\u001b[0m                                 Traceback (most recent call last)",
        "\u001b[0;32m<ipython-input-43-3b55a036dc03>\u001b[0m in \u001b[0;36m<module>\u001b[0;34m()\u001b[0m\n\u001b[0;32m----> 1\u001b[0;31m \u001b[0mY_trainarray\u001b[0m\u001b[0;34m.\u001b[0m\u001b[0mshape\u001b[0m\u001b[0;34m(\u001b[0m\u001b[0;34m)\u001b[0m\u001b[0;34m\u001b[0m\u001b[0m\n\u001b[0m",
        "\u001b[0;31mTypeError\u001b[0m: 'tuple' object is not callable"
       ]
      }
     ],
     "prompt_number": 43
    },
    {
     "cell_type": "code",
     "collapsed": false,
     "input": [
      "from sklearn.ensemble import RandomForestClassifier\n",
      "\n",
      "\n",
      "y = []\n",
      "\n",
      "for i in range(50,100):\n",
      "    clf = RandomForestClassifier(n_estimators=i, criterion=\"gini\")\n",
      "    y_pred = clf.fit(X_train.toarray(), t_train).predict(X_train.todense())\n",
      "\n",
      "    y.append((t_train != y_pred).sum())\n",
      "\n",
      "z = np.polyfit(x, y, 15)\n",
      "f = np.poly1d(z)\n",
      "\n",
      "x_new = x\n",
      "y_new = f(x_new)\n"
     ],
     "language": "python",
     "metadata": {},
     "outputs": [],
     "prompt_number": 47
    },
    {
     "cell_type": "code",
     "collapsed": false,
     "input": [
      "X_test"
     ],
     "language": "python",
     "metadata": {},
     "outputs": [
      {
       "metadata": {},
       "output_type": "pyout",
       "prompt_number": 48,
       "text": [
        "<3724x42 sparse matrix of type '<type 'numpy.int64'>'\n",
        "\twith 11172 stored elements in Compressed Sparse Row format>"
       ]
      }
     ],
     "prompt_number": 48
    },
    {
     "cell_type": "code",
     "collapsed": false,
     "input": [
      "y_pred4[1000]"
     ],
     "language": "python",
     "metadata": {},
     "outputs": [
      {
       "metadata": {},
       "output_type": "pyout",
       "prompt_number": 20,
       "text": [
        "10"
       ]
      }
     ],
     "prompt_number": 20
    },
    {
     "cell_type": "code",
     "collapsed": false,
     "input": [],
     "language": "python",
     "metadata": {},
     "outputs": [
      {
       "ename": "NameError",
       "evalue": "name 'X_test' is not defined",
       "output_type": "pyerr",
       "traceback": [
        "\u001b[0;31m---------------------------------------------------------------------------\u001b[0m\n\u001b[0;31mNameError\u001b[0m                                 Traceback (most recent call last)",
        "\u001b[0;32m<ipython-input-32-0fb4da1150c1>\u001b[0m in \u001b[0;36m<module>\u001b[0;34m()\u001b[0m\n\u001b[0;32m----> 1\u001b[0;31m \u001b[0mX_test\u001b[0m\u001b[0;34m\u001b[0m\u001b[0m\n\u001b[0m",
        "\u001b[0;31mNameError\u001b[0m: name 'X_test' is not defined"
       ]
      }
     ],
     "prompt_number": 32
    },
    {
     "cell_type": "code",
     "collapsed": false,
     "input": [
      "len(y_pred4)"
     ],
     "language": "python",
     "metadata": {},
     "outputs": [
      {
       "metadata": {},
       "output_type": "pyout",
       "prompt_number": 27,
       "text": [
        "3086"
       ]
      }
     ],
     "prompt_number": 27
    },
    {
     "cell_type": "code",
     "collapsed": false,
     "input": [
      "import csv\n",
      "with open('predictions.csv', 'w') as csvfile:\n",
      "    fieldnames = ['Id', 'Prediction']\n",
      "    writer = csv.DictWriter(csvfile, fieldnames=fieldnames)\n",
      "\n",
      "    writer.writeheader()\n",
      "    for i in range(len(train_ids)):\n",
      "        writer.writerow({'Id':train_ids[i],'Prediction':y_pred4[i]})"
     ],
     "language": "python",
     "metadata": {},
     "outputs": [],
     "prompt_number": 31
    },
    {
     "cell_type": "code",
     "collapsed": false,
     "input": [],
     "language": "python",
     "metadata": {},
     "outputs": []
    }
   ],
   "metadata": {}
  }
 ]
}